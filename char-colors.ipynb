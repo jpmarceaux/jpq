{
 "cells": [
  {
   "cell_type": "code",
   "execution_count": 98,
   "id": "planned-regulation",
   "metadata": {},
   "outputs": [],
   "source": [
    "import numpy as np\n",
    "import scipy.interpolate as intp\n",
    "import matplotlib.pyplot as plt\n",
    "from numpy import cos, sin"
   ]
  },
  {
   "cell_type": "code",
   "execution_count": 117,
   "id": "associate-dominant",
   "metadata": {},
   "outputs": [],
   "source": [
    "# get color matching functions\n",
    "MF = np.genfromtxt(\"CMF_5nm.csv\", delimiter=',')\n",
    "cmf = MF[:, 1:4]\n",
    "abeam = np.ones(cmf.shape[0])\n",
    "wtpt = cmf.T@abeam"
   ]
  },
  {
   "cell_type": "code",
   "execution_count": 118,
   "id": "concrete-metabolism",
   "metadata": {},
   "outputs": [],
   "source": [
    "# add purple points\n",
    "ucmf = [c/np.linalg.norm(c) for c in cmf]\n",
    "coeffs = np.linspace(0, 1, 30)\n",
    "c1 = cmf[-1]/np.linalg.norm(cmf[-1])\n",
    "c0 = cmf[0]/np.linalg.norm(cmf[0])\n",
    "mixture = []\n",
    "for c in coeffs:\n",
    "    mix = c*c0 + (1-c)*c1\n",
    "    mixture.append(mix/np.linalg.norm(mix))\n",
    "units = np.concatenate((ucmf, mixture))"
   ]
  },
  {
   "cell_type": "code",
   "execution_count": 120,
   "id": "economic-blackjack",
   "metadata": {},
   "outputs": [],
   "source": [
    "# spline from points\n",
    "I = np.linspace(0, 2*np.pi, len(units))\n",
    "x_spline = intp.make_interp_spline(I, units[:, 0])\n",
    "y_spline = intp.make_interp_spline(I, units[:, 1])\n",
    "z_spline = intp.make_interp_spline(I, units[:, 2])"
   ]
  },
  {
   "cell_type": "code",
   "execution_count": 121,
   "id": "japanese-surveillance",
   "metadata": {},
   "outputs": [],
   "source": [
    "trials = 100000"
   ]
  },
  {
   "cell_type": "code",
   "execution_count": 122,
   "id": "opponent-newsletter",
   "metadata": {},
   "outputs": [],
   "source": [
    "vec = lambda s: np.array([x_spline(s), y_spline(s), z_spline(s)])\n",
    "input_pts = np.linspace(0, 2*np.pi, trials + 1)\n",
    "spline_pts = vec(input_pts)"
   ]
  },
  {
   "cell_type": "markdown",
   "id": "enhanced-specialist",
   "metadata": {},
   "source": [
    "the white point is not on an axis. perhaps we can rotate the axis!?"
   ]
  },
  {
   "cell_type": "code",
   "execution_count": 232,
   "id": "medieval-television",
   "metadata": {},
   "outputs": [
    {
     "data": {
      "text/plain": [
       "array([0.57731787, 0.57728924, 0.57744368])"
      ]
     },
     "execution_count": 232,
     "metadata": {},
     "output_type": "execute_result"
    }
   ],
   "source": [
    "# want to move [x,y,z] to [0,r,0]\n",
    "uwtpt = wtpt/np.linalg.norm(wtpt)\n",
    "uwtpt"
   ]
  },
  {
   "cell_type": "code",
   "execution_count": 233,
   "id": "simplified-marshall",
   "metadata": {},
   "outputs": [],
   "source": [
    "# http://scipp.ucsc.edu/~haber/ph216/rotation_12.pdf\n",
    "def get_rot_matrix(n, t):\n",
    "    n1,n2,n3 = n[0],n[1],n[2]\n",
    "    return np.array([\n",
    "        [cos(t) + n1*n1 * (1 - cos(t)), n1*n2*(1 - cos(t)) - n3*sin(t), n1*n3*(1 - cos(t)) + n2*sin(t)],\n",
    "        [n1*n2*(1 - cos(t)) + n3*sin(t), cos(t) + n2*n2*(1 - cos(t)), n2*n3*(1 - cos(t)) - n1*sin(t)],\n",
    "        [n1*n3*(1 - cos(t)) - n2*sin(t), n2*n3*(1 - cos(t)) + n1*sin(t), cos(t) + n3*n3*(1 - cos(t))],\n",
    "    ])"
   ]
  },
  {
   "cell_type": "code",
   "execution_count": 234,
   "id": "raised-virgin",
   "metadata": {},
   "outputs": [],
   "source": [
    "cross = np.cross(uwtpt, [0,1,0])\n",
    "theta = np.arccos(np.dot(uwtpt, [0,1,0]))\n",
    "assert np.allclose(uwtpt, get_rot_matrix(cross/np.linalg.norm(cross), -theta) @ [0,1,0])\n",
    "assert np.allclose([0,1,0], get_rot_matrix(cross/np.linalg.norm(cross), theta) @ uwtpt)"
   ]
  },
  {
   "cell_type": "code",
   "execution_count": 235,
   "id": "sufficient-yesterday",
   "metadata": {},
   "outputs": [],
   "source": [
    "rot = get_rot_matrix(cross/np.linalg.norm(cross), theta)"
   ]
  },
  {
   "cell_type": "code",
   "execution_count": 236,
   "id": "oriental-bruce",
   "metadata": {},
   "outputs": [],
   "source": [
    "# some extra magic to make sure we get the whole angle from [0,2pi)\n",
    "get_theta = lambda v:  np.sign(v[2])*np.arccos(v[0] / (v[0]**2 + v[2]**2)**0.5) \\\n",
    "     - np.sign(v[2]) * np.pi + np.pi"
   ]
  },
  {
   "cell_type": "code",
   "execution_count": 237,
   "id": "civil-desperate",
   "metadata": {},
   "outputs": [],
   "source": [
    "thetas = get_theta(rot @ spline_pts)"
   ]
  },
  {
   "cell_type": "code",
   "execution_count": 238,
   "id": "addressed-check",
   "metadata": {},
   "outputs": [
    {
     "data": {
      "text/plain": [
       "[<matplotlib.lines.Line2D at 0x7f9c3117d0d0>]"
      ]
     },
     "execution_count": 238,
     "metadata": {},
     "output_type": "execute_result"
    },
    {
     "data": {
      "image/png": "[encoded data removed]",
      "text/plain": [
       "<Figure size 432x288 with 1 Axes>"
      ]
     },
     "metadata": {
      "needs_background": "light"
     },
     "output_type": "display_data"
    }
   ],
   "source": [
    "plt.plot(thetas)"
   ]
  },
  {
   "cell_type": "markdown",
   "id": "unauthorized-bahamas",
   "metadata": {},
   "source": [
    "What next? Were we going to cut them evenly to get evenly spaced characteristic points?"
   ]
  },
  {
   "cell_type": "code",
   "execution_count": null,
   "id": "behavioral-conclusion",
   "metadata": {},
   "outputs": [],
   "source": []
  },
  {
   "cell_type": "code",
   "execution_count": null,
   "id": "coordinated-graham",
   "metadata": {},
   "outputs": [],
   "source": []
  },
  {
   "cell_type": "code",
   "execution_count": null,
   "id": "above-classroom",
   "metadata": {},
   "outputs": [],
   "source": []
  },
  {
   "cell_type": "code",
   "execution_count": null,
   "id": "everyday-house",
   "metadata": {},
   "outputs": [],
   "source": []
  },
  {
   "cell_type": "code",
   "execution_count": null,
   "id": "ceramic-petersburg",
   "metadata": {},
   "outputs": [],
   "source": []
  },
  {
   "cell_type": "code",
   "execution_count": null,
   "id": "collected-consideration",
   "metadata": {},
   "outputs": [],
   "source": []
  },
  {
   "cell_type": "code",
   "execution_count": 174,
   "id": "through-quality",
   "metadata": {},
   "outputs": [],
   "source": [
    "unit_vectors = [c/np.linalg.norm(c) for c in MF[:, 1:]]"
   ]
  },
  {
   "cell_type": "code",
   "execution_count": 175,
   "id": "viral-album",
   "metadata": {},
   "outputs": [
    {
     "data": {
      "text/plain": [
       "[array([0.19989786, 0.02198637, 0.97957003]),\n",
       " array([0.19940422, 0.0225193 , 0.97965853]),\n",
       " array([0.19797038, 0.02192392, 0.97996279]),\n",
       " array([0.19625343, 0.02057178, 0.98033739]),\n",
       " array([0.19476141, 0.01975034, 0.98065178]),\n",
       " array([0.1923011 , 0.01900623, 0.9811519 ]),\n",
       " array([0.18998307, 0.01892029, 0.98160504]),\n",
       " array([0.18727882, 0.01965793, 0.98211008]),\n",
       " array([0.18465726, 0.02100181, 0.98257856]),\n",
       " array([0.18147028, 0.02338154, 0.98311843]),\n",
       " array([0.17863853, 0.02582028, 0.98357592]),\n",
       " array([0.17535157, 0.02946082, 0.98406498]),\n",
       " array([0.17174471, 0.03447186, 0.98453819]),\n",
       " array([0.16727485, 0.04283494, 0.98497934]),\n",
       " array([0.16089319, 0.05512418, 0.98543123]),\n",
       " array([0.15314465, 0.07314034, 0.98549338]),\n",
       " array([0.14224744, 0.10225956, 0.98453474]),\n",
       " array([0.12676772, 0.15062606, 0.98042936]),\n",
       " array([0.10485279, 0.2291143 , 0.96773578]),\n",
       " array([0.07664979, 0.34399756, 0.93583678]),\n",
       " array([0.04392617, 0.5014796 , 0.86405364]),\n",
       " array([0.01683351, 0.67608874, 0.73662789]),\n",
       " array([0.00583705, 0.826035  , 0.5635886 ]),\n",
       " array([0.00791476, 0.92777447, 0.37305748]),\n",
       " array([0.02916465, 0.97496648, 0.2204309 ]),\n",
       " array([0.06875512, 0.98886439, 0.13198466]),\n",
       " array([0.1098793 , 0.9908821 , 0.07796926]),\n",
       " array([0.15746033, 0.98642643, 0.04657408]),\n",
       " array([0.20730583, 0.97788105, 0.02780189]),\n",
       " array([0.25623288, 0.96647105, 0.01668619]),\n",
       " array([0.30871946, 0.95110253, 0.00981176]),\n",
       " array([0.36142049, 0.93238474, 0.00582513]),\n",
       " array([0.41369727, 0.91040782, 0.00348901]),\n",
       " array([0.46712438, 0.88418922, 0.00205878]),\n",
       " array([0.52408414, 0.85166561, 0.00122364]),\n",
       " array([5.78152617e-01, 8.15928320e-01, 7.26939386e-04]),\n",
       " array([6.33461754e-01, 7.73773880e-01, 4.33484610e-04]),\n",
       " array([6.84675151e-01, 7.28848317e-01, 2.61913200e-04]),\n",
       " array([7.32274977e-01, 6.81009055e-01, 1.60897387e-04]),\n",
       " array([7.74389646e-01, 6.32708991e-01, 9.83656863e-05]),\n",
       " array([8.07182061e-01, 5.90302564e-01, 6.17839797e-05]),\n",
       " array([8.34713648e-01, 5.50684232e-01, 3.98569965e-05]),\n",
       " array([8.57086784e-01, 5.15172053e-01, 2.64316273e-05]),\n",
       " array([8.75272866e-01, 4.83629414e-01, 1.80085500e-05]),\n",
       " array([8.88978747e-01, 4.57948454e-01, 1.27502373e-05]),\n",
       " array([8.99398082e-01, 4.37130518e-01, 9.36042958e-06]),\n",
       " array([0.90757725, 0.41988515, 0.        ]),\n",
       " array([0.91408496, 0.40552273, 0.        ]),\n",
       " array([0.91851331, 0.39539005, 0.        ]),\n",
       " array([0.92200328, 0.38718207, 0.        ]),\n",
       " array([0.92502375, 0.37990927, 0.        ]),\n",
       " array([0.92769236, 0.37334554, 0.        ]),\n",
       " array([0.92909849, 0.36983239, 0.        ]),\n",
       " array([0.93031819, 0.3667534 , 0.        ]),\n",
       " array([0.93146648, 0.36382715, 0.        ]),\n",
       " array([0.93238073, 0.36147777, 0.        ]),\n",
       " array([0.93293634, 0.36004137, 0.        ]),\n",
       " array([0.93332713, 0.35902711, 0.        ]),\n",
       " array([0.93359987, 0.3583173 , 0.        ]),\n",
       " array([0.93378529, 0.35783382, 0.        ]),\n",
       " array([0.93389627, 0.35754406, 0.        ]),\n",
       " array([0.93397224, 0.35734558, 0.        ]),\n",
       " array([0.93398426, 0.35731414, 0.        ]),\n",
       " array([0.93398483, 0.35731267, 0.        ]),\n",
       " array([0.93394806, 0.35740876, 0.        ]),\n",
       " array([0.93385694, 0.35764677, 0.        ]),\n",
       " array([0.93376146, 0.357896  , 0.        ]),\n",
       " array([0.93364489, 0.35819997, 0.        ]),\n",
       " array([0.93351646, 0.35853454, 0.        ]),\n",
       " array([0.93337784, 0.35889527, 0.        ]),\n",
       " array([0.93319821, 0.35936207, 0.        ]),\n",
       " array([0.93298463, 0.35991621, 0.        ]),\n",
       " array([0.93277063, 0.36047046, 0.        ]),\n",
       " array([0.9325539 , 0.36103078, 0.        ]),\n",
       " array([0.93231986, 0.36163473, 0.        ]),\n",
       " array([0.93209689, 0.36220904, 0.        ]),\n",
       " array([0.93188491, 0.36275406, 0.        ]),\n",
       " array([0.93165997, 0.36333139, 0.        ]),\n",
       " array([0.93141756, 0.36395238, 0.        ]),\n",
       " array([0.93116294, 0.36460332, 0.        ]),\n",
       " array([0.93090027, 0.36527344, 0.        ]),\n",
       " array([0.9306219 , 0.36598208, 0.        ]),\n",
       " array([0.93029641, 0.36680865, 0.        ]),\n",
       " array([0.92995671, 0.36766904, 0.        ]),\n",
       " array([0.92961307, 0.36853701, 0.        ]),\n",
       " array([0.92926601, 0.36941128, 0.        ]),\n",
       " array([0.92893607, 0.37024016, 0.        ]),\n",
       " array([0.92864464, 0.37097053, 0.        ]),\n",
       " array([0.92840402, 0.37157231, 0.        ])]"
      ]
     },
     "execution_count": 175,
     "metadata": {},
     "output_type": "execute_result"
    }
   ],
   "source": [
    "unit_vectors"
   ]
  },
  {
   "cell_type": "code",
   "execution_count": null,
   "id": "dedicated-organization",
   "metadata": {},
   "outputs": [],
   "source": []
  }
 ],
 "metadata": {
  "kernelspec": {
   "display_name": "Python 3",
   "language": "python",
   "name": "python3"
  },
  "language_info": {
   "codemirror_mode": {
    "name": "ipython",
    "version": 3
   },
   "file_extension": ".py",
   "mimetype": "text/x-python",
   "name": "python",
   "nbconvert_exporter": "python",
   "pygments_lexer": "ipython3",
   "version": "3.8.8"
  }
 },
 "nbformat": 4,
 "nbformat_minor": 5
}
