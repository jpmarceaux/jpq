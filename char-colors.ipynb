{
 "cells": [
  {
   "cell_type": "code",
   "execution_count": 1,
   "id": "alive-ethiopia",
   "metadata": {},
   "outputs": [],
   "source": [
    "show_plots = False"
   ]
  },
  {
   "cell_type": "code",
   "execution_count": 2,
   "id": "ambient-saudi",
   "metadata": {},
   "outputs": [],
   "source": [
    "import numpy as np\n",
    "import scipy.interpolate as intp\n",
    "import matplotlib.pyplot as plt\n",
    "from numpy import cos, sin\n",
    "from mpl_toolkits.mplot3d import axes3d\n",
    "from colormath.color_objects import sRGBColor, XYZColor\n",
    "from colormath.color_conversions import convert_color"
   ]
  },
  {
   "cell_type": "code",
   "execution_count": 3,
   "id": "generous-island",
   "metadata": {},
   "outputs": [],
   "source": [
    "# get color matching functions\n",
    "MF = np.genfromtxt(\"CMF_5nm.csv\", delimiter=',')\n",
    "cmf = MF[:, 1:4]\n",
    "Norm = sum(cmf)    \n",
    "abeam = np.ones(cmf.shape[0])\n",
    "wtpt = cmf.T@abeam"
   ]
  },
  {
   "cell_type": "code",
   "execution_count": 4,
   "id": "ambient-daisy",
   "metadata": {},
   "outputs": [],
   "source": [
    "# add purple points\n",
    "ucmf = [c/np.linalg.norm(c) for c in cmf]\n",
    "coeffs = np.linspace(0, 1, 30)\n",
    "c1 = cmf[-1]/np.linalg.norm(cmf[-1])\n",
    "c0 = cmf[0]/np.linalg.norm(cmf[0])\n",
    "mixture = []\n",
    "for c in coeffs:\n",
    "    mix = c*c0 + (1-c)*c1\n",
    "    mixture.append(mix/np.linalg.norm(mix))\n",
    "units = np.concatenate((ucmf, mixture))"
   ]
  },
  {
   "cell_type": "code",
   "execution_count": 5,
   "id": "instructional-pharmacy",
   "metadata": {},
   "outputs": [],
   "source": [
    "# spline from points\n",
    "I = np.linspace(0, 2*np.pi, len(units))\n",
    "x_spline = intp.make_interp_spline(I, units[:, 0])\n",
    "y_spline = intp.make_interp_spline(I, units[:, 1])\n",
    "z_spline = intp.make_interp_spline(I, units[:, 2])"
   ]
  },
  {
   "cell_type": "code",
   "execution_count": 6,
   "id": "roman-security",
   "metadata": {},
   "outputs": [],
   "source": [
    "trials = 1000000"
   ]
  },
  {
   "cell_type": "code",
   "execution_count": 7,
   "id": "productive-credits",
   "metadata": {},
   "outputs": [],
   "source": [
    "vec = lambda s: np.array([x_spline(s), y_spline(s), z_spline(s)])\n",
    "input_pts = np.linspace(0, 2*np.pi, trials + 1)\n",
    "spline_pts = vec(input_pts)"
   ]
  },
  {
   "cell_type": "markdown",
   "id": "religious-satin",
   "metadata": {},
   "source": [
    "the white point is not on an axis. perhaps we can rotate the axis!?"
   ]
  },
  {
   "cell_type": "code",
   "execution_count": 8,
   "id": "postal-undergraduate",
   "metadata": {},
   "outputs": [],
   "source": [
    "# want to move [x,y,z] to [0,r,0]\n",
    "uwtpt = wtpt/np.linalg.norm(wtpt)"
   ]
  },
  {
   "cell_type": "code",
   "execution_count": 9,
   "id": "straight-advance",
   "metadata": {},
   "outputs": [],
   "source": [
    "# http://scipp.ucsc.edu/~haber/ph216/rotation_12.pdf\n",
    "def get_rot_matrix(n, t):\n",
    "    n1,n2,n3 = n[0],n[1],n[2]\n",
    "    return np.array([\n",
    "        [cos(t) + n1*n1 * (1 - cos(t)), n1*n2*(1 - cos(t)) - n3*sin(t), n1*n3*(1 - cos(t)) + n2*sin(t)],\n",
    "        [n1*n2*(1 - cos(t)) + n3*sin(t), cos(t) + n2*n2*(1 - cos(t)), n2*n3*(1 - cos(t)) - n1*sin(t)],\n",
    "        [n1*n3*(1 - cos(t)) - n2*sin(t), n2*n3*(1 - cos(t)) + n1*sin(t), cos(t) + n3*n3*(1 - cos(t))],\n",
    "    ])"
   ]
  },
  {
   "cell_type": "code",
   "execution_count": 10,
   "id": "phantom-conditions",
   "metadata": {},
   "outputs": [],
   "source": [
    "cross = np.cross(uwtpt, [0,1,0])\n",
    "theta = np.arccos(np.dot(uwtpt, [0,1,0]))\n",
    "assert np.allclose(uwtpt, get_rot_matrix(cross/np.linalg.norm(cross), -theta) @ [0,1,0])\n",
    "assert np.allclose([0,1,0], get_rot_matrix(cross/np.linalg.norm(cross), theta) @ uwtpt)"
   ]
  },
  {
   "cell_type": "code",
   "execution_count": 11,
   "id": "organizational-township",
   "metadata": {},
   "outputs": [],
   "source": [
    "rot = get_rot_matrix(cross/np.linalg.norm(cross), theta)"
   ]
  },
  {
   "cell_type": "code",
   "execution_count": 12,
   "id": "substantial-binary",
   "metadata": {},
   "outputs": [],
   "source": [
    "# some extra magic to make sure we get the whole angle from [0,2pi)\n",
    "get_theta = lambda v:  np.sign(v[2])*np.arccos(v[0] / (v[0]**2 + v[2]**2)**0.5) \\\n",
    "     - np.sign(v[2]) * np.pi + np.pi"
   ]
  },
  {
   "cell_type": "code",
   "execution_count": 13,
   "id": "comparative-progressive",
   "metadata": {},
   "outputs": [],
   "source": [
    "rotated_spline_pts = rot @ spline_pts"
   ]
  },
  {
   "cell_type": "code",
   "execution_count": 14,
   "id": "sorted-battery",
   "metadata": {},
   "outputs": [],
   "source": [
    "thetas = get_theta(rotated_spline_pts)"
   ]
  },
  {
   "cell_type": "code",
   "execution_count": 15,
   "id": "straight-agenda",
   "metadata": {},
   "outputs": [
    {
     "data": {
      "text/plain": [
       "[<matplotlib.lines.Line2D at 0x7f517efd88e0>]"
      ]
     },
     "execution_count": 15,
     "metadata": {},
     "output_type": "execute_result"
    },
    {
     "data": {
      "image/png": "[encoded data removed]",
      "text/plain": [
       "<Figure size 432x288 with 1 Axes>"
      ]
     },
     "metadata": {
      "needs_background": "light"
     },
     "output_type": "display_data"
    }
   ],
   "source": [
    "plt.plot(thetas)"
   ]
  },
  {
   "cell_type": "markdown",
   "id": "oriented-champagne",
   "metadata": {},
   "source": [
    "Now we have the x,y,z and theta value of each spline pt"
   ]
  },
  {
   "cell_type": "code",
   "execution_count": 16,
   "id": "military-salad",
   "metadata": {},
   "outputs": [],
   "source": [
    "# next goal: pick even points across theta"
   ]
  },
  {
   "cell_type": "code",
   "execution_count": 17,
   "id": "lyric-fossil",
   "metadata": {},
   "outputs": [],
   "source": [
    "N = 1000\n",
    "symmetric_thetas = np.arange(N)/N*2*np.pi\n",
    "# for each t:\n",
    "#   find the nearest spline point to t\n",
    "#   find the nearest spline potnt to t+pi\n",
    "# solve the matrix"
   ]
  },
  {
   "cell_type": "code",
   "execution_count": 18,
   "id": "danish-garlic",
   "metadata": {},
   "outputs": [],
   "source": [
    "# if we need perf boost:\n",
    "# use https://stackoverflow.com/questions/2566412/find-nearest-value-in-numpy-array\n",
    "\n",
    "indices = []\n",
    "complement_indices = []\n",
    "\n",
    "for t in symmetric_thetas:\n",
    "    closest_pt = np.argmin(abs(thetas - t))\n",
    "    tolerance = abs(t -thetas[closest_pt])\n",
    "    assert tolerance < 1e-3, \"delta theta for \" + str(t) + \":\" +  tolerance\n",
    "    indices.append(closest_pt)\n",
    "    \n",
    "    t_plus_pi = (t + np.pi) % (2*np.pi)\n",
    "    closest_complement_pt = np.argmin(abs(t_plus_pi - thetas))\n",
    "    tolerance = abs(t_plus_pi -thetas[closest_complement_pt])\n",
    "    assert tolerance < 1e-3, \"delta theta for \" + str(t_plus_pi) + \":\" + tolerance\n",
    "    complement_indices.append(closest_complement_pt)"
   ]
  },
  {
   "cell_type": "raw",
   "id": "coordinate-annotation",
   "metadata": {},
   "source": [
    "Now get the char color point\n",
    "\n",
    "(vx(t), vx(t+pi)) ( k ) = (0)\n",
    "(vy(t), vy(t+pi)) ( l ) = (|wtpt|)"
   ]
  },
  {
   "cell_type": "code",
   "execution_count": 19,
   "id": "joint-aviation",
   "metadata": {},
   "outputs": [
    {
     "name": "stdout",
     "output_type": "stream",
     "text": [
      "diff for t=1.5707963267948966 too high, trying again..\n",
      "diff for t=4.71238898038469 too high, trying again..\n"
     ]
    }
   ],
   "source": [
    "char_pts = []\n",
    "for i in range(N):\n",
    "    vt = rotated_spline_pts[:, indices[i]]\n",
    "    vt_plus_pi = rotated_spline_pts[:, complement_indices[i]]\n",
    "\n",
    "    matrix = np.array([\n",
    "        vt[0:2],\n",
    "        vt_plus_pi[0:2]\n",
    "    ]).T\n",
    "\n",
    "    k, l = np.linalg.inv(matrix) @ [0, np.linalg.norm(wtpt)]\n",
    "\n",
    "    # check step\n",
    "    diff = np.linalg.norm(k * vt - (rot @ wtpt - l * vt_plus_pi))\n",
    "    try:\n",
    "        assert diff < .01, \"norm of difference of k vt and complement vector at theta=\" + str(symmetric_thetas[i]) + \":\" + diff\n",
    "    except:\n",
    "        print('diff for t=' + str(symmetric_thetas[i]) + ' too high, trying again..')\n",
    "        # maybe the x vector is really small. use z instead.\n",
    "        matrix = np.array([\n",
    "            vt[1:3],\n",
    "            vt_plus_pi[1:3]\n",
    "        ]).T\n",
    "\n",
    "        k, l = np.linalg.inv(matrix) @ [np.linalg.norm(wtpt), 0]\n",
    "        # check step\n",
    "        diff = np.linalg.norm(k * vt - (rot @ wtpt - l * vt_plus_pi))\n",
    "        assert diff < .01, \"norm of difference of k vt and complement vector at theta=\" + str(symmetric_thetas[i]) + \":\" + diff\n",
    "\n",
    "    char_pts.append(k * vt)"
   ]
  },
  {
   "cell_type": "markdown",
   "id": "cross-billion",
   "metadata": {},
   "source": [
    "now get the char points in the original space"
   ]
  },
  {
   "cell_type": "code",
   "execution_count": 20,
   "id": "responsible-shanghai",
   "metadata": {},
   "outputs": [],
   "source": [
    "orig_char_pts = [np.linalg.inv(rot) @ c for c in char_pts]"
   ]
  },
  {
   "cell_type": "code",
   "execution_count": 21,
   "id": "verbal-import",
   "metadata": {},
   "outputs": [],
   "source": [
    "def clip2rgb(xyz):\n",
    "    if type(xyz) is not XYZColor:\n",
    "        xyz = XYZColor(xyz[0], xyz[1], xyz[2])\n",
    "    crgb = convert_color(xyz, sRGBColor)\n",
    "    r = crgb.rgb_r\n",
    "    g = crgb.rgb_g\n",
    "    b = crgb.rgb_b\n",
    "    r = r if r > 0 else 0\n",
    "    g = g if g > 0 else 0\n",
    "    b = b if b > 0 else 0\n",
    "    r = r if r < 1 else 1\n",
    "    g = g if g < 1 else 1\n",
    "    b = b if b < 1 else 1\n",
    "    return [r, g, b]"
   ]
  },
  {
   "cell_type": "code",
   "execution_count": 22,
   "id": "initial-surgeon",
   "metadata": {},
   "outputs": [],
   "source": [
    "import matplotlib \n",
    "if show_plots:\n",
    "    matplotlib.use('Qt5Agg')\n",
    "    %matplotlib"
   ]
  },
  {
   "cell_type": "code",
   "execution_count": 23,
   "id": "speaking-agent",
   "metadata": {},
   "outputs": [],
   "source": [
    "if show_plots:\n",
    "    fig = plt.figure()\n",
    "    ax = fig.gca(projection='3d')\n",
    "    for c in orig_char_pts:\n",
    "        ax.scatter(c[0], c[1], c[2], color=clip2rgb(c))\n",
    "\n",
    "    half_pts = int(len(orig_char_pts)/2)\n",
    "    for i in range(half_pts)[::10]:\n",
    "        pt1 = orig_char_pts[i]\n",
    "        pt2 = orig_char_pts[i + half_pts]\n",
    "        ax.plot((pt1[0], pt2[0]), (pt1[1], pt2[1]), (pt1[2], pt2[2]), alpha=0.3, color='black')"
   ]
  },
  {
   "cell_type": "markdown",
   "id": "hindu-weight",
   "metadata": {},
   "source": [
    "check -- do they intersect at the same point?"
   ]
  },
  {
   "cell_type": "markdown",
   "id": "hungarian-ownership",
   "metadata": {},
   "source": [
    "a1 - (-0.5)(b1 - a1) = c1 + (0.5)(d1 - c1)\n",
    "0.5a1 + 0.5b1 = 0.5c1 + 0.5d1"
   ]
  },
  {
   "cell_type": "raw",
   "id": "electoral-substitute",
   "metadata": {},
   "source": [
    "https://math.stackexchange.com/questions/28503/how-to-find-intersection-of-two-lines-in-3d\n",
    "a1 - t(b1 - a1) = c1 + s(d1 - c1)\n",
    "same for 2 and 3\n",
    "\n",
    "s(d1 - c1) + t(b1 - a1) = a1 - c1\n",
    "\n",
    "d1-c1  b1-a1  (s) = a1-c1\n",
    "d2-c2  b2-a2  (t) = a2-c2\n",
    "   extra constraint for      = a3-c3"
   ]
  },
  {
   "cell_type": "code",
   "execution_count": 24,
   "id": "rapid-perfume",
   "metadata": {},
   "outputs": [
    {
     "data": {
      "text/plain": [
       "array([ 0.49999752, -0.50000235])"
      ]
     },
     "execution_count": 24,
     "metadata": {},
     "output_type": "execute_result"
    }
   ],
   "source": [
    "import random\n",
    "half_pts = int(len(orig_char_pts)/2)\n",
    "idx1 = random.randint(0, half_pts - 1)\n",
    "idx2 = random.randint(0, half_pts - 1)\n",
    "a = orig_char_pts[idx1]\n",
    "b = orig_char_pts[idx1 + half_pts]\n",
    "c = orig_char_pts[idx2]\n",
    "d = orig_char_pts[idx2 + half_pts]\n",
    "\n",
    "matrix = np.array([\n",
    "    [d[0]-c[0], b[0] - a[0]],\n",
    "    [d[1]-c[1], b[1] - a[1]],\n",
    "])\n",
    "np.linalg.inv(matrix) @ [a[0] - c[0], a[1] - c[1]]"
   ]
  },
  {
   "cell_type": "markdown",
   "id": "warming-profit",
   "metadata": {},
   "source": [
    "so the gray point is halfway on the line."
   ]
  },
  {
   "cell_type": "code",
   "execution_count": 25,
   "id": "injured-compromise",
   "metadata": {},
   "outputs": [
    {
     "data": {
      "text/plain": [
       "True"
      ]
     },
     "execution_count": 25,
     "metadata": {},
     "output_type": "execute_result"
    }
   ],
   "source": [
    "np.allclose((0.5*(a + b)) * 2, wtpt, rtol=1e-04)"
   ]
  },
  {
   "cell_type": "markdown",
   "id": "reliable-journal",
   "metadata": {},
   "source": [
    "so the gray point is halfway up the wtpt!"
   ]
  },
  {
   "cell_type": "markdown",
   "id": "finnish-reporter",
   "metadata": {},
   "source": [
    "## Now respline, and cut into equal volumes\n"
   ]
  },
  {
   "cell_type": "code",
   "execution_count": 26,
   "id": "graduate-affiliation",
   "metadata": {},
   "outputs": [],
   "source": [
    "def volume(a,b,c):\n",
    "    # https://en.wikipedia.org/wiki/Tetrahedron#Volume\n",
    "    # black point: (0,0,0)\n",
    "    # volume: |a * (b x c) | / 6\n",
    "    return abs(a.dot(np.cross(b, c))) / 6\n",
    "\n",
    "def get_partition(xspline, yspline, zspline, wtpt, trials, N):\n",
    "    # 1. split spline into a bunch of tiny points\n",
    "    vec = lambda s: np.array([xspline(s), yspline(s), zspline(s)])\n",
    "    input_pts = np.linspace(0, 2*np.pi, trials + 1)\n",
    "    spline_pts = vec(input_pts)\n",
    "    # 2. calculate the volume for each wedge\n",
    "    volumes = [volume(wtpt, spline_pts[:, i], spline_pts[:, i+1]) for i in range(trials)]\n",
    "    # 3. fitting routine to get the equal partitions\n",
    "    target = sum(volumes)/N\n",
    "    new_pts = [0]\n",
    "    new_volumes = []\n",
    "    i = 0\n",
    "    while i < len(volumes):\n",
    "        v = 0\n",
    "        while v < target and i < len(volumes):\n",
    "            v += volumes[i]\n",
    "            i += 1\n",
    "        new_pts.append(i)\n",
    "        new_volumes.append(v)\n",
    "    return new_pts, new_volumes, spline_pts[:, new_pts]\n",
    "    "
   ]
  },
  {
   "cell_type": "code",
   "execution_count": 27,
   "id": "sufficient-advance",
   "metadata": {},
   "outputs": [
    {
     "name": "stdout",
     "output_type": "stream",
     "text": [
      "CPU times: user 16 s, sys: 162 ms, total: 16.2 s\n",
      "Wall time: 16 s\n"
     ]
    }
   ],
   "source": [
    "%%time\n",
    "xvec, yvec, zvec = np.array(orig_char_pts).T\n",
    "# make the spline periodic \n",
    "xvec = np.concatenate((xvec, [xvec[0]]))\n",
    "yvec = np.concatenate((yvec, [yvec[0]]))\n",
    "zvec = np.concatenate((zvec, [zvec[0]]))\n",
    "\n",
    "# fit 3 pre-mensuration splines\n",
    "I = np.linspace(0, 2*np.pi, len(orig_char_pts)+1)\n",
    "x_spline = intp.make_interp_spline(I, xvec)\n",
    "y_spline = intp.make_interp_spline(I, yvec)\n",
    "z_spline = intp.make_interp_spline(I, zvec)\n",
    "\n",
    "\n",
    "# get equal spline pts\n",
    "_, _, equal_spline_pts = get_partition(x_spline, y_spline, z_spline, wtpt, trials=int(5e5), N=100)\n"
   ]
  },
  {
   "cell_type": "code",
   "execution_count": 28,
   "id": "accomplished-paper",
   "metadata": {},
   "outputs": [],
   "source": [
    "if show_plots:\n",
    "    fig = plt.figure()\n",
    "    ax = fig.gca(projection='3d')\n",
    "    for s in equal_spline_pts.T:\n",
    "        ax.scatter(s[0], s[1], s[2], color=clip2rgb(s))"
   ]
  },
  {
   "cell_type": "markdown",
   "id": "specified-convenience",
   "metadata": {},
   "source": [
    "Now we got evenly spaced char colors! even on volume."
   ]
  },
  {
   "cell_type": "code",
   "execution_count": 29,
   "id": "grateful-textbook",
   "metadata": {},
   "outputs": [],
   "source": [
    "equal_thetas = get_theta(rot @ equal_spline_pts)"
   ]
  },
  {
   "cell_type": "markdown",
   "id": "filled-regard",
   "metadata": {},
   "source": [
    "# Optimal color solid"
   ]
  },
  {
   "cell_type": "code",
   "execution_count": 30,
   "id": "headed-steering",
   "metadata": {},
   "outputs": [],
   "source": [
    "def bump(I, x0, xf):\n",
    "    out = np.zeros(len(I))\n",
    "    if x0 < xf:\n",
    "        out[x0:xf] = 1\n",
    "    elif x0 > xf:\n",
    "        out[x0:] = 1\n",
    "        out[0:xf] = 1\n",
    "    return out\n",
    "\n",
    "def Optimal(wl1, wl2, cmf, abeam, normalized=False):\n",
    "    \"\"\"\n",
    "    Optimal windowing function with wrapping\n",
    "    \"\"\"\n",
    "    abeam_matrix = np.diag(abeam)\n",
    "    X =  np.dot(abeam_matrix@cmf[:,0], bump(cmf, wl1, wl2))\n",
    "    Y =  np.dot(abeam_matrix@cmf[:,1], bump(cmf, wl1, wl2))\n",
    "    Z =  np.dot(abeam_matrix@cmf[:,2], bump(cmf, wl1, wl2))\n",
    "    XYZ = [X, Y, Z]\n",
    "    if normalized:\n",
    "        Norm = sum(cmf)\n",
    "        return (XYZ[0]/Norm[0], XYZ[1]/Norm[1], XYZ[2]/Norm[2])\n",
    "    else:\n",
    "        return (XYZ[0], XYZ[1], XYZ[2])"
   ]
  },
  {
   "cell_type": "markdown",
   "id": "miniature-headline",
   "metadata": {},
   "source": [
    "pick:\n",
    "* number of theta divisions (equal volume ones work fine)\n",
    "* number of axial divisions\n",
    "\n",
    "for each axial division:\n",
    "* minimize distance to each point"
   ]
  },
  {
   "cell_type": "code",
   "execution_count": 31,
   "id": "polished-mountain",
   "metadata": {},
   "outputs": [],
   "source": [
    "L = cmf.shape[0]\n",
    "\n",
    "optimal_color_grid = []\n",
    "for i in range(0, L, 1):\n",
    "    v = []\n",
    "    for j in range(0, L, 1):\n",
    "        O = Optimal(i, (i+j)%L, cmf, abeam)\n",
    "        v.append(O)\n",
    "    optimal_color_grid.append(v)\n",
    "optimal_color_grid = np.array(optimal_color_grid)"
   ]
  },
  {
   "cell_type": "code",
   "execution_count": 32,
   "id": "timely-support",
   "metadata": {},
   "outputs": [
    {
     "data": {
      "text/plain": [
       "(89, 89)"
      ]
     },
     "execution_count": 32,
     "metadata": {},
     "output_type": "execute_result"
    }
   ],
   "source": [
    "optimal_color_grid.T[0].shape"
   ]
  },
  {
   "cell_type": "code",
   "execution_count": 33,
   "id": "restricted-effects",
   "metadata": {},
   "outputs": [],
   "source": [
    "from scipy.interpolate import RectBivariateSpline as Rspl"
   ]
  },
  {
   "cell_type": "code",
   "execution_count": 34,
   "id": "tracked-arrow",
   "metadata": {},
   "outputs": [
    {
     "data": {
      "text/plain": [
       "(89,)"
      ]
     },
     "execution_count": 34,
     "metadata": {},
     "output_type": "execute_result"
    }
   ],
   "source": [
    "np.linspace(0, 1, 89).shape"
   ]
  },
  {
   "cell_type": "code",
   "execution_count": 35,
   "id": "certified-corpus",
   "metadata": {},
   "outputs": [],
   "source": [
    "I = np.linspace(0, 1, 89)\n",
    "spx = Rspl(I, I, optimal_color_grid.T[0])\n",
    "spy = Rspl(I, I, optimal_color_grid.T[1])\n",
    "spz = Rspl(I, I, optimal_color_grid.T[2])"
   ]
  },
  {
   "cell_type": "code",
   "execution_count": 36,
   "id": "acceptable-voluntary",
   "metadata": {},
   "outputs": [],
   "source": [
    "# fig = plt.figure()\n",
    "# ax = fig.gca(projection='3d')\n",
    "# for i in np.linspace(0.5, 0.6, 10):\n",
    "#     for j in np.linspace(0.5, 0.6, 10):\n",
    "#         ax.scatter(spx(i,j), spy(i,j), spz(i,j), color='gray')\n"
   ]
  },
  {
   "cell_type": "code",
   "execution_count": 37,
   "id": "meaningful-queue",
   "metadata": {},
   "outputs": [],
   "source": [
    "def opt_solid_spline(i,j):\n",
    "    return (spx(i,j)[0][0], spy(i,j)[0][0], spz(i,j)[0][0])\n",
    "\n",
    "def distance(coords, v1, v2):\n",
    "#     v1 = args[0]\n",
    "#     v2 = args[1]\n",
    "    if coords[0] < 0 or coords[1] < 0 or coords[0] > 1 or coords[1] > 1:\n",
    "        return 1000\n",
    "    s = opt_solid_spline(*coords)\n",
    "    y_rot_v1 = (rot @ v1)[1]\n",
    "    y_rot_v2 = (rot @ v2)[1]\n",
    "    if ((rot @ s)[1] > max(y_rot_v1, y_rot_v2)) or ((rot @ s)[1] < min(y_rot_v1, y_rot_v2)):\n",
    "        return 10000\n",
    "    return alpha(s, v1, v2)"
   ]
  },
  {
   "cell_type": "code",
   "execution_count": 38,
   "id": "executive-bruce",
   "metadata": {},
   "outputs": [],
   "source": [
    "# do i need to make a mesh?\n",
    "N = 1001\n",
    "r = np.linspace(0, 1, N)\n",
    "mesh = np.zeros((N, N, 2))\n",
    "for i in range(N):\n",
    "    mesh[i, :, 0] = r\n",
    "for j in range(N):\n",
    "    mesh[:, j, 1] = r"
   ]
  },
  {
   "cell_type": "code",
   "execution_count": 39,
   "id": "other-theorem",
   "metadata": {},
   "outputs": [],
   "source": [
    "v = lambda s: np.array([spx(*s)[0][0], spy(*s)[0][0], spz(*s)[0][0]])"
   ]
  },
  {
   "cell_type": "code",
   "execution_count": 40,
   "id": "premium-original",
   "metadata": {},
   "outputs": [
    {
     "name": "stdout",
     "output_type": "stream",
     "text": [
      "CPU times: user 10.8 s, sys: 48 ms, total: 10.8 s\n",
      "Wall time: 10.8 s\n"
     ]
    }
   ],
   "source": [
    "%%time\n",
    "opt_solid = np.zeros((N, N, 3))\n",
    "for idx, i in enumerate(r):\n",
    "    for jdx, j in enumerate(r):\n",
    "        opt_solid[idx, jdx] = v((i,j))"
   ]
  },
  {
   "cell_type": "code",
   "execution_count": 41,
   "id": "pretty-heater",
   "metadata": {},
   "outputs": [],
   "source": [
    "def calc_optimal_pt_mesh(opt_solid, v1, v2):\n",
    "#     denom = np.linalg.norm(v2 - v1)\n",
    "    resh = opt_solid.reshape(-1, 3)\n",
    "    ll = np.min((v1, v2), axis=0)\n",
    "    ur = np.max((v1, v2), axis=0)\n",
    "    resh = resh[np.all((ll <= resh) & (resh <= ur), axis=1)]\n",
    "    mv1 = resh - v1\n",
    "    mv2 = resh - v2\n",
    "    results = np.linalg.norm(np.cross(mv1, mv2), axis=1)\n",
    "    return np.argmin(results), resh[np.argmin(results)], np.min(results)"
   ]
  },
  {
   "cell_type": "code",
   "execution_count": 42,
   "id": "persistent-license",
   "metadata": {},
   "outputs": [],
   "source": [
    "# now calculate all lines to every axial point"
   ]
  },
  {
   "cell_type": "code",
   "execution_count": 43,
   "id": "saving-controversy",
   "metadata": {},
   "outputs": [
    {
     "name": "stdout",
     "output_type": "stream",
     "text": [
      "15\n"
     ]
    }
   ],
   "source": [
    "num_axial = 15\n",
    "axial_points = np.array([i*wtpt for i in np.linspace(0, 1, num_axial)])\n",
    "print(len(axial_points))"
   ]
  },
  {
   "cell_type": "code",
   "execution_count": 44,
   "id": "improving-southeast",
   "metadata": {},
   "outputs": [
    {
     "name": "stdout",
     "output_type": "stream",
     "text": [
      "25\n"
     ]
    }
   ],
   "source": [
    "spline_line_pts = equal_spline_pts[:, :-1:4].T\n",
    "print(spline_line_pts.shape[0])"
   ]
  },
  {
   "cell_type": "code",
   "execution_count": 45,
   "id": "reflected-magnitude",
   "metadata": {},
   "outputs": [],
   "source": [
    "# def alpha(s, v1, v2):\n",
    "#     return np.linalg.norm(np.cross(s - v1, s-v2)) / np.linalg.norm(v2 - v1)"
   ]
  },
  {
   "cell_type": "code",
   "execution_count": 46,
   "id": "national-gnome",
   "metadata": {},
   "outputs": [],
   "source": [
    "# from scipy.optimize import minimize"
   ]
  },
  {
   "cell_type": "code",
   "execution_count": 47,
   "id": "naughty-teaching",
   "metadata": {},
   "outputs": [
    {
     "name": "stdout",
     "output_type": "stream",
     "text": [
      "CPU times: user 15.1 s, sys: 12.1 ms, total: 15.1 s\n",
      "Wall time: 15.1 s\n"
     ]
    }
   ],
   "source": [
    "%%time\n",
    "# vectorizing this might be a good idea\n",
    "best_optimal_pts = np.zeros((len(spline_line_pts), len(axial_points), 3))\n",
    "for i1, v1 in enumerate(spline_line_pts):\n",
    "    for i2, v2 in enumerate(axial_points):\n",
    "#         alphas = [alpha(s, v1, v2)  for s in optimal_color_grid]\n",
    "        c = calc_optimal_pt_mesh(opt_solid, v1, v2)\n",
    "        best_optimal_pts[i1][i2] = c[1]"
   ]
  },
  {
   "cell_type": "code",
   "execution_count": 48,
   "id": "looking-sally",
   "metadata": {},
   "outputs": [],
   "source": [
    "# def calc_best_optimal_pt(v1, v2, trials = 20):\n",
    "#     min_tol = 100000\n",
    "#     pts = []\n",
    "#     for _ in range(trials):\n",
    "#         result = minimize(distance, (random.random(), random.random()), args=(v1, v2), method='Nelder-Mead', tol=1e-5)\n",
    "#         if result.fun < min_tol:\n",
    "#             min_tol = result.fun\n",
    "#             pts = result.x\n",
    "#     print(min_tol)\n",
    "# #     assert min_tol < 1e-3, min_tol\n",
    "#     return opt_solid_spline(*pts)"
   ]
  },
  {
   "cell_type": "code",
   "execution_count": 49,
   "id": "special-panama",
   "metadata": {},
   "outputs": [],
   "source": [
    "# best_optimal_pts = np.zeros((len(spline_line_pts), len(axial_points), 3))\n",
    "# for i1, v1 in enumerate(spline_line_pts):\n",
    "#     for i2, v2 in enumerate(axial_points):\n",
    "#          best_optimal_pts[i1][i2] = calc_best_optimal_pt(v1, v2)"
   ]
  },
  {
   "cell_type": "code",
   "execution_count": 50,
   "id": "allied-texas",
   "metadata": {},
   "outputs": [],
   "source": [
    "if show_plots:\n",
    "    colors = np.array(['green', 'orange', 'blue', 'black', 'purple', 'red'])\n",
    "    fig = plt.figure()\n",
    "    ax = fig.gca(projection='3d')\n",
    "    ax.plot((0,wtpt[0]),(0,wtpt[1]), (0,wtpt[2]), color='gray')\n",
    "#     for c in best_optimal_pts.reshape(-1, 3):\n",
    "#         ax.scatter(c[0], c[1], c[2], color='black')\n",
    "#     for s in equal_spline_pts.T:\n",
    "#         ax.scatter(s[0], s[1], s[2], color=clip2rgb(s))\n",
    "\n",
    "    Norm = sum(cmf)    \n",
    "    for i1, s in enumerate(spline_line_pts):\n",
    "        for i2, a in enumerate(axial_points):\n",
    "#             color = colors[(i2) % len(colors)]\n",
    "    #         ax.plot((s[0], a[0]), (s[1], a[1]), (s[2], a[2]), color=color)\n",
    "            c = best_optimal_pts[i1, i2]\n",
    "            d = (c[0]/Norm[0], c[1]/Norm[1], c[2]/Norm[2])\n",
    "            ax.scatter(c[0], c[1], c[2], color=clip2rgb(d))\n"
   ]
  },
  {
   "cell_type": "markdown",
   "id": "handled-barrier",
   "metadata": {},
   "source": [
    "# map to sphere\n",
    "assuming we map a sphere's vector to the closest vector on the optimal color solid:"
   ]
  },
  {
   "cell_type": "code",
   "execution_count": 51,
   "id": "bibliographic-indianapolis",
   "metadata": {},
   "outputs": [],
   "source": [
    "if show_plots:\n",
    "    colors = np.array(['green', 'orange', 'blue', 'black', 'purple', 'red'])\n",
    "    fig = plt.figure()\n",
    "    ax = fig.gca(projection='3d')\n",
    "    r = rot@wtpt / np.linalg.norm(wtpt)\n",
    "    ax.plot((0,r[0]),(0,r[1]), (0,r[2]), color='gray')\n",
    "#     for c in best_optimal_pts.reshape(-1, 3):\n",
    "#         ax.scatter(c[0], c[1], c[2], color='black')\n",
    "#     for s in equal_spline_pts.T:\n",
    "#         ax.scatter(s[0], s[1], s[2], color=clip2rgb(s))\n",
    "\n",
    "#     b = np.array([rot @ i for i in best_optimal_pts.reshape(-1, 3)])\n",
    "    for i1, s in enumerate(spline_line_pts):\n",
    "        for i2, a in enumerate(axial_points):\n",
    "#             color = colors[(i2) % len(colors)]\n",
    "    #         ax.plot((s[0], a[0]), (s[1], a[1]), (s[2], a[2]), color=color)\n",
    "            c = best_optimal_pts[i1, i2] \n",
    "            d = (c[0]/Norm[0], c[1]/Norm[1], c[2]/Norm[2])\n",
    "            ax.scatter(*(rot @ c)/ np.linalg.norm(wtpt), color=clip2rgb(d))\n"
   ]
  },
  {
   "cell_type": "code",
   "execution_count": 52,
   "id": "possible-approach",
   "metadata": {},
   "outputs": [],
   "source": [
    "# go from xyz vector to vector in optimal color space\n",
    "# wtpt should go to 001, black point to 00(-1)"
   ]
  },
  {
   "cell_type": "code",
   "execution_count": 53,
   "id": "banned-opinion",
   "metadata": {},
   "outputs": [],
   "source": [
    "# rot around x, from y to z (pi/2)\n",
    "rotyz = np.array([\n",
    "    [1,0,0],\n",
    "    [0,0,-1],\n",
    "    [0,1,0]\n",
    "])"
   ]
  },
  {
   "cell_type": "code",
   "execution_count": 54,
   "id": "violent-bankruptcy",
   "metadata": {},
   "outputs": [],
   "source": [
    "assert np.allclose(rotyz @ [0,1,0], [0,0,1])\n",
    "assert np.allclose(rotyz @ [0,0,1], [0,-1,0])"
   ]
  },
  {
   "cell_type": "code",
   "execution_count": 55,
   "id": "furnished-organic",
   "metadata": {},
   "outputs": [],
   "source": [
    "def convert(v):\n",
    "    return rotyz @ (2*(rot @ v / np.linalg.norm(wtpt))) - [0,0,1]\n",
    "\n",
    "def get_color_from_opt(c):\n",
    "    d = (c[0]/Norm[0], c[1]/Norm[1], c[2]/Norm[2])\n",
    "    return clip2rgb(d)"
   ]
  },
  {
   "cell_type": "code",
   "execution_count": 56,
   "id": "proved-texas",
   "metadata": {},
   "outputs": [],
   "source": [
    "optimal_pts_for_sphere = [convert(b) for b in best_optimal_pts.reshape(-1,3)]\n",
    "vectors_for_sphere = [o/np.linalg.norm(o) for o in optimal_pts_for_sphere]"
   ]
  },
  {
   "cell_type": "code",
   "execution_count": 57,
   "id": "israeli-village",
   "metadata": {},
   "outputs": [],
   "source": [
    "def find_closest_opt_color(xyz):\n",
    "    u = xyz/np.linalg.norm(xyz)\n",
    "    dots = [v.dot(u) for v in vectors_for_sphere]\n",
    "    m = np.argmax(dots)\n",
    "    b = best_optimal_pts.reshape(-1, 3)[m]\n",
    "    return np.array(get_color_from_opt(b))"
   ]
  },
  {
   "cell_type": "code",
   "execution_count": 58,
   "id": "spatial-mention",
   "metadata": {},
   "outputs": [],
   "source": [
    "if show_plots:\n",
    "    xs = np.random.random(10)\n",
    "    ys = np.random.random(10)\n",
    "    fig = plt.figure()\n",
    "    ax = fig.gca(projection='3d')\n",
    "\n",
    "    for x in xs:\n",
    "        for y in ys:\n",
    "            zsq = (1-x**2-y**2)\n",
    "            if zsq >= 0:\n",
    "                for f in [-1,1]:\n",
    "                    for g in [-1,1]:\n",
    "                        for h in [-1,1]:\n",
    "                            c = [f*x,g*y,h*zsq**0.5]\n",
    "                            ax.scatter(c[0], c[1], c[2], color=find_closest_opt_color(c))"
   ]
  },
  {
   "cell_type": "code",
   "execution_count": null,
   "id": "greek-stephen",
   "metadata": {},
   "outputs": [],
   "source": []
  },
  {
   "cell_type": "code",
   "execution_count": null,
   "id": "handled-fight",
   "metadata": {},
   "outputs": [],
   "source": []
  }
 ],
 "metadata": {
  "kernelspec": {
   "display_name": "Python 3",
   "language": "python",
   "name": "python3"
  },
  "language_info": {
   "codemirror_mode": {
    "name": "ipython",
    "version": 3
   },
   "file_extension": ".py",
   "mimetype": "text/x-python",
   "name": "python",
   "nbconvert_exporter": "python",
   "pygments_lexer": "ipython3",
   "version": "3.8.8"
  }
 },
 "nbformat": 4,
 "nbformat_minor": 5
}
