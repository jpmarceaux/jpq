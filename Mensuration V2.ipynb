{
 "cells": [
  {
   "cell_type": "code",
   "execution_count": 1,
   "metadata": {},
   "outputs": [
    {
     "name": "stdout",
     "output_type": "stream",
     "text": [
      "Using matplotlib backend: Qt5Agg\n"
     ]
    }
   ],
   "source": [
    "import matplotlib\n",
    "import numpy as np\n",
    "import matplotlib.pyplot as plt\n",
    "from mpl_toolkits.mplot3d import axes3d\n",
    "from colormath.color_objects import sRGBColor, XYZColor\n",
    "from colormath.color_conversions import convert_color\n",
    "from scipy.optimize import minimize\n",
    "import scipy.interpolate as intp\n",
    "import scipy.integrate as integrate\n",
    "from scipy.optimize import newton\n",
    "matplotlib.use('Qt5Agg')\n",
    "%matplotlib"
   ]
  },
  {
   "cell_type": "code",
   "execution_count": 2,
   "metadata": {},
   "outputs": [],
   "source": [
    "MF = np.genfromtxt(\"CMF_5nm.csv\", delimiter=',')\n",
    "CMF = MF[:, 1:4]"
   ]
  },
  {
   "cell_type": "code",
   "execution_count": 3,
   "metadata": {},
   "outputs": [],
   "source": [
    "def clip2rgb(xyz):\n",
    "    if type(xyz) is not XYZColor:\n",
    "        xyz = XYZColor(xyz[0], xyz[1], xyz[2])\n",
    "    crgb = convert_color(xyz, sRGBColor)\n",
    "    r = crgb.rgb_r\n",
    "    g = crgb.rgb_g\n",
    "    b = crgb.rgb_b\n",
    "    r = r if r > 0 else 0\n",
    "    g = g if g > 0 else 0\n",
    "    b = b if b > 0 else 0\n",
    "    r = r if r < 1 else 1\n",
    "    g = g if g < 1 else 1\n",
    "    b = b if b < 1 else 1\n",
    "    return [r, g, b]"
   ]
  },
  {
   "cell_type": "code",
   "execution_count": 4,
   "metadata": {},
   "outputs": [],
   "source": [
    "def g_euc(r1, r2):\n",
    "    return np.sqrt((r1[0]-r2[0])**2 + (r1[1]-r2[1])**2 + (r1[2]-r2[2])**2)"
   ]
  },
  {
   "cell_type": "code",
   "execution_count": 5,
   "metadata": {},
   "outputs": [],
   "source": [
    "def g_line2point(ln, pt):\n",
    "    # distance between point and line\n",
    "    # line ~ (a,b,c) coefficients of ax + by + c = 0\n",
    "    # point ~ (x0, y0)\n",
    "    return abs(ln[0]*pt[0] + ln[1]*pt[1] + ln[2])/np.sqrt(ln[0]**2 + ln[1]**2)"
   ]
  },
  {
   "cell_type": "code",
   "execution_count": 6,
   "metadata": {},
   "outputs": [],
   "source": [
    "def character(cmf_vector, wtpt):\n",
    "    \"\"\"Characteristic Color of pseudo-wavelength-index i\n",
    "        observe that the characteristic color is the closest point to the white point\n",
    "    \"\"\"\n",
    "    O = cmf_vector\n",
    "    # define line in 3d space with xvec, yvec, zvec\n",
    "    xvec = np.linspace(0, 60, 500)\n",
    "    yvec = (O[1]/O[0])*(xvec-O[0]) + O[1]\n",
    "    zvec = (O[2]/O[0])*(xvec-O[0]) + O[2]\n",
    "    rvec = [np.array([xvec[i], yvec[i], zvec[i]]) for i, _ in enumerate(xvec)]\n",
    "    distset = [g_euc(r, wtpt) for r in rvec]\n",
    "    idx = np.argmin(distset)\n",
    "    return rvec[idx]"
   ]
  },
  {
   "cell_type": "code",
   "execution_count": 7,
   "metadata": {},
   "outputs": [],
   "source": [
    "def volume(a,b,c):\n",
    "    # https://en.wikipedia.org/wiki/Tetrahedron#Volume\n",
    "    # black point: (0,0,0)\n",
    "    # volume: |a * (b x c) | / 6\n",
    "    return abs(a.dot(np.cross(b, c))) / 6"
   ]
  },
  {
   "cell_type": "code",
   "execution_count": 8,
   "metadata": {},
   "outputs": [],
   "source": [
    "def get_partition(xspline, yspline, zspline, wtpt, trials, N):\n",
    "    # 1. split spline into a bunch of tiny points\n",
    "    vec = lambda s: np.array([xspline(s), yspline(s), zspline(s)])\n",
    "    input_pts = np.linspace(0, 2*np.pi, trials + 1)\n",
    "    spline_pts = vec(input_pts)\n",
    "    # 2. calculate the volume for each wedge\n",
    "    volumes = [volume(wtpt, spline_pts[:, i], spline_pts[:, i+1]) for i in range(trials)]\n",
    "    # 3. fitting routine to get the equal partitions\n",
    "    target = sum(volumes)/N\n",
    "    new_pts = [0]\n",
    "    new_volumes = []\n",
    "    i = 0\n",
    "    while i < len(volumes):\n",
    "        v = 0\n",
    "        while v < target and i < len(volumes):\n",
    "            v += volumes[i]\n",
    "            i += 1\n",
    "        new_pts.append(i)\n",
    "        new_volumes.append(v)\n",
    "    return new_pts, new_volumes, spline_pts[:, new_pts]\n",
    "    "
   ]
  },
  {
   "cell_type": "code",
   "execution_count": 9,
   "metadata": {},
   "outputs": [],
   "source": [
    "def mensurate(cmf, abeam, N): \n",
    "    # make appended unit vector array from CMF\n",
    "    wtpt = cmf.T@abeam\n",
    "    ucmf = [c/np.linalg.norm(c) for c in cmf]\n",
    "    coeffs = np.linspace(0, 1, 30)\n",
    "    c1 = cmf[-1]/np.linalg.norm(cmf[-1])\n",
    "    c0 = cmf[0]/np.linalg.norm(cmf[0])\n",
    "    mixture = []\n",
    "    for c in coeffs:\n",
    "        mix = c*c0 + (1-c)*c1\n",
    "        mixture.append(mix/np.linalg.norm(mix))\n",
    "    units = np.concatenate((ucmf, mixture))\n",
    "    \n",
    "    # find characteristic color of each unit\n",
    "    xvec = np.zeros(len(units)+1)\n",
    "    yvec = np.zeros(len(units)+1)\n",
    "    zvec = np.zeros(len(units)+1)\n",
    "    \n",
    "    fig = plt.figure()\n",
    "    ax = fig.gca(projection='3d')\n",
    "    for idx, u in enumerate(units):\n",
    "        c = character(u, wtpt) \n",
    "        xvec[idx] = c[0]\n",
    "        yvec[idx] = c[1]\n",
    "        zvec[idx] = c[2]\n",
    "        ax.scatter(u[0], u[1], u[2], color=clip2rgb(u))\n",
    "        ax.scatter(c[0], c[1], c[2], color=clip2rgb(c))\n",
    "       \n",
    "        \n",
    "    # make the spline periodic \n",
    "    xvec[-1] = xvec[0]\n",
    "    yvec[-1] = yvec[0]\n",
    "    zvec[-1] = zvec[0]\n",
    "        \n",
    "    \n",
    "    # fit 3 pre-mensuration splines\n",
    "    I = np.linspace(0, 2*np.pi, len(units)+1)\n",
    "    x_spline = intp.make_interp_spline(I, xvec)\n",
    "    y_spline = intp.make_interp_spline(I, yvec)\n",
    "    z_spline = intp.make_interp_spline(I, zvec)\n",
    "   \n",
    "\n",
    "    # get equal spline pts\n",
    "    _, _, equal_spline_pts = get_partition(x_spline, y_spline, z_spline, wtpt, trials=int(1e6), N=100)\n",
    "    for s in equal_spline_pts.T:\n",
    "        ax.scatter(s[0], s[1], s[2], color='black', s=5)\n",
    "    \n",
    "    # find total volume of the double cone \n",
    "    vec = lambda s: np.array([x_spline(s), y_spline(s), z_spline(s)])\n",
    "    area = lambda s: (np.linalg.norm(np.cross(vec(s), wtpt)))**2\n",
    "    V = integrate.quad(area, 0, 2*np.pi, limi=1000)[0]\n",
    "    \n",
    "    interv = np.linspace(0, 1, 100)\n",
    "    for idx, i in enumerate(interv):\n",
    "        ax.scatter(x_spline(i), y_spline(i), z_spline(i))\n",
    "        ax.text(x_spline(i), y_spline(i), z_spline(i), str(idx))\n",
    "    \n",
    "    \n",
    "    # find intervales that divide V into equal parts\n",
    "    dV = V/N\n",
    "    pts = [0]\n",
    "    deltaV = lambda s0, s1: area(s0)*g_euc(vec(s0), vec(s1))/2\n",
    "    root = lambda s0, s1, dV: deltaV(s0, s1) - dV\n",
    "\n",
    "    for n in range(N):\n",
    "        s0 = newton(root, x0 = pts[n], args=[pts[n], dV], maxiter=1000)\n",
    "        pts.append(s0)\n",
    "        \n",
    "    print(pts)\n",
    "        \n",
    "    "
   ]
  },
  {
   "cell_type": "code",
   "execution_count": 10,
   "metadata": {},
   "outputs": [
    {
     "ename": "TypeError",
     "evalue": "quad() got an unexpected keyword argument 'limi'",
     "output_type": "error",
     "traceback": [
      "\u001b[0;31m---------------------------------------------------------------------------\u001b[0m",
      "\u001b[0;31mTypeError\u001b[0m                                 Traceback (most recent call last)",
      "\u001b[0;32m<ipython-input-10-24b52a841675>\u001b[0m in \u001b[0;36m<module>\u001b[0;34m\u001b[0m\n\u001b[1;32m      1\u001b[0m \u001b[0mabeam\u001b[0m \u001b[0;34m=\u001b[0m \u001b[0mnp\u001b[0m\u001b[0;34m.\u001b[0m\u001b[0mones\u001b[0m\u001b[0;34m(\u001b[0m\u001b[0mCMF\u001b[0m\u001b[0;34m.\u001b[0m\u001b[0mshape\u001b[0m\u001b[0;34m[\u001b[0m\u001b[0;36m0\u001b[0m\u001b[0;34m]\u001b[0m\u001b[0;34m)\u001b[0m\u001b[0;34m\u001b[0m\u001b[0;34m\u001b[0m\u001b[0m\n\u001b[0;32m----> 2\u001b[0;31m \u001b[0mM\u001b[0m \u001b[0;34m=\u001b[0m \u001b[0mmensurate\u001b[0m\u001b[0;34m(\u001b[0m\u001b[0mCMF\u001b[0m\u001b[0;34m,\u001b[0m \u001b[0mabeam\u001b[0m\u001b[0;34m,\u001b[0m \u001b[0;36m100\u001b[0m\u001b[0;34m)\u001b[0m\u001b[0;34m\u001b[0m\u001b[0;34m\u001b[0m\u001b[0m\n\u001b[0m",
      "\u001b[0;32m<ipython-input-9-23f118f1d312>\u001b[0m in \u001b[0;36mmensurate\u001b[0;34m(cmf, abeam, N)\u001b[0m\n\u001b[1;32m     49\u001b[0m     \u001b[0mvec\u001b[0m \u001b[0;34m=\u001b[0m \u001b[0;32mlambda\u001b[0m \u001b[0ms\u001b[0m\u001b[0;34m:\u001b[0m \u001b[0mnp\u001b[0m\u001b[0;34m.\u001b[0m\u001b[0marray\u001b[0m\u001b[0;34m(\u001b[0m\u001b[0;34m[\u001b[0m\u001b[0mx_spline\u001b[0m\u001b[0;34m(\u001b[0m\u001b[0ms\u001b[0m\u001b[0;34m)\u001b[0m\u001b[0;34m,\u001b[0m \u001b[0my_spline\u001b[0m\u001b[0;34m(\u001b[0m\u001b[0ms\u001b[0m\u001b[0;34m)\u001b[0m\u001b[0;34m,\u001b[0m \u001b[0mz_spline\u001b[0m\u001b[0;34m(\u001b[0m\u001b[0ms\u001b[0m\u001b[0;34m)\u001b[0m\u001b[0;34m]\u001b[0m\u001b[0;34m)\u001b[0m\u001b[0;34m\u001b[0m\u001b[0;34m\u001b[0m\u001b[0m\n\u001b[1;32m     50\u001b[0m     \u001b[0marea\u001b[0m \u001b[0;34m=\u001b[0m \u001b[0;32mlambda\u001b[0m \u001b[0ms\u001b[0m\u001b[0;34m:\u001b[0m \u001b[0;34m(\u001b[0m\u001b[0mnp\u001b[0m\u001b[0;34m.\u001b[0m\u001b[0mlinalg\u001b[0m\u001b[0;34m.\u001b[0m\u001b[0mnorm\u001b[0m\u001b[0;34m(\u001b[0m\u001b[0mnp\u001b[0m\u001b[0;34m.\u001b[0m\u001b[0mcross\u001b[0m\u001b[0;34m(\u001b[0m\u001b[0mvec\u001b[0m\u001b[0;34m(\u001b[0m\u001b[0ms\u001b[0m\u001b[0;34m)\u001b[0m\u001b[0;34m,\u001b[0m \u001b[0mwtpt\u001b[0m\u001b[0;34m)\u001b[0m\u001b[0;34m)\u001b[0m\u001b[0;34m)\u001b[0m\u001b[0;34m**\u001b[0m\u001b[0;36m2\u001b[0m\u001b[0;34m\u001b[0m\u001b[0;34m\u001b[0m\u001b[0m\n\u001b[0;32m---> 51\u001b[0;31m     \u001b[0mV\u001b[0m \u001b[0;34m=\u001b[0m \u001b[0mintegrate\u001b[0m\u001b[0;34m.\u001b[0m\u001b[0mquad\u001b[0m\u001b[0;34m(\u001b[0m\u001b[0marea\u001b[0m\u001b[0;34m,\u001b[0m \u001b[0;36m0\u001b[0m\u001b[0;34m,\u001b[0m \u001b[0;36m2\u001b[0m\u001b[0;34m*\u001b[0m\u001b[0mnp\u001b[0m\u001b[0;34m.\u001b[0m\u001b[0mpi\u001b[0m\u001b[0;34m,\u001b[0m \u001b[0mlimi\u001b[0m\u001b[0;34m=\u001b[0m\u001b[0;36m1000\u001b[0m\u001b[0;34m)\u001b[0m\u001b[0;34m[\u001b[0m\u001b[0;36m0\u001b[0m\u001b[0;34m]\u001b[0m\u001b[0;34m\u001b[0m\u001b[0;34m\u001b[0m\u001b[0m\n\u001b[0m\u001b[1;32m     52\u001b[0m \u001b[0;34m\u001b[0m\u001b[0m\n\u001b[1;32m     53\u001b[0m     \u001b[0minterv\u001b[0m \u001b[0;34m=\u001b[0m \u001b[0mnp\u001b[0m\u001b[0;34m.\u001b[0m\u001b[0mlinspace\u001b[0m\u001b[0;34m(\u001b[0m\u001b[0;36m0\u001b[0m\u001b[0;34m,\u001b[0m \u001b[0;36m1\u001b[0m\u001b[0;34m,\u001b[0m \u001b[0;36m100\u001b[0m\u001b[0;34m)\u001b[0m\u001b[0;34m\u001b[0m\u001b[0;34m\u001b[0m\u001b[0m\n",
      "\u001b[0;31mTypeError\u001b[0m: quad() got an unexpected keyword argument 'limi'"
     ]
    }
   ],
   "source": [
    "abeam = np.ones(CMF.shape[0])\n",
    "M = mensurate(CMF, abeam, 100)"
   ]
  },
  {
   "cell_type": "code",
   "execution_count": null,
   "metadata": {},
   "outputs": [],
   "source": []
  }
 ],
 "metadata": {
  "kernelspec": {
   "display_name": "Python 3",
   "language": "python",
   "name": "python3"
  },
  "language_info": {
   "codemirror_mode": {
    "name": "ipython",
    "version": 3
   },
   "file_extension": ".py",
   "mimetype": "text/x-python",
   "name": "python",
   "nbconvert_exporter": "python",
   "pygments_lexer": "ipython3",
   "version": "3.8.8"
  }
 },
 "nbformat": 4,
 "nbformat_minor": 4
}
