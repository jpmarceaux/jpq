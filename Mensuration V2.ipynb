{
 "cells": [
  {
   "cell_type": "code",
   "execution_count": 1,
   "metadata": {},
   "outputs": [
    {
     "name": "stdout",
     "output_type": "stream",
     "text": [
      "Using matplotlib backend: Qt5Agg\n"
     ]
    }
   ],
   "source": [
    "import matplotlib\n",
    "import numpy as np\n",
    "import matplotlib.pyplot as plt\n",
    "from mpl_toolkits.mplot3d import axes3d\n",
    "from colormath.color_objects import sRGBColor, XYZColor\n",
    "from colormath.color_conversions import convert_color\n",
    "from scipy.optimize import minimize\n",
    "import scipy.interpolate as intp\n",
    "import scipy.integrate as integrate\n",
    "from scipy.optimize import newton\n",
    "matplotlib.use('Qt5Agg')\n",
    "%matplotlib"
   ]
  },
  {
   "cell_type": "code",
   "execution_count": 2,
   "metadata": {},
   "outputs": [],
   "source": [
    "MF = np.genfromtxt(\"CMF_5nm.csv\", delimiter=',')\n",
    "CMF = MF[:, 1:4]"
   ]
  },
  {
   "cell_type": "code",
   "execution_count": 3,
   "metadata": {},
   "outputs": [],
   "source": [
    "def clip2rgb(xyz):\n",
    "    if type(xyz) is not XYZColor:\n",
    "        xyz = XYZColor(xyz[0], xyz[1], xyz[2])\n",
    "    crgb = convert_color(xyz, sRGBColor)\n",
    "    r = crgb.rgb_r\n",
    "    g = crgb.rgb_g\n",
    "    b = crgb.rgb_b\n",
    "    r = r if r > 0 else 0\n",
    "    g = g if g > 0 else 0\n",
    "    b = b if b > 0 else 0\n",
    "    r = r if r < 1 else 1\n",
    "    g = g if g < 1 else 1\n",
    "    b = b if b < 1 else 1\n",
    "    return [r, g, b]"
   ]
  },
  {
   "cell_type": "code",
   "execution_count": 4,
   "metadata": {},
   "outputs": [],
   "source": [
    "def g_euc(r1, r2):\n",
    "    return np.sqrt((r1[0]-r2[0])**2 + (r1[1]-r2[1])**2 + (r1[2]-r2[2])**2)"
   ]
  },
  {
   "cell_type": "code",
   "execution_count": 5,
   "metadata": {},
   "outputs": [],
   "source": [
    "def g_line2point(ln, pt):\n",
    "    # distance between point and line\n",
    "    # line ~ (a,b,c) coefficients of ax + by + c = 0\n",
    "    # point ~ (x0, y0)\n",
    "    return abs(ln[0]*pt[0] + ln[1]*pt[1] + ln[2])/np.sqrt(ln[0]**2 + ln[1]**2)"
   ]
  },
  {
   "cell_type": "code",
   "execution_count": 23,
   "metadata": {},
   "outputs": [],
   "source": [
    "def XYZ2xyY(X, Y, Z):\n",
    "    r = X + Y + Z\n",
    "    x = X/r\n",
    "    y = Y/r\n",
    "    return (x, y, Y)"
   ]
  },
  {
   "cell_type": "code",
   "execution_count": 24,
   "metadata": {},
   "outputs": [],
   "source": [
    "def character(cmf_vector, wtpt):\n",
    "    \"\"\"Characteristic Color of pseudo-wavelength-index i\n",
    "        observe that the characteristic color is the closest point to the white point\n",
    "    \"\"\"\n",
    "    O = cmf_vector\n",
    "    # define line in 3d space with xvec, yvec, zvec\n",
    "    xvec = np.linspace(0, 60, 500)\n",
    "    yvec = (O[1]/O[0])*(xvec-O[0]) + O[1]\n",
    "    zvec = (O[2]/O[0])*(xvec-O[0]) + O[2]\n",
    "    rvec = [np.array([xvec[i], yvec[i], zvec[i]]) for i, _ in enumerate(xvec)]\n",
    "    distset = [g_euc(r, wtpt) for r in rvec]\n",
    "    idx = np.argmin(distset)\n",
    "    return rvec[idx]"
   ]
  },
  {
   "cell_type": "code",
   "execution_count": 25,
   "metadata": {},
   "outputs": [],
   "source": [
    "def volume(a,b,c):\n",
    "    # https://en.wikipedia.org/wiki/Tetrahedron#Volume\n",
    "    # black point: (0,0,0)\n",
    "    # volume: |a * (b x c) | / 6\n",
    "    return abs(a.dot(np.cross(b, c))) / 6"
   ]
  },
  {
   "cell_type": "code",
   "execution_count": 26,
   "metadata": {},
   "outputs": [],
   "source": [
    "def get_partition(xspline, yspline, zspline, wtpt, trials, N):\n",
    "    # 1. split spline into a bunch of tiny points\n",
    "    vec = lambda s: np.array([xspline(s), yspline(s), zspline(s)])\n",
    "    input_pts = np.linspace(0, 2*np.pi, trials + 1)\n",
    "    spline_pts = vec(input_pts)\n",
    "    # 2. calculate the volume for each wedge\n",
    "    volumes = [volume(wtpt, spline_pts[:, i], spline_pts[:, i+1]) for i in range(trials)]\n",
    "    # 3. fitting routine to get the equal partitions\n",
    "    target = sum(volumes)/N\n",
    "    new_pts = [0]\n",
    "    new_volumes = []\n",
    "    i = 0\n",
    "    while i < len(volumes):\n",
    "        v = 0\n",
    "        while v < target and i < len(volumes):\n",
    "            v += volumes[i]\n",
    "            i += 1\n",
    "        new_pts.append(i)\n",
    "        new_volumes.append(v)\n",
    "    return new_pts, new_volumes, spline_pts[:, new_pts]"
   ]
  },
  {
   "cell_type": "code",
   "execution_count": 27,
   "metadata": {},
   "outputs": [],
   "source": [
    "def make_units(cmf, tail_length=30):\n",
    "    # make appended unit vector array from CMF\n",
    "    ucmf = [c/np.linalg.norm(c) for c in cmf]\n",
    "    coeffs = np.linspace(0, 1, tail_length)\n",
    "    c1 = cmf[-1]/np.linalg.norm(cmf[-1])\n",
    "    c0 = cmf[0]/np.linalg.norm(cmf[0])\n",
    "    mixture = []\n",
    "    for c in coeffs:\n",
    "        mix = c*c0 + (1-c)*c1\n",
    "        mixture.append(mix/np.linalg.norm(mix))\n",
    "    return np.concatenate((ucmf, mixture))"
   ]
  },
  {
   "cell_type": "code",
   "execution_count": 28,
   "metadata": {},
   "outputs": [],
   "source": [
    "def mensurate(cmf, abeam, N): \n",
    "    # make appended unit vector array from CMF\n",
    "    wtpt = cmf.T@abeam\n",
    "    units = make_units(cmf, 30)\n",
    "    \n",
    "    # find characteristic color of each unit\n",
    "    xvec = np.zeros(len(units)+1)\n",
    "    yvec = np.zeros(len(units)+1)\n",
    "    zvec = np.zeros(len(units)+1)\n",
    "    \n",
    "    fig = plt.figure()\n",
    "    ax = fig.gca(projection='3d')\n",
    "    for idx, u in enumerate(units):\n",
    "        c = character(u, wtpt) \n",
    "        xvec[idx] = c[0]\n",
    "        yvec[idx] = c[1]\n",
    "        zvec[idx] = c[2]\n",
    "        ax.scatter(u[0], u[1], u[2], color=clip2rgb(u))\n",
    "        ax.scatter(c[0], c[1], c[2], color=clip2rgb(c))\n",
    "       \n",
    "        \n",
    "    # make the spline periodic \n",
    "    xvec[-1] = xvec[0]\n",
    "    yvec[-1] = yvec[0]\n",
    "    zvec[-1] = zvec[0]\n",
    "        \n",
    "    \n",
    "    # fit 3 pre-mensuration splines\n",
    "    I = np.linspace(0, 2*np.pi, len(units)+1)\n",
    "    x_spline = intp.make_interp_spline(I, xvec)\n",
    "    y_spline = intp.make_interp_spline(I, yvec)\n",
    "    z_spline = intp.make_interp_spline(I, zvec)\n",
    "   \n",
    "\n",
    "    # get equal spline pts\n",
    "    _, _, equal_spline_pts = get_partition(x_spline, y_spline, z_spline, wtpt, trials=int(1e6), N=100)\n",
    "    for s in equal_spline_pts.T:\n",
    "        ax.scatter(s[0], s[1], s[2], color='black', s=5)\n",
    "        \n",
    "    return equal_spline_pts"
   ]
  },
  {
   "cell_type": "code",
   "execution_count": 31,
   "metadata": {},
   "outputs": [],
   "source": [
    "def wtangle(p1, p2, wt):\n",
    "    \"\"\"Angle between p1 and p2 w.r.t. white point, \n",
    "        where all three are given in xy\"\"\"\n",
    "    v1 = np.array([p1[0] - wt[0], p1[1] - wt[1]])\n",
    "    v2 = np.array([p2[0] - wt[0], p2[1] - wt[1]])\n",
    "    return np.dot(v1, v2)/(np.linalg.norm(v1)*np.linalg.norm(v2))"
   ]
  },
  {
   "cell_type": "code",
   "execution_count": 35,
   "metadata": {},
   "outputs": [],
   "source": [
    "def points2line(p1, p2):\n",
    "    # return (a,b,c) of equation of lines for points\n",
    "    # in form ax + by + c = 0\n",
    "    b = 1\n",
    "    slope = (p1[1] - p2[1])/(p1[0] - p2[0])\n",
    "    a = -slope\n",
    "    c = slope*p1[0] - p1[1]\n",
    "    return (a,b,c)"
   ]
  },
  {
   "cell_type": "code",
   "execution_count": 39,
   "metadata": {},
   "outputs": [],
   "source": [
    "def compl(wl, abeam, cmf):\n",
    "    \"\"\"Make pairs of complementary wavelengths\"\"\"\n",
    "    L = cmf.shape[0]\n",
    "    cwl = CMF[wl]\n",
    "    xywl = XYZ2xyY(cwl[0], cwl[1], cwl[2])[0:2]\n",
    "    wt = np.dot(abeam, cmf)\n",
    "    xywt = XYZ2xyY(wt[0], wt[1], wt[2])[0:2]\n",
    "    \n",
    "    # [1] find complementary wavelength of last element of cmf\n",
    "    xyf = XYZ2xyY(cmf[-1][0], cmf[-1][1], cmf[-1][2])[0:2]\n",
    "    ang = 0\n",
    "    lamf = 0\n",
    "    for i, c in enumerate(cmf):\n",
    "        xyc = XYZ2xyY(c[0], c[1], c[2])[0:2]\n",
    "        angp = abs(wtangle(xyf, xyc, xywt))\n",
    "        if angp > ang:\n",
    "            ang = angp \n",
    "        else: \n",
    "            lamf = i-1\n",
    "            break\n",
    "    \n",
    "    \n",
    "    # [2] find complementary wavelength of cmf[0]\n",
    "    xy0 = XYZ2xyY(cmf[0][0], cmf[0][1], cmf[0][2])[0:2]\n",
    "    l0 = points2line(xy0, xywt)\n",
    "    distset = []\n",
    "    for i, c in enumerate(cmf[lamf:]):\n",
    "        xyc = XYZ2xyY(c[0], c[1], c[2])[0:2]\n",
    "        distset.append(g_line2point(l0, xyc))\n",
    "    comp0 = np.argmin(distset)+lamf\n",
    "    \n",
    "    # [3] check ranges and find complemtary wavelengths\n",
    "    compout = -1\n",
    "    distset = []\n",
    "    ln = points2line(xywl, xywt)\n",
    "    if (wl >= 0) and (wl <= lamf):\n",
    "        # in first range\n",
    "        for c in cmf[comp0:]:\n",
    "            xyc = XYZ2xyY(c[0], c[1], c[2])[0:2]\n",
    "            distset.append(g_line2point(ln, xyc))\n",
    "        compout = np.argmin(distset)+comp0\n",
    "    elif (wl >= comp0) and (wl <= L):\n",
    "        # in second range\n",
    "        for c in cmf[0:(lamf+1)]:\n",
    "            xyc = XYZ2xyY(c[0], c[1], c[2])[0:2]\n",
    "            distset.append(g_line2point(ln, xyc))\n",
    "        compout = np.argmin(distset)\n",
    "    else: \n",
    "        compout = -1\n",
    "    return compout"
   ]
  },
  {
   "cell_type": "code",
   "execution_count": 42,
   "metadata": {},
   "outputs": [],
   "source": [
    "units = make_units(CMF, 30)\n",
    "wtpt = CMF.T@abeam\n",
    "fig = plt.figure()\n",
    "ax = fig.gca(projection='3d')\n",
    "for idx, c in enumerate(CMF):\n",
    "    c1 = character(c/np.linalg.norm(c), wtpt)\n",
    "    ax.scatter(c1[0], c1[1], c1[2], color=clip2rgb(c1))\n",
    "    idx2 = compl(idx, abeam, CMF)\n",
    "    if idx2 != -1:\n",
    "        c2 = character(CMF[idx2]/np.linalg.norm(CMF[idx2]), wtpt)\n",
    "        ax.plot((c1[0], c2[0]), (c1[1], c2[1]), (c1[2], c2[2]), color=clip2rgb(c1))\n",
    "    "
   ]
  },
  {
   "cell_type": "code",
   "execution_count": 13,
   "metadata": {},
   "outputs": [
    {
     "ename": "KeyboardInterrupt",
     "evalue": "",
     "output_type": "error",
     "traceback": [
      "\u001b[0;31m---------------------------------------------------------------------------\u001b[0m",
      "\u001b[0;31mKeyboardInterrupt\u001b[0m                         Traceback (most recent call last)",
      "\u001b[0;32m<ipython-input-13-24b52a841675>\u001b[0m in \u001b[0;36m<module>\u001b[0;34m\u001b[0m\n\u001b[1;32m      1\u001b[0m \u001b[0mabeam\u001b[0m \u001b[0;34m=\u001b[0m \u001b[0mnp\u001b[0m\u001b[0;34m.\u001b[0m\u001b[0mones\u001b[0m\u001b[0;34m(\u001b[0m\u001b[0mCMF\u001b[0m\u001b[0;34m.\u001b[0m\u001b[0mshape\u001b[0m\u001b[0;34m[\u001b[0m\u001b[0;36m0\u001b[0m\u001b[0;34m]\u001b[0m\u001b[0;34m)\u001b[0m\u001b[0;34m\u001b[0m\u001b[0;34m\u001b[0m\u001b[0m\n\u001b[0;32m----> 2\u001b[0;31m \u001b[0mM\u001b[0m \u001b[0;34m=\u001b[0m \u001b[0mmensurate\u001b[0m\u001b[0;34m(\u001b[0m\u001b[0mCMF\u001b[0m\u001b[0;34m,\u001b[0m \u001b[0mabeam\u001b[0m\u001b[0;34m,\u001b[0m \u001b[0;36m100\u001b[0m\u001b[0;34m)\u001b[0m\u001b[0;34m\u001b[0m\u001b[0;34m\u001b[0m\u001b[0m\n\u001b[0m",
      "\u001b[0;32m<ipython-input-10-6244187f1119>\u001b[0m in \u001b[0;36mmensurate\u001b[0;34m(cmf, abeam, N)\u001b[0m\n\u001b[1;32m     42\u001b[0m \u001b[0;34m\u001b[0m\u001b[0m\n\u001b[1;32m     43\u001b[0m     \u001b[0;31m# get equal spline pts\u001b[0m\u001b[0;34m\u001b[0m\u001b[0;34m\u001b[0m\u001b[0;34m\u001b[0m\u001b[0m\n\u001b[0;32m---> 44\u001b[0;31m     \u001b[0m_\u001b[0m\u001b[0;34m,\u001b[0m \u001b[0m_\u001b[0m\u001b[0;34m,\u001b[0m \u001b[0mequal_spline_pts\u001b[0m \u001b[0;34m=\u001b[0m \u001b[0mget_partition\u001b[0m\u001b[0;34m(\u001b[0m\u001b[0mx_spline\u001b[0m\u001b[0;34m,\u001b[0m \u001b[0my_spline\u001b[0m\u001b[0;34m,\u001b[0m \u001b[0mz_spline\u001b[0m\u001b[0;34m,\u001b[0m \u001b[0mwtpt\u001b[0m\u001b[0;34m,\u001b[0m \u001b[0mtrials\u001b[0m\u001b[0;34m=\u001b[0m\u001b[0mint\u001b[0m\u001b[0;34m(\u001b[0m\u001b[0;36m1e6\u001b[0m\u001b[0;34m)\u001b[0m\u001b[0;34m,\u001b[0m \u001b[0mN\u001b[0m\u001b[0;34m=\u001b[0m\u001b[0;36m100\u001b[0m\u001b[0;34m)\u001b[0m\u001b[0;34m\u001b[0m\u001b[0;34m\u001b[0m\u001b[0m\n\u001b[0m\u001b[1;32m     45\u001b[0m     \u001b[0;32mfor\u001b[0m \u001b[0ms\u001b[0m \u001b[0;32min\u001b[0m \u001b[0mequal_spline_pts\u001b[0m\u001b[0;34m.\u001b[0m\u001b[0mT\u001b[0m\u001b[0;34m:\u001b[0m\u001b[0;34m\u001b[0m\u001b[0;34m\u001b[0m\u001b[0m\n\u001b[1;32m     46\u001b[0m         \u001b[0max\u001b[0m\u001b[0;34m.\u001b[0m\u001b[0mscatter\u001b[0m\u001b[0;34m(\u001b[0m\u001b[0ms\u001b[0m\u001b[0;34m[\u001b[0m\u001b[0;36m0\u001b[0m\u001b[0;34m]\u001b[0m\u001b[0;34m,\u001b[0m \u001b[0ms\u001b[0m\u001b[0;34m[\u001b[0m\u001b[0;36m1\u001b[0m\u001b[0;34m]\u001b[0m\u001b[0;34m,\u001b[0m \u001b[0ms\u001b[0m\u001b[0;34m[\u001b[0m\u001b[0;36m2\u001b[0m\u001b[0;34m]\u001b[0m\u001b[0;34m,\u001b[0m \u001b[0mcolor\u001b[0m\u001b[0;34m=\u001b[0m\u001b[0;34m'black'\u001b[0m\u001b[0;34m,\u001b[0m \u001b[0ms\u001b[0m\u001b[0;34m=\u001b[0m\u001b[0;36m5\u001b[0m\u001b[0;34m)\u001b[0m\u001b[0;34m\u001b[0m\u001b[0;34m\u001b[0m\u001b[0m\n",
      "\u001b[0;32m<ipython-input-9-5089cb404d2b>\u001b[0m in \u001b[0;36mget_partition\u001b[0;34m(xspline, yspline, zspline, wtpt, trials, N)\u001b[0m\n\u001b[1;32m      5\u001b[0m     \u001b[0mspline_pts\u001b[0m \u001b[0;34m=\u001b[0m \u001b[0mvec\u001b[0m\u001b[0;34m(\u001b[0m\u001b[0minput_pts\u001b[0m\u001b[0;34m)\u001b[0m\u001b[0;34m\u001b[0m\u001b[0;34m\u001b[0m\u001b[0m\n\u001b[1;32m      6\u001b[0m     \u001b[0;31m# 2. calculate the volume for each wedge\u001b[0m\u001b[0;34m\u001b[0m\u001b[0;34m\u001b[0m\u001b[0;34m\u001b[0m\u001b[0m\n\u001b[0;32m----> 7\u001b[0;31m     \u001b[0mvolumes\u001b[0m \u001b[0;34m=\u001b[0m \u001b[0;34m[\u001b[0m\u001b[0mvolume\u001b[0m\u001b[0;34m(\u001b[0m\u001b[0mwtpt\u001b[0m\u001b[0;34m,\u001b[0m \u001b[0mspline_pts\u001b[0m\u001b[0;34m[\u001b[0m\u001b[0;34m:\u001b[0m\u001b[0;34m,\u001b[0m \u001b[0mi\u001b[0m\u001b[0;34m]\u001b[0m\u001b[0;34m,\u001b[0m \u001b[0mspline_pts\u001b[0m\u001b[0;34m[\u001b[0m\u001b[0;34m:\u001b[0m\u001b[0;34m,\u001b[0m \u001b[0mi\u001b[0m\u001b[0;34m+\u001b[0m\u001b[0;36m1\u001b[0m\u001b[0;34m]\u001b[0m\u001b[0;34m)\u001b[0m \u001b[0;32mfor\u001b[0m \u001b[0mi\u001b[0m \u001b[0;32min\u001b[0m \u001b[0mrange\u001b[0m\u001b[0;34m(\u001b[0m\u001b[0mtrials\u001b[0m\u001b[0;34m)\u001b[0m\u001b[0;34m]\u001b[0m\u001b[0;34m\u001b[0m\u001b[0;34m\u001b[0m\u001b[0m\n\u001b[0m\u001b[1;32m      8\u001b[0m     \u001b[0;31m# 3. fitting routine to get the equal partitions\u001b[0m\u001b[0;34m\u001b[0m\u001b[0;34m\u001b[0m\u001b[0;34m\u001b[0m\u001b[0m\n\u001b[1;32m      9\u001b[0m     \u001b[0mtarget\u001b[0m \u001b[0;34m=\u001b[0m \u001b[0msum\u001b[0m\u001b[0;34m(\u001b[0m\u001b[0mvolumes\u001b[0m\u001b[0;34m)\u001b[0m\u001b[0;34m/\u001b[0m\u001b[0mN\u001b[0m\u001b[0;34m\u001b[0m\u001b[0;34m\u001b[0m\u001b[0m\n",
      "\u001b[0;32m<ipython-input-9-5089cb404d2b>\u001b[0m in \u001b[0;36m<listcomp>\u001b[0;34m(.0)\u001b[0m\n\u001b[1;32m      5\u001b[0m     \u001b[0mspline_pts\u001b[0m \u001b[0;34m=\u001b[0m \u001b[0mvec\u001b[0m\u001b[0;34m(\u001b[0m\u001b[0minput_pts\u001b[0m\u001b[0;34m)\u001b[0m\u001b[0;34m\u001b[0m\u001b[0;34m\u001b[0m\u001b[0m\n\u001b[1;32m      6\u001b[0m     \u001b[0;31m# 2. calculate the volume for each wedge\u001b[0m\u001b[0;34m\u001b[0m\u001b[0;34m\u001b[0m\u001b[0;34m\u001b[0m\u001b[0m\n\u001b[0;32m----> 7\u001b[0;31m     \u001b[0mvolumes\u001b[0m \u001b[0;34m=\u001b[0m \u001b[0;34m[\u001b[0m\u001b[0mvolume\u001b[0m\u001b[0;34m(\u001b[0m\u001b[0mwtpt\u001b[0m\u001b[0;34m,\u001b[0m \u001b[0mspline_pts\u001b[0m\u001b[0;34m[\u001b[0m\u001b[0;34m:\u001b[0m\u001b[0;34m,\u001b[0m \u001b[0mi\u001b[0m\u001b[0;34m]\u001b[0m\u001b[0;34m,\u001b[0m \u001b[0mspline_pts\u001b[0m\u001b[0;34m[\u001b[0m\u001b[0;34m:\u001b[0m\u001b[0;34m,\u001b[0m \u001b[0mi\u001b[0m\u001b[0;34m+\u001b[0m\u001b[0;36m1\u001b[0m\u001b[0;34m]\u001b[0m\u001b[0;34m)\u001b[0m \u001b[0;32mfor\u001b[0m \u001b[0mi\u001b[0m \u001b[0;32min\u001b[0m \u001b[0mrange\u001b[0m\u001b[0;34m(\u001b[0m\u001b[0mtrials\u001b[0m\u001b[0;34m)\u001b[0m\u001b[0;34m]\u001b[0m\u001b[0;34m\u001b[0m\u001b[0;34m\u001b[0m\u001b[0m\n\u001b[0m\u001b[1;32m      8\u001b[0m     \u001b[0;31m# 3. fitting routine to get the equal partitions\u001b[0m\u001b[0;34m\u001b[0m\u001b[0;34m\u001b[0m\u001b[0;34m\u001b[0m\u001b[0m\n\u001b[1;32m      9\u001b[0m     \u001b[0mtarget\u001b[0m \u001b[0;34m=\u001b[0m \u001b[0msum\u001b[0m\u001b[0;34m(\u001b[0m\u001b[0mvolumes\u001b[0m\u001b[0;34m)\u001b[0m\u001b[0;34m/\u001b[0m\u001b[0mN\u001b[0m\u001b[0;34m\u001b[0m\u001b[0;34m\u001b[0m\u001b[0m\n",
      "\u001b[0;32m<ipython-input-8-88a8fe047ce9>\u001b[0m in \u001b[0;36mvolume\u001b[0;34m(a, b, c)\u001b[0m\n\u001b[1;32m      3\u001b[0m     \u001b[0;31m# black point: (0,0,0)\u001b[0m\u001b[0;34m\u001b[0m\u001b[0;34m\u001b[0m\u001b[0;34m\u001b[0m\u001b[0m\n\u001b[1;32m      4\u001b[0m     \u001b[0;31m# volume: |a * (b x c) | / 6\u001b[0m\u001b[0;34m\u001b[0m\u001b[0;34m\u001b[0m\u001b[0;34m\u001b[0m\u001b[0m\n\u001b[0;32m----> 5\u001b[0;31m     \u001b[0;32mreturn\u001b[0m \u001b[0mabs\u001b[0m\u001b[0;34m(\u001b[0m\u001b[0ma\u001b[0m\u001b[0;34m.\u001b[0m\u001b[0mdot\u001b[0m\u001b[0;34m(\u001b[0m\u001b[0mnp\u001b[0m\u001b[0;34m.\u001b[0m\u001b[0mcross\u001b[0m\u001b[0;34m(\u001b[0m\u001b[0mb\u001b[0m\u001b[0;34m,\u001b[0m \u001b[0mc\u001b[0m\u001b[0;34m)\u001b[0m\u001b[0;34m)\u001b[0m\u001b[0;34m)\u001b[0m \u001b[0;34m/\u001b[0m \u001b[0;36m6\u001b[0m\u001b[0;34m\u001b[0m\u001b[0;34m\u001b[0m\u001b[0m\n\u001b[0m",
      "\u001b[0;32m<__array_function__ internals>\u001b[0m in \u001b[0;36mcross\u001b[0;34m(*args, **kwargs)\u001b[0m\n",
      "\u001b[0;32m/usr/lib/python3.9/site-packages/numpy/core/numeric.py\u001b[0m in \u001b[0;36mcross\u001b[0;34m(a, b, axisa, axisb, axisc, axis)\u001b[0m\n\u001b[1;32m   1614\u001b[0m \u001b[0;34m\u001b[0m\u001b[0m\n\u001b[1;32m   1615\u001b[0m     \u001b[0;31m# Create the output array\u001b[0m\u001b[0;34m\u001b[0m\u001b[0;34m\u001b[0m\u001b[0;34m\u001b[0m\u001b[0m\n\u001b[0;32m-> 1616\u001b[0;31m     \u001b[0mshape\u001b[0m \u001b[0;34m=\u001b[0m \u001b[0mbroadcast\u001b[0m\u001b[0;34m(\u001b[0m\u001b[0ma\u001b[0m\u001b[0;34m[\u001b[0m\u001b[0;34m...\u001b[0m\u001b[0;34m,\u001b[0m \u001b[0;36m0\u001b[0m\u001b[0;34m]\u001b[0m\u001b[0;34m,\u001b[0m \u001b[0mb\u001b[0m\u001b[0;34m[\u001b[0m\u001b[0;34m...\u001b[0m\u001b[0;34m,\u001b[0m \u001b[0;36m0\u001b[0m\u001b[0;34m]\u001b[0m\u001b[0;34m)\u001b[0m\u001b[0;34m.\u001b[0m\u001b[0mshape\u001b[0m\u001b[0;34m\u001b[0m\u001b[0;34m\u001b[0m\u001b[0m\n\u001b[0m\u001b[1;32m   1617\u001b[0m     \u001b[0;32mif\u001b[0m \u001b[0ma\u001b[0m\u001b[0;34m.\u001b[0m\u001b[0mshape\u001b[0m\u001b[0;34m[\u001b[0m\u001b[0;34m-\u001b[0m\u001b[0;36m1\u001b[0m\u001b[0;34m]\u001b[0m \u001b[0;34m==\u001b[0m \u001b[0;36m3\u001b[0m \u001b[0;32mor\u001b[0m \u001b[0mb\u001b[0m\u001b[0;34m.\u001b[0m\u001b[0mshape\u001b[0m\u001b[0;34m[\u001b[0m\u001b[0;34m-\u001b[0m\u001b[0;36m1\u001b[0m\u001b[0;34m]\u001b[0m \u001b[0;34m==\u001b[0m \u001b[0;36m3\u001b[0m\u001b[0;34m:\u001b[0m\u001b[0;34m\u001b[0m\u001b[0;34m\u001b[0m\u001b[0m\n\u001b[1;32m   1618\u001b[0m         \u001b[0mshape\u001b[0m \u001b[0;34m+=\u001b[0m \u001b[0;34m(\u001b[0m\u001b[0;36m3\u001b[0m\u001b[0;34m,\u001b[0m\u001b[0;34m)\u001b[0m\u001b[0;34m\u001b[0m\u001b[0;34m\u001b[0m\u001b[0m\n",
      "\u001b[0;31mKeyboardInterrupt\u001b[0m: "
     ]
    }
   ],
   "source": [
    "abeam = np.ones(CMF.shape[0])\n",
    "M = mensurate(CMF, abeam, 100)"
   ]
  },
  {
   "cell_type": "code",
   "execution_count": null,
   "metadata": {},
   "outputs": [],
   "source": [
    "ax.scatter(0,0,0)"
   ]
  },
  {
   "cell_type": "code",
   "execution_count": null,
   "metadata": {},
   "outputs": [],
   "source": []
  }
 ],
 "metadata": {
  "kernelspec": {
   "display_name": "Python 3",
   "language": "python",
   "name": "python3"
  },
  "language_info": {
   "codemirror_mode": {
    "name": "ipython",
    "version": 3
   },
   "file_extension": ".py",
   "mimetype": "text/x-python",
   "name": "python",
   "nbconvert_exporter": "python",
   "pygments_lexer": "ipython3",
   "version": "3.9.3"
  }
 },
 "nbformat": 4,
 "nbformat_minor": 4
}
