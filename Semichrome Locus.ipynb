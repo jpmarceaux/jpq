{
 "cells": [
  {
   "cell_type": "code",
   "execution_count": 1,
   "metadata": {},
   "outputs": [
    {
     "name": "stdout",
     "output_type": "stream",
     "text": [
      "Using matplotlib backend: GTK3Agg\n"
     ]
    }
   ],
   "source": [
    "import numpy as np\n",
    "import matplotlib.pyplot as plt\n",
    "from mpl_toolkits.mplot3d import axes3d\n",
    "from colormath.color_objects import sRGBColor, XYZColor\n",
    "from colormath.color_conversions import convert_color\n",
    "import scipy.interpolate as intp\n",
    "from scipy.optimize import minimize\n",
    "%matplotlib"
   ]
  },
  {
   "cell_type": "code",
   "execution_count": 2,
   "metadata": {},
   "outputs": [
    {
     "name": "stdout",
     "output_type": "stream",
     "text": [
      "(89, 4)\n"
     ]
    }
   ],
   "source": [
    "MF = np.genfromtxt(\"CMF_5nm.csv\", delimiter=',') \n",
    "print(MF.shape)\n",
    "CMF = MF[:, 1:4]\n",
    "ABeam = np.ones(CMF.shape[0])"
   ]
  },
  {
   "cell_type": "code",
   "execution_count": 3,
   "metadata": {},
   "outputs": [],
   "source": [
    "def clip2rgb(xyz):\n",
    "    XYZ = XYZColor(xyz[0], xyz[1], xyz[2])\n",
    "    crgb = convert_color(XYZ, sRGBColor)\n",
    "    r = crgb.rgb_r\n",
    "    g = crgb.rgb_g\n",
    "    b = crgb.rgb_b\n",
    "    r = r if r > 0 else 0\n",
    "    g = g if g > 0 else 0\n",
    "    b = b if b > 0 else 0\n",
    "    r = r if r < 1 else 1\n",
    "    g = g if g < 1 else 1\n",
    "    b = b if b < 1 else 1\n",
    "    return [r, g, b]"
   ]
  },
  {
   "cell_type": "code",
   "execution_count": 4,
   "metadata": {},
   "outputs": [],
   "source": [
    "def XYZ2xyY(X, Y, Z):\n",
    "    r = X + Y + Z\n",
    "    x = X/r\n",
    "    y = Y/r\n",
    "    return [x, y, Y]"
   ]
  },
  {
   "cell_type": "code",
   "execution_count": 5,
   "metadata": {},
   "outputs": [],
   "source": [
    "def g_euc(r1, r2):\n",
    "    g = 0\n",
    "    for i, _ in enumerate(r1):\n",
    "        g+= (r1[i] - r2[i])**2\n",
    "    return np.sqrt(g)"
   ]
  },
  {
   "cell_type": "markdown",
   "metadata": {},
   "source": [
    "## [1] Fit Chromaticity Curve to a B-spline in parameterized xy coordinants"
   ]
  },
  {
   "cell_type": "code",
   "execution_count": 6,
   "metadata": {
    "scrolled": true
   },
   "outputs": [],
   "source": [
    "xvec = []\n",
    "yvec = []\n",
    "for c in CMF:\n",
    "    [x, y, _] = XYZ2xyY(c[0], c[1], c[2])\n",
    "    xvec.append(x)\n",
    "    yvec.append(y)\n",
    "\n",
    "s = np.linspace(0, 1, len(CMF)) # spline coordinant\n",
    "spline = intp.make_interp_spline(s, np.c_[xvec, yvec])\n",
    "\n",
    "def s2wl(s, spline, cmf):\n",
    "    \"\"\"Convert s-coordinant to a wavelength index\n",
    "        by matching closest point in cmf\n",
    "    \"\"\"\n",
    "    xyset = [XYZ2xyY(c[0], c[1], c[2])[0:2] for c in cmf]\n",
    "    distset = [g_euc(spline(s), p) for p in xyset]\n",
    "    return np.argmin(distset)"
   ]
  },
  {
   "cell_type": "code",
   "execution_count": 7,
   "metadata": {},
   "outputs": [
    {
     "data": {
      "text/plain": [
       "[<matplotlib.lines.Line2D at 0x7f5ee23e99d0>]"
      ]
     },
     "execution_count": 7,
     "metadata": {},
     "output_type": "execute_result"
    }
   ],
   "source": [
    "s = np.linspace(0, 1, 100)\n",
    "plt.plot(spline(s)[:,0], spline(s)[:,1])"
   ]
  },
  {
   "cell_type": "markdown",
   "metadata": {},
   "source": [
    "## [2] Define the white point and complementary function"
   ]
  },
  {
   "cell_type": "code",
   "execution_count": 8,
   "metadata": {},
   "outputs": [],
   "source": [
    "wtXYZ = np.dot(ABeam, CMF)\n",
    "wtxy = XYZ2xyY(wtXYZ[0], wtXYZ[1], wtXYZ[2])[0:2]"
   ]
  },
  {
   "cell_type": "code",
   "execution_count": 9,
   "metadata": {},
   "outputs": [],
   "source": [
    "def line(x, m, b):\n",
    "    \"\"\"Function for a line\"\"\"\n",
    "    return m*x+b\n",
    "\n",
    "def g_line2locus(s, xy, wtpt, spline): \n",
    "    \"\"\"distance between line xy-wtpt and locus\"\"\"\n",
    "    slope = (wtpt[1] - xy[1])/(wtpt[0] - xy[0])\n",
    "    b = wtpt[1] - slope*wtpt[0]\n",
    "    if type(s) == np.ndarray: # correction for minimization use\n",
    "        s = s[0]\n",
    "    xy1 = [spline(s)[0], spline(s)[1]]\n",
    "    xy2 = [spline(s)[0], line(spline(s)[0], slope, b)]\n",
    "    return g_euc(xy1, xy2) \n",
    "\n",
    "def comp0(spline, wtpt):\n",
    "    \"\"\"Return complementary spline-coodinant of 0\"\"\"\n",
    "    wlxy = np.array(spline(0))\n",
    "    wtpt = np.array(wtpt)\n",
    "    st = minimize(fun=g_line2locus, x0=0.7, bounds=[(0.1, 0.999)], args=(wlxy, wtpt, spline))\n",
    "    return st\n",
    "\n",
    "def comp1(spline, wtpt):\n",
    "    \"\"\"Return complementary spline-coodinant of 1\"\"\"\n",
    "    wlxy = np.array(spline(1))\n",
    "    wtpt = np.array(wtpt)\n",
    "    st = minimize(fun=g_line2locus, x0=0.2, bounds=[(0, 0.3)], args=(wlxy, wtpt, spline))\n",
    "    return st\n",
    "\n",
    "def comp(s, spline, wtpt):\n",
    "    \"\"\"Return complementary spline-coodinant of s\n",
    "    careful: if s is a green color, then there may be no complementary wl\"\"\"\n",
    "    c0 = comp0(spline, wtpt).x[0]\n",
    "    c1 = comp1(spline, wtpt).x[0]\n",
    "    wlxy = np.array(spline(s))\n",
    "    wtpt = np.array(wtpt)\n",
    "    if 0 <= s and s < c1:\n",
    "        # between lam0 and bar{lam}f\n",
    "        return minimize(fun=g_line2locus, x0=0.7, bounds=[(0.1, 0.999)], args=(wlxy, wtpt, spline)).x[0]\n",
    "    elif c1 <= s and s < c0:\n",
    "        # between bar{lam}f and bar{lam}0\n",
    "        return 1\n",
    "    elif c0 <= s and s <=1:\n",
    "        return minimize(fun=g_line2locus, x0=0.7, bounds=[(0.1, 0.999)], args=(wlxy, wtpt, spline)).x[1]"
   ]
  },
  {
   "cell_type": "code",
   "execution_count": 10,
   "metadata": {},
   "outputs": [
    {
     "name": "stdout",
     "output_type": "stream",
     "text": [
      "[0.71416994 0.28583006] [0.02795488 0.37135672]\n"
     ]
    },
    {
     "data": {
      "text/plain": [
       "<matplotlib.collections.PathCollection at 0x7f5ee2412190>"
      ]
     },
     "execution_count": 10,
     "metadata": {},
     "output_type": "execute_result"
    }
   ],
   "source": [
    "result0 = comp0(spline, wtxy)\n",
    "result1 = comp1(spline, wtxy)\n",
    "xy0 = spline(0)\n",
    "[cxy0] = spline(result0.x)\n",
    "xy1 = spline(1)\n",
    "[cxy1] = spline(result1.x)\n",
    "s = np.linspace(0, 1, 100)\n",
    "plt.plot(spline(s)[:,0], spline(s)[:,1])\n",
    "plt.plot((xy0[0], cxy0[0]), (xy0[1], cxy0[1]))\n",
    "print(xy1, cxy1)\n",
    "plt.plot((xy1[0], cxy1[0]), (xy1[1], cxy1[1]))\n",
    "plt.scatter(wtxy[0], wtxy[1])"
   ]
  },
  {
   "cell_type": "code",
   "execution_count": 11,
   "metadata": {},
   "outputs": [
    {
     "name": "stdout",
     "output_type": "stream",
     "text": [
      "[0.40866544]\n"
     ]
    }
   ],
   "source": [
    "print(comp0(spline, wtxy).x)"
   ]
  },
  {
   "cell_type": "markdown",
   "metadata": {},
   "source": [
    "## [3] define semichrome map"
   ]
  },
  {
   "cell_type": "code",
   "execution_count": 12,
   "metadata": {},
   "outputs": [],
   "source": [
    "def semi(s, spline, wtpt, cmf, sign=True):\n",
    "    c0 = comp0(spline, wtpt).x\n",
    "    c1 = comp1(spline, wtpt).x\n",
    "    if 0 <= s and s < c1:\n",
    "        # between lam0 and bar{lam}f\n",
    "        c = comp(s, spline, wtpt)\n",
    "    elif c1 <= s and s < c0:\n",
    "        # between bar{lam}f and bar{lam}0\n",
    "        c = 1\n",
    "    elif c0 <= s and s <=1:\n",
    "        c = comp(s, spline, wtpt)\n",
    "        sign = not sign\n",
    "    # now construct optimal functions\n",
    "    L = len(cmf)\n",
    "    piout = np.zeros((L))\n",
    "    l_i = s2wl(s, spline, cmf)\n",
    "    l_f = s2wl(c, spline, cmf)\n",
    "    if (sign == True):\n",
    "        piout[l_i:l_f] = 1\n",
    "    elif (sign == False):\n",
    "        piout[0:l_i] = 1\n",
    "        piout[l_f::] = 1\n",
    "    return piout"
   ]
  },
  {
   "cell_type": "code",
   "execution_count": 13,
   "metadata": {},
   "outputs": [
    {
     "data": {
      "text/plain": [
       "[<matplotlib.lines.Line2D at 0x7f5ee23e9fa0>]"
      ]
     },
     "execution_count": 13,
     "metadata": {},
     "output_type": "execute_result"
    }
   ],
   "source": [
    "s = np.linspace(0, 1, 100)\n",
    "plt.plot(spline(s)[:,0], spline(s)[:,1])\n",
    "plt.scatter(wtxy[0], wtxy[1])\n",
    "plt.plot((xy0[0], cxy0[0]), (xy0[1], cxy0[1]))"
   ]
  },
  {
   "cell_type": "code",
   "execution_count": 14,
   "metadata": {},
   "outputs": [],
   "source": [
    "def bump(I, x0, xf):\n",
    "    out = np.zeros(len(I))\n",
    "    if x0 < xf:\n",
    "        out[x0:xf] = 1\n",
    "    elif x0 > xf:\n",
    "        out[x0:] = 1\n",
    "        out[0:xf] = 1\n",
    "    return out\n",
    "\n",
    "def Optimal(wl1, wl2, cmf, normalized=False):\n",
    "    \"\"\"\n",
    "    Optimal windowing function with wrapping\n",
    "    \"\"\"\n",
    "    X =  np.dot(cmf[:,0], bump(cmf, wl1, wl2))\n",
    "    Y =  np.dot(cmf[:,1], bump(cmf, wl1, wl2))\n",
    "    Z =  np.dot(cmf[:,2], bump(cmf, wl1, wl2))\n",
    "    XYZ = [X, Y, Z]\n",
    "    if normalized:\n",
    "        Norm = sum(CMF)\n",
    "        return (XYZ[0]/Norm[0], XYZ[1]/Norm[1], XYZ[2]/Norm[2])\n",
    "    else:\n",
    "        return (XYZ[0], XYZ[1], XYZ[2])"
   ]
  },
  {
   "cell_type": "code",
   "execution_count": 15,
   "metadata": {},
   "outputs": [
    {
     "ename": "IndexError",
     "evalue": "index 1 is out of bounds for axis 0 with size 1",
     "output_type": "error",
     "traceback": [
      "\u001b[0;31m---------------------------------------------------------------------------\u001b[0m",
      "\u001b[0;31mIndexError\u001b[0m                                Traceback (most recent call last)",
      "\u001b[0;32m<ipython-input-15-567c3d8297e4>\u001b[0m in \u001b[0;36m<module>\u001b[0;34m\u001b[0m\n\u001b[1;32m     33\u001b[0m \u001b[0mI\u001b[0m \u001b[0;34m=\u001b[0m \u001b[0mnp\u001b[0m\u001b[0;34m.\u001b[0m\u001b[0mlinspace\u001b[0m\u001b[0;34m(\u001b[0m\u001b[0;36m0\u001b[0m\u001b[0;34m,\u001b[0m \u001b[0mc0\u001b[0m\u001b[0;34m,\u001b[0m \u001b[0;36m20\u001b[0m\u001b[0;34m)\u001b[0m\u001b[0;34m\u001b[0m\u001b[0;34m\u001b[0m\u001b[0m\n\u001b[1;32m     34\u001b[0m \u001b[0;32mfor\u001b[0m \u001b[0mi\u001b[0m \u001b[0;32min\u001b[0m \u001b[0mI\u001b[0m\u001b[0;34m:\u001b[0m\u001b[0;34m\u001b[0m\u001b[0;34m\u001b[0m\u001b[0m\n\u001b[0;32m---> 35\u001b[0;31m     \u001b[0mPip\u001b[0m \u001b[0;34m=\u001b[0m \u001b[0msemi\u001b[0m\u001b[0;34m(\u001b[0m\u001b[0mi\u001b[0m\u001b[0;34m,\u001b[0m \u001b[0mspline\u001b[0m\u001b[0;34m,\u001b[0m \u001b[0mwtxy\u001b[0m\u001b[0;34m,\u001b[0m \u001b[0mCMF\u001b[0m\u001b[0;34m)\u001b[0m\u001b[0;34m\u001b[0m\u001b[0;34m\u001b[0m\u001b[0m\n\u001b[0m\u001b[1;32m     36\u001b[0m     \u001b[0mcpi\u001b[0m \u001b[0;34m=\u001b[0m \u001b[0mnp\u001b[0m\u001b[0;34m.\u001b[0m\u001b[0mdot\u001b[0m\u001b[0;34m(\u001b[0m\u001b[0mPip\u001b[0m\u001b[0;34m,\u001b[0m \u001b[0mCMF\u001b[0m\u001b[0;34m)\u001b[0m\u001b[0;34m\u001b[0m\u001b[0;34m\u001b[0m\u001b[0m\n\u001b[1;32m     37\u001b[0m     \u001b[0mrgb\u001b[0m \u001b[0;34m=\u001b[0m \u001b[0mclip2rgb\u001b[0m\u001b[0;34m(\u001b[0m\u001b[0mcpi\u001b[0m\u001b[0;34m)\u001b[0m\u001b[0;34m\u001b[0m\u001b[0;34m\u001b[0m\u001b[0m\n",
      "\u001b[0;32m<ipython-input-12-c4998ae7c2a4>\u001b[0m in \u001b[0;36msemi\u001b[0;34m(s, spline, wtpt, cmf, sign)\u001b[0m\n\u001b[1;32m      9\u001b[0m         \u001b[0mc\u001b[0m \u001b[0;34m=\u001b[0m \u001b[0;36m1\u001b[0m\u001b[0;34m\u001b[0m\u001b[0;34m\u001b[0m\u001b[0m\n\u001b[1;32m     10\u001b[0m     \u001b[0;32melif\u001b[0m \u001b[0mc0\u001b[0m \u001b[0;34m<=\u001b[0m \u001b[0ms\u001b[0m \u001b[0;32mand\u001b[0m \u001b[0ms\u001b[0m \u001b[0;34m<=\u001b[0m\u001b[0;36m1\u001b[0m\u001b[0;34m:\u001b[0m\u001b[0;34m\u001b[0m\u001b[0;34m\u001b[0m\u001b[0m\n\u001b[0;32m---> 11\u001b[0;31m         \u001b[0mc\u001b[0m \u001b[0;34m=\u001b[0m \u001b[0mcomp\u001b[0m\u001b[0;34m(\u001b[0m\u001b[0ms\u001b[0m\u001b[0;34m,\u001b[0m \u001b[0mspline\u001b[0m\u001b[0;34m,\u001b[0m \u001b[0mwtpt\u001b[0m\u001b[0;34m)\u001b[0m\u001b[0;34m\u001b[0m\u001b[0;34m\u001b[0m\u001b[0m\n\u001b[0m\u001b[1;32m     12\u001b[0m         \u001b[0msign\u001b[0m \u001b[0;34m=\u001b[0m \u001b[0;32mnot\u001b[0m \u001b[0msign\u001b[0m\u001b[0;34m\u001b[0m\u001b[0;34m\u001b[0m\u001b[0m\n\u001b[1;32m     13\u001b[0m     \u001b[0;31m# now construct optimal functions\u001b[0m\u001b[0;34m\u001b[0m\u001b[0;34m\u001b[0m\u001b[0;34m\u001b[0m\u001b[0m\n",
      "\u001b[0;32m<ipython-input-9-e89e41c2bfc1>\u001b[0m in \u001b[0;36mcomp\u001b[0;34m(s, spline, wtpt)\u001b[0m\n\u001b[1;32m     41\u001b[0m         \u001b[0;32mreturn\u001b[0m \u001b[0;36m1\u001b[0m\u001b[0;34m\u001b[0m\u001b[0;34m\u001b[0m\u001b[0m\n\u001b[1;32m     42\u001b[0m     \u001b[0;32melif\u001b[0m \u001b[0mc0\u001b[0m \u001b[0;34m<=\u001b[0m \u001b[0ms\u001b[0m \u001b[0;32mand\u001b[0m \u001b[0ms\u001b[0m \u001b[0;34m<=\u001b[0m\u001b[0;36m1\u001b[0m\u001b[0;34m:\u001b[0m\u001b[0;34m\u001b[0m\u001b[0;34m\u001b[0m\u001b[0m\n\u001b[0;32m---> 43\u001b[0;31m         \u001b[0;32mreturn\u001b[0m \u001b[0mminimize\u001b[0m\u001b[0;34m(\u001b[0m\u001b[0mfun\u001b[0m\u001b[0;34m=\u001b[0m\u001b[0mg_line2locus\u001b[0m\u001b[0;34m,\u001b[0m \u001b[0mx0\u001b[0m\u001b[0;34m=\u001b[0m\u001b[0;36m0.7\u001b[0m\u001b[0;34m,\u001b[0m \u001b[0mbounds\u001b[0m\u001b[0;34m=\u001b[0m\u001b[0;34m[\u001b[0m\u001b[0;34m(\u001b[0m\u001b[0;36m0.1\u001b[0m\u001b[0;34m,\u001b[0m \u001b[0;36m0.999\u001b[0m\u001b[0;34m)\u001b[0m\u001b[0;34m]\u001b[0m\u001b[0;34m,\u001b[0m \u001b[0margs\u001b[0m\u001b[0;34m=\u001b[0m\u001b[0;34m(\u001b[0m\u001b[0mwlxy\u001b[0m\u001b[0;34m,\u001b[0m \u001b[0mwtpt\u001b[0m\u001b[0;34m,\u001b[0m \u001b[0mspline\u001b[0m\u001b[0;34m)\u001b[0m\u001b[0;34m)\u001b[0m\u001b[0;34m.\u001b[0m\u001b[0mx\u001b[0m\u001b[0;34m[\u001b[0m\u001b[0;36m1\u001b[0m\u001b[0;34m]\u001b[0m\u001b[0;34m\u001b[0m\u001b[0;34m\u001b[0m\u001b[0m\n\u001b[0m",
      "\u001b[0;31mIndexError\u001b[0m: index 1 is out of bounds for axis 0 with size 1"
     ]
    }
   ],
   "source": [
    "C0 = []\n",
    "C1 = []\n",
    "C2 = []\n",
    "RGB = []\n",
    "fig = plt.figure()\n",
    "ax = fig.gca(projection='3d')\n",
    "ax.set_xlim(sum(CMF[:,0]))\n",
    "ax.set_ylim(sum(CMF[:,1]))\n",
    "ax.set_zlim(sum(CMF[:,2]))\n",
    "L = CMF.shape[0]\n",
    "for i in range(0, L, 1):\n",
    "    for j in range(0, L, 1):\n",
    "        O = Optimal(i, (i+j)%L, CMF)\n",
    "        C0.append( O[0] )\n",
    "        C1.append( O[1] )\n",
    "        C2.append( O[2] )\n",
    "        C = XYZColor(O[0]/sum(CMF)[0], O[1]/sum(CMF)[1], O[2]/sum(CMF)[2])\n",
    "        crgb = convert_color(C, sRGBColor)\n",
    "        r = crgb.rgb_r\n",
    "        g = crgb.rgb_g\n",
    "        b = crgb.rgb_b\n",
    "        r = r if r > 0 else 0\n",
    "        g = g if g > 0 else 0\n",
    "        b = b if b > 0 else 0\n",
    "        r = r if r < 1 else 1\n",
    "        g = g if g < 1 else 1\n",
    "        b = b if b < 1 else 1\n",
    "        rgb = [r, g, b]\n",
    "        RGB.append(rgb)\n",
    "ax.scatter(C0, C1, C2, c=RGB)\n",
    "\n",
    "c0 = comp0(spline, wtxy).x[0]\n",
    "I = np.linspace(0, c0, 20)\n",
    "for i in I:\n",
    "    Pip = semi(i, spline, wtxy, CMF)\n",
    "    cpi = np.dot(Pip, CMF)\n",
    "    rgb = clip2rgb(cpi)\n",
    "    ax.scatter(cpi[0], cpi[1], cpi[2], color=rgb, s=500)\n",
    "    Pim = semi(i, spline, wtxy, CMF, False)\n",
    "    cpi = np.dot(Pim, CMF)\n",
    "    rgb = clip2rgb(cpi)\n",
    "    ax.scatter(cpi[0], cpi[1], cpi[2], color=rgb, s=500)"
   ]
  },
  {
   "cell_type": "code",
   "execution_count": null,
   "metadata": {},
   "outputs": [],
   "source": []
  },
  {
   "cell_type": "markdown",
   "metadata": {},
   "source": [
    "## [4] find semichromes $\\Pi^+_{\\lambda, \\bar{\\lambda}}$ for $\\lambda \\in [\\lambda_0, \\bar{\\lambda}_0]$"
   ]
  },
  {
   "cell_type": "code",
   "execution_count": null,
   "metadata": {},
   "outputs": [],
   "source": []
  },
  {
   "cell_type": "code",
   "execution_count": null,
   "metadata": {},
   "outputs": [],
   "source": []
  }
 ],
 "metadata": {
  "kernelspec": {
   "display_name": "Python 3",
   "language": "python",
   "name": "python3"
  },
  "language_info": {
   "codemirror_mode": {
    "name": "ipython",
    "version": 3
   },
   "file_extension": ".py",
   "mimetype": "text/x-python",
   "name": "python",
   "nbconvert_exporter": "python",
   "pygments_lexer": "ipython3",
   "version": "3.9.2"
  }
 },
 "nbformat": 4,
 "nbformat_minor": 4
}
