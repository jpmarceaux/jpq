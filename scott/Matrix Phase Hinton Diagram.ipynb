{
 "cells": [
  {
   "cell_type": "code",
   "execution_count": 1,
   "metadata": {},
   "outputs": [],
   "source": [
    "# Folder where jpq/ is installed\n",
    "containing_folder = '/home/scott/Desktop'"
   ]
  },
  {
   "cell_type": "code",
   "execution_count": 2,
   "metadata": {},
   "outputs": [],
   "source": [
    "import numpy as np\n",
    "import matplotlib.pyplot as plt\n",
    "import base64\n",
    "from io import BytesIO"
   ]
  },
  {
   "cell_type": "code",
   "execution_count": 3,
   "metadata": {},
   "outputs": [],
   "source": [
    "def complexColor(z):\n",
    "    # Converts magnitude and phase to a standard RGB triple (between 0 and 1)\n",
    "    # Use standard mapping of magnitude and phase to HSL (H = phase, L = magnitude, S = 1)\n",
    "    # Then map HSL to RGB and return a triple\n",
    "    # Magnitude assumed not greater than 1\n",
    "    \n",
    "    norm = np.abs(z)\n",
    "    phase = np.angle(z)\n",
    "    \n",
    "    C = 1 - abs(2*norm - 1)\n",
    "    H = phase/(np.pi / 3) # Finds which of the 6 sections of the color wheel the phase belongs to\n",
    "    X = C * (1 - abs((H % 2) - 1))\n",
    "    \n",
    "    # 6 cases corresponding to the 6 sections\n",
    "    if H <= 1:\n",
    "        R = C\n",
    "        G = X\n",
    "        B = 0\n",
    "    elif H <= 2:\n",
    "        R = X\n",
    "        G = C\n",
    "        B = 0\n",
    "    elif H <= 3:\n",
    "        R = 0\n",
    "        G = C\n",
    "        B = X\n",
    "    elif H <= 4:\n",
    "        R = 0\n",
    "        G = X\n",
    "        B = C\n",
    "    elif H <= 5:\n",
    "        R = X\n",
    "        G = 0\n",
    "        B = C\n",
    "    elif H <= 6:\n",
    "        R = C\n",
    "        G = 0\n",
    "        B = X\n",
    "    else:\n",
    "        R = 0\n",
    "        G = 0\n",
    "        B = 0\n",
    "        \n",
    "    m = norm - C/2\n",
    "    \n",
    "    return (R+m, G+m, B+m)"
   ]
  },
  {
   "cell_type": "code",
   "execution_count": 4,
   "metadata": {},
   "outputs": [],
   "source": [
    "def phasePlot(num, x, y, scale = 1):\n",
    "    # NUM is a complex number\n",
    "    # X and Y are coordinates of the center of the phase diagram\n",
    "    # SCALE can be used to scale all values as needed (e.g. normalization)\n",
    "    # Returns a circle that can be plotted\n",
    "\n",
    "    r = np.abs(num) * scale\n",
    "    theta = np.angle(num)\n",
    "\n",
    "    return plt.Circle((x, y), r, color=complexColor(num))"
   ]
  },
  {
   "cell_type": "code",
   "execution_count": 5,
   "metadata": {},
   "outputs": [],
   "source": [
    "def matrixPhase(matrix):\n",
    "    # Plot a Hinton diagram of a matrix of complex numbers\n",
    "    # MATRIX assumed to have complex numbers with magnitude at most 1\n",
    "    # MATRIX also assumed to be square\n",
    "\n",
    "    array = np.asarray(matrix)\n",
    "    dim = array.shape[0]\n",
    "    rect_coords = [i/dim for i in range(dim+1)]\n",
    "    figure, axes = plt.subplots()\n",
    "\n",
    "    # Due to matrix indexing, i controls y-coodinate, j controls x-coordinate\n",
    "    for i in range(dim):\n",
    "        for j in range(dim):            \n",
    "            # Use RECT_COORDS to find centers of the phase diagram circle\n",
    "            # Alternatively can implement as m x n array with each entry containing a tuple for the center points\n",
    "            x = (rect_coords[j] + rect_coords[j+1]) / 2\n",
    "            y = 1 - (rect_coords[i] + rect_coords[i+1]) / 2\n",
    "            \n",
    "            theta = np.angle(array[i][j])\n",
    "\n",
    "            circle = phasePlot(array[i][j], x, y, scale=1/(2*dim)) # Divide by dimension to fit inside assigned square, which is diameter, not radius\n",
    "            axes.add_patch(circle)\n",
    "            plt.plot([x, x + np.cos(theta)/(dim**2)], [y, y + np.sin(theta)/(dim**2)], linestyle='-', color='k')\n",
    "    plt.xlim([0,1])\n",
    "    plt.ylim([0,1])\n",
    "    axes.set_aspect('equal', adjustable='box') # use adjustable='datalim' if we want the entire plot to be rectangular\n",
    "    plt.show()"
   ]
  },
  {
   "cell_type": "code",
   "execution_count": 6,
   "metadata": {},
   "outputs": [],
   "source": [
    "def matrixPhaseHTML(matrix):\n",
    "    # Generate a Hinton diagram of a matrix of complex numbers and return the HTML code for it\n",
    "    # Also returns the HTML for the mapping between phase and color\n",
    "    # MATRIX assumed to have complex numbers with magnitude at most 1\n",
    "    # MATRIX also assumed to be square\n",
    "\n",
    "    array = np.asarray(matrix)\n",
    "    dim = array.shape[0]\n",
    "    rect_coords = [i/dim for i in range(dim+1)]\n",
    "    figure, axes = plt.subplots()\n",
    "\n",
    "    # Due to matrix indexing, i controls y-coodinate, j controls x-coordinate\n",
    "    for i in range(dim):\n",
    "        for j in range(dim):            \n",
    "            # Use RECT_COORDS to find centers of the phase diagram circle\n",
    "            # Alternatively can implement as m x n array with each entry containing a tuple for the center points\n",
    "            x = (rect_coords[j] + rect_coords[j+1]) / 2\n",
    "            y = 1 - (rect_coords[i] + rect_coords[i+1]) / 2\n",
    "            \n",
    "            theta = np.angle(array[i][j])\n",
    "\n",
    "            circle = phasePlot(array[i][j], x, y, scale=1/(2*dim)) # Divide by dimension to fit inside assigned square, which is diameter, not radius\n",
    "            axes.add_patch(circle)\n",
    "            plt.plot([x, x + np.cos(theta)/(dim**2)], [y, y + np.sin(theta)/(dim**2)], linestyle='-', color='k')\n",
    "    plt.xlim([0,1])\n",
    "    plt.ylim([0,1])\n",
    "    axes.set_aspect('equal', adjustable='box') # use adjustable='datalim' if we want the entire plot to be rectangular\n",
    "    \n",
    "    tmpfile = BytesIO()\n",
    "    figure.savefig(tmpfile, format='png')\n",
    "    data = base64.b64encode(tmpfile.getbuffer()).decode('utf-8')\n",
    "    return f\"<img src='file:///{containing_folder}/jpq/scott/hsl-color-wheel.png'/>\" + f\"<img src='data:image/png;base64,{data}'/>\""
   ]
  },
  {
   "cell_type": "code",
   "execution_count": 7,
   "metadata": {},
   "outputs": [
    {
     "data": {
      "image/png": "[encoded data removed]",
      "text/plain": [
       "<Figure size 432x288 with 1 Axes>"
      ]
     },
     "metadata": {
      "needs_background": "light"
     },
     "output_type": "display_data"
    }
   ],
   "source": [
    "with open('test.html', 'w') as f:\n",
    "    f.write(matrixPhaseHTML([[0.5+0.5j,0.3],[0.1,0.8]]))"
   ]
  },
  {
   "cell_type": "code",
   "execution_count": 8,
   "metadata": {},
   "outputs": [
    {
     "data": {
      "image/png": "[encoded data removed]",
      "text/plain": [
       "<Figure size 432x288 with 1 Axes>"
      ]
     },
     "metadata": {
      "needs_background": "light"
     },
     "output_type": "display_data"
    }
   ],
   "source": [
    "# For testing\n",
    "matrixPhase([[0.5+0.5j,0.3],[0.1,0.8]])"
   ]
  },
  {
   "cell_type": "code",
   "execution_count": 9,
   "metadata": {},
   "outputs": [
    {
     "data": {
      "image/png": "[encoded data removed]",
      "text/plain": [
       "<Figure size 432x288 with 1 Axes>"
      ]
     },
     "metadata": {
      "needs_background": "light"
     },
     "output_type": "display_data"
    }
   ],
   "source": [
    "html = matrixPhaseHTML([[0.5+0.5j,0.3],[0.1,0.8]])"
   ]
  },
  {
   "cell_type": "code",
   "execution_count": 10,
   "metadata": {},
   "outputs": [
    {
     "data": {
      "text/plain": [
       "\"<img src='file:////home/scott/Desktop/jpq/scott/hsl-color-wheel.png'/><img src='data:image/png;base64,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'/>\""
      ]
     },
     "execution_count": 10,
     "metadata": {},
     "output_type": "execute_result"
    }
   ],
   "source": [
    "html"
   ]
  },
  {
   "cell_type": "code",
   "execution_count": null,
   "metadata": {},
   "outputs": [],
   "source": []
  }
 ],
 "metadata": {
  "history": [
   {
    "code": "import numpy as np\nimport matplotlib.pyplot as plt\n\ndef phasePlot(num, x, y, maxSize = 0):\n    # X and Y are coordinates of the center of the phase diagram\n\n    r = np.abs(num)\n    if maxSize:\n        r = np.abs(num) / maxSize\n    theta = np.angle(num)\n\n    circle = plt.Circle((x, y), r, color=blue)\n    figure, axes = plt.subplots()\n    axes.add_patch(circle)\n\n    plot([x, r * np.cos(theta)], [y, r * np.sin(theta)], linestyle='-', color=black)\n\ndef matrixPhase(matrix):\n    # MATRIX assumed to have complex numbers with magnitude at most 1\n    # MATRIX also assumed to be square\n\n    array = np.asarray(matrix)\n    dim = array.shape[0]\n    rect_coords = [i/dim for i in range(dim)]\n\n    # Due to matrix indexing, i controls y-coodinate, j controls x-coordinate\n    for i in range(dim):\n        for j in range(dim):\n            # Use RECT_COORDS to find centers of the phase diagram circle\n            x = (rect_coords[j] + rect_coords[j+1]) / 2\n            y = (rect_coords[i] + rect_coords[i+1]) / 2\n\n            phasePlot(array[i][j], x, y)\n    plt.xlim([0,1])\n    plt.ylim([0,1])\n    plt.show()",
    "id": "31c7f865a69048aea468bace9c93576f",
    "idx": 0,
    "time": "2021-02-05T06:42:45.383Z",
    "type": "execution"
   },
   {
    "id": "31c7f865a69048aea468bace9c93576f",
    "time": "2021-02-05T06:42:48.948Z",
    "type": "completion"
   },
   {
    "code": "1+2",
    "id": "7d09b66a39ea40e7817cbf220febd955",
    "idx": 1,
    "time": "2021-02-05T06:42:57.842Z",
    "type": "execution"
   },
   {
    "id": "7d09b66a39ea40e7817cbf220febd955",
    "time": "2021-02-05T06:42:57.932Z",
    "type": "completion"
   },
   {
    "code": "matrixPhase([[1,0],[0,1]])",
    "id": "2525a6262d174fca8142f179e009cc05",
    "idx": 2,
    "time": "2021-02-05T06:43:18.184Z",
    "type": "execution"
   },
   {
    "id": "2525a6262d174fca8142f179e009cc05",
    "time": "2021-02-05T06:43:18.350Z",
    "type": "completion"
   },
   {
    "code": "import numpy as np\nimport matplotlib.pyplot as plt\n\ndef phasePlot(num, x, y, maxSize = 0):\n    # X and Y are coordinates of the center of the phase diagram\n\n    r = np.abs(num)\n    if maxSize:\n        r = np.abs(num) / maxSize\n    theta = np.angle(num)\n\n    circle = plt.Circle((x, y), r, color='b')\n    figure, axes = plt.subplots()\n    axes.add_patch(circle)\n\n    plot([x, r * np.cos(theta)], [y, r * np.sin(theta)], linestyle='-', color='k')\n\ndef matrixPhase(matrix):\n    # MATRIX assumed to have complex numbers with magnitude at most 1\n    # MATRIX also assumed to be square\n\n    array = np.asarray(matrix)\n    dim = array.shape[0]\n    rect_coords = [i/dim for i in range(dim)]\n\n    # Due to matrix indexing, i controls y-coodinate, j controls x-coordinate\n    for i in range(dim):\n        for j in range(dim):\n            # Use RECT_COORDS to find centers of the phase diagram circle\n            x = (rect_coords[j] + rect_coords[j+1]) / 2\n            y = (rect_coords[i] + rect_coords[i+1]) / 2\n\n            phasePlot(array[i][j], x, y)\n    plt.xlim([0,1])\n    plt.ylim([0,1])\n    plt.show()",
    "id": "31c7f865a69048aea468bace9c93576f",
    "idx": 0,
    "time": "2021-02-05T06:43:32.899Z",
    "type": "execution"
   },
   {
    "id": "31c7f865a69048aea468bace9c93576f",
    "time": "2021-02-05T06:43:32.988Z",
    "type": "completion"
   },
   {
    "code": "matrixPhase([[1,0],[0,1]])",
    "id": "2525a6262d174fca8142f179e009cc05",
    "idx": 2,
    "time": "2021-02-05T06:43:35.165Z",
    "type": "execution"
   },
   {
    "id": "2525a6262d174fca8142f179e009cc05",
    "time": "2021-02-05T06:43:35.412Z",
    "type": "completion"
   },
   {
    "code": "import numpy as np\nimport matplotlib.pyplot as plt\n\ndef phasePlot(num, x, y, maxSize = 0):\n    # X and Y are coordinates of the center of the phase diagram\n\n    r = np.abs(num)\n    if maxSize:\n        r = np.abs(num) / maxSize\n    theta = np.angle(num)\n\n    circle = plt.Circle((x, y), r, color='b')\n    figure, axes = plt.subplots()\n    axes.add_patch(circle)\n\n    plt.plot([x, r * np.cos(theta)], [y, r * np.sin(theta)], linestyle='-', color='k')\n\ndef matrixPhase(matrix):\n    # MATRIX assumed to have complex numbers with magnitude at most 1\n    # MATRIX also assumed to be square\n\n    array = np.asarray(matrix)\n    dim = array.shape[0]\n    rect_coords = [i/dim for i in range(dim)]\n\n    # Due to matrix indexing, i controls y-coodinate, j controls x-coordinate\n    for i in range(dim):\n        for j in range(dim):\n            # Use RECT_COORDS to find centers of the phase diagram circle\n            x = (rect_coords[j] + rect_coords[j+1]) / 2\n            y = (rect_coords[i] + rect_coords[i+1]) / 2\n\n            phasePlot(array[i][j], x, y)\n    plt.xlim([0,1])\n    plt.ylim([0,1])\n    plt.show()",
    "id": "31c7f865a69048aea468bace9c93576f",
    "idx": 0,
    "time": "2021-02-05T06:43:53.054Z",
    "type": "execution"
   },
   {
    "id": "31c7f865a69048aea468bace9c93576f",
    "time": "2021-02-05T06:43:53.173Z",
    "type": "completion"
   },
   {
    "code": "matrixPhase([[1,0],[0,1]])",
    "id": "2525a6262d174fca8142f179e009cc05",
    "idx": 1,
    "time": "2021-02-05T06:43:54.929Z",
    "type": "execution"
   },
   {
    "id": "2525a6262d174fca8142f179e009cc05",
    "time": "2021-02-05T06:43:55.306Z",
    "type": "completion"
   },
   {
    "code": "import numpy as np\nimport matplotlib.pyplot as plt\n\ndef phasePlot(num, x, y, maxSize = 0):\n    # X and Y are coordinates of the center of the phase diagram\n\n    r = np.abs(num)\n    if maxSize:\n        r = np.abs(num) / maxSize\n    theta = np.angle(num)\n\n    circle = plt.Circle((x, y), r, color='b')\n    figure, axes = plt.subplots()\n    axes.add_patch(circle)\n\n    plt.plot([x, r * np.cos(theta)], [y, r * np.sin(theta)], linestyle='-', color='k')\n\ndef matrixPhase(matrix):\n    # MATRIX assumed to have complex numbers with magnitude at most 1\n    # MATRIX also assumed to be square\n\n    array = np.asarray(matrix)\n    dim = array.shape[0]\n    rect_coords = [i/dim for i in range(dim+1)]\n\n    # Due to matrix indexing, i controls y-coodinate, j controls x-coordinate\n    for i in range(dim-1):\n        for j in range(dim-1):\n            # Use RECT_COORDS to find centers of the phase diagram circle\n            x = (rect_coords[j] + rect_coords[j+1]) / 2\n            y = (rect_coords[i] + rect_coords[i+1]) / 2\n\n            phasePlot(array[i][j], x, y)\n    plt.xlim([0,1])\n    plt.ylim([0,1])\n    plt.show()",
    "id": "31c7f865a69048aea468bace9c93576f",
    "idx": 0,
    "time": "2021-02-05T06:44:44.712Z",
    "type": "execution"
   },
   {
    "id": "31c7f865a69048aea468bace9c93576f",
    "time": "2021-02-05T06:44:44.793Z",
    "type": "completion"
   },
   {
    "code": "matrixPhase([[1,0],[0,1]])",
    "id": "2525a6262d174fca8142f179e009cc05",
    "idx": 1,
    "time": "2021-02-05T06:44:46.310Z",
    "type": "execution"
   },
   {
    "id": "2525a6262d174fca8142f179e009cc05",
    "time": "2021-02-05T06:44:46.532Z",
    "type": "completion"
   },
   {
    "code": "matrixPhase([[0.5,0],[0,0]])",
    "id": "2525a6262d174fca8142f179e009cc05",
    "idx": 1,
    "time": "2021-02-05T06:44:57.764Z",
    "type": "execution"
   },
   {
    "id": "2525a6262d174fca8142f179e009cc05",
    "time": "2021-02-05T06:44:58.006Z",
    "type": "completion"
   },
   {
    "code": "np.abs(1)",
    "id": "6860843d654b438195edb2cedc6263af",
    "idx": 2,
    "time": "2021-02-05T06:45:36.866Z",
    "type": "execution"
   },
   {
    "id": "6860843d654b438195edb2cedc6263af",
    "time": "2021-02-05T06:45:36.959Z",
    "type": "completion"
   },
   {
    "code": "np.abs(i)",
    "id": "3538fa8cd703431e8e866ff7de7dfe59",
    "idx": 3,
    "time": "2021-02-05T06:45:41.141Z",
    "type": "execution"
   },
   {
    "id": "3538fa8cd703431e8e866ff7de7dfe59",
    "time": "2021-02-05T06:45:41.221Z",
    "type": "completion"
   },
   {
    "code": "np.abs(j)",
    "id": "3538fa8cd703431e8e866ff7de7dfe59",
    "idx": 3,
    "time": "2021-02-05T06:45:44.247Z",
    "type": "execution"
   },
   {
    "id": "3538fa8cd703431e8e866ff7de7dfe59",
    "time": "2021-02-05T06:45:44.338Z",
    "type": "completion"
   },
   {
    "code": "1+j",
    "id": "79c4796d24c146208ad2c6fa96b87e73",
    "idx": 4,
    "time": "2021-02-05T06:48:16.755Z",
    "type": "execution"
   },
   {
    "id": "79c4796d24c146208ad2c6fa96b87e73",
    "time": "2021-02-05T06:48:16.863Z",
    "type": "completion"
   },
   {
    "code": "np.sum(1,j)",
    "id": "d503792537a34df289fefc00effc8cd2",
    "idx": 5,
    "time": "2021-02-05T06:48:24.703Z",
    "type": "execution"
   },
   {
    "id": "d503792537a34df289fefc00effc8cd2",
    "time": "2021-02-05T06:48:24.794Z",
    "type": "completion"
   },
   {
    "code": "numpy.iscomplex(1.j)",
    "id": "d341fd82c234470d857f25a124f467fd",
    "idx": 2,
    "time": "2021-02-05T06:49:37.522Z",
    "type": "execution"
   },
   {
    "id": "d341fd82c234470d857f25a124f467fd",
    "time": "2021-02-05T06:49:37.609Z",
    "type": "completion"
   },
   {
    "code": "np.iscomplex(1.j)",
    "id": "d341fd82c234470d857f25a124f467fd",
    "idx": 2,
    "time": "2021-02-05T06:49:45.976Z",
    "type": "execution"
   },
   {
    "id": "d341fd82c234470d857f25a124f467fd",
    "time": "2021-02-05T06:49:46.057Z",
    "type": "completion"
   },
   {
    "code": "1+2.J",
    "id": "aa4e765611ee4931b90f10b264ff1261",
    "idx": 3,
    "time": "2021-02-05T06:49:55.892Z",
    "type": "execution"
   },
   {
    "id": "aa4e765611ee4931b90f10b264ff1261",
    "time": "2021-02-05T06:49:55.972Z",
    "type": "completion"
   },
   {
    "code": "1+2.j + 3+4.j",
    "id": "07d24d29ae624d088a424b4ff370aee0",
    "idx": 4,
    "time": "2021-02-05T06:50:03.931Z",
    "type": "execution"
   },
   {
    "id": "07d24d29ae624d088a424b4ff370aee0",
    "time": "2021-02-05T06:50:04.025Z",
    "type": "completion"
   },
   {
    "code": "np.iscomplex(1.j)",
    "id": "cce6cd6af05e478180a6c30b4f8a16eb",
    "idx": 2,
    "time": "2021-02-05T06:50:19.331Z",
    "type": "execution"
   },
   {
    "id": "cce6cd6af05e478180a6c30b4f8a16eb",
    "time": "2021-02-05T06:50:19.409Z",
    "type": "completion"
   },
   {
    "code": "np.iscomplex(1)",
    "id": "cce6cd6af05e478180a6c30b4f8a16eb",
    "idx": 2,
    "time": "2021-02-05T06:50:22.856Z",
    "type": "execution"
   },
   {
    "id": "cce6cd6af05e478180a6c30b4f8a16eb",
    "time": "2021-02-05T06:50:22.946Z",
    "type": "completion"
   },
   {
    "code": "np.angle(1.j)",
    "id": "cf4ea8f41d8048d6aa4b8b9a2f92438c",
    "idx": 3,
    "time": "2021-02-05T06:50:29.846Z",
    "type": "execution"
   },
   {
    "id": "cf4ea8f41d8048d6aa4b8b9a2f92438c",
    "time": "2021-02-05T06:50:29.938Z",
    "type": "completion"
   },
   {
    "code": "np.angle(1.j, deg=true)",
    "id": "cf4ea8f41d8048d6aa4b8b9a2f92438c",
    "idx": 3,
    "time": "2021-02-05T06:50:36.004Z",
    "type": "execution"
   },
   {
    "id": "cf4ea8f41d8048d6aa4b8b9a2f92438c",
    "time": "2021-02-05T06:50:36.087Z",
    "type": "completion"
   },
   {
    "code": "np.angle(1.j, degree=true)",
    "id": "cf4ea8f41d8048d6aa4b8b9a2f92438c",
    "idx": 3,
    "time": "2021-02-05T06:50:38.750Z",
    "type": "execution"
   },
   {
    "id": "cf4ea8f41d8048d6aa4b8b9a2f92438c",
    "time": "2021-02-05T06:50:38.849Z",
    "type": "completion"
   },
   {
    "code": "np.angle(1.j, deg=True)",
    "id": "cf4ea8f41d8048d6aa4b8b9a2f92438c",
    "idx": 3,
    "time": "2021-02-05T06:50:59.354Z",
    "type": "execution"
   },
   {
    "id": "cf4ea8f41d8048d6aa4b8b9a2f92438c",
    "time": "2021-02-05T06:50:59.433Z",
    "type": "completion"
   },
   {
    "code": "np.angle(1+1.j, deg=True)",
    "id": "cf4ea8f41d8048d6aa4b8b9a2f92438c",
    "idx": 3,
    "time": "2021-02-05T06:51:05.182Z",
    "type": "execution"
   },
   {
    "id": "cf4ea8f41d8048d6aa4b8b9a2f92438c",
    "time": "2021-02-05T06:51:05.263Z",
    "type": "completion"
   },
   {
    "code": "matrixPhase([[1,0],[0,0]])",
    "id": "2525a6262d174fca8142f179e009cc05",
    "idx": 1,
    "time": "2021-02-05T06:51:36.860Z",
    "type": "execution"
   },
   {
    "id": "2525a6262d174fca8142f179e009cc05",
    "time": "2021-02-05T06:51:37.104Z",
    "type": "completion"
   },
   {
    "code": "matrixPhase([[0.1,0],[0,0]])",
    "id": "2525a6262d174fca8142f179e009cc05",
    "idx": 1,
    "time": "2021-02-05T06:51:40.708Z",
    "type": "execution"
   },
   {
    "id": "2525a6262d174fca8142f179e009cc05",
    "time": "2021-02-05T06:51:40.940Z",
    "type": "completion"
   },
   {
    "code": "import numpy as np\nimport matplotlib.pyplot as plt\n\ndef phasePlot(num, x, y, maxSize = 0):\n    # X and Y are coordinates of the center of the phase diagram\n\n    r = np.abs(num)\n    if maxSize:\n        r = np.abs(num) / maxSize\n    theta = np.angle(num)\n\n    circle = plt.Circle((x, y), r, color='b')\n    figure, axes = plt.subplots()\n    axes.add_patch(circle)\n\n    plt.plot([x, r * np.cos(theta)], [y, r * np.sin(theta)], linestyle='-', color='k')\n\ndef matrixPhase(matrix):\n    # MATRIX assumed to have complex numbers with magnitude at most 1\n    # MATRIX also assumed to be square\n\n    array = np.asarray(matrix)\n    dim = array.shape[0]\n    rect_coords = [i/dim for i in range(dim+1)]\n\n    # Due to matrix indexing, i controls y-coodinate, j controls x-coordinate\n    for i in range(dim-1):\n        for j in range(dim-1):\n            # Use RECT_COORDS to find centers of the phase diagram circle\n            x = (rect_coords[j] + rect_coords[j+1]) / 2\n            y = 1 - (rect_coords[i] + rect_coords[i+1]) / 2\n\n            phasePlot(array[i][j], x, y)\n    plt.xlim([0,1])\n    plt.ylim([0,1])\n    plt.show()",
    "id": "31c7f865a69048aea468bace9c93576f",
    "idx": 0,
    "time": "2021-02-05T06:52:48.758Z",
    "type": "execution"
   },
   {
    "id": "31c7f865a69048aea468bace9c93576f",
    "time": "2021-02-05T06:52:48.847Z",
    "type": "completion"
   },
   {
    "code": "matrixPhase([[0.1,0],[0,0]])",
    "id": "2525a6262d174fca8142f179e009cc05",
    "idx": 1,
    "time": "2021-02-05T06:52:49.713Z",
    "type": "execution"
   },
   {
    "id": "2525a6262d174fca8142f179e009cc05",
    "time": "2021-02-05T06:52:49.950Z",
    "type": "completion"
   },
   {
    "code": "import numpy as np\nimport matplotlib.pyplot as plt\n\ndef phasePlot(num, x, y, maxSize = 0):\n    # X and Y are coordinates of the center of the phase diagram\n\n    r = np.abs(num)\n    if maxSize:\n        r = np.abs(num) / maxSize\n    theta = np.angle(num)\n\n    circle = plt.Circle((x, y), r, color='b')\n    figure, axes = plt.subplots()\n    axes.add_patch(circle)\n\n    plt.plot([x, x + r * np.cos(theta)], [y, y + r * np.sin(theta)], linestyle='-', color='k')\n\ndef matrixPhase(matrix):\n    # MATRIX assumed to have complex numbers with magnitude at most 1\n    # MATRIX also assumed to be square\n\n    array = np.asarray(matrix)\n    dim = array.shape[0]\n    rect_coords = [i/dim for i in range(dim+1)]\n\n    # Due to matrix indexing, i controls y-coodinate, j controls x-coordinate\n    for i in range(dim-1):\n        for j in range(dim-1):\n            # Use RECT_COORDS to find centers of the phase diagram circle\n            x = (rect_coords[j] + rect_coords[j+1]) / 2\n            y = 1 - (rect_coords[i] + rect_coords[i+1]) / 2\n\n            phasePlot(array[i][j], x, y)\n    plt.xlim([0,1])\n    plt.ylim([0,1])\n    plt.show()",
    "id": "31c7f865a69048aea468bace9c93576f",
    "idx": 0,
    "time": "2021-02-05T06:53:10.818Z",
    "type": "execution"
   },
   {
    "id": "31c7f865a69048aea468bace9c93576f",
    "time": "2021-02-05T06:53:10.908Z",
    "type": "completion"
   },
   {
    "code": "matrixPhase([[0.1,0],[0,0]])",
    "id": "2525a6262d174fca8142f179e009cc05",
    "idx": 1,
    "time": "2021-02-05T06:53:11.508Z",
    "type": "execution"
   },
   {
    "id": "2525a6262d174fca8142f179e009cc05",
    "time": "2021-02-05T06:53:11.739Z",
    "type": "completion"
   },
   {
    "code": "import numpy as np\nimport matplotlib.pyplot as plt\n\ndef phasePlot(num, x, y, maxSize = 0):\n    # X and Y are coordinates of the center of the phase diagram\n\n    r = np.abs(num)\n    if maxSize:\n        r = np.abs(num) / maxSize\n    theta = np.angle(num)\n\n    circle = plt.Circle((x, y), r, color='c')\n    figure, axes = plt.subplots()\n    axes.add_patch(circle)\n\n    plt.plot([x, x + r * np.cos(theta)], [y, y + r * np.sin(theta)], linestyle='-', color='k')\n\ndef matrixPhase(matrix):\n    # MATRIX assumed to have complex numbers with magnitude at most 1\n    # MATRIX also assumed to be square\n\n    array = np.asarray(matrix)\n    dim = array.shape[0]\n    rect_coords = [i/dim for i in range(dim+1)]\n\n    # Due to matrix indexing, i controls y-coodinate, j controls x-coordinate\n    for i in range(dim-1):\n        for j in range(dim-1):\n            # Use RECT_COORDS to find centers of the phase diagram circle\n            x = (rect_coords[j] + rect_coords[j+1]) / 2\n            y = 1 - (rect_coords[i] + rect_coords[i+1]) / 2\n\n            phasePlot(array[i][j], x, y)\n    plt.xlim([0,1])\n    plt.ylim([0,1])\n    plt.show()",
    "id": "31c7f865a69048aea468bace9c93576f",
    "idx": 0,
    "time": "2021-02-05T06:53:21.559Z",
    "type": "execution"
   },
   {
    "id": "31c7f865a69048aea468bace9c93576f",
    "time": "2021-02-05T06:53:21.648Z",
    "type": "completion"
   },
   {
    "code": "matrixPhase([[0.1,0],[0,0]])",
    "id": "2525a6262d174fca8142f179e009cc05",
    "idx": 1,
    "time": "2021-02-05T06:53:23.306Z",
    "type": "execution"
   },
   {
    "id": "2525a6262d174fca8142f179e009cc05",
    "time": "2021-02-05T06:53:23.531Z",
    "type": "completion"
   },
   {
    "code": "matrixPhase([[1,0],[0,0]])",
    "id": "2525a6262d174fca8142f179e009cc05",
    "idx": 1,
    "time": "2021-02-05T06:53:30.551Z",
    "type": "execution"
   },
   {
    "id": "2525a6262d174fca8142f179e009cc05",
    "time": "2021-02-05T06:53:30.786Z",
    "type": "completion"
   },
   {
    "code": "import numpy as np\nimport matplotlib.pyplot as plt\n\ndef phasePlot(num, x, y, maxSize = 0):\n    # X and Y are coordinates of the center of the phase diagram\n\n    r = np.abs(num)\n    if maxSize:\n        r = np.abs(num) / maxSize\n    theta = np.angle(num)\n\n    circle = plt.Circle((x, y), r, color='c')\n    figure, axes = plt.subplots()\n    axes.add_patch(circle)\n\n    plt.plot([x, x + r * np.cos(theta)], [y, y + r * np.sin(theta)], linestyle='-', color='k')\n\ndef matrixPhase(matrix):\n    # MATRIX assumed to have complex numbers with magnitude at most 1\n    # MATRIX also assumed to be square\n\n    array = np.asarray(matrix)\n    dim = array.shape[0]\n    rect_coords = [i/dim for i in range(dim+1)]\n\n    # Due to matrix indexing, i controls y-coodinate, j controls x-coordinate\n    for i in range(dim-1):\n        for j in range(dim-1):\n            # Use RECT_COORDS to find centers of the phase diagram circle\n            x = (rect_coords[j] + rect_coords[j+1]) / 2\n            y = 1 - (rect_coords[i] + rect_coords[i+1]) / 2\n\n            phasePlot(array[i][j], x, y, maxSize=1/dim)\n    plt.xlim([0,1])\n    plt.ylim([0,1])\n    plt.show()",
    "id": "31c7f865a69048aea468bace9c93576f",
    "idx": 0,
    "time": "2021-02-05T06:53:54.683Z",
    "type": "execution"
   },
   {
    "id": "31c7f865a69048aea468bace9c93576f",
    "time": "2021-02-05T06:53:54.771Z",
    "type": "completion"
   },
   {
    "code": "matrixPhase([[1,0],[0,0]])",
    "id": "2525a6262d174fca8142f179e009cc05",
    "idx": 1,
    "time": "2021-02-05T06:53:55.153Z",
    "type": "execution"
   },
   {
    "id": "2525a6262d174fca8142f179e009cc05",
    "time": "2021-02-05T06:53:55.373Z",
    "type": "completion"
   },
   {
    "code": "import numpy as np\nimport matplotlib.pyplot as plt\n\ndef phasePlot(num, x, y, maxSize = 0):\n    # X and Y are coordinates of the center of the phase diagram\n\n    r = np.abs(num)\n    if maxSize:\n        r = np.abs(num) / maxSize\n    theta = np.angle(num)\n\n    circle = plt.Circle((x, y), r, color='c')\n    figure, axes = plt.subplots()\n    axes.add_patch(circle)\n\n    plt.plot([x, x + r * np.cos(theta)], [y, y + r * np.sin(theta)], linestyle='-', color='k')\n\ndef matrixPhase(matrix):\n    # MATRIX assumed to have complex numbers with magnitude at most 1\n    # MATRIX also assumed to be square\n\n    array = np.asarray(matrix)\n    dim = array.shape[0]\n    rect_coords = [i/dim for i in range(dim+1)]\n\n    # Due to matrix indexing, i controls y-coodinate, j controls x-coordinate\n    for i in range(dim-1):\n        for j in range(dim-1):\n            # Use RECT_COORDS to find centers of the phase diagram circle\n            x = (rect_coords[j] + rect_coords[j+1]) / 2\n            y = 1 - (rect_coords[i] + rect_coords[i+1]) / 2\n\n            phasePlot(array[i][j], x, y, maxSize = 1 / dim)\n    plt.xlim([0,1])\n    plt.ylim([0,1])\n    plt.show()",
    "id": "31c7f865a69048aea468bace9c93576f",
    "idx": 0,
    "time": "2021-02-05T06:54:18.761Z",
    "type": "execution"
   },
   {
    "id": "31c7f865a69048aea468bace9c93576f",
    "time": "2021-02-05T06:54:18.854Z",
    "type": "completion"
   },
   {
    "code": "matrixPhase([[1,0],[0,0]])",
    "id": "2525a6262d174fca8142f179e009cc05",
    "idx": 1,
    "time": "2021-02-05T06:54:19.488Z",
    "type": "execution"
   },
   {
    "id": "2525a6262d174fca8142f179e009cc05",
    "time": "2021-02-05T06:54:19.725Z",
    "type": "completion"
   },
   {
    "code": "array = np.asarray([[1,0],[0,0]])",
    "id": "d95d817ce44746338605558cec4bc995",
    "idx": 4,
    "time": "2021-02-05T06:54:41.900Z",
    "type": "execution"
   },
   {
    "id": "d95d817ce44746338605558cec4bc995",
    "time": "2021-02-05T06:54:41.979Z",
    "type": "completion"
   },
   {
    "code": "array.shape",
    "id": "9f4feedede2c490988d99a65887ec9ae",
    "idx": 5,
    "time": "2021-02-05T06:54:47.695Z",
    "type": "execution"
   },
   {
    "id": "9f4feedede2c490988d99a65887ec9ae",
    "time": "2021-02-05T06:54:47.779Z",
    "type": "completion"
   },
   {
    "code": "matrixPhase([[1,0],[0,0]])",
    "id": "2525a6262d174fca8142f179e009cc05",
    "idx": 1,
    "time": "2021-02-05T06:55:12.989Z",
    "type": "execution"
   },
   {
    "id": "2525a6262d174fca8142f179e009cc05",
    "time": "2021-02-05T06:55:13.344Z",
    "type": "completion"
   },
   {
    "code": "import numpy as np\nimport matplotlib.pyplot as plt\n\ndef phasePlot(num, x, y, maxSize = 0):\n    # X and Y are coordinates of the center of the phase diagram\n\n    r = np.abs(num)\n    if maxSize:\n        r = np.abs(num) / maxSize\n    theta = np.angle(num)\n\n    circle = plt.Circle((x, y), r, color='c')\n    figure, axes = plt.subplots()\n    axes.add_patch(circle)\n\n    plt.plot([x, x + r * np.cos(theta)], [y, y + r * np.sin(theta)], linestyle='-', color='k')\n\ndef matrixPhase(matrix):\n    # MATRIX assumed to have complex numbers with magnitude at most 1\n    # MATRIX also assumed to be square\n\n    array = np.asarray(matrix)\n    dim = array.shape[0]\n    rect_coords = [i/dim for i in range(dim+1)]\n\n    # Due to matrix indexing, i controls y-coodinate, j controls x-coordinate\n    for i in range(dim-1):\n        for j in range(dim-1):\n            # Use RECT_COORDS to find centers of the phase diagram circle\n            x = (rect_coords[j] + rect_coords[j+1]) / 2\n            y = 1 - (rect_coords[i] + rect_coords[i+1]) / 2\n\n            phasePlot(array[i][j], x, y, maxSize = 1 / dim)\n    plt.xlim([0,1])\n    plt.ylim([0,1])\n    plt.show()",
    "id": "31c7f865a69048aea468bace9c93576f",
    "idx": 0,
    "time": "2021-02-05T06:55:35.694Z",
    "type": "execution"
   },
   {
    "id": "31c7f865a69048aea468bace9c93576f",
    "time": "2021-02-05T06:55:36.172Z",
    "type": "completion"
   },
   {
    "code": "matrixPhase([[1,0],[0,0]])",
    "id": "2525a6262d174fca8142f179e009cc05",
    "idx": 1,
    "time": "2021-02-05T06:55:38.244Z",
    "type": "execution"
   },
   {
    "id": "2525a6262d174fca8142f179e009cc05",
    "time": "2021-02-05T06:55:38.544Z",
    "type": "completion"
   },
   {
    "code": "import numpy as np\nimport matplotlib.pyplot as plt\n\ndef phasePlot(num, x, y; maxSize = 0):\n    # X and Y are coordinates of the center of the phase diagram\n\n    r = np.abs(num)\n    if maxSize:\n        r = np.abs(num) / maxSize\n    theta = np.angle(num)\n\n    circle = plt.Circle((x, y), r, color='c')\n    figure, axes = plt.subplots()\n    axes.add_patch(circle)\n\n    plt.plot([x, x + r * np.cos(theta)], [y, y + r * np.sin(theta)], linestyle='-', color='k')\n\ndef matrixPhase(matrix):\n    # MATRIX assumed to have complex numbers with magnitude at most 1\n    # MATRIX also assumed to be square\n\n    array = np.asarray(matrix)\n    dim = array.shape[0]\n    rect_coords = [i/dim for i in range(dim+1)]\n\n    # Due to matrix indexing, i controls y-coodinate, j controls x-coordinate\n    for i in range(dim-1):\n        for j in range(dim-1):\n            # Use RECT_COORDS to find centers of the phase diagram circle\n            x = (rect_coords[j] + rect_coords[j+1]) / 2\n            y = 1 - (rect_coords[i] + rect_coords[i+1]) / 2\n\n            phasePlot(array[i][j], x, y, maxSize = 1 / dim)\n    plt.xlim([0,1])\n    plt.ylim([0,1])\n    plt.show()",
    "id": "31c7f865a69048aea468bace9c93576f",
    "idx": 0,
    "time": "2021-02-05T06:55:56.735Z",
    "type": "execution"
   },
   {
    "id": "31c7f865a69048aea468bace9c93576f",
    "time": "2021-02-05T06:55:56.825Z",
    "type": "completion"
   },
   {
    "code": "matrixPhase([[1,0],[0,0]])",
    "id": "2525a6262d174fca8142f179e009cc05",
    "idx": 1,
    "time": "2021-02-05T06:55:57.379Z",
    "type": "execution"
   },
   {
    "id": "2525a6262d174fca8142f179e009cc05",
    "time": "2021-02-05T06:55:57.611Z",
    "type": "completion"
   },
   {
    "code": "import numpy as np\nimport matplotlib.pyplot as plt\n\ndef phasePlot(num, x, y; maxSize = 0):\n    # X and Y are coordinates of the center of the phase diagram\n\n    r = np.abs(num)\n    if maxSize:\n        r = np.abs(num) / maxSize\n    theta = np.angle(num)\n\n    circle = plt.Circle((x, y), r, color='c')\n    figure, axes = plt.subplots()\n    axes.add_patch(circle)\n\n    plt.plot([x, x + r * np.cos(theta)], [y, y + r * np.sin(theta)], linestyle='-', color='k')\n\ndef matrixPhase(matrix):\n    # MATRIX assumed to have complex numbers with magnitude at most 1\n    # MATRIX also assumed to be square\n\n    array = np.asarray(matrix)\n    dim = array.shape[0]\n    rect_coords = [i/dim for i in range(dim+1)]\n\n    # Due to matrix indexing, i controls y-coodinate, j controls x-coordinate\n    for i in range(dim-1):\n        for j in range(dim-1):\n            # Use RECT_COORDS to find centers of the phase diagram circle\n            x = (rect_coords[j] + rect_coords[j+1]) / 2\n            y = 1 - (rect_coords[i] + rect_coords[i+1]) / 2\n\n            phasePlot(array[i][j], x, y, 1 / dim)\n    plt.xlim([0,1])\n    plt.ylim([0,1])\n    plt.show()",
    "id": "31c7f865a69048aea468bace9c93576f",
    "idx": 0,
    "time": "2021-02-05T06:57:10.538Z",
    "type": "execution"
   },
   {
    "id": "31c7f865a69048aea468bace9c93576f",
    "time": "2021-02-05T06:57:10.636Z",
    "type": "completion"
   },
   {
    "code": "matrixPhase([[1,0],[0,0]])",
    "id": "2525a6262d174fca8142f179e009cc05",
    "idx": 1,
    "time": "2021-02-05T06:57:11.617Z",
    "type": "execution"
   },
   {
    "id": "2525a6262d174fca8142f179e009cc05",
    "time": "2021-02-05T06:57:11.843Z",
    "type": "completion"
   },
   {
    "code": "import numpy as np\nimport matplotlib.pyplot as plt\n\ndef phasePlot(num, x, y, maxSize = 0):\n    # X and Y are coordinates of the center of the phase diagram\n\n    r = np.abs(num)\n    if maxSize:\n        r = np.abs(num) / maxSize\n    theta = np.angle(num)\n\n    circle = plt.Circle((x, y), r, color='c')\n    figure, axes = plt.subplots()\n    axes.add_patch(circle)\n\n    plt.plot([x, x + r * np.cos(theta)], [y, y + r * np.sin(theta)], linestyle='-', color='k')\n\ndef matrixPhase(matrix):\n    # MATRIX assumed to have complex numbers with magnitude at most 1\n    # MATRIX also assumed to be square\n\n    array = np.asarray(matrix)\n    dim = array.shape[0]\n    rect_coords = [i/dim for i in range(dim+1)]\n\n    # Due to matrix indexing, i controls y-coodinate, j controls x-coordinate\n    for i in range(dim-1):\n        for j in range(dim-1):\n            # Use RECT_COORDS to find centers of the phase diagram circle\n            x = (rect_coords[j] + rect_coords[j+1]) / 2\n            y = 1 - (rect_coords[i] + rect_coords[i+1]) / 2\n\n            phasePlot(array[i][j], x, y, 1 / dim)\n    plt.xlim([0,1])\n    plt.ylim([0,1])\n    plt.show()",
    "id": "31c7f865a69048aea468bace9c93576f",
    "idx": 0,
    "time": "2021-02-05T06:57:17.648Z",
    "type": "execution"
   },
   {
    "id": "31c7f865a69048aea468bace9c93576f",
    "time": "2021-02-05T06:57:17.737Z",
    "type": "completion"
   },
   {
    "code": "matrixPhase([[1,0],[0,0]])",
    "id": "2525a6262d174fca8142f179e009cc05",
    "idx": 1,
    "time": "2021-02-05T06:57:17.972Z",
    "type": "execution"
   },
   {
    "id": "2525a6262d174fca8142f179e009cc05",
    "time": "2021-02-05T06:57:18.195Z",
    "type": "completion"
   },
   {
    "code": "import numpy as np\nimport matplotlib.pyplot as plt\n\ndef phasePlot(num, x, y, maxSize = 0):\n    # X and Y are coordinates of the center of the phase diagram\n\n    r = np.abs(num)\n    if maxSize:\n        r = r / maxSize\n    theta = np.angle(num)\n\n    circle = plt.Circle((x, y), r, color='c')\n    figure, axes = plt.subplots()\n    axes.add_patch(circle)\n\n    plt.plot([x, x + r * np.cos(theta)], [y, y + r * np.sin(theta)], linestyle='-', color='k')\n\ndef matrixPhase(matrix):\n    # MATRIX assumed to have complex numbers with magnitude at most 1\n    # MATRIX also assumed to be square\n\n    array = np.asarray(matrix)\n    dim = array.shape[0]\n    rect_coords = [i/dim for i in range(dim+1)]\n\n    # Due to matrix indexing, i controls y-coodinate, j controls x-coordinate\n    for i in range(dim-1):\n        for j in range(dim-1):\n            # Use RECT_COORDS to find centers of the phase diagram circle\n            x = (rect_coords[j] + rect_coords[j+1]) / 2\n            y = 1 - (rect_coords[i] + rect_coords[i+1]) / 2\n\n            phasePlot(array[i][j], x, y, 1 / dim)\n    plt.xlim([0,1])\n    plt.ylim([0,1])\n    plt.show()",
    "id": "31c7f865a69048aea468bace9c93576f",
    "idx": 0,
    "time": "2021-02-05T06:57:33.057Z",
    "type": "execution"
   },
   {
    "id": "31c7f865a69048aea468bace9c93576f",
    "time": "2021-02-05T06:57:33.146Z",
    "type": "completion"
   },
   {
    "code": "matrixPhase([[1,0],[0,0]])",
    "id": "2525a6262d174fca8142f179e009cc05",
    "idx": 1,
    "time": "2021-02-05T06:57:33.528Z",
    "type": "execution"
   },
   {
    "id": "2525a6262d174fca8142f179e009cc05",
    "time": "2021-02-05T06:57:33.755Z",
    "type": "completion"
   },
   {
    "code": "bool(1/2)",
    "id": "04baddbf64c446958f3a9279718cabf7",
    "idx": 2,
    "time": "2021-02-05T06:57:48.139Z",
    "type": "execution"
   },
   {
    "id": "04baddbf64c446958f3a9279718cabf7",
    "time": "2021-02-05T06:57:48.228Z",
    "type": "completion"
   },
   {
    "code": "bool(0)",
    "id": "f2fc3793b44a450c825eb7b6beec1920",
    "idx": 3,
    "time": "2021-02-05T06:57:51.435Z",
    "type": "execution"
   },
   {
    "id": "f2fc3793b44a450c825eb7b6beec1920",
    "time": "2021-02-05T06:57:51.520Z",
    "type": "completion"
   },
   {
    "code": "import numpy as np\nimport matplotlib.pyplot as plt\n\ndef phasePlot(num, x, y, maxSize = 0):\n    # X and Y are coordinates of the center of the phase diagram\n\n    r = np.abs(num)\n    if maxSize:\n        r = r / maxSize\n    theta = np.angle(num)\n\n    circle = plt.Circle((x, y), r, color='c')\n    figure, axes = plt.subplots()\n    axes.add_patch(circle)\n\n    plt.plot([x, x + r * np.cos(theta)], [y, y + r * np.sin(theta)], linestyle='-', color='k')\n\ndef matrixPhase(matrix):\n    # MATRIX assumed to have complex numbers with magnitude at most 1\n    # MATRIX also assumed to be square\n\n    array = np.asarray(matrix)\n    dim = array.shape[0]\n    rect_coords = [i/dim for i in range(dim+1)]\n\n    # Due to matrix indexing, i controls y-coodinate, j controls x-coordinate\n    for i in range(dim-1):\n        for j in range(dim-1):\n            # Use RECT_COORDS to find centers of the phase diagram circle\n            x = (rect_coords[j] + rect_coords[j+1]) / 2\n            y = 1 - (rect_coords[i] + rect_coords[i+1]) / 2\n\n            phasePlot(array[i][j], x, y, (1 / dim)\n    plt.xlim([0,1])\n    plt.ylim([0,1])\n    plt.show()",
    "id": "31c7f865a69048aea468bace9c93576f",
    "idx": 0,
    "time": "2021-02-05T06:58:02.203Z",
    "type": "execution"
   },
   {
    "id": "31c7f865a69048aea468bace9c93576f",
    "time": "2021-02-05T06:58:02.289Z",
    "type": "completion"
   },
   {
    "code": "import numpy as np\nimport matplotlib.pyplot as plt\n\ndef phasePlot(num, x, y, maxSize = 0):\n    # X and Y are coordinates of the center of the phase diagram\n\n    r = np.abs(num)\n    if maxSize:\n        r = r / maxSize\n    theta = np.angle(num)\n\n    circle = plt.Circle((x, y), r, color='c')\n    figure, axes = plt.subplots()\n    axes.add_patch(circle)\n\n    plt.plot([x, x + r * np.cos(theta)], [y, y + r * np.sin(theta)], linestyle='-', color='k')\n\ndef matrixPhase(matrix):\n    # MATRIX assumed to have complex numbers with magnitude at most 1\n    # MATRIX also assumed to be square\n\n    array = np.asarray(matrix)\n    dim = array.shape[0]\n    rect_coords = [i/dim for i in range(dim+1)]\n\n    # Due to matrix indexing, i controls y-coodinate, j controls x-coordinate\n    for i in range(dim-1):\n        for j in range(dim-1):\n            # Use RECT_COORDS to find centers of the phase diagram circle\n            x = (rect_coords[j] + rect_coords[j+1]) / 2\n            y = 1 - (rect_coords[i] + rect_coords[i+1]) / 2\n\n            phasePlot(array[i][j], x, y, (1 / dim))\n    plt.xlim([0,1])\n    plt.ylim([0,1])\n    plt.show()",
    "id": "31c7f865a69048aea468bace9c93576f",
    "idx": 0,
    "time": "2021-02-05T06:58:05.594Z",
    "type": "execution"
   },
   {
    "id": "31c7f865a69048aea468bace9c93576f",
    "time": "2021-02-05T06:58:05.680Z",
    "type": "completion"
   },
   {
    "code": "matrixPhase([[1,0],[0,0]])",
    "id": "2525a6262d174fca8142f179e009cc05",
    "idx": 1,
    "time": "2021-02-05T06:58:06.435Z",
    "type": "execution"
   },
   {
    "id": "2525a6262d174fca8142f179e009cc05",
    "time": "2021-02-05T06:58:06.673Z",
    "type": "completion"
   },
   {
    "code": "matrixPhase([[0.5,0],[0,0]])",
    "id": "2525a6262d174fca8142f179e009cc05",
    "idx": 1,
    "time": "2021-02-05T06:58:15.975Z",
    "type": "execution"
   },
   {
    "code": "bool(1/2)",
    "id": "04baddbf64c446958f3a9279718cabf7",
    "idx": 2,
    "time": "2021-02-05T06:58:16.163Z",
    "type": "execution"
   },
   {
    "id": "2525a6262d174fca8142f179e009cc05",
    "time": "2021-02-05T06:58:16.209Z",
    "type": "completion"
   },
   {
    "id": "04baddbf64c446958f3a9279718cabf7",
    "time": "2021-02-05T06:58:16.260Z",
    "type": "completion"
   },
   {
    "code": "matrixPhase([[0.5,0],[0,0]])",
    "id": "2525a6262d174fca8142f179e009cc05",
    "idx": 1,
    "time": "2021-02-05T06:58:18.276Z",
    "type": "execution"
   },
   {
    "id": "2525a6262d174fca8142f179e009cc05",
    "time": "2021-02-05T06:58:18.502Z",
    "type": "completion"
   },
   {
    "code": "matrixPhase([[0,0],[0,0]])",
    "id": "2525a6262d174fca8142f179e009cc05",
    "idx": 1,
    "time": "2021-02-05T06:58:37.869Z",
    "type": "execution"
   },
   {
    "id": "2525a6262d174fca8142f179e009cc05",
    "time": "2021-02-05T06:58:38.099Z",
    "type": "completion"
   },
   {
    "code": "matrixPhase([[0.3,0],[0,0]])",
    "id": "2525a6262d174fca8142f179e009cc05",
    "idx": 1,
    "time": "2021-02-05T06:58:41.567Z",
    "type": "execution"
   },
   {
    "id": "2525a6262d174fca8142f179e009cc05",
    "time": "2021-02-05T06:58:41.800Z",
    "type": "completion"
   },
   {
    "code": "np.abs(0.3)",
    "id": "fa93e570401c463b9383ede9cdc1f794",
    "idx": 4,
    "time": "2021-02-05T06:58:50.232Z",
    "type": "execution"
   },
   {
    "id": "fa93e570401c463b9383ede9cdc1f794",
    "time": "2021-02-05T06:58:50.317Z",
    "type": "completion"
   },
   {
    "code": "np.abs(0.3.j)",
    "id": "29d7e0e374ee41cc89e60f49be3695da",
    "idx": 5,
    "time": "2021-02-05T06:58:59.148Z",
    "type": "execution"
   },
   {
    "id": "29d7e0e374ee41cc89e60f49be3695da",
    "time": "2021-02-05T06:58:59.303Z",
    "type": "completion"
   },
   {
    "code": "np.abs(0.3j)",
    "id": "29d7e0e374ee41cc89e60f49be3695da",
    "idx": 5,
    "time": "2021-02-05T06:59:08.233Z",
    "type": "execution"
   },
   {
    "id": "29d7e0e374ee41cc89e60f49be3695da",
    "time": "2021-02-05T06:59:08.326Z",
    "type": "completion"
   },
   {
    "code": "np.abs(1+0.3j)",
    "id": "29d7e0e374ee41cc89e60f49be3695da",
    "idx": 5,
    "time": "2021-02-05T06:59:13.400Z",
    "type": "execution"
   },
   {
    "id": "29d7e0e374ee41cc89e60f49be3695da",
    "time": "2021-02-05T06:59:13.495Z",
    "type": "completion"
   },
   {
    "code": "import numpy as np\nimport matplotlib.pyplot as plt",
    "id": "a173dcab21dd4cbb939b0a734bb59058",
    "idx": 0,
    "time": "2021-02-05T06:59:44.005Z",
    "type": "execution"
   },
   {
    "id": "a173dcab21dd4cbb939b0a734bb59058",
    "time": "2021-02-05T06:59:44.085Z",
    "type": "completion"
   },
   {
    "code": "import numpy as np\nimport matplotlib.pyplot as plt",
    "id": "a173dcab21dd4cbb939b0a734bb59058",
    "idx": 0,
    "time": "2021-02-05T07:00:17.751Z",
    "type": "execution"
   },
   {
    "id": "a173dcab21dd4cbb939b0a734bb59058",
    "time": "2021-02-05T07:00:18.219Z",
    "type": "completion"
   },
   {
    "code": "def phasePlot(num, x, y, maxSize = 0):\n    # X and Y are coordinates of the center of the phase diagram\n\n    r = np.abs(num)\n    if maxSize:\n        r = r / maxSize\n    theta = np.angle(num)\n\n    circle = plt.Circle((x, y), r, color='c')\n    figure, axes = plt.subplots()\n    axes.add_patch(circle)\n\n    plt.plot([x, x + r * np.cos(theta)], [y, y + r * np.sin(theta)], linestyle='-', color='k')",
    "id": "fb7b56f9b64c404890f3be9959c6049e",
    "idx": 1,
    "time": "2021-02-05T07:00:19.019Z",
    "type": "execution"
   },
   {
    "id": "fb7b56f9b64c404890f3be9959c6049e",
    "time": "2021-02-05T07:00:19.130Z",
    "type": "completion"
   },
   {
    "code": "def matrixPhase(matrix):\n    # MATRIX assumed to have complex numbers with magnitude at most 1\n    # MATRIX also assumed to be square\n\n    array = np.asarray(matrix)\n    dim = array.shape[0]\n    rect_coords = [i/dim for i in range(dim+1)]\n\n    # Due to matrix indexing, i controls y-coodinate, j controls x-coordinate\n    for i in range(dim-1):\n        for j in range(dim-1):\n            # Use RECT_COORDS to find centers of the phase diagram circle\n            x = (rect_coords[j] + rect_coords[j+1]) / 2\n            y = 1 - (rect_coords[i] + rect_coords[i+1]) / 2\n\n            phasePlot(array[i][j], x, y, (1 / dim))\n    plt.xlim([0,1])\n    plt.ylim([0,1])\n    plt.show()",
    "id": "55a942bac87a4e038bc4aecda6030249",
    "idx": 2,
    "time": "2021-02-05T07:00:19.896Z",
    "type": "execution"
   },
   {
    "id": "55a942bac87a4e038bc4aecda6030249",
    "time": "2021-02-05T07:00:19.985Z",
    "type": "completion"
   },
   {
    "code": "matrixPhase([[0.3,0],[0,0]])",
    "id": "2525a6262d174fca8142f179e009cc05",
    "idx": 3,
    "time": "2021-02-05T07:00:20.879Z",
    "type": "execution"
   },
   {
    "id": "2525a6262d174fca8142f179e009cc05",
    "time": "2021-02-05T07:00:21.143Z",
    "type": "completion"
   },
   {
    "code": "1/2",
    "id": "3c254d2a3d0244e9b911e05d12a59f23",
    "idx": 4,
    "time": "2021-02-05T07:02:02.325Z",
    "type": "execution"
   },
   {
    "id": "3c254d2a3d0244e9b911e05d12a59f23",
    "time": "2021-02-05T07:02:02.417Z",
    "type": "completion"
   },
   {
    "code": "1/3",
    "id": "9be79b2f73264056881766bf34babe8d",
    "idx": 5,
    "time": "2021-02-05T07:02:06.479Z",
    "type": "execution"
   },
   {
    "id": "9be79b2f73264056881766bf34babe8d",
    "time": "2021-02-05T07:02:06.566Z",
    "type": "completion"
   },
   {
    "code": "def phasePlot(num, x, y, maxSize = 0):\n    # X and Y are coordinates of the center of the phase diagram\n\n    r = np.abs(num)\n    if maxSize:\n        r = r * maxSize\n    theta = np.angle(num)\n\n    circle = plt.Circle((x, y), r, color='c')\n    figure, axes = plt.subplots()\n    axes.add_patch(circle)\n\n    plt.plot([x, x + r * np.cos(theta)], [y, y + r * np.sin(theta)], linestyle='-', color='k')",
    "id": "fb7b56f9b64c404890f3be9959c6049e",
    "idx": 1,
    "time": "2021-02-05T07:02:20.776Z",
    "type": "execution"
   },
   {
    "id": "fb7b56f9b64c404890f3be9959c6049e",
    "time": "2021-02-05T07:02:20.855Z",
    "type": "completion"
   },
   {
    "code": "def matrixPhase(matrix):\n    # MATRIX assumed to have complex numbers with magnitude at most 1\n    # MATRIX also assumed to be square\n\n    array = np.asarray(matrix)\n    dim = array.shape[0]\n    rect_coords = [i/dim for i in range(dim+1)]\n\n    # Due to matrix indexing, i controls y-coodinate, j controls x-coordinate\n    for i in range(dim-1):\n        for j in range(dim-1):\n            # Use RECT_COORDS to find centers of the phase diagram circle\n            x = (rect_coords[j] + rect_coords[j+1]) / 2\n            y = 1 - (rect_coords[i] + rect_coords[i+1]) / 2\n\n            phasePlot(array[i][j], x, y, (1 / dim))\n    plt.xlim([0,1])\n    plt.ylim([0,1])\n    plt.show()",
    "id": "55a942bac87a4e038bc4aecda6030249",
    "idx": 2,
    "time": "2021-02-05T07:02:21.331Z",
    "type": "execution"
   },
   {
    "id": "55a942bac87a4e038bc4aecda6030249",
    "time": "2021-02-05T07:02:21.415Z",
    "type": "completion"
   },
   {
    "code": "matrixPhase([[0.3,0],[0,0]])",
    "id": "2525a6262d174fca8142f179e009cc05",
    "idx": 3,
    "time": "2021-02-05T07:02:22.103Z",
    "type": "execution"
   },
   {
    "id": "2525a6262d174fca8142f179e009cc05",
    "time": "2021-02-05T07:02:22.347Z",
    "type": "completion"
   },
   {
    "code": "matrixPhase([[0.25,0],[0,0]])",
    "id": "2525a6262d174fca8142f179e009cc05",
    "idx": 3,
    "time": "2021-02-05T07:02:35.080Z",
    "type": "execution"
   },
   {
    "id": "2525a6262d174fca8142f179e009cc05",
    "time": "2021-02-05T07:02:35.303Z",
    "type": "completion"
   },
   {
    "code": "1/2",
    "id": "3c254d2a3d0244e9b911e05d12a59f23",
    "idx": 4,
    "time": "2021-02-05T07:02:35.485Z",
    "type": "execution"
   },
   {
    "id": "3c254d2a3d0244e9b911e05d12a59f23",
    "time": "2021-02-05T07:02:35.565Z",
    "type": "completion"
   },
   {
    "code": "matrixPhase([[1,0],[0,0]])",
    "id": "2525a6262d174fca8142f179e009cc05",
    "idx": 3,
    "time": "2021-02-05T07:02:43.646Z",
    "type": "execution"
   },
   {
    "id": "2525a6262d174fca8142f179e009cc05",
    "time": "2021-02-05T07:02:43.878Z",
    "type": "completion"
   },
   {
    "code": "def phasePlot(num, x, y, maxSize = 0):\n    # X and Y are coordinates of the center of the phase diagram\n\n    r = np.abs(num)\n    if maxSize:\n        r = r * maxSize / 2\n    theta = np.angle(num)\n\n    circle = plt.Circle((x, y), r, color='c')\n    figure, axes = plt.subplots()\n    axes.add_patch(circle)\n\n    plt.plot([x, x + r * np.cos(theta)], [y, y + r * np.sin(theta)], linestyle='-', color='k')",
    "id": "fb7b56f9b64c404890f3be9959c6049e",
    "idx": 1,
    "time": "2021-02-05T07:03:11.469Z",
    "type": "execution"
   },
   {
    "id": "fb7b56f9b64c404890f3be9959c6049e",
    "time": "2021-02-05T07:03:11.553Z",
    "type": "completion"
   },
   {
    "code": "def matrixPhase(matrix):\n    # MATRIX assumed to have complex numbers with magnitude at most 1\n    # MATRIX also assumed to be square\n\n    array = np.asarray(matrix)\n    dim = array.shape[0]\n    rect_coords = [i/dim for i in range(dim+1)]\n\n    # Due to matrix indexing, i controls y-coodinate, j controls x-coordinate\n    for i in range(dim-1):\n        for j in range(dim-1):\n            # Use RECT_COORDS to find centers of the phase diagram circle\n            x = (rect_coords[j] + rect_coords[j+1]) / 2\n            y = 1 - (rect_coords[i] + rect_coords[i+1]) / 2\n\n            phasePlot(array[i][j], x, y, (1 / dim))\n    plt.xlim([0,1])\n    plt.ylim([0,1])\n    plt.show()",
    "id": "55a942bac87a4e038bc4aecda6030249",
    "idx": 2,
    "time": "2021-02-05T07:03:11.806Z",
    "type": "execution"
   },
   {
    "id": "55a942bac87a4e038bc4aecda6030249",
    "time": "2021-02-05T07:03:11.886Z",
    "type": "completion"
   },
   {
    "code": "matrixPhase([[1,0],[0,0]])",
    "id": "2525a6262d174fca8142f179e009cc05",
    "idx": 3,
    "time": "2021-02-05T07:03:12.210Z",
    "type": "execution"
   },
   {
    "id": "2525a6262d174fca8142f179e009cc05",
    "time": "2021-02-05T07:03:12.452Z",
    "type": "completion"
   },
   {
    "code": "matrixPhase([[0.5,0],[0,0]])",
    "id": "2525a6262d174fca8142f179e009cc05",
    "idx": 3,
    "time": "2021-02-05T07:03:19.060Z",
    "type": "execution"
   },
   {
    "id": "2525a6262d174fca8142f179e009cc05",
    "time": "2021-02-05T07:03:19.289Z",
    "type": "completion"
   },
   {
    "code": "matrixPhase([[1,0.3],[0.1,0.8]])",
    "id": "2525a6262d174fca8142f179e009cc05",
    "idx": 3,
    "time": "2021-02-05T07:03:43.953Z",
    "type": "execution"
   },
   {
    "id": "2525a6262d174fca8142f179e009cc05",
    "time": "2021-02-05T07:03:44.176Z",
    "type": "completion"
   },
   {
    "code": "def phasePlot(num, x, y, maxSize = 0):\n    # X and Y are coordinates of the center of the phase diagram\n\n    r = np.abs(num)\n    if maxSize:\n        r = r * maxSize / 2\n    theta = np.angle(num)\n\n    circle = plt.Circle((x, y), r, color='c')\n    figure, axes = plt.subplots()\n    axes.add_patch(circle)\n\n    plt.plot([x, x + r * np.cos(theta)], [y, y + r * np.sin(theta)], linestyle='-', color='k')",
    "id": "fb7b56f9b64c404890f3be9959c6049e",
    "idx": 1,
    "time": "2021-02-05T07:03:51.891Z",
    "type": "execution"
   },
   {
    "id": "fb7b56f9b64c404890f3be9959c6049e",
    "time": "2021-02-05T07:03:51.975Z",
    "type": "completion"
   },
   {
    "code": "def matrixPhase(matrix):\n    # MATRIX assumed to have complex numbers with magnitude at most 1\n    # MATRIX also assumed to be square\n\n    array = np.asarray(matrix)\n    dim = array.shape[0]\n    rect_coords = [i/dim for i in range(dim+1)]\n\n    # Due to matrix indexing, i controls y-coodinate, j controls x-coordinate\n    for i in range(dim-1):\n        for j in range(dim-1):\n            # Use RECT_COORDS to find centers of the phase diagram circle\n            x = (rect_coords[j] + rect_coords[j+1]) / 2\n            y = 1 - (rect_coords[i] + rect_coords[i+1]) / 2\n\n            phasePlot(array[i][j], x, y, (1 / dim))\n    plt.xlim([0,1])\n    plt.ylim([0,1])\n    plt.show()",
    "id": "55a942bac87a4e038bc4aecda6030249",
    "idx": 2,
    "time": "2021-02-05T07:03:52.362Z",
    "type": "execution"
   },
   {
    "id": "55a942bac87a4e038bc4aecda6030249",
    "time": "2021-02-05T07:03:52.451Z",
    "type": "completion"
   },
   {
    "code": "matrixPhase([[1,0.3],[0.1,0.8]])",
    "id": "2525a6262d174fca8142f179e009cc05",
    "idx": 3,
    "time": "2021-02-05T07:03:52.820Z",
    "type": "execution"
   },
   {
    "id": "2525a6262d174fca8142f179e009cc05",
    "time": "2021-02-05T07:03:53.047Z",
    "type": "completion"
   },
   {
    "code": "matrixPhase([[1,0.3],[0,0]])",
    "id": "2525a6262d174fca8142f179e009cc05",
    "idx": 3,
    "time": "2021-02-05T07:04:08.595Z",
    "type": "execution"
   },
   {
    "id": "2525a6262d174fca8142f179e009cc05",
    "time": "2021-02-05T07:04:08.827Z",
    "type": "completion"
   },
   {
    "code": "import numpy as np\nimport matplotlib.pyplot as plt",
    "id": "a173dcab21dd4cbb939b0a734bb59058",
    "idx": 0,
    "time": "2021-02-05T07:04:23.259Z",
    "type": "execution"
   },
   {
    "id": "a173dcab21dd4cbb939b0a734bb59058",
    "time": "2021-02-05T07:04:23.731Z",
    "type": "completion"
   },
   {
    "code": "def phasePlot(num, x, y, maxSize = 0):\n    # X and Y are coordinates of the center of the phase diagram\n\n    r = np.abs(num)\n    if maxSize:\n        r = r * maxSize / 2\n    theta = np.angle(num)\n\n    circle = plt.Circle((x, y), r, color='c')\n    figure, axes = plt.subplots()\n    axes.add_patch(circle)\n\n    plt.plot([x, x + r * np.cos(theta)], [y, y + r * np.sin(theta)], linestyle='-', color='k')",
    "id": "fb7b56f9b64c404890f3be9959c6049e",
    "idx": 1,
    "time": "2021-02-05T07:04:23.949Z",
    "type": "execution"
   },
   {
    "id": "fb7b56f9b64c404890f3be9959c6049e",
    "time": "2021-02-05T07:04:24.070Z",
    "type": "completion"
   },
   {
    "code": "def matrixPhase(matrix):\n    # MATRIX assumed to have complex numbers with magnitude at most 1\n    # MATRIX also assumed to be square\n\n    array = np.asarray(matrix)\n    dim = array.shape[0]\n    rect_coords = [i/dim for i in range(dim+1)]\n\n    # Due to matrix indexing, i controls y-coodinate, j controls x-coordinate\n    for i in range(dim-1):\n        for j in range(dim-1):\n            # Use RECT_COORDS to find centers of the phase diagram circle\n            x = (rect_coords[j] + rect_coords[j+1]) / 2\n            y = 1 - (rect_coords[i] + rect_coords[i+1]) / 2\n\n            phasePlot(array[i][j], x, y, (1 / dim))\n    plt.xlim([0,1])\n    plt.ylim([0,1])\n    plt.show()",
    "id": "55a942bac87a4e038bc4aecda6030249",
    "idx": 2,
    "time": "2021-02-05T07:04:24.939Z",
    "type": "execution"
   },
   {
    "id": "55a942bac87a4e038bc4aecda6030249",
    "time": "2021-02-05T07:04:25.119Z",
    "type": "completion"
   },
   {
    "code": "matrixPhase([[1,0.3],[0.1,0.8]])",
    "id": "2525a6262d174fca8142f179e009cc05",
    "idx": 3,
    "time": "2021-02-05T07:04:25.766Z",
    "type": "execution"
   },
   {
    "id": "2525a6262d174fca8142f179e009cc05",
    "time": "2021-02-05T07:04:26.050Z",
    "type": "completion"
   },
   {
    "code": "def matrixPhase(matrix):\n    # MATRIX assumed to have complex numbers with magnitude at most 1\n    # MATRIX also assumed to be square\n\n    array = np.asarray(matrix)\n    dim = array.shape[0]\n    rect_coords = [i/dim for i in range(dim+1)]\n\n    # Due to matrix indexing, i controls y-coodinate, j controls x-coordinate\n    for i in range(dim):\n        for j in range(dim):\n            # Use RECT_COORDS to find centers of the phase diagram circle\n            x = (rect_coords[j] + rect_coords[j+1]) / 2\n            y = 1 - (rect_coords[i] + rect_coords[i+1]) / 2\n\n            phasePlot(array[i][j], x, y, (1 / dim))\n    plt.xlim([0,1])\n    plt.ylim([0,1])\n    plt.show()",
    "id": "55a942bac87a4e038bc4aecda6030249",
    "idx": 2,
    "time": "2021-02-05T07:05:02.214Z",
    "type": "execution"
   },
   {
    "id": "55a942bac87a4e038bc4aecda6030249",
    "time": "2021-02-05T07:05:02.294Z",
    "type": "completion"
   },
   {
    "code": "matrixPhase([[1,0.3],[0.1,0.8]])",
    "id": "2525a6262d174fca8142f179e009cc05",
    "idx": 3,
    "time": "2021-02-05T07:05:02.700Z",
    "type": "execution"
   },
   {
    "id": "2525a6262d174fca8142f179e009cc05",
    "time": "2021-02-05T07:05:03.373Z",
    "type": "completion"
   },
   {
    "code": "def matrixPhase(matrix):\n    # MATRIX assumed to have complex numbers with magnitude at most 1\n    # MATRIX also assumed to be square\n\n    array = np.asarray(matrix)\n    dim = array.shape[0]\n    rect_coords = [i/dim for i in range(dim+1)]\n\n    # Due to matrix indexing, i controls y-coodinate, j controls x-coordinate\n    for i in range(dim):\n        for j in range(dim):\n            # Use RECT_COORDS to find centers of the phase diagram circle\n            x = (rect_coords[j] + rect_coords[j+1]) / 2\n            y = 1 - (rect_coords[i] + rect_coords[i+1]) / 2\n\n            phasePlot(array[i][j], x, y, (1 / dim))\n            plt.xlim([0,1])\n            plt.ylim([0,1])\n            plt.show()",
    "id": "55a942bac87a4e038bc4aecda6030249",
    "idx": 2,
    "time": "2021-02-05T07:05:33.288Z",
    "type": "execution"
   },
   {
    "id": "55a942bac87a4e038bc4aecda6030249",
    "time": "2021-02-05T07:05:33.383Z",
    "type": "completion"
   },
   {
    "code": "matrixPhase([[1,0.3],[0.1,0.8]])",
    "id": "2525a6262d174fca8142f179e009cc05",
    "idx": 3,
    "time": "2021-02-05T07:05:34.273Z",
    "type": "execution"
   },
   {
    "id": "2525a6262d174fca8142f179e009cc05",
    "time": "2021-02-05T07:05:34.995Z",
    "type": "completion"
   },
   {
    "code": "def phasePlot(num, x, y, maxSize = 0):\n    # X and Y are coordinates of the center of the phase diagram\n\n    r = np.abs(num)\n    if maxSize:\n        r = r * maxSize / 2\n    theta = np.angle(num)\n\n    circle = plt.Circle((x, y), r, color='c')\n    figure, axes = plt.subplots()\n    axes.add_patch(circle)\n\n    plt.plot([x, x + r * np.cos(theta)], [y, y + r * np.sin(theta)], linestyle='-', color='k')",
    "id": "fb7b56f9b64c404890f3be9959c6049e",
    "idx": 1,
    "time": "2021-02-05T07:06:42.158Z",
    "type": "execution"
   },
   {
    "id": "fb7b56f9b64c404890f3be9959c6049e",
    "time": "2021-02-05T07:06:42.246Z",
    "type": "completion"
   },
   {
    "code": "def phasePlot(num, x, y, maxSize = 0):\n    # X and Y are coordinates of the center of the phase diagram\n    # Returns a circle that can be plotted\n\n    r = np.abs(num)\n    if maxSize:\n        r = r * maxSize / 2\n    theta = np.angle(num)\n\n    circle = plt.Circle((x, y), r, color='c')\n    axes.add_patch(circle)\n\n    plt.plot([x, x + r * np.cos(theta)], [y, y + r * np.sin(theta)], linestyle='-', color='k')",
    "id": "fb7b56f9b64c404890f3be9959c6049e",
    "idx": 1,
    "time": "2021-02-05T07:08:59.306Z",
    "type": "execution"
   },
   {
    "id": "fb7b56f9b64c404890f3be9959c6049e",
    "time": "2021-02-05T07:08:59.407Z",
    "type": "completion"
   },
   {
    "code": "def matrixPhase(matrix):\n    # MATRIX assumed to have complex numbers with magnitude at most 1\n    # MATRIX also assumed to be square\n\n    array = np.asarray(matrix)\n    dim = array.shape[0]\n    rect_coords = [i/dim for i in range(dim+1)]\n    #figure, axes = plt.subplots()\n\n    # Due to matrix indexing, i controls y-coodinate, j controls x-coordinate\n    for i in range(dim):\n        for j in range(dim):\n            # Use RECT_COORDS to find centers of the phase diagram circle\n            x = (rect_coords[j] + rect_coords[j+1]) / 2\n            y = 1 - (rect_coords[i] + rect_coords[i+1]) / 2\n\n            phasePlot(array[i][j], x, y, (1 / dim))\n            plt.xlim([0,1])\n            plt.ylim([0,1])\n            plt.show()",
    "id": "55a942bac87a4e038bc4aecda6030249",
    "idx": 2,
    "time": "2021-02-05T07:08:59.549Z",
    "type": "execution"
   },
   {
    "id": "55a942bac87a4e038bc4aecda6030249",
    "time": "2021-02-05T07:08:59.628Z",
    "type": "completion"
   },
   {
    "code": "matrixPhase([[1,0.3],[0.1,0.8]])",
    "id": "2525a6262d174fca8142f179e009cc05",
    "idx": 3,
    "time": "2021-02-05T07:09:00.284Z",
    "type": "execution"
   },
   {
    "id": "2525a6262d174fca8142f179e009cc05",
    "time": "2021-02-05T07:09:00.445Z",
    "type": "completion"
   },
   {
    "code": "import numpy as np\nimport matplotlib.pyplot as plt",
    "id": "a173dcab21dd4cbb939b0a734bb59058",
    "idx": 0,
    "time": "2021-02-05T07:10:30.923Z",
    "type": "execution"
   },
   {
    "id": "a173dcab21dd4cbb939b0a734bb59058",
    "time": "2021-02-05T07:10:31.000Z",
    "type": "completion"
   },
   {
    "code": "def matrixPhase(matrix):\n    # MATRIX assumed to have complex numbers with magnitude at most 1\n    # MATRIX also assumed to be square\n\n    array = np.asarray(matrix)\n    dim = array.shape[0]\n    rect_coords = [i/dim for i in range(dim+1)]\n    #figure, axes = plt.subplots()\n\n    # Due to matrix indexing, i controls y-coodinate, j controls x-coordinate\n    for i in range(dim):\n        for j in range(dim):\n            # Use RECT_COORDS to find centers of the phase diagram circle\n            x = (rect_coords[j] + rect_coords[j+1]) / 2\n            y = 1 - (rect_coords[i] + rect_coords[i+1]) / 2\n            \n            r = np.abs(num)\n            if maxSize:\n                r = r * maxSize / 2\n            theta = np.angle(num)\n\n            circle = plt.Circle((x, y), r, color='c')\n            axes.add_patch(circle)\n            plt.plot([x, x + r * np.cos(theta)], [y, y + r * np.sin(theta)], linestyle='-', color='k')\n            \n            plt.xlim([0,1])\n            plt.ylim([0,1])\n            plt.show()",
    "id": "55a942bac87a4e038bc4aecda6030249",
    "idx": 2,
    "time": "2021-02-05T07:10:32.597Z",
    "type": "execution"
   },
   {
    "id": "55a942bac87a4e038bc4aecda6030249",
    "time": "2021-02-05T07:10:32.677Z",
    "type": "completion"
   },
   {
    "code": "matrixPhase([[1,0.3],[0.1,0.8]])",
    "id": "2525a6262d174fca8142f179e009cc05",
    "idx": 3,
    "time": "2021-02-05T07:10:33.016Z",
    "type": "execution"
   },
   {
    "id": "2525a6262d174fca8142f179e009cc05",
    "time": "2021-02-05T07:10:33.107Z",
    "type": "completion"
   },
   {
    "code": "def matrixPhase(matrix):\n    # MATRIX assumed to have complex numbers with magnitude at most 1\n    # MATRIX also assumed to be square\n\n    array = np.asarray(matrix)\n    dim = array.shape[0]\n    rect_coords = [i/dim for i in range(dim+1)]\n    #figure, axes = plt.subplots()\n\n    # Due to matrix indexing, i controls y-coodinate, j controls x-coordinate\n    for i in range(dim):\n        for j in range(dim):\n            # Use RECT_COORDS to find centers of the phase diagram circle\n            x = (rect_coords[j] + rect_coords[j+1]) / 2\n            y = 1 - (rect_coords[i] + rect_coords[i+1]) / 2\n            \n            r = np.abs(num)\n            if maxSize:\n                r = r * 1 / dim / 2\n            theta = np.angle(num)\n\n            circle = plt.Circle((x, y), r, color='c')\n            axes.add_patch(circle)\n            plt.plot([x, x + r * np.cos(theta)], [y, y + r * np.sin(theta)], linestyle='-', color='k')\n            \n            plt.xlim([0,1])\n            plt.ylim([0,1])\n            plt.show()",
    "id": "55a942bac87a4e038bc4aecda6030249",
    "idx": 2,
    "time": "2021-02-05T07:10:50.830Z",
    "type": "execution"
   },
   {
    "id": "55a942bac87a4e038bc4aecda6030249",
    "time": "2021-02-05T07:10:50.910Z",
    "type": "completion"
   },
   {
    "code": "matrixPhase([[1,0.3],[0.1,0.8]])",
    "id": "2525a6262d174fca8142f179e009cc05",
    "idx": 3,
    "time": "2021-02-05T07:10:51.070Z",
    "type": "execution"
   },
   {
    "id": "2525a6262d174fca8142f179e009cc05",
    "time": "2021-02-05T07:10:51.165Z",
    "type": "completion"
   },
   {
    "code": "def matrixPhase(matrix):\n    # MATRIX assumed to have complex numbers with magnitude at most 1\n    # MATRIX also assumed to be square\n\n    array = np.asarray(matrix)\n    dim = array.shape[0]\n    rect_coords = [i/dim for i in range(dim+1)]\n    #figure, axes = plt.subplots()\n\n    # Due to matrix indexing, i controls y-coodinate, j controls x-coordinate\n    for i in range(dim):\n        for j in range(dim):\n            num = array[i][j]\n            \n            # Use RECT_COORDS to find centers of the phase diagram circle\n            x = (rect_coords[j] + rect_coords[j+1]) / 2\n            y = 1 - (rect_coords[i] + rect_coords[i+1]) / 2\n            \n            r = np.abs(num)\n            if maxSize:\n                r = r * 1 / dim / 2\n            theta = np.angle(num)\n\n            circle = plt.Circle((x, y), r, color='c')\n            axes.add_patch(circle)\n            plt.plot([x, x + r * np.cos(theta)], [y, y + r * np.sin(theta)], linestyle='-', color='k')\n            \n            plt.xlim([0,1])\n            plt.ylim([0,1])\n            plt.show()",
    "id": "55a942bac87a4e038bc4aecda6030249",
    "idx": 2,
    "time": "2021-02-05T07:11:24.621Z",
    "type": "execution"
   },
   {
    "id": "55a942bac87a4e038bc4aecda6030249",
    "time": "2021-02-05T07:11:24.714Z",
    "type": "completion"
   },
   {
    "code": "matrixPhase([[1,0.3],[0.1,0.8]])",
    "id": "2525a6262d174fca8142f179e009cc05",
    "idx": 3,
    "time": "2021-02-05T07:11:25.108Z",
    "type": "execution"
   },
   {
    "id": "2525a6262d174fca8142f179e009cc05",
    "time": "2021-02-05T07:11:25.199Z",
    "type": "completion"
   },
   {
    "code": "def matrixPhase(matrix):\n    # MATRIX assumed to have complex numbers with magnitude at most 1\n    # MATRIX also assumed to be square\n\n    array = np.asarray(matrix)\n    dim = array.shape[0]\n    rect_coords = [i/dim for i in range(dim+1)]\n    #figure, axes = plt.subplots()\n\n    # Due to matrix indexing, i controls y-coodinate, j controls x-coordinate\n    for i in range(dim):\n        for j in range(dim):\n            num = array[i][j]\n            \n            # Use RECT_COORDS to find centers of the phase diagram circle\n            x = (rect_coords[j] + rect_coords[j+1]) / 2\n            y = 1 - (rect_coords[i] + rect_coords[i+1]) / 2\n            \n            r = np.abs(num) * 1 / dim / 2\n            theta = np.angle(num)\n\n            circle = plt.Circle((x, y), r, color='c')\n            axes.add_patch(circle)\n            plt.plot([x, x + r * np.cos(theta)], [y, y + r * np.sin(theta)], linestyle='-', color='k')\n            \n            plt.xlim([0,1])\n            plt.ylim([0,1])\n            plt.show()",
    "id": "55a942bac87a4e038bc4aecda6030249",
    "idx": 2,
    "time": "2021-02-05T07:11:41.977Z",
    "type": "execution"
   },
   {
    "id": "55a942bac87a4e038bc4aecda6030249",
    "time": "2021-02-05T07:11:42.064Z",
    "type": "completion"
   },
   {
    "code": "matrixPhase([[1,0.3],[0.1,0.8]])",
    "id": "2525a6262d174fca8142f179e009cc05",
    "idx": 3,
    "time": "2021-02-05T07:11:42.487Z",
    "type": "execution"
   },
   {
    "id": "2525a6262d174fca8142f179e009cc05",
    "time": "2021-02-05T07:11:42.581Z",
    "type": "completion"
   },
   {
    "code": "def matrixPhase(matrix):\n    # MATRIX assumed to have complex numbers with magnitude at most 1\n    # MATRIX also assumed to be square\n\n    array = np.asarray(matrix)\n    dim = array.shape[0]\n    rect_coords = [i/dim for i in range(dim+1)]\n    figure, axes = plt.subplots()\n\n    # Due to matrix indexing, i controls y-coodinate, j controls x-coordinate\n    for i in range(dim):\n        for j in range(dim):\n            num = array[i][j]\n            \n            # Use RECT_COORDS to find centers of the phase diagram circle\n            x = (rect_coords[j] + rect_coords[j+1]) / 2\n            y = 1 - (rect_coords[i] + rect_coords[i+1]) / 2\n            \n            r = np.abs(num) * 1 / dim / 2\n            theta = np.angle(num)\n\n            circle = plt.Circle((x, y), r, color='c')\n            axes.add_patch(circle)\n            plt.plot([x, x + r * np.cos(theta)], [y, y + r * np.sin(theta)], linestyle='-', color='k')\n            \n            plt.xlim([0,1])\n            plt.ylim([0,1])\n            plt.show()",
    "id": "55a942bac87a4e038bc4aecda6030249",
    "idx": 2,
    "time": "2021-02-05T07:11:49.427Z",
    "type": "execution"
   },
   {
    "id": "55a942bac87a4e038bc4aecda6030249",
    "time": "2021-02-05T07:11:49.505Z",
    "type": "completion"
   },
   {
    "code": "matrixPhase([[1,0.3],[0.1,0.8]])",
    "id": "2525a6262d174fca8142f179e009cc05",
    "idx": 3,
    "time": "2021-02-05T07:11:49.629Z",
    "type": "execution"
   },
   {
    "id": "2525a6262d174fca8142f179e009cc05",
    "time": "2021-02-05T07:11:50.244Z",
    "type": "completion"
   },
   {
    "code": "def matrixPhase(matrix):\n    # MATRIX assumed to have complex numbers with magnitude at most 1\n    # MATRIX also assumed to be square\n\n    array = np.asarray(matrix)\n    dim = array.shape[0]\n    rect_coords = [i/dim for i in range(dim+1)]\n    #figure, axes = plt.subplots()\n\n    # Due to matrix indexing, i controls y-coodinate, j controls x-coordinate\n    for i in range(dim):\n        for j in range(dim):\n            num = array[i][j]\n            \n            # Use RECT_COORDS to find centers of the phase diagram circle\n            x = (rect_coords[j] + rect_coords[j+1]) / 2\n            y = 1 - (rect_coords[i] + rect_coords[i+1]) / 2\n            \n            r = np.abs(num) * 1 / dim / 2\n            theta = np.angle(num)\n\n            #circle = plt.Circle((x, y), r, color='c')\n            #axes.add_patch(circle)\n            plt.plot([x, x + r * np.cos(theta)], [y, y + r * np.sin(theta)], linestyle='-', color='k')\n            \n            plt.xlim([0,1])\n            plt.ylim([0,1])\n            plt.show()",
    "id": "55a942bac87a4e038bc4aecda6030249",
    "idx": 2,
    "time": "2021-02-05T07:12:34.577Z",
    "type": "execution"
   },
   {
    "id": "55a942bac87a4e038bc4aecda6030249",
    "time": "2021-02-05T07:12:34.659Z",
    "type": "completion"
   },
   {
    "code": "matrixPhase([[1,0.3],[0.1,0.8]])",
    "id": "2525a6262d174fca8142f179e009cc05",
    "idx": 3,
    "time": "2021-02-05T07:12:35.213Z",
    "type": "execution"
   },
   {
    "id": "2525a6262d174fca8142f179e009cc05",
    "time": "2021-02-05T07:12:35.833Z",
    "type": "completion"
   },
   {
    "code": "def matrixPhase(matrix):\n    # MATRIX assumed to have complex numbers with magnitude at most 1\n    # MATRIX also assumed to be square\n\n    array = np.asarray(matrix)\n    dim = array.shape[0]\n    rect_coords = [i/dim for i in range(dim+1)]\n    #figure, axes = plt.subplots()\n\n    # Due to matrix indexing, i controls y-coodinate, j controls x-coordinate\n    for i in range(dim):\n        for j in range(dim):\n            num = array[i][j]\n            \n            # Use RECT_COORDS to find centers of the phase diagram circle\n            x = (rect_coords[j] + rect_coords[j+1]) / 2\n            y = 1 - (rect_coords[i] + rect_coords[i+1]) / 2\n            \n            r = np.abs(num) * 1 / dim / 2\n            theta = np.angle(num)\n\n            #circle = plt.Circle((x, y), r, color='c')\n            #axes.add_patch(circle)\n            figure.plt.plot([x, x + r * np.cos(theta)], [y, y + r * np.sin(theta)], linestyle='-', color='k')\n            \n            plt.xlim([0,1])\n            plt.ylim([0,1])\n            plt.show()",
    "id": "55a942bac87a4e038bc4aecda6030249",
    "idx": 2,
    "time": "2021-02-05T07:13:33.618Z",
    "type": "execution"
   },
   {
    "id": "55a942bac87a4e038bc4aecda6030249",
    "time": "2021-02-05T07:13:33.729Z",
    "type": "completion"
   },
   {
    "code": "matrixPhase([[1,0.3],[0.1,0.8]])",
    "id": "2525a6262d174fca8142f179e009cc05",
    "idx": 3,
    "time": "2021-02-05T07:13:33.992Z",
    "type": "execution"
   },
   {
    "id": "2525a6262d174fca8142f179e009cc05",
    "time": "2021-02-05T07:13:34.087Z",
    "type": "completion"
   },
   {
    "code": "def matrixPhase(matrix):\n    # MATRIX assumed to have complex numbers with magnitude at most 1\n    # MATRIX also assumed to be square\n\n    array = np.asarray(matrix)\n    dim = array.shape[0]\n    rect_coords = [i/dim for i in range(dim+1)]\n    figure, axes = plt.subplots()\n\n    # Due to matrix indexing, i controls y-coodinate, j controls x-coordinate\n    for i in range(dim):\n        for j in range(dim):\n            num = array[i][j]\n            \n            # Use RECT_COORDS to find centers of the phase diagram circle\n            x = (rect_coords[j] + rect_coords[j+1]) / 2\n            y = 1 - (rect_coords[i] + rect_coords[i+1]) / 2\n            \n            r = np.abs(num) * 1 / dim / 2\n            theta = np.angle(num)\n\n            #circle = plt.Circle((x, y), r, color='c')\n            #axes.add_patch(circle)\n            figure.plt.plot([x, x + r * np.cos(theta)], [y, y + r * np.sin(theta)], linestyle='-', color='k')\n            \n            plt.xlim([0,1])\n            plt.ylim([0,1])\n            plt.show()",
    "id": "55a942bac87a4e038bc4aecda6030249",
    "idx": 2,
    "time": "2021-02-05T07:13:39.183Z",
    "type": "execution"
   },
   {
    "id": "55a942bac87a4e038bc4aecda6030249",
    "time": "2021-02-05T07:13:39.262Z",
    "type": "completion"
   },
   {
    "code": "matrixPhase([[1,0.3],[0.1,0.8]])",
    "id": "2525a6262d174fca8142f179e009cc05",
    "idx": 3,
    "time": "2021-02-05T07:13:39.392Z",
    "type": "execution"
   },
   {
    "id": "2525a6262d174fca8142f179e009cc05",
    "time": "2021-02-05T07:13:39.622Z",
    "type": "completion"
   },
   {
    "code": "def matrixPhase(matrix):\n    # MATRIX assumed to have complex numbers with magnitude at most 1\n    # MATRIX also assumed to be square\n\n    array = np.asarray(matrix)\n    dim = array.shape[0]\n    rect_coords = [i/dim for i in range(dim+1)]\n    figure, axes = plt.subplots()\n\n    # Due to matrix indexing, i controls y-coodinate, j controls x-coordinate\n    for i in range(dim):\n        for j in range(dim):\n            num = array[i][j]\n            \n            # Use RECT_COORDS to find centers of the phase diagram circle\n            x = (rect_coords[j] + rect_coords[j+1]) / 2\n            y = 1 - (rect_coords[i] + rect_coords[i+1]) / 2\n            \n            r = np.abs(num) * 1 / dim / 2\n            theta = np.angle(num)\n\n            #circle = plt.Circle((x, y), r, color='c')\n            #axes.add_patch(circle)\n            figure.plot([x, x + r * np.cos(theta)], [y, y + r * np.sin(theta)], linestyle='-', color='k')\n            \n            plt.xlim([0,1])\n            plt.ylim([0,1])\n            plt.show()",
    "id": "55a942bac87a4e038bc4aecda6030249",
    "idx": 2,
    "time": "2021-02-05T07:13:48.618Z",
    "type": "execution"
   },
   {
    "id": "55a942bac87a4e038bc4aecda6030249",
    "time": "2021-02-05T07:13:48.698Z",
    "type": "completion"
   },
   {
    "code": "matrixPhase([[1,0.3],[0.1,0.8]])",
    "id": "2525a6262d174fca8142f179e009cc05",
    "idx": 3,
    "time": "2021-02-05T07:13:49.108Z",
    "type": "execution"
   },
   {
    "id": "2525a6262d174fca8142f179e009cc05",
    "time": "2021-02-05T07:13:49.336Z",
    "type": "completion"
   },
   {
    "code": "def matrixPhase(matrix):\n    # MATRIX assumed to have complex numbers with magnitude at most 1\n    # MATRIX also assumed to be square\n\n    array = np.asarray(matrix)\n    dim = array.shape[0]\n    rect_coords = [i/dim for i in range(dim+1)]\n    figure, axes = plt.subplot()\n\n    # Due to matrix indexing, i controls y-coodinate, j controls x-coordinate\n    for i in range(dim):\n        for j in range(dim):\n            num = array[i][j]\n            \n            # Use RECT_COORDS to find centers of the phase diagram circle\n            x = (rect_coords[j] + rect_coords[j+1]) / 2\n            y = 1 - (rect_coords[i] + rect_coords[i+1]) / 2\n            \n            r = np.abs(num) * 1 / dim / 2\n            theta = np.angle(num)\n\n            #circle = plt.Circle((x, y), r, color='c')\n            #axes.add_patch(circle)\n            figure.plot([x, x + r * np.cos(theta)], [y, y + r * np.sin(theta)], linestyle='-', color='k')\n            \n            plt.xlim([0,1])\n            plt.ylim([0,1])\n            plt.show()",
    "id": "55a942bac87a4e038bc4aecda6030249",
    "idx": 2,
    "time": "2021-02-05T07:14:40.864Z",
    "type": "execution"
   },
   {
    "id": "55a942bac87a4e038bc4aecda6030249",
    "time": "2021-02-05T07:14:40.957Z",
    "type": "completion"
   },
   {
    "code": "matrixPhase([[1,0.3],[0.1,0.8]])",
    "id": "2525a6262d174fca8142f179e009cc05",
    "idx": 3,
    "time": "2021-02-05T07:14:41.668Z",
    "type": "execution"
   },
   {
    "id": "2525a6262d174fca8142f179e009cc05",
    "time": "2021-02-05T07:14:41.886Z",
    "type": "completion"
   },
   {
    "code": "def matrixPhase(matrix):\n    # MATRIX assumed to have complex numbers with magnitude at most 1\n    # MATRIX also assumed to be square\n\n    array = np.asarray(matrix)\n    dim = array.shape[0]\n    rect_coords = [i/dim for i in range(dim+1)]\n    figure, axes = plt.subplot()\n\n    # Due to matrix indexing, i controls y-coodinate, j controls x-coordinate\n    for i in range(dim):\n        for j in range(dim):\n            num = array[i][j]\n            \n            # Use RECT_COORDS to find centers of the phase diagram circle\n            x = (rect_coords[j] + rect_coords[j+1]) / 2\n            y = 1 - (rect_coords[i] + rect_coords[i+1]) / 2\n            \n            r = np.abs(num) * 1 / dim / 2\n            theta = np.angle(num)\n\n            #circle = plt.Circle((x, y), r, color='c')\n            #axes.add_patch(circle)\n            plt.plot([x, x + r * np.cos(theta)], [y, y + r * np.sin(theta)], linestyle='-', color='k')\n            \n            plt.xlim([0,1])\n            plt.ylim([0,1])\n            plt.show()",
    "id": "55a942bac87a4e038bc4aecda6030249",
    "idx": 2,
    "time": "2021-02-05T07:14:54.127Z",
    "type": "execution"
   },
   {
    "id": "55a942bac87a4e038bc4aecda6030249",
    "time": "2021-02-05T07:14:54.214Z",
    "type": "completion"
   },
   {
    "code": "matrixPhase([[1,0.3],[0.1,0.8]])",
    "id": "2525a6262d174fca8142f179e009cc05",
    "idx": 3,
    "time": "2021-02-05T07:14:54.494Z",
    "type": "execution"
   },
   {
    "id": "2525a6262d174fca8142f179e009cc05",
    "time": "2021-02-05T07:14:54.722Z",
    "type": "completion"
   },
   {
    "code": "import numpy as np\nimport matplotlib.pyplot as plt",
    "id": "a173dcab21dd4cbb939b0a734bb59058",
    "idx": 0,
    "time": "2021-02-05T07:15:27.858Z",
    "type": "execution"
   },
   {
    "id": "a173dcab21dd4cbb939b0a734bb59058",
    "time": "2021-02-05T07:15:28.307Z",
    "type": "completion"
   },
   {
    "code": "def phasePlot(num, x, y, maxSize = 0):\n    # X and Y are coordinates of the center of the phase diagram\n    # Returns a circle that can be plotted\n\n    r = np.abs(num)\n    if maxSize:\n        r = r * maxSize / 2\n    theta = np.angle(num)\n\n    circle = plt.Circle((x, y), r, color='c')\n    axes.add_patch(circle)\n\n    plt.plot([x, x + r * np.cos(theta)], [y, y + r * np.sin(theta)], linestyle='-', color='k')",
    "id": "fb7b56f9b64c404890f3be9959c6049e",
    "idx": 1,
    "time": "2021-02-05T07:15:28.525Z",
    "type": "execution"
   },
   {
    "id": "fb7b56f9b64c404890f3be9959c6049e",
    "time": "2021-02-05T07:15:28.642Z",
    "type": "completion"
   },
   {
    "code": "def matrixPhase(matrix):\n    # MATRIX assumed to have complex numbers with magnitude at most 1\n    # MATRIX also assumed to be square\n\n    array = np.asarray(matrix)\n    dim = array.shape[0]\n    rect_coords = [i/dim for i in range(dim+1)]\n    figure, axes = plt.subplot()\n\n    # Due to matrix indexing, i controls y-coodinate, j controls x-coordinate\n    for i in range(dim):\n        for j in range(dim):\n            num = array[i][j]\n            \n            # Use RECT_COORDS to find centers of the phase diagram circle\n            x = (rect_coords[j] + rect_coords[j+1]) / 2\n            y = 1 - (rect_coords[i] + rect_coords[i+1]) / 2\n            \n            r = np.abs(num) * 1 / dim / 2\n            theta = np.angle(num)\n\n            #circle = plt.Circle((x, y), r, color='c')\n            #axes.add_patch(circle)\n            plt.plot([x, x + r * np.cos(theta)], [y, y + r * np.sin(theta)], linestyle='-', color='k')\n            \n            plt.xlim([0,1])\n            plt.ylim([0,1])\n            plt.show()",
    "id": "55a942bac87a4e038bc4aecda6030249",
    "idx": 2,
    "time": "2021-02-05T07:15:29.582Z",
    "type": "execution"
   },
   {
    "id": "55a942bac87a4e038bc4aecda6030249",
    "time": "2021-02-05T07:15:29.672Z",
    "type": "completion"
   },
   {
    "code": "matrixPhase([[1,0.3],[0.1,0.8]])",
    "id": "2525a6262d174fca8142f179e009cc05",
    "idx": 3,
    "time": "2021-02-05T07:15:30.355Z",
    "type": "execution"
   },
   {
    "id": "2525a6262d174fca8142f179e009cc05",
    "time": "2021-02-05T07:15:30.676Z",
    "type": "completion"
   },
   {
    "code": "def matrixPhase(matrix):\n    # MATRIX assumed to have complex numbers with magnitude at most 1\n    # MATRIX also assumed to be square\n\n    array = np.asarray(matrix)\n    dim = array.shape[0]\n    rect_coords = [i/dim for i in range(dim+1)]\n    figure, axes = plt.subplots()\n\n    # Due to matrix indexing, i controls y-coodinate, j controls x-coordinate\n    for i in range(dim):\n        for j in range(dim):\n            num = array[i][j]\n            \n            # Use RECT_COORDS to find centers of the phase diagram circle\n            x = (rect_coords[j] + rect_coords[j+1]) / 2\n            y = 1 - (rect_coords[i] + rect_coords[i+1]) / 2\n            \n            r = np.abs(num) * 1 / dim / 2\n            theta = np.angle(num)\n\n            #circle = plt.Circle((x, y), r, color='c')\n            #axes.add_patch(circle)\n            plt.plot([x, x + r * np.cos(theta)], [y, y + r * np.sin(theta)], linestyle='-', color='k')\n            \n            plt.xlim([0,1])\n            plt.ylim([0,1])\n            plt.show()",
    "id": "55a942bac87a4e038bc4aecda6030249",
    "idx": 2,
    "time": "2021-02-05T07:15:48.328Z",
    "type": "execution"
   },
   {
    "id": "55a942bac87a4e038bc4aecda6030249",
    "time": "2021-02-05T07:15:48.424Z",
    "type": "completion"
   },
   {
    "code": "matrixPhase([[1,0.3],[0.1,0.8]])",
    "id": "2525a6262d174fca8142f179e009cc05",
    "idx": 3,
    "time": "2021-02-05T07:15:48.734Z",
    "type": "execution"
   },
   {
    "id": "2525a6262d174fca8142f179e009cc05",
    "time": "2021-02-05T07:15:49.344Z",
    "type": "completion"
   },
   {
    "code": "def matrixPhase(matrix):\n    # MATRIX assumed to have complex numbers with magnitude at most 1\n    # MATRIX also assumed to be square\n\n    array = np.asarray(matrix)\n    dim = array.shape[0]\n    rect_coords = [i/dim for i in range(dim+1)]\n    figure, axes = plt.subplots()\n\n    # Due to matrix indexing, i controls y-coodinate, j controls x-coordinate\n    for i in range(dim):\n        for j in range(dim):\n            num = array[i][j]\n            \n            # Use RECT_COORDS to find centers of the phase diagram circle\n            x = (rect_coords[j] + rect_coords[j+1]) / 2\n            y = 1 - (rect_coords[i] + rect_coords[i+1]) / 2\n            \n            r = np.abs(num) * 1 / dim / 2\n            theta = np.angle(num)\n\n            circle = plt.Circle((x, y), r, color='c')\n            axes.add_patch(circle)\n            plt.plot([x, x + r * np.cos(theta)], [y, y + r * np.sin(theta)], linestyle='-', color='k')\n            \n            plt.xlim([0,1])\n            plt.ylim([0,1])\n            plt.show()",
    "id": "55a942bac87a4e038bc4aecda6030249",
    "idx": 2,
    "time": "2021-02-05T07:15:54.546Z",
    "type": "execution"
   },
   {
    "id": "55a942bac87a4e038bc4aecda6030249",
    "time": "2021-02-05T07:15:54.633Z",
    "type": "completion"
   },
   {
    "code": "matrixPhase([[1,0.3],[0.1,0.8]])",
    "id": "2525a6262d174fca8142f179e009cc05",
    "idx": 3,
    "time": "2021-02-05T07:15:54.913Z",
    "type": "execution"
   },
   {
    "id": "2525a6262d174fca8142f179e009cc05",
    "time": "2021-02-05T07:15:55.534Z",
    "type": "completion"
   },
   {
    "code": "def matrixPhase(matrix):\n    # MATRIX assumed to have complex numbers with magnitude at most 1\n    # MATRIX also assumed to be square\n\n    array = np.asarray(matrix)\n    dim = array.shape[0]\n    rect_coords = [i/dim for i in range(dim+1)]\n    figure, axes = plt.subplots()\n\n    # Due to matrix indexing, i controls y-coodinate, j controls x-coordinate\n    for i in range(dim):\n        for j in range(dim):\n            num = array[i][j]\n            \n            # Use RECT_COORDS to find centers of the phase diagram circle\n            x = (rect_coords[j] + rect_coords[j+1]) / 2\n            y = 1 - (rect_coords[i] + rect_coords[i+1]) / 2\n            \n            r = np.abs(num) * 1 / dim / 2\n            theta = np.angle(num)\n\n            circle = plt.Circle((x, y), r, color='c')\n            figure.add_patch(circle)\n            plt.plot([x, x + r * np.cos(theta)], [y, y + r * np.sin(theta)], linestyle='-', color='k')\n            \n            plt.xlim([0,1])\n            plt.ylim([0,1])\n            plt.show()",
    "id": "55a942bac87a4e038bc4aecda6030249",
    "idx": 2,
    "time": "2021-02-05T07:15:58.913Z",
    "type": "execution"
   },
   {
    "id": "55a942bac87a4e038bc4aecda6030249",
    "time": "2021-02-05T07:15:59.010Z",
    "type": "completion"
   },
   {
    "code": "matrixPhase([[1,0.3],[0.1,0.8]])",
    "id": "2525a6262d174fca8142f179e009cc05",
    "idx": 3,
    "time": "2021-02-05T07:15:59.473Z",
    "type": "execution"
   },
   {
    "id": "2525a6262d174fca8142f179e009cc05",
    "time": "2021-02-05T07:15:59.699Z",
    "type": "completion"
   },
   {
    "code": "def matrixPhase(matrix):\n    # MATRIX assumed to have complex numbers with magnitude at most 1\n    # MATRIX also assumed to be square\n\n    array = np.asarray(matrix)\n    dim = array.shape[0]\n    rect_coords = [i/dim for i in range(dim+1)]\n    figure, axes = plt.subplots()\n\n    # Due to matrix indexing, i controls y-coodinate, j controls x-coordinate\n    for i in range(dim):\n        for j in range(dim):\n            num = array[i][j]\n            \n            # Use RECT_COORDS to find centers of the phase diagram circle\n            x = (rect_coords[j] + rect_coords[j+1]) / 2\n            y = 1 - (rect_coords[i] + rect_coords[i+1]) / 2\n            \n            r = np.abs(num) * 1 / dim / 2\n            theta = np.angle(num)\n\n            circle = plt.Circle((x, y), r, color='c')\n            axes.add_patch(circle)\n            plt.plot([x, x + r * np.cos(theta)], [y, y + r * np.sin(theta)], linestyle='-', color='k')\n            \n            plt.xlim([0,1])\n            plt.ylim([0,1])\n            plt.show()",
    "id": "55a942bac87a4e038bc4aecda6030249",
    "idx": 2,
    "time": "2021-02-05T07:16:03.973Z",
    "type": "execution"
   },
   {
    "id": "55a942bac87a4e038bc4aecda6030249",
    "time": "2021-02-05T07:16:04.067Z",
    "type": "completion"
   },
   {
    "code": "matrixPhase([[1,0.3],[0.1,0.8]])",
    "id": "2525a6262d174fca8142f179e009cc05",
    "idx": 3,
    "time": "2021-02-05T07:16:04.401Z",
    "type": "execution"
   },
   {
    "id": "2525a6262d174fca8142f179e009cc05",
    "time": "2021-02-05T07:16:05.083Z",
    "type": "completion"
   },
   {
    "code": "matrixPhase([[1+j,0.3],[0.1,0.8]])",
    "id": "2525a6262d174fca8142f179e009cc05",
    "idx": 3,
    "time": "2021-02-05T07:16:12.681Z",
    "type": "execution"
   },
   {
    "id": "2525a6262d174fca8142f179e009cc05",
    "time": "2021-02-05T07:16:12.778Z",
    "type": "completion"
   },
   {
    "code": "matrixPhase([[1+1.j,0.3],[0.1,0.8]])",
    "id": "2525a6262d174fca8142f179e009cc05",
    "idx": 3,
    "time": "2021-02-05T07:16:15.689Z",
    "type": "execution"
   },
   {
    "id": "2525a6262d174fca8142f179e009cc05",
    "time": "2021-02-05T07:16:16.318Z",
    "type": "completion"
   },
   {
    "code": "def matrixPhase(matrix):\n    # MATRIX assumed to have complex numbers with magnitude at most 1\n    # MATRIX also assumed to be square\n\n    array = np.asarray(matrix)\n    dim = array.shape[0]\n    rect_coords = [i/dim for i in range(dim+1)]\n    figure, axes = plt.subplots()\n\n    # Due to matrix indexing, i controls y-coodinate, j controls x-coordinate\n    for i in range(dim):\n        for j in range(dim):\n            num = array[i][j]\n            \n            # Use RECT_COORDS to find centers of the phase diagram circle\n            x = (rect_coords[j] + rect_coords[j+1]) / 2\n            y = 1 - (rect_coords[i] + rect_coords[i+1]) / 2\n            \n            r = np.abs(num) / dim / 2\n            theta = np.angle(num)\n\n            circle = plt.Circle((x, y), r, color='c')\n            axes.add_patch(circle)\n            plt.plot([x, x + r * np.cos(theta)], [y, y + r * np.sin(theta)], linestyle='-', color='k')\n            \n            plt.xlim([0,1])\n            plt.ylim([0,1])\n            plt.show()",
    "id": "55a942bac87a4e038bc4aecda6030249",
    "idx": 2,
    "time": "2021-02-05T07:16:33.084Z",
    "type": "execution"
   },
   {
    "id": "55a942bac87a4e038bc4aecda6030249",
    "time": "2021-02-05T07:16:33.173Z",
    "type": "completion"
   },
   {
    "code": "matrixPhase([[1+1.j,0.3],[0.1,0.8]])",
    "id": "2525a6262d174fca8142f179e009cc05",
    "idx": 3,
    "time": "2021-02-05T07:16:33.654Z",
    "type": "execution"
   },
   {
    "id": "2525a6262d174fca8142f179e009cc05",
    "time": "2021-02-05T07:16:34.285Z",
    "type": "completion"
   },
   {
    "code": "def matrixPhase(matrix):\n    # MATRIX assumed to have complex numbers with magnitude at most 1\n    # MATRIX also assumed to be square\n\n    array = np.asarray(matrix)\n    dim = array.shape[0]\n    rect_coords = [i/dim for i in range(dim+1)]\n    figure, axes = plt.subplots()\n\n    # Due to matrix indexing, i controls y-coodinate, j controls x-coordinate\n    for i in range(dim):\n        for j in range(dim):            \n            # Use RECT_COORDS to find centers of the phase diagram circle\n            x = (rect_coords[j] + rect_coords[j+1]) / 2\n            y = 1 - (rect_coords[i] + rect_coords[i+1]) / 2\n            \n            num = array[i][j]\n            r = np.abs(num) / dim / 2\n            theta = np.angle(num)\n\n            circle = plt.Circle((x, y), r, color='c')\n            axes.add_patch(circle)\n            plt.plot([x, x + r * np.cos(theta)], [y, y + r * np.sin(theta)], linestyle='-', color='k')\n            \n            plt.xlim([0,1])\n            plt.ylim([0,1])\n            plt.show()",
    "id": "55a942bac87a4e038bc4aecda6030249",
    "idx": 2,
    "time": "2021-02-05T07:17:02.390Z",
    "type": "execution"
   },
   {
    "id": "55a942bac87a4e038bc4aecda6030249",
    "time": "2021-02-05T07:17:02.530Z",
    "type": "completion"
   },
   {
    "code": "matrixPhase([[1+1.j,0.3],[0.1,0.8]])",
    "id": "2525a6262d174fca8142f179e009cc05",
    "idx": 3,
    "time": "2021-02-05T07:17:02.976Z",
    "type": "execution"
   },
   {
    "id": "2525a6262d174fca8142f179e009cc05",
    "time": "2021-02-05T07:17:03.592Z",
    "type": "completion"
   },
   {
    "code": "def matrixPhase(matrix):\n    # MATRIX assumed to have complex numbers with magnitude at most 1\n    # MATRIX also assumed to be square\n\n    array = np.asarray(matrix)\n    dim = array.shape[0]\n    rect_coords = [i/dim for i in range(dim+1)]\n    figure, axes = plt.subplots()\n\n    # Due to matrix indexing, i controls y-coodinate, j controls x-coordinate\n    for i in range(dim):\n        for j in range(dim):            \n            # Use RECT_COORDS to find centers of the phase diagram circle\n            x = (rect_coords[j] + rect_coords[j+1]) / 2\n            y = 1 - (rect_coords[i] + rect_coords[i+1]) / 2\n            \n            num = array[i][j]\n            r = np.abs(num) / (2*dim()\n            theta = np.angle(num)\n\n            circle = plt.Circle((x, y), r, color='c')\n            axes.add_patch(circle)\n            plt.plot([x, x + r * np.cos(theta)], [y, y + r * np.sin(theta)], linestyle='-', color='k')\n            \n            plt.xlim([0,1])\n            plt.ylim([0,1])\n            plt.show()",
    "id": "55a942bac87a4e038bc4aecda6030249",
    "idx": 2,
    "time": "2021-02-05T07:18:02.055Z",
    "type": "execution"
   },
   {
    "id": "55a942bac87a4e038bc4aecda6030249",
    "time": "2021-02-05T07:18:02.147Z",
    "type": "completion"
   },
   {
    "code": "def matrixPhase(matrix):\n    # MATRIX assumed to have complex numbers with magnitude at most 1\n    # MATRIX also assumed to be square\n\n    array = np.asarray(matrix)\n    dim = array.shape[0]\n    rect_coords = [i/dim for i in range(dim+1)]\n    figure, axes = plt.subplots()\n\n    # Due to matrix indexing, i controls y-coodinate, j controls x-coordinate\n    for i in range(dim):\n        for j in range(dim):            \n            # Use RECT_COORDS to find centers of the phase diagram circle\n            x = (rect_coords[j] + rect_coords[j+1]) / 2\n            y = 1 - (rect_coords[i] + rect_coords[i+1]) / 2\n            \n            num = array[i][j]\n            r = np.abs(num) / (2*dim)\n            theta = np.angle(num)\n\n            circle = plt.Circle((x, y), r, color='c')\n            axes.add_patch(circle)\n            plt.plot([x, x + r * np.cos(theta)], [y, y + r * np.sin(theta)], linestyle='-', color='k')\n            \n            plt.xlim([0,1])\n            plt.ylim([0,1])\n            plt.show()",
    "id": "55a942bac87a4e038bc4aecda6030249",
    "idx": 2,
    "time": "2021-02-05T07:18:05.827Z",
    "type": "execution"
   },
   {
    "id": "55a942bac87a4e038bc4aecda6030249",
    "time": "2021-02-05T07:18:05.927Z",
    "type": "completion"
   },
   {
    "code": "matrixPhase([[1+1.j,0.3],[0.1,0.8]])",
    "id": "2525a6262d174fca8142f179e009cc05",
    "idx": 3,
    "time": "2021-02-05T07:18:06.037Z",
    "type": "execution"
   },
   {
    "id": "2525a6262d174fca8142f179e009cc05",
    "time": "2021-02-05T07:18:06.633Z",
    "type": "completion"
   },
   {
    "code": "matrixPhase([[0.5,0.3],[0.1,0.8]])",
    "id": "2525a6262d174fca8142f179e009cc05",
    "idx": 3,
    "time": "2021-02-05T07:18:16.126Z",
    "type": "execution"
   },
   {
    "id": "2525a6262d174fca8142f179e009cc05",
    "time": "2021-02-05T07:18:16.813Z",
    "type": "completion"
   },
   {
    "code": "matrixPhase([[0.5j,0.3],[0.1,0.8]])",
    "id": "2525a6262d174fca8142f179e009cc05",
    "idx": 3,
    "time": "2021-02-05T07:18:37.030Z",
    "type": "execution"
   },
   {
    "id": "2525a6262d174fca8142f179e009cc05",
    "time": "2021-02-05T07:18:37.650Z",
    "type": "completion"
   },
   {
    "code": "matrixPhase([[1.j,0.3],[0.1,0.8]])",
    "id": "2525a6262d174fca8142f179e009cc05",
    "idx": 3,
    "time": "2021-02-05T07:18:48.394Z",
    "type": "execution"
   },
   {
    "id": "2525a6262d174fca8142f179e009cc05",
    "time": "2021-02-05T07:18:49.030Z",
    "type": "completion"
   },
   {
    "code": "matrixPhase([[0.5+0.3j,0.3],[0.1,0.8]])",
    "id": "2525a6262d174fca8142f179e009cc05",
    "idx": 3,
    "time": "2021-02-05T07:18:57.416Z",
    "type": "execution"
   },
   {
    "id": "2525a6262d174fca8142f179e009cc05",
    "time": "2021-02-05T07:18:58.084Z",
    "type": "completion"
   },
   {
    "code": "matrixPhase([[0.5+0.5j,0.3],[0.1,0.8]])",
    "id": "2525a6262d174fca8142f179e009cc05",
    "idx": 3,
    "time": "2021-02-05T07:19:01.481Z",
    "type": "execution"
   },
   {
    "id": "2525a6262d174fca8142f179e009cc05",
    "time": "2021-02-05T07:19:02.110Z",
    "type": "completion"
   },
   {
    "code": "import numpy as np\nimport matplotlib.pyplot as plt",
    "id": "c8169f48a588415385fbbb8ff76fe4f2",
    "idx": 0,
    "time": "2021-02-05T19:06:35.638Z",
    "type": "execution"
   },
   {
    "id": "c8169f48a588415385fbbb8ff76fe4f2",
    "time": "2021-02-05T19:06:36.164Z",
    "type": "completion"
   },
   {
    "code": "def matrixPhase(matrix):\n    # MATRIX assumed to have complex numbers with magnitude at most 1\n    # MATRIX also assumed to be square\n\n    array = np.asarray(matrix)\n    dim = array.shape[0]\n    rect_coords = [i/dim for i in range(dim+1)]\n    #figure, axes = plt.subplots()\n\n    # Due to matrix indexing, i controls y-coodinate, j controls x-coordinate\n    for i in range(dim):\n        for j in range(dim):            \n            # Use RECT_COORDS to find centers of the phase diagram circle\n            x = (rect_coords[j] + rect_coords[j+1]) / 2\n            y = 1 - (rect_coords[i] + rect_coords[i+1]) / 2\n            \n            num = array[i][j]\n            r = np.abs(num) / (2*dim)\n            theta = np.angle(num)\n            \n            figure, axes = plt.subplots()\n\n            circle = plt.Circle((x, y), r, color='c')\n            axes.add_patch(circle)\n            plt.plot([x, x + r * np.cos(theta)], [y, y + r * np.sin(theta)], linestyle='-', color='k')\n            \n            plt.xlim([0,1])\n            plt.ylim([0,1])\n            plt.show()",
    "id": "27b0156a144e473f99025c0a3480190f",
    "idx": 2,
    "time": "2021-02-05T19:06:38.371Z",
    "type": "execution"
   },
   {
    "id": "27b0156a144e473f99025c0a3480190f",
    "time": "2021-02-05T19:06:38.513Z",
    "type": "completion"
   },
   {
    "code": "matrixPhase([[0.5+0.5j,0.3],[0.1,0.8]])",
    "id": "3439523608fa4757861e62f343bfe122",
    "idx": 3,
    "time": "2021-02-05T19:06:39.073Z",
    "type": "execution"
   },
   {
    "id": "3439523608fa4757861e62f343bfe122",
    "time": "2021-02-05T19:06:39.774Z",
    "type": "completion"
   },
   {
    "code": "def matrixPhase(matrix):\n    # MATRIX assumed to have complex numbers with magnitude at most 1\n    # MATRIX also assumed to be square\n\n    array = np.asarray(matrix)\n    dim = array.shape[0]\n    rect_coords = [i/dim for i in range(dim+1)]\n    #figure, axes = plt.subplots()\n\n    # Due to matrix indexing, i controls y-coodinate, j controls x-coordinate\n    for i in range(dim):\n        for j in range(dim):            \n            # Use RECT_COORDS to find centers of the phase diagram circle\n            x = (rect_coords[j] + rect_coords[j+1]) / 2\n            y = 1 - (rect_coords[i] + rect_coords[i+1]) / 2\n            \n            num = array[i][j]\n            r = np.abs(num) / (2*dim)\n            theta = np.angle(num)\n            \n            figure, axes = plt.subplots()\n\n            circle = plt.Circle((x, y), r, color='c')\n            axes.add_patch(circle)\n            plt.plot([x, x + r * np.cos(theta)], [y, y + r * np.sin(theta)], linestyle='-', color='k')\n            \n    plt.xlim([0,1])\n    plt.ylim([0,1])\n    plt.show()",
    "id": "27b0156a144e473f99025c0a3480190f",
    "idx": 2,
    "time": "2021-02-05T19:07:23.988Z",
    "type": "execution"
   },
   {
    "id": "27b0156a144e473f99025c0a3480190f",
    "time": "2021-02-05T19:07:24.073Z",
    "type": "completion"
   },
   {
    "code": "matrixPhase([[0.5+0.5j,0.3],[0.1,0.8]])",
    "id": "3439523608fa4757861e62f343bfe122",
    "idx": 3,
    "time": "2021-02-05T19:07:24.680Z",
    "type": "execution"
   },
   {
    "id": "3439523608fa4757861e62f343bfe122",
    "time": "2021-02-05T19:07:25.388Z",
    "type": "completion"
   },
   {
    "code": "def matrixPhase(matrix):\n    # MATRIX assumed to have complex numbers with magnitude at most 1\n    # MATRIX also assumed to be square\n\n    array = np.asarray(matrix)\n    dim = array.shape[0]\n    rect_coords = [i/dim for i in range(dim+1)]\n    figure, axes = plt.subplots()\n\n    # Due to matrix indexing, i controls y-coodinate, j controls x-coordinate\n    for i in range(dim):\n        for j in range(dim):            \n            # Use RECT_COORDS to find centers of the phase diagram circle\n            x = (rect_coords[j] + rect_coords[j+1]) / 2\n            y = 1 - (rect_coords[i] + rect_coords[i+1]) / 2\n            \n            num = array[i][j]\n            r = np.abs(num) / (2*dim)\n            theta = np.angle(num)\n\n            circle = plt.Circle((x, y), r, color='c')\n            axes.add_patch(circle)\n            plt.plot([x, x + r * np.cos(theta)], [y, y + r * np.sin(theta)], linestyle='-', color='k')\n            \n    plt.xlim([0,1])\n    plt.ylim([0,1])\n    plt.show()",
    "id": "27b0156a144e473f99025c0a3480190f",
    "idx": 2,
    "time": "2021-02-05T19:07:43.285Z",
    "type": "execution"
   },
   {
    "id": "27b0156a144e473f99025c0a3480190f",
    "time": "2021-02-05T19:07:43.424Z",
    "type": "completion"
   },
   {
    "code": "matrixPhase([[0.5+0.5j,0.3],[0.1,0.8]])",
    "id": "3439523608fa4757861e62f343bfe122",
    "idx": 3,
    "time": "2021-02-05T19:07:43.895Z",
    "type": "execution"
   },
   {
    "id": "3439523608fa4757861e62f343bfe122",
    "time": "2021-02-05T19:07:44.277Z",
    "type": "completion"
   },
   {
    "code": "def matrixPhase(matrix):\n    # MATRIX assumed to have complex numbers with magnitude at most 1\n    # MATRIX also assumed to be square\n\n    array = np.asarray(matrix)\n    dim = array.shape[0]\n    rect_coords = [i/dim for i in range(dim+1)]\n    figure, axes = plt.subplots()\n\n    # Due to matrix indexing, i controls y-coodinate, j controls x-coordinate\n    for i in range(dim):\n        for j in range(dim):            \n            # Use RECT_COORDS to find centers of the phase diagram circle\n            x = (rect_coords[j] + rect_coords[j+1]) / 2\n            y = 1 - (rect_coords[i] + rect_coords[i+1]) / 2\n            \n            num = array[i][j]\n            r = np.abs(num) / (2*dim)\n            theta = np.angle(num)\n\n            circle = plt.Circle((x, y), r, color='c')\n            axes.add_patch(circle)\n            plt.plot([x, x + r * np.cos(theta)], [y, y + r * np.sin(theta)], linestyle='-', color='k')\n    plt.xlim([0,1])\n    plt.ylim([0,1])\n    plt.show()",
    "id": "27b0156a144e473f99025c0a3480190f",
    "idx": 2,
    "time": "2021-02-05T19:10:16.171Z",
    "type": "execution"
   },
   {
    "id": "27b0156a144e473f99025c0a3480190f",
    "time": "2021-02-05T19:10:16.269Z",
    "type": "completion"
   },
   {
    "code": "matrixPhase([[0.5+0.5j,0.3],[0.1,0.8]])",
    "id": "3439523608fa4757861e62f343bfe122",
    "idx": 3,
    "time": "2021-02-05T19:10:16.704Z",
    "type": "execution"
   },
   {
    "id": "3439523608fa4757861e62f343bfe122",
    "time": "2021-02-05T19:10:17.038Z",
    "type": "completion"
   },
   {
    "code": "# Plot a Hinton diagram of a matrix of complex numbers\ndef matrixPhase(matrix):\n    # MATRIX assumed to have complex numbers with magnitude at most 1\n    # MATRIX also assumed to be square\n\n    array = np.asarray(matrix)\n    dim = array.shape[0]\n    rect_coords = [i/dim for i in range(dim+1)]\n    figure, axes = plt.subplots()\n\n    # Due to matrix indexing, i controls y-coodinate, j controls x-coordinate\n    for i in range(dim):\n        for j in range(dim):            \n            # Use RECT_COORDS to find centers of the phase diagram circle\n            x = (rect_coords[j] + rect_coords[j+1]) / 2\n            y = 1 - (rect_coords[i] + rect_coords[i+1]) / 2\n            \n            num = array[i][j]\n            r = np.abs(num) / (2*dim)\n            theta = np.angle(num)\n\n            circle = plt.Circle((x, y), r, color=(255,0,0))\n            axes.add_patch(circle)\n            plt.plot([x, x + r * np.cos(theta)], [y, y + r * np.sin(theta)], linestyle='-', color='k')\n    plt.xlim([0,1])\n    plt.ylim([0,1])\n    plt.show()",
    "id": "da7e669a352b491d8fac27704cd1fdfe",
    "idx": 3,
    "time": "2021-02-12T05:38:00.577Z",
    "type": "execution"
   },
   {
    "id": "da7e669a352b491d8fac27704cd1fdfe",
    "time": "2021-02-12T05:38:00.676Z",
    "type": "completion"
   },
   {
    "code": "matrixPhase([[0.5+0.5j,0.3],[0.1,0.8]])",
    "id": "754a30210d9242208edd0df2f085db82",
    "idx": 4,
    "time": "2021-02-12T05:38:01.602Z",
    "type": "execution"
   },
   {
    "id": "754a30210d9242208edd0df2f085db82",
    "time": "2021-02-12T05:38:01.797Z",
    "type": "completion"
   },
   {
    "code": "import numpy as np\nimport matplotlib.pyplot as plt",
    "id": "ace492776fdd4833a110b7891f4bd45b",
    "idx": 0,
    "time": "2021-02-12T05:38:03.418Z",
    "type": "execution"
   },
   {
    "id": "ace492776fdd4833a110b7891f4bd45b",
    "time": "2021-02-12T05:38:04.028Z",
    "type": "completion"
   },
   {
    "code": "matrixPhase([[0.5+0.5j,0.3],[0.1,0.8]])",
    "id": "754a30210d9242208edd0df2f085db82",
    "idx": 4,
    "time": "2021-02-12T05:38:05.090Z",
    "type": "execution"
   },
   {
    "id": "754a30210d9242208edd0df2f085db82",
    "time": "2021-02-12T05:38:05.487Z",
    "type": "completion"
   },
   {
    "code": "# Plot a Hinton diagram of a matrix of complex numbers\ndef matrixPhase(matrix):\n    # MATRIX assumed to have complex numbers with magnitude at most 1\n    # MATRIX also assumed to be square\n\n    array = np.asarray(matrix)\n    dim = array.shape[0]\n    rect_coords = [i/dim for i in range(dim+1)]\n    figure, axes = plt.subplots()\n\n    # Due to matrix indexing, i controls y-coodinate, j controls x-coordinate\n    for i in range(dim):\n        for j in range(dim):            \n            # Use RECT_COORDS to find centers of the phase diagram circle\n            x = (rect_coords[j] + rect_coords[j+1]) / 2\n            y = 1 - (rect_coords[i] + rect_coords[i+1]) / 2\n            \n            num = array[i][j]\n            r = np.abs(num) / (2*dim)\n            theta = np.angle(num)\n\n            circle = plt.Circle((x, y), r, color=(255,0,0,1))\n            axes.add_patch(circle)\n            plt.plot([x, x + r * np.cos(theta)], [y, y + r * np.sin(theta)], linestyle='-', color='k')\n    plt.xlim([0,1])\n    plt.ylim([0,1])\n    plt.show()",
    "id": "da7e669a352b491d8fac27704cd1fdfe",
    "idx": 3,
    "time": "2021-02-12T05:43:43.734Z",
    "type": "execution"
   },
   {
    "id": "da7e669a352b491d8fac27704cd1fdfe",
    "time": "2021-02-12T05:43:43.835Z",
    "type": "completion"
   },
   {
    "code": "matrixPhase([[0.5+0.5j,0.3],[0.1,0.8]])",
    "id": "754a30210d9242208edd0df2f085db82",
    "idx": 4,
    "time": "2021-02-12T05:43:44.904Z",
    "type": "execution"
   },
   {
    "id": "754a30210d9242208edd0df2f085db82",
    "time": "2021-02-12T05:43:45.230Z",
    "type": "completion"
   },
   {
    "code": "# Plot a Hinton diagram of a matrix of complex numbers\ndef matrixPhase(matrix):\n    # MATRIX assumed to have complex numbers with magnitude at most 1\n    # MATRIX also assumed to be square\n\n    array = np.asarray(matrix)\n    dim = array.shape[0]\n    rect_coords = [i/dim for i in range(dim+1)]\n    figure, axes = plt.subplots()\n\n    # Due to matrix indexing, i controls y-coodinate, j controls x-coordinate\n    for i in range(dim):\n        for j in range(dim):            \n            # Use RECT_COORDS to find centers of the phase diagram circle\n            x = (rect_coords[j] + rect_coords[j+1]) / 2\n            y = 1 - (rect_coords[i] + rect_coords[i+1]) / 2\n            \n            num = array[i][j]\n            r = np.abs(num) / (2*dim)\n            theta = np.angle(num)\n\n            circle = plt.Circle((x, y), r, color=((255,0,0))\n            axes.add_patch(circle)\n            plt.plot([x, x + r * np.cos(theta)], [y, y + r * np.sin(theta)], linestyle='-', color='k')\n    plt.xlim([0,1])\n    plt.ylim([0,1])\n    plt.show()",
    "id": "da7e669a352b491d8fac27704cd1fdfe",
    "idx": 3,
    "time": "2021-02-12T05:45:03.517Z",
    "type": "execution"
   },
   {
    "id": "da7e669a352b491d8fac27704cd1fdfe",
    "time": "2021-02-12T05:45:03.627Z",
    "type": "completion"
   },
   {
    "code": "matrixPhase([[0.5+0.5j,0.3],[0.1,0.8]])",
    "id": "754a30210d9242208edd0df2f085db82",
    "idx": 4,
    "time": "2021-02-12T05:45:03.743Z",
    "type": "execution"
   },
   {
    "id": "754a30210d9242208edd0df2f085db82",
    "time": "2021-02-12T05:45:04.059Z",
    "type": "completion"
   },
   {
    "code": "# Plot a Hinton diagram of a matrix of complex numbers\ndef matrixPhase(matrix):\n    # MATRIX assumed to have complex numbers with magnitude at most 1\n    # MATRIX also assumed to be square\n\n    array = np.asarray(matrix)\n    dim = array.shape[0]\n    rect_coords = [i/dim for i in range(dim+1)]\n    figure, axes = plt.subplots()\n\n    # Due to matrix indexing, i controls y-coodinate, j controls x-coordinate\n    for i in range(dim):\n        for j in range(dim):            \n            # Use RECT_COORDS to find centers of the phase diagram circle\n            x = (rect_coords[j] + rect_coords[j+1]) / 2\n            y = 1 - (rect_coords[i] + rect_coords[i+1]) / 2\n            \n            num = array[i][j]\n            r = np.abs(num) / (2*dim)\n            theta = np.angle(num)\n\n            circle = plt.Circle((x, y), r, color=((255,0,0)))\n            axes.add_patch(circle)\n            plt.plot([x, x + r * np.cos(theta)], [y, y + r * np.sin(theta)], linestyle='-', color='k')\n    plt.xlim([0,1])\n    plt.ylim([0,1])\n    plt.show()",
    "id": "da7e669a352b491d8fac27704cd1fdfe",
    "idx": 3,
    "time": "2021-02-12T05:45:12.933Z",
    "type": "execution"
   },
   {
    "id": "da7e669a352b491d8fac27704cd1fdfe",
    "time": "2021-02-12T05:45:13.018Z",
    "type": "completion"
   },
   {
    "code": "matrixPhase([[0.5+0.5j,0.3],[0.1,0.8]])",
    "id": "754a30210d9242208edd0df2f085db82",
    "idx": 4,
    "time": "2021-02-12T05:45:13.418Z",
    "type": "execution"
   },
   {
    "id": "754a30210d9242208edd0df2f085db82",
    "time": "2021-02-12T05:45:13.726Z",
    "type": "completion"
   },
   {
    "code": "# Plot a Hinton diagram of a matrix of complex numbers\ndef matrixPhase(matrix):\n    # MATRIX assumed to have complex numbers with magnitude at most 1\n    # MATRIX also assumed to be square\n\n    array = np.asarray(matrix)\n    dim = array.shape[0]\n    rect_coords = [i/dim for i in range(dim+1)]\n    figure, axes = plt.subplots()\n\n    # Due to matrix indexing, i controls y-coodinate, j controls x-coordinate\n    for i in range(dim):\n        for j in range(dim):            \n            # Use RECT_COORDS to find centers of the phase diagram circle\n            x = (rect_coords[j] + rect_coords[j+1]) / 2\n            y = 1 - (rect_coords[i] + rect_coords[i+1]) / 2\n            \n            num = array[i][j]\n            r = np.abs(num) / (2*dim)\n            theta = np.angle(num)\n\n            circle = plt.Circle((x, y), r, color=(255,0,0))\n            axes.add_patch(circle)\n            plt.plot([x, x + r * np.cos(theta)], [y, y + r * np.sin(theta)], linestyle='-', color='k')\n    plt.xlim([0,1])\n    plt.ylim([0,1])\n    plt.show()",
    "id": "da7e669a352b491d8fac27704cd1fdfe",
    "idx": 3,
    "time": "2021-02-12T05:46:21.302Z",
    "type": "execution"
   },
   {
    "id": "da7e669a352b491d8fac27704cd1fdfe",
    "time": "2021-02-12T05:46:21.395Z",
    "type": "completion"
   },
   {
    "code": "matrixPhase([[0.5+0.5j,0.3],[0.1,0.8]])",
    "id": "754a30210d9242208edd0df2f085db82",
    "idx": 4,
    "time": "2021-02-12T05:46:21.987Z",
    "type": "execution"
   },
   {
    "id": "754a30210d9242208edd0df2f085db82",
    "time": "2021-02-12T05:46:22.251Z",
    "type": "completion"
   },
   {
    "code": "# Plot a Hinton diagram of a matrix of complex numbers\ndef matrixPhase(matrix):\n    # MATRIX assumed to have complex numbers with magnitude at most 1\n    # MATRIX also assumed to be square\n\n    array = np.asarray(matrix)\n    dim = array.shape[0]\n    rect_coords = [i/dim for i in range(dim+1)]\n    figure, axes = plt.subplots()\n\n    # Due to matrix indexing, i controls y-coodinate, j controls x-coordinate\n    for i in range(dim):\n        for j in range(dim):            \n            # Use RECT_COORDS to find centers of the phase diagram circle\n            x = (rect_coords[j] + rect_coords[j+1]) / 2\n            y = 1 - (rect_coords[i] + rect_coords[i+1]) / 2\n            \n            num = array[i][j]\n            r = np.abs(num) / (2*dim)\n            theta = np.angle(num)\n\n            circle = plt.Circle((x, y), r, color=(255,0,0,0))\n            axes.add_patch(circle)\n            plt.plot([x, x + r * np.cos(theta)], [y, y + r * np.sin(theta)], linestyle='-', color='k')\n    plt.xlim([0,1])\n    plt.ylim([0,1])\n    plt.show()",
    "id": "da7e669a352b491d8fac27704cd1fdfe",
    "idx": 3,
    "time": "2021-02-12T05:46:28.233Z",
    "type": "execution"
   },
   {
    "id": "da7e669a352b491d8fac27704cd1fdfe",
    "time": "2021-02-12T05:46:28.320Z",
    "type": "completion"
   },
   {
    "code": "matrixPhase([[0.5+0.5j,0.3],[0.1,0.8]])",
    "id": "754a30210d9242208edd0df2f085db82",
    "idx": 4,
    "time": "2021-02-12T05:46:28.736Z",
    "type": "execution"
   },
   {
    "id": "754a30210d9242208edd0df2f085db82",
    "time": "2021-02-12T05:46:29.037Z",
    "type": "completion"
   },
   {
    "code": "# Plot a Hinton diagram of a matrix of complex numbers\ndef matrixPhase(matrix):\n    # MATRIX assumed to have complex numbers with magnitude at most 1\n    # MATRIX also assumed to be square\n\n    array = np.asarray(matrix)\n    dim = array.shape[0]\n    rect_coords = [i/dim for i in range(dim+1)]\n    figure, axes = plt.subplots()\n\n    # Due to matrix indexing, i controls y-coodinate, j controls x-coordinate\n    for i in range(dim):\n        for j in range(dim):            \n            # Use RECT_COORDS to find centers of the phase diagram circle\n            x = (rect_coords[j] + rect_coords[j+1]) / 2\n            y = 1 - (rect_coords[i] + rect_coords[i+1]) / 2\n            \n            num = array[i][j]\n            r = np.abs(num) / (2*dim)\n            theta = np.angle(num)\n\n            circle = plt.Circle((x, y), r, color=(1,0,0,0))\n            axes.add_patch(circle)\n            plt.plot([x, x + r * np.cos(theta)], [y, y + r * np.sin(theta)], linestyle='-', color='k')\n    plt.xlim([0,1])\n    plt.ylim([0,1])\n    plt.show()",
    "id": "da7e669a352b491d8fac27704cd1fdfe",
    "idx": 3,
    "time": "2021-02-12T05:46:52.582Z",
    "type": "execution"
   },
   {
    "id": "da7e669a352b491d8fac27704cd1fdfe",
    "time": "2021-02-12T05:46:52.669Z",
    "type": "completion"
   },
   {
    "code": "matrixPhase([[0.5+0.5j,0.3],[0.1,0.8]])",
    "id": "754a30210d9242208edd0df2f085db82",
    "idx": 4,
    "time": "2021-02-12T05:46:52.733Z",
    "type": "execution"
   },
   {
    "id": "754a30210d9242208edd0df2f085db82",
    "time": "2021-02-12T05:46:53.004Z",
    "type": "completion"
   },
   {
    "code": "# Plot a Hinton diagram of a matrix of complex numbers\ndef matrixPhase(matrix):\n    # MATRIX assumed to have complex numbers with magnitude at most 1\n    # MATRIX also assumed to be square\n\n    array = np.asarray(matrix)\n    dim = array.shape[0]\n    rect_coords = [i/dim for i in range(dim+1)]\n    figure, axes = plt.subplots()\n\n    # Due to matrix indexing, i controls y-coodinate, j controls x-coordinate\n    for i in range(dim):\n        for j in range(dim):            \n            # Use RECT_COORDS to find centers of the phase diagram circle\n            x = (rect_coords[j] + rect_coords[j+1]) / 2\n            y = 1 - (rect_coords[i] + rect_coords[i+1]) / 2\n            \n            num = array[i][j]\n            r = np.abs(num) / (2*dim)\n            theta = np.angle(num)\n\n            circle = plt.Circle((x, y), r, color=(1,0,0,1))\n            axes.add_patch(circle)\n            plt.plot([x, x + r * np.cos(theta)], [y, y + r * np.sin(theta)], linestyle='-', color='k')\n    plt.xlim([0,1])\n    plt.ylim([0,1])\n    plt.show()",
    "id": "da7e669a352b491d8fac27704cd1fdfe",
    "idx": 3,
    "time": "2021-02-12T05:46:58.073Z",
    "type": "execution"
   },
   {
    "id": "da7e669a352b491d8fac27704cd1fdfe",
    "time": "2021-02-12T05:46:58.161Z",
    "type": "completion"
   },
   {
    "code": "matrixPhase([[0.5+0.5j,0.3],[0.1,0.8]])",
    "id": "754a30210d9242208edd0df2f085db82",
    "idx": 4,
    "time": "2021-02-12T05:46:58.223Z",
    "type": "execution"
   },
   {
    "id": "754a30210d9242208edd0df2f085db82",
    "time": "2021-02-12T05:46:58.556Z",
    "type": "completion"
   },
   {
    "code": "2.5 % 2",
    "id": "6e353a6a081044f3acce5f7456cf36e9",
    "idx": 5,
    "time": "2021-02-12T06:08:45.587Z",
    "type": "execution"
   },
   {
    "id": "6e353a6a081044f3acce5f7456cf36e9",
    "time": "2021-02-12T06:08:45.691Z",
    "type": "completion"
   },
   {
    "code": "10.9 % 3",
    "id": "292b569f675b4f5b88232fe9edfccbab",
    "idx": 6,
    "time": "2021-02-12T06:08:55.192Z",
    "type": "execution"
   },
   {
    "id": "292b569f675b4f5b88232fe9edfccbab",
    "time": "2021-02-12T06:08:55.281Z",
    "type": "completion"
   },
   {
    "code": "# Convert magnitude and phase to an RGB triple\ndef complexColor(z):\n    # Use standard mapping of magnitude and phase to HSL (H = phase, L = magnitude, S = 1)\n    # Then map HSL to RGB and return a triple\n    # Magnitude assumed not greater than 1\n    \n    norm = np.abs(z)\n    phase = np.angle(z)\n    \n    C = 1 - abs(2*L - 1)\n    H = phase/(np.pi / 3) # Finds which of the 6 sections of the color wheel the phase belongs to\n    X = C * (1 - abs((H%2) - 1))\n    \n    # 6 cases corresponding to the 6 sections\n    if H <= 1:\n        R = C\n        G = X\n        B = 0\n    elif H <= 2:\n        R = X\n        G = C\n        B = 0\n    elif H <= 3:\n        R = 0\n        G = C\n        B = X\n    elif H <= 4:\n        R = 0\n        G = X\n        B = C\n    elif H <= 5:\n        R = X\n        G = 0\n        B = C\n    elif H <= 6:\n        R = C\n        G = 0\n        B = X\n    else:\n        R = 0\n        G = 0\n        B = 0\n        \n    m = norm - C/2\n    \n    return (R+m, G+m, B+m)",
    "id": "341ea8fd0ab8413dad12f54ea5a91267",
    "idx": 2,
    "time": "2021-02-12T06:20:27.792Z",
    "type": "execution"
   },
   {
    "id": "341ea8fd0ab8413dad12f54ea5a91267",
    "time": "2021-02-12T06:20:28.005Z",
    "type": "completion"
   },
   {
    "code": "\n# Plot a Hinton diagram of a matrix of complex numbers\ndef matrixPhase(matrix):\n    # MATRIX assumed to have complex numbers with magnitude at most 1\n    # MATRIX also assumed to be square\n\n    array = np.asarray(matrix)\n    dim = array.shape[0]\n    rect_coords = [i/dim for i in range(dim+1)]\n    figure, axes = plt.subplots()\n\n    # Due to matrix indexing, i controls y-coodinate, j controls x-coordinate\n    for i in range(dim):\n        for j in range(dim):            \n            # Use RECT_COORDS to find centers of the phase diagram circle\n            x = (rect_coords[j] + rect_coords[j+1]) / 2\n            y = 1 - (rect_coords[i] + rect_coords[i+1]) / 2\n            \n            num = array[i][j]\n            r = np.abs(num) / (2*dim)\n            theta = np.angle(num)\n            \n            # For some reason, Patches uses RGBA instead of RGB, which has values between 0 and 1, not 0 and 255\n            # Tuples are immutable, so we have to make a new tuple\n            R, G, B = complexColor(num)\n\n            circle = plt.Circle((x, y), r, color=(R/255, G/255, B/255, 1))\n            axes.add_patch(circle)\n            plt.plot([x, x + r * np.cos(theta)], [y, y + r * np.sin(theta)], linestyle='-', color='k')\n    plt.xlim([0,1])\n    plt.ylim([0,1])\n    plt.show()",
    "id": "da7e669a352b491d8fac27704cd1fdfe",
    "idx": 3,
    "time": "2021-02-12T06:20:28.354Z",
    "type": "execution"
   },
   {
    "id": "da7e669a352b491d8fac27704cd1fdfe",
    "time": "2021-02-12T06:20:28.444Z",
    "type": "completion"
   },
   {
    "code": "matrixPhase([[0.5+0.5j,0.3],[0.1,0.8]])",
    "id": "754a30210d9242208edd0df2f085db82",
    "idx": 4,
    "time": "2021-02-12T06:20:29.724Z",
    "type": "execution"
   },
   {
    "id": "754a30210d9242208edd0df2f085db82",
    "time": "2021-02-12T06:20:30.017Z",
    "type": "completion"
   },
   {
    "code": "# Convert magnitude and phase to an RGB triple\ndef complexColor(z):\n    # Use standard mapping of magnitude and phase to HSL (H = phase, L = magnitude, S = 1)\n    # Then map HSL to RGB and return a triple\n    # Magnitude assumed not greater than 1\n    \n    norm = np.abs(z)\n    phase = np.angle(z)\n    \n    C = 1 - abs(2*norm - 1)\n    H = phase/(np.pi / 3) # Finds which of the 6 sections of the color wheel the phase belongs to\n    X = C * (1 - abs((H%2) - 1))\n    \n    # 6 cases corresponding to the 6 sections\n    if H <= 1:\n        R = C\n        G = X\n        B = 0\n    elif H <= 2:\n        R = X\n        G = C\n        B = 0\n    elif H <= 3:\n        R = 0\n        G = C\n        B = X\n    elif H <= 4:\n        R = 0\n        G = X\n        B = C\n    elif H <= 5:\n        R = X\n        G = 0\n        B = C\n    elif H <= 6:\n        R = C\n        G = 0\n        B = X\n    else:\n        R = 0\n        G = 0\n        B = 0\n        \n    m = norm - C/2\n    \n    return (R+m, G+m, B+m)",
    "id": "341ea8fd0ab8413dad12f54ea5a91267",
    "idx": 2,
    "time": "2021-02-12T06:20:46.774Z",
    "type": "execution"
   },
   {
    "id": "341ea8fd0ab8413dad12f54ea5a91267",
    "time": "2021-02-12T06:20:46.860Z",
    "type": "completion"
   },
   {
    "code": "\n# Plot a Hinton diagram of a matrix of complex numbers\ndef matrixPhase(matrix):\n    # MATRIX assumed to have complex numbers with magnitude at most 1\n    # MATRIX also assumed to be square\n\n    array = np.asarray(matrix)\n    dim = array.shape[0]\n    rect_coords = [i/dim for i in range(dim+1)]\n    figure, axes = plt.subplots()\n\n    # Due to matrix indexing, i controls y-coodinate, j controls x-coordinate\n    for i in range(dim):\n        for j in range(dim):            \n            # Use RECT_COORDS to find centers of the phase diagram circle\n            x = (rect_coords[j] + rect_coords[j+1]) / 2\n            y = 1 - (rect_coords[i] + rect_coords[i+1]) / 2\n            \n            num = array[i][j]\n            r = np.abs(num) / (2*dim)\n            theta = np.angle(num)\n            \n            # For some reason, Patches uses RGBA instead of RGB, which has values between 0 and 1, not 0 and 255\n            # Tuples are immutable, so we have to make a new tuple\n            R, G, B = complexColor(num)\n\n            circle = plt.Circle((x, y), r, color=(R/255, G/255, B/255, 1))\n            axes.add_patch(circle)\n            plt.plot([x, x + r * np.cos(theta)], [y, y + r * np.sin(theta)], linestyle='-', color='k')\n    plt.xlim([0,1])\n    plt.ylim([0,1])\n    plt.show()",
    "id": "da7e669a352b491d8fac27704cd1fdfe",
    "idx": 3,
    "time": "2021-02-12T06:20:47.103Z",
    "type": "execution"
   },
   {
    "id": "da7e669a352b491d8fac27704cd1fdfe",
    "time": "2021-02-12T06:20:47.187Z",
    "type": "completion"
   },
   {
    "code": "matrixPhase([[0.5+0.5j,0.3],[0.1,0.8]])",
    "id": "754a30210d9242208edd0df2f085db82",
    "idx": 4,
    "time": "2021-02-12T06:20:47.780Z",
    "type": "execution"
   },
   {
    "id": "754a30210d9242208edd0df2f085db82",
    "time": "2021-02-12T06:20:48.137Z",
    "type": "completion"
   },
   {
    "code": "# Convert magnitude and phase to an RGB triple\ndef complexColor(z):\n    # Use standard mapping of magnitude and phase to HSL (H = phase, L = magnitude, S = 1)\n    # Then map HSL to RGB and return a triple\n    # Magnitude assumed not greater than 1\n    \n    norm = np.abs(z)\n    phase = np.angle(z)\n    \n    C = 1 - abs(2*norm - 1)\n    H = phase/(np.pi / 3) # Finds which of the 6 sections of the color wheel the phase belongs to\n    X = C * (1 - abs((H%2) - 1))\n    \n    # 6 cases corresponding to the 6 sections\n    if H <= 1:\n        R = C\n        G = X\n        B = 0\n    elif H <= 2:\n        R = X\n        G = C\n        B = 0\n    elif H <= 3:\n        R = 0\n        G = C\n        B = X\n    elif H <= 4:\n        R = 0\n        G = X\n        B = C\n    elif H <= 5:\n        R = X\n        G = 0\n        B = C\n    elif H <= 6:\n        R = C\n        G = 0\n        B = X\n    else:\n        R = 255\n        G = 255\n        B = 255\n        \n    m = norm - C/2\n    \n    return (R+m, G+m, B+m)",
    "id": "341ea8fd0ab8413dad12f54ea5a91267",
    "idx": 2,
    "time": "2021-02-12T06:21:18.001Z",
    "type": "execution"
   },
   {
    "id": "341ea8fd0ab8413dad12f54ea5a91267",
    "time": "2021-02-12T06:21:18.093Z",
    "type": "completion"
   },
   {
    "code": "\n# Plot a Hinton diagram of a matrix of complex numbers\ndef matrixPhase(matrix):\n    # MATRIX assumed to have complex numbers with magnitude at most 1\n    # MATRIX also assumed to be square\n\n    array = np.asarray(matrix)\n    dim = array.shape[0]\n    rect_coords = [i/dim for i in range(dim+1)]\n    figure, axes = plt.subplots()\n\n    # Due to matrix indexing, i controls y-coodinate, j controls x-coordinate\n    for i in range(dim):\n        for j in range(dim):            \n            # Use RECT_COORDS to find centers of the phase diagram circle\n            x = (rect_coords[j] + rect_coords[j+1]) / 2\n            y = 1 - (rect_coords[i] + rect_coords[i+1]) / 2\n            \n            num = array[i][j]\n            r = np.abs(num) / (2*dim)\n            theta = np.angle(num)\n            \n            # For some reason, Patches uses RGBA instead of RGB, which has values between 0 and 1, not 0 and 255\n            # Tuples are immutable, so we have to make a new tuple\n            R, G, B = complexColor(num)\n\n            circle = plt.Circle((x, y), r, color=(R/255, G/255, B/255, 1))\n            axes.add_patch(circle)\n            plt.plot([x, x + r * np.cos(theta)], [y, y + r * np.sin(theta)], linestyle='-', color='k')\n    plt.xlim([0,1])\n    plt.ylim([0,1])\n    plt.show()",
    "id": "da7e669a352b491d8fac27704cd1fdfe",
    "idx": 3,
    "time": "2021-02-12T06:21:18.180Z",
    "type": "execution"
   },
   {
    "id": "da7e669a352b491d8fac27704cd1fdfe",
    "time": "2021-02-12T06:21:18.272Z",
    "type": "completion"
   },
   {
    "code": "matrixPhase([[0.5+0.5j,0.3],[0.1,0.8]])",
    "id": "754a30210d9242208edd0df2f085db82",
    "idx": 4,
    "time": "2021-02-12T06:21:18.652Z",
    "type": "execution"
   },
   {
    "id": "754a30210d9242208edd0df2f085db82",
    "time": "2021-02-12T06:21:19.066Z",
    "type": "completion"
   },
   {
    "code": "# Convert magnitude and phase to an RGB triple\ndef complexColor(z):\n    # Use standard mapping of magnitude and phase to HSL (H = phase, L = magnitude, S = 1)\n    # Then map HSL to RGB and return a triple\n    # Magnitude assumed not greater than 1\n    \n    norm = np.abs(z)\n    phase = np.angle(z)\n    \n    C = 1 - abs(2*norm - 1)\n    H = phase/(np.pi / 3) # Finds which of the 6 sections of the color wheel the phase belongs to\n    X = C * (1 - abs((H%2) - 1))\n    \n    # 6 cases corresponding to the 6 sections\n    if H <= 1:\n        R = C\n        G = X\n        B = 0\n    elif H <= 2:\n        R = X\n        G = C\n        B = 0\n    elif H <= 3:\n        R = 0\n        G = C\n        B = X\n    elif H <= 4:\n        R = 0\n        G = X\n        B = C\n    elif H <= 5:\n        R = X\n        G = 0\n        B = C\n    elif H <= 6:\n        R = C\n        G = 0\n        B = X\n    else:\n        R = 0\n        G = 0\n        B = 0\n        \n    m = norm - C/2\n    \n    return (R+m, G+m, B+m)",
    "id": "341ea8fd0ab8413dad12f54ea5a91267",
    "idx": 2,
    "time": "2021-02-12T06:21:22.951Z",
    "type": "execution"
   },
   {
    "id": "341ea8fd0ab8413dad12f54ea5a91267",
    "time": "2021-02-12T06:21:23.039Z",
    "type": "completion"
   },
   {
    "code": "\n# Plot a Hinton diagram of a matrix of complex numbers\ndef matrixPhase(matrix):\n    # MATRIX assumed to have complex numbers with magnitude at most 1\n    # MATRIX also assumed to be square\n\n    array = np.asarray(matrix)\n    dim = array.shape[0]\n    rect_coords = [i/dim for i in range(dim+1)]\n    figure, axes = plt.subplots()\n\n    # Due to matrix indexing, i controls y-coodinate, j controls x-coordinate\n    for i in range(dim):\n        for j in range(dim):            \n            # Use RECT_COORDS to find centers of the phase diagram circle\n            x = (rect_coords[j] + rect_coords[j+1]) / 2\n            y = 1 - (rect_coords[i] + rect_coords[i+1]) / 2\n            \n            num = array[i][j]\n            r = np.abs(num) / (2*dim)\n            theta = np.angle(num)\n            \n            # For some reason, Patches uses RGBA instead of RGB, which has values between 0 and 1, not 0 and 255\n            # Tuples are immutable, so we have to make a new tuple\n            R, G, B = complexColor(num)\n\n            circle = plt.Circle((x, y), r, color=(R/255, G/255, B/255, 1))\n            axes.add_patch(circle)\n            plt.plot([x, x + r * np.cos(theta)], [y, y + r * np.sin(theta)], linestyle='-', color='k')\n    plt.xlim([0,1])\n    plt.ylim([0,1])\n    plt.show()",
    "id": "da7e669a352b491d8fac27704cd1fdfe",
    "idx": 3,
    "time": "2021-02-12T06:21:23.116Z",
    "type": "execution"
   },
   {
    "id": "da7e669a352b491d8fac27704cd1fdfe",
    "time": "2021-02-12T06:21:23.331Z",
    "type": "completion"
   },
   {
    "code": "matrixPhase([[0.5+0.5j,0.3],[0.1,0.8]])",
    "id": "754a30210d9242208edd0df2f085db82",
    "idx": 4,
    "time": "2021-02-12T06:21:23.521Z",
    "type": "execution"
   },
   {
    "id": "754a30210d9242208edd0df2f085db82",
    "time": "2021-02-12T06:21:23.846Z",
    "type": "completion"
   },
   {
    "code": "# Convert magnitude and phase to an RGB triple\ndef complexColor(z):\n    # Use standard mapping of magnitude and phase to HSL (H = phase, L = magnitude, S = 1)\n    # Then map HSL to RGB and return a triple\n    # Magnitude assumed not greater than 1\n    \n    norm = np.abs(z)\n    phase = np.angle(z)\n    \n    C = 1 - abs(2*norm - 1)\n    H = phase/(np.pi / 3) # Finds which of the 6 sections of the color wheel the phase belongs to\n    X = C * (1 - abs((H%2) - 1))\n    \n    # 6 cases corresponding to the 6 sections\n    if H <= 1:\n        R = C\n        G = X\n        B = 0\n    elif H <= 2:\n        R = X\n        G = C\n        B = 0\n    elif H <= 3:\n        R = 0\n        G = C\n        B = X\n    elif H <= 4:\n        R = 0\n        G = X\n        B = C\n    elif H <= 5:\n        R = X\n        G = 0\n        B = C\n    elif H <= 6:\n        R = C\n        G = 0\n        B = X\n        \n    m = norm - C/2\n    \n    return (R+m, G+m, B+m)",
    "id": "341ea8fd0ab8413dad12f54ea5a91267",
    "idx": 2,
    "time": "2021-02-12T06:21:32.094Z",
    "type": "execution"
   },
   {
    "id": "341ea8fd0ab8413dad12f54ea5a91267",
    "time": "2021-02-12T06:21:32.182Z",
    "type": "completion"
   },
   {
    "code": "\n# Plot a Hinton diagram of a matrix of complex numbers\ndef matrixPhase(matrix):\n    # MATRIX assumed to have complex numbers with magnitude at most 1\n    # MATRIX also assumed to be square\n\n    array = np.asarray(matrix)\n    dim = array.shape[0]\n    rect_coords = [i/dim for i in range(dim+1)]\n    figure, axes = plt.subplots()\n\n    # Due to matrix indexing, i controls y-coodinate, j controls x-coordinate\n    for i in range(dim):\n        for j in range(dim):            \n            # Use RECT_COORDS to find centers of the phase diagram circle\n            x = (rect_coords[j] + rect_coords[j+1]) / 2\n            y = 1 - (rect_coords[i] + rect_coords[i+1]) / 2\n            \n            num = array[i][j]\n            r = np.abs(num) / (2*dim)\n            theta = np.angle(num)\n            \n            # For some reason, Patches uses RGBA instead of RGB, which has values between 0 and 1, not 0 and 255\n            # Tuples are immutable, so we have to make a new tuple\n            R, G, B = complexColor(num)\n\n            circle = plt.Circle((x, y), r, color=(R/255, G/255, B/255, 1))\n            axes.add_patch(circle)\n            plt.plot([x, x + r * np.cos(theta)], [y, y + r * np.sin(theta)], linestyle='-', color='k')\n    plt.xlim([0,1])\n    plt.ylim([0,1])\n    plt.show()",
    "id": "da7e669a352b491d8fac27704cd1fdfe",
    "idx": 3,
    "time": "2021-02-12T06:21:32.259Z",
    "type": "execution"
   },
   {
    "id": "da7e669a352b491d8fac27704cd1fdfe",
    "time": "2021-02-12T06:21:32.395Z",
    "type": "completion"
   },
   {
    "code": "matrixPhase([[0.5+0.5j,0.3],[0.1,0.8]])",
    "id": "754a30210d9242208edd0df2f085db82",
    "idx": 4,
    "time": "2021-02-12T06:21:32.687Z",
    "type": "execution"
   },
   {
    "id": "754a30210d9242208edd0df2f085db82",
    "time": "2021-02-12T06:21:33.022Z",
    "type": "completion"
   },
   {
    "code": "# Convert magnitude and phase to an RGB triple\ndef complexColor(z):\n    # Use standard mapping of magnitude and phase to HSL (H = phase, L = magnitude, S = 1)\n    # Then map HSL to RGB and return a triple\n    # Magnitude assumed not greater than 1\n    \n    norm = np.abs(z)\n    phase = np.angle(z)\n    \n    C = 1 - abs(2*norm - 1)\n    H = phase/(np.pi / 3) # Finds which of the 6 sections of the color wheel the phase belongs to\n    X = C * (1 - abs((H%2) - 1))\n    \n    # 6 cases corresponding to the 6 sections\n    if H <= 1:\n        R = C\n        G = X\n        B = 0\n    elif H <= 2:\n        R = X\n        G = C\n        B = 0\n    elif H <= 3:\n        R = 0\n        G = C\n        B = X\n    elif H <= 4:\n        R = 0\n        G = X\n        B = C\n    elif H <= 5:\n        R = X\n        G = 0\n        B = C\n    elif H <= 6:\n        R = C\n        G = 0\n        B = X\n    else:\n        R = 0\n        G = 0\n        B = 0\n        \n    m = norm - C/2\n    \n    return (R+m, G+m, B+m)",
    "id": "341ea8fd0ab8413dad12f54ea5a91267",
    "idx": 2,
    "time": "2021-02-12T06:21:36.863Z",
    "type": "execution"
   },
   {
    "id": "341ea8fd0ab8413dad12f54ea5a91267",
    "time": "2021-02-12T06:21:36.953Z",
    "type": "completion"
   },
   {
    "code": "\n# Plot a Hinton diagram of a matrix of complex numbers\ndef matrixPhase(matrix):\n    # MATRIX assumed to have complex numbers with magnitude at most 1\n    # MATRIX also assumed to be square\n\n    array = np.asarray(matrix)\n    dim = array.shape[0]\n    rect_coords = [i/dim for i in range(dim+1)]\n    figure, axes = plt.subplots()\n\n    # Due to matrix indexing, i controls y-coodinate, j controls x-coordinate\n    for i in range(dim):\n        for j in range(dim):            \n            # Use RECT_COORDS to find centers of the phase diagram circle\n            x = (rect_coords[j] + rect_coords[j+1]) / 2\n            y = 1 - (rect_coords[i] + rect_coords[i+1]) / 2\n            \n            num = array[i][j]\n            r = np.abs(num) / (2*dim)\n            theta = np.angle(num)\n            \n            # For some reason, Patches uses RGBA instead of RGB, which has values between 0 and 1, not 0 and 255\n            # Tuples are immutable, so we have to make a new tuple\n            R, G, B = complexColor(num)\n\n            circle = plt.Circle((x, y), r, color=(R/255, G/255, B/255, 1))\n            axes.add_patch(circle)\n            plt.plot([x, x + r * np.cos(theta)], [y, y + r * np.sin(theta)], linestyle='-', color='k')\n    plt.xlim([0,1])\n    plt.ylim([0,1])\n    plt.show()",
    "id": "da7e669a352b491d8fac27704cd1fdfe",
    "idx": 3,
    "time": "2021-02-12T06:21:37.134Z",
    "type": "execution"
   },
   {
    "id": "da7e669a352b491d8fac27704cd1fdfe",
    "time": "2021-02-12T06:21:37.222Z",
    "type": "completion"
   },
   {
    "code": "matrixPhase([[1,0.3],[0.1,0.8]])",
    "id": "754a30210d9242208edd0df2f085db82",
    "idx": 4,
    "time": "2021-02-12T06:21:54.447Z",
    "type": "execution"
   },
   {
    "id": "754a30210d9242208edd0df2f085db82",
    "time": "2021-02-12T06:21:54.781Z",
    "type": "completion"
   },
   {
    "code": "\n# Plot a Hinton diagram of a matrix of complex numbers\ndef matrixPhase(matrix):\n    # MATRIX assumed to have complex numbers with magnitude at most 1\n    # MATRIX also assumed to be square\n\n    array = np.asarray(matrix)\n    dim = array.shape[0]\n    rect_coords = [i/dim for i in range(dim+1)]\n    figure, axes = plt.subplots()\n\n    # Due to matrix indexing, i controls y-coodinate, j controls x-coordinate\n    for i in range(dim):\n        for j in range(dim):            \n            # Use RECT_COORDS to find centers of the phase diagram circle\n            x = (rect_coords[j] + rect_coords[j+1]) / 2\n            y = 1 - (rect_coords[i] + rect_coords[i+1]) / 2\n            \n            num = array[i][j]\n            r = np.abs(num) / (2*dim)\n            theta = np.angle(num)\n            \n            # For some reason, Patches uses RGBA instead of RGB, which has values between 0 and 1, not 0 and 255\n            # Tuples are immutable, so we have to make a new tuple\n            R, G, B = complexColor(num)\n\n            circle = plt.Circle((x, y), r, color=(1, G/255, B/255, 1))\n            axes.add_patch(circle)\n            plt.plot([x, x + r * np.cos(theta)], [y, y + r * np.sin(theta)], linestyle='-', color='k')\n    plt.xlim([0,1])\n    plt.ylim([0,1])\n    plt.show()",
    "id": "da7e669a352b491d8fac27704cd1fdfe",
    "idx": 3,
    "time": "2021-02-12T06:23:17.665Z",
    "type": "execution"
   },
   {
    "id": "da7e669a352b491d8fac27704cd1fdfe",
    "time": "2021-02-12T06:23:17.775Z",
    "type": "completion"
   },
   {
    "code": "matrixPhase([[0.5+0.5j,0.3],[0.1,0.8]])",
    "id": "754a30210d9242208edd0df2f085db82",
    "idx": 4,
    "time": "2021-02-12T06:23:17.838Z",
    "type": "execution"
   },
   {
    "id": "754a30210d9242208edd0df2f085db82",
    "time": "2021-02-12T06:23:18.197Z",
    "type": "completion"
   },
   {
    "code": "\n# Plot a Hinton diagram of a matrix of complex numbers\ndef matrixPhase(matrix):\n    # MATRIX assumed to have complex numbers with magnitude at most 1\n    # MATRIX also assumed to be square\n\n    array = np.asarray(matrix)\n    dim = array.shape[0]\n    rect_coords = [i/dim for i in range(dim+1)]\n    figure, axes = plt.subplots()\n\n    # Due to matrix indexing, i controls y-coodinate, j controls x-coordinate\n    for i in range(dim):\n        for j in range(dim):            \n            # Use RECT_COORDS to find centers of the phase diagram circle\n            x = (rect_coords[j] + rect_coords[j+1]) / 2\n            y = 1 - (rect_coords[i] + rect_coords[i+1]) / 2\n            \n            num = array[i][j]\n            r = np.abs(num) / (2*dim)\n            theta = np.angle(num)\n            \n            # For some reason, Patches uses RGBA instead of RGB, which has values between 0 and 1, not 0 and 255\n            # Tuples are immutable, so we have to make a new tuple\n            R, G, B = complexColor(num)\n\n            circle = plt.Circle((x, y), r, color=(0, G/255, B/255, 1))\n            axes.add_patch(circle)\n            plt.plot([x, x + r * np.cos(theta)], [y, y + r * np.sin(theta)], linestyle='-', color='k')\n    plt.xlim([0,1])\n    plt.ylim([0,1])\n    plt.show()",
    "id": "da7e669a352b491d8fac27704cd1fdfe",
    "idx": 3,
    "time": "2021-02-12T06:23:21.371Z",
    "type": "execution"
   },
   {
    "id": "da7e669a352b491d8fac27704cd1fdfe",
    "time": "2021-02-12T06:23:21.461Z",
    "type": "completion"
   },
   {
    "code": "matrixPhase([[0.5+0.5j,0.3],[0.1,0.8]])",
    "id": "754a30210d9242208edd0df2f085db82",
    "idx": 4,
    "time": "2021-02-12T06:23:21.522Z",
    "type": "execution"
   },
   {
    "id": "754a30210d9242208edd0df2f085db82",
    "time": "2021-02-12T06:23:21.870Z",
    "type": "completion"
   },
   {
    "code": "\n# Plot a Hinton diagram of a matrix of complex numbers\ndef matrixPhase(matrix):\n    # MATRIX assumed to have complex numbers with magnitude at most 1\n    # MATRIX also assumed to be square\n\n    array = np.asarray(matrix)\n    dim = array.shape[0]\n    rect_coords = [i/dim for i in range(dim+1)]\n    figure, axes = plt.subplots()\n\n    # Due to matrix indexing, i controls y-coodinate, j controls x-coordinate\n    for i in range(dim):\n        for j in range(dim):            \n            # Use RECT_COORDS to find centers of the phase diagram circle\n            x = (rect_coords[j] + rect_coords[j+1]) / 2\n            y = 1 - (rect_coords[i] + rect_coords[i+1]) / 2\n            \n            num = array[i][j]\n            r = np.abs(num) / (2*dim)\n            theta = np.angle(num)\n            \n            # For some reason, Patches uses RGBA instead of RGB, which has values between 0 and 1, not 0 and 255\n            # Tuples are immutable, so we have to make a new tuple\n            R, G, B = complexColor(num)\n\n            circle = plt.Circle((x, y), r, color=(R/255, 1, B/255, 1))\n            axes.add_patch(circle)\n            plt.plot([x, x + r * np.cos(theta)], [y, y + r * np.sin(theta)], linestyle='-', color='k')\n    plt.xlim([0,1])\n    plt.ylim([0,1])\n    plt.show()",
    "id": "da7e669a352b491d8fac27704cd1fdfe",
    "idx": 3,
    "time": "2021-02-12T06:23:35.644Z",
    "type": "execution"
   },
   {
    "id": "da7e669a352b491d8fac27704cd1fdfe",
    "time": "2021-02-12T06:23:35.727Z",
    "type": "completion"
   },
   {
    "code": "matrixPhase([[0.5+0.5j,0.3],[0.1,0.8]])",
    "id": "754a30210d9242208edd0df2f085db82",
    "idx": 4,
    "time": "2021-02-12T06:23:35.764Z",
    "type": "execution"
   },
   {
    "id": "754a30210d9242208edd0df2f085db82",
    "time": "2021-02-12T06:23:36.094Z",
    "type": "completion"
   },
   {
    "code": "\n# Plot a Hinton diagram of a matrix of complex numbers\ndef matrixPhase(matrix):\n    # MATRIX assumed to have complex numbers with magnitude at most 1\n    # MATRIX also assumed to be square\n\n    array = np.asarray(matrix)\n    dim = array.shape[0]\n    rect_coords = [i/dim for i in range(dim+1)]\n    figure, axes = plt.subplots()\n\n    # Due to matrix indexing, i controls y-coodinate, j controls x-coordinate\n    for i in range(dim):\n        for j in range(dim):            \n            # Use RECT_COORDS to find centers of the phase diagram circle\n            x = (rect_coords[j] + rect_coords[j+1]) / 2\n            y = 1 - (rect_coords[i] + rect_coords[i+1]) / 2\n            \n            num = array[i][j]\n            r = np.abs(num) / (2*dim)\n            theta = np.angle(num)\n            \n            # For some reason, Patches uses RGBA instead of RGB, which has values between 0 and 1, not 0 and 255\n            # Tuples are immutable, so we have to make a new tuple\n            R, G, B = complexColor(num)\n\n            circle = plt.Circle((x, y), r, color=(R/255, G/255, B/255, 1))\n            axes.add_patch(circle)\n            plt.plot([x, x + r * np.cos(theta)], [y, y + r * np.sin(theta)], linestyle='-', color='k')\n    plt.xlim([0,1])\n    plt.ylim([0,1])\n    plt.show()",
    "id": "da7e669a352b491d8fac27704cd1fdfe",
    "idx": 3,
    "time": "2021-02-12T06:23:41.909Z",
    "type": "execution"
   },
   {
    "id": "da7e669a352b491d8fac27704cd1fdfe",
    "time": "2021-02-12T06:23:42.007Z",
    "type": "completion"
   },
   {
    "code": "matrixPhase([[0.5+0.5j,0.3],[0.1,0.8]])",
    "id": "754a30210d9242208edd0df2f085db82",
    "idx": 4,
    "time": "2021-02-12T06:23:42.402Z",
    "type": "execution"
   },
   {
    "id": "754a30210d9242208edd0df2f085db82",
    "time": "2021-02-12T06:23:42.769Z",
    "type": "completion"
   },
   {
    "code": "# Convert magnitude and phase to an RGB triple\ndef complexColor(z):\n    # Use standard mapping of magnitude and phase to HSL (H = phase, L = magnitude, S = 1)\n    # Then map HSL to RGB and return a triple\n    # Magnitude assumed not greater than 1\n    \n    norm = np.abs(z)\n    phase = np.angle(z)\n    \n    C = 1 - abs(2*norm - 1)\n    H = phase/(np.pi / 3) # Finds which of the 6 sections of the color wheel the phase belongs to\n    X = C * (1 - abs((H % 2) - 1))\n    \n    # 6 cases corresponding to the 6 sections\n    if H <= 1:\n        R = C\n        G = X\n        B = 0\n    elif H <= 2:\n        R = X\n        G = C\n        B = 0\n    elif H <= 3:\n        R = 0\n        G = C\n        B = X\n    elif H <= 4:\n        R = 0\n        G = X\n        B = C\n    elif H <= 5:\n        R = X\n        G = 0\n        B = C\n    elif H <= 6:\n        R = C\n        G = 0\n        B = X\n    else:\n        R = 0\n        G = 0\n        B = 0\n        \n    m = norm - C/2\n    \n    return (R+m, G+m, B+m)",
    "id": "341ea8fd0ab8413dad12f54ea5a91267",
    "idx": 2,
    "time": "2021-02-12T06:24:00.149Z",
    "type": "execution"
   },
   {
    "id": "341ea8fd0ab8413dad12f54ea5a91267",
    "time": "2021-02-12T06:24:00.237Z",
    "type": "completion"
   },
   {
    "code": "# Convert magnitude and phase to an RGB triple\ndef complexColor(z):\n    # Use standard mapping of magnitude and phase to HSL (H = phase, L = magnitude, S = 1)\n    # Then map HSL to RGB and return a triple\n    # Magnitude assumed not greater than 1\n    \n    norm = np.abs(z)\n    phase = np.angle(z)\n    \n    C = 1 - abs(2*norm - 1)\n    H = phase/(np.pi / 3) # Finds which of the 6 sections of the color wheel the phase belongs to\n    X = C * (1 - abs((H % 2) - 1))\n    \n    # 6 cases corresponding to the 6 sections\n    if H <= 1:\n        R = C\n        G = X\n        B = 0\n    elif H <= 2:\n        R = X\n        G = C\n        B = 0\n    elif H <= 3:\n        R = 0\n        G = C\n        B = X\n    elif H <= 4:\n        R = 0\n        G = X\n        B = C\n    elif H <= 5:\n        R = X\n        G = 0\n        B = C\n    elif H <= 6:\n        R = C\n        G = 0\n        B = X\n    else:\n        R = 255\n        G = 0\n        B = 0\n        \n    m = norm - C/2\n    \n    return (R+m, G+m, B+m)",
    "id": "341ea8fd0ab8413dad12f54ea5a91267",
    "idx": 2,
    "time": "2021-02-12T06:24:06.351Z",
    "type": "execution"
   },
   {
    "id": "341ea8fd0ab8413dad12f54ea5a91267",
    "time": "2021-02-12T06:24:06.437Z",
    "type": "completion"
   },
   {
    "code": "\n# Plot a Hinton diagram of a matrix of complex numbers\ndef matrixPhase(matrix):\n    # MATRIX assumed to have complex numbers with magnitude at most 1\n    # MATRIX also assumed to be square\n\n    array = np.asarray(matrix)\n    dim = array.shape[0]\n    rect_coords = [i/dim for i in range(dim+1)]\n    figure, axes = plt.subplots()\n\n    # Due to matrix indexing, i controls y-coodinate, j controls x-coordinate\n    for i in range(dim):\n        for j in range(dim):            \n            # Use RECT_COORDS to find centers of the phase diagram circle\n            x = (rect_coords[j] + rect_coords[j+1]) / 2\n            y = 1 - (rect_coords[i] + rect_coords[i+1]) / 2\n            \n            num = array[i][j]\n            r = np.abs(num) / (2*dim)\n            theta = np.angle(num)\n            \n            # For some reason, Patches uses RGBA instead of RGB, which has values between 0 and 1, not 0 and 255\n            # Tuples are immutable, so we have to make a new tuple\n            R, G, B = complexColor(num)\n\n            circle = plt.Circle((x, y), r, color=(R/255, G/255, B/255, 1))\n            axes.add_patch(circle)\n            plt.plot([x, x + r * np.cos(theta)], [y, y + r * np.sin(theta)], linestyle='-', color='k')\n    plt.xlim([0,1])\n    plt.ylim([0,1])\n    plt.show()",
    "id": "da7e669a352b491d8fac27704cd1fdfe",
    "idx": 3,
    "time": "2021-02-12T06:24:06.539Z",
    "type": "execution"
   },
   {
    "id": "da7e669a352b491d8fac27704cd1fdfe",
    "time": "2021-02-12T06:24:06.630Z",
    "type": "completion"
   },
   {
    "code": "matrixPhase([[0.5+0.5j,0.3],[0.1,0.8]])",
    "id": "754a30210d9242208edd0df2f085db82",
    "idx": 4,
    "time": "2021-02-12T06:24:07.027Z",
    "type": "execution"
   },
   {
    "id": "754a30210d9242208edd0df2f085db82",
    "time": "2021-02-12T06:24:07.399Z",
    "type": "completion"
   },
   {
    "code": "# Convert magnitude and phase to an RGB triple\ndef complexColor(z):\n    # Use standard mapping of magnitude and phase to HSL (H = phase, L = magnitude, S = 1)\n    # Then map HSL to RGB and return a triple\n    # Magnitude assumed not greater than 1\n    \n    norm = np.abs(z)\n    phase = np.angle(z, deg=True)\n    \n    C = 1 - abs(2*norm - 1)\n    H = phase/60 # Finds which of the 6 sections of the color wheel the phase belongs to\n    X = C * (1 - abs((H % 2) - 1))\n    \n    # 6 cases corresponding to the 6 sections\n    if H <= 1:\n        R = C\n        G = X\n        B = 0\n    elif H <= 2:\n        R = X\n        G = C\n        B = 0\n    elif H <= 3:\n        R = 0\n        G = C\n        B = X\n    elif H <= 4:\n        R = 0\n        G = X\n        B = C\n    elif H <= 5:\n        R = X\n        G = 0\n        B = C\n    elif H <= 6:\n        R = C\n        G = 0\n        B = X\n    else:\n        R = 0\n        G = 0\n        B = 0\n        \n    m = norm - C/2\n    \n    return (R+m, G+m, B+m)",
    "id": "341ea8fd0ab8413dad12f54ea5a91267",
    "idx": 2,
    "time": "2021-02-12T06:25:03.023Z",
    "type": "execution"
   },
   {
    "id": "341ea8fd0ab8413dad12f54ea5a91267",
    "time": "2021-02-12T06:25:03.120Z",
    "type": "completion"
   },
   {
    "code": "\n# Plot a Hinton diagram of a matrix of complex numbers\ndef matrixPhase(matrix):\n    # MATRIX assumed to have complex numbers with magnitude at most 1\n    # MATRIX also assumed to be square\n\n    array = np.asarray(matrix)\n    dim = array.shape[0]\n    rect_coords = [i/dim for i in range(dim+1)]\n    figure, axes = plt.subplots()\n\n    # Due to matrix indexing, i controls y-coodinate, j controls x-coordinate\n    for i in range(dim):\n        for j in range(dim):            \n            # Use RECT_COORDS to find centers of the phase diagram circle\n            x = (rect_coords[j] + rect_coords[j+1]) / 2\n            y = 1 - (rect_coords[i] + rect_coords[i+1]) / 2\n            \n            num = array[i][j]\n            r = np.abs(num) / (2*dim)\n            theta = np.angle(num)\n            \n            # For some reason, Patches uses RGBA instead of RGB, which has values between 0 and 1, not 0 and 255\n            # Tuples are immutable, so we have to make a new tuple\n            R, G, B = complexColor(num)\n\n            circle = plt.Circle((x, y), r, color=(R/255, G/255, B/255, 1))\n            axes.add_patch(circle)\n            plt.plot([x, x + r * np.cos(theta)], [y, y + r * np.sin(theta)], linestyle='-', color='k')\n    plt.xlim([0,1])\n    plt.ylim([0,1])\n    plt.show()",
    "id": "da7e669a352b491d8fac27704cd1fdfe",
    "idx": 3,
    "time": "2021-02-12T06:25:03.396Z",
    "type": "execution"
   },
   {
    "id": "da7e669a352b491d8fac27704cd1fdfe",
    "time": "2021-02-12T06:25:03.482Z",
    "type": "completion"
   },
   {
    "code": "matrixPhase([[0.5+0.5j,0.3],[0.1,0.8]])",
    "id": "754a30210d9242208edd0df2f085db82",
    "idx": 4,
    "time": "2021-02-12T06:25:03.922Z",
    "type": "execution"
   },
   {
    "id": "754a30210d9242208edd0df2f085db82",
    "time": "2021-02-12T06:25:04.266Z",
    "type": "completion"
   },
   {
    "code": "\n# Plot a Hinton diagram of a matrix of complex numbers\ndef matrixPhase(matrix):\n    # MATRIX assumed to have complex numbers with magnitude at most 1\n    # MATRIX also assumed to be square\n\n    array = np.asarray(matrix)\n    dim = array.shape[0]\n    rect_coords = [i/dim for i in range(dim+1)]\n    figure, axes = plt.subplots()\n\n    # Due to matrix indexing, i controls y-coodinate, j controls x-coordinate\n    for i in range(dim):\n        for j in range(dim):            \n            # Use RECT_COORDS to find centers of the phase diagram circle\n            x = (rect_coords[j] + rect_coords[j+1]) / 2\n            y = 1 - (rect_coords[i] + rect_coords[i+1]) / 2\n            \n            num = array[i][j]\n            r = np.abs(num) / (2*dim)\n            theta = np.angle(num)\n            \n            # For some reason, Patches uses RGBA instead of RGB, which has values between 0 and 1, not 0 and 255\n            # Tuples are immutable, so we have to make a new tuple\n            R, G, B = complexColor(num)\n\n            circle = plt.Circle((x, y), r, color=(R/255, G/255, B/255, 0))\n            axes.add_patch(circle)\n            plt.plot([x, x + r * np.cos(theta)], [y, y + r * np.sin(theta)], linestyle='-', color='k')\n    plt.xlim([0,1])\n    plt.ylim([0,1])\n    plt.show()",
    "id": "da7e669a352b491d8fac27704cd1fdfe",
    "idx": 3,
    "time": "2021-02-12T06:25:21.430Z",
    "type": "execution"
   },
   {
    "id": "da7e669a352b491d8fac27704cd1fdfe",
    "time": "2021-02-12T06:25:21.518Z",
    "type": "completion"
   },
   {
    "code": "matrixPhase([[0.5+0.5j,0.3],[0.1,0.8]])",
    "id": "754a30210d9242208edd0df2f085db82",
    "idx": 4,
    "time": "2021-02-12T06:25:21.594Z",
    "type": "execution"
   },
   {
    "id": "754a30210d9242208edd0df2f085db82",
    "time": "2021-02-12T06:25:21.879Z",
    "type": "completion"
   },
   {
    "code": "\n# Plot a Hinton diagram of a matrix of complex numbers\ndef matrixPhase(matrix):\n    # MATRIX assumed to have complex numbers with magnitude at most 1\n    # MATRIX also assumed to be square\n\n    array = np.asarray(matrix)\n    dim = array.shape[0]\n    rect_coords = [i/dim for i in range(dim+1)]\n    figure, axes = plt.subplots()\n\n    # Due to matrix indexing, i controls y-coodinate, j controls x-coordinate\n    for i in range(dim):\n        for j in range(dim):            \n            # Use RECT_COORDS to find centers of the phase diagram circle\n            x = (rect_coords[j] + rect_coords[j+1]) / 2\n            y = 1 - (rect_coords[i] + rect_coords[i+1]) / 2\n            \n            num = array[i][j]\n            r = np.abs(num) / (2*dim)\n            theta = np.angle(num)\n            \n            # For some reason, Patches uses RGBA instead of RGB, which has values between 0 and 1, not 0 and 255\n            # Tuples are immutable, so we have to make a new tuple\n            R, G, B = complexColor(num)\n\n            circle = plt.Circle((x, y), r, color=(R/255, G/255, B/255, 0.5))\n            axes.add_patch(circle)\n            plt.plot([x, x + r * np.cos(theta)], [y, y + r * np.sin(theta)], linestyle='-', color='k')\n    plt.xlim([0,1])\n    plt.ylim([0,1])\n    plt.show()",
    "id": "da7e669a352b491d8fac27704cd1fdfe",
    "idx": 3,
    "time": "2021-02-12T06:25:25.060Z",
    "type": "execution"
   },
   {
    "id": "da7e669a352b491d8fac27704cd1fdfe",
    "time": "2021-02-12T06:25:25.148Z",
    "type": "completion"
   },
   {
    "code": "matrixPhase([[0.5+0.5j,0.3],[0.1,0.8]])",
    "id": "754a30210d9242208edd0df2f085db82",
    "idx": 4,
    "time": "2021-02-12T06:25:25.464Z",
    "type": "execution"
   },
   {
    "id": "754a30210d9242208edd0df2f085db82",
    "time": "2021-02-12T06:25:25.835Z",
    "type": "completion"
   },
   {
    "code": "\n# Plot a Hinton diagram of a matrix of complex numbers\ndef matrixPhase(matrix):\n    # MATRIX assumed to have complex numbers with magnitude at most 1\n    # MATRIX also assumed to be square\n\n    array = np.asarray(matrix)\n    dim = array.shape[0]\n    rect_coords = [i/dim for i in range(dim+1)]\n    figure, axes = plt.subplots()\n\n    # Due to matrix indexing, i controls y-coodinate, j controls x-coordinate\n    for i in range(dim):\n        for j in range(dim):            \n            # Use RECT_COORDS to find centers of the phase diagram circle\n            x = (rect_coords[j] + rect_coords[j+1]) / 2\n            y = 1 - (rect_coords[i] + rect_coords[i+1]) / 2\n            \n            num = array[i][j]\n            r = np.abs(num) / (2*dim)\n            theta = np.angle(num)\n            \n            # For some reason, Patches uses RGBA instead of RGB, which has values between 0 and 1, not 0 and 255\n            # Tuples are immutable, so we have to make a new tuple\n            R, G, B = complexColor(num)\n\n            circle = plt.Circle((x, y), r, color=(R/255, G/255, B/255, 1))\n            axes.add_patch(circle)\n            plt.plot([x, x + r * np.cos(theta)], [y, y + r * np.sin(theta)], linestyle='-', color='k')\n    plt.xlim([0,1])\n    plt.ylim([0,1])\n    plt.show()",
    "id": "da7e669a352b491d8fac27704cd1fdfe",
    "idx": 3,
    "time": "2021-02-12T06:25:29.432Z",
    "type": "execution"
   },
   {
    "code": "matrixPhase([[0.5+0.5j,0.3],[0.1,0.8]])",
    "id": "754a30210d9242208edd0df2f085db82",
    "idx": 4,
    "time": "2021-02-12T06:25:29.567Z",
    "type": "execution"
   },
   {
    "id": "da7e669a352b491d8fac27704cd1fdfe",
    "time": "2021-02-12T06:25:29.589Z",
    "type": "completion"
   },
   {
    "id": "754a30210d9242208edd0df2f085db82",
    "time": "2021-02-12T06:25:29.951Z",
    "type": "completion"
   },
   {
    "code": "complexColor(1)",
    "id": "58f399d8bae74af5a0b61fe5a2806c4a",
    "idx": 5,
    "time": "2021-02-12T06:27:45.240Z",
    "type": "execution"
   },
   {
    "id": "58f399d8bae74af5a0b61fe5a2806c4a",
    "time": "2021-02-12T06:27:45.352Z",
    "type": "completion"
   },
   {
    "code": "complexColor(1.J)",
    "id": "58f399d8bae74af5a0b61fe5a2806c4a",
    "idx": 5,
    "time": "2021-02-12T06:28:02.478Z",
    "type": "execution"
   },
   {
    "id": "58f399d8bae74af5a0b61fe5a2806c4a",
    "time": "2021-02-12T06:28:02.560Z",
    "type": "completion"
   },
   {
    "code": "complexColor(1.j)",
    "id": "58f399d8bae74af5a0b61fe5a2806c4a",
    "idx": 5,
    "time": "2021-02-12T06:28:06.071Z",
    "type": "execution"
   },
   {
    "id": "58f399d8bae74af5a0b61fe5a2806c4a",
    "time": "2021-02-12T06:28:06.149Z",
    "type": "completion"
   },
   {
    "code": "complexColor(100)",
    "id": "58f399d8bae74af5a0b61fe5a2806c4a",
    "idx": 5,
    "time": "2021-02-12T06:29:12.773Z",
    "type": "execution"
   },
   {
    "id": "58f399d8bae74af5a0b61fe5a2806c4a",
    "time": "2021-02-12T06:29:12.870Z",
    "type": "completion"
   },
   {
    "code": "complexColor(0.5+0.3j)",
    "id": "58f399d8bae74af5a0b61fe5a2806c4a",
    "idx": 5,
    "time": "2021-02-12T06:30:01.387Z",
    "type": "execution"
   },
   {
    "id": "58f399d8bae74af5a0b61fe5a2806c4a",
    "time": "2021-02-12T06:30:01.470Z",
    "type": "completion"
   },
   {
    "code": "\n# Plot a Hinton diagram of a matrix of complex numbers\ndef matrixPhase(matrix):\n    # MATRIX assumed to have complex numbers with magnitude at most 1\n    # MATRIX also assumed to be square\n\n    array = np.asarray(matrix)\n    dim = array.shape[0]\n    rect_coords = [i/dim for i in range(dim+1)]\n    figure, axes = plt.subplots()\n\n    # Due to matrix indexing, i controls y-coodinate, j controls x-coordinate\n    for i in range(dim):\n        for j in range(dim):            \n            # Use RECT_COORDS to find centers of the phase diagram circle\n            x = (rect_coords[j] + rect_coords[j+1]) / 2\n            y = 1 - (rect_coords[i] + rect_coords[i+1]) / 2\n            \n            num = array[i][j]\n            r = np.abs(num) / (2*dim)\n            theta = np.angle(num)\n            \n            # For some reason, Patches uses RGBA instead of RGB, which has values between 0 and 1, not 0 and 255\n            # Tuples are immutable, so we have to make a new tuple\n            R, G, B = complexColor(num)\n\n            circle = plt.Circle((x, y), r, color=(R, G, B, 1))\n            axes.add_patch(circle)\n            plt.plot([x, x + r * np.cos(theta)], [y, y + r * np.sin(theta)], linestyle='-', color='k')\n    plt.xlim([0,1])\n    plt.ylim([0,1])\n    plt.show()",
    "id": "da7e669a352b491d8fac27704cd1fdfe",
    "idx": 3,
    "time": "2021-02-12T06:30:35.735Z",
    "type": "execution"
   },
   {
    "id": "da7e669a352b491d8fac27704cd1fdfe",
    "time": "2021-02-12T06:30:35.824Z",
    "type": "completion"
   },
   {
    "code": "matrixPhase([[0.5+0.5j,0.3],[0.1,0.8]])",
    "id": "754a30210d9242208edd0df2f085db82",
    "idx": 4,
    "time": "2021-02-12T06:30:35.883Z",
    "type": "execution"
   },
   {
    "id": "754a30210d9242208edd0df2f085db82",
    "time": "2021-02-12T06:30:36.278Z",
    "type": "completion"
   },
   {
    "code": "\n# Plot a Hinton diagram of a matrix of complex numbers\ndef matrixPhase(matrix):\n    # MATRIX assumed to have complex numbers with magnitude at most 1\n    # MATRIX also assumed to be square\n\n    array = np.asarray(matrix)\n    dim = array.shape[0]\n    rect_coords = [i/dim for i in range(dim+1)]\n    figure, axes = plt.subplots()\n\n    # Due to matrix indexing, i controls y-coodinate, j controls x-coordinate\n    for i in range(dim):\n        for j in range(dim):            \n            # Use RECT_COORDS to find centers of the phase diagram circle\n            x = (rect_coords[j] + rect_coords[j+1]) / 2\n            y = 1 - (rect_coords[i] + rect_coords[i+1]) / 2\n            \n            num = array[i][j]\n            r = np.abs(num) / (2*dim)\n            theta = np.angle(num)\n            \n            # For some reason, Patches uses RGBA instead of RGB, which has values between 0 and 1, not 0 and 255\n            # Tuples are immutable, so we have to make a new tuple\n            R, G, B = complexColor(num)\n\n            circle = plt.Circle((x, y), r, color=complexColor(num))\n            axes.add_patch(circle)\n            plt.plot([x, x + r * np.cos(theta)], [y, y + r * np.sin(theta)], linestyle='-', color='k')\n    plt.xlim([0,1])\n    plt.ylim([0,1])\n    plt.show()",
    "id": "da7e669a352b491d8fac27704cd1fdfe",
    "idx": 3,
    "time": "2021-02-12T06:30:45.080Z",
    "type": "execution"
   },
   {
    "code": "matrixPhase([[0.5+0.5j,0.3],[0.1,0.8]])",
    "id": "754a30210d9242208edd0df2f085db82",
    "idx": 4,
    "time": "2021-02-12T06:30:45.454Z",
    "type": "execution"
   },
   {
    "id": "da7e669a352b491d8fac27704cd1fdfe",
    "time": "2021-02-12T06:30:45.496Z",
    "type": "completion"
   },
   {
    "id": "754a30210d9242208edd0df2f085db82",
    "time": "2021-02-12T06:30:45.973Z",
    "type": "completion"
   },
   {
    "code": "# Convert magnitude and phase to a standard RGB triple (between 0 and 255)\ndef complexColor(z):\n    # Use standard mapping of magnitude and phase to HSL (H = phase, L = magnitude, S = 1)\n    # Then map HSL to RGB and return a triple\n    # Magnitude assumed not greater than 1\n    \n    norm = np.abs(z)\n    phase = np.angle(z, deg=True)\n    \n    C = 255 * (1 - abs(2*norm - 1))\n    H = phase/60 # Finds which of the 6 sections of the color wheel the phase belongs to\n    X = 255 * C * (1 - abs((H % 2) - 1))\n    \n    # 6 cases corresponding to the 6 sections\n    if H <= 1:\n        R = C\n        G = X\n        B = 0\n    elif H <= 2:\n        R = X\n        G = C\n        B = 0\n    elif H <= 3:\n        R = 0\n        G = C\n        B = X\n    elif H <= 4:\n        R = 0\n        G = X\n        B = C\n    elif H <= 5:\n        R = X\n        G = 0\n        B = C\n    elif H <= 6:\n        R = C\n        G = 0\n        B = X\n    else:\n        R = 0\n        G = 0\n        B = 0\n        \n    m = norm - C/2\n    \n    return (R+m, G+m, B+m)",
    "id": "341ea8fd0ab8413dad12f54ea5a91267",
    "idx": 2,
    "time": "2021-02-12T06:31:51.462Z",
    "type": "execution"
   },
   {
    "id": "341ea8fd0ab8413dad12f54ea5a91267",
    "time": "2021-02-12T06:31:51.574Z",
    "type": "completion"
   },
   {
    "code": "\n# Plot a Hinton diagram of a matrix of complex numbers\ndef matrixPhase(matrix):\n    # MATRIX assumed to have complex numbers with magnitude at most 1\n    # MATRIX also assumed to be square\n\n    array = np.asarray(matrix)\n    dim = array.shape[0]\n    rect_coords = [i/dim for i in range(dim+1)]\n    figure, axes = plt.subplots()\n\n    # Due to matrix indexing, i controls y-coodinate, j controls x-coordinate\n    for i in range(dim):\n        for j in range(dim):            \n            # Use RECT_COORDS to find centers of the phase diagram circle\n            x = (rect_coords[j] + rect_coords[j+1]) / 2\n            y = 1 - (rect_coords[i] + rect_coords[i+1]) / 2\n            \n            num = array[i][j]\n            r = np.abs(num) / (2*dim)\n            theta = np.angle(num)\n\n            circle = plt.Circle((x, y), r, color=complexColor(num))\n            axes.add_patch(circle)\n            plt.plot([x, x + r * np.cos(theta)], [y, y + r * np.sin(theta)], linestyle='-', color='k')\n    plt.xlim([0,1])\n    plt.ylim([0,1])\n    plt.show()",
    "id": "da7e669a352b491d8fac27704cd1fdfe",
    "idx": 3,
    "time": "2021-02-12T06:31:52.421Z",
    "type": "execution"
   },
   {
    "id": "da7e669a352b491d8fac27704cd1fdfe",
    "time": "2021-02-12T06:31:52.504Z",
    "type": "completion"
   },
   {
    "code": "\n# Plot a Hinton diagram of a matrix of complex numbers\ndef matrixPhase(matrix):\n    # MATRIX assumed to have complex numbers with magnitude at most 1\n    # MATRIX also assumed to be square\n\n    array = np.asarray(matrix)\n    dim = array.shape[0]\n    rect_coords = [i/dim for i in range(dim+1)]\n    figure, axes = plt.subplots()\n\n    # Due to matrix indexing, i controls y-coodinate, j controls x-coordinate\n    for i in range(dim):\n        for j in range(dim):            \n            # Use RECT_COORDS to find centers of the phase diagram circle\n            x = (rect_coords[j] + rect_coords[j+1]) / 2\n            y = 1 - (rect_coords[i] + rect_coords[i+1]) / 2\n            \n            num = array[i][j]\n            r = np.abs(num) / (2*dim)\n            theta = np.angle(num)\n            \n            # For some reason, we need to input RGG as values between 0 and 1, not 0 and 255\n            # Tuples are immutable, so we have to make a new tuple\n            R, G, B = complexColor(num)\n\n            circle = plt.Circle((x, y), r, color=(R/255, G/255, B/255, 1))\n            axes.add_patch(circle)\n            plt.plot([x, x + r * np.cos(theta)], [y, y + r * np.sin(theta)], linestyle='-', color='k')\n    plt.xlim([0,1])\n    plt.ylim([0,1])\n    plt.show()",
    "id": "da7e669a352b491d8fac27704cd1fdfe",
    "idx": 3,
    "time": "2021-02-12T06:32:44.394Z",
    "type": "execution"
   },
   {
    "id": "da7e669a352b491d8fac27704cd1fdfe",
    "time": "2021-02-12T06:32:44.487Z",
    "type": "completion"
   },
   {
    "code": "matrixPhase([[0.5+0.5j,0.3],[0.1,0.8]])",
    "id": "754a30210d9242208edd0df2f085db82",
    "idx": 4,
    "time": "2021-02-12T06:32:44.867Z",
    "type": "execution"
   },
   {
    "id": "754a30210d9242208edd0df2f085db82",
    "time": "2021-02-12T06:32:45.117Z",
    "type": "completion"
   },
   {
    "code": "# Convert magnitude and phase to a standard RGB triple (between 0 and 255)\ndef complexColor(z):\n    # Use standard mapping of magnitude and phase to HSL (H = phase, L = magnitude, S = 1)\n    # Then map HSL to RGB and return a triple\n    # Magnitude assumed not greater than 1\n    \n    norm = np.abs(z)\n    phase = np.angle(z, deg=True)\n    \n    C = 1 - abs(2*norm - 1)\n    H = phase/60 # Finds which of the 6 sections of the color wheel the phase belongs to\n    X = C * (1 - abs((H % 2) - 1)\n    \n    # 6 cases corresponding to the 6 sections\n    if H <= 1:\n        R = C\n        G = X\n        B = 0\n    elif H <= 2:\n        R = X\n        G = C\n        B = 0\n    elif H <= 3:\n        R = 0\n        G = C\n        B = X\n    elif H <= 4:\n        R = 0\n        G = X\n        B = C\n    elif H <= 5:\n        R = X\n        G = 0\n        B = C\n    elif H <= 6:\n        R = C\n        G = 0\n        B = X\n    else:\n        R = 0\n        G = 0\n        B = 0\n        \n    m = norm - C/2\n    \n    return (255*(R+m), 255*(G+m), 255*(B+m))",
    "id": "341ea8fd0ab8413dad12f54ea5a91267",
    "idx": 2,
    "time": "2021-02-12T06:33:32.055Z",
    "type": "execution"
   },
   {
    "id": "341ea8fd0ab8413dad12f54ea5a91267",
    "time": "2021-02-12T06:33:32.170Z",
    "type": "completion"
   },
   {
    "code": "\n# Plot a Hinton diagram of a matrix of complex numbers\ndef matrixPhase(matrix):\n    # MATRIX assumed to have complex numbers with magnitude at most 1\n    # MATRIX also assumed to be square\n\n    array = np.asarray(matrix)\n    dim = array.shape[0]\n    rect_coords = [i/dim for i in range(dim+1)]\n    figure, axes = plt.subplots()\n\n    # Due to matrix indexing, i controls y-coodinate, j controls x-coordinate\n    for i in range(dim):\n        for j in range(dim):            \n            # Use RECT_COORDS to find centers of the phase diagram circle\n            x = (rect_coords[j] + rect_coords[j+1]) / 2\n            y = 1 - (rect_coords[i] + rect_coords[i+1]) / 2\n            \n            num = array[i][j]\n            r = np.abs(num) / (2*dim)\n            theta = np.angle(num)\n            \n            # For some reason, we need to input RGG as values between 0 and 1, not 0 and 255\n            # Tuples are immutable, so we have to make a new tuple\n            R, G, B = complexColor(num)\n\n            circle = plt.Circle((x, y), r, color=(R/255, G/255, B/255, 1))\n            axes.add_patch(circle)\n            plt.plot([x, x + r * np.cos(theta)], [y, y + r * np.sin(theta)], linestyle='-', color='k')\n    plt.xlim([0,1])\n    plt.ylim([0,1])\n    plt.show()",
    "id": "da7e669a352b491d8fac27704cd1fdfe",
    "idx": 3,
    "time": "2021-02-12T06:33:32.654Z",
    "type": "execution"
   },
   {
    "id": "da7e669a352b491d8fac27704cd1fdfe",
    "time": "2021-02-12T06:33:32.745Z",
    "type": "completion"
   },
   {
    "code": "# Convert magnitude and phase to a standard RGB triple (between 0 and 255)\ndef complexColor(z):\n    # Use standard mapping of magnitude and phase to HSL (H = phase, L = magnitude, S = 1)\n    # Then map HSL to RGB and return a triple\n    # Magnitude assumed not greater than 1\n    \n    norm = np.abs(z)\n    phase = np.angle(z, deg=True)\n    \n    C = 1 - abs(2*norm - 1)\n    H = phase/60 # Finds which of the 6 sections of the color wheel the phase belongs to\n    X = C * (1 - abs((H % 2) - 1))\n    \n    # 6 cases corresponding to the 6 sections\n    if H <= 1:\n        R = C\n        G = X\n        B = 0\n    elif H <= 2:\n        R = X\n        G = C\n        B = 0\n    elif H <= 3:\n        R = 0\n        G = C\n        B = X\n    elif H <= 4:\n        R = 0\n        G = X\n        B = C\n    elif H <= 5:\n        R = X\n        G = 0\n        B = C\n    elif H <= 6:\n        R = C\n        G = 0\n        B = X\n    else:\n        R = 0\n        G = 0\n        B = 0\n        \n    m = norm - C/2\n    \n    return (255*(R+m), 255*(G+m), 255*(B+m))",
    "id": "341ea8fd0ab8413dad12f54ea5a91267",
    "idx": 2,
    "time": "2021-02-12T06:33:54.174Z",
    "type": "execution"
   },
   {
    "id": "341ea8fd0ab8413dad12f54ea5a91267",
    "time": "2021-02-12T06:33:54.263Z",
    "type": "completion"
   },
   {
    "code": "\n# Plot a Hinton diagram of a matrix of complex numbers\ndef matrixPhase(matrix):\n    # MATRIX assumed to have complex numbers with magnitude at most 1\n    # MATRIX also assumed to be square\n\n    array = np.asarray(matrix)\n    dim = array.shape[0]\n    rect_coords = [i/dim for i in range(dim+1)]\n    figure, axes = plt.subplots()\n\n    # Due to matrix indexing, i controls y-coodinate, j controls x-coordinate\n    for i in range(dim):\n        for j in range(dim):            \n            # Use RECT_COORDS to find centers of the phase diagram circle\n            x = (rect_coords[j] + rect_coords[j+1]) / 2\n            y = 1 - (rect_coords[i] + rect_coords[i+1]) / 2\n            \n            num = array[i][j]\n            r = np.abs(num) / (2*dim)\n            theta = np.angle(num)\n            \n            # For some reason, we need to input RGG as values between 0 and 1, not 0 and 255\n            # Tuples are immutable, so we have to make a new tuple\n            R, G, B = complexColor(num)\n\n            circle = plt.Circle((x, y), r, color=(R/255, G/255, B/255, 1))\n            axes.add_patch(circle)\n            plt.plot([x, x + r * np.cos(theta)], [y, y + r * np.sin(theta)], linestyle='-', color='k')\n    plt.xlim([0,1])\n    plt.ylim([0,1])\n    plt.show()",
    "id": "da7e669a352b491d8fac27704cd1fdfe",
    "idx": 3,
    "time": "2021-02-12T06:33:54.646Z",
    "type": "execution"
   },
   {
    "id": "da7e669a352b491d8fac27704cd1fdfe",
    "time": "2021-02-12T06:33:54.731Z",
    "type": "completion"
   },
   {
    "code": "matrixPhase([[0.5+0.5j,0.3],[0.1,0.8]])",
    "id": "754a30210d9242208edd0df2f085db82",
    "idx": 4,
    "time": "2021-02-12T06:33:56.409Z",
    "type": "execution"
   },
   {
    "id": "754a30210d9242208edd0df2f085db82",
    "time": "2021-02-12T06:33:56.765Z",
    "type": "completion"
   },
   {
    "code": "\n# Plot a Hinton diagram of a matrix of complex numbers\ndef matrixPhase(matrix):\n    # MATRIX assumed to have complex numbers with magnitude at most 1\n    # MATRIX also assumed to be square\n\n    array = np.asarray(matrix)\n    dim = array.shape[0]\n    rect_coords = [i/dim for i in range(dim+1)]\n    figure, axes = plt.subplots()\n\n    # Due to matrix indexing, i controls y-coodinate, j controls x-coordinate\n    for i in range(dim):\n        for j in range(dim):            \n            # Use RECT_COORDS to find centers of the phase diagram circle\n            x = (rect_coords[j] + rect_coords[j+1]) / 2\n            y = 1 - (rect_coords[i] + rect_coords[i+1]) / 2\n            \n            num = array[i][j]\n            r = np.abs(num) / (2*dim)\n            theta = np.angle(num)\n            \n            # For some reason, we need to input RGG as values between 0 and 1, not 0 and 255\n            # Tuples are immutable, so we have to make a new tuple\n            R, G, B = complexColor(num)\n\n            circle = plt.Circle((x, y), r, color=(R/255, G/255, B/255, 1))\n            axes.add_patch(circle)\n            plt.plot([x, x + 1.2 * r * np.cos(theta)], [y, y + 1.2 * r * np.sin(theta)], linestyle='-', color='k')\n    plt.xlim([0,1])\n    plt.ylim([0,1])\n    plt.show()",
    "id": "da7e669a352b491d8fac27704cd1fdfe",
    "idx": 3,
    "time": "2021-02-12T06:34:41.257Z",
    "type": "execution"
   },
   {
    "id": "da7e669a352b491d8fac27704cd1fdfe",
    "time": "2021-02-12T06:34:41.356Z",
    "type": "completion"
   },
   {
    "code": "matrixPhase([[0.5+0.5j,0.3],[0.1,0.8]])",
    "id": "754a30210d9242208edd0df2f085db82",
    "idx": 4,
    "time": "2021-02-12T06:34:41.707Z",
    "type": "execution"
   },
   {
    "id": "754a30210d9242208edd0df2f085db82",
    "time": "2021-02-12T06:34:42.040Z",
    "type": "completion"
   },
   {
    "code": "# Convert magnitude and phase to a standard RGB triple (between 0 and 255)\ndef complexColor(z):\n    # Use standard mapping of magnitude and phase to HSL (H = phase, L = magnitude, S = 1)\n    # Then map HSL to RGB and return a triple\n    # Magnitude assumed not greater than 1\n    \n    norm = 1-np.abs(z)\n    phase = np.angle(z, deg=True)\n    \n    C = 1 - abs(2*norm - 1)\n    H = phase/60 # Finds which of the 6 sections of the color wheel the phase belongs to\n    X = C * (1 - abs((H % 2) - 1))\n    \n    # 6 cases corresponding to the 6 sections\n    if H <= 1:\n        R = C\n        G = X\n        B = 0\n    elif H <= 2:\n        R = X\n        G = C\n        B = 0\n    elif H <= 3:\n        R = 0\n        G = C\n        B = X\n    elif H <= 4:\n        R = 0\n        G = X\n        B = C\n    elif H <= 5:\n        R = X\n        G = 0\n        B = C\n    elif H <= 6:\n        R = C\n        G = 0\n        B = X\n    else:\n        R = 0\n        G = 0\n        B = 0\n        \n    m = norm - C/2\n    \n    return (255*(R+m), 255*(G+m), 255*(B+m))",
    "id": "341ea8fd0ab8413dad12f54ea5a91267",
    "idx": 2,
    "time": "2021-02-12T06:35:22.492Z",
    "type": "execution"
   },
   {
    "id": "341ea8fd0ab8413dad12f54ea5a91267",
    "time": "2021-02-12T06:35:22.582Z",
    "type": "completion"
   },
   {
    "code": "\n# Plot a Hinton diagram of a matrix of complex numbers\ndef matrixPhase(matrix):\n    # MATRIX assumed to have complex numbers with magnitude at most 1\n    # MATRIX also assumed to be square\n\n    array = np.asarray(matrix)\n    dim = array.shape[0]\n    rect_coords = [i/dim for i in range(dim+1)]\n    figure, axes = plt.subplots()\n\n    # Due to matrix indexing, i controls y-coodinate, j controls x-coordinate\n    for i in range(dim):\n        for j in range(dim):            \n            # Use RECT_COORDS to find centers of the phase diagram circle\n            x = (rect_coords[j] + rect_coords[j+1]) / 2\n            y = 1 - (rect_coords[i] + rect_coords[i+1]) / 2\n            \n            num = array[i][j]\n            r = np.abs(num) / (2*dim)\n            theta = np.angle(num)\n            \n            # For some reason, we need to input RGG as values between 0 and 1, not 0 and 255\n            # Tuples are immutable, so we have to make a new tuple\n            R, G, B = complexColor(num)\n\n            circle = plt.Circle((x, y), r, color=(R/255, G/255, B/255, 1))\n            axes.add_patch(circle)\n            plt.plot([x, x + 1.2 * r * np.cos(theta)], [y, y + 1.2 * r * np.sin(theta)], linestyle='-', color='k')\n    plt.xlim([0,1])\n    plt.ylim([0,1])\n    plt.show()",
    "id": "da7e669a352b491d8fac27704cd1fdfe",
    "idx": 3,
    "time": "2021-02-12T06:35:22.950Z",
    "type": "execution"
   },
   {
    "id": "da7e669a352b491d8fac27704cd1fdfe",
    "time": "2021-02-12T06:35:23.037Z",
    "type": "completion"
   },
   {
    "code": "matrixPhase([[0.5+0.5j,0.3],[0.1,0.8]])",
    "id": "754a30210d9242208edd0df2f085db82",
    "idx": 4,
    "time": "2021-02-12T06:35:23.354Z",
    "type": "execution"
   },
   {
    "id": "754a30210d9242208edd0df2f085db82",
    "time": "2021-02-12T06:35:23.707Z",
    "type": "completion"
   },
   {
    "code": "# Convert magnitude and phase to a standard RGB triple (between 0 and 255)\ndef complexColor(z):\n    # Use standard mapping of magnitude and phase to HSL (H = phase, L = magnitude, S = 1)\n    # Then map HSL to RGB and return a triple\n    # Magnitude assumed not greater than 1\n    \n    norm = np.abs(z)\n    phase = np.angle(z, deg=True)\n    \n    C = 1 - abs(2*norm - 1)\n    H = phase/60 # Finds which of the 6 sections of the color wheel the phase belongs to\n    X = C * (1 - abs((H % 2) - 1))\n    \n    # 6 cases corresponding to the 6 sections\n    if H <= 1:\n        R = C\n        G = X\n        B = 0\n    elif H <= 2:\n        R = X\n        G = C\n        B = 0\n    elif H <= 3:\n        R = 0\n        G = C\n        B = X\n    elif H <= 4:\n        R = 0\n        G = X\n        B = C\n    elif H <= 5:\n        R = X\n        G = 0\n        B = C\n    elif H <= 6:\n        R = C\n        G = 0\n        B = X\n    else:\n        R = 0\n        G = 0\n        B = 0\n        \n    m = norm - C/2\n    \n    return (255*(R+m), 255*(G+m), 255*(B+m))",
    "id": "341ea8fd0ab8413dad12f54ea5a91267",
    "idx": 2,
    "time": "2021-02-12T06:35:30.059Z",
    "type": "execution"
   },
   {
    "id": "341ea8fd0ab8413dad12f54ea5a91267",
    "time": "2021-02-12T06:35:30.154Z",
    "type": "completion"
   },
   {
    "code": "\n# Plot a Hinton diagram of a matrix of complex numbers\ndef matrixPhase(matrix):\n    # MATRIX assumed to have complex numbers with magnitude at most 1\n    # MATRIX also assumed to be square\n\n    array = np.asarray(matrix)\n    dim = array.shape[0]\n    rect_coords = [i/dim for i in range(dim+1)]\n    figure, axes = plt.subplots()\n\n    # Due to matrix indexing, i controls y-coodinate, j controls x-coordinate\n    for i in range(dim):\n        for j in range(dim):            \n            # Use RECT_COORDS to find centers of the phase diagram circle\n            x = (rect_coords[j] + rect_coords[j+1]) / 2\n            y = 1 - (rect_coords[i] + rect_coords[i+1]) / 2\n            \n            num = array[i][j]\n            r = np.abs(num) / (2*dim)\n            theta = np.angle(num)\n            \n            # For some reason, we need to input RGG as values between 0 and 1, not 0 and 255\n            # Tuples are immutable, so we have to make a new tuple\n            R, G, B = complexColor(num)\n\n            circle = plt.Circle((x, y), r, color=(R/255, G/255, B/255, 1))\n            axes.add_patch(circle)\n            plt.plot([x, x + 1.2 * r * np.cos(theta)], [y, y + 1.2 * r * np.sin(theta)], linestyle='-', color='k')\n    plt.xlim([0,1])\n    plt.ylim([0,1])\n    plt.show()",
    "id": "da7e669a352b491d8fac27704cd1fdfe",
    "idx": 3,
    "time": "2021-02-12T06:35:30.503Z",
    "type": "execution"
   },
   {
    "id": "da7e669a352b491d8fac27704cd1fdfe",
    "time": "2021-02-12T06:35:30.602Z",
    "type": "completion"
   },
   {
    "code": "matrixPhase([[0.5+0.5j,0.3],[0.1,0.8]])",
    "id": "754a30210d9242208edd0df2f085db82",
    "idx": 4,
    "time": "2021-02-12T06:35:30.869Z",
    "type": "execution"
   },
   {
    "id": "754a30210d9242208edd0df2f085db82",
    "time": "2021-02-12T06:35:31.226Z",
    "type": "completion"
   },
   {
    "code": "\n# Plot a Hinton diagram of a matrix of complex numbers\ndef matrixPhase(matrix):\n    # MATRIX assumed to have complex numbers with magnitude at most 1\n    # MATRIX also assumed to be square\n\n    array = np.asarray(matrix)\n    dim = array.shape[0]\n    rect_coords = [i/dim for i in range(dim+1)]\n    figure, axes = plt.subplots()\n\n    # Due to matrix indexing, i controls y-coodinate, j controls x-coordinate\n    for i in range(dim):\n        for j in range(dim):            \n            # Use RECT_COORDS to find centers of the phase diagram circle\n            x = (rect_coords[j] + rect_coords[j+1]) / 2\n            y = 1 - (rect_coords[i] + rect_coords[i+1]) / 2\n            \n            num = array[i][j]\n            r = np.abs(num) / (2*dim)\n            theta = np.angle(num)\n            \n            # For some reason, we need to input RGG as values between 0 and 1, not 0 and 255\n            # Tuples are immutable, so we have to make a new tuple\n            R, G, B = complexColor(num)\n\n            circle = plt.Circle((x, y), r, color=(R/255, G/255, B/255, 1))\n            axes.add_patch(circle)\n            plt.plot([x, x + 1], [y, y + 1], linestyle='-', color='k')\n    plt.xlim([0,1])\n    plt.ylim([0,1])\n    plt.show()",
    "id": "8127a47b647342b787271c229228dba9",
    "idx": 3,
    "time": "2021-02-12T19:16:45.571Z",
    "type": "execution"
   },
   {
    "id": "8127a47b647342b787271c229228dba9",
    "time": "2021-02-12T19:16:45.669Z",
    "type": "completion"
   },
   {
    "code": "matrixPhase([[0.5+0.5j,0.3],[0.1,0.8]])",
    "id": "45609b0b51a14bbe89c04ec9abd4be76",
    "idx": 4,
    "time": "2021-02-12T19:16:46.041Z",
    "type": "execution"
   },
   {
    "id": "45609b0b51a14bbe89c04ec9abd4be76",
    "time": "2021-02-12T19:16:46.247Z",
    "type": "completion"
   },
   {
    "code": "import numpy as np\nimport matplotlib.pyplot as plt",
    "id": "9cec9eded073432182ec5e198923c1f1",
    "idx": 0,
    "time": "2021-02-12T19:16:50.813Z",
    "type": "execution"
   },
   {
    "code": "# NOT USED\ndef phasePlot(num, x, y, maxSize = 0):\n    # X and Y are coordinates of the center of the phase diagram\n    # Returns a circle that can be plotted\n\n    r = np.abs(num)\n    if maxSize:\n        r = r * maxSize / 2\n    theta = np.angle(num)\n\n    circle = plt.Circle((x, y), r, color='c')\n    axes.add_patch(circle)\n\n    plt.plot([x, x + r * np.cos(theta)], [y, y + r * np.sin(theta)], linestyle='-', color='k')",
    "id": "ef8e245754454c5990d7d41434bb764e",
    "idx": 1,
    "time": "2021-02-12T19:16:51.122Z",
    "type": "execution"
   },
   {
    "id": "9cec9eded073432182ec5e198923c1f1",
    "time": "2021-02-12T19:16:51.312Z",
    "type": "completion"
   },
   {
    "id": "ef8e245754454c5990d7d41434bb764e",
    "time": "2021-02-12T19:16:51.358Z",
    "type": "completion"
   },
   {
    "code": "# Convert magnitude and phase to a standard RGB triple (between 0 and 255)\ndef complexColor(z):\n    # Use standard mapping of magnitude and phase to HSL (H = phase, L = magnitude, S = 1)\n    # Then map HSL to RGB and return a triple\n    # Magnitude assumed not greater than 1\n    \n    norm = np.abs(z)\n    phase = np.angle(z, deg=True)\n    \n    C = 1 - abs(2*norm - 1)\n    H = phase/60 # Finds which of the 6 sections of the color wheel the phase belongs to\n    X = C * (1 - abs((H % 2) - 1))\n    \n    # 6 cases corresponding to the 6 sections\n    if H <= 1:\n        R = C\n        G = X\n        B = 0\n    elif H <= 2:\n        R = X\n        G = C\n        B = 0\n    elif H <= 3:\n        R = 0\n        G = C\n        B = X\n    elif H <= 4:\n        R = 0\n        G = X\n        B = C\n    elif H <= 5:\n        R = X\n        G = 0\n        B = C\n    elif H <= 6:\n        R = C\n        G = 0\n        B = X\n    else:\n        R = 0\n        G = 0\n        B = 0\n        \n    m = norm - C/2\n    \n    return (255*(R+m), 255*(G+m), 255*(B+m))",
    "id": "8a84077f70514958810db3bc87edde34",
    "idx": 2,
    "time": "2021-02-12T19:16:51.611Z",
    "type": "execution"
   },
   {
    "id": "8a84077f70514958810db3bc87edde34",
    "time": "2021-02-12T19:16:51.718Z",
    "type": "completion"
   },
   {
    "code": "\n# Plot a Hinton diagram of a matrix of complex numbers\ndef matrixPhase(matrix):\n    # MATRIX assumed to have complex numbers with magnitude at most 1\n    # MATRIX also assumed to be square\n\n    array = np.asarray(matrix)\n    dim = array.shape[0]\n    rect_coords = [i/dim for i in range(dim+1)]\n    figure, axes = plt.subplots()\n\n    # Due to matrix indexing, i controls y-coodinate, j controls x-coordinate\n    for i in range(dim):\n        for j in range(dim):            \n            # Use RECT_COORDS to find centers of the phase diagram circle\n            x = (rect_coords[j] + rect_coords[j+1]) / 2\n            y = 1 - (rect_coords[i] + rect_coords[i+1]) / 2\n            \n            num = array[i][j]\n            r = np.abs(num) / (2*dim)\n            theta = np.angle(num)\n            \n            # For some reason, we need to input RGG as values between 0 and 1, not 0 and 255\n            # Tuples are immutable, so we have to make a new tuple\n            R, G, B = complexColor(num)\n\n            circle = plt.Circle((x, y), r, color=(R/255, G/255, B/255, 1))\n            axes.add_patch(circle)\n            plt.plot([x, x + 1], [y, y + 1], linestyle='-', color='k')\n    plt.xlim([0,1])\n    plt.ylim([0,1])\n    plt.show()",
    "id": "8127a47b647342b787271c229228dba9",
    "idx": 3,
    "time": "2021-02-12T19:16:52.134Z",
    "type": "execution"
   },
   {
    "id": "8127a47b647342b787271c229228dba9",
    "time": "2021-02-12T19:16:52.221Z",
    "type": "completion"
   },
   {
    "code": "matrixPhase([[0.5+0.5j,0.3],[0.1,0.8]])",
    "id": "45609b0b51a14bbe89c04ec9abd4be76",
    "idx": 4,
    "time": "2021-02-12T19:16:53.499Z",
    "type": "execution"
   },
   {
    "id": "45609b0b51a14bbe89c04ec9abd4be76",
    "time": "2021-02-12T19:16:53.882Z",
    "type": "completion"
   },
   {
    "code": "\n# Plot a Hinton diagram of a matrix of complex numbers\ndef matrixPhase(matrix):\n    # MATRIX assumed to have complex numbers with magnitude at most 1\n    # MATRIX also assumed to be square\n\n    array = np.asarray(matrix)\n    dim = array.shape[0]\n    rect_coords = [i/dim for i in range(dim+1)]\n    figure, axes = plt.subplots()\n\n    # Due to matrix indexing, i controls y-coodinate, j controls x-coordinate\n    for i in range(dim):\n        for j in range(dim):            \n            # Use RECT_COORDS to find centers of the phase diagram circle\n            x = (rect_coords[j] + rect_coords[j+1]) / 2\n            y = 1 - (rect_coords[i] + rect_coords[i+1]) / 2\n            \n            num = array[i][j]\n            r = np.abs(num) / (2*dim)\n            theta = np.angle(num)\n            \n            # For some reason, we need to input RGG as values between 0 and 1, not 0 and 255\n            # Tuples are immutable, so we have to make a new tuple\n            R, G, B = complexColor(num)\n\n            circle = plt.Circle((x, y), r, color=(R/255, G/255, B/255, 1))\n            axes.add_patch(circle)\n            plt.plot([x, x + np.cos(theta)], [y, y + np.sin(theta)], linestyle='-', color='k')\n    plt.xlim([0,1])\n    plt.ylim([0,1])\n    plt.show()",
    "id": "8127a47b647342b787271c229228dba9",
    "idx": 3,
    "time": "2021-02-12T19:17:30.990Z",
    "type": "execution"
   },
   {
    "id": "8127a47b647342b787271c229228dba9",
    "time": "2021-02-12T19:17:31.074Z",
    "type": "completion"
   },
   {
    "code": "matrixPhase([[0.5+0.5j,0.3],[0.1,0.8]])",
    "id": "45609b0b51a14bbe89c04ec9abd4be76",
    "idx": 4,
    "time": "2021-02-12T19:17:31.264Z",
    "type": "execution"
   },
   {
    "id": "45609b0b51a14bbe89c04ec9abd4be76",
    "time": "2021-02-12T19:17:31.617Z",
    "type": "completion"
   },
   {
    "code": "\n# Plot a Hinton diagram of a matrix of complex numbers\ndef matrixPhase(matrix):\n    # MATRIX assumed to have complex numbers with magnitude at most 1\n    # MATRIX also assumed to be square\n\n    array = np.asarray(matrix)\n    dim = array.shape[0]\n    rect_coords = [i/dim for i in range(dim+1)]\n    figure, axes = plt.subplots()\n\n    # Due to matrix indexing, i controls y-coodinate, j controls x-coordinate\n    for i in range(dim):\n        for j in range(dim):            \n            # Use RECT_COORDS to find centers of the phase diagram circle\n            x = (rect_coords[j] + rect_coords[j+1]) / 2\n            y = 1 - (rect_coords[i] + rect_coords[i+1]) / 2\n            \n            num = array[i][j]\n            r = np.abs(num) / (2*dim)\n            theta = np.angle(num)\n            \n            # For some reason, we need to input RGG as values between 0 and 1, not 0 and 255\n            # Tuples are immutable, so we have to make a new tuple\n            R, G, B = complexColor(num)\n\n            circle = plt.Circle((x, y), r, color=(R/255, G/255, B/255, 1))\n            axes.add_patch(circle)\n            plt.plot([x, x + np.cos(theta)/2], [y, y + np.sin(theta)/2], linestyle='-', color='k')\n    plt.xlim([0,1])\n    plt.ylim([0,1])\n    plt.show()",
    "id": "8127a47b647342b787271c229228dba9",
    "idx": 3,
    "time": "2021-02-12T19:17:51.097Z",
    "type": "execution"
   },
   {
    "id": "8127a47b647342b787271c229228dba9",
    "time": "2021-02-12T19:17:51.183Z",
    "type": "completion"
   },
   {
    "code": "matrixPhase([[0.5+0.5j,0.3],[0.1,0.8]])",
    "id": "45609b0b51a14bbe89c04ec9abd4be76",
    "idx": 4,
    "time": "2021-02-12T19:17:51.531Z",
    "type": "execution"
   },
   {
    "id": "45609b0b51a14bbe89c04ec9abd4be76",
    "time": "2021-02-12T19:17:51.895Z",
    "type": "completion"
   },
   {
    "code": "\n# Plot a Hinton diagram of a matrix of complex numbers\ndef matrixPhase(matrix):\n    # MATRIX assumed to have complex numbers with magnitude at most 1\n    # MATRIX also assumed to be square\n\n    array = np.asarray(matrix)\n    dim = array.shape[0]\n    rect_coords = [i/dim for i in range(dim+1)]\n    figure, axes = plt.subplots()\n\n    # Due to matrix indexing, i controls y-coodinate, j controls x-coordinate\n    for i in range(dim):\n        for j in range(dim):            \n            # Use RECT_COORDS to find centers of the phase diagram circle\n            x = (rect_coords[j] + rect_coords[j+1]) / 2\n            y = 1 - (rect_coords[i] + rect_coords[i+1]) / 2\n            \n            num = array[i][j]\n            r = np.abs(num) / (2*dim)\n            theta = np.angle(num)\n            \n            # For some reason, we need to input RGG as values between 0 and 1, not 0 and 255\n            # Tuples are immutable, so we have to make a new tuple\n            R, G, B = complexColor(num)\n\n            circle = plt.Circle((x, y), r, color=(R/255, G/255, B/255, 1))\n            axes.add_patch(circle)\n            plt.plot([x, x + np.cos(theta)/4], [y, y + np.sin(theta)/4], linestyle='-', color='k')\n    plt.xlim([0,1])\n    plt.ylim([0,1])\n    plt.show()",
    "id": "8127a47b647342b787271c229228dba9",
    "idx": 3,
    "time": "2021-02-12T19:18:01.809Z",
    "type": "execution"
   },
   {
    "id": "8127a47b647342b787271c229228dba9",
    "time": "2021-02-12T19:18:01.913Z",
    "type": "completion"
   },
   {
    "code": "matrixPhase([[0.5+0.5j,0.3],[0.1,0.8]])",
    "id": "45609b0b51a14bbe89c04ec9abd4be76",
    "idx": 4,
    "time": "2021-02-12T19:18:02.100Z",
    "type": "execution"
   },
   {
    "id": "45609b0b51a14bbe89c04ec9abd4be76",
    "time": "2021-02-12T19:18:02.451Z",
    "type": "completion"
   },
   {
    "code": "\n# Plot a Hinton diagram of a matrix of complex numbers\ndef matrixPhase(matrix):\n    # MATRIX assumed to have complex numbers with magnitude at most 1\n    # MATRIX also assumed to be square\n\n    array = np.asarray(matrix)\n    dim = array.shape[0]\n    rect_coords = [i/dim for i in range(dim+1)]\n    figure, axes = plt.subplots()\n\n    # Due to matrix indexing, i controls y-coodinate, j controls x-coordinate\n    for i in range(dim):\n        for j in range(dim):            \n            # Use RECT_COORDS to find centers of the phase diagram circle\n            x = (rect_coords[j] + rect_coords[j+1]) / 2\n            y = 1 - (rect_coords[i] + rect_coords[i+1]) / 2\n            \n            num = array[i][j]\n            r = np.abs(num) / (2*dim)\n            theta = np.angle(num)\n            \n            # For some reason, we need to input RGG as values between 0 and 1, not 0 and 255\n            # Tuples are immutable, so we have to make a new tuple\n            R, G, B = complexColor(num)\n\n            circle = plt.Circle((x, y), r, color=(R/255, G/255, B/255, 1))\n            axes.add_patch(circle)\n            plt.plot([x, x + np.cos(theta)/(dim^2)], [y, y + np.sin(theta)/(dim^2)], linestyle='-', color='k')\n    plt.xlim([0,1])\n    plt.ylim([0,1])\n    plt.show()",
    "id": "8127a47b647342b787271c229228dba9",
    "idx": 3,
    "time": "2021-02-12T19:18:26.217Z",
    "type": "execution"
   },
   {
    "id": "8127a47b647342b787271c229228dba9",
    "time": "2021-02-12T19:18:26.314Z",
    "type": "completion"
   },
   {
    "code": "matrixPhase([[0.5+0.5j,0.3],[0.1,0.8]])",
    "id": "45609b0b51a14bbe89c04ec9abd4be76",
    "idx": 4,
    "time": "2021-02-12T19:18:26.440Z",
    "type": "execution"
   },
   {
    "id": "45609b0b51a14bbe89c04ec9abd4be76",
    "time": "2021-02-12T19:18:26.812Z",
    "type": "completion"
   },
   {
    "code": "\n# Plot a Hinton diagram of a matrix of complex numbers\ndef matrixPhase(matrix):\n    # MATRIX assumed to have complex numbers with magnitude at most 1\n    # MATRIX also assumed to be square\n\n    array = np.asarray(matrix)\n    dim = array.shape[0]\n    rect_coords = [i/dim for i in range(dim+1)]\n    figure, axes = plt.subplots()\n\n    # Due to matrix indexing, i controls y-coodinate, j controls x-coordinate\n    for i in range(dim):\n        for j in range(dim):            \n            # Use RECT_COORDS to find centers of the phase diagram circle\n            x = (rect_coords[j] + rect_coords[j+1]) / 2\n            y = 1 - (rect_coords[i] + rect_coords[i+1]) / 2\n            \n            num = array[i][j]\n            r = np.abs(num) / (2*dim)\n            theta = np.angle(num)\n            \n            # For some reason, we need to input RGG as values between 0 and 1, not 0 and 255\n            # Tuples are immutable, so we have to make a new tuple\n            R, G, B = complexColor(num)\n\n            circle = plt.Circle((x, y), r, color=(R/255, G/255, B/255, 1))\n            axes.add_patch(circle)\n            plt.plot([x, x + np.cos(theta)/(dim**2)], [y, y + np.sin(theta)/(dim**2)], linestyle='-', color='k')\n    plt.xlim([0,1])\n    plt.ylim([0,1])\n    plt.show()",
    "id": "8127a47b647342b787271c229228dba9",
    "idx": 3,
    "time": "2021-02-12T19:18:42.487Z",
    "type": "execution"
   },
   {
    "id": "8127a47b647342b787271c229228dba9",
    "time": "2021-02-12T19:18:42.582Z",
    "type": "completion"
   },
   {
    "code": "matrixPhase([[0.5+0.5j,0.3],[0.1,0.8]])",
    "id": "45609b0b51a14bbe89c04ec9abd4be76",
    "idx": 4,
    "time": "2021-02-12T19:18:42.732Z",
    "type": "execution"
   },
   {
    "id": "45609b0b51a14bbe89c04ec9abd4be76",
    "time": "2021-02-12T19:18:43.089Z",
    "type": "completion"
   },
   {
    "code": "# Convert magnitude and phase to a standard RGB triple (between 0 and 255)\ndef complexColor(z):\n    # Use standard mapping of magnitude and phase to HSL (H = phase, L = magnitude, S = 1)\n    # Then map HSL to RGB and return a triple\n    # Magnitude assumed not greater than 1\n    \n    norm = np.abs(z)\n    phase = np.angle(z, deg=True)\n    \n    C = 1 - abs(2*norm - 1)\n    H = phase/60 # Finds which of the 6 sections of the color wheel the phase belongs to\n    X = C * (1 - abs((H % 2) - 1))\n    \n    # 6 cases corresponding to the 6 sections\n    if H <= 1:\n        R = C\n        G = X\n        B = 0\n    elif H <= 2:\n        R = X\n        G = C\n        B = 0\n    elif H <= 3:\n        R = 0\n        G = C\n        B = X\n    elif H <= 4:\n        R = 0\n        G = X\n        B = C\n    elif H <= 5:\n        R = X\n        G = 0\n        B = C\n    elif H <= 6:\n        R = C\n        G = 0\n        B = X\n    else:\n        R = 0\n        G = 0\n        B = 0\n        \n    m = norm - C/2\n    \n    return (R+m, G+m, B+m)",
    "id": "8a84077f70514958810db3bc87edde34",
    "idx": 2,
    "time": "2021-02-12T19:20:40.010Z",
    "type": "execution"
   },
   {
    "id": "8a84077f70514958810db3bc87edde34",
    "time": "2021-02-12T19:20:40.158Z",
    "type": "completion"
   },
   {
    "code": "# Convert magnitude and phase to a standard RGB triple (between 0 and 1)\ndef complexColor(z):\n    # Use standard mapping of magnitude and phase to HSL (H = phase, L = magnitude, S = 1)\n    # Then map HSL to RGB and return a triple\n    # Magnitude assumed not greater than 1\n    \n    norm = np.abs(z)\n    phase = np.angle(z, deg=True)\n    \n    C = 1 - abs(2*norm - 1)\n    H = phase/60 # Finds which of the 6 sections of the color wheel the phase belongs to\n    X = C * (1 - abs((H % 2) - 1))\n    \n    # 6 cases corresponding to the 6 sections\n    if H <= 1:\n        R = C\n        G = X\n        B = 0\n    elif H <= 2:\n        R = X\n        G = C\n        B = 0\n    elif H <= 3:\n        R = 0\n        G = C\n        B = X\n    elif H <= 4:\n        R = 0\n        G = X\n        B = C\n    elif H <= 5:\n        R = X\n        G = 0\n        B = C\n    elif H <= 6:\n        R = C\n        G = 0\n        B = X\n    else:\n        R = 0\n        G = 0\n        B = 0\n        \n    m = norm - C/2\n    \n    return (R+m, G+m, B+m)",
    "id": "8a84077f70514958810db3bc87edde34",
    "idx": 2,
    "time": "2021-02-12T19:20:45.162Z",
    "type": "execution"
   },
   {
    "id": "8a84077f70514958810db3bc87edde34",
    "time": "2021-02-12T19:20:45.262Z",
    "type": "completion"
   },
   {
    "code": "\n# Plot a Hinton diagram of a matrix of complex numbers\ndef matrixPhase(matrix):\n    # MATRIX assumed to have complex numbers with magnitude at most 1\n    # MATRIX also assumed to be square\n\n    array = np.asarray(matrix)\n    dim = array.shape[0]\n    rect_coords = [i/dim for i in range(dim+1)]\n    figure, axes = plt.subplots()\n\n    # Due to matrix indexing, i controls y-coodinate, j controls x-coordinate\n    for i in range(dim):\n        for j in range(dim):            \n            # Use RECT_COORDS to find centers of the phase diagram circle\n            x = (rect_coords[j] + rect_coords[j+1]) / 2\n            y = 1 - (rect_coords[i] + rect_coords[i+1]) / 2\n            \n            num = array[i][j]\n            r = np.abs(num) / (2*dim)\n            theta = np.angle(num)\n            \n            # For some reason, we need to input RGG as values between 0 and 1, not 0 and 255\n            # Tuples are immutable, so we have to make a new tuple\n            R, G, B = complexColor(num)\n\n            circle = plt.Circle((x, y), r, color=(R/255, G/255, B/255, 1))\n            axes.add_patch(circle)\n            plt.plot([x, x + np.cos(theta)/(dim**2)], [y, y + np.sin(theta)/(dim**2)], linestyle='-', color='k')\n    plt.xlim([0,1])\n    plt.ylim([0,1])\n    plt.show()",
    "id": "8127a47b647342b787271c229228dba9",
    "idx": 3,
    "time": "2021-02-12T19:20:45.621Z",
    "type": "execution"
   },
   {
    "id": "8127a47b647342b787271c229228dba9",
    "time": "2021-02-12T19:20:45.704Z",
    "type": "completion"
   },
   {
    "code": "\n# Plot a Hinton diagram of a matrix of complex numbers\ndef matrixPhase(matrix):\n    # MATRIX assumed to have complex numbers with magnitude at most 1\n    # MATRIX also assumed to be square\n\n    array = np.asarray(matrix)\n    dim = array.shape[0]\n    rect_coords = [i/dim for i in range(dim+1)]\n    figure, axes = plt.subplots()\n\n    # Due to matrix indexing, i controls y-coodinate, j controls x-coordinate\n    for i in range(dim):\n        for j in range(dim):            \n            # Use RECT_COORDS to find centers of the phase diagram circle\n            x = (rect_coords[j] + rect_coords[j+1]) / 2\n            y = 1 - (rect_coords[i] + rect_coords[i+1]) / 2\n            \n            num = array[i][j]\n            r = np.abs(num) / (2*dim)\n            theta = np.angle(num)\n\n            circle = plt.Circle((x, y), r, color=complexColor(num))\n            axes.add_patch(circle)\n            plt.plot([x, x + np.cos(theta)/(dim**2)], [y, y + np.sin(theta)/(dim**2)], linestyle='-', color='k')\n    plt.xlim([0,1])\n    plt.ylim([0,1])\n    plt.show()",
    "id": "8127a47b647342b787271c229228dba9",
    "idx": 3,
    "time": "2021-02-12T19:21:00.562Z",
    "type": "execution"
   },
   {
    "id": "8127a47b647342b787271c229228dba9",
    "time": "2021-02-12T19:21:00.655Z",
    "type": "completion"
   },
   {
    "code": "matrixPhase([[0.5+0.5j,0.3],[0.1,0.8]])",
    "id": "45609b0b51a14bbe89c04ec9abd4be76",
    "idx": 4,
    "time": "2021-02-12T19:21:00.853Z",
    "type": "execution"
   },
   {
    "id": "45609b0b51a14bbe89c04ec9abd4be76",
    "time": "2021-02-12T19:21:01.192Z",
    "type": "completion"
   },
   {
    "code": "# Plot a Hinton diagram of a matrix of complex numbers\ndef matrixPhase(matrix):\n    # MATRIX assumed to have complex numbers with magnitude at most 1\n    # MATRIX also assumed to be square\n\n    array = np.asarray(matrix)\n    dim = array.shape[0]\n    rect_coords = [i/dim for i in range(dim+1)]\n    figure, axes = plt.subplots()\n\n    # Due to matrix indexing, i controls y-coodinate, j controls x-coordinate\n    for i in range(dim):\n        for j in range(dim):            \n            # Use RECT_COORDS to find centers of the phase diagram circle\n            x = (rect_coords[j] + rect_coords[j+1]) / 2\n            y = 1 - (rect_coords[i] + rect_coords[i+1]) / 2\n            \n            num = array[i][j]\n            r = np.abs(num) / (2*dim)\n            theta = np.angle(num)\n\n            circle = plt.Circle((x, y), r, color=complexColor(num))\n            axes.add_patch(circle)\n            plt.plot([x, x + np.cos(theta)/(dim**2)], [y, y + np.sin(theta)/(dim**2)], linestyle='-', color='k')\n    plt.xlim([0,1])\n    plt.ylim([0,1])\n    plt.show()",
    "id": "8127a47b647342b787271c229228dba9",
    "idx": 3,
    "time": "2021-02-12T19:21:25.422Z",
    "type": "execution"
   },
   {
    "id": "8127a47b647342b787271c229228dba9",
    "time": "2021-02-12T19:21:25.508Z",
    "type": "completion"
   },
   {
    "code": "# Plot a Hinton diagram of a matrix of complex numbers\ndef matrixPhase(matrix):\n    # MATRIX assumed to have complex numbers with magnitude at most 1\n    # MATRIX also assumed to be square\n\n    array = np.asarray(matrix)\n    dim = array.shape[0]\n    rect_coords = [i/dim for i in range(dim+1)]\n    figure, axes = plt.subplots()\n\n    # Due to matrix indexing, i controls y-coodinate, j controls x-coordinate\n    for i in range(dim):\n        for j in range(dim):            \n            # Use RECT_COORDS to find centers of the phase diagram circle\n            x = (rect_coords[j] + rect_coords[j+1]) / 2\n            y = 1 - (rect_coords[i] + rect_coords[i+1]) / 2\n            \n            num = array[i][j]\n            r = np.abs(num) / (2*dim)\n            theta = np.angle(num)\n\n            circle = plt.Circle((x, y), r, color=complexColor(num))\n            axes.add_patch(circle)\n            plt.plot([x, x + np.cos(theta)/(dim**2)], [y, y + np.sin(theta)/(dim**2)], linestyle='-', color='k')\n    plt.xlim([0,1])\n    plt.ylim([0,1])\n    plt.show()",
    "id": "8127a47b647342b787271c229228dba9",
    "idx": 3,
    "time": "2021-02-12T19:22:09.787Z",
    "type": "execution"
   },
   {
    "id": "8127a47b647342b787271c229228dba9",
    "time": "2021-02-12T19:22:09.906Z",
    "type": "completion"
   },
   {
    "code": "# For testing\nmatrixPhase([[0.5+0.5j,0.3],[0.1,0.8]])",
    "id": "45609b0b51a14bbe89c04ec9abd4be76",
    "idx": 4,
    "time": "2021-02-12T19:37:58.788Z",
    "type": "execution"
   },
   {
    "id": "45609b0b51a14bbe89c04ec9abd4be76",
    "time": "2021-02-12T19:37:59.188Z",
    "type": "completion"
   },
   {
    "code": "def complexColor(z):\n    # Converts magnitude and phase to a standard RGB triple (between 0 and 1)\n    # Use standard mapping of magnitude and phase to HSL (H = phase, L = magnitude, S = 1)\n    # Then map HSL to RGB and return a triple\n    # Magnitude assumed not greater than 1\n    \n    norm = np.abs(z)\n    phase = np.angle(z)\n    \n    C = 1 - abs(2*norm - 1)\n    H = phase/(np.pi / 3) # Finds which of the 6 sections of the color wheel the phase belongs to\n    X = C * (1 - abs((H % 2) - 1))\n    \n    # 6 cases corresponding to the 6 sections\n    if H <= 1:\n        R = C\n        G = X\n        B = 0\n    elif H <= 2:\n        R = X\n        G = C\n        B = 0\n    elif H <= 3:\n        R = 0\n        G = C\n        B = X\n    elif H <= 4:\n        R = 0\n        G = X\n        B = C\n    elif H <= 5:\n        R = X\n        G = 0\n        B = C\n    elif H <= 6:\n        R = C\n        G = 0\n        B = X\n    else:\n        R = 0\n        G = 0\n        B = 0\n        \n    m = norm - C/2\n    \n    return (R+m, G+m, B+m)",
    "id": "8a84077f70514958810db3bc87edde34",
    "idx": 2,
    "time": "2021-02-12T19:40:45.281Z",
    "type": "execution"
   },
   {
    "id": "8a84077f70514958810db3bc87edde34",
    "time": "2021-02-12T19:40:45.372Z",
    "type": "completion"
   },
   {
    "code": "# Plot a Hinton diagram of a matrix of complex numbers\ndef matrixPhase(matrix):\n    # MATRIX assumed to have complex numbers with magnitude at most 1\n    # MATRIX also assumed to be square\n\n    array = np.asarray(matrix)\n    dim = array.shape[0]\n    rect_coords = [i/dim for i in range(dim+1)]\n    figure, axes = plt.subplots()\n\n    # Due to matrix indexing, i controls y-coodinate, j controls x-coordinate\n    for i in range(dim):\n        for j in range(dim):            \n            # Use RECT_COORDS to find centers of the phase diagram circle\n            x = (rect_coords[j] + rect_coords[j+1]) / 2\n            y = 1 - (rect_coords[i] + rect_coords[i+1]) / 2\n            \n            num = array[i][j]\n            r = np.abs(num) / (2*dim)\n            theta = np.angle(num)\n\n            circle = plt.Circle((x, y), r, color=complexColor(num))\n            axes.add_patch(circle)\n            plt.plot([x, x + np.cos(theta)/(dim**2)], [y, y + np.sin(theta)/(dim**2)], linestyle='-', color='k')\n    plt.xlim([0,1])\n    plt.ylim([0,1])\n    plt.show()",
    "id": "8127a47b647342b787271c229228dba9",
    "idx": 3,
    "time": "2021-02-12T19:40:46.555Z",
    "type": "execution"
   },
   {
    "id": "8127a47b647342b787271c229228dba9",
    "time": "2021-02-12T19:40:46.637Z",
    "type": "completion"
   },
   {
    "code": "# For testing\nmatrixPhase([[0.5+0.5j,0.3],[0.1,0.8]])",
    "id": "45609b0b51a14bbe89c04ec9abd4be76",
    "idx": 4,
    "time": "2021-02-12T19:40:47.388Z",
    "type": "execution"
   },
   {
    "id": "45609b0b51a14bbe89c04ec9abd4be76",
    "time": "2021-02-12T19:40:47.708Z",
    "type": "completion"
   },
   {
    "code": "# Plot a Hinton diagram of a matrix of complex numbers\ndef matrixPhase(matrix):\n    # MATRIX assumed to have complex numbers with magnitude at most 1\n    # MATRIX also assumed to be square\n\n    array = np.asarray(matrix)\n    dim = array.shape[0]\n    rect_coords = [i/dim for i in range(dim+1)]\n    figure, axes = plt.subplots()\n\n    # Due to matrix indexing, i controls y-coodinate, j controls x-coordinate\n    for i in range(dim):\n        for j in range(dim):            \n            # Use RECT_COORDS to find centers of the phase diagram circle\n            x = (rect_coords[j] + rect_coords[j+1]) / 2\n            y = 1 - (rect_coords[i] + rect_coords[i+1]) / 2\n            \n            num = array[i][j]\n            r = np.abs(num) / (2*dim)\n            theta = np.angle(num)\n\n            circle = phasePlot(num, x, y, maxSize=1)\n            axes.add_patch(circle)\n            plt.plot([x, x + np.cos(theta)/(dim**2)], [y, y + np.sin(theta)/(dim**2)], linestyle='-', color='k')\n    plt.xlim([0,1])\n    plt.ylim([0,1])\n    plt.show()",
    "id": "8127a47b647342b787271c229228dba9",
    "idx": 3,
    "time": "2021-02-12T19:45:13.552Z",
    "type": "execution"
   },
   {
    "id": "8127a47b647342b787271c229228dba9",
    "time": "2021-02-12T19:45:13.653Z",
    "type": "completion"
   },
   {
    "code": "# For testing\nmatrixPhase([[0.5+0.5j,0.3],[0.1,0.8]])",
    "id": "45609b0b51a14bbe89c04ec9abd4be76",
    "idx": 4,
    "time": "2021-02-12T19:45:14.175Z",
    "type": "execution"
   },
   {
    "id": "45609b0b51a14bbe89c04ec9abd4be76",
    "time": "2021-02-12T19:45:14.431Z",
    "type": "completion"
   },
   {
    "code": "def phasePlot(num, x, y, maxSize = 0):\n    # NUM is a complex number\n    # X and Y are coordinates of the center of the phase diagram\n    # MAXSIZE can be used to scale all values according to a maximum magnitude\n    # Returns a circle that can be plotted\n\n    r = np.abs(num)\n    if maxSize:\n        r = r * maxSize / 2\n    theta = np.angle(num)\n\n    return plt.Circle((x, y), r, color=complexColor(num))",
    "id": "e0b0cc82eeb946b886d924d5c12165dc",
    "idx": 2,
    "time": "2021-02-12T19:45:16.965Z",
    "type": "execution"
   },
   {
    "id": "e0b0cc82eeb946b886d924d5c12165dc",
    "time": "2021-02-12T19:45:17.043Z",
    "type": "completion"
   },
   {
    "code": "# Plot a Hinton diagram of a matrix of complex numbers\ndef matrixPhase(matrix):\n    # MATRIX assumed to have complex numbers with magnitude at most 1\n    # MATRIX also assumed to be square\n\n    array = np.asarray(matrix)\n    dim = array.shape[0]\n    rect_coords = [i/dim for i in range(dim+1)]\n    figure, axes = plt.subplots()\n\n    # Due to matrix indexing, i controls y-coodinate, j controls x-coordinate\n    for i in range(dim):\n        for j in range(dim):            \n            # Use RECT_COORDS to find centers of the phase diagram circle\n            x = (rect_coords[j] + rect_coords[j+1]) / 2\n            y = 1 - (rect_coords[i] + rect_coords[i+1]) / 2\n            \n            num = array[i][j]\n            r = np.abs(num) / (2*dim)\n            theta = np.angle(num)\n\n            circle = phasePlot(num, x, y, maxSize=1)\n            axes.add_patch(circle)\n            plt.plot([x, x + np.cos(theta)/(dim**2)], [y, y + np.sin(theta)/(dim**2)], linestyle='-', color='k')\n    plt.xlim([0,1])\n    plt.ylim([0,1])\n    plt.show()",
    "id": "8127a47b647342b787271c229228dba9",
    "idx": 3,
    "time": "2021-02-12T19:45:17.259Z",
    "type": "execution"
   },
   {
    "id": "8127a47b647342b787271c229228dba9",
    "time": "2021-02-12T19:45:17.346Z",
    "type": "completion"
   },
   {
    "code": "# For testing\nmatrixPhase([[0.5+0.5j,0.3],[0.1,0.8]])",
    "id": "45609b0b51a14bbe89c04ec9abd4be76",
    "idx": 4,
    "time": "2021-02-12T19:45:17.663Z",
    "type": "execution"
   },
   {
    "id": "45609b0b51a14bbe89c04ec9abd4be76",
    "time": "2021-02-12T19:45:17.984Z",
    "type": "completion"
   },
   {
    "code": "# Plot a Hinton diagram of a matrix of complex numbers\ndef matrixPhase(matrix):\n    # MATRIX assumed to have complex numbers with magnitude at most 1\n    # MATRIX also assumed to be square\n\n    array = np.asarray(matrix)\n    dim = array.shape[0]\n    rect_coords = [i/dim for i in range(dim+1)]\n    figure, axes = plt.subplots()\n\n    # Due to matrix indexing, i controls y-coodinate, j controls x-coordinate\n    for i in range(dim):\n        for j in range(dim):            \n            # Use RECT_COORDS to find centers of the phase diagram circle\n            x = (rect_coords[j] + rect_coords[j+1]) / 2\n            y = 1 - (rect_coords[i] + rect_coords[i+1]) / 2\n            \n            num = array[i][j]\n            r = np.abs(num) / (2*dim)\n            theta = np.angle(num)\n\n            circle = phasePlot(num, x, y, maxSize=dim)\n            axes.add_patch(circle)\n            plt.plot([x, x + np.cos(theta)/(dim**2)], [y, y + np.sin(theta)/(dim**2)], linestyle='-', color='k')\n    plt.xlim([0,1])\n    plt.ylim([0,1])\n    plt.show()",
    "id": "8127a47b647342b787271c229228dba9",
    "idx": 3,
    "time": "2021-02-12T19:45:56.212Z",
    "type": "execution"
   },
   {
    "id": "8127a47b647342b787271c229228dba9",
    "time": "2021-02-12T19:45:56.301Z",
    "type": "completion"
   },
   {
    "code": "# For testing\nmatrixPhase([[0.5+0.5j,0.3],[0.1,0.8]])",
    "id": "45609b0b51a14bbe89c04ec9abd4be76",
    "idx": 4,
    "time": "2021-02-12T19:45:56.548Z",
    "type": "execution"
   },
   {
    "id": "45609b0b51a14bbe89c04ec9abd4be76",
    "time": "2021-02-12T19:45:56.877Z",
    "type": "completion"
   },
   {
    "code": "def phasePlot(num, x, y, scale = 0):\n    # NUM is a complex number\n    # X and Y are coordinates of the center of the phase diagram\n    # SCALE can be used to scale all values according to a maximum magnitude\n    # Returns a circle that can be plotted\n\n    r = np.abs(num)\n    if scale:\n        r = r * scale\n    theta = np.angle(num)\n\n    return plt.Circle((x, y), r, color=complexColor(num))",
    "id": "e0b0cc82eeb946b886d924d5c12165dc",
    "idx": 2,
    "time": "2021-02-12T19:47:00.007Z",
    "type": "execution"
   },
   {
    "id": "e0b0cc82eeb946b886d924d5c12165dc",
    "time": "2021-02-12T19:47:00.086Z",
    "type": "completion"
   },
   {
    "code": "# Plot a Hinton diagram of a matrix of complex numbers\ndef matrixPhase(matrix):\n    # MATRIX assumed to have complex numbers with magnitude at most 1\n    # MATRIX also assumed to be square\n\n    array = np.asarray(matrix)\n    dim = array.shape[0]\n    rect_coords = [i/dim for i in range(dim+1)]\n    figure, axes = plt.subplots()\n\n    # Due to matrix indexing, i controls y-coodinate, j controls x-coordinate\n    for i in range(dim):\n        for j in range(dim):            \n            # Use RECT_COORDS to find centers of the phase diagram circle\n            x = (rect_coords[j] + rect_coords[j+1]) / 2\n            y = 1 - (rect_coords[i] + rect_coords[i+1]) / 2\n            \n            num = array[i][j]\n            r = np.abs(num) / (2*dim)\n            theta = np.angle(num)\n\n            circle = phasePlot(num, x, y, maxSize=1/(2*dim))\n            axes.add_patch(circle)\n            plt.plot([x, x + np.cos(theta)/(dim**2)], [y, y + np.sin(theta)/(dim**2)], linestyle='-', color='k')\n    plt.xlim([0,1])\n    plt.ylim([0,1])\n    plt.show()",
    "id": "8127a47b647342b787271c229228dba9",
    "idx": 3,
    "time": "2021-02-12T19:47:06.396Z",
    "type": "execution"
   },
   {
    "id": "8127a47b647342b787271c229228dba9",
    "time": "2021-02-12T19:47:06.480Z",
    "type": "completion"
   },
   {
    "code": "# For testing\nmatrixPhase([[0.5+0.5j,0.3],[0.1,0.8]])",
    "id": "45609b0b51a14bbe89c04ec9abd4be76",
    "idx": 4,
    "time": "2021-02-12T19:47:06.757Z",
    "type": "execution"
   },
   {
    "id": "45609b0b51a14bbe89c04ec9abd4be76",
    "time": "2021-02-12T19:47:06.995Z",
    "type": "completion"
   },
   {
    "code": "# Plot a Hinton diagram of a matrix of complex numbers\ndef matrixPhase(matrix):\n    # MATRIX assumed to have complex numbers with magnitude at most 1\n    # MATRIX also assumed to be square\n\n    array = np.asarray(matrix)\n    dim = array.shape[0]\n    rect_coords = [i/dim for i in range(dim+1)]\n    figure, axes = plt.subplots()\n\n    # Due to matrix indexing, i controls y-coodinate, j controls x-coordinate\n    for i in range(dim):\n        for j in range(dim):            \n            # Use RECT_COORDS to find centers of the phase diagram circle\n            x = (rect_coords[j] + rect_coords[j+1]) / 2\n            y = 1 - (rect_coords[i] + rect_coords[i+1]) / 2\n            \n            num = array[i][j]\n            r = np.abs(num) / (2*dim)\n            theta = np.angle(num)\n\n            circle = phasePlot(num, x, y, maxSize=(1/(2*dim)))\n            axes.add_patch(circle)\n            plt.plot([x, x + np.cos(theta)/(dim**2)], [y, y + np.sin(theta)/(dim**2)], linestyle='-', color='k')\n    plt.xlim([0,1])\n    plt.ylim([0,1])\n    plt.show()",
    "id": "8127a47b647342b787271c229228dba9",
    "idx": 3,
    "time": "2021-02-12T19:47:16.763Z",
    "type": "execution"
   },
   {
    "id": "8127a47b647342b787271c229228dba9",
    "time": "2021-02-12T19:47:16.847Z",
    "type": "completion"
   },
   {
    "code": "# For testing\nmatrixPhase([[0.5+0.5j,0.3],[0.1,0.8]])",
    "id": "45609b0b51a14bbe89c04ec9abd4be76",
    "idx": 4,
    "time": "2021-02-12T19:47:16.905Z",
    "type": "execution"
   },
   {
    "id": "45609b0b51a14bbe89c04ec9abd4be76",
    "time": "2021-02-12T19:47:17.163Z",
    "type": "completion"
   },
   {
    "code": "# Plot a Hinton diagram of a matrix of complex numbers\ndef matrixPhase(matrix):\n    # MATRIX assumed to have complex numbers with magnitude at most 1\n    # MATRIX also assumed to be square\n\n    array = np.asarray(matrix)\n    dim = array.shape[0]\n    rect_coords = [i/dim for i in range(dim+1)]\n    figure, axes = plt.subplots()\n\n    # Due to matrix indexing, i controls y-coodinate, j controls x-coordinate\n    for i in range(dim):\n        for j in range(dim):            \n            # Use RECT_COORDS to find centers of the phase diagram circle\n            x = (rect_coords[j] + rect_coords[j+1]) / 2\n            y = 1 - (rect_coords[i] + rect_coords[i+1]) / 2\n            \n            num = array[i][j]\n            r = np.abs(num) / (2*dim)\n            theta = np.angle(num)\n\n            circle = phasePlot(num, x, y, scale=1/(2*dim))\n            axes.add_patch(circle)\n            plt.plot([x, x + np.cos(theta)/(dim**2)], [y, y + np.sin(theta)/(dim**2)], linestyle='-', color='k')\n    plt.xlim([0,1])\n    plt.ylim([0,1])\n    plt.show()",
    "id": "8127a47b647342b787271c229228dba9",
    "idx": 3,
    "time": "2021-02-12T19:47:25.921Z",
    "type": "execution"
   },
   {
    "id": "8127a47b647342b787271c229228dba9",
    "time": "2021-02-12T19:47:26.010Z",
    "type": "completion"
   },
   {
    "code": "# For testing\nmatrixPhase([[0.5+0.5j,0.3],[0.1,0.8]])",
    "id": "45609b0b51a14bbe89c04ec9abd4be76",
    "idx": 4,
    "time": "2021-02-12T19:47:26.071Z",
    "type": "execution"
   },
   {
    "id": "45609b0b51a14bbe89c04ec9abd4be76",
    "time": "2021-02-12T19:47:26.414Z",
    "type": "completion"
   },
   {
    "code": "# Plot a Hinton diagram of a matrix of complex numbers\ndef matrixPhase(matrix):\n    # MATRIX assumed to have complex numbers with magnitude at most 1\n    # MATRIX also assumed to be square\n\n    array = np.asarray(matrix)\n    dim = array.shape[0]\n    rect_coords = [i/dim for i in range(dim+1)]\n    figure, axes = plt.subplots()\n\n    # Due to matrix indexing, i controls y-coodinate, j controls x-coordinate\n    for i in range(dim):\n        for j in range(dim):            \n            # Use RECT_COORDS to find centers of the phase diagram circle\n            x = (rect_coords[j] + rect_coords[j+1]) / 2\n            y = 1 - (rect_coords[i] + rect_coords[i+1]) / 2\n            \n            num = array[i][j]\n            r = np.abs(num) / (2*dim)\n            theta = np.angle(num)\n\n            circle = phasePlot(num, x, y, scale=2*dim) # Divide by dimension\n            axes.add_patch(circle)\n            plt.plot([x, x + np.cos(theta)/(dim**2)], [y, y + np.sin(theta)/(dim**2)], linestyle='-', color='k')\n    plt.xlim([0,1])\n    plt.ylim([0,1])\n    plt.show()",
    "id": "8127a47b647342b787271c229228dba9",
    "idx": 3,
    "time": "2021-02-12T19:48:06.959Z",
    "type": "execution"
   },
   {
    "id": "8127a47b647342b787271c229228dba9",
    "time": "2021-02-12T19:48:07.063Z",
    "type": "completion"
   },
   {
    "code": "def phasePlot(num, x, y, scale = 0):\n    # NUM is a complex number\n    # X and Y are coordinates of the center of the phase diagram\n    # SCALE can be used to scale all values as needed (e.g.)\n    # Returns a circle that can be plotted\n\n    r = np.abs(num)\n    if scale:\n        r = r / scale\n    theta = np.angle(num)\n\n    return plt.Circle((x, y), r, color=complexColor(num))",
    "id": "e0b0cc82eeb946b886d924d5c12165dc",
    "idx": 2,
    "time": "2021-02-12T19:48:09.652Z",
    "type": "execution"
   },
   {
    "id": "e0b0cc82eeb946b886d924d5c12165dc",
    "time": "2021-02-12T19:48:09.738Z",
    "type": "completion"
   },
   {
    "code": "# Plot a Hinton diagram of a matrix of complex numbers\ndef matrixPhase(matrix):\n    # MATRIX assumed to have complex numbers with magnitude at most 1\n    # MATRIX also assumed to be square\n\n    array = np.asarray(matrix)\n    dim = array.shape[0]\n    rect_coords = [i/dim for i in range(dim+1)]\n    figure, axes = plt.subplots()\n\n    # Due to matrix indexing, i controls y-coodinate, j controls x-coordinate\n    for i in range(dim):\n        for j in range(dim):            \n            # Use RECT_COORDS to find centers of the phase diagram circle\n            x = (rect_coords[j] + rect_coords[j+1]) / 2\n            y = 1 - (rect_coords[i] + rect_coords[i+1]) / 2\n            \n            num = array[i][j]\n            r = np.abs(num) / (2*dim)\n            theta = np.angle(num)\n\n            circle = phasePlot(num, x, y, scale=2*dim) # Divide by dimension\n            axes.add_patch(circle)\n            plt.plot([x, x + np.cos(theta)/(dim**2)], [y, y + np.sin(theta)/(dim**2)], linestyle='-', color='k')\n    plt.xlim([0,1])\n    plt.ylim([0,1])\n    plt.show()",
    "id": "8127a47b647342b787271c229228dba9",
    "idx": 3,
    "time": "2021-02-12T19:48:10.424Z",
    "type": "execution"
   },
   {
    "id": "8127a47b647342b787271c229228dba9",
    "time": "2021-02-12T19:48:10.516Z",
    "type": "completion"
   },
   {
    "code": "# For testing\nmatrixPhase([[0.5+0.5j,0.3],[0.1,0.8]])",
    "id": "45609b0b51a14bbe89c04ec9abd4be76",
    "idx": 4,
    "time": "2021-02-12T19:48:11.342Z",
    "type": "execution"
   },
   {
    "id": "45609b0b51a14bbe89c04ec9abd4be76",
    "time": "2021-02-12T19:48:11.675Z",
    "type": "completion"
   },
   {
    "code": "def phasePlot(num, x, y, scale = 1):\n    # NUM is a complex number\n    # X and Y are coordinates of the center of the phase diagram\n    # SCALE can be used to scale all values as needed (e.g. normalization)\n    # Returns a circle that can be plotted\n\n    r = np.abs(num) * scale\n    theta = np.angle(num)\n\n    return plt.Circle((x, y), r, color=complexColor(num))",
    "id": "e0b0cc82eeb946b886d924d5c12165dc",
    "idx": 2,
    "time": "2021-02-12T20:00:19.305Z",
    "type": "execution"
   },
   {
    "id": "e0b0cc82eeb946b886d924d5c12165dc",
    "time": "2021-02-12T20:00:19.396Z",
    "type": "completion"
   },
   {
    "code": "def matrixPhase(matrix):\n    # Plot a Hinton diagram of a matrix of complex numbers\n    # MATRIX assumed to have complex numbers with magnitude at most 1\n    # MATRIX also assumed to be square\n\n    array = np.asarray(matrix)\n    dim = array.shape[0]\n    rect_coords = [i/dim for i in range(dim+1)]\n    figure, axes = plt.subplots()\n\n    # Due to matrix indexing, i controls y-coodinate, j controls x-coordinate\n    for i in range(dim):\n        for j in range(dim):            \n            # Use RECT_COORDS to find centers of the phase diagram circle\n            x = (rect_coords[j] + rect_coords[j+1]) / 2\n            y = 1 - (rect_coords[i] + rect_coords[i+1]) / 2\n            \n            num = array[i][j]\n            r = np.abs(num) / (2*dim)\n            theta = np.angle(num)\n\n            circle = phasePlot(num, x, y, scale=1/(2*dim)) # Divide by dimension to fit inside assigned square, which is diameter, not radius\n            axes.add_patch(circle)\n            plt.plot([x, x + np.cos(theta)/(dim**2)], [y, y + np.sin(theta)/(dim**2)], linestyle='-', color='k')\n    plt.xlim([0,1])\n    plt.ylim([0,1])\n    plt.show()",
    "id": "8127a47b647342b787271c229228dba9",
    "idx": 3,
    "time": "2021-02-12T20:00:30.103Z",
    "type": "execution"
   },
   {
    "id": "8127a47b647342b787271c229228dba9",
    "time": "2021-02-12T20:00:30.197Z",
    "type": "completion"
   },
   {
    "code": "# For testing\nmatrixPhase([[0.5+0.5j,0.3],[0.1,0.8]])",
    "id": "45609b0b51a14bbe89c04ec9abd4be76",
    "idx": 4,
    "time": "2021-02-12T20:00:30.530Z",
    "type": "execution"
   },
   {
    "id": "45609b0b51a14bbe89c04ec9abd4be76",
    "time": "2021-02-12T20:00:30.867Z",
    "type": "completion"
   }
  ],
  "kernelspec": {
   "display_name": "Python 3",
   "language": "python",
   "name": "python3"
  },
  "language_info": {
   "codemirror_mode": {
    "name": "ipython",
    "version": 3
   },
   "file_extension": ".py",
   "mimetype": "text/x-python",
   "name": "python",
   "nbconvert_exporter": "python",
   "pygments_lexer": "ipython3",
   "version": "3.8.6"
  }
 },
 "nbformat": 4,
 "nbformat_minor": 4
}
