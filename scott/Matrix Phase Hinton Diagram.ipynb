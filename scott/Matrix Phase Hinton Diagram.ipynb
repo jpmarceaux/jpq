{
 "cells": [
  {
   "cell_type": "code",
   "execution_count": 1,
   "metadata": {},
   "outputs": [],
   "source": [
    "# Folder where jpq/ is installed\n",
    "containing_folder = '/home/scott/Desktop'"
   ]
  },
  {
   "cell_type": "code",
   "execution_count": 2,
   "metadata": {},
   "outputs": [],
   "source": [
    "import numpy as np\n",
    "import matplotlib.pyplot as plt\n",
    "import base64\n",
    "from io import BytesIO"
   ]
  },
  {
   "cell_type": "code",
   "execution_count": 3,
   "metadata": {},
   "outputs": [],
   "source": [
    "def complexColor(z):\n",
    "    # Converts magnitude and phase to a standard RGB triple (between 0 and 1)\n",
    "    # Use standard mapping of magnitude and phase to HSL (H = phase, L = magnitude, S = 1)\n",
    "    # Then map HSL to RGB and return a triple\n",
    "    # Magnitude assumed not greater than 1\n",
    "    \n",
    "    norm = np.abs(z)\n",
    "    phase = np.angle(z)\n",
    "    \n",
    "    C = 1 - abs(2*norm - 1)\n",
    "    H = phase/(np.pi / 3) # Finds which of the 6 sections of the color wheel the phase belongs to\n",
    "    X = C * (1 - abs((H % 2) - 1))\n",
    "    \n",
    "    # 6 cases corresponding to the 6 sections\n",
    "    if H <= 1:\n",
    "        R = C\n",
    "        G = X\n",
    "        B = 0\n",
    "    elif H <= 2:\n",
    "        R = X\n",
    "        G = C\n",
    "        B = 0\n",
    "    elif H <= 3:\n",
    "        R = 0\n",
    "        G = C\n",
    "        B = X\n",
    "    elif H <= 4:\n",
    "        R = 0\n",
    "        G = X\n",
    "        B = C\n",
    "    elif H <= 5:\n",
    "        R = X\n",
    "        G = 0\n",
    "        B = C\n",
    "    elif H <= 6:\n",
    "        R = C\n",
    "        G = 0\n",
    "        B = X\n",
    "    else:\n",
    "        R = 0\n",
    "        G = 0\n",
    "        B = 0\n",
    "        \n",
    "    m = norm - C/2\n",
    "    \n",
    "    return (R+m, G+m, B+m)"
   ]
  },
  {
   "cell_type": "code",
   "execution_count": 4,
   "metadata": {},
   "outputs": [],
   "source": [
    "def phasePlot(num, x, y, scale = 1):\n",
    "    # NUM is a complex number\n",
    "    # X and Y are coordinates of the center of the phase diagram\n",
    "    # SCALE can be used to scale all values as needed (e.g. normalization)\n",
    "    # Returns a circle that can be plotted\n",
    "\n",
    "    r = np.abs(num) * scale\n",
    "    theta = np.angle(num)\n",
    "\n",
    "    return plt.Circle((x, y), r, color=complexColor(num))"
   ]
  },
  {
   "cell_type": "code",
   "execution_count": 5,
   "metadata": {},
   "outputs": [],
   "source": [
    "def matrixPhase(matrix):\n",
    "    # Plot a Hinton diagram of a matrix of complex numbers\n",
    "    # MATRIX assumed to have complex numbers with magnitude at most 1\n",
    "    # MATRIX also assumed to be square\n",
    "\n",
    "    array = np.asarray(matrix)\n",
    "    dim = array.shape[0]\n",
    "    rect_coords = [i/dim for i in range(dim+1)]\n",
    "    figure, axes = plt.subplots()\n",
    "\n",
    "    # Due to matrix indexing, i controls y-coodinate, j controls x-coordinate\n",
    "    for i in range(dim):\n",
    "        for j in range(dim):            \n",
    "            # Use RECT_COORDS to find centers of the phase diagram circle\n",
    "            # Alternatively can implement as m x n array with each entry containing a tuple for the center points\n",
    "            x = (rect_coords[j] + rect_coords[j+1]) / 2\n",
    "            y = 1 - (rect_coords[i] + rect_coords[i+1]) / 2\n",
    "            \n",
    "            theta = np.angle(array[i][j])\n",
    "\n",
    "            circle = phasePlot(array[i][j], x, y, scale=1/(2*dim)) # Divide by dimension to fit inside assigned square, which is diameter, not radius\n",
    "            axes.add_patch(circle)\n",
    "            plt.plot([x, x + np.cos(theta)/(dim**2)], [y, y + np.sin(theta)/(dim**2)], linestyle='-', color='k')\n",
    "    plt.xlim([0,1])\n",
    "    plt.ylim([0,1])\n",
    "    axes.set_aspect('equal', adjustable='datalim') # use adjustable='box' if we want the entire plot to be square\n",
    "    plt.show()"
   ]
  },
  {
   "cell_type": "code",
   "execution_count": 6,
   "metadata": {},
   "outputs": [],
   "source": [
    "def matrixPhaseHTML(matrix):\n",
    "    # Generate a Hinton diagram of a matrix of complex numbers and return the HTML code for it\n",
    "    # Also returns the HTML for the mapping between phase and color\n",
    "    # MATRIX assumed to have complex numbers with magnitude at most 1\n",
    "    # MATRIX also assumed to be square\n",
    "\n",
    "    array = np.asarray(matrix)\n",
    "    dim = array.shape[0]\n",
    "    rect_coords = [i/dim for i in range(dim+1)]\n",
    "    figure, axes = plt.subplots()\n",
    "\n",
    "    # Due to matrix indexing, i controls y-coodinate, j controls x-coordinate\n",
    "    for i in range(dim):\n",
    "        for j in range(dim):            \n",
    "            # Use RECT_COORDS to find centers of the phase diagram circle\n",
    "            # Alternatively can implement as m x n array with each entry containing a tuple for the center points\n",
    "            x = (rect_coords[j] + rect_coords[j+1]) / 2\n",
    "            y = 1 - (rect_coords[i] + rect_coords[i+1]) / 2\n",
    "            \n",
    "            theta = np.angle(array[i][j])\n",
    "\n",
    "            circle = phasePlot(array[i][j], x, y, scale=1/(2*dim)) # Divide by dimension to fit inside assigned square, which is diameter, not radius\n",
    "            axes.add_patch(circle)\n",
    "            plt.plot([x, x + np.cos(theta)/(dim**2)], [y, y + np.sin(theta)/(dim**2)], linestyle='-', color='k')\n",
    "    plt.xlim([0,1])\n",
    "    plt.ylim([0,1])\n",
    "    axes.set_aspect('equal', adjustable='datalim') # use adjustable='box' if we want the entire plot to be square\n",
    "    \n",
    "    tmpfile = BytesIO()\n",
    "    figure.savefig(tmpfile, format='png')\n",
    "    data = base64.b64encode(tmpfile.getbuffer()).decode('utf-8')\n",
    "    return f\"<img src='file:///{containing_folder}/jpq/scott/hsl-color-wheel.png'/>\" + f\"<img src='data:image/png;base64,{data}'/>\""
   ]
  },
  {
   "cell_type": "code",
   "execution_count": 7,
   "metadata": {},
   "outputs": [
    {
     "data": {
      "image/png": "[encoded data removed]",
      "text/plain": [
       "<Figure size 432x288 with 1 Axes>"
      ]
     },
     "metadata": {
      "needs_background": "light"
     },
     "output_type": "display_data"
    }
   ],
   "source": [
    "# For testing\n",
    "matrixPhase([[0.5+0.5j,0.3],[0.1,0.8]])"
   ]
  },
  {
   "cell_type": "code",
   "execution_count": 8,
   "metadata": {},
   "outputs": [
    {
     "data": {
      "image/png": "[encoded data removed]",
      "text/plain": [
       "<Figure size 432x288 with 1 Axes>"
      ]
     },
     "metadata": {
      "needs_background": "light"
     },
     "output_type": "display_data"
    }
   ],
   "source": [
    "html = matrixPhaseHTML([[0.5+0.5j,0.3],[0.1,0.8]])"
   ]
  },
  {
   "cell_type": "code",
   "execution_count": 9,
   "metadata": {},
   "outputs": [
    {
     "data": {
      "text/plain": [
       "\"<img src='file:////home/scott/Desktop/jpq/scott/hsl-color-wheel.png'/><img src='data:image/png;base64,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'/>\""
      ]
     },
     "execution_count": 9,
     "metadata": {},
     "output_type": "execute_result"
    }
   ],
   "source": [
    "html"
   ]
  },
  {
   "cell_type": "code",
   "execution_count": null,
   "metadata": {},
   "outputs": [],
   "source": []
  }
 ],
 "metadata": {
  "history": [
   {
    "code": "import numpy as np\nimport matplotlib.pyplot as plt\n\ndef phasePlot(num, x, y, maxSize = 0):\n    # X and Y are coordinates of the center of the phase diagram\n\n    r = np.abs(num)\n    if maxSize:\n        r = np.abs(num) / maxSize\n    theta = np.angle(num)\n\n    circle = plt.Circle((x, y), r, color=blue)\n    figure, axes = plt.subplots()\n    axes.add_patch(circle)\n\n    plot([x, r * np.cos(theta)], [y, r * np.sin(theta)], linestyle='-', color=black)\n\ndef matrixPhase(matrix):\n    # MATRIX assumed to have complex numbers with magnitude at most 1\n    # MATRIX also assumed to be square\n\n    array = np.asarray(matrix)\n    dim = array.shape[0]\n    rect_coords = [i/dim for i in range(dim)]\n\n    # Due to matrix indexing, i controls y-coodinate, j controls x-coordinate\n    for i in range(dim):\n        for j in range(dim):\n            # Use RECT_COORDS to find centers of the phase diagram circle\n            x = (rect_coords[j] + rect_coords[j+1]) / 2\n            y = (rect_coords[i] + rect_coords[i+1]) / 2\n\n            phasePlot(array[i][j], x, y)\n    plt.xlim([0,1])\n    plt.ylim([0,1])\n    plt.show()",
    "id": "31c7f865a69048aea468bace9c93576f",
    "idx": 0,
    "time": "2021-02-05T06:42:45.383Z",
    "type": "execution"
   },
   {
    "id": "31c7f865a69048aea468bace9c93576f",
    "time": "2021-02-05T06:42:48.948Z",
    "type": "completion"
   },
   {
    "code": "1+2",
    "id": "7d09b66a39ea40e7817cbf220febd955",
    "idx": 1,
    "time": "2021-02-05T06:42:57.842Z",
    "type": "execution"
   },
   {
    "id": "7d09b66a39ea40e7817cbf220febd955",
    "time": "2021-02-05T06:42:57.932Z",
    "type": "completion"
   },
   {
    "code": "matrixPhase([[1,0],[0,1]])",
    "id": "2525a6262d174fca8142f179e009cc05",
    "idx": 2,
    "time": "2021-02-05T06:43:18.184Z",
    "type": "execution"
   },
   {
    "id": "2525a6262d174fca8142f179e009cc05",
    "time": "2021-02-05T06:43:18.350Z",
    "type": "completion"
   },
   {
    "code": "import numpy as np\nimport matplotlib.pyplot as plt\n\ndef phasePlot(num, x, y, maxSize = 0):\n    # X and Y are coordinates of the center of the phase diagram\n\n    r = np.abs(num)\n    if maxSize:\n        r = np.abs(num) / maxSize\n    theta = np.angle(num)\n\n    circle = plt.Circle((x, y), r, color='b')\n    figure, axes = plt.subplots()\n    axes.add_patch(circle)\n\n    plot([x, r * np.cos(theta)], [y, r * np.sin(theta)], linestyle='-', color='k')\n\ndef matrixPhase(matrix):\n    # MATRIX assumed to have complex numbers with magnitude at most 1\n    # MATRIX also assumed to be square\n\n    array = np.asarray(matrix)\n    dim = array.shape[0]\n    rect_coords = [i/dim for i in range(dim)]\n\n    # Due to matrix indexing, i controls y-coodinate, j controls x-coordinate\n    for i in range(dim):\n        for j in range(dim):\n            # Use RECT_COORDS to find centers of the phase diagram circle\n            x = (rect_coords[j] + rect_coords[j+1]) / 2\n            y = (rect_coords[i] + rect_coords[i+1]) / 2\n\n            phasePlot(array[i][j], x, y)\n    plt.xlim([0,1])\n    plt.ylim([0,1])\n    plt.show()",
    "id": "31c7f865a69048aea468bace9c93576f",
    "idx": 0,
    "time": "2021-02-05T06:43:32.899Z",
    "type": "execution"
   },
   {
    "id": "31c7f865a69048aea468bace9c93576f",
    "time": "2021-02-05T06:43:32.988Z",
    "type": "completion"
   },
   {
    "code": "matrixPhase([[1,0],[0,1]])",
    "id": "2525a6262d174fca8142f179e009cc05",
    "idx": 2,
    "time": "2021-02-05T06:43:35.165Z",
    "type": "execution"
   },
   {
    "id": "2525a6262d174fca8142f179e009cc05",
    "time": "2021-02-05T06:43:35.412Z",
    "type": "completion"
   },
   {
    "code": "import numpy as np\nimport matplotlib.pyplot as plt\n\ndef phasePlot(num, x, y, maxSize = 0):\n    # X and Y are coordinates of the center of the phase diagram\n\n    r = np.abs(num)\n    if maxSize:\n        r = np.abs(num) / maxSize\n    theta = np.angle(num)\n\n    circle = plt.Circle((x, y), r, color='b')\n    figure, axes = plt.subplots()\n    axes.add_patch(circle)\n\n    plt.plot([x, r * np.cos(theta)], [y, r * np.sin(theta)], linestyle='-', color='k')\n\ndef matrixPhase(matrix):\n    # MATRIX assumed to have complex numbers with magnitude at most 1\n    # MATRIX also assumed to be square\n\n    array = np.asarray(matrix)\n    dim = array.shape[0]\n    rect_coords = [i/dim for i in range(dim)]\n\n    # Due to matrix indexing, i controls y-coodinate, j controls x-coordinate\n    for i in range(dim):\n        for j in range(dim):\n            # Use RECT_COORDS to find centers of the phase diagram circle\n            x = (rect_coords[j] + rect_coords[j+1]) / 2\n            y = (rect_coords[i] + rect_coords[i+1]) / 2\n\n            phasePlot(array[i][j], x, y)\n    plt.xlim([0,1])\n    plt.ylim([0,1])\n    plt.show()",
    "id": "31c7f865a69048aea468bace9c93576f",
    "idx": 0,
    "time": "2021-02-05T06:43:53.054Z",
    "type": "execution"
   },
   {
    "id": "31c7f865a69048aea468bace9c93576f",
    "time": "2021-02-05T06:43:53.173Z",
    "type": "completion"
   },
   {
    "code": "matrixPhase([[1,0],[0,1]])",
    "id": "2525a6262d174fca8142f179e009cc05",
    "idx": 1,
    "time": "2021-02-05T06:43:54.929Z",
    "type": "execution"
   },
   {
    "id": "2525a6262d174fca8142f179e009cc05",
    "time": "2021-02-05T06:43:55.306Z",
    "type": "completion"
   },
   {
    "code": "import numpy as np\nimport matplotlib.pyplot as plt\n\ndef phasePlot(num, x, y, maxSize = 0):\n    # X and Y are coordinates of the center of the phase diagram\n\n    r = np.abs(num)\n    if maxSize:\n        r = np.abs(num) / maxSize\n    theta = np.angle(num)\n\n    circle = plt.Circle((x, y), r, color='b')\n    figure, axes = plt.subplots()\n    axes.add_patch(circle)\n\n    plt.plot([x, r * np.cos(theta)], [y, r * np.sin(theta)], linestyle='-', color='k')\n\ndef matrixPhase(matrix):\n    # MATRIX assumed to have complex numbers with magnitude at most 1\n    # MATRIX also assumed to be square\n\n    array = np.asarray(matrix)\n    dim = array.shape[0]\n    rect_coords = [i/dim for i in range(dim+1)]\n\n    # Due to matrix indexing, i controls y-coodinate, j controls x-coordinate\n    for i in range(dim-1):\n        for j in range(dim-1):\n            # Use RECT_COORDS to find centers of the phase diagram circle\n            x = (rect_coords[j] + rect_coords[j+1]) / 2\n            y = (rect_coords[i] + rect_coords[i+1]) / 2\n\n            phasePlot(array[i][j], x, y)\n    plt.xlim([0,1])\n    plt.ylim([0,1])\n    plt.show()",
    "id": "31c7f865a69048aea468bace9c93576f",
    "idx": 0,
    "time": "2021-02-05T06:44:44.712Z",
    "type": "execution"
   },
   {
    "id": "31c7f865a69048aea468bace9c93576f",
    "time": "2021-02-05T06:44:44.793Z",
    "type": "completion"
   },
   {
    "code": "matrixPhase([[1,0],[0,1]])",
    "id": "2525a6262d174fca8142f179e009cc05",
    "idx": 1,
    "time": "2021-02-05T06:44:46.310Z",
    "type": "execution"
   },
   {
    "id": "2525a6262d174fca8142f179e009cc05",
    "time": "2021-02-05T06:44:46.532Z",
    "type": "completion"
   },
   {
    "code": "matrixPhase([[0.5,0],[0,0]])",
    "id": "2525a6262d174fca8142f179e009cc05",
    "idx": 1,
    "time": "2021-02-05T06:44:57.764Z",
    "type": "execution"
   },
   {
    "id": "2525a6262d174fca8142f179e009cc05",
    "time": "2021-02-05T06:44:58.006Z",
    "type": "completion"
   },
   {
    "code": "np.abs(1)",
    "id": "6860843d654b438195edb2cedc6263af",
    "idx": 2,
    "time": "2021-02-05T06:45:36.866Z",
    "type": "execution"
   },
   {
    "id": "6860843d654b438195edb2cedc6263af",
    "time": "2021-02-05T06:45:36.959Z",
    "type": "completion"
   },
   {
    "code": "np.abs(i)",
    "id": "3538fa8cd703431e8e866ff7de7dfe59",
    "idx": 3,
    "time": "2021-02-05T06:45:41.141Z",
    "type": "execution"
   },
   {
    "id": "3538fa8cd703431e8e866ff7de7dfe59",
    "time": "2021-02-05T06:45:41.221Z",
    "type": "completion"
   },
   {
    "code": "np.abs(j)",
    "id": "3538fa8cd703431e8e866ff7de7dfe59",
    "idx": 3,
    "time": "2021-02-05T06:45:44.247Z",
    "type": "execution"
   },
   {
    "id": "3538fa8cd703431e8e866ff7de7dfe59",
    "time": "2021-02-05T06:45:44.338Z",
    "type": "completion"
   },
   {
    "code": "1+j",
    "id": "79c4796d24c146208ad2c6fa96b87e73",
    "idx": 4,
    "time": "2021-02-05T06:48:16.755Z",
    "type": "execution"
   },
   {
    "id": "79c4796d24c146208ad2c6fa96b87e73",
    "time": "2021-02-05T06:48:16.863Z",
    "type": "completion"
   },
   {
    "code": "np.sum(1,j)",
    "id": "d503792537a34df289fefc00effc8cd2",
    "idx": 5,
    "time": "2021-02-05T06:48:24.703Z",
    "type": "execution"
   },
   {
    "id": "d503792537a34df289fefc00effc8cd2",
    "time": "2021-02-05T06:48:24.794Z",
    "type": "completion"
   },
   {
    "code": "numpy.iscomplex(1.j)",
    "id": "d341fd82c234470d857f25a124f467fd",
    "idx": 2,
    "time": "2021-02-05T06:49:37.522Z",
    "type": "execution"
   },
   {
    "id": "d341fd82c234470d857f25a124f467fd",
    "time": "2021-02-05T06:49:37.609Z",
    "type": "completion"
   },
   {
    "code": "np.iscomplex(1.j)",
    "id": "d341fd82c234470d857f25a124f467fd",
    "idx": 2,
    "time": "2021-02-05T06:49:45.976Z",
    "type": "execution"
   },
   {
    "id": "d341fd82c234470d857f25a124f467fd",
    "time": "2021-02-05T06:49:46.057Z",
    "type": "completion"
   },
   {
    "code": "1+2.J",
    "id": "aa4e765611ee4931b90f10b264ff1261",
    "idx": 3,
    "time": "2021-02-05T06:49:55.892Z",
    "type": "execution"
   },
   {
    "id": "aa4e765611ee4931b90f10b264ff1261",
    "time": "2021-02-05T06:49:55.972Z",
    "type": "completion"
   },
   {
    "code": "1+2.j + 3+4.j",
    "id": "07d24d29ae624d088a424b4ff370aee0",
    "idx": 4,
    "time": "2021-02-05T06:50:03.931Z",
    "type": "execution"
   },
   {
    "id": "07d24d29ae624d088a424b4ff370aee0",
    "time": "2021-02-05T06:50:04.025Z",
    "type": "completion"
   },
   {
    "code": "np.iscomplex(1.j)",
    "id": "cce6cd6af05e478180a6c30b4f8a16eb",
    "idx": 2,
    "time": "2021-02-05T06:50:19.331Z",
    "type": "execution"
   },
   {
    "id": "cce6cd6af05e478180a6c30b4f8a16eb",
    "time": "2021-02-05T06:50:19.409Z",
    "type": "completion"
   },
   {
    "code": "np.iscomplex(1)",
    "id": "cce6cd6af05e478180a6c30b4f8a16eb",
    "idx": 2,
    "time": "2021-02-05T06:50:22.856Z",
    "type": "execution"
   },
   {
    "id": "cce6cd6af05e478180a6c30b4f8a16eb",
    "time": "2021-02-05T06:50:22.946Z",
    "type": "completion"
   },
   {
    "code": "np.angle(1.j)",
    "id": "cf4ea8f41d8048d6aa4b8b9a2f92438c",
    "idx": 3,
    "time": "2021-02-05T06:50:29.846Z",
    "type": "execution"
   },
   {
    "id": "cf4ea8f41d8048d6aa4b8b9a2f92438c",
    "time": "2021-02-05T06:50:29.938Z",
    "type": "completion"
   },
   {
    "code": "np.angle(1.j, deg=true)",
    "id": "cf4ea8f41d8048d6aa4b8b9a2f92438c",
    "idx": 3,
    "time": "2021-02-05T06:50:36.004Z",
    "type": "execution"
   },
   {
    "id": "cf4ea8f41d8048d6aa4b8b9a2f92438c",
    "time": "2021-02-05T06:50:36.087Z",
    "type": "completion"
   },
   {
    "code": "np.angle(1.j, degree=true)",
    "id": "cf4ea8f41d8048d6aa4b8b9a2f92438c",
    "idx": 3,
    "time": "2021-02-05T06:50:38.750Z",
    "type": "execution"
   },
   {
    "id": "cf4ea8f41d8048d6aa4b8b9a2f92438c",
    "time": "2021-02-05T06:50:38.849Z",
    "type": "completion"
   },
   {
    "code": "np.angle(1.j, deg=True)",
    "id": "cf4ea8f41d8048d6aa4b8b9a2f92438c",
    "idx": 3,
    "time": "2021-02-05T06:50:59.354Z",
    "type": "execution"
   },
   {
    "id": "cf4ea8f41d8048d6aa4b8b9a2f92438c",
    "time": "2021-02-05T06:50:59.433Z",
    "type": "completion"
   },
   {
    "code": "np.angle(1+1.j, deg=True)",
    "id": "cf4ea8f41d8048d6aa4b8b9a2f92438c",
    "idx": 3,
    "time": "2021-02-05T06:51:05.182Z",
    "type": "execution"
   },
   {
    "id": "cf4ea8f41d8048d6aa4b8b9a2f92438c",
    "time": "2021-02-05T06:51:05.263Z",
    "type": "completion"
   },
   {
    "code": "matrixPhase([[1,0],[0,0]])",
    "id": "2525a6262d174fca8142f179e009cc05",
    "idx": 1,
    "time": "2021-02-05T06:51:36.860Z",
    "type": "execution"
   },
   {
    "id": "2525a6262d174fca8142f179e009cc05",
    "time": "2021-02-05T06:51:37.104Z",
    "type": "completion"
   },
   {
    "code": "matrixPhase([[0.1,0],[0,0]])",
    "id": "2525a6262d174fca8142f179e009cc05",
    "idx": 1,
    "time": "2021-02-05T06:51:40.708Z",
    "type": "execution"
   },
   {
    "id": "2525a6262d174fca8142f179e009cc05",
    "time": "2021-02-05T06:51:40.940Z",
    "type": "completion"
   },
   {
    "code": "import numpy as np\nimport matplotlib.pyplot as plt\n\ndef phasePlot(num, x, y, maxSize = 0):\n    # X and Y are coordinates of the center of the phase diagram\n\n    r = np.abs(num)\n    if maxSize:\n        r = np.abs(num) / maxSize\n    theta = np.angle(num)\n\n    circle = plt.Circle((x, y), r, color='b')\n    figure, axes = plt.subplots()\n    axes.add_patch(circle)\n\n    plt.plot([x, r * np.cos(theta)], [y, r * np.sin(theta)], linestyle='-', color='k')\n\ndef matrixPhase(matrix):\n    # MATRIX assumed to have complex numbers with magnitude at most 1\n    # MATRIX also assumed to be square\n\n    array = np.asarray(matrix)\n    dim = array.shape[0]\n    rect_coords = [i/dim for i in range(dim+1)]\n\n    # Due to matrix indexing, i controls y-coodinate, j controls x-coordinate\n    for i in range(dim-1):\n        for j in range(dim-1):\n            # Use RECT_COORDS to find centers of the phase diagram circle\n            x = (rect_coords[j] + rect_coords[j+1]) / 2\n            y = 1 - (rect_coords[i] + rect_coords[i+1]) / 2\n\n            phasePlot(array[i][j], x, y)\n    plt.xlim([0,1])\n    plt.ylim([0,1])\n    plt.show()",
    "id": "31c7f865a69048aea468bace9c93576f",
    "idx": 0,
    "time": "2021-02-05T06:52:48.758Z",
    "type": "execution"
   },
   {
    "id": "31c7f865a69048aea468bace9c93576f",
    "time": "2021-02-05T06:52:48.847Z",
    "type": "completion"
   },
   {
    "code": "matrixPhase([[0.1,0],[0,0]])",
    "id": "2525a6262d174fca8142f179e009cc05",
    "idx": 1,
    "time": "2021-02-05T06:52:49.713Z",
    "type": "execution"
   },
   {
    "id": "2525a6262d174fca8142f179e009cc05",
    "time": "2021-02-05T06:52:49.950Z",
    "type": "completion"
   },
   {
    "code": "import numpy as np\nimport matplotlib.pyplot as plt\n\ndef phasePlot(num, x, y, maxSize = 0):\n    # X and Y are coordinates of the center of the phase diagram\n\n    r = np.abs(num)\n    if maxSize:\n        r = np.abs(num) / maxSize\n    theta = np.angle(num)\n\n    circle = plt.Circle((x, y), r, color='b')\n    figure, axes = plt.subplots()\n    axes.add_patch(circle)\n\n    plt.plot([x, x + r * np.cos(theta)], [y, y + r * np.sin(theta)], linestyle='-', color='k')\n\ndef matrixPhase(matrix):\n    # MATRIX assumed to have complex numbers with magnitude at most 1\n    # MATRIX also assumed to be square\n\n    array = np.asarray(matrix)\n    dim = array.shape[0]\n    rect_coords = [i/dim for i in range(dim+1)]\n\n    # Due to matrix indexing, i controls y-coodinate, j controls x-coordinate\n    for i in range(dim-1):\n        for j in range(dim-1):\n            # Use RECT_COORDS to find centers of the phase diagram circle\n            x = (rect_coords[j] + rect_coords[j+1]) / 2\n            y = 1 - (rect_coords[i] + rect_coords[i+1]) / 2\n\n            phasePlot(array[i][j], x, y)\n    plt.xlim([0,1])\n    plt.ylim([0,1])\n    plt.show()",
    "id": "31c7f865a69048aea468bace9c93576f",
    "idx": 0,
    "time": "2021-02-05T06:53:10.818Z",
    "type": "execution"
   },
   {
    "id": "31c7f865a69048aea468bace9c93576f",
    "time": "2021-02-05T06:53:10.908Z",
    "type": "completion"
   },
   {
    "code": "matrixPhase([[0.1,0],[0,0]])",
    "id": "2525a6262d174fca8142f179e009cc05",
    "idx": 1,
    "time": "2021-02-05T06:53:11.508Z",
    "type": "execution"
   },
   {
    "id": "2525a6262d174fca8142f179e009cc05",
    "time": "2021-02-05T06:53:11.739Z",
    "type": "completion"
   },
   {
    "code": "import numpy as np\nimport matplotlib.pyplot as plt\n\ndef phasePlot(num, x, y, maxSize = 0):\n    # X and Y are coordinates of the center of the phase diagram\n\n    r = np.abs(num)\n    if maxSize:\n        r = np.abs(num) / maxSize\n    theta = np.angle(num)\n\n    circle = plt.Circle((x, y), r, color='c')\n    figure, axes = plt.subplots()\n    axes.add_patch(circle)\n\n    plt.plot([x, x + r * np.cos(theta)], [y, y + r * np.sin(theta)], linestyle='-', color='k')\n\ndef matrixPhase(matrix):\n    # MATRIX assumed to have complex numbers with magnitude at most 1\n    # MATRIX also assumed to be square\n\n    array = np.asarray(matrix)\n    dim = array.shape[0]\n    rect_coords = [i/dim for i in range(dim+1)]\n\n    # Due to matrix indexing, i controls y-coodinate, j controls x-coordinate\n    for i in range(dim-1):\n        for j in range(dim-1):\n            # Use RECT_COORDS to find centers of the phase diagram circle\n            x = (rect_coords[j] + rect_coords[j+1]) / 2\n            y = 1 - (rect_coords[i] + rect_coords[i+1]) / 2\n\n            phasePlot(array[i][j], x, y)\n    plt.xlim([0,1])\n    plt.ylim([0,1])\n    plt.show()",
    "id": "31c7f865a69048aea468bace9c93576f",
    "idx": 0,
    "time": "2021-02-05T06:53:21.559Z",
    "type": "execution"
   },
   {
    "id": "31c7f865a69048aea468bace9c93576f",
    "time": "2021-02-05T06:53:21.648Z",
    "type": "completion"
   },
   {
    "code": "matrixPhase([[0.1,0],[0,0]])",
    "id": "2525a6262d174fca8142f179e009cc05",
    "idx": 1,
    "time": "2021-02-05T06:53:23.306Z",
    "type": "execution"
   },
   {
    "id": "2525a6262d174fca8142f179e009cc05",
    "time": "2021-02-05T06:53:23.531Z",
    "type": "completion"
   },
   {
    "code": "matrixPhase([[1,0],[0,0]])",
    "id": "2525a6262d174fca8142f179e009cc05",
    "idx": 1,
    "time": "2021-02-05T06:53:30.551Z",
    "type": "execution"
   },
   {
    "id": "2525a6262d174fca8142f179e009cc05",
    "time": "2021-02-05T06:53:30.786Z",
    "type": "completion"
   },
   {
    "code": "import numpy as np\nimport matplotlib.pyplot as plt\n\ndef phasePlot(num, x, y, maxSize = 0):\n    # X and Y are coordinates of the center of the phase diagram\n\n    r = np.abs(num)\n    if maxSize:\n        r = np.abs(num) / maxSize\n    theta = np.angle(num)\n\n    circle = plt.Circle((x, y), r, color='c')\n    figure, axes = plt.subplots()\n    axes.add_patch(circle)\n\n    plt.plot([x, x + r * np.cos(theta)], [y, y + r * np.sin(theta)], linestyle='-', color='k')\n\ndef matrixPhase(matrix):\n    # MATRIX assumed to have complex numbers with magnitude at most 1\n    # MATRIX also assumed to be square\n\n    array = np.asarray(matrix)\n    dim = array.shape[0]\n    rect_coords = [i/dim for i in range(dim+1)]\n\n    # Due to matrix indexing, i controls y-coodinate, j controls x-coordinate\n    for i in range(dim-1):\n        for j in range(dim-1):\n            # Use RECT_COORDS to find centers of the phase diagram circle\n            x = (rect_coords[j] + rect_coords[j+1]) / 2\n            y = 1 - (rect_coords[i] + rect_coords[i+1]) / 2\n\n            phasePlot(array[i][j], x, y, maxSize=1/dim)\n    plt.xlim([0,1])\n    plt.ylim([0,1])\n    plt.show()",
    "id": "31c7f865a69048aea468bace9c93576f",
    "idx": 0,
    "time": "2021-02-05T06:53:54.683Z",
    "type": "execution"
   },
   {
    "id": "31c7f865a69048aea468bace9c93576f",
    "time": "2021-02-05T06:53:54.771Z",
    "type": "completion"
   },
   {
    "code": "matrixPhase([[1,0],[0,0]])",
    "id": "2525a6262d174fca8142f179e009cc05",
    "idx": 1,
    "time": "2021-02-05T06:53:55.153Z",
    "type": "execution"
   },
   {
    "id": "2525a6262d174fca8142f179e009cc05",
    "time": "2021-02-05T06:53:55.373Z",
    "type": "completion"
   },
   {
    "code": "import numpy as np\nimport matplotlib.pyplot as plt\n\ndef phasePlot(num, x, y, maxSize = 0):\n    # X and Y are coordinates of the center of the phase diagram\n\n    r = np.abs(num)\n    if maxSize:\n        r = np.abs(num) / maxSize\n    theta = np.angle(num)\n\n    circle = plt.Circle((x, y), r, color='c')\n    figure, axes = plt.subplots()\n    axes.add_patch(circle)\n\n    plt.plot([x, x + r * np.cos(theta)], [y, y + r * np.sin(theta)], linestyle='-', color='k')\n\ndef matrixPhase(matrix):\n    # MATRIX assumed to have complex numbers with magnitude at most 1\n    # MATRIX also assumed to be square\n\n    array = np.asarray(matrix)\n    dim = array.shape[0]\n    rect_coords = [i/dim for i in range(dim+1)]\n\n    # Due to matrix indexing, i controls y-coodinate, j controls x-coordinate\n    for i in range(dim-1):\n        for j in range(dim-1):\n            # Use RECT_COORDS to find centers of the phase diagram circle\n            x = (rect_coords[j] + rect_coords[j+1]) / 2\n            y = 1 - (rect_coords[i] + rect_coords[i+1]) / 2\n\n            phasePlot(array[i][j], x, y, maxSize = 1 / dim)\n    plt.xlim([0,1])\n    plt.ylim([0,1])\n    plt.show()",
    "id": "31c7f865a69048aea468bace9c93576f",
    "idx": 0,
    "time": "2021-02-05T06:54:18.761Z",
    "type": "execution"
   },
   {
    "id": "31c7f865a69048aea468bace9c93576f",
    "time": "2021-02-05T06:54:18.854Z",
    "type": "completion"
   },
   {
    "code": "matrixPhase([[1,0],[0,0]])",
    "id": "2525a6262d174fca8142f179e009cc05",
    "idx": 1,
    "time": "2021-02-05T06:54:19.488Z",
    "type": "execution"
   },
   {
    "id": "2525a6262d174fca8142f179e009cc05",
    "time": "2021-02-05T06:54:19.725Z",
    "type": "completion"
   },
   {
    "code": "array = np.asarray([[1,0],[0,0]])",
    "id": "d95d817ce44746338605558cec4bc995",
    "idx": 4,
    "time": "2021-02-05T06:54:41.900Z",
    "type": "execution"
   },
   {
    "id": "d95d817ce44746338605558cec4bc995",
    "time": "2021-02-05T06:54:41.979Z",
    "type": "completion"
   },
   {
    "code": "array.shape",
    "id": "9f4feedede2c490988d99a65887ec9ae",
    "idx": 5,
    "time": "2021-02-05T06:54:47.695Z",
    "type": "execution"
   },
   {
    "id": "9f4feedede2c490988d99a65887ec9ae",
    "time": "2021-02-05T06:54:47.779Z",
    "type": "completion"
   },
   {
    "code": "matrixPhase([[1,0],[0,0]])",
    "id": "2525a6262d174fca8142f179e009cc05",
    "idx": 1,
    "time": "2021-02-05T06:55:12.989Z",
    "type": "execution"
   },
   {
    "id": "2525a6262d174fca8142f179e009cc05",
    "time": "2021-02-05T06:55:13.344Z",
    "type": "completion"
   },
   {
    "code": "import numpy as np\nimport matplotlib.pyplot as plt\n\ndef phasePlot(num, x, y, maxSize = 0):\n    # X and Y are coordinates of the center of the phase diagram\n\n    r = np.abs(num)\n    if maxSize:\n        r = np.abs(num) / maxSize\n    theta = np.angle(num)\n\n    circle = plt.Circle((x, y), r, color='c')\n    figure, axes = plt.subplots()\n    axes.add_patch(circle)\n\n    plt.plot([x, x + r * np.cos(theta)], [y, y + r * np.sin(theta)], linestyle='-', color='k')\n\ndef matrixPhase(matrix):\n    # MATRIX assumed to have complex numbers with magnitude at most 1\n    # MATRIX also assumed to be square\n\n    array = np.asarray(matrix)\n    dim = array.shape[0]\n    rect_coords = [i/dim for i in range(dim+1)]\n\n    # Due to matrix indexing, i controls y-coodinate, j controls x-coordinate\n    for i in range(dim-1):\n        for j in range(dim-1):\n            # Use RECT_COORDS to find centers of the phase diagram circle\n            x = (rect_coords[j] + rect_coords[j+1]) / 2\n            y = 1 - (rect_coords[i] + rect_coords[i+1]) / 2\n\n            phasePlot(array[i][j], x, y, maxSize = 1 / dim)\n    plt.xlim([0,1])\n    plt.ylim([0,1])\n    plt.show()",
    "id": "31c7f865a69048aea468bace9c93576f",
    "idx": 0,
    "time": "2021-02-05T06:55:35.694Z",
    "type": "execution"
   },
   {
    "id": "31c7f865a69048aea468bace9c93576f",
    "time": "2021-02-05T06:55:36.172Z",
    "type": "completion"
   },
   {
    "code": "matrixPhase([[1,0],[0,0]])",
    "id": "2525a6262d174fca8142f179e009cc05",
    "idx": 1,
    "time": "2021-02-05T06:55:38.244Z",
    "type": "execution"
   },
   {
    "id": "2525a6262d174fca8142f179e009cc05",
    "time": "2021-02-05T06:55:38.544Z",
    "type": "completion"
   },
   {
    "code": "import numpy as np\nimport matplotlib.pyplot as plt\n\ndef phasePlot(num, x, y; maxSize = 0):\n    # X and Y are coordinates of the center of the phase diagram\n\n    r = np.abs(num)\n    if maxSize:\n        r = np.abs(num) / maxSize\n    theta = np.angle(num)\n\n    circle = plt.Circle((x, y), r, color='c')\n    figure, axes = plt.subplots()\n    axes.add_patch(circle)\n\n    plt.plot([x, x + r * np.cos(theta)], [y, y + r * np.sin(theta)], linestyle='-', color='k')\n\ndef matrixPhase(matrix):\n    # MATRIX assumed to have complex numbers with magnitude at most 1\n    # MATRIX also assumed to be square\n\n    array = np.asarray(matrix)\n    dim = array.shape[0]\n    rect_coords = [i/dim for i in range(dim+1)]\n\n    # Due to matrix indexing, i controls y-coodinate, j controls x-coordinate\n    for i in range(dim-1):\n        for j in range(dim-1):\n            # Use RECT_COORDS to find centers of the phase diagram circle\n            x = (rect_coords[j] + rect_coords[j+1]) / 2\n            y = 1 - (rect_coords[i] + rect_coords[i+1]) / 2\n\n            phasePlot(array[i][j], x, y, maxSize = 1 / dim)\n    plt.xlim([0,1])\n    plt.ylim([0,1])\n    plt.show()",
    "id": "31c7f865a69048aea468bace9c93576f",
    "idx": 0,
    "time": "2021-02-05T06:55:56.735Z",
    "type": "execution"
   },
   {
    "id": "31c7f865a69048aea468bace9c93576f",
    "time": "2021-02-05T06:55:56.825Z",
    "type": "completion"
   },
   {
    "code": "matrixPhase([[1,0],[0,0]])",
    "id": "2525a6262d174fca8142f179e009cc05",
    "idx": 1,
    "time": "2021-02-05T06:55:57.379Z",
    "type": "execution"
   },
   {
    "id": "2525a6262d174fca8142f179e009cc05",
    "time": "2021-02-05T06:55:57.611Z",
    "type": "completion"
   },
   {
    "code": "import numpy as np\nimport matplotlib.pyplot as plt\n\ndef phasePlot(num, x, y; maxSize = 0):\n    # X and Y are coordinates of the center of the phase diagram\n\n    r = np.abs(num)\n    if maxSize:\n        r = np.abs(num) / maxSize\n    theta = np.angle(num)\n\n    circle = plt.Circle((x, y), r, color='c')\n    figure, axes = plt.subplots()\n    axes.add_patch(circle)\n\n    plt.plot([x, x + r * np.cos(theta)], [y, y + r * np.sin(theta)], linestyle='-', color='k')\n\ndef matrixPhase(matrix):\n    # MATRIX assumed to have complex numbers with magnitude at most 1\n    # MATRIX also assumed to be square\n\n    array = np.asarray(matrix)\n    dim = array.shape[0]\n    rect_coords = [i/dim for i in range(dim+1)]\n\n    # Due to matrix indexing, i controls y-coodinate, j controls x-coordinate\n    for i in range(dim-1):\n        for j in range(dim-1):\n            # Use RECT_COORDS to find centers of the phase diagram circle\n            x = (rect_coords[j] + rect_coords[j+1]) / 2\n            y = 1 - (rect_coords[i] + rect_coords[i+1]) / 2\n\n            phasePlot(array[i][j], x, y, 1 / dim)\n    plt.xlim([0,1])\n    plt.ylim([0,1])\n    plt.show()",
    "id": "31c7f865a69048aea468bace9c93576f",
    "idx": 0,
    "time": "2021-02-05T06:57:10.538Z",
    "type": "execution"
   },
   {
    "id": "31c7f865a69048aea468bace9c93576f",
    "time": "2021-02-05T06:57:10.636Z",
    "type": "completion"
   },
   {
    "code": "matrixPhase([[1,0],[0,0]])",
    "id": "2525a6262d174fca8142f179e009cc05",
    "idx": 1,
    "time": "2021-02-05T06:57:11.617Z",
    "type": "execution"
   },
   {
    "id": "2525a6262d174fca8142f179e009cc05",
    "time": "2021-02-05T06:57:11.843Z",
    "type": "completion"
   },
   {
    "code": "import numpy as np\nimport matplotlib.pyplot as plt\n\ndef phasePlot(num, x, y, maxSize = 0):\n    # X and Y are coordinates of the center of the phase diagram\n\n    r = np.abs(num)\n    if maxSize:\n        r = np.abs(num) / maxSize\n    theta = np.angle(num)\n\n    circle = plt.Circle((x, y), r, color='c')\n    figure, axes = plt.subplots()\n    axes.add_patch(circle)\n\n    plt.plot([x, x + r * np.cos(theta)], [y, y + r * np.sin(theta)], linestyle='-', color='k')\n\ndef matrixPhase(matrix):\n    # MATRIX assumed to have complex numbers with magnitude at most 1\n    # MATRIX also assumed to be square\n\n    array = np.asarray(matrix)\n    dim = array.shape[0]\n    rect_coords = [i/dim for i in range(dim+1)]\n\n    # Due to matrix indexing, i controls y-coodinate, j controls x-coordinate\n    for i in range(dim-1):\n        for j in range(dim-1):\n            # Use RECT_COORDS to find centers of the phase diagram circle\n            x = (rect_coords[j] + rect_coords[j+1]) / 2\n            y = 1 - (rect_coords[i] + rect_coords[i+1]) / 2\n\n            phasePlot(array[i][j], x, y, 1 / dim)\n    plt.xlim([0,1])\n    plt.ylim([0,1])\n    plt.show()",
    "id": "31c7f865a69048aea468bace9c93576f",
    "idx": 0,
    "time": "2021-02-05T06:57:17.648Z",
    "type": "execution"
   },
   {
    "id": "31c7f865a69048aea468bace9c93576f",
    "time": "2021-02-05T06:57:17.737Z",
    "type": "completion"
   },
   {
    "code": "matrixPhase([[1,0],[0,0]])",
    "id": "2525a6262d174fca8142f179e009cc05",
    "idx": 1,
    "time": "2021-02-05T06:57:17.972Z",
    "type": "execution"
   },
   {
    "id": "2525a6262d174fca8142f179e009cc05",
    "time": "2021-02-05T06:57:18.195Z",
    "type": "completion"
   },
   {
    "code": "import numpy as np\nimport matplotlib.pyplot as plt\n\ndef phasePlot(num, x, y, maxSize = 0):\n    # X and Y are coordinates of the center of the phase diagram\n\n    r = np.abs(num)\n    if maxSize:\n        r = r / maxSize\n    theta = np.angle(num)\n\n    circle = plt.Circle((x, y), r, color='c')\n    figure, axes = plt.subplots()\n    axes.add_patch(circle)\n\n    plt.plot([x, x + r * np.cos(theta)], [y, y + r * np.sin(theta)], linestyle='-', color='k')\n\ndef matrixPhase(matrix):\n    # MATRIX assumed to have complex numbers with magnitude at most 1\n    # MATRIX also assumed to be square\n\n    array = np.asarray(matrix)\n    dim = array.shape[0]\n    rect_coords = [i/dim for i in range(dim+1)]\n\n    # Due to matrix indexing, i controls y-coodinate, j controls x-coordinate\n    for i in range(dim-1):\n        for j in range(dim-1):\n            # Use RECT_COORDS to find centers of the phase diagram circle\n            x = (rect_coords[j] + rect_coords[j+1]) / 2\n            y = 1 - (rect_coords[i] + rect_coords[i+1]) / 2\n\n            phasePlot(array[i][j], x, y, 1 / dim)\n    plt.xlim([0,1])\n    plt.ylim([0,1])\n    plt.show()",
    "id": "31c7f865a69048aea468bace9c93576f",
    "idx": 0,
    "time": "2021-02-05T06:57:33.057Z",
    "type": "execution"
   },
   {
    "id": "31c7f865a69048aea468bace9c93576f",
    "time": "2021-02-05T06:57:33.146Z",
    "type": "completion"
   },
   {
    "code": "matrixPhase([[1,0],[0,0]])",
    "id": "2525a6262d174fca8142f179e009cc05",
    "idx": 1,
    "time": "2021-02-05T06:57:33.528Z",
    "type": "execution"
   },
   {
    "id": "2525a6262d174fca8142f179e009cc05",
    "time": "2021-02-05T06:57:33.755Z",
    "type": "completion"
   },
   {
    "code": "bool(1/2)",
    "id": "04baddbf64c446958f3a9279718cabf7",
    "idx": 2,
    "time": "2021-02-05T06:57:48.139Z",
    "type": "execution"
   },
   {
    "id": "04baddbf64c446958f3a9279718cabf7",
    "time": "2021-02-05T06:57:48.228Z",
    "type": "completion"
   },
   {
    "code": "bool(0)",
    "id": "f2fc3793b44a450c825eb7b6beec1920",
    "idx": 3,
    "time": "2021-02-05T06:57:51.435Z",
    "type": "execution"
   },
   {
    "id": "f2fc3793b44a450c825eb7b6beec1920",
    "time": "2021-02-05T06:57:51.520Z",
    "type": "completion"
   },
   {
    "code": "import numpy as np\nimport matplotlib.pyplot as plt\n\ndef phasePlot(num, x, y, maxSize = 0):\n    # X and Y are coordinates of the center of the phase diagram\n\n    r = np.abs(num)\n    if maxSize:\n        r = r / maxSize\n    theta = np.angle(num)\n\n    circle = plt.Circle((x, y), r, color='c')\n    figure, axes = plt.subplots()\n    axes.add_patch(circle)\n\n    plt.plot([x, x + r * np.cos(theta)], [y, y + r * np.sin(theta)], linestyle='-', color='k')\n\ndef matrixPhase(matrix):\n    # MATRIX assumed to have complex numbers with magnitude at most 1\n    # MATRIX also assumed to be square\n\n    array = np.asarray(matrix)\n    dim = array.shape[0]\n    rect_coords = [i/dim for i in range(dim+1)]\n\n    # Due to matrix indexing, i controls y-coodinate, j controls x-coordinate\n    for i in range(dim-1):\n        for j in range(dim-1):\n            # Use RECT_COORDS to find centers of the phase diagram circle\n            x = (rect_coords[j] + rect_coords[j+1]) / 2\n            y = 1 - (rect_coords[i] + rect_coords[i+1]) / 2\n\n            phasePlot(array[i][j], x, y, (1 / dim)\n    plt.xlim([0,1])\n    plt.ylim([0,1])\n    plt.show()",
    "id": "31c7f865a69048aea468bace9c93576f",
    "idx": 0,
    "time": "2021-02-05T06:58:02.203Z",
    "type": "execution"
   },
   {
    "id": "31c7f865a69048aea468bace9c93576f",
    "time": "2021-02-05T06:58:02.289Z",
    "type": "completion"
   },
   {
    "code": "import numpy as np\nimport matplotlib.pyplot as plt\n\ndef phasePlot(num, x, y, maxSize = 0):\n    # X and Y are coordinates of the center of the phase diagram\n\n    r = np.abs(num)\n    if maxSize:\n        r = r / maxSize\n    theta = np.angle(num)\n\n    circle = plt.Circle((x, y), r, color='c')\n    figure, axes = plt.subplots()\n    axes.add_patch(circle)\n\n    plt.plot([x, x + r * np.cos(theta)], [y, y + r * np.sin(theta)], linestyle='-', color='k')\n\ndef matrixPhase(matrix):\n    # MATRIX assumed to have complex numbers with magnitude at most 1\n    # MATRIX also assumed to be square\n\n    array = np.asarray(matrix)\n    dim = array.shape[0]\n    rect_coords = [i/dim for i in range(dim+1)]\n\n    # Due to matrix indexing, i controls y-coodinate, j controls x-coordinate\n    for i in range(dim-1):\n        for j in range(dim-1):\n            # Use RECT_COORDS to find centers of the phase diagram circle\n            x = (rect_coords[j] + rect_coords[j+1]) / 2\n            y = 1 - (rect_coords[i] + rect_coords[i+1]) / 2\n\n            phasePlot(array[i][j], x, y, (1 / dim))\n    plt.xlim([0,1])\n    plt.ylim([0,1])\n    plt.show()",
    "id": "31c7f865a69048aea468bace9c93576f",
    "idx": 0,
    "time": "2021-02-05T06:58:05.594Z",
    "type": "execution"
   },
   {
    "id": "31c7f865a69048aea468bace9c93576f",
    "time": "2021-02-05T06:58:05.680Z",
    "type": "completion"
   },
   {
    "code": "matrixPhase([[1,0],[0,0]])",
    "id": "2525a6262d174fca8142f179e009cc05",
    "idx": 1,
    "time": "2021-02-05T06:58:06.435Z",
    "type": "execution"
   },
   {
    "id": "2525a6262d174fca8142f179e009cc05",
    "time": "2021-02-05T06:58:06.673Z",
    "type": "completion"
   },
   {
    "code": "matrixPhase([[0.5,0],[0,0]])",
    "id": "2525a6262d174fca8142f179e009cc05",
    "idx": 1,
    "time": "2021-02-05T06:58:15.975Z",
    "type": "execution"
   },
   {
    "code": "bool(1/2)",
    "id": "04baddbf64c446958f3a9279718cabf7",
    "idx": 2,
    "time": "2021-02-05T06:58:16.163Z",
    "type": "execution"
   },
   {
    "id": "2525a6262d174fca8142f179e009cc05",
    "time": "2021-02-05T06:58:16.209Z",
    "type": "completion"
   },
   {
    "id": "04baddbf64c446958f3a9279718cabf7",
    "time": "2021-02-05T06:58:16.260Z",
    "type": "completion"
   },
   {
    "code": "matrixPhase([[0.5,0],[0,0]])",
    "id": "2525a6262d174fca8142f179e009cc05",
    "idx": 1,
    "time": "2021-02-05T06:58:18.276Z",
    "type": "execution"
   },
   {
    "id": "2525a6262d174fca8142f179e009cc05",
    "time": "2021-02-05T06:58:18.502Z",
    "type": "completion"
   },
   {
    "code": "matrixPhase([[0,0],[0,0]])",
    "id": "2525a6262d174fca8142f179e009cc05",
    "idx": 1,
    "time": "2021-02-05T06:58:37.869Z",
    "type": "execution"
   },
   {
    "id": "2525a6262d174fca8142f179e009cc05",
    "time": "2021-02-05T06:58:38.099Z",
    "type": "completion"
   },
   {
    "code": "matrixPhase([[0.3,0],[0,0]])",
    "id": "2525a6262d174fca8142f179e009cc05",
    "idx": 1,
    "time": "2021-02-05T06:58:41.567Z",
    "type": "execution"
   },
   {
    "id": "2525a6262d174fca8142f179e009cc05",
    "time": "2021-02-05T06:58:41.800Z",
    "type": "completion"
   },
   {
    "code": "np.abs(0.3)",
    "id": "fa93e570401c463b9383ede9cdc1f794",
    "idx": 4,
    "time": "2021-02-05T06:58:50.232Z",
    "type": "execution"
   },
   {
    "id": "fa93e570401c463b9383ede9cdc1f794",
    "time": "2021-02-05T06:58:50.317Z",
    "type": "completion"
   },
   {
    "code": "np.abs(0.3.j)",
    "id": "29d7e0e374ee41cc89e60f49be3695da",
    "idx": 5,
    "time": "2021-02-05T06:58:59.148Z",
    "type": "execution"
   },
   {
    "id": "29d7e0e374ee41cc89e60f49be3695da",
    "time": "2021-02-05T06:58:59.303Z",
    "type": "completion"
   },
   {
    "code": "np.abs(0.3j)",
    "id": "29d7e0e374ee41cc89e60f49be3695da",
    "idx": 5,
    "time": "2021-02-05T06:59:08.233Z",
    "type": "execution"
   },
   {
    "id": "29d7e0e374ee41cc89e60f49be3695da",
    "time": "2021-02-05T06:59:08.326Z",
    "type": "completion"
   },
   {
    "code": "np.abs(1+0.3j)",
    "id": "29d7e0e374ee41cc89e60f49be3695da",
    "idx": 5,
    "time": "2021-02-05T06:59:13.400Z",
    "type": "execution"
   },
   {
    "id": "29d7e0e374ee41cc89e60f49be3695da",
    "time": "2021-02-05T06:59:13.495Z",
    "type": "completion"
   },
   {
    "code": "import numpy as np\nimport matplotlib.pyplot as plt",
    "id": "a173dcab21dd4cbb939b0a734bb59058",
    "idx": 0,
    "time": "2021-02-05T06:59:44.005Z",
    "type": "execution"
   },
   {
    "id": "a173dcab21dd4cbb939b0a734bb59058",
    "time": "2021-02-05T06:59:44.085Z",
    "type": "completion"
   },
   {
    "code": "import numpy as np\nimport matplotlib.pyplot as plt",
    "id": "a173dcab21dd4cbb939b0a734bb59058",
    "idx": 0,
    "time": "2021-02-05T07:00:17.751Z",
    "type": "execution"
   },
   {
    "id": "a173dcab21dd4cbb939b0a734bb59058",
    "time": "2021-02-05T07:00:18.219Z",
    "type": "completion"
   },
   {
    "code": "def phasePlot(num, x, y, maxSize = 0):\n    # X and Y are coordinates of the center of the phase diagram\n\n    r = np.abs(num)\n    if maxSize:\n        r = r / maxSize\n    theta = np.angle(num)\n\n    circle = plt.Circle((x, y), r, color='c')\n    figure, axes = plt.subplots()\n    axes.add_patch(circle)\n\n    plt.plot([x, x + r * np.cos(theta)], [y, y + r * np.sin(theta)], linestyle='-', color='k')",
    "id": "fb7b56f9b64c404890f3be9959c6049e",
    "idx": 1,
    "time": "2021-02-05T07:00:19.019Z",
    "type": "execution"
   },
   {
    "id": "fb7b56f9b64c404890f3be9959c6049e",
    "time": "2021-02-05T07:00:19.130Z",
    "type": "completion"
   },
   {
    "code": "def matrixPhase(matrix):\n    # MATRIX assumed to have complex numbers with magnitude at most 1\n    # MATRIX also assumed to be square\n\n    array = np.asarray(matrix)\n    dim = array.shape[0]\n    rect_coords = [i/dim for i in range(dim+1)]\n\n    # Due to matrix indexing, i controls y-coodinate, j controls x-coordinate\n    for i in range(dim-1):\n        for j in range(dim-1):\n            # Use RECT_COORDS to find centers of the phase diagram circle\n            x = (rect_coords[j] + rect_coords[j+1]) / 2\n            y = 1 - (rect_coords[i] + rect_coords[i+1]) / 2\n\n            phasePlot(array[i][j], x, y, (1 / dim))\n    plt.xlim([0,1])\n    plt.ylim([0,1])\n    plt.show()",
    "id": "55a942bac87a4e038bc4aecda6030249",
    "idx": 2,
    "time": "2021-02-05T07:00:19.896Z",
    "type": "execution"
   },
   {
    "id": "55a942bac87a4e038bc4aecda6030249",
    "time": "2021-02-05T07:00:19.985Z",
    "type": "completion"
   },
   {
    "code": "matrixPhase([[0.3,0],[0,0]])",
    "id": "2525a6262d174fca8142f179e009cc05",
    "idx": 3,
    "time": "2021-02-05T07:00:20.879Z",
    "type": "execution"
   },
   {
    "id": "2525a6262d174fca8142f179e009cc05",
    "time": "2021-02-05T07:00:21.143Z",
    "type": "completion"
   },
   {
    "code": "1/2",
    "id": "3c254d2a3d0244e9b911e05d12a59f23",
    "idx": 4,
    "time": "2021-02-05T07:02:02.325Z",
    "type": "execution"
   },
   {
    "id": "3c254d2a3d0244e9b911e05d12a59f23",
    "time": "2021-02-05T07:02:02.417Z",
    "type": "completion"
   },
   {
    "code": "1/3",
    "id": "9be79b2f73264056881766bf34babe8d",
    "idx": 5,
    "time": "2021-02-05T07:02:06.479Z",
    "type": "execution"
   },
   {
    "id": "9be79b2f73264056881766bf34babe8d",
    "time": "2021-02-05T07:02:06.566Z",
    "type": "completion"
   },
   {
    "code": "def phasePlot(num, x, y, maxSize = 0):\n    # X and Y are coordinates of the center of the phase diagram\n\n    r = np.abs(num)\n    if maxSize:\n        r = r * maxSize\n    theta = np.angle(num)\n\n    circle = plt.Circle((x, y), r, color='c')\n    figure, axes = plt.subplots()\n    axes.add_patch(circle)\n\n    plt.plot([x, x + r * np.cos(theta)], [y, y + r * np.sin(theta)], linestyle='-', color='k')",
    "id": "fb7b56f9b64c404890f3be9959c6049e",
    "idx": 1,
    "time": "2021-02-05T07:02:20.776Z",
    "type": "execution"
   },
   {
    "id": "fb7b56f9b64c404890f3be9959c6049e",
    "time": "2021-02-05T07:02:20.855Z",
    "type": "completion"
   },
   {
    "code": "def matrixPhase(matrix):\n    # MATRIX assumed to have complex numbers with magnitude at most 1\n    # MATRIX also assumed to be square\n\n    array = np.asarray(matrix)\n    dim = array.shape[0]\n    rect_coords = [i/dim for i in range(dim+1)]\n\n    # Due to matrix indexing, i controls y-coodinate, j controls x-coordinate\n    for i in range(dim-1):\n        for j in range(dim-1):\n            # Use RECT_COORDS to find centers of the phase diagram circle\n            x = (rect_coords[j] + rect_coords[j+1]) / 2\n            y = 1 - (rect_coords[i] + rect_coords[i+1]) / 2\n\n            phasePlot(array[i][j], x, y, (1 / dim))\n    plt.xlim([0,1])\n    plt.ylim([0,1])\n    plt.show()",
    "id": "55a942bac87a4e038bc4aecda6030249",
    "idx": 2,
    "time": "2021-02-05T07:02:21.331Z",
    "type": "execution"
   },
   {
    "id": "55a942bac87a4e038bc4aecda6030249",
    "time": "2021-02-05T07:02:21.415Z",
    "type": "completion"
   },
   {
    "code": "matrixPhase([[0.3,0],[0,0]])",
    "id": "2525a6262d174fca8142f179e009cc05",
    "idx": 3,
    "time": "2021-02-05T07:02:22.103Z",
    "type": "execution"
   },
   {
    "id": "2525a6262d174fca8142f179e009cc05",
    "time": "2021-02-05T07:02:22.347Z",
    "type": "completion"
   },
   {
    "code": "matrixPhase([[0.25,0],[0,0]])",
    "id": "2525a6262d174fca8142f179e009cc05",
    "idx": 3,
    "time": "2021-02-05T07:02:35.080Z",
    "type": "execution"
   },
   {
    "id": "2525a6262d174fca8142f179e009cc05",
    "time": "2021-02-05T07:02:35.303Z",
    "type": "completion"
   },
   {
    "code": "1/2",
    "id": "3c254d2a3d0244e9b911e05d12a59f23",
    "idx": 4,
    "time": "2021-02-05T07:02:35.485Z",
    "type": "execution"
   },
   {
    "id": "3c254d2a3d0244e9b911e05d12a59f23",
    "time": "2021-02-05T07:02:35.565Z",
    "type": "completion"
   },
   {
    "code": "matrixPhase([[1,0],[0,0]])",
    "id": "2525a6262d174fca8142f179e009cc05",
    "idx": 3,
    "time": "2021-02-05T07:02:43.646Z",
    "type": "execution"
   },
   {
    "id": "2525a6262d174fca8142f179e009cc05",
    "time": "2021-02-05T07:02:43.878Z",
    "type": "completion"
   },
   {
    "code": "def phasePlot(num, x, y, maxSize = 0):\n    # X and Y are coordinates of the center of the phase diagram\n\n    r = np.abs(num)\n    if maxSize:\n        r = r * maxSize / 2\n    theta = np.angle(num)\n\n    circle = plt.Circle((x, y), r, color='c')\n    figure, axes = plt.subplots()\n    axes.add_patch(circle)\n\n    plt.plot([x, x + r * np.cos(theta)], [y, y + r * np.sin(theta)], linestyle='-', color='k')",
    "id": "fb7b56f9b64c404890f3be9959c6049e",
    "idx": 1,
    "time": "2021-02-05T07:03:11.469Z",
    "type": "execution"
   },
   {
    "id": "fb7b56f9b64c404890f3be9959c6049e",
    "time": "2021-02-05T07:03:11.553Z",
    "type": "completion"
   },
   {
    "code": "def matrixPhase(matrix):\n    # MATRIX assumed to have complex numbers with magnitude at most 1\n    # MATRIX also assumed to be square\n\n    array = np.asarray(matrix)\n    dim = array.shape[0]\n    rect_coords = [i/dim for i in range(dim+1)]\n\n    # Due to matrix indexing, i controls y-coodinate, j controls x-coordinate\n    for i in range(dim-1):\n        for j in range(dim-1):\n            # Use RECT_COORDS to find centers of the phase diagram circle\n            x = (rect_coords[j] + rect_coords[j+1]) / 2\n            y = 1 - (rect_coords[i] + rect_coords[i+1]) / 2\n\n            phasePlot(array[i][j], x, y, (1 / dim))\n    plt.xlim([0,1])\n    plt.ylim([0,1])\n    plt.show()",
    "id": "55a942bac87a4e038bc4aecda6030249",
    "idx": 2,
    "time": "2021-02-05T07:03:11.806Z",
    "type": "execution"
   },
   {
    "id": "55a942bac87a4e038bc4aecda6030249",
    "time": "2021-02-05T07:03:11.886Z",
    "type": "completion"
   },
   {
    "code": "matrixPhase([[1,0],[0,0]])",
    "id": "2525a6262d174fca8142f179e009cc05",
    "idx": 3,
    "time": "2021-02-05T07:03:12.210Z",
    "type": "execution"
   },
   {
    "id": "2525a6262d174fca8142f179e009cc05",
    "time": "2021-02-05T07:03:12.452Z",
    "type": "completion"
   },
   {
    "code": "matrixPhase([[0.5,0],[0,0]])",
    "id": "2525a6262d174fca8142f179e009cc05",
    "idx": 3,
    "time": "2021-02-05T07:03:19.060Z",
    "type": "execution"
   },
   {
    "id": "2525a6262d174fca8142f179e009cc05",
    "time": "2021-02-05T07:03:19.289Z",
    "type": "completion"
   },
   {
    "code": "matrixPhase([[1,0.3],[0.1,0.8]])",
    "id": "2525a6262d174fca8142f179e009cc05",
    "idx": 3,
    "time": "2021-02-05T07:03:43.953Z",
    "type": "execution"
   },
   {
    "id": "2525a6262d174fca8142f179e009cc05",
    "time": "2021-02-05T07:03:44.176Z",
    "type": "completion"
   },
   {
    "code": "def phasePlot(num, x, y, maxSize = 0):\n    # X and Y are coordinates of the center of the phase diagram\n\n    r = np.abs(num)\n    if maxSize:\n        r = r * maxSize / 2\n    theta = np.angle(num)\n\n    circle = plt.Circle((x, y), r, color='c')\n    figure, axes = plt.subplots()\n    axes.add_patch(circle)\n\n    plt.plot([x, x + r * np.cos(theta)], [y, y + r * np.sin(theta)], linestyle='-', color='k')",
    "id": "fb7b56f9b64c404890f3be9959c6049e",
    "idx": 1,
    "time": "2021-02-05T07:03:51.891Z",
    "type": "execution"
   },
   {
    "id": "fb7b56f9b64c404890f3be9959c6049e",
    "time": "2021-02-05T07:03:51.975Z",
    "type": "completion"
   },
   {
    "code": "def matrixPhase(matrix):\n    # MATRIX assumed to have complex numbers with magnitude at most 1\n    # MATRIX also assumed to be square\n\n    array = np.asarray(matrix)\n    dim = array.shape[0]\n    rect_coords = [i/dim for i in range(dim+1)]\n\n    # Due to matrix indexing, i controls y-coodinate, j controls x-coordinate\n    for i in range(dim-1):\n        for j in range(dim-1):\n            # Use RECT_COORDS to find centers of the phase diagram circle\n            x = (rect_coords[j] + rect_coords[j+1]) / 2\n            y = 1 - (rect_coords[i] + rect_coords[i+1]) / 2\n\n            phasePlot(array[i][j], x, y, (1 / dim))\n    plt.xlim([0,1])\n    plt.ylim([0,1])\n    plt.show()",
    "id": "55a942bac87a4e038bc4aecda6030249",
    "idx": 2,
    "time": "2021-02-05T07:03:52.362Z",
    "type": "execution"
   },
   {
    "id": "55a942bac87a4e038bc4aecda6030249",
    "time": "2021-02-05T07:03:52.451Z",
    "type": "completion"
   },
   {
    "code": "matrixPhase([[1,0.3],[0.1,0.8]])",
    "id": "2525a6262d174fca8142f179e009cc05",
    "idx": 3,
    "time": "2021-02-05T07:03:52.820Z",
    "type": "execution"
   },
   {
    "id": "2525a6262d174fca8142f179e009cc05",
    "time": "2021-02-05T07:03:53.047Z",
    "type": "completion"
   },
   {
    "code": "matrixPhase([[1,0.3],[0,0]])",
    "id": "2525a6262d174fca8142f179e009cc05",
    "idx": 3,
    "time": "2021-02-05T07:04:08.595Z",
    "type": "execution"
   },
   {
    "id": "2525a6262d174fca8142f179e009cc05",
    "time": "2021-02-05T07:04:08.827Z",
    "type": "completion"
   },
   {
    "code": "import numpy as np\nimport matplotlib.pyplot as plt",
    "id": "a173dcab21dd4cbb939b0a734bb59058",
    "idx": 0,
    "time": "2021-02-05T07:04:23.259Z",
    "type": "execution"
   },
   {
    "id": "a173dcab21dd4cbb939b0a734bb59058",
    "time": "2021-02-05T07:04:23.731Z",
    "type": "completion"
   },
   {
    "code": "def phasePlot(num, x, y, maxSize = 0):\n    # X and Y are coordinates of the center of the phase diagram\n\n    r = np.abs(num)\n    if maxSize:\n        r = r * maxSize / 2\n    theta = np.angle(num)\n\n    circle = plt.Circle((x, y), r, color='c')\n    figure, axes = plt.subplots()\n    axes.add_patch(circle)\n\n    plt.plot([x, x + r * np.cos(theta)], [y, y + r * np.sin(theta)], linestyle='-', color='k')",
    "id": "fb7b56f9b64c404890f3be9959c6049e",
    "idx": 1,
    "time": "2021-02-05T07:04:23.949Z",
    "type": "execution"
   },
   {
    "id": "fb7b56f9b64c404890f3be9959c6049e",
    "time": "2021-02-05T07:04:24.070Z",
    "type": "completion"
   },
   {
    "code": "def matrixPhase(matrix):\n    # MATRIX assumed to have complex numbers with magnitude at most 1\n    # MATRIX also assumed to be square\n\n    array = np.asarray(matrix)\n    dim = array.shape[0]\n    rect_coords = [i/dim for i in range(dim+1)]\n\n    # Due to matrix indexing, i controls y-coodinate, j controls x-coordinate\n    for i in range(dim-1):\n        for j in range(dim-1):\n            # Use RECT_COORDS to find centers of the phase diagram circle\n            x = (rect_coords[j] + rect_coords[j+1]) / 2\n            y = 1 - (rect_coords[i] + rect_coords[i+1]) / 2\n\n            phasePlot(array[i][j], x, y, (1 / dim))\n    plt.xlim([0,1])\n    plt.ylim([0,1])\n    plt.show()",
    "id": "55a942bac87a4e038bc4aecda6030249",
    "idx": 2,
    "time": "2021-02-05T07:04:24.939Z",
    "type": "execution"
   },
   {
    "id": "55a942bac87a4e038bc4aecda6030249",
    "time": "2021-02-05T07:04:25.119Z",
    "type": "completion"
   },
   {
    "code": "matrixPhase([[1,0.3],[0.1,0.8]])",
    "id": "2525a6262d174fca8142f179e009cc05",
    "idx": 3,
    "time": "2021-02-05T07:04:25.766Z",
    "type": "execution"
   },
   {
    "id": "2525a6262d174fca8142f179e009cc05",
    "time": "2021-02-05T07:04:26.050Z",
    "type": "completion"
   },
   {
    "code": "def matrixPhase(matrix):\n    # MATRIX assumed to have complex numbers with magnitude at most 1\n    # MATRIX also assumed to be square\n\n    array = np.asarray(matrix)\n    dim = array.shape[0]\n    rect_coords = [i/dim for i in range(dim+1)]\n\n    # Due to matrix indexing, i controls y-coodinate, j controls x-coordinate\n    for i in range(dim):\n        for j in range(dim):\n            # Use RECT_COORDS to find centers of the phase diagram circle\n            x = (rect_coords[j] + rect_coords[j+1]) / 2\n            y = 1 - (rect_coords[i] + rect_coords[i+1]) / 2\n\n            phasePlot(array[i][j], x, y, (1 / dim))\n    plt.xlim([0,1])\n    plt.ylim([0,1])\n    plt.show()",
    "id": "55a942bac87a4e038bc4aecda6030249",
    "idx": 2,
    "time": "2021-02-05T07:05:02.214Z",
    "type": "execution"
   },
   {
    "id": "55a942bac87a4e038bc4aecda6030249",
    "time": "2021-02-05T07:05:02.294Z",
    "type": "completion"
   },
   {
    "code": "matrixPhase([[1,0.3],[0.1,0.8]])",
    "id": "2525a6262d174fca8142f179e009cc05",
    "idx": 3,
    "time": "2021-02-05T07:05:02.700Z",
    "type": "execution"
   },
   {
    "id": "2525a6262d174fca8142f179e009cc05",
    "time": "2021-02-05T07:05:03.373Z",
    "type": "completion"
   },
   {
    "code": "def matrixPhase(matrix):\n    # MATRIX assumed to have complex numbers with magnitude at most 1\n    # MATRIX also assumed to be square\n\n    array = np.asarray(matrix)\n    dim = array.shape[0]\n    rect_coords = [i/dim for i in range(dim+1)]\n\n    # Due to matrix indexing, i controls y-coodinate, j controls x-coordinate\n    for i in range(dim):\n        for j in range(dim):\n            # Use RECT_COORDS to find centers of the phase diagram circle\n            x = (rect_coords[j] + rect_coords[j+1]) / 2\n            y = 1 - (rect_coords[i] + rect_coords[i+1]) / 2\n\n            phasePlot(array[i][j], x, y, (1 / dim))\n            plt.xlim([0,1])\n            plt.ylim([0,1])\n            plt.show()",
    "id": "55a942bac87a4e038bc4aecda6030249",
    "idx": 2,
    "time": "2021-02-05T07:05:33.288Z",
    "type": "execution"
   },
   {
    "id": "55a942bac87a4e038bc4aecda6030249",
    "time": "2021-02-05T07:05:33.383Z",
    "type": "completion"
   },
   {
    "code": "matrixPhase([[1,0.3],[0.1,0.8]])",
    "id": "2525a6262d174fca8142f179e009cc05",
    "idx": 3,
    "time": "2021-02-05T07:05:34.273Z",
    "type": "execution"
   },
   {
    "id": "2525a6262d174fca8142f179e009cc05",
    "time": "2021-02-05T07:05:34.995Z",
    "type": "completion"
   },
   {
    "code": "def phasePlot(num, x, y, maxSize = 0):\n    # X and Y are coordinates of the center of the phase diagram\n\n    r = np.abs(num)\n    if maxSize:\n        r = r * maxSize / 2\n    theta = np.angle(num)\n\n    circle = plt.Circle((x, y), r, color='c')\n    figure, axes = plt.subplots()\n    axes.add_patch(circle)\n\n    plt.plot([x, x + r * np.cos(theta)], [y, y + r * np.sin(theta)], linestyle='-', color='k')",
    "id": "fb7b56f9b64c404890f3be9959c6049e",
    "idx": 1,
    "time": "2021-02-05T07:06:42.158Z",
    "type": "execution"
   },
   {
    "id": "fb7b56f9b64c404890f3be9959c6049e",
    "time": "2021-02-05T07:06:42.246Z",
    "type": "completion"
   },
   {
    "code": "def phasePlot(num, x, y, maxSize = 0):\n    # X and Y are coordinates of the center of the phase diagram\n    # Returns a circle that can be plotted\n\n    r = np.abs(num)\n    if maxSize:\n        r = r * maxSize / 2\n    theta = np.angle(num)\n\n    circle = plt.Circle((x, y), r, color='c')\n    axes.add_patch(circle)\n\n    plt.plot([x, x + r * np.cos(theta)], [y, y + r * np.sin(theta)], linestyle='-', color='k')",
    "id": "fb7b56f9b64c404890f3be9959c6049e",
    "idx": 1,
    "time": "2021-02-05T07:08:59.306Z",
    "type": "execution"
   },
   {
    "id": "fb7b56f9b64c404890f3be9959c6049e",
    "time": "2021-02-05T07:08:59.407Z",
    "type": "completion"
   },
   {
    "code": "def matrixPhase(matrix):\n    # MATRIX assumed to have complex numbers with magnitude at most 1\n    # MATRIX also assumed to be square\n\n    array = np.asarray(matrix)\n    dim = array.shape[0]\n    rect_coords = [i/dim for i in range(dim+1)]\n    #figure, axes = plt.subplots()\n\n    # Due to matrix indexing, i controls y-coodinate, j controls x-coordinate\n    for i in range(dim):\n        for j in range(dim):\n            # Use RECT_COORDS to find centers of the phase diagram circle\n            x = (rect_coords[j] + rect_coords[j+1]) / 2\n            y = 1 - (rect_coords[i] + rect_coords[i+1]) / 2\n\n            phasePlot(array[i][j], x, y, (1 / dim))\n            plt.xlim([0,1])\n            plt.ylim([0,1])\n            plt.show()",
    "id": "55a942bac87a4e038bc4aecda6030249",
    "idx": 2,
    "time": "2021-02-05T07:08:59.549Z",
    "type": "execution"
   },
   {
    "id": "55a942bac87a4e038bc4aecda6030249",
    "time": "2021-02-05T07:08:59.628Z",
    "type": "completion"
   },
   {
    "code": "matrixPhase([[1,0.3],[0.1,0.8]])",
    "id": "2525a6262d174fca8142f179e009cc05",
    "idx": 3,
    "time": "2021-02-05T07:09:00.284Z",
    "type": "execution"
   },
   {
    "id": "2525a6262d174fca8142f179e009cc05",
    "time": "2021-02-05T07:09:00.445Z",
    "type": "completion"
   },
   {
    "code": "import numpy as np\nimport matplotlib.pyplot as plt",
    "id": "a173dcab21dd4cbb939b0a734bb59058",
    "idx": 0,
    "time": "2021-02-05T07:10:30.923Z",
    "type": "execution"
   },
   {
    "id": "a173dcab21dd4cbb939b0a734bb59058",
    "time": "2021-02-05T07:10:31.000Z",
    "type": "completion"
   },
   {
    "code": "def matrixPhase(matrix):\n    # MATRIX assumed to have complex numbers with magnitude at most 1\n    # MATRIX also assumed to be square\n\n    array = np.asarray(matrix)\n    dim = array.shape[0]\n    rect_coords = [i/dim for i in range(dim+1)]\n    #figure, axes = plt.subplots()\n\n    # Due to matrix indexing, i controls y-coodinate, j controls x-coordinate\n    for i in range(dim):\n        for j in range(dim):\n            # Use RECT_COORDS to find centers of the phase diagram circle\n            x = (rect_coords[j] + rect_coords[j+1]) / 2\n            y = 1 - (rect_coords[i] + rect_coords[i+1]) / 2\n            \n            r = np.abs(num)\n            if maxSize:\n                r = r * maxSize / 2\n            theta = np.angle(num)\n\n            circle = plt.Circle((x, y), r, color='c')\n            axes.add_patch(circle)\n            plt.plot([x, x + r * np.cos(theta)], [y, y + r * np.sin(theta)], linestyle='-', color='k')\n            \n            plt.xlim([0,1])\n            plt.ylim([0,1])\n            plt.show()",
    "id": "55a942bac87a4e038bc4aecda6030249",
    "idx": 2,
    "time": "2021-02-05T07:10:32.597Z",
    "type": "execution"
   },
   {
    "id": "55a942bac87a4e038bc4aecda6030249",
    "time": "2021-02-05T07:10:32.677Z",
    "type": "completion"
   },
   {
    "code": "matrixPhase([[1,0.3],[0.1,0.8]])",
    "id": "2525a6262d174fca8142f179e009cc05",
    "idx": 3,
    "time": "2021-02-05T07:10:33.016Z",
    "type": "execution"
   },
   {
    "id": "2525a6262d174fca8142f179e009cc05",
    "time": "2021-02-05T07:10:33.107Z",
    "type": "completion"
   },
   {
    "code": "def matrixPhase(matrix):\n    # MATRIX assumed to have complex numbers with magnitude at most 1\n    # MATRIX also assumed to be square\n\n    array = np.asarray(matrix)\n    dim = array.shape[0]\n    rect_coords = [i/dim for i in range(dim+1)]\n    #figure, axes = plt.subplots()\n\n    # Due to matrix indexing, i controls y-coodinate, j controls x-coordinate\n    for i in range(dim):\n        for j in range(dim):\n            # Use RECT_COORDS to find centers of the phase diagram circle\n            x = (rect_coords[j] + rect_coords[j+1]) / 2\n            y = 1 - (rect_coords[i] + rect_coords[i+1]) / 2\n            \n            r = np.abs(num)\n            if maxSize:\n                r = r * 1 / dim / 2\n            theta = np.angle(num)\n\n            circle = plt.Circle((x, y), r, color='c')\n            axes.add_patch(circle)\n            plt.plot([x, x + r * np.cos(theta)], [y, y + r * np.sin(theta)], linestyle='-', color='k')\n            \n            plt.xlim([0,1])\n            plt.ylim([0,1])\n            plt.show()",
    "id": "55a942bac87a4e038bc4aecda6030249",
    "idx": 2,
    "time": "2021-02-05T07:10:50.830Z",
    "type": "execution"
   },
   {
    "id": "55a942bac87a4e038bc4aecda6030249",
    "time": "2021-02-05T07:10:50.910Z",
    "type": "completion"
   },
   {
    "code": "matrixPhase([[1,0.3],[0.1,0.8]])",
    "id": "2525a6262d174fca8142f179e009cc05",
    "idx": 3,
    "time": "2021-02-05T07:10:51.070Z",
    "type": "execution"
   },
   {
    "id": "2525a6262d174fca8142f179e009cc05",
    "time": "2021-02-05T07:10:51.165Z",
    "type": "completion"
   },
   {
    "code": "def matrixPhase(matrix):\n    # MATRIX assumed to have complex numbers with magnitude at most 1\n    # MATRIX also assumed to be square\n\n    array = np.asarray(matrix)\n    dim = array.shape[0]\n    rect_coords = [i/dim for i in range(dim+1)]\n    #figure, axes = plt.subplots()\n\n    # Due to matrix indexing, i controls y-coodinate, j controls x-coordinate\n    for i in range(dim):\n        for j in range(dim):\n            num = array[i][j]\n            \n            # Use RECT_COORDS to find centers of the phase diagram circle\n            x = (rect_coords[j] + rect_coords[j+1]) / 2\n            y = 1 - (rect_coords[i] + rect_coords[i+1]) / 2\n            \n            r = np.abs(num)\n            if maxSize:\n                r = r * 1 / dim / 2\n            theta = np.angle(num)\n\n            circle = plt.Circle((x, y), r, color='c')\n            axes.add_patch(circle)\n            plt.plot([x, x + r * np.cos(theta)], [y, y + r * np.sin(theta)], linestyle='-', color='k')\n            \n            plt.xlim([0,1])\n            plt.ylim([0,1])\n            plt.show()",
    "id": "55a942bac87a4e038bc4aecda6030249",
    "idx": 2,
    "time": "2021-02-05T07:11:24.621Z",
    "type": "execution"
   },
   {
    "id": "55a942bac87a4e038bc4aecda6030249",
    "time": "2021-02-05T07:11:24.714Z",
    "type": "completion"
   },
   {
    "code": "matrixPhase([[1,0.3],[0.1,0.8]])",
    "id": "2525a6262d174fca8142f179e009cc05",
    "idx": 3,
    "time": "2021-02-05T07:11:25.108Z",
    "type": "execution"
   },
   {
    "id": "2525a6262d174fca8142f179e009cc05",
    "time": "2021-02-05T07:11:25.199Z",
    "type": "completion"
   },
   {
    "code": "def matrixPhase(matrix):\n    # MATRIX assumed to have complex numbers with magnitude at most 1\n    # MATRIX also assumed to be square\n\n    array = np.asarray(matrix)\n    dim = array.shape[0]\n    rect_coords = [i/dim for i in range(dim+1)]\n    #figure, axes = plt.subplots()\n\n    # Due to matrix indexing, i controls y-coodinate, j controls x-coordinate\n    for i in range(dim):\n        for j in range(dim):\n            num = array[i][j]\n            \n            # Use RECT_COORDS to find centers of the phase diagram circle\n            x = (rect_coords[j] + rect_coords[j+1]) / 2\n            y = 1 - (rect_coords[i] + rect_coords[i+1]) / 2\n            \n            r = np.abs(num) * 1 / dim / 2\n            theta = np.angle(num)\n\n            circle = plt.Circle((x, y), r, color='c')\n            axes.add_patch(circle)\n            plt.plot([x, x + r * np.cos(theta)], [y, y + r * np.sin(theta)], linestyle='-', color='k')\n            \n            plt.xlim([0,1])\n            plt.ylim([0,1])\n            plt.show()",
    "id": "55a942bac87a4e038bc4aecda6030249",
    "idx": 2,
    "time": "2021-02-05T07:11:41.977Z",
    "type": "execution"
   },
   {
    "id": "55a942bac87a4e038bc4aecda6030249",
    "time": "2021-02-05T07:11:42.064Z",
    "type": "completion"
   },
   {
    "code": "matrixPhase([[1,0.3],[0.1,0.8]])",
    "id": "2525a6262d174fca8142f179e009cc05",
    "idx": 3,
    "time": "2021-02-05T07:11:42.487Z",
    "type": "execution"
   },
   {
    "id": "2525a6262d174fca8142f179e009cc05",
    "time": "2021-02-05T07:11:42.581Z",
    "type": "completion"
   },
   {
    "code": "def matrixPhase(matrix):\n    # MATRIX assumed to have complex numbers with magnitude at most 1\n    # MATRIX also assumed to be square\n\n    array = np.asarray(matrix)\n    dim = array.shape[0]\n    rect_coords = [i/dim for i in range(dim+1)]\n    figure, axes = plt.subplots()\n\n    # Due to matrix indexing, i controls y-coodinate, j controls x-coordinate\n    for i in range(dim):\n        for j in range(dim):\n            num = array[i][j]\n            \n            # Use RECT_COORDS to find centers of the phase diagram circle\n            x = (rect_coords[j] + rect_coords[j+1]) / 2\n            y = 1 - (rect_coords[i] + rect_coords[i+1]) / 2\n            \n            r = np.abs(num) * 1 / dim / 2\n            theta = np.angle(num)\n\n            circle = plt.Circle((x, y), r, color='c')\n            axes.add_patch(circle)\n            plt.plot([x, x + r * np.cos(theta)], [y, y + r * np.sin(theta)], linestyle='-', color='k')\n            \n            plt.xlim([0,1])\n            plt.ylim([0,1])\n            plt.show()",
    "id": "55a942bac87a4e038bc4aecda6030249",
    "idx": 2,
    "time": "2021-02-05T07:11:49.427Z",
    "type": "execution"
   },
   {
    "id": "55a942bac87a4e038bc4aecda6030249",
    "time": "2021-02-05T07:11:49.505Z",
    "type": "completion"
   },
   {
    "code": "matrixPhase([[1,0.3],[0.1,0.8]])",
    "id": "2525a6262d174fca8142f179e009cc05",
    "idx": 3,
    "time": "2021-02-05T07:11:49.629Z",
    "type": "execution"
   },
   {
    "id": "2525a6262d174fca8142f179e009cc05",
    "time": "2021-02-05T07:11:50.244Z",
    "type": "completion"
   },
   {
    "code": "def matrixPhase(matrix):\n    # MATRIX assumed to have complex numbers with magnitude at most 1\n    # MATRIX also assumed to be square\n\n    array = np.asarray(matrix)\n    dim = array.shape[0]\n    rect_coords = [i/dim for i in range(dim+1)]\n    #figure, axes = plt.subplots()\n\n    # Due to matrix indexing, i controls y-coodinate, j controls x-coordinate\n    for i in range(dim):\n        for j in range(dim):\n            num = array[i][j]\n            \n            # Use RECT_COORDS to find centers of the phase diagram circle\n            x = (rect_coords[j] + rect_coords[j+1]) / 2\n            y = 1 - (rect_coords[i] + rect_coords[i+1]) / 2\n            \n            r = np.abs(num) * 1 / dim / 2\n            theta = np.angle(num)\n\n            #circle = plt.Circle((x, y), r, color='c')\n            #axes.add_patch(circle)\n            plt.plot([x, x + r * np.cos(theta)], [y, y + r * np.sin(theta)], linestyle='-', color='k')\n            \n            plt.xlim([0,1])\n            plt.ylim([0,1])\n            plt.show()",
    "id": "55a942bac87a4e038bc4aecda6030249",
    "idx": 2,
    "time": "2021-02-05T07:12:34.577Z",
    "type": "execution"
   },
   {
    "id": "55a942bac87a4e038bc4aecda6030249",
    "time": "2021-02-05T07:12:34.659Z",
    "type": "completion"
   },
   {
    "code": "matrixPhase([[1,0.3],[0.1,0.8]])",
    "id": "2525a6262d174fca8142f179e009cc05",
    "idx": 3,
    "time": "2021-02-05T07:12:35.213Z",
    "type": "execution"
   },
   {
    "id": "2525a6262d174fca8142f179e009cc05",
    "time": "2021-02-05T07:12:35.833Z",
    "type": "completion"
   },
   {
    "code": "def matrixPhase(matrix):\n    # MATRIX assumed to have complex numbers with magnitude at most 1\n    # MATRIX also assumed to be square\n\n    array = np.asarray(matrix)\n    dim = array.shape[0]\n    rect_coords = [i/dim for i in range(dim+1)]\n    #figure, axes = plt.subplots()\n\n    # Due to matrix indexing, i controls y-coodinate, j controls x-coordinate\n    for i in range(dim):\n        for j in range(dim):\n            num = array[i][j]\n            \n            # Use RECT_COORDS to find centers of the phase diagram circle\n            x = (rect_coords[j] + rect_coords[j+1]) / 2\n            y = 1 - (rect_coords[i] + rect_coords[i+1]) / 2\n            \n            r = np.abs(num) * 1 / dim / 2\n            theta = np.angle(num)\n\n            #circle = plt.Circle((x, y), r, color='c')\n            #axes.add_patch(circle)\n            figure.plt.plot([x, x + r * np.cos(theta)], [y, y + r * np.sin(theta)], linestyle='-', color='k')\n            \n            plt.xlim([0,1])\n            plt.ylim([0,1])\n            plt.show()",
    "id": "55a942bac87a4e038bc4aecda6030249",
    "idx": 2,
    "time": "2021-02-05T07:13:33.618Z",
    "type": "execution"
   },
   {
    "id": "55a942bac87a4e038bc4aecda6030249",
    "time": "2021-02-05T07:13:33.729Z",
    "type": "completion"
   },
   {
    "code": "matrixPhase([[1,0.3],[0.1,0.8]])",
    "id": "2525a6262d174fca8142f179e009cc05",
    "idx": 3,
    "time": "2021-02-05T07:13:33.992Z",
    "type": "execution"
   },
   {
    "id": "2525a6262d174fca8142f179e009cc05",
    "time": "2021-02-05T07:13:34.087Z",
    "type": "completion"
   },
   {
    "code": "def matrixPhase(matrix):\n    # MATRIX assumed to have complex numbers with magnitude at most 1\n    # MATRIX also assumed to be square\n\n    array = np.asarray(matrix)\n    dim = array.shape[0]\n    rect_coords = [i/dim for i in range(dim+1)]\n    figure, axes = plt.subplots()\n\n    # Due to matrix indexing, i controls y-coodinate, j controls x-coordinate\n    for i in range(dim):\n        for j in range(dim):\n            num = array[i][j]\n            \n            # Use RECT_COORDS to find centers of the phase diagram circle\n            x = (rect_coords[j] + rect_coords[j+1]) / 2\n            y = 1 - (rect_coords[i] + rect_coords[i+1]) / 2\n            \n            r = np.abs(num) * 1 / dim / 2\n            theta = np.angle(num)\n\n            #circle = plt.Circle((x, y), r, color='c')\n            #axes.add_patch(circle)\n            figure.plt.plot([x, x + r * np.cos(theta)], [y, y + r * np.sin(theta)], linestyle='-', color='k')\n            \n            plt.xlim([0,1])\n            plt.ylim([0,1])\n            plt.show()",
    "id": "55a942bac87a4e038bc4aecda6030249",
    "idx": 2,
    "time": "2021-02-05T07:13:39.183Z",
    "type": "execution"
   },
   {
    "id": "55a942bac87a4e038bc4aecda6030249",
    "time": "2021-02-05T07:13:39.262Z",
    "type": "completion"
   },
   {
    "code": "matrixPhase([[1,0.3],[0.1,0.8]])",
    "id": "2525a6262d174fca8142f179e009cc05",
    "idx": 3,
    "time": "2021-02-05T07:13:39.392Z",
    "type": "execution"
   },
   {
    "id": "2525a6262d174fca8142f179e009cc05",
    "time": "2021-02-05T07:13:39.622Z",
    "type": "completion"
   },
   {
    "code": "def matrixPhase(matrix):\n    # MATRIX assumed to have complex numbers with magnitude at most 1\n    # MATRIX also assumed to be square\n\n    array = np.asarray(matrix)\n    dim = array.shape[0]\n    rect_coords = [i/dim for i in range(dim+1)]\n    figure, axes = plt.subplots()\n\n    # Due to matrix indexing, i controls y-coodinate, j controls x-coordinate\n    for i in range(dim):\n        for j in range(dim):\n            num = array[i][j]\n            \n            # Use RECT_COORDS to find centers of the phase diagram circle\n            x = (rect_coords[j] + rect_coords[j+1]) / 2\n            y = 1 - (rect_coords[i] + rect_coords[i+1]) / 2\n            \n            r = np.abs(num) * 1 / dim / 2\n            theta = np.angle(num)\n\n            #circle = plt.Circle((x, y), r, color='c')\n            #axes.add_patch(circle)\n            figure.plot([x, x + r * np.cos(theta)], [y, y + r * np.sin(theta)], linestyle='-', color='k')\n            \n            plt.xlim([0,1])\n            plt.ylim([0,1])\n            plt.show()",
    "id": "55a942bac87a4e038bc4aecda6030249",
    "idx": 2,
    "time": "2021-02-05T07:13:48.618Z",
    "type": "execution"
   },
   {
    "id": "55a942bac87a4e038bc4aecda6030249",
    "time": "2021-02-05T07:13:48.698Z",
    "type": "completion"
   },
   {
    "code": "matrixPhase([[1,0.3],[0.1,0.8]])",
    "id": "2525a6262d174fca8142f179e009cc05",
    "idx": 3,
    "time": "2021-02-05T07:13:49.108Z",
    "type": "execution"
   },
   {
    "id": "2525a6262d174fca8142f179e009cc05",
    "time": "2021-02-05T07:13:49.336Z",
    "type": "completion"
   },
   {
    "code": "def matrixPhase(matrix):\n    # MATRIX assumed to have complex numbers with magnitude at most 1\n    # MATRIX also assumed to be square\n\n    array = np.asarray(matrix)\n    dim = array.shape[0]\n    rect_coords = [i/dim for i in range(dim+1)]\n    figure, axes = plt.subplot()\n\n    # Due to matrix indexing, i controls y-coodinate, j controls x-coordinate\n    for i in range(dim):\n        for j in range(dim):\n            num = array[i][j]\n            \n            # Use RECT_COORDS to find centers of the phase diagram circle\n            x = (rect_coords[j] + rect_coords[j+1]) / 2\n            y = 1 - (rect_coords[i] + rect_coords[i+1]) / 2\n            \n            r = np.abs(num) * 1 / dim / 2\n            theta = np.angle(num)\n\n            #circle = plt.Circle((x, y), r, color='c')\n            #axes.add_patch(circle)\n            figure.plot([x, x + r * np.cos(theta)], [y, y + r * np.sin(theta)], linestyle='-', color='k')\n            \n            plt.xlim([0,1])\n            plt.ylim([0,1])\n            plt.show()",
    "id": "55a942bac87a4e038bc4aecda6030249",
    "idx": 2,
    "time": "2021-02-05T07:14:40.864Z",
    "type": "execution"
   },
   {
    "id": "55a942bac87a4e038bc4aecda6030249",
    "time": "2021-02-05T07:14:40.957Z",
    "type": "completion"
   },
   {
    "code": "matrixPhase([[1,0.3],[0.1,0.8]])",
    "id": "2525a6262d174fca8142f179e009cc05",
    "idx": 3,
    "time": "2021-02-05T07:14:41.668Z",
    "type": "execution"
   },
   {
    "id": "2525a6262d174fca8142f179e009cc05",
    "time": "2021-02-05T07:14:41.886Z",
    "type": "completion"
   },
   {
    "code": "def matrixPhase(matrix):\n    # MATRIX assumed to have complex numbers with magnitude at most 1\n    # MATRIX also assumed to be square\n\n    array = np.asarray(matrix)\n    dim = array.shape[0]\n    rect_coords = [i/dim for i in range(dim+1)]\n    figure, axes = plt.subplot()\n\n    # Due to matrix indexing, i controls y-coodinate, j controls x-coordinate\n    for i in range(dim):\n        for j in range(dim):\n            num = array[i][j]\n            \n            # Use RECT_COORDS to find centers of the phase diagram circle\n            x = (rect_coords[j] + rect_coords[j+1]) / 2\n            y = 1 - (rect_coords[i] + rect_coords[i+1]) / 2\n            \n            r = np.abs(num) * 1 / dim / 2\n            theta = np.angle(num)\n\n            #circle = plt.Circle((x, y), r, color='c')\n            #axes.add_patch(circle)\n            plt.plot([x, x + r * np.cos(theta)], [y, y + r * np.sin(theta)], linestyle='-', color='k')\n            \n            plt.xlim([0,1])\n            plt.ylim([0,1])\n            plt.show()",
    "id": "55a942bac87a4e038bc4aecda6030249",
    "idx": 2,
    "time": "2021-02-05T07:14:54.127Z",
    "type": "execution"
   },
   {
    "id": "55a942bac87a4e038bc4aecda6030249",
    "time": "2021-02-05T07:14:54.214Z",
    "type": "completion"
   },
   {
    "code": "matrixPhase([[1,0.3],[0.1,0.8]])",
    "id": "2525a6262d174fca8142f179e009cc05",
    "idx": 3,
    "time": "2021-02-05T07:14:54.494Z",
    "type": "execution"
   },
   {
    "id": "2525a6262d174fca8142f179e009cc05",
    "time": "2021-02-05T07:14:54.722Z",
    "type": "completion"
   },
   {
    "code": "import numpy as np\nimport matplotlib.pyplot as plt",
    "id": "a173dcab21dd4cbb939b0a734bb59058",
    "idx": 0,
    "time": "2021-02-05T07:15:27.858Z",
    "type": "execution"
   },
   {
    "id": "a173dcab21dd4cbb939b0a734bb59058",
    "time": "2021-02-05T07:15:28.307Z",
    "type": "completion"
   },
   {
    "code": "def phasePlot(num, x, y, maxSize = 0):\n    # X and Y are coordinates of the center of the phase diagram\n    # Returns a circle that can be plotted\n\n    r = np.abs(num)\n    if maxSize:\n        r = r * maxSize / 2\n    theta = np.angle(num)\n\n    circle = plt.Circle((x, y), r, color='c')\n    axes.add_patch(circle)\n\n    plt.plot([x, x + r * np.cos(theta)], [y, y + r * np.sin(theta)], linestyle='-', color='k')",
    "id": "fb7b56f9b64c404890f3be9959c6049e",
    "idx": 1,
    "time": "2021-02-05T07:15:28.525Z",
    "type": "execution"
   },
   {
    "id": "fb7b56f9b64c404890f3be9959c6049e",
    "time": "2021-02-05T07:15:28.642Z",
    "type": "completion"
   },
   {
    "code": "def matrixPhase(matrix):\n    # MATRIX assumed to have complex numbers with magnitude at most 1\n    # MATRIX also assumed to be square\n\n    array = np.asarray(matrix)\n    dim = array.shape[0]\n    rect_coords = [i/dim for i in range(dim+1)]\n    figure, axes = plt.subplot()\n\n    # Due to matrix indexing, i controls y-coodinate, j controls x-coordinate\n    for i in range(dim):\n        for j in range(dim):\n            num = array[i][j]\n            \n            # Use RECT_COORDS to find centers of the phase diagram circle\n            x = (rect_coords[j] + rect_coords[j+1]) / 2\n            y = 1 - (rect_coords[i] + rect_coords[i+1]) / 2\n            \n            r = np.abs(num) * 1 / dim / 2\n            theta = np.angle(num)\n\n            #circle = plt.Circle((x, y), r, color='c')\n            #axes.add_patch(circle)\n            plt.plot([x, x + r * np.cos(theta)], [y, y + r * np.sin(theta)], linestyle='-', color='k')\n            \n            plt.xlim([0,1])\n            plt.ylim([0,1])\n            plt.show()",
    "id": "55a942bac87a4e038bc4aecda6030249",
    "idx": 2,
    "time": "2021-02-05T07:15:29.582Z",
    "type": "execution"
   },
   {
    "id": "55a942bac87a4e038bc4aecda6030249",
    "time": "2021-02-05T07:15:29.672Z",
    "type": "completion"
   },
   {
    "code": "matrixPhase([[1,0.3],[0.1,0.8]])",
    "id": "2525a6262d174fca8142f179e009cc05",
    "idx": 3,
    "time": "2021-02-05T07:15:30.355Z",
    "type": "execution"
   },
   {
    "id": "2525a6262d174fca8142f179e009cc05",
    "time": "2021-02-05T07:15:30.676Z",
    "type": "completion"
   },
   {
    "code": "def matrixPhase(matrix):\n    # MATRIX assumed to have complex numbers with magnitude at most 1\n    # MATRIX also assumed to be square\n\n    array = np.asarray(matrix)\n    dim = array.shape[0]\n    rect_coords = [i/dim for i in range(dim+1)]\n    figure, axes = plt.subplots()\n\n    # Due to matrix indexing, i controls y-coodinate, j controls x-coordinate\n    for i in range(dim):\n        for j in range(dim):\n            num = array[i][j]\n            \n            # Use RECT_COORDS to find centers of the phase diagram circle\n            x = (rect_coords[j] + rect_coords[j+1]) / 2\n            y = 1 - (rect_coords[i] + rect_coords[i+1]) / 2\n            \n            r = np.abs(num) * 1 / dim / 2\n            theta = np.angle(num)\n\n            #circle = plt.Circle((x, y), r, color='c')\n            #axes.add_patch(circle)\n            plt.plot([x, x + r * np.cos(theta)], [y, y + r * np.sin(theta)], linestyle='-', color='k')\n            \n            plt.xlim([0,1])\n            plt.ylim([0,1])\n            plt.show()",
    "id": "55a942bac87a4e038bc4aecda6030249",
    "idx": 2,
    "time": "2021-02-05T07:15:48.328Z",
    "type": "execution"
   },
   {
    "id": "55a942bac87a4e038bc4aecda6030249",
    "time": "2021-02-05T07:15:48.424Z",
    "type": "completion"
   },
   {
    "code": "matrixPhase([[1,0.3],[0.1,0.8]])",
    "id": "2525a6262d174fca8142f179e009cc05",
    "idx": 3,
    "time": "2021-02-05T07:15:48.734Z",
    "type": "execution"
   },
   {
    "id": "2525a6262d174fca8142f179e009cc05",
    "time": "2021-02-05T07:15:49.344Z",
    "type": "completion"
   },
   {
    "code": "def matrixPhase(matrix):\n    # MATRIX assumed to have complex numbers with magnitude at most 1\n    # MATRIX also assumed to be square\n\n    array = np.asarray(matrix)\n    dim = array.shape[0]\n    rect_coords = [i/dim for i in range(dim+1)]\n    figure, axes = plt.subplots()\n\n    # Due to matrix indexing, i controls y-coodinate, j controls x-coordinate\n    for i in range(dim):\n        for j in range(dim):\n            num = array[i][j]\n            \n            # Use RECT_COORDS to find centers of the phase diagram circle\n            x = (rect_coords[j] + rect_coords[j+1]) / 2\n            y = 1 - (rect_coords[i] + rect_coords[i+1]) / 2\n            \n            r = np.abs(num) * 1 / dim / 2\n            theta = np.angle(num)\n\n            circle = plt.Circle((x, y), r, color='c')\n            axes.add_patch(circle)\n            plt.plot([x, x + r * np.cos(theta)], [y, y + r * np.sin(theta)], linestyle='-', color='k')\n            \n            plt.xlim([0,1])\n            plt.ylim([0,1])\n            plt.show()",
    "id": "55a942bac87a4e038bc4aecda6030249",
    "idx": 2,
    "time": "2021-02-05T07:15:54.546Z",
    "type": "execution"
   },
   {
    "id": "55a942bac87a4e038bc4aecda6030249",
    "time": "2021-02-05T07:15:54.633Z",
    "type": "completion"
   },
   {
    "code": "matrixPhase([[1,0.3],[0.1,0.8]])",
    "id": "2525a6262d174fca8142f179e009cc05",
    "idx": 3,
    "time": "2021-02-05T07:15:54.913Z",
    "type": "execution"
   },
   {
    "id": "2525a6262d174fca8142f179e009cc05",
    "time": "2021-02-05T07:15:55.534Z",
    "type": "completion"
   },
   {
    "code": "def matrixPhase(matrix):\n    # MATRIX assumed to have complex numbers with magnitude at most 1\n    # MATRIX also assumed to be square\n\n    array = np.asarray(matrix)\n    dim = array.shape[0]\n    rect_coords = [i/dim for i in range(dim+1)]\n    figure, axes = plt.subplots()\n\n    # Due to matrix indexing, i controls y-coodinate, j controls x-coordinate\n    for i in range(dim):\n        for j in range(dim):\n            num = array[i][j]\n            \n            # Use RECT_COORDS to find centers of the phase diagram circle\n            x = (rect_coords[j] + rect_coords[j+1]) / 2\n            y = 1 - (rect_coords[i] + rect_coords[i+1]) / 2\n            \n            r = np.abs(num) * 1 / dim / 2\n            theta = np.angle(num)\n\n            circle = plt.Circle((x, y), r, color='c')\n            figure.add_patch(circle)\n            plt.plot([x, x + r * np.cos(theta)], [y, y + r * np.sin(theta)], linestyle='-', color='k')\n            \n            plt.xlim([0,1])\n            plt.ylim([0,1])\n            plt.show()",
    "id": "55a942bac87a4e038bc4aecda6030249",
    "idx": 2,
    "time": "2021-02-05T07:15:58.913Z",
    "type": "execution"
   },
   {
    "id": "55a942bac87a4e038bc4aecda6030249",
    "time": "2021-02-05T07:15:59.010Z",
    "type": "completion"
   },
   {
    "code": "matrixPhase([[1,0.3],[0.1,0.8]])",
    "id": "2525a6262d174fca8142f179e009cc05",
    "idx": 3,
    "time": "2021-02-05T07:15:59.473Z",
    "type": "execution"
   },
   {
    "id": "2525a6262d174fca8142f179e009cc05",
    "time": "2021-02-05T07:15:59.699Z",
    "type": "completion"
   },
   {
    "code": "def matrixPhase(matrix):\n    # MATRIX assumed to have complex numbers with magnitude at most 1\n    # MATRIX also assumed to be square\n\n    array = np.asarray(matrix)\n    dim = array.shape[0]\n    rect_coords = [i/dim for i in range(dim+1)]\n    figure, axes = plt.subplots()\n\n    # Due to matrix indexing, i controls y-coodinate, j controls x-coordinate\n    for i in range(dim):\n        for j in range(dim):\n            num = array[i][j]\n            \n            # Use RECT_COORDS to find centers of the phase diagram circle\n            x = (rect_coords[j] + rect_coords[j+1]) / 2\n            y = 1 - (rect_coords[i] + rect_coords[i+1]) / 2\n            \n            r = np.abs(num) * 1 / dim / 2\n            theta = np.angle(num)\n\n            circle = plt.Circle((x, y), r, color='c')\n            axes.add_patch(circle)\n            plt.plot([x, x + r * np.cos(theta)], [y, y + r * np.sin(theta)], linestyle='-', color='k')\n            \n            plt.xlim([0,1])\n            plt.ylim([0,1])\n            plt.show()",
    "id": "55a942bac87a4e038bc4aecda6030249",
    "idx": 2,
    "time": "2021-02-05T07:16:03.973Z",
    "type": "execution"
   },
   {
    "id": "55a942bac87a4e038bc4aecda6030249",
    "time": "2021-02-05T07:16:04.067Z",
    "type": "completion"
   },
   {
    "code": "matrixPhase([[1,0.3],[0.1,0.8]])",
    "id": "2525a6262d174fca8142f179e009cc05",
    "idx": 3,
    "time": "2021-02-05T07:16:04.401Z",
    "type": "execution"
   },
   {
    "id": "2525a6262d174fca8142f179e009cc05",
    "time": "2021-02-05T07:16:05.083Z",
    "type": "completion"
   },
   {
    "code": "matrixPhase([[1+j,0.3],[0.1,0.8]])",
    "id": "2525a6262d174fca8142f179e009cc05",
    "idx": 3,
    "time": "2021-02-05T07:16:12.681Z",
    "type": "execution"
   },
   {
    "id": "2525a6262d174fca8142f179e009cc05",
    "time": "2021-02-05T07:16:12.778Z",
    "type": "completion"
   },
   {
    "code": "matrixPhase([[1+1.j,0.3],[0.1,0.8]])",
    "id": "2525a6262d174fca8142f179e009cc05",
    "idx": 3,
    "time": "2021-02-05T07:16:15.689Z",
    "type": "execution"
   },
   {
    "id": "2525a6262d174fca8142f179e009cc05",
    "time": "2021-02-05T07:16:16.318Z",
    "type": "completion"
   },
   {
    "code": "def matrixPhase(matrix):\n    # MATRIX assumed to have complex numbers with magnitude at most 1\n    # MATRIX also assumed to be square\n\n    array = np.asarray(matrix)\n    dim = array.shape[0]\n    rect_coords = [i/dim for i in range(dim+1)]\n    figure, axes = plt.subplots()\n\n    # Due to matrix indexing, i controls y-coodinate, j controls x-coordinate\n    for i in range(dim):\n        for j in range(dim):\n            num = array[i][j]\n            \n            # Use RECT_COORDS to find centers of the phase diagram circle\n            x = (rect_coords[j] + rect_coords[j+1]) / 2\n            y = 1 - (rect_coords[i] + rect_coords[i+1]) / 2\n            \n            r = np.abs(num) / dim / 2\n            theta = np.angle(num)\n\n            circle = plt.Circle((x, y), r, color='c')\n            axes.add_patch(circle)\n            plt.plot([x, x + r * np.cos(theta)], [y, y + r * np.sin(theta)], linestyle='-', color='k')\n            \n            plt.xlim([0,1])\n            plt.ylim([0,1])\n            plt.show()",
    "id": "55a942bac87a4e038bc4aecda6030249",
    "idx": 2,
    "time": "2021-02-05T07:16:33.084Z",
    "type": "execution"
   },
   {
    "id": "55a942bac87a4e038bc4aecda6030249",
    "time": "2021-02-05T07:16:33.173Z",
    "type": "completion"
   },
   {
    "code": "matrixPhase([[1+1.j,0.3],[0.1,0.8]])",
    "id": "2525a6262d174fca8142f179e009cc05",
    "idx": 3,
    "time": "2021-02-05T07:16:33.654Z",
    "type": "execution"
   },
   {
    "id": "2525a6262d174fca8142f179e009cc05",
    "time": "2021-02-05T07:16:34.285Z",
    "type": "completion"
   },
   {
    "code": "def matrixPhase(matrix):\n    # MATRIX assumed to have complex numbers with magnitude at most 1\n    # MATRIX also assumed to be square\n\n    array = np.asarray(matrix)\n    dim = array.shape[0]\n    rect_coords = [i/dim for i in range(dim+1)]\n    figure, axes = plt.subplots()\n\n    # Due to matrix indexing, i controls y-coodinate, j controls x-coordinate\n    for i in range(dim):\n        for j in range(dim):            \n            # Use RECT_COORDS to find centers of the phase diagram circle\n            x = (rect_coords[j] + rect_coords[j+1]) / 2\n            y = 1 - (rect_coords[i] + rect_coords[i+1]) / 2\n            \n            num = array[i][j]\n            r = np.abs(num) / dim / 2\n            theta = np.angle(num)\n\n            circle = plt.Circle((x, y), r, color='c')\n            axes.add_patch(circle)\n            plt.plot([x, x + r * np.cos(theta)], [y, y + r * np.sin(theta)], linestyle='-', color='k')\n            \n            plt.xlim([0,1])\n            plt.ylim([0,1])\n            plt.show()",
    "id": "55a942bac87a4e038bc4aecda6030249",
    "idx": 2,
    "time": "2021-02-05T07:17:02.390Z",
    "type": "execution"
   },
   {
    "id": "55a942bac87a4e038bc4aecda6030249",
    "time": "2021-02-05T07:17:02.530Z",
    "type": "completion"
   },
   {
    "code": "matrixPhase([[1+1.j,0.3],[0.1,0.8]])",
    "id": "2525a6262d174fca8142f179e009cc05",
    "idx": 3,
    "time": "2021-02-05T07:17:02.976Z",
    "type": "execution"
   },
   {
    "id": "2525a6262d174fca8142f179e009cc05",
    "time": "2021-02-05T07:17:03.592Z",
    "type": "completion"
   },
   {
    "code": "def matrixPhase(matrix):\n    # MATRIX assumed to have complex numbers with magnitude at most 1\n    # MATRIX also assumed to be square\n\n    array = np.asarray(matrix)\n    dim = array.shape[0]\n    rect_coords = [i/dim for i in range(dim+1)]\n    figure, axes = plt.subplots()\n\n    # Due to matrix indexing, i controls y-coodinate, j controls x-coordinate\n    for i in range(dim):\n        for j in range(dim):            \n            # Use RECT_COORDS to find centers of the phase diagram circle\n            x = (rect_coords[j] + rect_coords[j+1]) / 2\n            y = 1 - (rect_coords[i] + rect_coords[i+1]) / 2\n            \n            num = array[i][j]\n            r = np.abs(num) / (2*dim()\n            theta = np.angle(num)\n\n            circle = plt.Circle((x, y), r, color='c')\n            axes.add_patch(circle)\n            plt.plot([x, x + r * np.cos(theta)], [y, y + r * np.sin(theta)], linestyle='-', color='k')\n            \n            plt.xlim([0,1])\n            plt.ylim([0,1])\n            plt.show()",
    "id": "55a942bac87a4e038bc4aecda6030249",
    "idx": 2,
    "time": "2021-02-05T07:18:02.055Z",
    "type": "execution"
   },
   {
    "id": "55a942bac87a4e038bc4aecda6030249",
    "time": "2021-02-05T07:18:02.147Z",
    "type": "completion"
   },
   {
    "code": "def matrixPhase(matrix):\n    # MATRIX assumed to have complex numbers with magnitude at most 1\n    # MATRIX also assumed to be square\n\n    array = np.asarray(matrix)\n    dim = array.shape[0]\n    rect_coords = [i/dim for i in range(dim+1)]\n    figure, axes = plt.subplots()\n\n    # Due to matrix indexing, i controls y-coodinate, j controls x-coordinate\n    for i in range(dim):\n        for j in range(dim):            \n            # Use RECT_COORDS to find centers of the phase diagram circle\n            x = (rect_coords[j] + rect_coords[j+1]) / 2\n            y = 1 - (rect_coords[i] + rect_coords[i+1]) / 2\n            \n            num = array[i][j]\n            r = np.abs(num) / (2*dim)\n            theta = np.angle(num)\n\n            circle = plt.Circle((x, y), r, color='c')\n            axes.add_patch(circle)\n            plt.plot([x, x + r * np.cos(theta)], [y, y + r * np.sin(theta)], linestyle='-', color='k')\n            \n            plt.xlim([0,1])\n            plt.ylim([0,1])\n            plt.show()",
    "id": "55a942bac87a4e038bc4aecda6030249",
    "idx": 2,
    "time": "2021-02-05T07:18:05.827Z",
    "type": "execution"
   },
   {
    "id": "55a942bac87a4e038bc4aecda6030249",
    "time": "2021-02-05T07:18:05.927Z",
    "type": "completion"
   },
   {
    "code": "matrixPhase([[1+1.j,0.3],[0.1,0.8]])",
    "id": "2525a6262d174fca8142f179e009cc05",
    "idx": 3,
    "time": "2021-02-05T07:18:06.037Z",
    "type": "execution"
   },
   {
    "id": "2525a6262d174fca8142f179e009cc05",
    "time": "2021-02-05T07:18:06.633Z",
    "type": "completion"
   },
   {
    "code": "matrixPhase([[0.5,0.3],[0.1,0.8]])",
    "id": "2525a6262d174fca8142f179e009cc05",
    "idx": 3,
    "time": "2021-02-05T07:18:16.126Z",
    "type": "execution"
   },
   {
    "id": "2525a6262d174fca8142f179e009cc05",
    "time": "2021-02-05T07:18:16.813Z",
    "type": "completion"
   },
   {
    "code": "matrixPhase([[0.5j,0.3],[0.1,0.8]])",
    "id": "2525a6262d174fca8142f179e009cc05",
    "idx": 3,
    "time": "2021-02-05T07:18:37.030Z",
    "type": "execution"
   },
   {
    "id": "2525a6262d174fca8142f179e009cc05",
    "time": "2021-02-05T07:18:37.650Z",
    "type": "completion"
   },
   {
    "code": "matrixPhase([[1.j,0.3],[0.1,0.8]])",
    "id": "2525a6262d174fca8142f179e009cc05",
    "idx": 3,
    "time": "2021-02-05T07:18:48.394Z",
    "type": "execution"
   },
   {
    "id": "2525a6262d174fca8142f179e009cc05",
    "time": "2021-02-05T07:18:49.030Z",
    "type": "completion"
   },
   {
    "code": "matrixPhase([[0.5+0.3j,0.3],[0.1,0.8]])",
    "id": "2525a6262d174fca8142f179e009cc05",
    "idx": 3,
    "time": "2021-02-05T07:18:57.416Z",
    "type": "execution"
   },
   {
    "id": "2525a6262d174fca8142f179e009cc05",
    "time": "2021-02-05T07:18:58.084Z",
    "type": "completion"
   },
   {
    "code": "matrixPhase([[0.5+0.5j,0.3],[0.1,0.8]])",
    "id": "2525a6262d174fca8142f179e009cc05",
    "idx": 3,
    "time": "2021-02-05T07:19:01.481Z",
    "type": "execution"
   },
   {
    "id": "2525a6262d174fca8142f179e009cc05",
    "time": "2021-02-05T07:19:02.110Z",
    "type": "completion"
   },
   {
    "code": "import numpy as np\nimport matplotlib.pyplot as plt",
    "id": "c8169f48a588415385fbbb8ff76fe4f2",
    "idx": 0,
    "time": "2021-02-05T19:06:35.638Z",
    "type": "execution"
   },
   {
    "id": "c8169f48a588415385fbbb8ff76fe4f2",
    "time": "2021-02-05T19:06:36.164Z",
    "type": "completion"
   },
   {
    "code": "def matrixPhase(matrix):\n    # MATRIX assumed to have complex numbers with magnitude at most 1\n    # MATRIX also assumed to be square\n\n    array = np.asarray(matrix)\n    dim = array.shape[0]\n    rect_coords = [i/dim for i in range(dim+1)]\n    #figure, axes = plt.subplots()\n\n    # Due to matrix indexing, i controls y-coodinate, j controls x-coordinate\n    for i in range(dim):\n        for j in range(dim):            \n            # Use RECT_COORDS to find centers of the phase diagram circle\n            x = (rect_coords[j] + rect_coords[j+1]) / 2\n            y = 1 - (rect_coords[i] + rect_coords[i+1]) / 2\n            \n            num = array[i][j]\n            r = np.abs(num) / (2*dim)\n            theta = np.angle(num)\n            \n            figure, axes = plt.subplots()\n\n            circle = plt.Circle((x, y), r, color='c')\n            axes.add_patch(circle)\n            plt.plot([x, x + r * np.cos(theta)], [y, y + r * np.sin(theta)], linestyle='-', color='k')\n            \n            plt.xlim([0,1])\n            plt.ylim([0,1])\n            plt.show()",
    "id": "27b0156a144e473f99025c0a3480190f",
    "idx": 2,
    "time": "2021-02-05T19:06:38.371Z",
    "type": "execution"
   },
   {
    "id": "27b0156a144e473f99025c0a3480190f",
    "time": "2021-02-05T19:06:38.513Z",
    "type": "completion"
   },
   {
    "code": "matrixPhase([[0.5+0.5j,0.3],[0.1,0.8]])",
    "id": "3439523608fa4757861e62f343bfe122",
    "idx": 3,
    "time": "2021-02-05T19:06:39.073Z",
    "type": "execution"
   },
   {
    "id": "3439523608fa4757861e62f343bfe122",
    "time": "2021-02-05T19:06:39.774Z",
    "type": "completion"
   },
   {
    "code": "def matrixPhase(matrix):\n    # MATRIX assumed to have complex numbers with magnitude at most 1\n    # MATRIX also assumed to be square\n\n    array = np.asarray(matrix)\n    dim = array.shape[0]\n    rect_coords = [i/dim for i in range(dim+1)]\n    #figure, axes = plt.subplots()\n\n    # Due to matrix indexing, i controls y-coodinate, j controls x-coordinate\n    for i in range(dim):\n        for j in range(dim):            \n            # Use RECT_COORDS to find centers of the phase diagram circle\n            x = (rect_coords[j] + rect_coords[j+1]) / 2\n            y = 1 - (rect_coords[i] + rect_coords[i+1]) / 2\n            \n            num = array[i][j]\n            r = np.abs(num) / (2*dim)\n            theta = np.angle(num)\n            \n            figure, axes = plt.subplots()\n\n            circle = plt.Circle((x, y), r, color='c')\n            axes.add_patch(circle)\n            plt.plot([x, x + r * np.cos(theta)], [y, y + r * np.sin(theta)], linestyle='-', color='k')\n            \n    plt.xlim([0,1])\n    plt.ylim([0,1])\n    plt.show()",
    "id": "27b0156a144e473f99025c0a3480190f",
    "idx": 2,
    "time": "2021-02-05T19:07:23.988Z",
    "type": "execution"
   },
   {
    "id": "27b0156a144e473f99025c0a3480190f",
    "time": "2021-02-05T19:07:24.073Z",
    "type": "completion"
   },
   {
    "code": "matrixPhase([[0.5+0.5j,0.3],[0.1,0.8]])",
    "id": "3439523608fa4757861e62f343bfe122",
    "idx": 3,
    "time": "2021-02-05T19:07:24.680Z",
    "type": "execution"
   },
   {
    "id": "3439523608fa4757861e62f343bfe122",
    "time": "2021-02-05T19:07:25.388Z",
    "type": "completion"
   },
   {
    "code": "def matrixPhase(matrix):\n    # MATRIX assumed to have complex numbers with magnitude at most 1\n    # MATRIX also assumed to be square\n\n    array = np.asarray(matrix)\n    dim = array.shape[0]\n    rect_coords = [i/dim for i in range(dim+1)]\n    figure, axes = plt.subplots()\n\n    # Due to matrix indexing, i controls y-coodinate, j controls x-coordinate\n    for i in range(dim):\n        for j in range(dim):            \n            # Use RECT_COORDS to find centers of the phase diagram circle\n            x = (rect_coords[j] + rect_coords[j+1]) / 2\n            y = 1 - (rect_coords[i] + rect_coords[i+1]) / 2\n            \n            num = array[i][j]\n            r = np.abs(num) / (2*dim)\n            theta = np.angle(num)\n\n            circle = plt.Circle((x, y), r, color='c')\n            axes.add_patch(circle)\n            plt.plot([x, x + r * np.cos(theta)], [y, y + r * np.sin(theta)], linestyle='-', color='k')\n            \n    plt.xlim([0,1])\n    plt.ylim([0,1])\n    plt.show()",
    "id": "27b0156a144e473f99025c0a3480190f",
    "idx": 2,
    "time": "2021-02-05T19:07:43.285Z",
    "type": "execution"
   },
   {
    "id": "27b0156a144e473f99025c0a3480190f",
    "time": "2021-02-05T19:07:43.424Z",
    "type": "completion"
   },
   {
    "code": "matrixPhase([[0.5+0.5j,0.3],[0.1,0.8]])",
    "id": "3439523608fa4757861e62f343bfe122",
    "idx": 3,
    "time": "2021-02-05T19:07:43.895Z",
    "type": "execution"
   },
   {
    "id": "3439523608fa4757861e62f343bfe122",
    "time": "2021-02-05T19:07:44.277Z",
    "type": "completion"
   },
   {
    "code": "def matrixPhase(matrix):\n    # MATRIX assumed to have complex numbers with magnitude at most 1\n    # MATRIX also assumed to be square\n\n    array = np.asarray(matrix)\n    dim = array.shape[0]\n    rect_coords = [i/dim for i in range(dim+1)]\n    figure, axes = plt.subplots()\n\n    # Due to matrix indexing, i controls y-coodinate, j controls x-coordinate\n    for i in range(dim):\n        for j in range(dim):            \n            # Use RECT_COORDS to find centers of the phase diagram circle\n            x = (rect_coords[j] + rect_coords[j+1]) / 2\n            y = 1 - (rect_coords[i] + rect_coords[i+1]) / 2\n            \n            num = array[i][j]\n            r = np.abs(num) / (2*dim)\n            theta = np.angle(num)\n\n            circle = plt.Circle((x, y), r, color='c')\n            axes.add_patch(circle)\n            plt.plot([x, x + r * np.cos(theta)], [y, y + r * np.sin(theta)], linestyle='-', color='k')\n    plt.xlim([0,1])\n    plt.ylim([0,1])\n    plt.show()",
    "id": "27b0156a144e473f99025c0a3480190f",
    "idx": 2,
    "time": "2021-02-05T19:10:16.171Z",
    "type": "execution"
   },
   {
    "id": "27b0156a144e473f99025c0a3480190f",
    "time": "2021-02-05T19:10:16.269Z",
    "type": "completion"
   },
   {
    "code": "matrixPhase([[0.5+0.5j,0.3],[0.1,0.8]])",
    "id": "3439523608fa4757861e62f343bfe122",
    "idx": 3,
    "time": "2021-02-05T19:10:16.704Z",
    "type": "execution"
   },
   {
    "id": "3439523608fa4757861e62f343bfe122",
    "time": "2021-02-05T19:10:17.038Z",
    "type": "completion"
   },
   {
    "code": "# Plot a Hinton diagram of a matrix of complex numbers\ndef matrixPhase(matrix):\n    # MATRIX assumed to have complex numbers with magnitude at most 1\n    # MATRIX also assumed to be square\n\n    array = np.asarray(matrix)\n    dim = array.shape[0]\n    rect_coords = [i/dim for i in range(dim+1)]\n    figure, axes = plt.subplots()\n\n    # Due to matrix indexing, i controls y-coodinate, j controls x-coordinate\n    for i in range(dim):\n        for j in range(dim):            \n            # Use RECT_COORDS to find centers of the phase diagram circle\n            x = (rect_coords[j] + rect_coords[j+1]) / 2\n            y = 1 - (rect_coords[i] + rect_coords[i+1]) / 2\n            \n            num = array[i][j]\n            r = np.abs(num) / (2*dim)\n            theta = np.angle(num)\n\n            circle = plt.Circle((x, y), r, color=(255,0,0))\n            axes.add_patch(circle)\n            plt.plot([x, x + r * np.cos(theta)], [y, y + r * np.sin(theta)], linestyle='-', color='k')\n    plt.xlim([0,1])\n    plt.ylim([0,1])\n    plt.show()",
    "id": "da7e669a352b491d8fac27704cd1fdfe",
    "idx": 3,
    "time": "2021-02-12T05:38:00.577Z",
    "type": "execution"
   },
   {
    "id": "da7e669a352b491d8fac27704cd1fdfe",
    "time": "2021-02-12T05:38:00.676Z",
    "type": "completion"
   },
   {
    "code": "matrixPhase([[0.5+0.5j,0.3],[0.1,0.8]])",
    "id": "754a30210d9242208edd0df2f085db82",
    "idx": 4,
    "time": "2021-02-12T05:38:01.602Z",
    "type": "execution"
   },
   {
    "id": "754a30210d9242208edd0df2f085db82",
    "time": "2021-02-12T05:38:01.797Z",
    "type": "completion"
   },
   {
    "code": "import numpy as np\nimport matplotlib.pyplot as plt",
    "id": "ace492776fdd4833a110b7891f4bd45b",
    "idx": 0,
    "time": "2021-02-12T05:38:03.418Z",
    "type": "execution"
   },
   {
    "id": "ace492776fdd4833a110b7891f4bd45b",
    "time": "2021-02-12T05:38:04.028Z",
    "type": "completion"
   },
   {
    "code": "matrixPhase([[0.5+0.5j,0.3],[0.1,0.8]])",
    "id": "754a30210d9242208edd0df2f085db82",
    "idx": 4,
    "time": "2021-02-12T05:38:05.090Z",
    "type": "execution"
   },
   {
    "id": "754a30210d9242208edd0df2f085db82",
    "time": "2021-02-12T05:38:05.487Z",
    "type": "completion"
   },
   {
    "code": "# Plot a Hinton diagram of a matrix of complex numbers\ndef matrixPhase(matrix):\n    # MATRIX assumed to have complex numbers with magnitude at most 1\n    # MATRIX also assumed to be square\n\n    array = np.asarray(matrix)\n    dim = array.shape[0]\n    rect_coords = [i/dim for i in range(dim+1)]\n    figure, axes = plt.subplots()\n\n    # Due to matrix indexing, i controls y-coodinate, j controls x-coordinate\n    for i in range(dim):\n        for j in range(dim):            \n            # Use RECT_COORDS to find centers of the phase diagram circle\n            x = (rect_coords[j] + rect_coords[j+1]) / 2\n            y = 1 - (rect_coords[i] + rect_coords[i+1]) / 2\n            \n            num = array[i][j]\n            r = np.abs(num) / (2*dim)\n            theta = np.angle(num)\n\n            circle = plt.Circle((x, y), r, color=(255,0,0,1))\n            axes.add_patch(circle)\n            plt.plot([x, x + r * np.cos(theta)], [y, y + r * np.sin(theta)], linestyle='-', color='k')\n    plt.xlim([0,1])\n    plt.ylim([0,1])\n    plt.show()",
    "id": "da7e669a352b491d8fac27704cd1fdfe",
    "idx": 3,
    "time": "2021-02-12T05:43:43.734Z",
    "type": "execution"
   },
   {
    "id": "da7e669a352b491d8fac27704cd1fdfe",
    "time": "2021-02-12T05:43:43.835Z",
    "type": "completion"
   },
   {
    "code": "matrixPhase([[0.5+0.5j,0.3],[0.1,0.8]])",
    "id": "754a30210d9242208edd0df2f085db82",
    "idx": 4,
    "time": "2021-02-12T05:43:44.904Z",
    "type": "execution"
   },
   {
    "id": "754a30210d9242208edd0df2f085db82",
    "time": "2021-02-12T05:43:45.230Z",
    "type": "completion"
   },
   {
    "code": "# Plot a Hinton diagram of a matrix of complex numbers\ndef matrixPhase(matrix):\n    # MATRIX assumed to have complex numbers with magnitude at most 1\n    # MATRIX also assumed to be square\n\n    array = np.asarray(matrix)\n    dim = array.shape[0]\n    rect_coords = [i/dim for i in range(dim+1)]\n    figure, axes = plt.subplots()\n\n    # Due to matrix indexing, i controls y-coodinate, j controls x-coordinate\n    for i in range(dim):\n        for j in range(dim):            \n            # Use RECT_COORDS to find centers of the phase diagram circle\n            x = (rect_coords[j] + rect_coords[j+1]) / 2\n            y = 1 - (rect_coords[i] + rect_coords[i+1]) / 2\n            \n            num = array[i][j]\n            r = np.abs(num) / (2*dim)\n            theta = np.angle(num)\n\n            circle = plt.Circle((x, y), r, color=((255,0,0))\n            axes.add_patch(circle)\n            plt.plot([x, x + r * np.cos(theta)], [y, y + r * np.sin(theta)], linestyle='-', color='k')\n    plt.xlim([0,1])\n    plt.ylim([0,1])\n    plt.show()",
    "id": "da7e669a352b491d8fac27704cd1fdfe",
    "idx": 3,
    "time": "2021-02-12T05:45:03.517Z",
    "type": "execution"
   },
   {
    "id": "da7e669a352b491d8fac27704cd1fdfe",
    "time": "2021-02-12T05:45:03.627Z",
    "type": "completion"
   },
   {
    "code": "matrixPhase([[0.5+0.5j,0.3],[0.1,0.8]])",
    "id": "754a30210d9242208edd0df2f085db82",
    "idx": 4,
    "time": "2021-02-12T05:45:03.743Z",
    "type": "execution"
   },
   {
    "id": "754a30210d9242208edd0df2f085db82",
    "time": "2021-02-12T05:45:04.059Z",
    "type": "completion"
   },
   {
    "code": "# Plot a Hinton diagram of a matrix of complex numbers\ndef matrixPhase(matrix):\n    # MATRIX assumed to have complex numbers with magnitude at most 1\n    # MATRIX also assumed to be square\n\n    array = np.asarray(matrix)\n    dim = array.shape[0]\n    rect_coords = [i/dim for i in range(dim+1)]\n    figure, axes = plt.subplots()\n\n    # Due to matrix indexing, i controls y-coodinate, j controls x-coordinate\n    for i in range(dim):\n        for j in range(dim):            \n            # Use RECT_COORDS to find centers of the phase diagram circle\n            x = (rect_coords[j] + rect_coords[j+1]) / 2\n            y = 1 - (rect_coords[i] + rect_coords[i+1]) / 2\n            \n            num = array[i][j]\n            r = np.abs(num) / (2*dim)\n            theta = np.angle(num)\n\n            circle = plt.Circle((x, y), r, color=((255,0,0)))\n            axes.add_patch(circle)\n            plt.plot([x, x + r * np.cos(theta)], [y, y + r * np.sin(theta)], linestyle='-', color='k')\n    plt.xlim([0,1])\n    plt.ylim([0,1])\n    plt.show()",
    "id": "da7e669a352b491d8fac27704cd1fdfe",
    "idx": 3,
    "time": "2021-02-12T05:45:12.933Z",
    "type": "execution"
   },
   {
    "id": "da7e669a352b491d8fac27704cd1fdfe",
    "time": "2021-02-12T05:45:13.018Z",
    "type": "completion"
   },
   {
    "code": "matrixPhase([[0.5+0.5j,0.3],[0.1,0.8]])",
    "id": "754a30210d9242208edd0df2f085db82",
    "idx": 4,
    "time": "2021-02-12T05:45:13.418Z",
    "type": "execution"
   },
   {
    "id": "754a30210d9242208edd0df2f085db82",
    "time": "2021-02-12T05:45:13.726Z",
    "type": "completion"
   },
   {
    "code": "# Plot a Hinton diagram of a matrix of complex numbers\ndef matrixPhase(matrix):\n    # MATRIX assumed to have complex numbers with magnitude at most 1\n    # MATRIX also assumed to be square\n\n    array = np.asarray(matrix)\n    dim = array.shape[0]\n    rect_coords = [i/dim for i in range(dim+1)]\n    figure, axes = plt.subplots()\n\n    # Due to matrix indexing, i controls y-coodinate, j controls x-coordinate\n    for i in range(dim):\n        for j in range(dim):            \n            # Use RECT_COORDS to find centers of the phase diagram circle\n            x = (rect_coords[j] + rect_coords[j+1]) / 2\n            y = 1 - (rect_coords[i] + rect_coords[i+1]) / 2\n            \n            num = array[i][j]\n            r = np.abs(num) / (2*dim)\n            theta = np.angle(num)\n\n            circle = plt.Circle((x, y), r, color=(255,0,0))\n            axes.add_patch(circle)\n            plt.plot([x, x + r * np.cos(theta)], [y, y + r * np.sin(theta)], linestyle='-', color='k')\n    plt.xlim([0,1])\n    plt.ylim([0,1])\n    plt.show()",
    "id": "da7e669a352b491d8fac27704cd1fdfe",
    "idx": 3,
    "time": "2021-02-12T05:46:21.302Z",
    "type": "execution"
   },
   {
    "id": "da7e669a352b491d8fac27704cd1fdfe",
    "time": "2021-02-12T05:46:21.395Z",
    "type": "completion"
   },
   {
    "code": "matrixPhase([[0.5+0.5j,0.3],[0.1,0.8]])",
    "id": "754a30210d9242208edd0df2f085db82",
    "idx": 4,
    "time": "2021-02-12T05:46:21.987Z",
    "type": "execution"
   },
   {
    "id": "754a30210d9242208edd0df2f085db82",
    "time": "2021-02-12T05:46:22.251Z",
    "type": "completion"
   },
   {
    "code": "# Plot a Hinton diagram of a matrix of complex numbers\ndef matrixPhase(matrix):\n    # MATRIX assumed to have complex numbers with magnitude at most 1\n    # MATRIX also assumed to be square\n\n    array = np.asarray(matrix)\n    dim = array.shape[0]\n    rect_coords = [i/dim for i in range(dim+1)]\n    figure, axes = plt.subplots()\n\n    # Due to matrix indexing, i controls y-coodinate, j controls x-coordinate\n    for i in range(dim):\n        for j in range(dim):            \n            # Use RECT_COORDS to find centers of the phase diagram circle\n            x = (rect_coords[j] + rect_coords[j+1]) / 2\n            y = 1 - (rect_coords[i] + rect_coords[i+1]) / 2\n            \n            num = array[i][j]\n            r = np.abs(num) / (2*dim)\n            theta = np.angle(num)\n\n            circle = plt.Circle((x, y), r, color=(255,0,0,0))\n            axes.add_patch(circle)\n            plt.plot([x, x + r * np.cos(theta)], [y, y + r * np.sin(theta)], linestyle='-', color='k')\n    plt.xlim([0,1])\n    plt.ylim([0,1])\n    plt.show()",
    "id": "da7e669a352b491d8fac27704cd1fdfe",
    "idx": 3,
    "time": "2021-02-12T05:46:28.233Z",
    "type": "execution"
   },
   {
    "id": "da7e669a352b491d8fac27704cd1fdfe",
    "time": "2021-02-12T05:46:28.320Z",
    "type": "completion"
   },
   {
    "code": "matrixPhase([[0.5+0.5j,0.3],[0.1,0.8]])",
    "id": "754a30210d9242208edd0df2f085db82",
    "idx": 4,
    "time": "2021-02-12T05:46:28.736Z",
    "type": "execution"
   },
   {
    "id": "754a30210d9242208edd0df2f085db82",
    "time": "2021-02-12T05:46:29.037Z",
    "type": "completion"
   },
   {
    "code": "# Plot a Hinton diagram of a matrix of complex numbers\ndef matrixPhase(matrix):\n    # MATRIX assumed to have complex numbers with magnitude at most 1\n    # MATRIX also assumed to be square\n\n    array = np.asarray(matrix)\n    dim = array.shape[0]\n    rect_coords = [i/dim for i in range(dim+1)]\n    figure, axes = plt.subplots()\n\n    # Due to matrix indexing, i controls y-coodinate, j controls x-coordinate\n    for i in range(dim):\n        for j in range(dim):            \n            # Use RECT_COORDS to find centers of the phase diagram circle\n            x = (rect_coords[j] + rect_coords[j+1]) / 2\n            y = 1 - (rect_coords[i] + rect_coords[i+1]) / 2\n            \n            num = array[i][j]\n            r = np.abs(num) / (2*dim)\n            theta = np.angle(num)\n\n            circle = plt.Circle((x, y), r, color=(1,0,0,0))\n            axes.add_patch(circle)\n            plt.plot([x, x + r * np.cos(theta)], [y, y + r * np.sin(theta)], linestyle='-', color='k')\n    plt.xlim([0,1])\n    plt.ylim([0,1])\n    plt.show()",
    "id": "da7e669a352b491d8fac27704cd1fdfe",
    "idx": 3,
    "time": "2021-02-12T05:46:52.582Z",
    "type": "execution"
   },
   {
    "id": "da7e669a352b491d8fac27704cd1fdfe",
    "time": "2021-02-12T05:46:52.669Z",
    "type": "completion"
   },
   {
    "code": "matrixPhase([[0.5+0.5j,0.3],[0.1,0.8]])",
    "id": "754a30210d9242208edd0df2f085db82",
    "idx": 4,
    "time": "2021-02-12T05:46:52.733Z",
    "type": "execution"
   },
   {
    "id": "754a30210d9242208edd0df2f085db82",
    "time": "2021-02-12T05:46:53.004Z",
    "type": "completion"
   },
   {
    "code": "# Plot a Hinton diagram of a matrix of complex numbers\ndef matrixPhase(matrix):\n    # MATRIX assumed to have complex numbers with magnitude at most 1\n    # MATRIX also assumed to be square\n\n    array = np.asarray(matrix)\n    dim = array.shape[0]\n    rect_coords = [i/dim for i in range(dim+1)]\n    figure, axes = plt.subplots()\n\n    # Due to matrix indexing, i controls y-coodinate, j controls x-coordinate\n    for i in range(dim):\n        for j in range(dim):            \n            # Use RECT_COORDS to find centers of the phase diagram circle\n            x = (rect_coords[j] + rect_coords[j+1]) / 2\n            y = 1 - (rect_coords[i] + rect_coords[i+1]) / 2\n            \n            num = array[i][j]\n            r = np.abs(num) / (2*dim)\n            theta = np.angle(num)\n\n            circle = plt.Circle((x, y), r, color=(1,0,0,1))\n            axes.add_patch(circle)\n            plt.plot([x, x + r * np.cos(theta)], [y, y + r * np.sin(theta)], linestyle='-', color='k')\n    plt.xlim([0,1])\n    plt.ylim([0,1])\n    plt.show()",
    "id": "da7e669a352b491d8fac27704cd1fdfe",
    "idx": 3,
    "time": "2021-02-12T05:46:58.073Z",
    "type": "execution"
   },
   {
    "id": "da7e669a352b491d8fac27704cd1fdfe",
    "time": "2021-02-12T05:46:58.161Z",
    "type": "completion"
   },
   {
    "code": "matrixPhase([[0.5+0.5j,0.3],[0.1,0.8]])",
    "id": "754a30210d9242208edd0df2f085db82",
    "idx": 4,
    "time": "2021-02-12T05:46:58.223Z",
    "type": "execution"
   },
   {
    "id": "754a30210d9242208edd0df2f085db82",
    "time": "2021-02-12T05:46:58.556Z",
    "type": "completion"
   },
   {
    "code": "2.5 % 2",
    "id": "6e353a6a081044f3acce5f7456cf36e9",
    "idx": 5,
    "time": "2021-02-12T06:08:45.587Z",
    "type": "execution"
   },
   {
    "id": "6e353a6a081044f3acce5f7456cf36e9",
    "time": "2021-02-12T06:08:45.691Z",
    "type": "completion"
   },
   {
    "code": "10.9 % 3",
    "id": "292b569f675b4f5b88232fe9edfccbab",
    "idx": 6,
    "time": "2021-02-12T06:08:55.192Z",
    "type": "execution"
   },
   {
    "id": "292b569f675b4f5b88232fe9edfccbab",
    "time": "2021-02-12T06:08:55.281Z",
    "type": "completion"
   },
   {
    "code": "# Convert magnitude and phase to an RGB triple\ndef complexColor(z):\n    # Use standard mapping of magnitude and phase to HSL (H = phase, L = magnitude, S = 1)\n    # Then map HSL to RGB and return a triple\n    # Magnitude assumed not greater than 1\n    \n    norm = np.abs(z)\n    phase = np.angle(z)\n    \n    C = 1 - abs(2*L - 1)\n    H = phase/(np.pi / 3) # Finds which of the 6 sections of the color wheel the phase belongs to\n    X = C * (1 - abs((H%2) - 1))\n    \n    # 6 cases corresponding to the 6 sections\n    if H <= 1:\n        R = C\n        G = X\n        B = 0\n    elif H <= 2:\n        R = X\n        G = C\n        B = 0\n    elif H <= 3:\n        R = 0\n        G = C\n        B = X\n    elif H <= 4:\n        R = 0\n        G = X\n        B = C\n    elif H <= 5:\n        R = X\n        G = 0\n        B = C\n    elif H <= 6:\n        R = C\n        G = 0\n        B = X\n    else:\n        R = 0\n        G = 0\n        B = 0\n        \n    m = norm - C/2\n    \n    return (R+m, G+m, B+m)",
    "id": "341ea8fd0ab8413dad12f54ea5a91267",
    "idx": 2,
    "time": "2021-02-12T06:20:27.792Z",
    "type": "execution"
   },
   {
    "id": "341ea8fd0ab8413dad12f54ea5a91267",
    "time": "2021-02-12T06:20:28.005Z",
    "type": "completion"
   },
   {
    "code": "\n# Plot a Hinton diagram of a matrix of complex numbers\ndef matrixPhase(matrix):\n    # MATRIX assumed to have complex numbers with magnitude at most 1\n    # MATRIX also assumed to be square\n\n    array = np.asarray(matrix)\n    dim = array.shape[0]\n    rect_coords = [i/dim for i in range(dim+1)]\n    figure, axes = plt.subplots()\n\n    # Due to matrix indexing, i controls y-coodinate, j controls x-coordinate\n    for i in range(dim):\n        for j in range(dim):            \n            # Use RECT_COORDS to find centers of the phase diagram circle\n            x = (rect_coords[j] + rect_coords[j+1]) / 2\n            y = 1 - (rect_coords[i] + rect_coords[i+1]) / 2\n            \n            num = array[i][j]\n            r = np.abs(num) / (2*dim)\n            theta = np.angle(num)\n            \n            # For some reason, Patches uses RGBA instead of RGB, which has values between 0 and 1, not 0 and 255\n            # Tuples are immutable, so we have to make a new tuple\n            R, G, B = complexColor(num)\n\n            circle = plt.Circle((x, y), r, color=(R/255, G/255, B/255, 1))\n            axes.add_patch(circle)\n            plt.plot([x, x + r * np.cos(theta)], [y, y + r * np.sin(theta)], linestyle='-', color='k')\n    plt.xlim([0,1])\n    plt.ylim([0,1])\n    plt.show()",
    "id": "da7e669a352b491d8fac27704cd1fdfe",
    "idx": 3,
    "time": "2021-02-12T06:20:28.354Z",
    "type": "execution"
   },
   {
    "id": "da7e669a352b491d8fac27704cd1fdfe",
    "time": "2021-02-12T06:20:28.444Z",
    "type": "completion"
   },
   {
    "code": "matrixPhase([[0.5+0.5j,0.3],[0.1,0.8]])",
    "id": "754a30210d9242208edd0df2f085db82",
    "idx": 4,
    "time": "2021-02-12T06:20:29.724Z",
    "type": "execution"
   },
   {
    "id": "754a30210d9242208edd0df2f085db82",
    "time": "2021-02-12T06:20:30.017Z",
    "type": "completion"
   },
   {
    "code": "# Convert magnitude and phase to an RGB triple\ndef complexColor(z):\n    # Use standard mapping of magnitude and phase to HSL (H = phase, L = magnitude, S = 1)\n    # Then map HSL to RGB and return a triple\n    # Magnitude assumed not greater than 1\n    \n    norm = np.abs(z)\n    phase = np.angle(z)\n    \n    C = 1 - abs(2*norm - 1)\n    H = phase/(np.pi / 3) # Finds which of the 6 sections of the color wheel the phase belongs to\n    X = C * (1 - abs((H%2) - 1))\n    \n    # 6 cases corresponding to the 6 sections\n    if H <= 1:\n        R = C\n        G = X\n        B = 0\n    elif H <= 2:\n        R = X\n        G = C\n        B = 0\n    elif H <= 3:\n        R = 0\n        G = C\n        B = X\n    elif H <= 4:\n        R = 0\n        G = X\n        B = C\n    elif H <= 5:\n        R = X\n        G = 0\n        B = C\n    elif H <= 6:\n        R = C\n        G = 0\n        B = X\n    else:\n        R = 0\n        G = 0\n        B = 0\n        \n    m = norm - C/2\n    \n    return (R+m, G+m, B+m)",
    "id": "341ea8fd0ab8413dad12f54ea5a91267",
    "idx": 2,
    "time": "2021-02-12T06:20:46.774Z",
    "type": "execution"
   },
   {
    "id": "341ea8fd0ab8413dad12f54ea5a91267",
    "time": "2021-02-12T06:20:46.860Z",
    "type": "completion"
   },
   {
    "code": "\n# Plot a Hinton diagram of a matrix of complex numbers\ndef matrixPhase(matrix):\n    # MATRIX assumed to have complex numbers with magnitude at most 1\n    # MATRIX also assumed to be square\n\n    array = np.asarray(matrix)\n    dim = array.shape[0]\n    rect_coords = [i/dim for i in range(dim+1)]\n    figure, axes = plt.subplots()\n\n    # Due to matrix indexing, i controls y-coodinate, j controls x-coordinate\n    for i in range(dim):\n        for j in range(dim):            \n            # Use RECT_COORDS to find centers of the phase diagram circle\n            x = (rect_coords[j] + rect_coords[j+1]) / 2\n            y = 1 - (rect_coords[i] + rect_coords[i+1]) / 2\n            \n            num = array[i][j]\n            r = np.abs(num) / (2*dim)\n            theta = np.angle(num)\n            \n            # For some reason, Patches uses RGBA instead of RGB, which has values between 0 and 1, not 0 and 255\n            # Tuples are immutable, so we have to make a new tuple\n            R, G, B = complexColor(num)\n\n            circle = plt.Circle((x, y), r, color=(R/255, G/255, B/255, 1))\n            axes.add_patch(circle)\n            plt.plot([x, x + r * np.cos(theta)], [y, y + r * np.sin(theta)], linestyle='-', color='k')\n    plt.xlim([0,1])\n    plt.ylim([0,1])\n    plt.show()",
    "id": "da7e669a352b491d8fac27704cd1fdfe",
    "idx": 3,
    "time": "2021-02-12T06:20:47.103Z",
    "type": "execution"
   },
   {
    "id": "da7e669a352b491d8fac27704cd1fdfe",
    "time": "2021-02-12T06:20:47.187Z",
    "type": "completion"
   },
   {
    "code": "matrixPhase([[0.5+0.5j,0.3],[0.1,0.8]])",
    "id": "754a30210d9242208edd0df2f085db82",
    "idx": 4,
    "time": "2021-02-12T06:20:47.780Z",
    "type": "execution"
   },
   {
    "id": "754a30210d9242208edd0df2f085db82",
    "time": "2021-02-12T06:20:48.137Z",
    "type": "completion"
   },
   {
    "code": "# Convert magnitude and phase to an RGB triple\ndef complexColor(z):\n    # Use standard mapping of magnitude and phase to HSL (H = phase, L = magnitude, S = 1)\n    # Then map HSL to RGB and return a triple\n    # Magnitude assumed not greater than 1\n    \n    norm = np.abs(z)\n    phase = np.angle(z)\n    \n    C = 1 - abs(2*norm - 1)\n    H = phase/(np.pi / 3) # Finds which of the 6 sections of the color wheel the phase belongs to\n    X = C * (1 - abs((H%2) - 1))\n    \n    # 6 cases corresponding to the 6 sections\n    if H <= 1:\n        R = C\n        G = X\n        B = 0\n    elif H <= 2:\n        R = X\n        G = C\n        B = 0\n    elif H <= 3:\n        R = 0\n        G = C\n        B = X\n    elif H <= 4:\n        R = 0\n        G = X\n        B = C\n    elif H <= 5:\n        R = X\n        G = 0\n        B = C\n    elif H <= 6:\n        R = C\n        G = 0\n        B = X\n    else:\n        R = 255\n        G = 255\n        B = 255\n        \n    m = norm - C/2\n    \n    return (R+m, G+m, B+m)",
    "id": "341ea8fd0ab8413dad12f54ea5a91267",
    "idx": 2,
    "time": "2021-02-12T06:21:18.001Z",
    "type": "execution"
   },
   {
    "id": "341ea8fd0ab8413dad12f54ea5a91267",
    "time": "2021-02-12T06:21:18.093Z",
    "type": "completion"
   },
   {
    "code": "\n# Plot a Hinton diagram of a matrix of complex numbers\ndef matrixPhase(matrix):\n    # MATRIX assumed to have complex numbers with magnitude at most 1\n    # MATRIX also assumed to be square\n\n    array = np.asarray(matrix)\n    dim = array.shape[0]\n    rect_coords = [i/dim for i in range(dim+1)]\n    figure, axes = plt.subplots()\n\n    # Due to matrix indexing, i controls y-coodinate, j controls x-coordinate\n    for i in range(dim):\n        for j in range(dim):            \n            # Use RECT_COORDS to find centers of the phase diagram circle\n            x = (rect_coords[j] + rect_coords[j+1]) / 2\n            y = 1 - (rect_coords[i] + rect_coords[i+1]) / 2\n            \n            num = array[i][j]\n            r = np.abs(num) / (2*dim)\n            theta = np.angle(num)\n            \n            # For some reason, Patches uses RGBA instead of RGB, which has values between 0 and 1, not 0 and 255\n            # Tuples are immutable, so we have to make a new tuple\n            R, G, B = complexColor(num)\n\n            circle = plt.Circle((x, y), r, color=(R/255, G/255, B/255, 1))\n            axes.add_patch(circle)\n            plt.plot([x, x + r * np.cos(theta)], [y, y + r * np.sin(theta)], linestyle='-', color='k')\n    plt.xlim([0,1])\n    plt.ylim([0,1])\n    plt.show()",
    "id": "da7e669a352b491d8fac27704cd1fdfe",
    "idx": 3,
    "time": "2021-02-12T06:21:18.180Z",
    "type": "execution"
   },
   {
    "id": "da7e669a352b491d8fac27704cd1fdfe",
    "time": "2021-02-12T06:21:18.272Z",
    "type": "completion"
   },
   {
    "code": "matrixPhase([[0.5+0.5j,0.3],[0.1,0.8]])",
    "id": "754a30210d9242208edd0df2f085db82",
    "idx": 4,
    "time": "2021-02-12T06:21:18.652Z",
    "type": "execution"
   },
   {
    "id": "754a30210d9242208edd0df2f085db82",
    "time": "2021-02-12T06:21:19.066Z",
    "type": "completion"
   },
   {
    "code": "# Convert magnitude and phase to an RGB triple\ndef complexColor(z):\n    # Use standard mapping of magnitude and phase to HSL (H = phase, L = magnitude, S = 1)\n    # Then map HSL to RGB and return a triple\n    # Magnitude assumed not greater than 1\n    \n    norm = np.abs(z)\n    phase = np.angle(z)\n    \n    C = 1 - abs(2*norm - 1)\n    H = phase/(np.pi / 3) # Finds which of the 6 sections of the color wheel the phase belongs to\n    X = C * (1 - abs((H%2) - 1))\n    \n    # 6 cases corresponding to the 6 sections\n    if H <= 1:\n        R = C\n        G = X\n        B = 0\n    elif H <= 2:\n        R = X\n        G = C\n        B = 0\n    elif H <= 3:\n        R = 0\n        G = C\n        B = X\n    elif H <= 4:\n        R = 0\n        G = X\n        B = C\n    elif H <= 5:\n        R = X\n        G = 0\n        B = C\n    elif H <= 6:\n        R = C\n        G = 0\n        B = X\n    else:\n        R = 0\n        G = 0\n        B = 0\n        \n    m = norm - C/2\n    \n    return (R+m, G+m, B+m)",
    "id": "341ea8fd0ab8413dad12f54ea5a91267",
    "idx": 2,
    "time": "2021-02-12T06:21:22.951Z",
    "type": "execution"
   },
   {
    "id": "341ea8fd0ab8413dad12f54ea5a91267",
    "time": "2021-02-12T06:21:23.039Z",
    "type": "completion"
   },
   {
    "code": "\n# Plot a Hinton diagram of a matrix of complex numbers\ndef matrixPhase(matrix):\n    # MATRIX assumed to have complex numbers with magnitude at most 1\n    # MATRIX also assumed to be square\n\n    array = np.asarray(matrix)\n    dim = array.shape[0]\n    rect_coords = [i/dim for i in range(dim+1)]\n    figure, axes = plt.subplots()\n\n    # Due to matrix indexing, i controls y-coodinate, j controls x-coordinate\n    for i in range(dim):\n        for j in range(dim):            \n            # Use RECT_COORDS to find centers of the phase diagram circle\n            x = (rect_coords[j] + rect_coords[j+1]) / 2\n            y = 1 - (rect_coords[i] + rect_coords[i+1]) / 2\n            \n            num = array[i][j]\n            r = np.abs(num) / (2*dim)\n            theta = np.angle(num)\n            \n            # For some reason, Patches uses RGBA instead of RGB, which has values between 0 and 1, not 0 and 255\n            # Tuples are immutable, so we have to make a new tuple\n            R, G, B = complexColor(num)\n\n            circle = plt.Circle((x, y), r, color=(R/255, G/255, B/255, 1))\n            axes.add_patch(circle)\n            plt.plot([x, x + r * np.cos(theta)], [y, y + r * np.sin(theta)], linestyle='-', color='k')\n    plt.xlim([0,1])\n    plt.ylim([0,1])\n    plt.show()",
    "id": "da7e669a352b491d8fac27704cd1fdfe",
    "idx": 3,
    "time": "2021-02-12T06:21:23.116Z",
    "type": "execution"
   },
   {
    "id": "da7e669a352b491d8fac27704cd1fdfe",
    "time": "2021-02-12T06:21:23.331Z",
    "type": "completion"
   },
   {
    "code": "matrixPhase([[0.5+0.5j,0.3],[0.1,0.8]])",
    "id": "754a30210d9242208edd0df2f085db82",
    "idx": 4,
    "time": "2021-02-12T06:21:23.521Z",
    "type": "execution"
   },
   {
    "id": "754a30210d9242208edd0df2f085db82",
    "time": "2021-02-12T06:21:23.846Z",
    "type": "completion"
   },
   {
    "code": "# Convert magnitude and phase to an RGB triple\ndef complexColor(z):\n    # Use standard mapping of magnitude and phase to HSL (H = phase, L = magnitude, S = 1)\n    # Then map HSL to RGB and return a triple\n    # Magnitude assumed not greater than 1\n    \n    norm = np.abs(z)\n    phase = np.angle(z)\n    \n    C = 1 - abs(2*norm - 1)\n    H = phase/(np.pi / 3) # Finds which of the 6 sections of the color wheel the phase belongs to\n    X = C * (1 - abs((H%2) - 1))\n    \n    # 6 cases corresponding to the 6 sections\n    if H <= 1:\n        R = C\n        G = X\n        B = 0\n    elif H <= 2:\n        R = X\n        G = C\n        B = 0\n    elif H <= 3:\n        R = 0\n        G = C\n        B = X\n    elif H <= 4:\n        R = 0\n        G = X\n        B = C\n    elif H <= 5:\n        R = X\n        G = 0\n        B = C\n    elif H <= 6:\n        R = C\n        G = 0\n        B = X\n        \n    m = norm - C/2\n    \n    return (R+m, G+m, B+m)",
    "id": "341ea8fd0ab8413dad12f54ea5a91267",
    "idx": 2,
    "time": "2021-02-12T06:21:32.094Z",
    "type": "execution"
   },
   {
    "id": "341ea8fd0ab8413dad12f54ea5a91267",
    "time": "2021-02-12T06:21:32.182Z",
    "type": "completion"
   },
   {
    "code": "\n# Plot a Hinton diagram of a matrix of complex numbers\ndef matrixPhase(matrix):\n    # MATRIX assumed to have complex numbers with magnitude at most 1\n    # MATRIX also assumed to be square\n\n    array = np.asarray(matrix)\n    dim = array.shape[0]\n    rect_coords = [i/dim for i in range(dim+1)]\n    figure, axes = plt.subplots()\n\n    # Due to matrix indexing, i controls y-coodinate, j controls x-coordinate\n    for i in range(dim):\n        for j in range(dim):            \n            # Use RECT_COORDS to find centers of the phase diagram circle\n            x = (rect_coords[j] + rect_coords[j+1]) / 2\n            y = 1 - (rect_coords[i] + rect_coords[i+1]) / 2\n            \n            num = array[i][j]\n            r = np.abs(num) / (2*dim)\n            theta = np.angle(num)\n            \n            # For some reason, Patches uses RGBA instead of RGB, which has values between 0 and 1, not 0 and 255\n            # Tuples are immutable, so we have to make a new tuple\n            R, G, B = complexColor(num)\n\n            circle = plt.Circle((x, y), r, color=(R/255, G/255, B/255, 1))\n            axes.add_patch(circle)\n            plt.plot([x, x + r * np.cos(theta)], [y, y + r * np.sin(theta)], linestyle='-', color='k')\n    plt.xlim([0,1])\n    plt.ylim([0,1])\n    plt.show()",
    "id": "da7e669a352b491d8fac27704cd1fdfe",
    "idx": 3,
    "time": "2021-02-12T06:21:32.259Z",
    "type": "execution"
   },
   {
    "id": "da7e669a352b491d8fac27704cd1fdfe",
    "time": "2021-02-12T06:21:32.395Z",
    "type": "completion"
   },
   {
    "code": "matrixPhase([[0.5+0.5j,0.3],[0.1,0.8]])",
    "id": "754a30210d9242208edd0df2f085db82",
    "idx": 4,
    "time": "2021-02-12T06:21:32.687Z",
    "type": "execution"
   },
   {
    "id": "754a30210d9242208edd0df2f085db82",
    "time": "2021-02-12T06:21:33.022Z",
    "type": "completion"
   },
   {
    "code": "# Convert magnitude and phase to an RGB triple\ndef complexColor(z):\n    # Use standard mapping of magnitude and phase to HSL (H = phase, L = magnitude, S = 1)\n    # Then map HSL to RGB and return a triple\n    # Magnitude assumed not greater than 1\n    \n    norm = np.abs(z)\n    phase = np.angle(z)\n    \n    C = 1 - abs(2*norm - 1)\n    H = phase/(np.pi / 3) # Finds which of the 6 sections of the color wheel the phase belongs to\n    X = C * (1 - abs((H%2) - 1))\n    \n    # 6 cases corresponding to the 6 sections\n    if H <= 1:\n        R = C\n        G = X\n        B = 0\n    elif H <= 2:\n        R = X\n        G = C\n        B = 0\n    elif H <= 3:\n        R = 0\n        G = C\n        B = X\n    elif H <= 4:\n        R = 0\n        G = X\n        B = C\n    elif H <= 5:\n        R = X\n        G = 0\n        B = C\n    elif H <= 6:\n        R = C\n        G = 0\n        B = X\n    else:\n        R = 0\n        G = 0\n        B = 0\n        \n    m = norm - C/2\n    \n    return (R+m, G+m, B+m)",
    "id": "341ea8fd0ab8413dad12f54ea5a91267",
    "idx": 2,
    "time": "2021-02-12T06:21:36.863Z",
    "type": "execution"
   },
   {
    "id": "341ea8fd0ab8413dad12f54ea5a91267",
    "time": "2021-02-12T06:21:36.953Z",
    "type": "completion"
   },
   {
    "code": "\n# Plot a Hinton diagram of a matrix of complex numbers\ndef matrixPhase(matrix):\n    # MATRIX assumed to have complex numbers with magnitude at most 1\n    # MATRIX also assumed to be square\n\n    array = np.asarray(matrix)\n    dim = array.shape[0]\n    rect_coords = [i/dim for i in range(dim+1)]\n    figure, axes = plt.subplots()\n\n    # Due to matrix indexing, i controls y-coodinate, j controls x-coordinate\n    for i in range(dim):\n        for j in range(dim):            \n            # Use RECT_COORDS to find centers of the phase diagram circle\n            x = (rect_coords[j] + rect_coords[j+1]) / 2\n            y = 1 - (rect_coords[i] + rect_coords[i+1]) / 2\n            \n            num = array[i][j]\n            r = np.abs(num) / (2*dim)\n            theta = np.angle(num)\n            \n            # For some reason, Patches uses RGBA instead of RGB, which has values between 0 and 1, not 0 and 255\n            # Tuples are immutable, so we have to make a new tuple\n            R, G, B = complexColor(num)\n\n            circle = plt.Circle((x, y), r, color=(R/255, G/255, B/255, 1))\n            axes.add_patch(circle)\n            plt.plot([x, x + r * np.cos(theta)], [y, y + r * np.sin(theta)], linestyle='-', color='k')\n    plt.xlim([0,1])\n    plt.ylim([0,1])\n    plt.show()",
    "id": "da7e669a352b491d8fac27704cd1fdfe",
    "idx": 3,
    "time": "2021-02-12T06:21:37.134Z",
    "type": "execution"
   },
   {
    "id": "da7e669a352b491d8fac27704cd1fdfe",
    "time": "2021-02-12T06:21:37.222Z",
    "type": "completion"
   },
   {
    "code": "matrixPhase([[1,0.3],[0.1,0.8]])",
    "id": "754a30210d9242208edd0df2f085db82",
    "idx": 4,
    "time": "2021-02-12T06:21:54.447Z",
    "type": "execution"
   },
   {
    "id": "754a30210d9242208edd0df2f085db82",
    "time": "2021-02-12T06:21:54.781Z",
    "type": "completion"
   },
   {
    "code": "\n# Plot a Hinton diagram of a matrix of complex numbers\ndef matrixPhase(matrix):\n    # MATRIX assumed to have complex numbers with magnitude at most 1\n    # MATRIX also assumed to be square\n\n    array = np.asarray(matrix)\n    dim = array.shape[0]\n    rect_coords = [i/dim for i in range(dim+1)]\n    figure, axes = plt.subplots()\n\n    # Due to matrix indexing, i controls y-coodinate, j controls x-coordinate\n    for i in range(dim):\n        for j in range(dim):            \n            # Use RECT_COORDS to find centers of the phase diagram circle\n            x = (rect_coords[j] + rect_coords[j+1]) / 2\n            y = 1 - (rect_coords[i] + rect_coords[i+1]) / 2\n            \n            num = array[i][j]\n            r = np.abs(num) / (2*dim)\n            theta = np.angle(num)\n            \n            # For some reason, Patches uses RGBA instead of RGB, which has values between 0 and 1, not 0 and 255\n            # Tuples are immutable, so we have to make a new tuple\n            R, G, B = complexColor(num)\n\n            circle = plt.Circle((x, y), r, color=(1, G/255, B/255, 1))\n            axes.add_patch(circle)\n            plt.plot([x, x + r * np.cos(theta)], [y, y + r * np.sin(theta)], linestyle='-', color='k')\n    plt.xlim([0,1])\n    plt.ylim([0,1])\n    plt.show()",
    "id": "da7e669a352b491d8fac27704cd1fdfe",
    "idx": 3,
    "time": "2021-02-12T06:23:17.665Z",
    "type": "execution"
   },
   {
    "id": "da7e669a352b491d8fac27704cd1fdfe",
    "time": "2021-02-12T06:23:17.775Z",
    "type": "completion"
   },
   {
    "code": "matrixPhase([[0.5+0.5j,0.3],[0.1,0.8]])",
    "id": "754a30210d9242208edd0df2f085db82",
    "idx": 4,
    "time": "2021-02-12T06:23:17.838Z",
    "type": "execution"
   },
   {
    "id": "754a30210d9242208edd0df2f085db82",
    "time": "2021-02-12T06:23:18.197Z",
    "type": "completion"
   },
   {
    "code": "\n# Plot a Hinton diagram of a matrix of complex numbers\ndef matrixPhase(matrix):\n    # MATRIX assumed to have complex numbers with magnitude at most 1\n    # MATRIX also assumed to be square\n\n    array = np.asarray(matrix)\n    dim = array.shape[0]\n    rect_coords = [i/dim for i in range(dim+1)]\n    figure, axes = plt.subplots()\n\n    # Due to matrix indexing, i controls y-coodinate, j controls x-coordinate\n    for i in range(dim):\n        for j in range(dim):            \n            # Use RECT_COORDS to find centers of the phase diagram circle\n            x = (rect_coords[j] + rect_coords[j+1]) / 2\n            y = 1 - (rect_coords[i] + rect_coords[i+1]) / 2\n            \n            num = array[i][j]\n            r = np.abs(num) / (2*dim)\n            theta = np.angle(num)\n            \n            # For some reason, Patches uses RGBA instead of RGB, which has values between 0 and 1, not 0 and 255\n            # Tuples are immutable, so we have to make a new tuple\n            R, G, B = complexColor(num)\n\n            circle = plt.Circle((x, y), r, color=(0, G/255, B/255, 1))\n            axes.add_patch(circle)\n            plt.plot([x, x + r * np.cos(theta)], [y, y + r * np.sin(theta)], linestyle='-', color='k')\n    plt.xlim([0,1])\n    plt.ylim([0,1])\n    plt.show()",
    "id": "da7e669a352b491d8fac27704cd1fdfe",
    "idx": 3,
    "time": "2021-02-12T06:23:21.371Z",
    "type": "execution"
   },
   {
    "id": "da7e669a352b491d8fac27704cd1fdfe",
    "time": "2021-02-12T06:23:21.461Z",
    "type": "completion"
   },
   {
    "code": "matrixPhase([[0.5+0.5j,0.3],[0.1,0.8]])",
    "id": "754a30210d9242208edd0df2f085db82",
    "idx": 4,
    "time": "2021-02-12T06:23:21.522Z",
    "type": "execution"
   },
   {
    "id": "754a30210d9242208edd0df2f085db82",
    "time": "2021-02-12T06:23:21.870Z",
    "type": "completion"
   },
   {
    "code": "\n# Plot a Hinton diagram of a matrix of complex numbers\ndef matrixPhase(matrix):\n    # MATRIX assumed to have complex numbers with magnitude at most 1\n    # MATRIX also assumed to be square\n\n    array = np.asarray(matrix)\n    dim = array.shape[0]\n    rect_coords = [i/dim for i in range(dim+1)]\n    figure, axes = plt.subplots()\n\n    # Due to matrix indexing, i controls y-coodinate, j controls x-coordinate\n    for i in range(dim):\n        for j in range(dim):            \n            # Use RECT_COORDS to find centers of the phase diagram circle\n            x = (rect_coords[j] + rect_coords[j+1]) / 2\n            y = 1 - (rect_coords[i] + rect_coords[i+1]) / 2\n            \n            num = array[i][j]\n            r = np.abs(num) / (2*dim)\n            theta = np.angle(num)\n            \n            # For some reason, Patches uses RGBA instead of RGB, which has values between 0 and 1, not 0 and 255\n            # Tuples are immutable, so we have to make a new tuple\n            R, G, B = complexColor(num)\n\n            circle = plt.Circle((x, y), r, color=(R/255, 1, B/255, 1))\n            axes.add_patch(circle)\n            plt.plot([x, x + r * np.cos(theta)], [y, y + r * np.sin(theta)], linestyle='-', color='k')\n    plt.xlim([0,1])\n    plt.ylim([0,1])\n    plt.show()",
    "id": "da7e669a352b491d8fac27704cd1fdfe",
    "idx": 3,
    "time": "2021-02-12T06:23:35.644Z",
    "type": "execution"
   },
   {
    "id": "da7e669a352b491d8fac27704cd1fdfe",
    "time": "2021-02-12T06:23:35.727Z",
    "type": "completion"
   },
   {
    "code": "matrixPhase([[0.5+0.5j,0.3],[0.1,0.8]])",
    "id": "754a30210d9242208edd0df2f085db82",
    "idx": 4,
    "time": "2021-02-12T06:23:35.764Z",
    "type": "execution"
   },
   {
    "id": "754a30210d9242208edd0df2f085db82",
    "time": "2021-02-12T06:23:36.094Z",
    "type": "completion"
   },
   {
    "code": "\n# Plot a Hinton diagram of a matrix of complex numbers\ndef matrixPhase(matrix):\n    # MATRIX assumed to have complex numbers with magnitude at most 1\n    # MATRIX also assumed to be square\n\n    array = np.asarray(matrix)\n    dim = array.shape[0]\n    rect_coords = [i/dim for i in range(dim+1)]\n    figure, axes = plt.subplots()\n\n    # Due to matrix indexing, i controls y-coodinate, j controls x-coordinate\n    for i in range(dim):\n        for j in range(dim):            \n            # Use RECT_COORDS to find centers of the phase diagram circle\n            x = (rect_coords[j] + rect_coords[j+1]) / 2\n            y = 1 - (rect_coords[i] + rect_coords[i+1]) / 2\n            \n            num = array[i][j]\n            r = np.abs(num) / (2*dim)\n            theta = np.angle(num)\n            \n            # For some reason, Patches uses RGBA instead of RGB, which has values between 0 and 1, not 0 and 255\n            # Tuples are immutable, so we have to make a new tuple\n            R, G, B = complexColor(num)\n\n            circle = plt.Circle((x, y), r, color=(R/255, G/255, B/255, 1))\n            axes.add_patch(circle)\n            plt.plot([x, x + r * np.cos(theta)], [y, y + r * np.sin(theta)], linestyle='-', color='k')\n    plt.xlim([0,1])\n    plt.ylim([0,1])\n    plt.show()",
    "id": "da7e669a352b491d8fac27704cd1fdfe",
    "idx": 3,
    "time": "2021-02-12T06:23:41.909Z",
    "type": "execution"
   },
   {
    "id": "da7e669a352b491d8fac27704cd1fdfe",
    "time": "2021-02-12T06:23:42.007Z",
    "type": "completion"
   },
   {
    "code": "matrixPhase([[0.5+0.5j,0.3],[0.1,0.8]])",
    "id": "754a30210d9242208edd0df2f085db82",
    "idx": 4,
    "time": "2021-02-12T06:23:42.402Z",
    "type": "execution"
   },
   {
    "id": "754a30210d9242208edd0df2f085db82",
    "time": "2021-02-12T06:23:42.769Z",
    "type": "completion"
   },
   {
    "code": "# Convert magnitude and phase to an RGB triple\ndef complexColor(z):\n    # Use standard mapping of magnitude and phase to HSL (H = phase, L = magnitude, S = 1)\n    # Then map HSL to RGB and return a triple\n    # Magnitude assumed not greater than 1\n    \n    norm = np.abs(z)\n    phase = np.angle(z)\n    \n    C = 1 - abs(2*norm - 1)\n    H = phase/(np.pi / 3) # Finds which of the 6 sections of the color wheel the phase belongs to\n    X = C * (1 - abs((H % 2) - 1))\n    \n    # 6 cases corresponding to the 6 sections\n    if H <= 1:\n        R = C\n        G = X\n        B = 0\n    elif H <= 2:\n        R = X\n        G = C\n        B = 0\n    elif H <= 3:\n        R = 0\n        G = C\n        B = X\n    elif H <= 4:\n        R = 0\n        G = X\n        B = C\n    elif H <= 5:\n        R = X\n        G = 0\n        B = C\n    elif H <= 6:\n        R = C\n        G = 0\n        B = X\n    else:\n        R = 0\n        G = 0\n        B = 0\n        \n    m = norm - C/2\n    \n    return (R+m, G+m, B+m)",
    "id": "341ea8fd0ab8413dad12f54ea5a91267",
    "idx": 2,
    "time": "2021-02-12T06:24:00.149Z",
    "type": "execution"
   },
   {
    "id": "341ea8fd0ab8413dad12f54ea5a91267",
    "time": "2021-02-12T06:24:00.237Z",
    "type": "completion"
   },
   {
    "code": "# Convert magnitude and phase to an RGB triple\ndef complexColor(z):\n    # Use standard mapping of magnitude and phase to HSL (H = phase, L = magnitude, S = 1)\n    # Then map HSL to RGB and return a triple\n    # Magnitude assumed not greater than 1\n    \n    norm = np.abs(z)\n    phase = np.angle(z)\n    \n    C = 1 - abs(2*norm - 1)\n    H = phase/(np.pi / 3) # Finds which of the 6 sections of the color wheel the phase belongs to\n    X = C * (1 - abs((H % 2) - 1))\n    \n    # 6 cases corresponding to the 6 sections\n    if H <= 1:\n        R = C\n        G = X\n        B = 0\n    elif H <= 2:\n        R = X\n        G = C\n        B = 0\n    elif H <= 3:\n        R = 0\n        G = C\n        B = X\n    elif H <= 4:\n        R = 0\n        G = X\n        B = C\n    elif H <= 5:\n        R = X\n        G = 0\n        B = C\n    elif H <= 6:\n        R = C\n        G = 0\n        B = X\n    else:\n        R = 255\n        G = 0\n        B = 0\n        \n    m = norm - C/2\n    \n    return (R+m, G+m, B+m)",
    "id": "341ea8fd0ab8413dad12f54ea5a91267",
    "idx": 2,
    "time": "2021-02-12T06:24:06.351Z",
    "type": "execution"
   },
   {
    "id": "341ea8fd0ab8413dad12f54ea5a91267",
    "time": "2021-02-12T06:24:06.437Z",
    "type": "completion"
   },
   {
    "code": "\n# Plot a Hinton diagram of a matrix of complex numbers\ndef matrixPhase(matrix):\n    # MATRIX assumed to have complex numbers with magnitude at most 1\n    # MATRIX also assumed to be square\n\n    array = np.asarray(matrix)\n    dim = array.shape[0]\n    rect_coords = [i/dim for i in range(dim+1)]\n    figure, axes = plt.subplots()\n\n    # Due to matrix indexing, i controls y-coodinate, j controls x-coordinate\n    for i in range(dim):\n        for j in range(dim):            \n            # Use RECT_COORDS to find centers of the phase diagram circle\n            x = (rect_coords[j] + rect_coords[j+1]) / 2\n            y = 1 - (rect_coords[i] + rect_coords[i+1]) / 2\n            \n            num = array[i][j]\n            r = np.abs(num) / (2*dim)\n            theta = np.angle(num)\n            \n            # For some reason, Patches uses RGBA instead of RGB, which has values between 0 and 1, not 0 and 255\n            # Tuples are immutable, so we have to make a new tuple\n            R, G, B = complexColor(num)\n\n            circle = plt.Circle((x, y), r, color=(R/255, G/255, B/255, 1))\n            axes.add_patch(circle)\n            plt.plot([x, x + r * np.cos(theta)], [y, y + r * np.sin(theta)], linestyle='-', color='k')\n    plt.xlim([0,1])\n    plt.ylim([0,1])\n    plt.show()",
    "id": "da7e669a352b491d8fac27704cd1fdfe",
    "idx": 3,
    "time": "2021-02-12T06:24:06.539Z",
    "type": "execution"
   },
   {
    "id": "da7e669a352b491d8fac27704cd1fdfe",
    "time": "2021-02-12T06:24:06.630Z",
    "type": "completion"
   },
   {
    "code": "matrixPhase([[0.5+0.5j,0.3],[0.1,0.8]])",
    "id": "754a30210d9242208edd0df2f085db82",
    "idx": 4,
    "time": "2021-02-12T06:24:07.027Z",
    "type": "execution"
   },
   {
    "id": "754a30210d9242208edd0df2f085db82",
    "time": "2021-02-12T06:24:07.399Z",
    "type": "completion"
   },
   {
    "code": "# Convert magnitude and phase to an RGB triple\ndef complexColor(z):\n    # Use standard mapping of magnitude and phase to HSL (H = phase, L = magnitude, S = 1)\n    # Then map HSL to RGB and return a triple\n    # Magnitude assumed not greater than 1\n    \n    norm = np.abs(z)\n    phase = np.angle(z, deg=True)\n    \n    C = 1 - abs(2*norm - 1)\n    H = phase/60 # Finds which of the 6 sections of the color wheel the phase belongs to\n    X = C * (1 - abs((H % 2) - 1))\n    \n    # 6 cases corresponding to the 6 sections\n    if H <= 1:\n        R = C\n        G = X\n        B = 0\n    elif H <= 2:\n        R = X\n        G = C\n        B = 0\n    elif H <= 3:\n        R = 0\n        G = C\n        B = X\n    elif H <= 4:\n        R = 0\n        G = X\n        B = C\n    elif H <= 5:\n        R = X\n        G = 0\n        B = C\n    elif H <= 6:\n        R = C\n        G = 0\n        B = X\n    else:\n        R = 0\n        G = 0\n        B = 0\n        \n    m = norm - C/2\n    \n    return (R+m, G+m, B+m)",
    "id": "341ea8fd0ab8413dad12f54ea5a91267",
    "idx": 2,
    "time": "2021-02-12T06:25:03.023Z",
    "type": "execution"
   },
   {
    "id": "341ea8fd0ab8413dad12f54ea5a91267",
    "time": "2021-02-12T06:25:03.120Z",
    "type": "completion"
   },
   {
    "code": "\n# Plot a Hinton diagram of a matrix of complex numbers\ndef matrixPhase(matrix):\n    # MATRIX assumed to have complex numbers with magnitude at most 1\n    # MATRIX also assumed to be square\n\n    array = np.asarray(matrix)\n    dim = array.shape[0]\n    rect_coords = [i/dim for i in range(dim+1)]\n    figure, axes = plt.subplots()\n\n    # Due to matrix indexing, i controls y-coodinate, j controls x-coordinate\n    for i in range(dim):\n        for j in range(dim):            \n            # Use RECT_COORDS to find centers of the phase diagram circle\n            x = (rect_coords[j] + rect_coords[j+1]) / 2\n            y = 1 - (rect_coords[i] + rect_coords[i+1]) / 2\n            \n            num = array[i][j]\n            r = np.abs(num) / (2*dim)\n            theta = np.angle(num)\n            \n            # For some reason, Patches uses RGBA instead of RGB, which has values between 0 and 1, not 0 and 255\n            # Tuples are immutable, so we have to make a new tuple\n            R, G, B = complexColor(num)\n\n            circle = plt.Circle((x, y), r, color=(R/255, G/255, B/255, 1))\n            axes.add_patch(circle)\n            plt.plot([x, x + r * np.cos(theta)], [y, y + r * np.sin(theta)], linestyle='-', color='k')\n    plt.xlim([0,1])\n    plt.ylim([0,1])\n    plt.show()",
    "id": "da7e669a352b491d8fac27704cd1fdfe",
    "idx": 3,
    "time": "2021-02-12T06:25:03.396Z",
    "type": "execution"
   },
   {
    "id": "da7e669a352b491d8fac27704cd1fdfe",
    "time": "2021-02-12T06:25:03.482Z",
    "type": "completion"
   },
   {
    "code": "matrixPhase([[0.5+0.5j,0.3],[0.1,0.8]])",
    "id": "754a30210d9242208edd0df2f085db82",
    "idx": 4,
    "time": "2021-02-12T06:25:03.922Z",
    "type": "execution"
   },
   {
    "id": "754a30210d9242208edd0df2f085db82",
    "time": "2021-02-12T06:25:04.266Z",
    "type": "completion"
   },
   {
    "code": "\n# Plot a Hinton diagram of a matrix of complex numbers\ndef matrixPhase(matrix):\n    # MATRIX assumed to have complex numbers with magnitude at most 1\n    # MATRIX also assumed to be square\n\n    array = np.asarray(matrix)\n    dim = array.shape[0]\n    rect_coords = [i/dim for i in range(dim+1)]\n    figure, axes = plt.subplots()\n\n    # Due to matrix indexing, i controls y-coodinate, j controls x-coordinate\n    for i in range(dim):\n        for j in range(dim):            \n            # Use RECT_COORDS to find centers of the phase diagram circle\n            x = (rect_coords[j] + rect_coords[j+1]) / 2\n            y = 1 - (rect_coords[i] + rect_coords[i+1]) / 2\n            \n            num = array[i][j]\n            r = np.abs(num) / (2*dim)\n            theta = np.angle(num)\n            \n            # For some reason, Patches uses RGBA instead of RGB, which has values between 0 and 1, not 0 and 255\n            # Tuples are immutable, so we have to make a new tuple\n            R, G, B = complexColor(num)\n\n            circle = plt.Circle((x, y), r, color=(R/255, G/255, B/255, 0))\n            axes.add_patch(circle)\n            plt.plot([x, x + r * np.cos(theta)], [y, y + r * np.sin(theta)], linestyle='-', color='k')\n    plt.xlim([0,1])\n    plt.ylim([0,1])\n    plt.show()",
    "id": "da7e669a352b491d8fac27704cd1fdfe",
    "idx": 3,
    "time": "2021-02-12T06:25:21.430Z",
    "type": "execution"
   },
   {
    "id": "da7e669a352b491d8fac27704cd1fdfe",
    "time": "2021-02-12T06:25:21.518Z",
    "type": "completion"
   },
   {
    "code": "matrixPhase([[0.5+0.5j,0.3],[0.1,0.8]])",
    "id": "754a30210d9242208edd0df2f085db82",
    "idx": 4,
    "time": "2021-02-12T06:25:21.594Z",
    "type": "execution"
   },
   {
    "id": "754a30210d9242208edd0df2f085db82",
    "time": "2021-02-12T06:25:21.879Z",
    "type": "completion"
   },
   {
    "code": "\n# Plot a Hinton diagram of a matrix of complex numbers\ndef matrixPhase(matrix):\n    # MATRIX assumed to have complex numbers with magnitude at most 1\n    # MATRIX also assumed to be square\n\n    array = np.asarray(matrix)\n    dim = array.shape[0]\n    rect_coords = [i/dim for i in range(dim+1)]\n    figure, axes = plt.subplots()\n\n    # Due to matrix indexing, i controls y-coodinate, j controls x-coordinate\n    for i in range(dim):\n        for j in range(dim):            \n            # Use RECT_COORDS to find centers of the phase diagram circle\n            x = (rect_coords[j] + rect_coords[j+1]) / 2\n            y = 1 - (rect_coords[i] + rect_coords[i+1]) / 2\n            \n            num = array[i][j]\n            r = np.abs(num) / (2*dim)\n            theta = np.angle(num)\n            \n            # For some reason, Patches uses RGBA instead of RGB, which has values between 0 and 1, not 0 and 255\n            # Tuples are immutable, so we have to make a new tuple\n            R, G, B = complexColor(num)\n\n            circle = plt.Circle((x, y), r, color=(R/255, G/255, B/255, 0.5))\n            axes.add_patch(circle)\n            plt.plot([x, x + r * np.cos(theta)], [y, y + r * np.sin(theta)], linestyle='-', color='k')\n    plt.xlim([0,1])\n    plt.ylim([0,1])\n    plt.show()",
    "id": "da7e669a352b491d8fac27704cd1fdfe",
    "idx": 3,
    "time": "2021-02-12T06:25:25.060Z",
    "type": "execution"
   },
   {
    "id": "da7e669a352b491d8fac27704cd1fdfe",
    "time": "2021-02-12T06:25:25.148Z",
    "type": "completion"
   },
   {
    "code": "matrixPhase([[0.5+0.5j,0.3],[0.1,0.8]])",
    "id": "754a30210d9242208edd0df2f085db82",
    "idx": 4,
    "time": "2021-02-12T06:25:25.464Z",
    "type": "execution"
   },
   {
    "id": "754a30210d9242208edd0df2f085db82",
    "time": "2021-02-12T06:25:25.835Z",
    "type": "completion"
   },
   {
    "code": "\n# Plot a Hinton diagram of a matrix of complex numbers\ndef matrixPhase(matrix):\n    # MATRIX assumed to have complex numbers with magnitude at most 1\n    # MATRIX also assumed to be square\n\n    array = np.asarray(matrix)\n    dim = array.shape[0]\n    rect_coords = [i/dim for i in range(dim+1)]\n    figure, axes = plt.subplots()\n\n    # Due to matrix indexing, i controls y-coodinate, j controls x-coordinate\n    for i in range(dim):\n        for j in range(dim):            \n            # Use RECT_COORDS to find centers of the phase diagram circle\n            x = (rect_coords[j] + rect_coords[j+1]) / 2\n            y = 1 - (rect_coords[i] + rect_coords[i+1]) / 2\n            \n            num = array[i][j]\n            r = np.abs(num) / (2*dim)\n            theta = np.angle(num)\n            \n            # For some reason, Patches uses RGBA instead of RGB, which has values between 0 and 1, not 0 and 255\n            # Tuples are immutable, so we have to make a new tuple\n            R, G, B = complexColor(num)\n\n            circle = plt.Circle((x, y), r, color=(R/255, G/255, B/255, 1))\n            axes.add_patch(circle)\n            plt.plot([x, x + r * np.cos(theta)], [y, y + r * np.sin(theta)], linestyle='-', color='k')\n    plt.xlim([0,1])\n    plt.ylim([0,1])\n    plt.show()",
    "id": "da7e669a352b491d8fac27704cd1fdfe",
    "idx": 3,
    "time": "2021-02-12T06:25:29.432Z",
    "type": "execution"
   },
   {
    "code": "matrixPhase([[0.5+0.5j,0.3],[0.1,0.8]])",
    "id": "754a30210d9242208edd0df2f085db82",
    "idx": 4,
    "time": "2021-02-12T06:25:29.567Z",
    "type": "execution"
   },
   {
    "id": "da7e669a352b491d8fac27704cd1fdfe",
    "time": "2021-02-12T06:25:29.589Z",
    "type": "completion"
   },
   {
    "id": "754a30210d9242208edd0df2f085db82",
    "time": "2021-02-12T06:25:29.951Z",
    "type": "completion"
   },
   {
    "code": "complexColor(1)",
    "id": "58f399d8bae74af5a0b61fe5a2806c4a",
    "idx": 5,
    "time": "2021-02-12T06:27:45.240Z",
    "type": "execution"
   },
   {
    "id": "58f399d8bae74af5a0b61fe5a2806c4a",
    "time": "2021-02-12T06:27:45.352Z",
    "type": "completion"
   },
   {
    "code": "complexColor(1.J)",
    "id": "58f399d8bae74af5a0b61fe5a2806c4a",
    "idx": 5,
    "time": "2021-02-12T06:28:02.478Z",
    "type": "execution"
   },
   {
    "id": "58f399d8bae74af5a0b61fe5a2806c4a",
    "time": "2021-02-12T06:28:02.560Z",
    "type": "completion"
   },
   {
    "code": "complexColor(1.j)",
    "id": "58f399d8bae74af5a0b61fe5a2806c4a",
    "idx": 5,
    "time": "2021-02-12T06:28:06.071Z",
    "type": "execution"
   },
   {
    "id": "58f399d8bae74af5a0b61fe5a2806c4a",
    "time": "2021-02-12T06:28:06.149Z",
    "type": "completion"
   },
   {
    "code": "complexColor(100)",
    "id": "58f399d8bae74af5a0b61fe5a2806c4a",
    "idx": 5,
    "time": "2021-02-12T06:29:12.773Z",
    "type": "execution"
   },
   {
    "id": "58f399d8bae74af5a0b61fe5a2806c4a",
    "time": "2021-02-12T06:29:12.870Z",
    "type": "completion"
   },
   {
    "code": "complexColor(0.5+0.3j)",
    "id": "58f399d8bae74af5a0b61fe5a2806c4a",
    "idx": 5,
    "time": "2021-02-12T06:30:01.387Z",
    "type": "execution"
   },
   {
    "id": "58f399d8bae74af5a0b61fe5a2806c4a",
    "time": "2021-02-12T06:30:01.470Z",
    "type": "completion"
   },
   {
    "code": "\n# Plot a Hinton diagram of a matrix of complex numbers\ndef matrixPhase(matrix):\n    # MATRIX assumed to have complex numbers with magnitude at most 1\n    # MATRIX also assumed to be square\n\n    array = np.asarray(matrix)\n    dim = array.shape[0]\n    rect_coords = [i/dim for i in range(dim+1)]\n    figure, axes = plt.subplots()\n\n    # Due to matrix indexing, i controls y-coodinate, j controls x-coordinate\n    for i in range(dim):\n        for j in range(dim):            \n            # Use RECT_COORDS to find centers of the phase diagram circle\n            x = (rect_coords[j] + rect_coords[j+1]) / 2\n            y = 1 - (rect_coords[i] + rect_coords[i+1]) / 2\n            \n            num = array[i][j]\n            r = np.abs(num) / (2*dim)\n            theta = np.angle(num)\n            \n            # For some reason, Patches uses RGBA instead of RGB, which has values between 0 and 1, not 0 and 255\n            # Tuples are immutable, so we have to make a new tuple\n            R, G, B = complexColor(num)\n\n            circle = plt.Circle((x, y), r, color=(R, G, B, 1))\n            axes.add_patch(circle)\n            plt.plot([x, x + r * np.cos(theta)], [y, y + r * np.sin(theta)], linestyle='-', color='k')\n    plt.xlim([0,1])\n    plt.ylim([0,1])\n    plt.show()",
    "id": "da7e669a352b491d8fac27704cd1fdfe",
    "idx": 3,
    "time": "2021-02-12T06:30:35.735Z",
    "type": "execution"
   },
   {
    "id": "da7e669a352b491d8fac27704cd1fdfe",
    "time": "2021-02-12T06:30:35.824Z",
    "type": "completion"
   },
   {
    "code": "matrixPhase([[0.5+0.5j,0.3],[0.1,0.8]])",
    "id": "754a30210d9242208edd0df2f085db82",
    "idx": 4,
    "time": "2021-02-12T06:30:35.883Z",
    "type": "execution"
   },
   {
    "id": "754a30210d9242208edd0df2f085db82",
    "time": "2021-02-12T06:30:36.278Z",
    "type": "completion"
   },
   {
    "code": "\n# Plot a Hinton diagram of a matrix of complex numbers\ndef matrixPhase(matrix):\n    # MATRIX assumed to have complex numbers with magnitude at most 1\n    # MATRIX also assumed to be square\n\n    array = np.asarray(matrix)\n    dim = array.shape[0]\n    rect_coords = [i/dim for i in range(dim+1)]\n    figure, axes = plt.subplots()\n\n    # Due to matrix indexing, i controls y-coodinate, j controls x-coordinate\n    for i in range(dim):\n        for j in range(dim):            \n            # Use RECT_COORDS to find centers of the phase diagram circle\n            x = (rect_coords[j] + rect_coords[j+1]) / 2\n            y = 1 - (rect_coords[i] + rect_coords[i+1]) / 2\n            \n            num = array[i][j]\n            r = np.abs(num) / (2*dim)\n            theta = np.angle(num)\n            \n            # For some reason, Patches uses RGBA instead of RGB, which has values between 0 and 1, not 0 and 255\n            # Tuples are immutable, so we have to make a new tuple\n            R, G, B = complexColor(num)\n\n            circle = plt.Circle((x, y), r, color=complexColor(num))\n            axes.add_patch(circle)\n            plt.plot([x, x + r * np.cos(theta)], [y, y + r * np.sin(theta)], linestyle='-', color='k')\n    plt.xlim([0,1])\n    plt.ylim([0,1])\n    plt.show()",
    "id": "da7e669a352b491d8fac27704cd1fdfe",
    "idx": 3,
    "time": "2021-02-12T06:30:45.080Z",
    "type": "execution"
   },
   {
    "code": "matrixPhase([[0.5+0.5j,0.3],[0.1,0.8]])",
    "id": "754a30210d9242208edd0df2f085db82",
    "idx": 4,
    "time": "2021-02-12T06:30:45.454Z",
    "type": "execution"
   },
   {
    "id": "da7e669a352b491d8fac27704cd1fdfe",
    "time": "2021-02-12T06:30:45.496Z",
    "type": "completion"
   },
   {
    "id": "754a30210d9242208edd0df2f085db82",
    "time": "2021-02-12T06:30:45.973Z",
    "type": "completion"
   },
   {
    "code": "# Convert magnitude and phase to a standard RGB triple (between 0 and 255)\ndef complexColor(z):\n    # Use standard mapping of magnitude and phase to HSL (H = phase, L = magnitude, S = 1)\n    # Then map HSL to RGB and return a triple\n    # Magnitude assumed not greater than 1\n    \n    norm = np.abs(z)\n    phase = np.angle(z, deg=True)\n    \n    C = 255 * (1 - abs(2*norm - 1))\n    H = phase/60 # Finds which of the 6 sections of the color wheel the phase belongs to\n    X = 255 * C * (1 - abs((H % 2) - 1))\n    \n    # 6 cases corresponding to the 6 sections\n    if H <= 1:\n        R = C\n        G = X\n        B = 0\n    elif H <= 2:\n        R = X\n        G = C\n        B = 0\n    elif H <= 3:\n        R = 0\n        G = C\n        B = X\n    elif H <= 4:\n        R = 0\n        G = X\n        B = C\n    elif H <= 5:\n        R = X\n        G = 0\n        B = C\n    elif H <= 6:\n        R = C\n        G = 0\n        B = X\n    else:\n        R = 0\n        G = 0\n        B = 0\n        \n    m = norm - C/2\n    \n    return (R+m, G+m, B+m)",
    "id": "341ea8fd0ab8413dad12f54ea5a91267",
    "idx": 2,
    "time": "2021-02-12T06:31:51.462Z",
    "type": "execution"
   },
   {
    "id": "341ea8fd0ab8413dad12f54ea5a91267",
    "time": "2021-02-12T06:31:51.574Z",
    "type": "completion"
   },
   {
    "code": "\n# Plot a Hinton diagram of a matrix of complex numbers\ndef matrixPhase(matrix):\n    # MATRIX assumed to have complex numbers with magnitude at most 1\n    # MATRIX also assumed to be square\n\n    array = np.asarray(matrix)\n    dim = array.shape[0]\n    rect_coords = [i/dim for i in range(dim+1)]\n    figure, axes = plt.subplots()\n\n    # Due to matrix indexing, i controls y-coodinate, j controls x-coordinate\n    for i in range(dim):\n        for j in range(dim):            \n            # Use RECT_COORDS to find centers of the phase diagram circle\n            x = (rect_coords[j] + rect_coords[j+1]) / 2\n            y = 1 - (rect_coords[i] + rect_coords[i+1]) / 2\n            \n            num = array[i][j]\n            r = np.abs(num) / (2*dim)\n            theta = np.angle(num)\n\n            circle = plt.Circle((x, y), r, color=complexColor(num))\n            axes.add_patch(circle)\n            plt.plot([x, x + r * np.cos(theta)], [y, y + r * np.sin(theta)], linestyle='-', color='k')\n    plt.xlim([0,1])\n    plt.ylim([0,1])\n    plt.show()",
    "id": "da7e669a352b491d8fac27704cd1fdfe",
    "idx": 3,
    "time": "2021-02-12T06:31:52.421Z",
    "type": "execution"
   },
   {
    "id": "da7e669a352b491d8fac27704cd1fdfe",
    "time": "2021-02-12T06:31:52.504Z",
    "type": "completion"
   },
   {
    "code": "\n# Plot a Hinton diagram of a matrix of complex numbers\ndef matrixPhase(matrix):\n    # MATRIX assumed to have complex numbers with magnitude at most 1\n    # MATRIX also assumed to be square\n\n    array = np.asarray(matrix)\n    dim = array.shape[0]\n    rect_coords = [i/dim for i in range(dim+1)]\n    figure, axes = plt.subplots()\n\n    # Due to matrix indexing, i controls y-coodinate, j controls x-coordinate\n    for i in range(dim):\n        for j in range(dim):            \n            # Use RECT_COORDS to find centers of the phase diagram circle\n            x = (rect_coords[j] + rect_coords[j+1]) / 2\n            y = 1 - (rect_coords[i] + rect_coords[i+1]) / 2\n            \n            num = array[i][j]\n            r = np.abs(num) / (2*dim)\n            theta = np.angle(num)\n            \n            # For some reason, we need to input RGG as values between 0 and 1, not 0 and 255\n            # Tuples are immutable, so we have to make a new tuple\n            R, G, B = complexColor(num)\n\n            circle = plt.Circle((x, y), r, color=(R/255, G/255, B/255, 1))\n            axes.add_patch(circle)\n            plt.plot([x, x + r * np.cos(theta)], [y, y + r * np.sin(theta)], linestyle='-', color='k')\n    plt.xlim([0,1])\n    plt.ylim([0,1])\n    plt.show()",
    "id": "da7e669a352b491d8fac27704cd1fdfe",
    "idx": 3,
    "time": "2021-02-12T06:32:44.394Z",
    "type": "execution"
   },
   {
    "id": "da7e669a352b491d8fac27704cd1fdfe",
    "time": "2021-02-12T06:32:44.487Z",
    "type": "completion"
   },
   {
    "code": "matrixPhase([[0.5+0.5j,0.3],[0.1,0.8]])",
    "id": "754a30210d9242208edd0df2f085db82",
    "idx": 4,
    "time": "2021-02-12T06:32:44.867Z",
    "type": "execution"
   },
   {
    "id": "754a30210d9242208edd0df2f085db82",
    "time": "2021-02-12T06:32:45.117Z",
    "type": "completion"
   },
   {
    "code": "# Convert magnitude and phase to a standard RGB triple (between 0 and 255)\ndef complexColor(z):\n    # Use standard mapping of magnitude and phase to HSL (H = phase, L = magnitude, S = 1)\n    # Then map HSL to RGB and return a triple\n    # Magnitude assumed not greater than 1\n    \n    norm = np.abs(z)\n    phase = np.angle(z, deg=True)\n    \n    C = 1 - abs(2*norm - 1)\n    H = phase/60 # Finds which of the 6 sections of the color wheel the phase belongs to\n    X = C * (1 - abs((H % 2) - 1)\n    \n    # 6 cases corresponding to the 6 sections\n    if H <= 1:\n        R = C\n        G = X\n        B = 0\n    elif H <= 2:\n        R = X\n        G = C\n        B = 0\n    elif H <= 3:\n        R = 0\n        G = C\n        B = X\n    elif H <= 4:\n        R = 0\n        G = X\n        B = C\n    elif H <= 5:\n        R = X\n        G = 0\n        B = C\n    elif H <= 6:\n        R = C\n        G = 0\n        B = X\n    else:\n        R = 0\n        G = 0\n        B = 0\n        \n    m = norm - C/2\n    \n    return (255*(R+m), 255*(G+m), 255*(B+m))",
    "id": "341ea8fd0ab8413dad12f54ea5a91267",
    "idx": 2,
    "time": "2021-02-12T06:33:32.055Z",
    "type": "execution"
   },
   {
    "id": "341ea8fd0ab8413dad12f54ea5a91267",
    "time": "2021-02-12T06:33:32.170Z",
    "type": "completion"
   },
   {
    "code": "\n# Plot a Hinton diagram of a matrix of complex numbers\ndef matrixPhase(matrix):\n    # MATRIX assumed to have complex numbers with magnitude at most 1\n    # MATRIX also assumed to be square\n\n    array = np.asarray(matrix)\n    dim = array.shape[0]\n    rect_coords = [i/dim for i in range(dim+1)]\n    figure, axes = plt.subplots()\n\n    # Due to matrix indexing, i controls y-coodinate, j controls x-coordinate\n    for i in range(dim):\n        for j in range(dim):            \n            # Use RECT_COORDS to find centers of the phase diagram circle\n            x = (rect_coords[j] + rect_coords[j+1]) / 2\n            y = 1 - (rect_coords[i] + rect_coords[i+1]) / 2\n            \n            num = array[i][j]\n            r = np.abs(num) / (2*dim)\n            theta = np.angle(num)\n            \n            # For some reason, we need to input RGG as values between 0 and 1, not 0 and 255\n            # Tuples are immutable, so we have to make a new tuple\n            R, G, B = complexColor(num)\n\n            circle = plt.Circle((x, y), r, color=(R/255, G/255, B/255, 1))\n            axes.add_patch(circle)\n            plt.plot([x, x + r * np.cos(theta)], [y, y + r * np.sin(theta)], linestyle='-', color='k')\n    plt.xlim([0,1])\n    plt.ylim([0,1])\n    plt.show()",
    "id": "da7e669a352b491d8fac27704cd1fdfe",
    "idx": 3,
    "time": "2021-02-12T06:33:32.654Z",
    "type": "execution"
   },
   {
    "id": "da7e669a352b491d8fac27704cd1fdfe",
    "time": "2021-02-12T06:33:32.745Z",
    "type": "completion"
   },
   {
    "code": "# Convert magnitude and phase to a standard RGB triple (between 0 and 255)\ndef complexColor(z):\n    # Use standard mapping of magnitude and phase to HSL (H = phase, L = magnitude, S = 1)\n    # Then map HSL to RGB and return a triple\n    # Magnitude assumed not greater than 1\n    \n    norm = np.abs(z)\n    phase = np.angle(z, deg=True)\n    \n    C = 1 - abs(2*norm - 1)\n    H = phase/60 # Finds which of the 6 sections of the color wheel the phase belongs to\n    X = C * (1 - abs((H % 2) - 1))\n    \n    # 6 cases corresponding to the 6 sections\n    if H <= 1:\n        R = C\n        G = X\n        B = 0\n    elif H <= 2:\n        R = X\n        G = C\n        B = 0\n    elif H <= 3:\n        R = 0\n        G = C\n        B = X\n    elif H <= 4:\n        R = 0\n        G = X\n        B = C\n    elif H <= 5:\n        R = X\n        G = 0\n        B = C\n    elif H <= 6:\n        R = C\n        G = 0\n        B = X\n    else:\n        R = 0\n        G = 0\n        B = 0\n        \n    m = norm - C/2\n    \n    return (255*(R+m), 255*(G+m), 255*(B+m))",
    "id": "341ea8fd0ab8413dad12f54ea5a91267",
    "idx": 2,
    "time": "2021-02-12T06:33:54.174Z",
    "type": "execution"
   },
   {
    "id": "341ea8fd0ab8413dad12f54ea5a91267",
    "time": "2021-02-12T06:33:54.263Z",
    "type": "completion"
   },
   {
    "code": "\n# Plot a Hinton diagram of a matrix of complex numbers\ndef matrixPhase(matrix):\n    # MATRIX assumed to have complex numbers with magnitude at most 1\n    # MATRIX also assumed to be square\n\n    array = np.asarray(matrix)\n    dim = array.shape[0]\n    rect_coords = [i/dim for i in range(dim+1)]\n    figure, axes = plt.subplots()\n\n    # Due to matrix indexing, i controls y-coodinate, j controls x-coordinate\n    for i in range(dim):\n        for j in range(dim):            \n            # Use RECT_COORDS to find centers of the phase diagram circle\n            x = (rect_coords[j] + rect_coords[j+1]) / 2\n            y = 1 - (rect_coords[i] + rect_coords[i+1]) / 2\n            \n            num = array[i][j]\n            r = np.abs(num) / (2*dim)\n            theta = np.angle(num)\n            \n            # For some reason, we need to input RGG as values between 0 and 1, not 0 and 255\n            # Tuples are immutable, so we have to make a new tuple\n            R, G, B = complexColor(num)\n\n            circle = plt.Circle((x, y), r, color=(R/255, G/255, B/255, 1))\n            axes.add_patch(circle)\n            plt.plot([x, x + r * np.cos(theta)], [y, y + r * np.sin(theta)], linestyle='-', color='k')\n    plt.xlim([0,1])\n    plt.ylim([0,1])\n    plt.show()",
    "id": "da7e669a352b491d8fac27704cd1fdfe",
    "idx": 3,
    "time": "2021-02-12T06:33:54.646Z",
    "type": "execution"
   },
   {
    "id": "da7e669a352b491d8fac27704cd1fdfe",
    "time": "2021-02-12T06:33:54.731Z",
    "type": "completion"
   },
   {
    "code": "matrixPhase([[0.5+0.5j,0.3],[0.1,0.8]])",
    "id": "754a30210d9242208edd0df2f085db82",
    "idx": 4,
    "time": "2021-02-12T06:33:56.409Z",
    "type": "execution"
   },
   {
    "id": "754a30210d9242208edd0df2f085db82",
    "time": "2021-02-12T06:33:56.765Z",
    "type": "completion"
   },
   {
    "code": "\n# Plot a Hinton diagram of a matrix of complex numbers\ndef matrixPhase(matrix):\n    # MATRIX assumed to have complex numbers with magnitude at most 1\n    # MATRIX also assumed to be square\n\n    array = np.asarray(matrix)\n    dim = array.shape[0]\n    rect_coords = [i/dim for i in range(dim+1)]\n    figure, axes = plt.subplots()\n\n    # Due to matrix indexing, i controls y-coodinate, j controls x-coordinate\n    for i in range(dim):\n        for j in range(dim):            \n            # Use RECT_COORDS to find centers of the phase diagram circle\n            x = (rect_coords[j] + rect_coords[j+1]) / 2\n            y = 1 - (rect_coords[i] + rect_coords[i+1]) / 2\n            \n            num = array[i][j]\n            r = np.abs(num) / (2*dim)\n            theta = np.angle(num)\n            \n            # For some reason, we need to input RGG as values between 0 and 1, not 0 and 255\n            # Tuples are immutable, so we have to make a new tuple\n            R, G, B = complexColor(num)\n\n            circle = plt.Circle((x, y), r, color=(R/255, G/255, B/255, 1))\n            axes.add_patch(circle)\n            plt.plot([x, x + 1.2 * r * np.cos(theta)], [y, y + 1.2 * r * np.sin(theta)], linestyle='-', color='k')\n    plt.xlim([0,1])\n    plt.ylim([0,1])\n    plt.show()",
    "id": "da7e669a352b491d8fac27704cd1fdfe",
    "idx": 3,
    "time": "2021-02-12T06:34:41.257Z",
    "type": "execution"
   },
   {
    "id": "da7e669a352b491d8fac27704cd1fdfe",
    "time": "2021-02-12T06:34:41.356Z",
    "type": "completion"
   },
   {
    "code": "matrixPhase([[0.5+0.5j,0.3],[0.1,0.8]])",
    "id": "754a30210d9242208edd0df2f085db82",
    "idx": 4,
    "time": "2021-02-12T06:34:41.707Z",
    "type": "execution"
   },
   {
    "id": "754a30210d9242208edd0df2f085db82",
    "time": "2021-02-12T06:34:42.040Z",
    "type": "completion"
   },
   {
    "code": "# Convert magnitude and phase to a standard RGB triple (between 0 and 255)\ndef complexColor(z):\n    # Use standard mapping of magnitude and phase to HSL (H = phase, L = magnitude, S = 1)\n    # Then map HSL to RGB and return a triple\n    # Magnitude assumed not greater than 1\n    \n    norm = 1-np.abs(z)\n    phase = np.angle(z, deg=True)\n    \n    C = 1 - abs(2*norm - 1)\n    H = phase/60 # Finds which of the 6 sections of the color wheel the phase belongs to\n    X = C * (1 - abs((H % 2) - 1))\n    \n    # 6 cases corresponding to the 6 sections\n    if H <= 1:\n        R = C\n        G = X\n        B = 0\n    elif H <= 2:\n        R = X\n        G = C\n        B = 0\n    elif H <= 3:\n        R = 0\n        G = C\n        B = X\n    elif H <= 4:\n        R = 0\n        G = X\n        B = C\n    elif H <= 5:\n        R = X\n        G = 0\n        B = C\n    elif H <= 6:\n        R = C\n        G = 0\n        B = X\n    else:\n        R = 0\n        G = 0\n        B = 0\n        \n    m = norm - C/2\n    \n    return (255*(R+m), 255*(G+m), 255*(B+m))",
    "id": "341ea8fd0ab8413dad12f54ea5a91267",
    "idx": 2,
    "time": "2021-02-12T06:35:22.492Z",
    "type": "execution"
   },
   {
    "id": "341ea8fd0ab8413dad12f54ea5a91267",
    "time": "2021-02-12T06:35:22.582Z",
    "type": "completion"
   },
   {
    "code": "\n# Plot a Hinton diagram of a matrix of complex numbers\ndef matrixPhase(matrix):\n    # MATRIX assumed to have complex numbers with magnitude at most 1\n    # MATRIX also assumed to be square\n\n    array = np.asarray(matrix)\n    dim = array.shape[0]\n    rect_coords = [i/dim for i in range(dim+1)]\n    figure, axes = plt.subplots()\n\n    # Due to matrix indexing, i controls y-coodinate, j controls x-coordinate\n    for i in range(dim):\n        for j in range(dim):            \n            # Use RECT_COORDS to find centers of the phase diagram circle\n            x = (rect_coords[j] + rect_coords[j+1]) / 2\n            y = 1 - (rect_coords[i] + rect_coords[i+1]) / 2\n            \n            num = array[i][j]\n            r = np.abs(num) / (2*dim)\n            theta = np.angle(num)\n            \n            # For some reason, we need to input RGG as values between 0 and 1, not 0 and 255\n            # Tuples are immutable, so we have to make a new tuple\n            R, G, B = complexColor(num)\n\n            circle = plt.Circle((x, y), r, color=(R/255, G/255, B/255, 1))\n            axes.add_patch(circle)\n            plt.plot([x, x + 1.2 * r * np.cos(theta)], [y, y + 1.2 * r * np.sin(theta)], linestyle='-', color='k')\n    plt.xlim([0,1])\n    plt.ylim([0,1])\n    plt.show()",
    "id": "da7e669a352b491d8fac27704cd1fdfe",
    "idx": 3,
    "time": "2021-02-12T06:35:22.950Z",
    "type": "execution"
   },
   {
    "id": "da7e669a352b491d8fac27704cd1fdfe",
    "time": "2021-02-12T06:35:23.037Z",
    "type": "completion"
   },
   {
    "code": "matrixPhase([[0.5+0.5j,0.3],[0.1,0.8]])",
    "id": "754a30210d9242208edd0df2f085db82",
    "idx": 4,
    "time": "2021-02-12T06:35:23.354Z",
    "type": "execution"
   },
   {
    "id": "754a30210d9242208edd0df2f085db82",
    "time": "2021-02-12T06:35:23.707Z",
    "type": "completion"
   },
   {
    "code": "# Convert magnitude and phase to a standard RGB triple (between 0 and 255)\ndef complexColor(z):\n    # Use standard mapping of magnitude and phase to HSL (H = phase, L = magnitude, S = 1)\n    # Then map HSL to RGB and return a triple\n    # Magnitude assumed not greater than 1\n    \n    norm = np.abs(z)\n    phase = np.angle(z, deg=True)\n    \n    C = 1 - abs(2*norm - 1)\n    H = phase/60 # Finds which of the 6 sections of the color wheel the phase belongs to\n    X = C * (1 - abs((H % 2) - 1))\n    \n    # 6 cases corresponding to the 6 sections\n    if H <= 1:\n        R = C\n        G = X\n        B = 0\n    elif H <= 2:\n        R = X\n        G = C\n        B = 0\n    elif H <= 3:\n        R = 0\n        G = C\n        B = X\n    elif H <= 4:\n        R = 0\n        G = X\n        B = C\n    elif H <= 5:\n        R = X\n        G = 0\n        B = C\n    elif H <= 6:\n        R = C\n        G = 0\n        B = X\n    else:\n        R = 0\n        G = 0\n        B = 0\n        \n    m = norm - C/2\n    \n    return (255*(R+m), 255*(G+m), 255*(B+m))",
    "id": "341ea8fd0ab8413dad12f54ea5a91267",
    "idx": 2,
    "time": "2021-02-12T06:35:30.059Z",
    "type": "execution"
   },
   {
    "id": "341ea8fd0ab8413dad12f54ea5a91267",
    "time": "2021-02-12T06:35:30.154Z",
    "type": "completion"
   },
   {
    "code": "\n# Plot a Hinton diagram of a matrix of complex numbers\ndef matrixPhase(matrix):\n    # MATRIX assumed to have complex numbers with magnitude at most 1\n    # MATRIX also assumed to be square\n\n    array = np.asarray(matrix)\n    dim = array.shape[0]\n    rect_coords = [i/dim for i in range(dim+1)]\n    figure, axes = plt.subplots()\n\n    # Due to matrix indexing, i controls y-coodinate, j controls x-coordinate\n    for i in range(dim):\n        for j in range(dim):            \n            # Use RECT_COORDS to find centers of the phase diagram circle\n            x = (rect_coords[j] + rect_coords[j+1]) / 2\n            y = 1 - (rect_coords[i] + rect_coords[i+1]) / 2\n            \n            num = array[i][j]\n            r = np.abs(num) / (2*dim)\n            theta = np.angle(num)\n            \n            # For some reason, we need to input RGG as values between 0 and 1, not 0 and 255\n            # Tuples are immutable, so we have to make a new tuple\n            R, G, B = complexColor(num)\n\n            circle = plt.Circle((x, y), r, color=(R/255, G/255, B/255, 1))\n            axes.add_patch(circle)\n            plt.plot([x, x + 1.2 * r * np.cos(theta)], [y, y + 1.2 * r * np.sin(theta)], linestyle='-', color='k')\n    plt.xlim([0,1])\n    plt.ylim([0,1])\n    plt.show()",
    "id": "da7e669a352b491d8fac27704cd1fdfe",
    "idx": 3,
    "time": "2021-02-12T06:35:30.503Z",
    "type": "execution"
   },
   {
    "id": "da7e669a352b491d8fac27704cd1fdfe",
    "time": "2021-02-12T06:35:30.602Z",
    "type": "completion"
   },
   {
    "code": "matrixPhase([[0.5+0.5j,0.3],[0.1,0.8]])",
    "id": "754a30210d9242208edd0df2f085db82",
    "idx": 4,
    "time": "2021-02-12T06:35:30.869Z",
    "type": "execution"
   },
   {
    "id": "754a30210d9242208edd0df2f085db82",
    "time": "2021-02-12T06:35:31.226Z",
    "type": "completion"
   },
   {
    "code": "\n# Plot a Hinton diagram of a matrix of complex numbers\ndef matrixPhase(matrix):\n    # MATRIX assumed to have complex numbers with magnitude at most 1\n    # MATRIX also assumed to be square\n\n    array = np.asarray(matrix)\n    dim = array.shape[0]\n    rect_coords = [i/dim for i in range(dim+1)]\n    figure, axes = plt.subplots()\n\n    # Due to matrix indexing, i controls y-coodinate, j controls x-coordinate\n    for i in range(dim):\n        for j in range(dim):            \n            # Use RECT_COORDS to find centers of the phase diagram circle\n            x = (rect_coords[j] + rect_coords[j+1]) / 2\n            y = 1 - (rect_coords[i] + rect_coords[i+1]) / 2\n            \n            num = array[i][j]\n            r = np.abs(num) / (2*dim)\n            theta = np.angle(num)\n            \n            # For some reason, we need to input RGG as values between 0 and 1, not 0 and 255\n            # Tuples are immutable, so we have to make a new tuple\n            R, G, B = complexColor(num)\n\n            circle = plt.Circle((x, y), r, color=(R/255, G/255, B/255, 1))\n            axes.add_patch(circle)\n            plt.plot([x, x + 1], [y, y + 1], linestyle='-', color='k')\n    plt.xlim([0,1])\n    plt.ylim([0,1])\n    plt.show()",
    "id": "8127a47b647342b787271c229228dba9",
    "idx": 3,
    "time": "2021-02-12T19:16:45.571Z",
    "type": "execution"
   },
   {
    "id": "8127a47b647342b787271c229228dba9",
    "time": "2021-02-12T19:16:45.669Z",
    "type": "completion"
   },
   {
    "code": "matrixPhase([[0.5+0.5j,0.3],[0.1,0.8]])",
    "id": "45609b0b51a14bbe89c04ec9abd4be76",
    "idx": 4,
    "time": "2021-02-12T19:16:46.041Z",
    "type": "execution"
   },
   {
    "id": "45609b0b51a14bbe89c04ec9abd4be76",
    "time": "2021-02-12T19:16:46.247Z",
    "type": "completion"
   },
   {
    "code": "import numpy as np\nimport matplotlib.pyplot as plt",
    "id": "9cec9eded073432182ec5e198923c1f1",
    "idx": 0,
    "time": "2021-02-12T19:16:50.813Z",
    "type": "execution"
   },
   {
    "code": "# NOT USED\ndef phasePlot(num, x, y, maxSize = 0):\n    # X and Y are coordinates of the center of the phase diagram\n    # Returns a circle that can be plotted\n\n    r = np.abs(num)\n    if maxSize:\n        r = r * maxSize / 2\n    theta = np.angle(num)\n\n    circle = plt.Circle((x, y), r, color='c')\n    axes.add_patch(circle)\n\n    plt.plot([x, x + r * np.cos(theta)], [y, y + r * np.sin(theta)], linestyle='-', color='k')",
    "id": "ef8e245754454c5990d7d41434bb764e",
    "idx": 1,
    "time": "2021-02-12T19:16:51.122Z",
    "type": "execution"
   },
   {
    "id": "9cec9eded073432182ec5e198923c1f1",
    "time": "2021-02-12T19:16:51.312Z",
    "type": "completion"
   },
   {
    "id": "ef8e245754454c5990d7d41434bb764e",
    "time": "2021-02-12T19:16:51.358Z",
    "type": "completion"
   },
   {
    "code": "# Convert magnitude and phase to a standard RGB triple (between 0 and 255)\ndef complexColor(z):\n    # Use standard mapping of magnitude and phase to HSL (H = phase, L = magnitude, S = 1)\n    # Then map HSL to RGB and return a triple\n    # Magnitude assumed not greater than 1\n    \n    norm = np.abs(z)\n    phase = np.angle(z, deg=True)\n    \n    C = 1 - abs(2*norm - 1)\n    H = phase/60 # Finds which of the 6 sections of the color wheel the phase belongs to\n    X = C * (1 - abs((H % 2) - 1))\n    \n    # 6 cases corresponding to the 6 sections\n    if H <= 1:\n        R = C\n        G = X\n        B = 0\n    elif H <= 2:\n        R = X\n        G = C\n        B = 0\n    elif H <= 3:\n        R = 0\n        G = C\n        B = X\n    elif H <= 4:\n        R = 0\n        G = X\n        B = C\n    elif H <= 5:\n        R = X\n        G = 0\n        B = C\n    elif H <= 6:\n        R = C\n        G = 0\n        B = X\n    else:\n        R = 0\n        G = 0\n        B = 0\n        \n    m = norm - C/2\n    \n    return (255*(R+m), 255*(G+m), 255*(B+m))",
    "id": "8a84077f70514958810db3bc87edde34",
    "idx": 2,
    "time": "2021-02-12T19:16:51.611Z",
    "type": "execution"
   },
   {
    "id": "8a84077f70514958810db3bc87edde34",
    "time": "2021-02-12T19:16:51.718Z",
    "type": "completion"
   },
   {
    "code": "\n# Plot a Hinton diagram of a matrix of complex numbers\ndef matrixPhase(matrix):\n    # MATRIX assumed to have complex numbers with magnitude at most 1\n    # MATRIX also assumed to be square\n\n    array = np.asarray(matrix)\n    dim = array.shape[0]\n    rect_coords = [i/dim for i in range(dim+1)]\n    figure, axes = plt.subplots()\n\n    # Due to matrix indexing, i controls y-coodinate, j controls x-coordinate\n    for i in range(dim):\n        for j in range(dim):            \n            # Use RECT_COORDS to find centers of the phase diagram circle\n            x = (rect_coords[j] + rect_coords[j+1]) / 2\n            y = 1 - (rect_coords[i] + rect_coords[i+1]) / 2\n            \n            num = array[i][j]\n            r = np.abs(num) / (2*dim)\n            theta = np.angle(num)\n            \n            # For some reason, we need to input RGG as values between 0 and 1, not 0 and 255\n            # Tuples are immutable, so we have to make a new tuple\n            R, G, B = complexColor(num)\n\n            circle = plt.Circle((x, y), r, color=(R/255, G/255, B/255, 1))\n            axes.add_patch(circle)\n            plt.plot([x, x + 1], [y, y + 1], linestyle='-', color='k')\n    plt.xlim([0,1])\n    plt.ylim([0,1])\n    plt.show()",
    "id": "8127a47b647342b787271c229228dba9",
    "idx": 3,
    "time": "2021-02-12T19:16:52.134Z",
    "type": "execution"
   },
   {
    "id": "8127a47b647342b787271c229228dba9",
    "time": "2021-02-12T19:16:52.221Z",
    "type": "completion"
   },
   {
    "code": "matrixPhase([[0.5+0.5j,0.3],[0.1,0.8]])",
    "id": "45609b0b51a14bbe89c04ec9abd4be76",
    "idx": 4,
    "time": "2021-02-12T19:16:53.499Z",
    "type": "execution"
   },
   {
    "id": "45609b0b51a14bbe89c04ec9abd4be76",
    "time": "2021-02-12T19:16:53.882Z",
    "type": "completion"
   },
   {
    "code": "\n# Plot a Hinton diagram of a matrix of complex numbers\ndef matrixPhase(matrix):\n    # MATRIX assumed to have complex numbers with magnitude at most 1\n    # MATRIX also assumed to be square\n\n    array = np.asarray(matrix)\n    dim = array.shape[0]\n    rect_coords = [i/dim for i in range(dim+1)]\n    figure, axes = plt.subplots()\n\n    # Due to matrix indexing, i controls y-coodinate, j controls x-coordinate\n    for i in range(dim):\n        for j in range(dim):            \n            # Use RECT_COORDS to find centers of the phase diagram circle\n            x = (rect_coords[j] + rect_coords[j+1]) / 2\n            y = 1 - (rect_coords[i] + rect_coords[i+1]) / 2\n            \n            num = array[i][j]\n            r = np.abs(num) / (2*dim)\n            theta = np.angle(num)\n            \n            # For some reason, we need to input RGG as values between 0 and 1, not 0 and 255\n            # Tuples are immutable, so we have to make a new tuple\n            R, G, B = complexColor(num)\n\n            circle = plt.Circle((x, y), r, color=(R/255, G/255, B/255, 1))\n            axes.add_patch(circle)\n            plt.plot([x, x + np.cos(theta)], [y, y + np.sin(theta)], linestyle='-', color='k')\n    plt.xlim([0,1])\n    plt.ylim([0,1])\n    plt.show()",
    "id": "8127a47b647342b787271c229228dba9",
    "idx": 3,
    "time": "2021-02-12T19:17:30.990Z",
    "type": "execution"
   },
   {
    "id": "8127a47b647342b787271c229228dba9",
    "time": "2021-02-12T19:17:31.074Z",
    "type": "completion"
   },
   {
    "code": "matrixPhase([[0.5+0.5j,0.3],[0.1,0.8]])",
    "id": "45609b0b51a14bbe89c04ec9abd4be76",
    "idx": 4,
    "time": "2021-02-12T19:17:31.264Z",
    "type": "execution"
   },
   {
    "id": "45609b0b51a14bbe89c04ec9abd4be76",
    "time": "2021-02-12T19:17:31.617Z",
    "type": "completion"
   },
   {
    "code": "\n# Plot a Hinton diagram of a matrix of complex numbers\ndef matrixPhase(matrix):\n    # MATRIX assumed to have complex numbers with magnitude at most 1\n    # MATRIX also assumed to be square\n\n    array = np.asarray(matrix)\n    dim = array.shape[0]\n    rect_coords = [i/dim for i in range(dim+1)]\n    figure, axes = plt.subplots()\n\n    # Due to matrix indexing, i controls y-coodinate, j controls x-coordinate\n    for i in range(dim):\n        for j in range(dim):            \n            # Use RECT_COORDS to find centers of the phase diagram circle\n            x = (rect_coords[j] + rect_coords[j+1]) / 2\n            y = 1 - (rect_coords[i] + rect_coords[i+1]) / 2\n            \n            num = array[i][j]\n            r = np.abs(num) / (2*dim)\n            theta = np.angle(num)\n            \n            # For some reason, we need to input RGG as values between 0 and 1, not 0 and 255\n            # Tuples are immutable, so we have to make a new tuple\n            R, G, B = complexColor(num)\n\n            circle = plt.Circle((x, y), r, color=(R/255, G/255, B/255, 1))\n            axes.add_patch(circle)\n            plt.plot([x, x + np.cos(theta)/2], [y, y + np.sin(theta)/2], linestyle='-', color='k')\n    plt.xlim([0,1])\n    plt.ylim([0,1])\n    plt.show()",
    "id": "8127a47b647342b787271c229228dba9",
    "idx": 3,
    "time": "2021-02-12T19:17:51.097Z",
    "type": "execution"
   },
   {
    "id": "8127a47b647342b787271c229228dba9",
    "time": "2021-02-12T19:17:51.183Z",
    "type": "completion"
   },
   {
    "code": "matrixPhase([[0.5+0.5j,0.3],[0.1,0.8]])",
    "id": "45609b0b51a14bbe89c04ec9abd4be76",
    "idx": 4,
    "time": "2021-02-12T19:17:51.531Z",
    "type": "execution"
   },
   {
    "id": "45609b0b51a14bbe89c04ec9abd4be76",
    "time": "2021-02-12T19:17:51.895Z",
    "type": "completion"
   },
   {
    "code": "\n# Plot a Hinton diagram of a matrix of complex numbers\ndef matrixPhase(matrix):\n    # MATRIX assumed to have complex numbers with magnitude at most 1\n    # MATRIX also assumed to be square\n\n    array = np.asarray(matrix)\n    dim = array.shape[0]\n    rect_coords = [i/dim for i in range(dim+1)]\n    figure, axes = plt.subplots()\n\n    # Due to matrix indexing, i controls y-coodinate, j controls x-coordinate\n    for i in range(dim):\n        for j in range(dim):            \n            # Use RECT_COORDS to find centers of the phase diagram circle\n            x = (rect_coords[j] + rect_coords[j+1]) / 2\n            y = 1 - (rect_coords[i] + rect_coords[i+1]) / 2\n            \n            num = array[i][j]\n            r = np.abs(num) / (2*dim)\n            theta = np.angle(num)\n            \n            # For some reason, we need to input RGG as values between 0 and 1, not 0 and 255\n            # Tuples are immutable, so we have to make a new tuple\n            R, G, B = complexColor(num)\n\n            circle = plt.Circle((x, y), r, color=(R/255, G/255, B/255, 1))\n            axes.add_patch(circle)\n            plt.plot([x, x + np.cos(theta)/4], [y, y + np.sin(theta)/4], linestyle='-', color='k')\n    plt.xlim([0,1])\n    plt.ylim([0,1])\n    plt.show()",
    "id": "8127a47b647342b787271c229228dba9",
    "idx": 3,
    "time": "2021-02-12T19:18:01.809Z",
    "type": "execution"
   },
   {
    "id": "8127a47b647342b787271c229228dba9",
    "time": "2021-02-12T19:18:01.913Z",
    "type": "completion"
   },
   {
    "code": "matrixPhase([[0.5+0.5j,0.3],[0.1,0.8]])",
    "id": "45609b0b51a14bbe89c04ec9abd4be76",
    "idx": 4,
    "time": "2021-02-12T19:18:02.100Z",
    "type": "execution"
   },
   {
    "id": "45609b0b51a14bbe89c04ec9abd4be76",
    "time": "2021-02-12T19:18:02.451Z",
    "type": "completion"
   },
   {
    "code": "\n# Plot a Hinton diagram of a matrix of complex numbers\ndef matrixPhase(matrix):\n    # MATRIX assumed to have complex numbers with magnitude at most 1\n    # MATRIX also assumed to be square\n\n    array = np.asarray(matrix)\n    dim = array.shape[0]\n    rect_coords = [i/dim for i in range(dim+1)]\n    figure, axes = plt.subplots()\n\n    # Due to matrix indexing, i controls y-coodinate, j controls x-coordinate\n    for i in range(dim):\n        for j in range(dim):            \n            # Use RECT_COORDS to find centers of the phase diagram circle\n            x = (rect_coords[j] + rect_coords[j+1]) / 2\n            y = 1 - (rect_coords[i] + rect_coords[i+1]) / 2\n            \n            num = array[i][j]\n            r = np.abs(num) / (2*dim)\n            theta = np.angle(num)\n            \n            # For some reason, we need to input RGG as values between 0 and 1, not 0 and 255\n            # Tuples are immutable, so we have to make a new tuple\n            R, G, B = complexColor(num)\n\n            circle = plt.Circle((x, y), r, color=(R/255, G/255, B/255, 1))\n            axes.add_patch(circle)\n            plt.plot([x, x + np.cos(theta)/(dim^2)], [y, y + np.sin(theta)/(dim^2)], linestyle='-', color='k')\n    plt.xlim([0,1])\n    plt.ylim([0,1])\n    plt.show()",
    "id": "8127a47b647342b787271c229228dba9",
    "idx": 3,
    "time": "2021-02-12T19:18:26.217Z",
    "type": "execution"
   },
   {
    "id": "8127a47b647342b787271c229228dba9",
    "time": "2021-02-12T19:18:26.314Z",
    "type": "completion"
   },
   {
    "code": "matrixPhase([[0.5+0.5j,0.3],[0.1,0.8]])",
    "id": "45609b0b51a14bbe89c04ec9abd4be76",
    "idx": 4,
    "time": "2021-02-12T19:18:26.440Z",
    "type": "execution"
   },
   {
    "id": "45609b0b51a14bbe89c04ec9abd4be76",
    "time": "2021-02-12T19:18:26.812Z",
    "type": "completion"
   },
   {
    "code": "\n# Plot a Hinton diagram of a matrix of complex numbers\ndef matrixPhase(matrix):\n    # MATRIX assumed to have complex numbers with magnitude at most 1\n    # MATRIX also assumed to be square\n\n    array = np.asarray(matrix)\n    dim = array.shape[0]\n    rect_coords = [i/dim for i in range(dim+1)]\n    figure, axes = plt.subplots()\n\n    # Due to matrix indexing, i controls y-coodinate, j controls x-coordinate\n    for i in range(dim):\n        for j in range(dim):            \n            # Use RECT_COORDS to find centers of the phase diagram circle\n            x = (rect_coords[j] + rect_coords[j+1]) / 2\n            y = 1 - (rect_coords[i] + rect_coords[i+1]) / 2\n            \n            num = array[i][j]\n            r = np.abs(num) / (2*dim)\n            theta = np.angle(num)\n            \n            # For some reason, we need to input RGG as values between 0 and 1, not 0 and 255\n            # Tuples are immutable, so we have to make a new tuple\n            R, G, B = complexColor(num)\n\n            circle = plt.Circle((x, y), r, color=(R/255, G/255, B/255, 1))\n            axes.add_patch(circle)\n            plt.plot([x, x + np.cos(theta)/(dim**2)], [y, y + np.sin(theta)/(dim**2)], linestyle='-', color='k')\n    plt.xlim([0,1])\n    plt.ylim([0,1])\n    plt.show()",
    "id": "8127a47b647342b787271c229228dba9",
    "idx": 3,
    "time": "2021-02-12T19:18:42.487Z",
    "type": "execution"
   },
   {
    "id": "8127a47b647342b787271c229228dba9",
    "time": "2021-02-12T19:18:42.582Z",
    "type": "completion"
   },
   {
    "code": "matrixPhase([[0.5+0.5j,0.3],[0.1,0.8]])",
    "id": "45609b0b51a14bbe89c04ec9abd4be76",
    "idx": 4,
    "time": "2021-02-12T19:18:42.732Z",
    "type": "execution"
   },
   {
    "id": "45609b0b51a14bbe89c04ec9abd4be76",
    "time": "2021-02-12T19:18:43.089Z",
    "type": "completion"
   },
   {
    "code": "# Convert magnitude and phase to a standard RGB triple (between 0 and 255)\ndef complexColor(z):\n    # Use standard mapping of magnitude and phase to HSL (H = phase, L = magnitude, S = 1)\n    # Then map HSL to RGB and return a triple\n    # Magnitude assumed not greater than 1\n    \n    norm = np.abs(z)\n    phase = np.angle(z, deg=True)\n    \n    C = 1 - abs(2*norm - 1)\n    H = phase/60 # Finds which of the 6 sections of the color wheel the phase belongs to\n    X = C * (1 - abs((H % 2) - 1))\n    \n    # 6 cases corresponding to the 6 sections\n    if H <= 1:\n        R = C\n        G = X\n        B = 0\n    elif H <= 2:\n        R = X\n        G = C\n        B = 0\n    elif H <= 3:\n        R = 0\n        G = C\n        B = X\n    elif H <= 4:\n        R = 0\n        G = X\n        B = C\n    elif H <= 5:\n        R = X\n        G = 0\n        B = C\n    elif H <= 6:\n        R = C\n        G = 0\n        B = X\n    else:\n        R = 0\n        G = 0\n        B = 0\n        \n    m = norm - C/2\n    \n    return (R+m, G+m, B+m)",
    "id": "8a84077f70514958810db3bc87edde34",
    "idx": 2,
    "time": "2021-02-12T19:20:40.010Z",
    "type": "execution"
   },
   {
    "id": "8a84077f70514958810db3bc87edde34",
    "time": "2021-02-12T19:20:40.158Z",
    "type": "completion"
   },
   {
    "code": "# Convert magnitude and phase to a standard RGB triple (between 0 and 1)\ndef complexColor(z):\n    # Use standard mapping of magnitude and phase to HSL (H = phase, L = magnitude, S = 1)\n    # Then map HSL to RGB and return a triple\n    # Magnitude assumed not greater than 1\n    \n    norm = np.abs(z)\n    phase = np.angle(z, deg=True)\n    \n    C = 1 - abs(2*norm - 1)\n    H = phase/60 # Finds which of the 6 sections of the color wheel the phase belongs to\n    X = C * (1 - abs((H % 2) - 1))\n    \n    # 6 cases corresponding to the 6 sections\n    if H <= 1:\n        R = C\n        G = X\n        B = 0\n    elif H <= 2:\n        R = X\n        G = C\n        B = 0\n    elif H <= 3:\n        R = 0\n        G = C\n        B = X\n    elif H <= 4:\n        R = 0\n        G = X\n        B = C\n    elif H <= 5:\n        R = X\n        G = 0\n        B = C\n    elif H <= 6:\n        R = C\n        G = 0\n        B = X\n    else:\n        R = 0\n        G = 0\n        B = 0\n        \n    m = norm - C/2\n    \n    return (R+m, G+m, B+m)",
    "id": "8a84077f70514958810db3bc87edde34",
    "idx": 2,
    "time": "2021-02-12T19:20:45.162Z",
    "type": "execution"
   },
   {
    "id": "8a84077f70514958810db3bc87edde34",
    "time": "2021-02-12T19:20:45.262Z",
    "type": "completion"
   },
   {
    "code": "\n# Plot a Hinton diagram of a matrix of complex numbers\ndef matrixPhase(matrix):\n    # MATRIX assumed to have complex numbers with magnitude at most 1\n    # MATRIX also assumed to be square\n\n    array = np.asarray(matrix)\n    dim = array.shape[0]\n    rect_coords = [i/dim for i in range(dim+1)]\n    figure, axes = plt.subplots()\n\n    # Due to matrix indexing, i controls y-coodinate, j controls x-coordinate\n    for i in range(dim):\n        for j in range(dim):            \n            # Use RECT_COORDS to find centers of the phase diagram circle\n            x = (rect_coords[j] + rect_coords[j+1]) / 2\n            y = 1 - (rect_coords[i] + rect_coords[i+1]) / 2\n            \n            num = array[i][j]\n            r = np.abs(num) / (2*dim)\n            theta = np.angle(num)\n            \n            # For some reason, we need to input RGG as values between 0 and 1, not 0 and 255\n            # Tuples are immutable, so we have to make a new tuple\n            R, G, B = complexColor(num)\n\n            circle = plt.Circle((x, y), r, color=(R/255, G/255, B/255, 1))\n            axes.add_patch(circle)\n            plt.plot([x, x + np.cos(theta)/(dim**2)], [y, y + np.sin(theta)/(dim**2)], linestyle='-', color='k')\n    plt.xlim([0,1])\n    plt.ylim([0,1])\n    plt.show()",
    "id": "8127a47b647342b787271c229228dba9",
    "idx": 3,
    "time": "2021-02-12T19:20:45.621Z",
    "type": "execution"
   },
   {
    "id": "8127a47b647342b787271c229228dba9",
    "time": "2021-02-12T19:20:45.704Z",
    "type": "completion"
   },
   {
    "code": "\n# Plot a Hinton diagram of a matrix of complex numbers\ndef matrixPhase(matrix):\n    # MATRIX assumed to have complex numbers with magnitude at most 1\n    # MATRIX also assumed to be square\n\n    array = np.asarray(matrix)\n    dim = array.shape[0]\n    rect_coords = [i/dim for i in range(dim+1)]\n    figure, axes = plt.subplots()\n\n    # Due to matrix indexing, i controls y-coodinate, j controls x-coordinate\n    for i in range(dim):\n        for j in range(dim):            \n            # Use RECT_COORDS to find centers of the phase diagram circle\n            x = (rect_coords[j] + rect_coords[j+1]) / 2\n            y = 1 - (rect_coords[i] + rect_coords[i+1]) / 2\n            \n            num = array[i][j]\n            r = np.abs(num) / (2*dim)\n            theta = np.angle(num)\n\n            circle = plt.Circle((x, y), r, color=complexColor(num))\n            axes.add_patch(circle)\n            plt.plot([x, x + np.cos(theta)/(dim**2)], [y, y + np.sin(theta)/(dim**2)], linestyle='-', color='k')\n    plt.xlim([0,1])\n    plt.ylim([0,1])\n    plt.show()",
    "id": "8127a47b647342b787271c229228dba9",
    "idx": 3,
    "time": "2021-02-12T19:21:00.562Z",
    "type": "execution"
   },
   {
    "id": "8127a47b647342b787271c229228dba9",
    "time": "2021-02-12T19:21:00.655Z",
    "type": "completion"
   },
   {
    "code": "matrixPhase([[0.5+0.5j,0.3],[0.1,0.8]])",
    "id": "45609b0b51a14bbe89c04ec9abd4be76",
    "idx": 4,
    "time": "2021-02-12T19:21:00.853Z",
    "type": "execution"
   },
   {
    "id": "45609b0b51a14bbe89c04ec9abd4be76",
    "time": "2021-02-12T19:21:01.192Z",
    "type": "completion"
   },
   {
    "code": "# Plot a Hinton diagram of a matrix of complex numbers\ndef matrixPhase(matrix):\n    # MATRIX assumed to have complex numbers with magnitude at most 1\n    # MATRIX also assumed to be square\n\n    array = np.asarray(matrix)\n    dim = array.shape[0]\n    rect_coords = [i/dim for i in range(dim+1)]\n    figure, axes = plt.subplots()\n\n    # Due to matrix indexing, i controls y-coodinate, j controls x-coordinate\n    for i in range(dim):\n        for j in range(dim):            \n            # Use RECT_COORDS to find centers of the phase diagram circle\n            x = (rect_coords[j] + rect_coords[j+1]) / 2\n            y = 1 - (rect_coords[i] + rect_coords[i+1]) / 2\n            \n            num = array[i][j]\n            r = np.abs(num) / (2*dim)\n            theta = np.angle(num)\n\n            circle = plt.Circle((x, y), r, color=complexColor(num))\n            axes.add_patch(circle)\n            plt.plot([x, x + np.cos(theta)/(dim**2)], [y, y + np.sin(theta)/(dim**2)], linestyle='-', color='k')\n    plt.xlim([0,1])\n    plt.ylim([0,1])\n    plt.show()",
    "id": "8127a47b647342b787271c229228dba9",
    "idx": 3,
    "time": "2021-02-12T19:21:25.422Z",
    "type": "execution"
   },
   {
    "id": "8127a47b647342b787271c229228dba9",
    "time": "2021-02-12T19:21:25.508Z",
    "type": "completion"
   },
   {
    "code": "# Plot a Hinton diagram of a matrix of complex numbers\ndef matrixPhase(matrix):\n    # MATRIX assumed to have complex numbers with magnitude at most 1\n    # MATRIX also assumed to be square\n\n    array = np.asarray(matrix)\n    dim = array.shape[0]\n    rect_coords = [i/dim for i in range(dim+1)]\n    figure, axes = plt.subplots()\n\n    # Due to matrix indexing, i controls y-coodinate, j controls x-coordinate\n    for i in range(dim):\n        for j in range(dim):            \n            # Use RECT_COORDS to find centers of the phase diagram circle\n            x = (rect_coords[j] + rect_coords[j+1]) / 2\n            y = 1 - (rect_coords[i] + rect_coords[i+1]) / 2\n            \n            num = array[i][j]\n            r = np.abs(num) / (2*dim)\n            theta = np.angle(num)\n\n            circle = plt.Circle((x, y), r, color=complexColor(num))\n            axes.add_patch(circle)\n            plt.plot([x, x + np.cos(theta)/(dim**2)], [y, y + np.sin(theta)/(dim**2)], linestyle='-', color='k')\n    plt.xlim([0,1])\n    plt.ylim([0,1])\n    plt.show()",
    "id": "8127a47b647342b787271c229228dba9",
    "idx": 3,
    "time": "2021-02-12T19:22:09.787Z",
    "type": "execution"
   },
   {
    "id": "8127a47b647342b787271c229228dba9",
    "time": "2021-02-12T19:22:09.906Z",
    "type": "completion"
   },
   {
    "code": "# For testing\nmatrixPhase([[0.5+0.5j,0.3],[0.1,0.8]])",
    "id": "45609b0b51a14bbe89c04ec9abd4be76",
    "idx": 4,
    "time": "2021-02-12T19:37:58.788Z",
    "type": "execution"
   },
   {
    "id": "45609b0b51a14bbe89c04ec9abd4be76",
    "time": "2021-02-12T19:37:59.188Z",
    "type": "completion"
   },
   {
    "code": "def complexColor(z):\n    # Converts magnitude and phase to a standard RGB triple (between 0 and 1)\n    # Use standard mapping of magnitude and phase to HSL (H = phase, L = magnitude, S = 1)\n    # Then map HSL to RGB and return a triple\n    # Magnitude assumed not greater than 1\n    \n    norm = np.abs(z)\n    phase = np.angle(z)\n    \n    C = 1 - abs(2*norm - 1)\n    H = phase/(np.pi / 3) # Finds which of the 6 sections of the color wheel the phase belongs to\n    X = C * (1 - abs((H % 2) - 1))\n    \n    # 6 cases corresponding to the 6 sections\n    if H <= 1:\n        R = C\n        G = X\n        B = 0\n    elif H <= 2:\n        R = X\n        G = C\n        B = 0\n    elif H <= 3:\n        R = 0\n        G = C\n        B = X\n    elif H <= 4:\n        R = 0\n        G = X\n        B = C\n    elif H <= 5:\n        R = X\n        G = 0\n        B = C\n    elif H <= 6:\n        R = C\n        G = 0\n        B = X\n    else:\n        R = 0\n        G = 0\n        B = 0\n        \n    m = norm - C/2\n    \n    return (R+m, G+m, B+m)",
    "id": "8a84077f70514958810db3bc87edde34",
    "idx": 2,
    "time": "2021-02-12T19:40:45.281Z",
    "type": "execution"
   },
   {
    "id": "8a84077f70514958810db3bc87edde34",
    "time": "2021-02-12T19:40:45.372Z",
    "type": "completion"
   },
   {
    "code": "# Plot a Hinton diagram of a matrix of complex numbers\ndef matrixPhase(matrix):\n    # MATRIX assumed to have complex numbers with magnitude at most 1\n    # MATRIX also assumed to be square\n\n    array = np.asarray(matrix)\n    dim = array.shape[0]\n    rect_coords = [i/dim for i in range(dim+1)]\n    figure, axes = plt.subplots()\n\n    # Due to matrix indexing, i controls y-coodinate, j controls x-coordinate\n    for i in range(dim):\n        for j in range(dim):            \n            # Use RECT_COORDS to find centers of the phase diagram circle\n            x = (rect_coords[j] + rect_coords[j+1]) / 2\n            y = 1 - (rect_coords[i] + rect_coords[i+1]) / 2\n            \n            num = array[i][j]\n            r = np.abs(num) / (2*dim)\n            theta = np.angle(num)\n\n            circle = plt.Circle((x, y), r, color=complexColor(num))\n            axes.add_patch(circle)\n            plt.plot([x, x + np.cos(theta)/(dim**2)], [y, y + np.sin(theta)/(dim**2)], linestyle='-', color='k')\n    plt.xlim([0,1])\n    plt.ylim([0,1])\n    plt.show()",
    "id": "8127a47b647342b787271c229228dba9",
    "idx": 3,
    "time": "2021-02-12T19:40:46.555Z",
    "type": "execution"
   },
   {
    "id": "8127a47b647342b787271c229228dba9",
    "time": "2021-02-12T19:40:46.637Z",
    "type": "completion"
   },
   {
    "code": "# For testing\nmatrixPhase([[0.5+0.5j,0.3],[0.1,0.8]])",
    "id": "45609b0b51a14bbe89c04ec9abd4be76",
    "idx": 4,
    "time": "2021-02-12T19:40:47.388Z",
    "type": "execution"
   },
   {
    "id": "45609b0b51a14bbe89c04ec9abd4be76",
    "time": "2021-02-12T19:40:47.708Z",
    "type": "completion"
   },
   {
    "code": "# Plot a Hinton diagram of a matrix of complex numbers\ndef matrixPhase(matrix):\n    # MATRIX assumed to have complex numbers with magnitude at most 1\n    # MATRIX also assumed to be square\n\n    array = np.asarray(matrix)\n    dim = array.shape[0]\n    rect_coords = [i/dim for i in range(dim+1)]\n    figure, axes = plt.subplots()\n\n    # Due to matrix indexing, i controls y-coodinate, j controls x-coordinate\n    for i in range(dim):\n        for j in range(dim):            \n            # Use RECT_COORDS to find centers of the phase diagram circle\n            x = (rect_coords[j] + rect_coords[j+1]) / 2\n            y = 1 - (rect_coords[i] + rect_coords[i+1]) / 2\n            \n            num = array[i][j]\n            r = np.abs(num) / (2*dim)\n            theta = np.angle(num)\n\n            circle = phasePlot(num, x, y, maxSize=1)\n            axes.add_patch(circle)\n            plt.plot([x, x + np.cos(theta)/(dim**2)], [y, y + np.sin(theta)/(dim**2)], linestyle='-', color='k')\n    plt.xlim([0,1])\n    plt.ylim([0,1])\n    plt.show()",
    "id": "8127a47b647342b787271c229228dba9",
    "idx": 3,
    "time": "2021-02-12T19:45:13.552Z",
    "type": "execution"
   },
   {
    "id": "8127a47b647342b787271c229228dba9",
    "time": "2021-02-12T19:45:13.653Z",
    "type": "completion"
   },
   {
    "code": "# For testing\nmatrixPhase([[0.5+0.5j,0.3],[0.1,0.8]])",
    "id": "45609b0b51a14bbe89c04ec9abd4be76",
    "idx": 4,
    "time": "2021-02-12T19:45:14.175Z",
    "type": "execution"
   },
   {
    "id": "45609b0b51a14bbe89c04ec9abd4be76",
    "time": "2021-02-12T19:45:14.431Z",
    "type": "completion"
   },
   {
    "code": "def phasePlot(num, x, y, maxSize = 0):\n    # NUM is a complex number\n    # X and Y are coordinates of the center of the phase diagram\n    # MAXSIZE can be used to scale all values according to a maximum magnitude\n    # Returns a circle that can be plotted\n\n    r = np.abs(num)\n    if maxSize:\n        r = r * maxSize / 2\n    theta = np.angle(num)\n\n    return plt.Circle((x, y), r, color=complexColor(num))",
    "id": "e0b0cc82eeb946b886d924d5c12165dc",
    "idx": 2,
    "time": "2021-02-12T19:45:16.965Z",
    "type": "execution"
   },
   {
    "id": "e0b0cc82eeb946b886d924d5c12165dc",
    "time": "2021-02-12T19:45:17.043Z",
    "type": "completion"
   },
   {
    "code": "# Plot a Hinton diagram of a matrix of complex numbers\ndef matrixPhase(matrix):\n    # MATRIX assumed to have complex numbers with magnitude at most 1\n    # MATRIX also assumed to be square\n\n    array = np.asarray(matrix)\n    dim = array.shape[0]\n    rect_coords = [i/dim for i in range(dim+1)]\n    figure, axes = plt.subplots()\n\n    # Due to matrix indexing, i controls y-coodinate, j controls x-coordinate\n    for i in range(dim):\n        for j in range(dim):            \n            # Use RECT_COORDS to find centers of the phase diagram circle\n            x = (rect_coords[j] + rect_coords[j+1]) / 2\n            y = 1 - (rect_coords[i] + rect_coords[i+1]) / 2\n            \n            num = array[i][j]\n            r = np.abs(num) / (2*dim)\n            theta = np.angle(num)\n\n            circle = phasePlot(num, x, y, maxSize=1)\n            axes.add_patch(circle)\n            plt.plot([x, x + np.cos(theta)/(dim**2)], [y, y + np.sin(theta)/(dim**2)], linestyle='-', color='k')\n    plt.xlim([0,1])\n    plt.ylim([0,1])\n    plt.show()",
    "id": "8127a47b647342b787271c229228dba9",
    "idx": 3,
    "time": "2021-02-12T19:45:17.259Z",
    "type": "execution"
   },
   {
    "id": "8127a47b647342b787271c229228dba9",
    "time": "2021-02-12T19:45:17.346Z",
    "type": "completion"
   },
   {
    "code": "# For testing\nmatrixPhase([[0.5+0.5j,0.3],[0.1,0.8]])",
    "id": "45609b0b51a14bbe89c04ec9abd4be76",
    "idx": 4,
    "time": "2021-02-12T19:45:17.663Z",
    "type": "execution"
   },
   {
    "id": "45609b0b51a14bbe89c04ec9abd4be76",
    "time": "2021-02-12T19:45:17.984Z",
    "type": "completion"
   },
   {
    "code": "# Plot a Hinton diagram of a matrix of complex numbers\ndef matrixPhase(matrix):\n    # MATRIX assumed to have complex numbers with magnitude at most 1\n    # MATRIX also assumed to be square\n\n    array = np.asarray(matrix)\n    dim = array.shape[0]\n    rect_coords = [i/dim for i in range(dim+1)]\n    figure, axes = plt.subplots()\n\n    # Due to matrix indexing, i controls y-coodinate, j controls x-coordinate\n    for i in range(dim):\n        for j in range(dim):            \n            # Use RECT_COORDS to find centers of the phase diagram circle\n            x = (rect_coords[j] + rect_coords[j+1]) / 2\n            y = 1 - (rect_coords[i] + rect_coords[i+1]) / 2\n            \n            num = array[i][j]\n            r = np.abs(num) / (2*dim)\n            theta = np.angle(num)\n\n            circle = phasePlot(num, x, y, maxSize=dim)\n            axes.add_patch(circle)\n            plt.plot([x, x + np.cos(theta)/(dim**2)], [y, y + np.sin(theta)/(dim**2)], linestyle='-', color='k')\n    plt.xlim([0,1])\n    plt.ylim([0,1])\n    plt.show()",
    "id": "8127a47b647342b787271c229228dba9",
    "idx": 3,
    "time": "2021-02-12T19:45:56.212Z",
    "type": "execution"
   },
   {
    "id": "8127a47b647342b787271c229228dba9",
    "time": "2021-02-12T19:45:56.301Z",
    "type": "completion"
   },
   {
    "code": "# For testing\nmatrixPhase([[0.5+0.5j,0.3],[0.1,0.8]])",
    "id": "45609b0b51a14bbe89c04ec9abd4be76",
    "idx": 4,
    "time": "2021-02-12T19:45:56.548Z",
    "type": "execution"
   },
   {
    "id": "45609b0b51a14bbe89c04ec9abd4be76",
    "time": "2021-02-12T19:45:56.877Z",
    "type": "completion"
   },
   {
    "code": "def phasePlot(num, x, y, scale = 0):\n    # NUM is a complex number\n    # X and Y are coordinates of the center of the phase diagram\n    # SCALE can be used to scale all values according to a maximum magnitude\n    # Returns a circle that can be plotted\n\n    r = np.abs(num)\n    if scale:\n        r = r * scale\n    theta = np.angle(num)\n\n    return plt.Circle((x, y), r, color=complexColor(num))",
    "id": "e0b0cc82eeb946b886d924d5c12165dc",
    "idx": 2,
    "time": "2021-02-12T19:47:00.007Z",
    "type": "execution"
   },
   {
    "id": "e0b0cc82eeb946b886d924d5c12165dc",
    "time": "2021-02-12T19:47:00.086Z",
    "type": "completion"
   },
   {
    "code": "# Plot a Hinton diagram of a matrix of complex numbers\ndef matrixPhase(matrix):\n    # MATRIX assumed to have complex numbers with magnitude at most 1\n    # MATRIX also assumed to be square\n\n    array = np.asarray(matrix)\n    dim = array.shape[0]\n    rect_coords = [i/dim for i in range(dim+1)]\n    figure, axes = plt.subplots()\n\n    # Due to matrix indexing, i controls y-coodinate, j controls x-coordinate\n    for i in range(dim):\n        for j in range(dim):            \n            # Use RECT_COORDS to find centers of the phase diagram circle\n            x = (rect_coords[j] + rect_coords[j+1]) / 2\n            y = 1 - (rect_coords[i] + rect_coords[i+1]) / 2\n            \n            num = array[i][j]\n            r = np.abs(num) / (2*dim)\n            theta = np.angle(num)\n\n            circle = phasePlot(num, x, y, maxSize=1/(2*dim))\n            axes.add_patch(circle)\n            plt.plot([x, x + np.cos(theta)/(dim**2)], [y, y + np.sin(theta)/(dim**2)], linestyle='-', color='k')\n    plt.xlim([0,1])\n    plt.ylim([0,1])\n    plt.show()",
    "id": "8127a47b647342b787271c229228dba9",
    "idx": 3,
    "time": "2021-02-12T19:47:06.396Z",
    "type": "execution"
   },
   {
    "id": "8127a47b647342b787271c229228dba9",
    "time": "2021-02-12T19:47:06.480Z",
    "type": "completion"
   },
   {
    "code": "# For testing\nmatrixPhase([[0.5+0.5j,0.3],[0.1,0.8]])",
    "id": "45609b0b51a14bbe89c04ec9abd4be76",
    "idx": 4,
    "time": "2021-02-12T19:47:06.757Z",
    "type": "execution"
   },
   {
    "id": "45609b0b51a14bbe89c04ec9abd4be76",
    "time": "2021-02-12T19:47:06.995Z",
    "type": "completion"
   },
   {
    "code": "# Plot a Hinton diagram of a matrix of complex numbers\ndef matrixPhase(matrix):\n    # MATRIX assumed to have complex numbers with magnitude at most 1\n    # MATRIX also assumed to be square\n\n    array = np.asarray(matrix)\n    dim = array.shape[0]\n    rect_coords = [i/dim for i in range(dim+1)]\n    figure, axes = plt.subplots()\n\n    # Due to matrix indexing, i controls y-coodinate, j controls x-coordinate\n    for i in range(dim):\n        for j in range(dim):            \n            # Use RECT_COORDS to find centers of the phase diagram circle\n            x = (rect_coords[j] + rect_coords[j+1]) / 2\n            y = 1 - (rect_coords[i] + rect_coords[i+1]) / 2\n            \n            num = array[i][j]\n            r = np.abs(num) / (2*dim)\n            theta = np.angle(num)\n\n            circle = phasePlot(num, x, y, maxSize=(1/(2*dim)))\n            axes.add_patch(circle)\n            plt.plot([x, x + np.cos(theta)/(dim**2)], [y, y + np.sin(theta)/(dim**2)], linestyle='-', color='k')\n    plt.xlim([0,1])\n    plt.ylim([0,1])\n    plt.show()",
    "id": "8127a47b647342b787271c229228dba9",
    "idx": 3,
    "time": "2021-02-12T19:47:16.763Z",
    "type": "execution"
   },
   {
    "id": "8127a47b647342b787271c229228dba9",
    "time": "2021-02-12T19:47:16.847Z",
    "type": "completion"
   },
   {
    "code": "# For testing\nmatrixPhase([[0.5+0.5j,0.3],[0.1,0.8]])",
    "id": "45609b0b51a14bbe89c04ec9abd4be76",
    "idx": 4,
    "time": "2021-02-12T19:47:16.905Z",
    "type": "execution"
   },
   {
    "id": "45609b0b51a14bbe89c04ec9abd4be76",
    "time": "2021-02-12T19:47:17.163Z",
    "type": "completion"
   },
   {
    "code": "# Plot a Hinton diagram of a matrix of complex numbers\ndef matrixPhase(matrix):\n    # MATRIX assumed to have complex numbers with magnitude at most 1\n    # MATRIX also assumed to be square\n\n    array = np.asarray(matrix)\n    dim = array.shape[0]\n    rect_coords = [i/dim for i in range(dim+1)]\n    figure, axes = plt.subplots()\n\n    # Due to matrix indexing, i controls y-coodinate, j controls x-coordinate\n    for i in range(dim):\n        for j in range(dim):            \n            # Use RECT_COORDS to find centers of the phase diagram circle\n            x = (rect_coords[j] + rect_coords[j+1]) / 2\n            y = 1 - (rect_coords[i] + rect_coords[i+1]) / 2\n            \n            num = array[i][j]\n            r = np.abs(num) / (2*dim)\n            theta = np.angle(num)\n\n            circle = phasePlot(num, x, y, scale=1/(2*dim))\n            axes.add_patch(circle)\n            plt.plot([x, x + np.cos(theta)/(dim**2)], [y, y + np.sin(theta)/(dim**2)], linestyle='-', color='k')\n    plt.xlim([0,1])\n    plt.ylim([0,1])\n    plt.show()",
    "id": "8127a47b647342b787271c229228dba9",
    "idx": 3,
    "time": "2021-02-12T19:47:25.921Z",
    "type": "execution"
   },
   {
    "id": "8127a47b647342b787271c229228dba9",
    "time": "2021-02-12T19:47:26.010Z",
    "type": "completion"
   },
   {
    "code": "# For testing\nmatrixPhase([[0.5+0.5j,0.3],[0.1,0.8]])",
    "id": "45609b0b51a14bbe89c04ec9abd4be76",
    "idx": 4,
    "time": "2021-02-12T19:47:26.071Z",
    "type": "execution"
   },
   {
    "id": "45609b0b51a14bbe89c04ec9abd4be76",
    "time": "2021-02-12T19:47:26.414Z",
    "type": "completion"
   },
   {
    "code": "# Plot a Hinton diagram of a matrix of complex numbers\ndef matrixPhase(matrix):\n    # MATRIX assumed to have complex numbers with magnitude at most 1\n    # MATRIX also assumed to be square\n\n    array = np.asarray(matrix)\n    dim = array.shape[0]\n    rect_coords = [i/dim for i in range(dim+1)]\n    figure, axes = plt.subplots()\n\n    # Due to matrix indexing, i controls y-coodinate, j controls x-coordinate\n    for i in range(dim):\n        for j in range(dim):            \n            # Use RECT_COORDS to find centers of the phase diagram circle\n            x = (rect_coords[j] + rect_coords[j+1]) / 2\n            y = 1 - (rect_coords[i] + rect_coords[i+1]) / 2\n            \n            num = array[i][j]\n            r = np.abs(num) / (2*dim)\n            theta = np.angle(num)\n\n            circle = phasePlot(num, x, y, scale=2*dim) # Divide by dimension\n            axes.add_patch(circle)\n            plt.plot([x, x + np.cos(theta)/(dim**2)], [y, y + np.sin(theta)/(dim**2)], linestyle='-', color='k')\n    plt.xlim([0,1])\n    plt.ylim([0,1])\n    plt.show()",
    "id": "8127a47b647342b787271c229228dba9",
    "idx": 3,
    "time": "2021-02-12T19:48:06.959Z",
    "type": "execution"
   },
   {
    "id": "8127a47b647342b787271c229228dba9",
    "time": "2021-02-12T19:48:07.063Z",
    "type": "completion"
   },
   {
    "code": "def phasePlot(num, x, y, scale = 0):\n    # NUM is a complex number\n    # X and Y are coordinates of the center of the phase diagram\n    # SCALE can be used to scale all values as needed (e.g.)\n    # Returns a circle that can be plotted\n\n    r = np.abs(num)\n    if scale:\n        r = r / scale\n    theta = np.angle(num)\n\n    return plt.Circle((x, y), r, color=complexColor(num))",
    "id": "e0b0cc82eeb946b886d924d5c12165dc",
    "idx": 2,
    "time": "2021-02-12T19:48:09.652Z",
    "type": "execution"
   },
   {
    "id": "e0b0cc82eeb946b886d924d5c12165dc",
    "time": "2021-02-12T19:48:09.738Z",
    "type": "completion"
   },
   {
    "code": "# Plot a Hinton diagram of a matrix of complex numbers\ndef matrixPhase(matrix):\n    # MATRIX assumed to have complex numbers with magnitude at most 1\n    # MATRIX also assumed to be square\n\n    array = np.asarray(matrix)\n    dim = array.shape[0]\n    rect_coords = [i/dim for i in range(dim+1)]\n    figure, axes = plt.subplots()\n\n    # Due to matrix indexing, i controls y-coodinate, j controls x-coordinate\n    for i in range(dim):\n        for j in range(dim):            \n            # Use RECT_COORDS to find centers of the phase diagram circle\n            x = (rect_coords[j] + rect_coords[j+1]) / 2\n            y = 1 - (rect_coords[i] + rect_coords[i+1]) / 2\n            \n            num = array[i][j]\n            r = np.abs(num) / (2*dim)\n            theta = np.angle(num)\n\n            circle = phasePlot(num, x, y, scale=2*dim) # Divide by dimension\n            axes.add_patch(circle)\n            plt.plot([x, x + np.cos(theta)/(dim**2)], [y, y + np.sin(theta)/(dim**2)], linestyle='-', color='k')\n    plt.xlim([0,1])\n    plt.ylim([0,1])\n    plt.show()",
    "id": "8127a47b647342b787271c229228dba9",
    "idx": 3,
    "time": "2021-02-12T19:48:10.424Z",
    "type": "execution"
   },
   {
    "id": "8127a47b647342b787271c229228dba9",
    "time": "2021-02-12T19:48:10.516Z",
    "type": "completion"
   },
   {
    "code": "# For testing\nmatrixPhase([[0.5+0.5j,0.3],[0.1,0.8]])",
    "id": "45609b0b51a14bbe89c04ec9abd4be76",
    "idx": 4,
    "time": "2021-02-12T19:48:11.342Z",
    "type": "execution"
   },
   {
    "id": "45609b0b51a14bbe89c04ec9abd4be76",
    "time": "2021-02-12T19:48:11.675Z",
    "type": "completion"
   },
   {
    "code": "def phasePlot(num, x, y, scale = 1):\n    # NUM is a complex number\n    # X and Y are coordinates of the center of the phase diagram\n    # SCALE can be used to scale all values as needed (e.g. normalization)\n    # Returns a circle that can be plotted\n\n    r = np.abs(num) * scale\n    theta = np.angle(num)\n\n    return plt.Circle((x, y), r, color=complexColor(num))",
    "id": "e0b0cc82eeb946b886d924d5c12165dc",
    "idx": 2,
    "time": "2021-02-12T20:00:19.305Z",
    "type": "execution"
   },
   {
    "id": "e0b0cc82eeb946b886d924d5c12165dc",
    "time": "2021-02-12T20:00:19.396Z",
    "type": "completion"
   },
   {
    "code": "def matrixPhase(matrix):\n    # Plot a Hinton diagram of a matrix of complex numbers\n    # MATRIX assumed to have complex numbers with magnitude at most 1\n    # MATRIX also assumed to be square\n\n    array = np.asarray(matrix)\n    dim = array.shape[0]\n    rect_coords = [i/dim for i in range(dim+1)]\n    figure, axes = plt.subplots()\n\n    # Due to matrix indexing, i controls y-coodinate, j controls x-coordinate\n    for i in range(dim):\n        for j in range(dim):            \n            # Use RECT_COORDS to find centers of the phase diagram circle\n            x = (rect_coords[j] + rect_coords[j+1]) / 2\n            y = 1 - (rect_coords[i] + rect_coords[i+1]) / 2\n            \n            num = array[i][j]\n            r = np.abs(num) / (2*dim)\n            theta = np.angle(num)\n\n            circle = phasePlot(num, x, y, scale=1/(2*dim)) # Divide by dimension to fit inside assigned square, which is diameter, not radius\n            axes.add_patch(circle)\n            plt.plot([x, x + np.cos(theta)/(dim**2)], [y, y + np.sin(theta)/(dim**2)], linestyle='-', color='k')\n    plt.xlim([0,1])\n    plt.ylim([0,1])\n    plt.show()",
    "id": "8127a47b647342b787271c229228dba9",
    "idx": 3,
    "time": "2021-02-12T20:00:30.103Z",
    "type": "execution"
   },
   {
    "id": "8127a47b647342b787271c229228dba9",
    "time": "2021-02-12T20:00:30.197Z",
    "type": "completion"
   },
   {
    "code": "# For testing\nmatrixPhase([[0.5+0.5j,0.3],[0.1,0.8]])",
    "id": "45609b0b51a14bbe89c04ec9abd4be76",
    "idx": 4,
    "time": "2021-02-12T20:00:30.530Z",
    "type": "execution"
   },
   {
    "id": "45609b0b51a14bbe89c04ec9abd4be76",
    "time": "2021-02-12T20:00:30.867Z",
    "type": "completion"
   }
  ],
  "kernelspec": {
   "display_name": "Python 3",
   "language": "python",
   "name": "python3"
  },
  "language_info": {
   "codemirror_mode": {
    "name": "ipython",
    "version": 3
   },
   "file_extension": ".py",
   "mimetype": "text/x-python",
   "name": "python",
   "nbconvert_exporter": "python",
   "pygments_lexer": "ipython3",
   "version": "3.8.6"
  }
 },
 "nbformat": 4,
 "nbformat_minor": 4
}
