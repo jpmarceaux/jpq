{
 "cells": [
  {
   "cell_type": "code",
   "execution_count": 1,
   "metadata": {},
   "outputs": [
    {
     "name": "stdout",
     "output_type": "stream",
     "text": [
      "Using matplotlib backend: Qt5Agg\n"
     ]
    }
   ],
   "source": [
    "import numpy as np\n",
    "import matplotlib.pyplot as plt\n",
    "from mpl_toolkits.mplot3d import axes3d\n",
    "from colormath.color_objects import sRGBColor, XYZColor\n",
    "from colormath.color_conversions import convert_color\n",
    "%matplotlib"
   ]
  },
  {
   "cell_type": "code",
   "execution_count": 2,
   "metadata": {},
   "outputs": [
    {
     "name": "stdout",
     "output_type": "stream",
     "text": [
      "(441, 4)\n"
     ]
    }
   ],
   "source": [
    "MF = np.genfromtxt(\"lin2012xyz2e_1_7sf.csv\", delimiter=',') \n",
    "print(MF.shape)\n",
    "CMF = MF[:, 1:4]"
   ]
  },
  {
   "cell_type": "code",
   "execution_count": 3,
   "metadata": {},
   "outputs": [],
   "source": [
    "def clip2rgb(xyz):\n",
    "    XYZ = XYZColor(xyz[0], xyz[1], xyz[2])\n",
    "    crgb = convert_color(XYZ, sRGBColor)\n",
    "    r = crgb.rgb_r\n",
    "    g = crgb.rgb_g\n",
    "    b = crgb.rgb_b\n",
    "    r = r if r > 0 else 0\n",
    "    g = g if g > 0 else 0\n",
    "    b = b if b > 0 else 0\n",
    "    r = r if r < 1 else 1\n",
    "    g = g if g < 1 else 1\n",
    "    b = b if b < 1 else 1\n",
    "    return [r, g, b]"
   ]
  },
  {
   "cell_type": "code",
   "execution_count": 4,
   "metadata": {},
   "outputs": [],
   "source": [
    "def distance(r1, r2):\n",
    "    return np.sqrt(r1[0]*r2[0] + r1[1]*r2[1] + r1[2]+r2[2])"
   ]
  },
  {
   "cell_type": "code",
   "execution_count": 5,
   "metadata": {},
   "outputs": [],
   "source": [
    "# plot delta and gap colors\n",
    "fig = plt.figure()\n",
    "ax = fig.gca(projection='3d')\n",
    "ax.set_xlim([0,2])\n",
    "ax.set_ylim([0,2])\n",
    "ax.set_zlim([0,2])\n",
    "# plot delta colors\n",
    "C0 = []\n",
    "C1 = []\n",
    "C2 = []\n",
    "RGB = []\n",
    "for O in CMF:\n",
    "    C0.append( O[0] )\n",
    "    C1.append( O[1] )\n",
    "    C2.append( O[2] )\n",
    "    rgb = clip2rgb(O)\n",
    "    RGB.append(rgb)\n",
    "ax.scatter(C0, C1, C2, s=400, c=RGB) \n",
    "# plot gap colors\n",
    "C0 = []\n",
    "C1 = []\n",
    "C2 = []\n",
    "RGB = []\n",
    "for O in CMF:\n",
    "    O = 1-O\n",
    "    C0.append( O[0] )\n",
    "    C1.append( O[1] )\n",
    "    C2.append( O[2] )\n",
    "    rgb = clip2rgb(O)\n",
    "    RGB.append(rgb)\n",
    "ax.scatter(C0, C1, C2, s=400, c=RGB) \n",
    "\n",
    "# dividing line\n",
    "ax.plot((0,1), (0,1), (0,1))\n",
    "\n",
    "# bottom and top cones\n",
    "rad = 5\n",
    "for O in CMF:\n",
    "    rgb = clip2rgb(O)\n",
    "    ax.plot((0, rad*O[0]), (0, rad*O[1]), (0, rad*O[2]), color=rgb)\n",
    "    Q = 1-O\n",
    "    rgb = clip2rgb(Q)\n",
    "    r = distance([1,1,1], Q)\n",
    "    DQ = (1-Q) # = O (!)\n",
    "    ax.plot((1, 1-rad*DQ[0]), (1, 1-rad*DQ[1]), (1, 1-rad*DQ[2]), color=rgb)"
   ]
  },
  {
   "cell_type": "code",
   "execution_count": null,
   "metadata": {},
   "outputs": [],
   "source": []
  },
  {
   "cell_type": "code",
   "execution_count": null,
   "metadata": {},
   "outputs": [],
   "source": []
  }
 ],
 "metadata": {
  "kernelspec": {
   "display_name": "Python 3",
   "language": "python",
   "name": "python3"
  },
  "language_info": {
   "codemirror_mode": {
    "name": "ipython",
    "version": 3
   },
   "file_extension": ".py",
   "mimetype": "text/x-python",
   "name": "python",
   "nbconvert_exporter": "python",
   "pygments_lexer": "ipython3",
   "version": "3.9.3"
  }
 },
 "nbformat": 4,
 "nbformat_minor": 4
}
