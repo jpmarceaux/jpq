{
 "cells": [
  {
   "cell_type": "markdown",
   "metadata": {},
   "source": [
    "# Just Pretty Quantum"
   ]
  },
  {
   "cell_type": "markdown",
   "metadata": {},
   "source": [
    "Specify the folder where `jpq/` is installed:"
   ]
  },
  {
   "cell_type": "code",
   "execution_count": 1,
   "metadata": {},
   "outputs": [],
   "source": [
    "containing_folder = '/home/kunal/Desktop/'"
   ]
  },
  {
   "cell_type": "markdown",
   "metadata": {},
   "source": [
    "Import the library:"
   ]
  },
  {
   "cell_type": "code",
   "execution_count": 2,
   "metadata": {},
   "outputs": [],
   "source": [
    "import sys\n",
    "sys.path.insert(0, containing_folder)\n",
    "from jpq import *\n",
    "import numpy as np"
   ]
  },
  {
   "cell_type": "markdown",
   "metadata": {},
   "source": [
    "## Basic usage"
   ]
  },
  {
   "cell_type": "markdown",
   "metadata": {},
   "source": [
    "display 6 Pauli eigenvectors and mm state and print to html file"
   ]
  },
  {
   "cell_type": "code",
   "execution_count": 3,
   "metadata": {},
   "outputs": [
    {
     "name": "stdout",
     "output_type": "stream",
     "text": [
      "[(0.500, 0.000) (0.000, 0.000) ]\n",
      "[(0.000, 0.000) (0.500, 0.000) ]\n",
      "\n",
      "[(1.000, 0.000) (0.000, 0.000) ]\n",
      "[(0.000, 0.000) (0.000, 0.000) ]\n",
      "\n",
      "[(0.000, 0.000) (0.000, 0.000) ]\n",
      "[(0.000, 0.000) (1.000, 0.000) ]\n",
      "\n",
      "[(0.500, 0.000) (0.500, 0.000) ]\n",
      "[(0.500, 0.000) (0.500, 0.000) ]\n",
      "\n",
      "[(0.500, 0.000) (-0.500, 0.000) ]\n",
      "[(-0.500, 0.000) (0.500, 0.000) ]\n",
      "\n",
      "[(0.500, 0.000) (0.000, -0.500) ]\n",
      "[(0.000, 0.500) (0.500, 0.000) ]\n",
      "\n",
      "[(0.500, 0.000) (0.000, 0.500) ]\n",
      "[(0.000, -0.500) (0.500, 0.000) ]\n",
      "\n"
     ]
    }
   ],
   "source": [
    "sset = [\n",
    "    State(np.eye(2)), \n",
    "    State(np.eye(2) + SigmaZ()), \n",
    "    State(np.eye(2) - SigmaZ()),\n",
    "    State(np.eye(2) + SigmaX()),\n",
    "    State(np.eye(2) - SigmaX()),\n",
    "    State(np.eye(2) + SigmaY()),\n",
    "    State(np.eye(2) - SigmaY())\n",
    "]\n",
    "for i in range(len(sset)):\n",
    "    sset[i].normalize()\n",
    "fstr = \"\"\n",
    "for i, s in enumerate(sset):\n",
    "    print(s)\n",
    "    fstr += s.html(f\"State {i}\")\n",
    "with open(\"states.html\", 'w') as file:\n",
    "    file.write(fstr)"
   ]
  },
  {
   "cell_type": "markdown",
   "metadata": {},
   "source": [
    "### display I, X, Y, Z, H, T gates"
   ]
  },
  {
   "cell_type": "code",
   "execution_count": 4,
   "metadata": {},
   "outputs": [
    {
     "name": "stdout",
     "output_type": "stream",
     "text": [
      "[(1.000, 0.000) (0.000, 0.000) ]\n",
      "[(0.000, 0.000) (1.000, 0.000) ]\n",
      "\n",
      "[(0.000, 0.000) (1.000, 0.000) ]\n",
      "[(1.000, 0.000) (0.000, 0.000) ]\n",
      "\n",
      "[(0.000, 0.000) (-0.000, -1.000) ]\n",
      "[(0.000, 1.000) (0.000, 0.000) ]\n",
      "\n",
      "[(1.000, 0.000) (0.000, 0.000) ]\n",
      "[(0.000, 0.000) (-1.000, 0.000) ]\n",
      "\n",
      "[(0.000, 0.000) (0.500, -0.500) ]\n",
      "[(0.500, 0.500) (0.000, 0.000) ]\n",
      "\n",
      "[(1.000, 0.000) (0.000, 0.000) ]\n",
      "[(0.000, 0.000) (0.707, -0.707) ]\n",
      "\n"
     ]
    }
   ],
   "source": [
    "oset = [\n",
    "    Operator(np.eye(2)),\n",
    "    Operator(SigmaX()),\n",
    "    Operator(SigmaY()), \n",
    "    Operator(SigmaZ()),\n",
    "    Operator(0.5*(SigmaX() + SigmaY())), \n",
    "    Operator(np.diag([1, np.exp(-1j*np.pi/4)])), \n",
    "]\n",
    "fstr = \"\"\n",
    "for i, o in enumerate(oset):\n",
    "    print(o)\n",
    "    fstr += o.html(f\"Operator {i}\")\n",
    "with open(\"operators.html\", 'w') as file:\n",
    "    file.write(fstr)"
   ]
  },
  {
   "cell_type": "markdown",
   "metadata": {},
   "source": [
    "### SIC-POVM on 1 qubit"
   ]
  },
  {
   "cell_type": "code",
   "execution_count": 5,
   "metadata": {},
   "outputs": [
    {
     "name": "stdout",
     "output_type": "stream",
     "text": [
      "[0.25, 0.25, (0.25+0j), (0.25+0j)]\n",
      "[0.5, 0.16666666666666666, (0.16666666666666666+0j), (0.16666666666666666+0j)]\n",
      "[0.0, 0.3333333333333333, (0.3333333333333333+0j), (0.3333333333333333+0j)]\n",
      "[0.25, 0.48570226039551584, (0.1321488698022421+0j), (0.13214886980224194+0j)]\n",
      "[0.25, 0.01429773960448412, (0.36785113019775784+0j), (0.367851130197758+0j)]\n",
      "[(0.25+0j), (0.25+0j), (0.4541241452319315+0j), (0.04587585476806853+0j)]\n",
      "[(0.25+0j), (0.25+0j), (0.04587585476806848+0j), (0.45412414523193145+0j)]\n"
     ]
    }
   ],
   "source": [
    "mset = [\n",
    "    0.5*np.array([[1, 0], [0, 0]]), \n",
    "    0.5*np.array([[1/3, np.sqrt(2)/3], \n",
    "             [np.sqrt(2)/3, 2/3]]), \n",
    "    0.5*np.array([[1/3, np.exp(-1j*2*np.pi/3)*np.sqrt(2)/3], \n",
    "             [np.exp(1j*2*np.pi/3)*np.sqrt(2)/3, 2/3]]),\n",
    "    0.5*np.array([[1/3, np.exp(-1j*4*np.pi/3)*np.sqrt(2)/3], \n",
    "             [np.exp(1j*4*np.pi/3)*np.sqrt(2)/3, 2/3]])\n",
    "]\n",
    "meas = Measurement(mset)\n",
    "# print measmurement distributions\n",
    "for s in sset:\n",
    "    print(meas.apply(s))\n",
    "with open(\"POVM.html\", 'w') as file:\n",
    "    file.write(meas.html(\"povm\"))"
   ]
  },
  {
   "cell_type": "markdown",
   "metadata": {},
   "source": [
    "### Pauli measurements on 1 qubit"
   ]
  },
  {
   "cell_type": "code",
   "execution_count": 6,
   "metadata": {},
   "outputs": [
    {
     "name": "stdout",
     "output_type": "stream",
     "text": [
      "X [0.5, 0.5]\n",
      "Y [(0.5+0j), (0.5+0j)]\n",
      "Z [0.5, 0.5] \n",
      "\n",
      "X [0.5, 0.5]\n",
      "Y [(0.5+0j), (0.5+0j)]\n",
      "Z [1.0, 0.0] \n",
      "\n",
      "X [0.5, 0.5]\n",
      "Y [(0.5+0j), (0.5+0j)]\n",
      "Z [0.0, 1.0] \n",
      "\n",
      "X [1.0, 0.0]\n",
      "Y [(0.5+0j), (0.5+0j)]\n",
      "Z [0.5, 0.5] \n",
      "\n",
      "X [0.0, 1.0]\n",
      "Y [(0.5+0j), (0.5+0j)]\n",
      "Z [0.5, 0.5] \n",
      "\n",
      "X [(0.5+0j), (0.5+0j)]\n",
      "Y [(1+0j), 0j]\n",
      "Z [(0.5+0j), (0.5+0j)] \n",
      "\n",
      "X [(0.5+0j), (0.5+0j)]\n",
      "Y [0j, (1+0j)]\n",
      "Z [(0.5+0j), (0.5+0j)] \n",
      "\n"
     ]
    }
   ],
   "source": [
    "xmeas = PauliMeasurement('X')\n",
    "ymeas = PauliMeasurement('Y')\n",
    "zmeas = PauliMeasurement('Z')\n",
    "for s in sset:\n",
    "    print('X', xmeas.apply(s))\n",
    "    print('Y', ymeas.apply(s))\n",
    "    print('Z', zmeas.apply(s), '\\n')\n",
    "fstr = ''\n",
    "fstr += xmeas.html('X-type')\n",
    "fstr += ymeas.html('Y-type')\n",
    "fstr += zmeas.html('Z-type')\n",
    "with open(\"Paulis.html\", 'w') as file:\n",
    "    file.write(fstr)"
   ]
  },
  {
   "cell_type": "code",
   "execution_count": null,
   "metadata": {},
   "outputs": [],
   "source": []
  }
 ],
 "metadata": {
  "kernelspec": {
   "display_name": "Python 3",
   "language": "python",
   "name": "python3"
  },
  "language_info": {
   "codemirror_mode": {
    "name": "ipython",
    "version": 3
   },
   "file_extension": ".py",
   "mimetype": "text/x-python",
   "name": "python",
   "nbconvert_exporter": "python",
   "pygments_lexer": "ipython3",
   "version": "3.8.8"
  }
 },
 "nbformat": 4,
 "nbformat_minor": 4
}
