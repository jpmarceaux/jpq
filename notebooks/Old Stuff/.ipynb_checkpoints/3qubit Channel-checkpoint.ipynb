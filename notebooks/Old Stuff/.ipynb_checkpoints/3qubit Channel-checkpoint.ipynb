{
 "cells": [
  {
   "cell_type": "code",
   "execution_count": 1,
   "metadata": {},
   "outputs": [],
   "source": [
    "import sys\n",
    "sys.path.insert(0, '/home/jpmarceaux')\n",
    "from jpq import *\n",
    "import numpy as np"
   ]
  },
  {
   "cell_type": "code",
   "execution_count": 2,
   "metadata": {},
   "outputs": [],
   "source": [
    "class Measurement:\n",
    "    \"\"\"\n",
    "    Type to represent a quantum measurement\n",
    "    \n",
    "    Contains: \n",
    "    self._mset <-- set of POVM\n",
    "    self._mtype <-- type of measurement\n",
    "    \"\"\"\n",
    "    def __init__(self, *args, **kwargs):\n",
    "        \"\"\"\n",
    "        dtype='mset' => mesurement set, \n",
    "            with args[0] the set of POVM\n",
    "        \n",
    "        dtype='stdbasis' => PVM in std basis, \n",
    "            with args[0] the dimensions of the hilbert space\n",
    "            \n",
    "        dtype='rank' => PVM with rank-d projectors, \n",
    "            with args[0] the rank\n",
    "            and args[1] the dimension of the hilbert space\n",
    "            \n",
    "        dtype='mub' => MUB POVM, \n",
    "            TODO\n",
    "        \"\"\"\n",
    "        self._mset = []\n",
    "        if kwargs.get(\"dtype\") == \"mset\":\n",
    "            # check mset a proper POVM; this does not check for positivity\n",
    "            self._mtype = \"mset\"\n",
    "            mset = args[0]\n",
    "            dims = mset[0].shape\n",
    "            assert dims[0] == dims[1], \"measurement set no of square operators\"\n",
    "            \n",
    "            # check that the measurement closes under identity\n",
    "            P = np.zeros(dims, dtype=complex)\n",
    "            for mu in mset:\n",
    "                P += mu\n",
    "            #xfor \n",
    "            # fix if not\n",
    "            if not np.all(np.isclose(P, np.eye(dims[0]))):\n",
    "                mset.inset(np.eye(dims[0]) - P, 0)\n",
    "            # create measurement set\n",
    "            for m in mset:\n",
    "                self._mset.append(m)\n",
    "        elif kwargs.get(\"dtype\") == \"stdbasis\":\n",
    "            self._mtype = \"stdbasis\"\n",
    "            dim = args[0]\n",
    "            for d in range(dim):\n",
    "                mu = np.zeros((dim, dim), dtype=complex)\n",
    "                mu[d,d] = 1\n",
    "                self._mset.append(mu)\n",
    "            #xfor \n",
    "    #!__init__\n",
    "    \n",
    "    def apply(self, rho):\n",
    "        \"\"\"apply measurement and output probability vector\"\"\"\n",
    "        if type(rho) is State:\n",
    "            dmat = rho.mat()\n",
    "        else:\n",
    "            dmat = rho\n",
    "            \n",
    "        pout = []\n",
    "        for mu in self._mset:\n",
    "            pout.append(np.trace(dmat@mu))\n",
    "        #xfor \n",
    "        return pout\n",
    "    #!apply\n",
    "    \n",
    "    def html_apply(self, rho):\n",
    "        pvec = self.apply(rho)\n",
    "        html = \"\"\n",
    "        file += f\"<h1> Measurement of type ({self._mtype})\"\n",
    "        \n",
    "        # print pvec\n",
    "        for p in pvec: \n",
    "            file += num2str(pvec) + \"</br>\"\n",
    "        file += mat2html(self._mat, prec)\n",
    "#@Measurement"
   ]
  },
  {
   "cell_type": "markdown",
   "metadata": {},
   "source": [
    "## Constructing a partial measurement\n",
    "\n",
    "The measure operators of a partial measurment are ordinary measurment operators on the measured subsystem tensored with identities on the larger system\n",
    "$$\n",
    "    \\mu_a = \\mathbb{1} \\otimes |a \\rangle \\langle a | \\otimes \\mathbb{1}\n",
    "$$"
   ]
  },
  {
   "cell_type": "code",
   "execution_count": 3,
   "metadata": {},
   "outputs": [],
   "source": [
    "import itertools\n",
    "\n",
    "class PMeasure(Measurement):\n",
    "    \"\"\"\n",
    "    _mset, \n",
    "    _dims, \n",
    "    _sys, \n",
    "    _mtype\n",
    "    \"\"\"\n",
    "    def __init__(self, *args, **kwargs):\n",
    "        \"\"\"       \n",
    "        dtype='stdbasis' => partial PVM in std basis, \n",
    "            with args[0] a list of subspace dimensions\n",
    "            and args[1] a list of subspaces to measure over\n",
    "        \"\"\"\n",
    "        self._mset = []\n",
    "        if kwargs.get(\"mtype\") == \"stdbasis\":\n",
    "            # check mset a proper POVM; this does not check for positivity\n",
    "            self._mtype = \"stdbasis\"\n",
    "            dims = args[0]\n",
    "            sys = args[1]\n",
    "            self._dims = dims\n",
    "            self._sys = sys\n",
    "            assert max(sys) < len(dims), \"system-dimension mismatch\"\n",
    "            Nss = np.prod(sys) # number of subsystem projections\n",
    "            Nd = len(dims)     # total number of systems\n",
    "            \n",
    "            Sset = []\n",
    "            for S in sys:\n",
    "                Sset.append([si for si in range(dims[S])])\n",
    "            #xfor \n",
    "            \n",
    "            # make list of tuples of combinations\n",
    "            pset = itertools.product(*Sset) \n",
    "            # turn each combination into a projective measurement operator\n",
    "            for p in pset:\n",
    "                mu = 1\n",
    "                itr = 0 # flag iterator\n",
    "                for i, di in enumerate(dims):\n",
    "                    if i in sys:\n",
    "                        proj = np.zeros((di,di), dtype=complex)\n",
    "                        proj[p[itr], p[itr]] = 1\n",
    "                        mu = np.kron(mu, proj)\n",
    "                        itr += 1\n",
    "                    else:\n",
    "                        mu = np.kron(mu, np.eye(di, dtype=complex))\n",
    "                #xfor\n",
    "                self._mset.append(mu)\n",
    "            #xfor\n",
    "    #!__init__\n",
    "    \n",
    "    def apply(self, rho):\n",
    "        \"\"\"apply measurement and output list of tuples of output states with associated probabilites\"\"\"\n",
    "        if type(rho) is State:\n",
    "            dmat = rho.mat()\n",
    "        else:\n",
    "            dmat = rho\n",
    "            \n",
    "        rhovout = []\n",
    "        for mu in self._mset:\n",
    "            tup = (\n",
    "                np.trace(dmat@mu), \n",
    "                TrX(dmat@mu, self._sys, self._dims)\n",
    "            )\n",
    "            rhovout.append(tup)\n",
    "        #xfor \n",
    "        return rhovout\n",
    "    #!apply"
   ]
  },
  {
   "cell_type": "code",
   "execution_count": 4,
   "metadata": {},
   "outputs": [
    {
     "name": "stdout",
     "output_type": "stream",
     "text": [
      "[((0.5+0j), array([[0.5+0.j, 0. +0.j],\n",
      "       [0. +0.j, 0. +0.j]])), ((0.5+0j), array([[0. +0.j, 0. +0.j],\n",
      "       [0. +0.j, 0.5+0.j]]))]\n"
     ]
    }
   ],
   "source": [
    "Mu = PMeasure([2,2], [1], mtype='stdbasis')\n",
    "rho = State(UMEmat(2))\n",
    "rho.normalize()\n",
    "print(Mu.apply(rho))"
   ]
  },
  {
   "cell_type": "code",
   "execution_count": 22,
   "metadata": {},
   "outputs": [],
   "source": [
    "class Encoder(Channel):\n",
    "    def __init__(self, code):\n",
    "        if code == \"3bit\":\n",
    "            ket000 = np.zeros(8, dtype=complex)\n",
    "            ket111 = np.zeros(8, dtype=complex)\n",
    "            ket000[0] = 1\n",
    "            ket111[7] = 1\n",
    "            ket0 = np.zeros(2, dtype=complex)\n",
    "            ket1 = np.zeros(2, dtype=complex)\n",
    "            ket0[0] = 1\n",
    "            ket1[1] = 1\n",
    "            K = np.outer(ket000, ket0) + np.outer(ket111, ket1)\n",
    "            self._cten = kraus2cten([K])\n",
    "    #!__init__\n",
    "#@encoder\n",
    "\n",
    "class Noise(Channel):\n",
    "    \"\"\"\n",
    "    Quantum Noise Channel Dictionary Type\n",
    "    \n",
    "    if ntype is depolarizing:\n",
    "        make depolarizing channel with params:\n",
    "        - nqubits = argv[1]\n",
    "        - lambda = argv[2]\n",
    "    \"\"\"\n",
    "    def __init__(self, *argv, **kwargs):\n",
    "        if kwargs.get('ntype') == 'depolarizing':\n",
    "            nqb = argv[0]  # number of qubits\n",
    "            lam = argv[1]  # dephasing param\n",
    "            # construct normalized n-bit uniform X,Y,Z ops\n",
    "            K = gpauli(nqb)[1::]\n",
    "            for a, _ in enumerate(K):\n",
    "                K[a] = np.sqrt(lam/(4**nqb-1))*K[a]\n",
    "            #xfor\n",
    "            KI = np.sqrt(1 - lam)*np.eye(2**nqb, dtype=complex)\n",
    "            K.insert(0, KI)\n",
    "            self._cten = kraus2cten(K)\n",
    "    #!__init__\n",
    "#@Noise\n",
    "\n",
    "\n",
    "def chan_append(chan, abits):\n",
    "    \"\"\"append a number abits ancilla to a channel\"\"\"\n",
    "    dimin = chan.shape()[2]\n",
    "    assert dimin == chan.shape()[3], \"imput channel ill-formed\"\n",
    "    rbits = np.log2(dimin)\n",
    "    assert abs(rbits - int(rbits)) < 1e-9, \"input not of qubit dims\"\n",
    "    ket0 = np.zeros(2**abits, dtype=complex)\n",
    "    ket0[0] = 1\n",
    "    Kraus = np.kron(np.eye(rbits, dtype=complex), ket0)\n",
    "    chan2 = Channel(Kraus, crep='kraus')\n",
    "    return compose(chan, chan2)\n",
    "\n",
    "class Appender(Channel):\n",
    "    \"\"\"\n",
    "    Channel that appends ancilla qubits to a register\n",
    "    \n",
    "    accomplish wit\n",
    "    \"\"\"\n",
    "    def __init__(self, rbits, abits, ):\n",
    "        '''append abits to register of rbits'''\n",
    "        \n",
    "        "
   ]
  },
  {
   "cell_type": "markdown",
   "metadata": {},
   "source": [
    "# noiseless encoding\n",
    "\n",
    "1) create state\n",
    "\n",
    "2) create encoding channel\n",
    "\n",
    "3) apply channel\n",
    "\n",
    "4) measure input and output in std basis"
   ]
  },
  {
   "cell_type": "code",
   "execution_count": 23,
   "metadata": {},
   "outputs": [],
   "source": [
    "rho = State(np.eye(2)+0.3*SigmaZ)\n",
    "rho.normalize()"
   ]
  },
  {
   "cell_type": "code",
   "execution_count": 24,
   "metadata": {},
   "outputs": [],
   "source": [
    "E = Encoder(\"3bit\")"
   ]
  },
  {
   "cell_type": "code",
   "execution_count": 25,
   "metadata": {},
   "outputs": [],
   "source": [
    "rho_out = E.apply(rho)"
   ]
  },
  {
   "cell_type": "code",
   "execution_count": 26,
   "metadata": {},
   "outputs": [
    {
     "name": "stdout",
     "output_type": "stream",
     "text": [
      "[(0.65+0j), (0.35+0j)]\n",
      "[(0.6499999999999994+0j), 0j, 0j, 0j, 0j, 0j, 0j, (0.34999999999999987+0j)]\n"
     ]
    }
   ],
   "source": [
    "Mu1 = Measurement(2, dtype='stdbasis')\n",
    "Mu3 = Measurement(8, dtype='stdbasis')\n",
    "pvec1 = Mu1.apply(rho)\n",
    "pvec3 = Mu3.apply(rho_out)\n",
    "print(pvec1)\n",
    "print(pvec3)"
   ]
  },
  {
   "cell_type": "code",
   "execution_count": 27,
   "metadata": {},
   "outputs": [],
   "source": [
    "html = rho.html()\n",
    "html += E.html()\n",
    "html += rho_out.html()\n",
    "with open(\"noisless_encoding.html\", 'w') as file:\n",
    "    file.write(html)"
   ]
  },
  {
   "cell_type": "markdown",
   "metadata": {},
   "source": [
    "# noisy encoding\n",
    "\n",
    "1) create state\n",
    "\n",
    "2) apply pre-encoding noise channel \n",
    "\n",
    "3) create encoder and apply\n",
    "\n",
    "4) apply post-encoding noise channel\n",
    "\n",
    "5) measure noisy prob output\n",
    "\n",
    "6) measure syndromes (TODO)\n",
    "\n",
    "7) correct syndromes (TODO) \n",
    "\n",
    "8) get new probability vector (TODO)"
   ]
  },
  {
   "cell_type": "code",
   "execution_count": 28,
   "metadata": {},
   "outputs": [],
   "source": [
    "rho = State(np.array([[1,0],[0,0]]))\n",
    "rho.normalize()"
   ]
  },
  {
   "cell_type": "code",
   "execution_count": 32,
   "metadata": {},
   "outputs": [
    {
     "name": "stdout",
     "output_type": "stream",
     "text": [
      "Channel with choi dimensions (2, 2, 8, 8)\n"
     ]
    },
    {
     "ename": "TypeError",
     "evalue": "'numpy.float64' object cannot be interpreted as an integer",
     "output_type": "error",
     "traceback": [
      "\u001b[0;31m---------------------------------------------------------------------------\u001b[0m",
      "\u001b[0;31mTypeError\u001b[0m                                 Traceback (most recent call last)",
      "\u001b[0;32m<ipython-input-32-f42fe2524244>\u001b[0m in \u001b[0;36m<module>\u001b[0;34m\u001b[0m\n\u001b[1;32m      3\u001b[0m \u001b[0mE\u001b[0m \u001b[0;34m=\u001b[0m \u001b[0mEncoder\u001b[0m\u001b[0;34m(\u001b[0m\u001b[0;34m\"3bit\"\u001b[0m\u001b[0;34m)\u001b[0m\u001b[0;34m\u001b[0m\u001b[0;34m\u001b[0m\u001b[0m\n\u001b[1;32m      4\u001b[0m \u001b[0mprint\u001b[0m\u001b[0;34m(\u001b[0m\u001b[0mE\u001b[0m\u001b[0;34m)\u001b[0m\u001b[0;34m\u001b[0m\u001b[0;34m\u001b[0m\u001b[0m\n\u001b[0;32m----> 5\u001b[0;31m \u001b[0mprint\u001b[0m\u001b[0;34m(\u001b[0m\u001b[0mAppend\u001b[0m\u001b[0;34m(\u001b[0m\u001b[0mE\u001b[0m\u001b[0;34m,\u001b[0m \u001b[0;36m2\u001b[0m\u001b[0;34m)\u001b[0m\u001b[0;34m)\u001b[0m\u001b[0;34m\u001b[0m\u001b[0;34m\u001b[0m\u001b[0m\n\u001b[0m",
      "\u001b[0;32m<ipython-input-22-2820637c3c9f>\u001b[0m in \u001b[0;36mAppend\u001b[0;34m(chan, abits)\u001b[0m\n\u001b[1;32m     48\u001b[0m     \u001b[0mket0\u001b[0m \u001b[0;34m=\u001b[0m \u001b[0mnp\u001b[0m\u001b[0;34m.\u001b[0m\u001b[0mzeros\u001b[0m\u001b[0;34m(\u001b[0m\u001b[0;36m2\u001b[0m\u001b[0;34m**\u001b[0m\u001b[0mabits\u001b[0m\u001b[0;34m,\u001b[0m \u001b[0mdtype\u001b[0m\u001b[0;34m=\u001b[0m\u001b[0mcomplex\u001b[0m\u001b[0;34m)\u001b[0m\u001b[0;34m\u001b[0m\u001b[0;34m\u001b[0m\u001b[0m\n\u001b[1;32m     49\u001b[0m     \u001b[0mket0\u001b[0m\u001b[0;34m[\u001b[0m\u001b[0;36m0\u001b[0m\u001b[0;34m]\u001b[0m \u001b[0;34m=\u001b[0m \u001b[0;36m1\u001b[0m\u001b[0;34m\u001b[0m\u001b[0;34m\u001b[0m\u001b[0m\n\u001b[0;32m---> 50\u001b[0;31m     \u001b[0mKraus\u001b[0m \u001b[0;34m=\u001b[0m \u001b[0mnp\u001b[0m\u001b[0;34m.\u001b[0m\u001b[0mkron\u001b[0m\u001b[0;34m(\u001b[0m\u001b[0mnp\u001b[0m\u001b[0;34m.\u001b[0m\u001b[0meye\u001b[0m\u001b[0;34m(\u001b[0m\u001b[0mrbits\u001b[0m\u001b[0;34m,\u001b[0m \u001b[0mdtype\u001b[0m\u001b[0;34m=\u001b[0m\u001b[0mcomplex\u001b[0m\u001b[0;34m)\u001b[0m\u001b[0;34m,\u001b[0m \u001b[0mket0\u001b[0m\u001b[0;34m)\u001b[0m\u001b[0;34m\u001b[0m\u001b[0;34m\u001b[0m\u001b[0m\n\u001b[0m\u001b[1;32m     51\u001b[0m     \u001b[0mchan2\u001b[0m \u001b[0;34m=\u001b[0m \u001b[0mChannel\u001b[0m\u001b[0;34m(\u001b[0m\u001b[0mKraus\u001b[0m\u001b[0;34m,\u001b[0m \u001b[0mcrep\u001b[0m\u001b[0;34m=\u001b[0m\u001b[0;34m'kraus'\u001b[0m\u001b[0;34m)\u001b[0m\u001b[0;34m\u001b[0m\u001b[0;34m\u001b[0m\u001b[0m\n\u001b[1;32m     52\u001b[0m     \u001b[0;32mreturn\u001b[0m \u001b[0mcompose\u001b[0m\u001b[0;34m(\u001b[0m\u001b[0mchan\u001b[0m\u001b[0;34m,\u001b[0m \u001b[0mchan2\u001b[0m\u001b[0;34m)\u001b[0m\u001b[0;34m\u001b[0m\u001b[0;34m\u001b[0m\u001b[0m\n",
      "\u001b[0;32m~/.local/lib/python3.8/site-packages/numpy/lib/twodim_base.py\u001b[0m in \u001b[0;36meye\u001b[0;34m(N, M, k, dtype, order)\u001b[0m\n\u001b[1;32m    197\u001b[0m     \u001b[0;32mif\u001b[0m \u001b[0mM\u001b[0m \u001b[0;32mis\u001b[0m \u001b[0;32mNone\u001b[0m\u001b[0;34m:\u001b[0m\u001b[0;34m\u001b[0m\u001b[0;34m\u001b[0m\u001b[0m\n\u001b[1;32m    198\u001b[0m         \u001b[0mM\u001b[0m \u001b[0;34m=\u001b[0m \u001b[0mN\u001b[0m\u001b[0;34m\u001b[0m\u001b[0;34m\u001b[0m\u001b[0m\n\u001b[0;32m--> 199\u001b[0;31m     \u001b[0mm\u001b[0m \u001b[0;34m=\u001b[0m \u001b[0mzeros\u001b[0m\u001b[0;34m(\u001b[0m\u001b[0;34m(\u001b[0m\u001b[0mN\u001b[0m\u001b[0;34m,\u001b[0m \u001b[0mM\u001b[0m\u001b[0;34m)\u001b[0m\u001b[0;34m,\u001b[0m \u001b[0mdtype\u001b[0m\u001b[0;34m=\u001b[0m\u001b[0mdtype\u001b[0m\u001b[0;34m,\u001b[0m \u001b[0morder\u001b[0m\u001b[0;34m=\u001b[0m\u001b[0morder\u001b[0m\u001b[0;34m)\u001b[0m\u001b[0;34m\u001b[0m\u001b[0;34m\u001b[0m\u001b[0m\n\u001b[0m\u001b[1;32m    200\u001b[0m     \u001b[0;32mif\u001b[0m \u001b[0mk\u001b[0m \u001b[0;34m>=\u001b[0m \u001b[0mM\u001b[0m\u001b[0;34m:\u001b[0m\u001b[0;34m\u001b[0m\u001b[0;34m\u001b[0m\u001b[0m\n\u001b[1;32m    201\u001b[0m         \u001b[0;32mreturn\u001b[0m \u001b[0mm\u001b[0m\u001b[0;34m\u001b[0m\u001b[0;34m\u001b[0m\u001b[0m\n",
      "\u001b[0;31mTypeError\u001b[0m: 'numpy.float64' object cannot be interpreted as an integer"
     ]
    }
   ],
   "source": [
    "nchn1 = Noise(1, 0.2, ntype='depolarizing')\n",
    "nchn3 = Noise(3, 0.1, ntype='depolarizing')\n",
    "E = Encoder(\"3bit\")\n",
    "print(E)\n",
    "print(Append(E, 2))"
   ]
  },
  {
   "cell_type": "code",
   "execution_count": 13,
   "metadata": {},
   "outputs": [],
   "source": [
    "html = nchn1.html()\n",
    "html = nchn3.html()\n",
    "html += E.html()"
   ]
  },
  {
   "cell_type": "code",
   "execution_count": 14,
   "metadata": {},
   "outputs": [],
   "source": [
    "rho = State(np.eye(2)+0.3*SigmaZ)\n",
    "rho.normalize()\n",
    "prenoise_rho = nchn1.apply(rho)\n",
    "encoded_prenoise_rho = E.apply(prenoise_rho)\n",
    "noisy_encoded_rho = nchn3.apply(encoded_prenoise_rho)"
   ]
  },
  {
   "cell_type": "code",
   "execution_count": 15,
   "metadata": {},
   "outputs": [],
   "source": [
    "html = rho.html()\n",
    "html = prenoise_rho.html()\n",
    "html = encoded_prenoise_rho.html()\n",
    "html = noisy_encoded_rho.html()"
   ]
  },
  {
   "cell_type": "code",
   "execution_count": 16,
   "metadata": {},
   "outputs": [
    {
     "name": "stdout",
     "output_type": "stream",
     "text": [
      "[(0.65+0j), (0.35+0j)]\n",
      "[(0.6099999999999995+0j), (0.39000000000000007+0j)]\n",
      "[(0.6099999999999991+0j), 0j, 0j, 0j, 0j, 0j, 0j, (0.38999999999999985+0j)]\n",
      "[(0.6372847484381429+0j), (0.0081317781460191+0j), (0.008553875003723453+0j), (0.009304302814906601+0j), (0.009396753184732484+0j), (0.011735002164175772+0j), (0.007246455035792279+0j), (0.3635536980424852+0j)]\n"
     ]
    }
   ],
   "source": [
    "pvec1 = Mu1.apply(rho)\n",
    "pvec2 = Mu1.apply(prenoise_rho)\n",
    "pvec3 = Mu3.apply(encoded_prenoise_rho)\n",
    "pvec4 = Mu3.apply(noisy_encoded_rho)\n",
    "print(pvec1)\n",
    "print(pvec2)\n",
    "print(pvec3)\n",
    "print(pvec4)"
   ]
  },
  {
   "cell_type": "markdown",
   "metadata": {},
   "source": [
    "# Syndrome measurement with projectors\n",
    "\n",
    "Three stablilizers of the 3-bit flip code are\n",
    "$$Z_a \\otimes Z_b$$ \n",
    "for $\\{(a,b): a \\neq b \\enspace \\& \\enspace a,b \\in [1,3] \\}$. \n",
    "\n",
    "Can be measured with the projectors \n",
    "$$\n",
    "    P_0 = |000 \\rangle \\langle 000 | + |111\\rangle\\langle 111|\n",
    "$$\n",
    "$$\n",
    "    P_1 = |001 \\rangle \\langle 001 | + |110\\rangle\\langle 110|\n",
    "$$\n",
    "$$\n",
    "    P_2 = |010 \\rangle \\langle 010 | + |101\\rangle\\langle 101|\n",
    "$$\n",
    "$$\n",
    "    P_3 = |100 \\rangle \\langle 100 | + |011\\rangle\\langle 011|\n",
    "$$"
   ]
  },
  {
   "cell_type": "code",
   "execution_count": 17,
   "metadata": {},
   "outputs": [],
   "source": [
    "mus = [np.zeros((8,8), dtype=complex) for _ in range(4)]\n",
    "mus[0][0,0] = 1\n",
    "mus[0][7,7] = 1\n",
    "mus[1][1,1] = 1\n",
    "mus[1][6,6] = 1\n",
    "mus[2][2,2] = 1\n",
    "mus[2][5,5] = 1\n",
    "mus[3][3,3] = 1\n",
    "mus[3][4,4] = 1"
   ]
  },
  {
   "cell_type": "code",
   "execution_count": 18,
   "metadata": {},
   "outputs": [
    {
     "name": "stdout",
     "output_type": "stream",
     "text": [
      "[(0.9999999999999992+0j), 0j, 0j, 0j]\n",
      "[(0.9999999999999989+0j), 0j, 0j, 0j]\n",
      "[(1.0008384464806281+0j), (0.01537823318181138+0j), (0.020288877167899226+0j), (0.018701055999639084+0j)]\n"
     ]
    }
   ],
   "source": [
    "meas = Measurement(mus, dtype='mset')\n",
    "p1 = meas.apply(rho_out)\n",
    "p2 = meas.apply(encoded_prenoise_rho)\n",
    "p3 = meas.apply(noisy_encoded_rho)\n",
    "print(p1)\n",
    "print(p2)\n",
    "print(p3)"
   ]
  },
  {
   "cell_type": "markdown",
   "metadata": {},
   "source": [
    "Observe that we can't actually detect phase errors\n",
    "\n",
    "Interpretation? Is the register really in one of those states. If it is, then that's how we can correct continuous errors with discrete error-correction"
   ]
  },
  {
   "cell_type": "markdown",
   "metadata": {},
   "source": [
    "# Syndrome measurement with ancilla\n",
    "\n",
    "We can append ancillary qubits to a register and measure the states of the ancilla qubits after a CNOT operation. We accomplish the CNOT operation here as a Controlled-Z operation conjugated with two Hadamard gates. \n",
    "\n",
    "Let the encoded bits be labelled 1,2,3 exisitng in Hilbert space $H_1$ and let the ancillary bits be labelled 4 and 5 existing in Hilbert space $H_2$ and $H_3$, resp., then a stabilizer measurement may be described by two separate measurements defined by operators $\\{\\mu_h(a)\\}$, where $h$ labelles the Hilbert space and $a$ labelles the symbol being measured. The associated measurement is described by \n",
    "$$\n",
    "    \\text{Tr}_{H_h}( \\rho \\mu_h(a))\n",
    "$$\n",
    "we have \n",
    "$$\n",
    "    \\mu_h(0) + \\mu_h(1) = \\mathbb{1}_{H_h}\n",
    "$$\n",
    "\n",
    "\n",
    "todo: \n",
    "\n",
    "create ancila appender channel\n",
    "\n",
    "define unitary opeartor for the syndrome measurements from QisKit\n",
    "\n",
    "apply partial measurement to measure syndromes"
   ]
  },
  {
   "cell_type": "code",
   "execution_count": null,
   "metadata": {},
   "outputs": [],
   "source": []
  }
 ],
 "metadata": {
  "kernelspec": {
   "display_name": "Python 3",
   "language": "python",
   "name": "python3"
  },
  "language_info": {
   "codemirror_mode": {
    "name": "ipython",
    "version": 3
   },
   "file_extension": ".py",
   "mimetype": "text/x-python",
   "name": "python",
   "nbconvert_exporter": "python",
   "pygments_lexer": "ipython3",
   "version": "3.8.6"
  }
 },
 "nbformat": 4,
 "nbformat_minor": 4
}
