{
 "cells": [
  {
   "cell_type": "code",
   "execution_count": 1,
   "metadata": {},
   "outputs": [
    {
     "name": "stdout",
     "output_type": "stream",
     "text": [
      "Using matplotlib backend: Qt5Agg\n"
     ]
    }
   ],
   "source": [
    "import numpy as np\n",
    "import matplotlib.pyplot as plt\n",
    "from mpl_toolkits.mplot3d import axes3d\n",
    "from colormath.color_objects import sRGBColor, XYZColor\n",
    "from colormath.color_conversions import convert_color\n",
    "from scipy.optimize import minimize\n",
    "import scipy.interpolate as intp\n",
    "%matplotlib"
   ]
  },
  {
   "cell_type": "code",
   "execution_count": 2,
   "metadata": {},
   "outputs": [
    {
     "name": "stdout",
     "output_type": "stream",
     "text": [
      "(89, 4)\n"
     ]
    }
   ],
   "source": [
    "MF = np.genfromtxt(\"CMF_5nm.csv\", delimiter=',') \n",
    "print(MF.shape)\n",
    "CMF = MF[:, 1:4]"
   ]
  },
  {
   "cell_type": "code",
   "execution_count": 3,
   "metadata": {},
   "outputs": [],
   "source": [
    "# make unit vector array\n",
    "coeffs = np.linspace(0, 1, 30)\n",
    "ucmf = [c/np.linalg.norm(c) for c in CMF]\n",
    "c1 = CMF[-1]/np.linalg.norm(CMF[-1])\n",
    "c0 = CMF[0]/np.linalg.norm(CMF[0])\n",
    "mixture = np.array([c*c1 +(1-c)*c0 for c in coeffs])\n",
    "CMFA = np.concatenate((ucmf, mixture))"
   ]
  },
  {
   "cell_type": "code",
   "execution_count": 4,
   "metadata": {},
   "outputs": [],
   "source": [
    "def clip2rgb(xyz):\n",
    "    if type(xyz) is not XYZColor:\n",
    "        xyz = XYZColor(xyz[0], xyz[1], xyz[2])\n",
    "    crgb = convert_color(xyz, sRGBColor)\n",
    "    r = crgb.rgb_r\n",
    "    g = crgb.rgb_g\n",
    "    b = crgb.rgb_b\n",
    "    r = r if r > 0 else 0\n",
    "    g = g if g > 0 else 0\n",
    "    b = b if b > 0 else 0\n",
    "    r = r if r < 1 else 1\n",
    "    g = g if g < 1 else 1\n",
    "    b = b if b < 1 else 1\n",
    "    return [r, g, b]"
   ]
  },
  {
   "cell_type": "code",
   "execution_count": 5,
   "metadata": {},
   "outputs": [],
   "source": [
    "def g_euc(r1, r2):\n",
    "    return np.sqrt((r1[0]-r2[0])**2 + (r1[1]-r2[1])**2 + (r1[2]-r2[2])**2)"
   ]
  },
  {
   "cell_type": "code",
   "execution_count": 6,
   "metadata": {},
   "outputs": [],
   "source": [
    "# plot delta colors and lines\n",
    "fig = plt.figure()\n",
    "ax = fig.gca(projection='3d')\n",
    "ax.set_xlim(sum(CMFA[:,0]))\n",
    "ax.set_ylim(sum(CMFA[:,1]))\n",
    "ax.set_zlim(sum(CMFA[:,2]))\n",
    "# line info\n",
    "xvec = np.linspace(0, sum(CMFA[:,0]), 100)\n",
    "\n",
    "L = CMFA.shape[0]\n",
    "C0 = []\n",
    "C1 = []\n",
    "C2 = []\n",
    "RGB = []\n",
    "for O in CMFA:\n",
    "    C = XYZColor(O[0], O[1], O[2])\n",
    "    rgb = clip2rgb(C)\n",
    "    RGB.append(rgb)\n",
    "    yvec = (O[1]/O[0])*(xvec-O[0]) + O[1]\n",
    "    zvec = (O[2]/O[0])*(xvec-O[0]) + O[2]\n",
    "    ax.plot(xvec, yvec, zvec, color=rgb)"
   ]
  },
  {
   "cell_type": "code",
   "execution_count": 7,
   "metadata": {},
   "outputs": [],
   "source": [
    "# plot gap colors and lines\n",
    "C0 = []\n",
    "C1 = []\n",
    "C2 = []\n",
    "RGB = []\n",
    "for O in CMFA:\n",
    "    [w1, w2, w3] = sum(CMFA)\n",
    "    C = XYZColor(1-O[0], 1-O[1], 1-O[2])\n",
    "    rgb = clip2rgb(C)\n",
    "    RGB.append(rgb)\n",
    "    yvec = (O[1]/O[0])*(xvec-w1) + w2\n",
    "    zvec = (O[2]/O[0])*(xvec-w1) + w3\n",
    "    ax.plot(xvec, yvec, zvec, color=rgb)"
   ]
  },
  {
   "cell_type": "code",
   "execution_count": 8,
   "metadata": {},
   "outputs": [],
   "source": [
    "def XYZ2xyY(xyz):\n",
    "    if type(xyz) is XYZColor:\n",
    "        xyz = [xyz.xyz_x, xyz.xyz_y, xyz.xyz_z]\n",
    "    r = sum(xyz)\n",
    "    x = xyz[0]/r\n",
    "    y = xyz[1]/r\n",
    "    return (x, y, xyz[1])"
   ]
  },
  {
   "cell_type": "code",
   "execution_count": 9,
   "metadata": {},
   "outputs": [
    {
     "name": "stdout",
     "output_type": "stream",
     "text": [
      "119\n"
     ]
    }
   ],
   "source": [
    "# plot chromaticity diagram in xyY and lines with white point\n",
    "L = CMFA.shape[0]\n",
    "abeam = np.ones(L)\n",
    "fig = plt.figure()\n",
    "plt.ylim(0,1)\n",
    "white = np.dot(abeam, CMFA)\n",
    "wtpoint = white/np.linalg.norm(white)\n",
    "(wx, wy, _) = XYZ2xyY(wtpoint)\n",
    "plt.scatter(wx, wy, color=(0.9, 0.9, 0.9))\n",
    "xvec = np.linspace(0, 1, 10)\n",
    "for i, c in enumerate(CMFA):\n",
    "    rgb = clip2rgb(c)\n",
    "    xyY = XYZ2xyY(c)\n",
    "    m = (wy - xyY[1])/(wx - xyY[0])\n",
    "    yvec = m*xvec + xyY[1] - m*xyY[0]\n",
    "    plt.plot(xvec, yvec, color=rgb)\n",
    "    plt.scatter(xyY[0], xyY[1], color=rgb)\n",
    "    plt.text(xyY[0], xyY[1], i)\n",
    "print(len(CMFA))"
   ]
  },
  {
   "cell_type": "code",
   "execution_count": 10,
   "metadata": {},
   "outputs": [],
   "source": [
    "def g_line2point(ln, pt):\n",
    "    # distance between point and line\n",
    "    # line ~ (a,b,c) coefficients of ax + by + c = 0\n",
    "    # point ~ (x0, y0)\n",
    "    return abs(ln[0]*pt[0] + ln[1]*pt[1] + ln[2])/np.sqrt(ln[0]**2 + ln[1]**2)\n",
    "\n",
    "def comp(i, CMF, wtpt):\n",
    "    \"\"\"Return complementary wavelength-index of wl-index i\n",
    "    assuming 5-nm CMF, returns -1 if i has no complementary\"\"\"\n",
    "    [wx, wy, _] = XYZ2xyY(wtpt)\n",
    "    # [0] find comp0 and comp1 for given white point\n",
    "    [x0, y0, _] = XYZ2xyY(CMF[0])\n",
    "    slope = (wy - y0)/(wx - x0)\n",
    "    a = -slope\n",
    "    b = 1\n",
    "    c = slope*x0-y0\n",
    "    line = (a, b, c)\n",
    "    dvec = []\n",
    "    for c in CMF[int(len(CMF)/4):]:\n",
    "        xyY = XYZ2xyY(c)\n",
    "        dvec.append(g_line2point(line, xyY[0:2]))\n",
    "    comp0 = np.argmin(np.array(dvec)) + int(len(CMF)/4)\n",
    "    print(\"comp0 \", comp0)\n",
    "    \n",
    "    [xf, yf, _] = XYZ2xyY(CMF[len(CMF)-1])\n",
    "    slope = (wy - yf)/(wx - xf)\n",
    "    a = -slope\n",
    "    b = 1\n",
    "    c = slope*xf-yf\n",
    "    line = (a, b, c)\n",
    "    dvec = []\n",
    "    for c in CMF[0:int(0.5*len(CMF))]:\n",
    "        xyY = XYZ2xyY(c)\n",
    "        dvec.append(g_line2point(line, xyY[0:2]))\n",
    "    compf = np.argmin(np.array(dvec))\n",
    "    print(\"compf \", compf)\n",
    "    \n",
    "    # [1] find xy coords of CMF[i] and wtpt\n",
    "    [xi, yi, _] = XYZ2xyY(CMF[i])\n",
    "    [wx, wy, _] = XYZ2xyY(wtpt)\n",
    "    slope = (wy - yi)/(wx - xi)\n",
    "    a = -slope\n",
    "    b = 1\n",
    "    c = slope*xi-yi\n",
    "    line = (a, b, c)\n",
    "    if (i > comp0) and (i < compf):\n",
    "        return -1\n",
    "    elif (i <= comp0):\n",
    "        dvec = []\n",
    "        for j in range(compf, len(CMF)):\n",
    "            xyY = XYZ2xyY(CMF[j])\n",
    "            dvec.append(g_line2point(line, xyY[0:2]))\n",
    "        return np.argmin(np.array(dvec)) + compf\n",
    "    elif (i >= compf):\n",
    "        dvec = []\n",
    "        for j in range(0, comp0+1):\n",
    "            xyY = XYZ2xyY(CMF[j])\n",
    "            dvec.append(g_line2point(line, xyY[0:2]))\n",
    "        return np.argmin(np.array(dvec))"
   ]
  },
  {
   "cell_type": "code",
   "execution_count": 11,
   "metadata": {},
   "outputs": [
    {
     "name": "stdout",
     "output_type": "stream",
     "text": [
      "comp0  36\n",
      "compf  20\n"
     ]
    },
    {
     "data": {
      "text/plain": [
       "37"
      ]
     },
     "execution_count": 11,
     "metadata": {},
     "output_type": "execute_result"
    }
   ],
   "source": [
    "comp(16, CMF, sum(CMF))"
   ]
  },
  {
   "cell_type": "code",
   "execution_count": 12,
   "metadata": {},
   "outputs": [
    {
     "name": "stdout",
     "output_type": "stream",
     "text": [
      "      fun: 28.20394832470821\n",
      " hess_inv: array([[9.45738660e+03, 3.78934847e+03, 0.00000000e+00],\n",
      "       [3.78934847e+03, 1.51946180e+03, 0.00000000e+00],\n",
      "       [0.00000000e+00, 0.00000000e+00, 1.00000000e+00]])\n",
      "      jac: array([-7.15255737e-07,  1.66893005e-06,  0.00000000e+00])\n",
      "  message: 'Optimization terminated successfully.'\n",
      "     nfev: 48\n",
      "      nit: 5\n",
      "     njev: 12\n",
      "   status: 0\n",
      "  success: True\n",
      "        x: array([497.54674404, 199.3762247 ,   0.        ])\n",
      "[ 4.6633346   0.52664406 22.91062648]\n",
      "[20.74252319 22.39774282 13.4411904 ]\n"
     ]
    }
   ],
   "source": [
    "def dist(tvec, i, cmf):\n",
    "    wtpt = sum(cmf)\n",
    "    return g_euc(cmf[i]*tvec[0], -cmf[int(tvec[2])]*tvec[1]+wtpt)\n",
    "result = minimize(fun=dist, x0=(0, 0, 0), args=(1, CMF))\n",
    "print(result)\n",
    "print(CMF[1]*497)\n",
    "print(-CMF[1]*199+sum(CMF))"
   ]
  },
  {
   "cell_type": "code",
   "execution_count": 5,
   "metadata": {},
   "outputs": [],
   "source": [
    "def character(i, wtpt, cmfa):\n",
    "    \"\"\"Characteristic Color of pseudo-wavelength-index i\n",
    "        observe that the characteristic color is the closest point to the white point\n",
    "    \"\"\"\n",
    "    O = cmfa[i]\n",
    "    # define line in 3d space with xvec, yvec, zvec\n",
    "    xvec = np.linspace(0, 60, 500)\n",
    "    yvec = (O[1]/O[0])*(xvec-O[0]) + O[1]\n",
    "    zvec = (O[2]/O[0])*(xvec-O[0]) + O[2]\n",
    "    rvec = [np.array([xvec[i], yvec[i], zvec[i]]) for i, _ in enumerate(xvec)]\n",
    "    distset = [g_euc(r, wtpt) for r in rvec]\n",
    "    idx = np.argmin(distset)\n",
    "    return rvec[idx]"
   ]
  },
  {
   "cell_type": "code",
   "execution_count": 6,
   "metadata": {},
   "outputs": [
    {
     "ename": "NameError",
     "evalue": "name 'CMFA' is not defined",
     "output_type": "error",
     "traceback": [
      "\u001b[0;31m---------------------------------------------------------------------------\u001b[0m",
      "\u001b[0;31mNameError\u001b[0m                                 Traceback (most recent call last)",
      "\u001b[0;32m<ipython-input-6-bcc4b3ef31dc>\u001b[0m in \u001b[0;36m<module>\u001b[0;34m\u001b[0m\n\u001b[0;32m----> 1\u001b[0;31m \u001b[0mL\u001b[0m \u001b[0;34m=\u001b[0m \u001b[0mCMFA\u001b[0m\u001b[0;34m.\u001b[0m\u001b[0mshape\u001b[0m\u001b[0;34m[\u001b[0m\u001b[0;36m0\u001b[0m\u001b[0;34m]\u001b[0m\u001b[0;34m\u001b[0m\u001b[0;34m\u001b[0m\u001b[0m\n\u001b[0m\u001b[1;32m      2\u001b[0m \u001b[0mabeam\u001b[0m \u001b[0;34m=\u001b[0m \u001b[0mnp\u001b[0m\u001b[0;34m.\u001b[0m\u001b[0mones\u001b[0m\u001b[0;34m(\u001b[0m\u001b[0mL\u001b[0m\u001b[0;34m)\u001b[0m\u001b[0;34m\u001b[0m\u001b[0;34m\u001b[0m\u001b[0m\n\u001b[1;32m      3\u001b[0m \u001b[0mwhite\u001b[0m \u001b[0;34m=\u001b[0m \u001b[0mnp\u001b[0m\u001b[0;34m.\u001b[0m\u001b[0mdot\u001b[0m\u001b[0;34m(\u001b[0m\u001b[0mabeam\u001b[0m\u001b[0;34m,\u001b[0m \u001b[0mCMFA\u001b[0m\u001b[0;34m)\u001b[0m\u001b[0;34m\u001b[0m\u001b[0;34m\u001b[0m\u001b[0m\n\u001b[1;32m      4\u001b[0m \u001b[0mprint\u001b[0m\u001b[0;34m(\u001b[0m\u001b[0mcharacter\u001b[0m\u001b[0;34m(\u001b[0m\u001b[0;36m0\u001b[0m\u001b[0;34m,\u001b[0m \u001b[0mwhite\u001b[0m\u001b[0;34m)\u001b[0m\u001b[0;34m)\u001b[0m\u001b[0;34m\u001b[0m\u001b[0;34m\u001b[0m\u001b[0m\n",
      "\u001b[0;31mNameError\u001b[0m: name 'CMFA' is not defined"
     ]
    }
   ],
   "source": [
    "L = CMFA.shape[0]\n",
    "abeam = np.ones(L)\n",
    "white = np.dot(abeam, CMFA)\n",
    "print(character(0, white))"
   ]
  },
  {
   "cell_type": "code",
   "execution_count": null,
   "metadata": {},
   "outputs": [],
   "source": [
    "fig = plt.figure()\n",
    "ax = fig.gca(projection='3d')\n",
    "ax.set_xlim(sum(CMFA[:,0]))\n",
    "ax.set_ylim(sum(CMFA[:,1]))\n",
    "ax.set_zlim(sum(CMFA[:,2]))\n",
    "for idx, _ in enumerate(CMFA):\n",
    "    O = character(idx, sum(CMF))\n",
    "    C = XYZColor(O[0], O[1], O[2])\n",
    "    rgb = clip2rgb(C)\n",
    "    ax.scatter(O[0], O[1], O[2], color=rgb)\n"
   ]
  },
  {
   "cell_type": "code",
   "execution_count": null,
   "metadata": {},
   "outputs": [],
   "source": [
    "def mensurate(cmf, abeam, N): \n",
    "    # make appended unit vector array from CMF\n",
    "    wtpt = cmf@abeam\n",
    "    coeffs = np.linspace(0, 1, 30)\n",
    "    ucmf = [c/np.linalg.norm(c) for c in cmf]\n",
    "    c1 = cmf[-1]/np.linalg.norm(cmf[-1])\n",
    "    c0 = cmf[0]/np.linalg.norm(cmf[0])\n",
    "    mixture = np.array([c*c1 +(1-c)*c0 for c in coeffs])\n",
    "    units = np.concatenate((ucmf, mixture))\n",
    "    \n",
    "    # find characteristic color of each unit\n",
    "    xvec = np.zeros(len(units))\n",
    "    yvec = np.zeros(len(units))\n",
    "    zvec = np.zeros(len(units))\n",
    "    for idx, _ in units:\n",
    "        c = character(idx, wtpt, units) \n",
    "        xvec[idx] = c[0]\n",
    "        yvec[idx] = c[1]\n",
    "        zvec[idx] = c[2]\n",
    "    \n",
    "    \n",
    "    # fit 3 pre-mensuration splines\n",
    "    I = np.arange(units.size)\n",
    "    x_spline = intp.make_interp_spline(I, xvec)\n",
    "    y_spline = intp.make_interp_spline(I, yvec)\n",
    "    z_spline = intp.make_interp_spline(I, zvec)"
   ]
  },
  {
   "cell_type": "code",
   "execution_count": null,
   "metadata": {},
   "outputs": [],
   "source": [
    "abeam = np.ones(CMF.shape[0])\n",
    "mensurate(CMF, abeam, 10)"
   ]
  },
  {
   "cell_type": "code",
   "execution_count": null,
   "metadata": {},
   "outputs": [],
   "source": []
  }
 ],
 "metadata": {
  "kernelspec": {
   "display_name": "Python 3",
   "language": "python",
   "name": "python3"
  },
  "language_info": {
   "codemirror_mode": {
    "name": "ipython",
    "version": 3
   },
   "file_extension": ".py",
   "mimetype": "text/x-python",
   "name": "python",
   "nbconvert_exporter": "python",
   "pygments_lexer": "ipython3",
   "version": "3.9.5"
  }
 },
 "nbformat": 4,
 "nbformat_minor": 4
}
