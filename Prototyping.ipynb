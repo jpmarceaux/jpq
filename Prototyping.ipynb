{
 "cells": [
  {
   "cell_type": "markdown",
   "metadata": {},
   "source": [
    "Specify the folder where `jpq/` is installed, and import the library:"
   ]
  },
  {
   "cell_type": "code",
   "execution_count": 12,
   "metadata": {},
   "outputs": [],
   "source": [
    "containing_folder = '/home/jpmarceaux/Projects/'\n",
    "import sys\n",
    "sys.path.insert(0, containing_folder)\n",
    "from jpq import *\n",
    "import numpy as np\n",
    "from PIL import Image, ImageDraw, ImageFont\n",
    "import random\n",
    "import scipy"
   ]
  },
  {
   "cell_type": "markdown",
   "metadata": {},
   "source": [
    "# Circuits in color"
   ]
  },
  {
   "cell_type": "markdown",
   "metadata": {},
   "source": [
    "## Embedded qubits"
   ]
  },
  {
   "cell_type": "code",
   "execution_count": 185,
   "metadata": {},
   "outputs": [],
   "source": [
    "KNOWN_GATES = {\n",
    "    'x': SigmaX,\n",
    "    'y': SigmaY,\n",
    "    'z': SigmaZ,\n",
    "    'h': lambda: (1/np.sqrt(2))*np.array([[1, 1], [1, -1]]),\n",
    "    's': lambda: np.array([[1, 0], [0, 1j]]),\n",
    "    't': lambda: np.array([[1, 0], [0, (1+1j)/np.sqrt(2)]])\n",
    "}\n",
    "\n",
    "\n",
    "def embedded_1qubit(label, width):\n",
    "    \"\"\"channel of embedded 1-qubit gate in circuit of given width\"\"\"\n",
    "    tstr = label[0]\n",
    "    idx = label[1]\n",
    "\n",
    "    try:\n",
    "        if tstr == 'r':\n",
    "            t = label[2]\n",
    "            n = label[3] if len(label) > 3 else [1, 0, 0]\n",
    "            n = np.array(n)/(n[0]**2 + n[1]**2 + n[2]**2)**0.5\n",
    "            g = np.eye(2, dtype=complex)*np.cos(t/2) - 1j*np.sin(t/2) * (n[0]*SigmaX() + n[1]*SigmaY() + n[2]*SigmaZ())\n",
    "        else:\n",
    "            g = KNOWN_GATES[tstr]()\n",
    "    except KeyError as e:\n",
    "        raise ValueError(f\"tchar '{tstr}' not in dictionary\") from e\n",
    "    \n",
    "    unitary = 1\n",
    "    for w in range(width):\n",
    "        u_i = g if w == idx else np.eye(2, dtype=complex)\n",
    "        unitary = np.kron(unitary, u_i)\n",
    "    return unitary"
   ]
  },
  {
   "cell_type": "code",
   "execution_count": 14,
   "metadata": {},
   "outputs": [],
   "source": [
    "def embedded_controlledU(cbit, tbit, width, U):\n",
    "    \"\"\"\n",
    "    make unitary operation for C_U \n",
    "    [|0><0| o ... o 1] + [|1><1| o ... o U] \n",
    "    \"\"\"\n",
    "    assert U.shape[0] == 2 and U.shape[1] == 2, \\\n",
    "        \"makeCU: dimension mismatch\"\n",
    "    I = np.eye(2, dtype=complex)\n",
    "    \n",
    "    m0 = 1\n",
    "    m1 = 1\n",
    "    for i in range(width):\n",
    "        if i == cbit:\n",
    "            m0 = np.kron(m0, np.array([[1, 0], [0, 0]]))\n",
    "            m1 = np.kron(m1, np.array([[0, 0], [0, 1]]))\n",
    "        elif i == tbit:\n",
    "            m0 = np.kron(m0, I)\n",
    "            m1 = np.kron(m1, U)\n",
    "        else:\n",
    "            m0 = np.kron(m0, I)\n",
    "            m1 = np.kron(m1, I)\n",
    "    return m0 + m1"
   ]
  },
  {
   "cell_type": "code",
   "execution_count": 15,
   "metadata": {},
   "outputs": [],
   "source": [
    "def embedded_ccU(cbit1, cbit2, tbit, width, U):\n",
    "    \"\"\"\n",
    "    make unitary operation for C_C_U\n",
    "    [(I - |11><11|) o ... o 1] + [|11><11| o ... o U]\n",
    "    \"\"\"\n",
    "    assert U.shape[0] == 2 and U.shape[1] == 2, \\\n",
    "        \"makeCU: dimension mismatch\"\n",
    "    I = np.eye(2, dtype=complex)\n",
    "    m0 = 1\n",
    "    m1 = 1\n",
    "    m2 = 1\n",
    "    m3 = 1\n",
    "    for i in range(width):\n",
    "        if i == cbit1:\n",
    "            m0 = np.kron(m0, np.array([[1, 0], [0, 0]]))\n",
    "            m1 = np.kron(m1, np.array([[0, 0], [0, 1]]))\n",
    "            m2 = np.kron(m2, np.array([[1, 0], [0, 0]]))\n",
    "            m3 = np.kron(m3, np.array([[0, 0], [0, 1]]))\n",
    "        elif i == cbit2:\n",
    "            m0 = np.kron(m0, np.array([[1, 0], [0, 0]]))\n",
    "            m1 = np.kron(m1, np.array([[1, 0], [0, 0]]))\n",
    "            m2 = np.kron(m2, np.array([[0, 0], [0, 1]]))\n",
    "            m3 = np.kron(m3, np.array([[0, 0], [0, 1]]))\n",
    "        elif i == tbit:\n",
    "            m0 = np.kron(m0, I)\n",
    "            m1 = np.kron(m1, I)\n",
    "            m2 = np.kron(m2, I)\n",
    "            m3 = np.kron(m3, U)\n",
    "        else:\n",
    "            m0 = np.kron(m0, I)\n",
    "            m1 = np.kron(m1, I)\n",
    "            m2 = np.kron(m2, I)\n",
    "            m3 = np.kron(m3, I)\n",
    "    return m0 + m1 + m2 + m3"
   ]
  },
  {
   "cell_type": "markdown",
   "metadata": {},
   "source": [
    "## Converting layers to channels"
   ]
  },
  {
   "cell_type": "code",
   "execution_count": 16,
   "metadata": {},
   "outputs": [],
   "source": [
    "def label2channel(label, width):\n",
    "    if label[0][0:2] == 'cc':\n",
    "        # cc operation\n",
    "        op = label[0]\n",
    "        g = KNOWN_GATES[label[0][2]]()\n",
    "        U = embedded_ccU(label[1], label[2], label[3], width, g)\n",
    "    elif(label[0][0] == 'c'):\n",
    "        # controlled operation\n",
    "        op = label[0]\n",
    "        if(op == 'cx'):\n",
    "            g = SigmaX()\n",
    "        elif(op == 'cy'):\n",
    "            g = SigmaY()\n",
    "        elif(op == 'cz'):\n",
    "            g = SigmaZ()\n",
    "        else:\n",
    "            raise ValueError(f\"tchar {op} not in dictionary\")\n",
    "        U = embedded_controlledU(label[1], label[2], width, g)\n",
    "    else:\n",
    "        # otherwise, 1-qubit unitary assumed\n",
    "        U = embedded_1qubit(label, width)\n",
    "    return Channel([U], rep='kraus')"
   ]
  },
  {
   "cell_type": "code",
   "execution_count": 17,
   "metadata": {},
   "outputs": [],
   "source": [
    "def layer2channel(layer, width):\n",
    "    if len(layer) > 0: \n",
    "        chnl = label2channel(layer[0], width)\n",
    "        if(len(layer) > 1):\n",
    "            for c in layer[1:]:\n",
    "                # TODO i'm not sure this works\n",
    "                chnl = compose(label2channel(c, width), chnl)\n",
    "        return chnl"
   ]
  },
  {
   "cell_type": "markdown",
   "metadata": {},
   "source": [
    "## Circuit class"
   ]
  },
  {
   "cell_type": "code",
   "execution_count": 27,
   "metadata": {},
   "outputs": [],
   "source": [
    "class Circuit():\n",
    "    def __init__(self, width, layers=None):\n",
    "        self._width = width\n",
    "        self._layers = layers\n",
    "\n",
    "    def get_layer_channel(self, i):\n",
    "        \"\"\"Get the ith layer channel class\"\"\"\n",
    "        if (i > len(self._layers) - 1):\n",
    "            raise ValueError(\"requested layer exceeds numbers of layers in circuit\")\n",
    "        return(layer2channel(self._layers[i], self._width))\n",
    "\n",
    "    def get_width(self):\n",
    "        return self._width\n",
    "\n",
    "    def get_depth(self):\n",
    "        return len(self._layers)\n",
    "\n",
    "    def get_layer(self, idx):\n",
    "        return self._layers[idx]"
   ]
  },
  {
   "cell_type": "markdown",
   "metadata": {},
   "source": [
    "## X-correlation display"
   ]
  },
  {
   "cell_type": "code",
   "execution_count": 143,
   "metadata": {},
   "outputs": [],
   "source": [
    "def extract_correlation_coefs(rho12):\n",
    "    I_1 = np.array([\n",
    "        [1, 0, 0, 0], \n",
    "        [0, 0, 0, 0], \n",
    "        [0, 0, 0, 0], \n",
    "        [0, 0, 0, 1] \n",
    "        ])\n",
    "    Z_1 = np.array([\n",
    "        [1, 0, 0, 0], \n",
    "        [0, 0, 0, 0], \n",
    "        [0, 0, 0, 0], \n",
    "        [0, 0, 0, -1] \n",
    "        ])\n",
    "    X_1 = np.array([\n",
    "        [0, 0, 0, 1], \n",
    "        [0, 0, 0, 0], \n",
    "        [0, 0, 0, 0], \n",
    "        [1, 0, 0, 0] \n",
    "        ])\n",
    "    Y_1 = np.array([\n",
    "        [0, 0, 0, -1j], \n",
    "        [0, 0, 0, 0], \n",
    "        [0, 0, 0, 0], \n",
    "        [1j, 0, 0, 0] \n",
    "        ])\n",
    "    \n",
    "    I_2 = np.array([\n",
    "        [0, 0, 0, 0], \n",
    "        [0, 1, 0, 0], \n",
    "        [0, 0, 1, 0], \n",
    "        [0, 0, 0, 0] \n",
    "        ])\n",
    "    Z_2 = np.array([\n",
    "        [0, 0, 0, 0], \n",
    "        [0, 1, 0, 0], \n",
    "        [0, 0, -1, 0], \n",
    "        [0, 0, 0, 0] \n",
    "        ])\n",
    "    X_2 = np.array([\n",
    "        [0, 0, 0, 0], \n",
    "        [0, 0, 1, 0], \n",
    "        [0, 1, 0, 0], \n",
    "        [0, 0, 0, 0] \n",
    "        ])\n",
    "    Y_2 = np.array([\n",
    "        [0, 0, 0, 0], \n",
    "        [0, 0, -1j, 0], \n",
    "        [0, 1j, 0, 0], \n",
    "        [0, 0, 0, 0] \n",
    "        ])\n",
    "    \n",
    "    return (\n",
    "        (np.trace(Z_1@rho12), np.trace(Y_1@rho12), np.trace(X_1@rho12), np.trace(I_1@rho12)), \n",
    "        (np.trace(Z_2@rho12), np.trace(Y_2@rho12), np.trace(X_2@rho12), np.trace(I_2@rho12))\n",
    "    )"
   ]
  },
  {
   "cell_type": "code",
   "execution_count": 172,
   "metadata": {},
   "outputs": [],
   "source": [
    "def paint_xdisplay(draw, coefs, bit1, bit2, layer_idx, tileDims, gateRatio=1/4):\n",
    "    \"\"\"For now, let's just paint a black box\n",
    "    we'll specialize this function to paint specific gates\n",
    "    in our gate set\n",
    "    \"\"\"\n",
    "    dimX = tileDims[0]\n",
    "    dimY = tileDims[1]\n",
    "    coefs1 = coefs[0]\n",
    "    coefs2 = coefs[1]\n",
    "    rgb1 = tuple(int(255*abs(c)) for c in coefs1[0:3])\n",
    "    rgb2 = tuple(int(255*abs(c)) for c in coefs2[0:3])\n",
    "    print(rgb1, rgb2)\n",
    "    rectangle_dims1 = [((layer_idx+1+gateRatio)*dimX, (bit1+0.5+gateRatio)*dimY), \n",
    "            ((layer_idx+1-gateRatio)*dimX, (bit1+0.5-gateRatio)*dimY)]\n",
    "    draw.rectangle(rectangle_dims1, fill=rgb1)\n",
    "    \n",
    "    rectangle_dims2 = [((layer_idx+1+gateRatio)*dimX, (bit2+0.5+gateRatio)*dimY), \n",
    "            ((layer_idx+1-gateRatio)*dimX, (bit2+0.5-gateRatio)*dimY)]\n",
    "    draw.rectangle(rectangle_dims2, fill=rgb2)\n",
    "    # fnt = ImageFont.truetype(\"Pillow/Tests/fonts/FreeMono.ttf\", int(gateRatio*2*dimY))\n",
    "    \n",
    "    # draw.text(((layer_idx+1)*dimX - textlength/2, rectangle_dims1[0][1]), \"00+11 and 01+10 \\n spaces\")"
   ]
  },
  {
   "cell_type": "markdown",
   "metadata": {},
   "source": [
    "## Painting the circuit"
   ]
  },
  {
   "cell_type": "code",
   "execution_count": 33,
   "metadata": {},
   "outputs": [],
   "source": [
    "def local_bloch(state, subsystem, qubits):\n",
    "    dims = [2 for _ in range(qubits)]\n",
    "    traced = [j for j in range(qubits) if j != subsystem]\n",
    "    rho = TrX(state, traced, dims)\n",
    "    # the trace should be real\n",
    "    return [np.trace(rho@SigmaX()).real, np.trace(rho@SigmaY()).real, np.trace(rho@SigmaZ()).real]"
   ]
  },
  {
   "cell_type": "code",
   "execution_count": 122,
   "metadata": {},
   "outputs": [],
   "source": [
    "def paint_X(draw, bit, gate_name, layer_idx, tileDims, gateRatio):\n",
    "    \"\"\"For now, let's just paint a black box\n",
    "    we'll specialize this function to paint specific gates\n",
    "    in our gate set\n",
    "    \"\"\"\n",
    "    dimX = tileDims[0]\n",
    "    dimY = tileDims[1]\n",
    "    dims = [((layer_idx+1-gateRatio)*dimX, (bit+0.5-gateRatio)*dimY), \n",
    "            ((layer_idx+1+gateRatio)*dimX, (bit+0.5+gateRatio)*dimY)]\n",
    "    draw.rectangle(dims, fill='black')\n",
    "    # fnt = ImageFont.truetype(\"Pillow/Tests/fonts/FreeMono.ttf\", int(gateRatio*2*dimY))\n",
    "    lenth = draw.textlength(gate_name.upper()) \n",
    "    draw.text(((layer_idx+1)*dimX - lenth/2, dims[0][1]), gate_name.upper())\n",
    "\n",
    "def paint_controlledU(draw, cbit, tbit, gate_name, layer_idx, tileDims, gateRatio):\n",
    "    \"\"\"\n",
    "    paints a black box and circle for now, and a line that connects them\n",
    "    \"\"\"\n",
    "    dimX = tileDims[0]\n",
    "    dimY = tileDims[1]\n",
    "\n",
    "    line = [((layer_idx+1)*dimX, (cbit+0.5)*dimY),\n",
    "           ((layer_idx+1)*dimX, (tbit+0.5)*dimY)]\n",
    "    draw.rectangle(line, fill='black')\n",
    "\n",
    "    dims = [((layer_idx+1-gateRatio)*dimX, (cbit+0.5-gateRatio)*dimY), \n",
    "            ((layer_idx+1+gateRatio)*dimX, (cbit+0.5+gateRatio)*dimY)]\n",
    "    draw.ellipse(dims, fill=(127,127,0), outline='black')\n",
    "    \n",
    "    paint_X(draw, tbit, gate_name[1:], layer_idx, tileDims, gateRatio)\n",
    "    \n",
    "def paint_ccU(draw, cbit1, cbit2, tbit, gate_name, layer_idx, tileDims, gateRatio):\n",
    "    dimX = tileDims[0]\n",
    "    dimY = tileDims[1]\n",
    "    line1 = [((layer_idx+1)*dimX, (cbit1+0.5)*dimY),\n",
    "           ((layer_idx+1)*dimX, (tbit+0.5)*dimY)]\n",
    "    draw.rectangle(line1, fill='black')\n",
    "\n",
    "    line2 = [((layer_idx+1)*dimX, (cbit2+0.5)*dimY),\n",
    "           ((layer_idx+1)*dimX, (tbit+0.5)*dimY)]\n",
    "    draw.rectangle(line2, fill='black')\n",
    "\n",
    "    dims1 = [((layer_idx+1-gateRatio)*dimX, (cbit1+0.5-gateRatio)*dimY), \n",
    "            ((layer_idx+1+gateRatio)*dimX, (cbit1+0.5+gateRatio)*dimY)]\n",
    "    draw.ellipse(dims1, fill=(127,127,0), outline='black')\n",
    "    \n",
    "    dims2 = [((layer_idx+1-gateRatio)*dimX, (cbit2+0.5-gateRatio)*dimY), \n",
    "            ((layer_idx+1+gateRatio)*dimX, (cbit2+0.5+gateRatio)*dimY)]\n",
    "    draw.ellipse(dims2, fill=(127,127,0), outline='black')\n",
    "\n",
    "    paint_X(draw, tbit, gate_name[2:], layer_idx, tileDims, gateRatio)\n",
    "\n",
    "def paint_gates(image, layer, idx, tileDims, gateRatio=1/4):\n",
    "    \"\"\"Paint the gates\"\"\"\n",
    "    for lbl in layer:\n",
    "        # this will become a switch-type interface \n",
    "        print(lbl)\n",
    "        draw = ImageDraw.Draw(image)\n",
    "        if lbl[0] == 'xdisp':\n",
    "            None\n",
    "        elif lbl[0][0:2] == 'cc':\n",
    "            paint_ccU(draw, lbl[1], lbl[2], lbl[3], lbl[0], idx, tileDims, gateRatio)\n",
    "        elif lbl[0][0] == 'c':\n",
    "            paint_controlledU(draw, lbl[1], lbl[2], lbl[0], idx, tileDims, gateRatio)\n",
    "        else:\n",
    "            paint_X(draw, lbl[1], lbl[0], idx, tileDims, gateRatio)"
   ]
  },
  {
   "cell_type": "code",
   "execution_count": 155,
   "metadata": {},
   "outputs": [],
   "source": [
    "class Painter():\n",
    "    def __init__(self, tileDims=(50,50), wireRatio=1/4):\n",
    "        self._tileDims = tileDims\n",
    "        self._wireRatio = wireRatio\n",
    "\n",
    "    def paint(self, circ, filename=None):\n",
    "        \"\"\"Paint the circuit\"\"\"\n",
    "        # imput params\n",
    "        qbits = circ.get_width()\n",
    "        depth = circ.get_depth()\n",
    "        tileX = self._tileDims[0]\n",
    "        tileY = self._tileDims[1]\n",
    "        wireRatio = self._wireRatio\n",
    "        rho = Register(qbits).mat()\n",
    "        \n",
    "        # [1] Allocate image \n",
    "        image = Image.new(\"RGBA\", (tileX*(depth+2), tileY*qbits), (0, 0, 0, 0))\n",
    "        draw = ImageDraw.Draw(image)\n",
    "        \n",
    "        # paint initial layer of tiles\n",
    "        for q in range(qbits):\n",
    "            xyz = local_bloch(rho, q, qbits)\n",
    "            [r,g,b] =  [int(255*(1+xyz[v])/2) for v in range(3)]\n",
    "            xi, yi = int(0), int((q+0.5)*tileY)\n",
    "            xf, yf = int(tileX), int(yi)\n",
    "            draw.line([(xi, yi), (xf, yf)], width=int(tileY*wireRatio), fill=(r, g, b))\n",
    "        \n",
    "        # painter circuit layers\n",
    "        for i in range(depth):\n",
    "            layer = circ.get_layer(i)\n",
    "            if layer[0][0] != 'xdisp':\n",
    "                channel = circ.get_layer_channel(i)\n",
    "                rho = channel.apply(rho)\n",
    "            else:\n",
    "                sig = TrX(rho, [layer[0][1], layer[0][2]], [2 for _ in range(qbits)])\n",
    "                coefs = extract_correlation_coefs(rho)\n",
    "                print(coefs)\n",
    "                paint_xdisplay(draw, coefs, layer[0][1], layer[0][2], i, (tileX, tileY))\n",
    "            for q in range(qbits):\n",
    "                xyz = local_bloch(rho, q, qbits)\n",
    "                [r,g,b] =  [int(255*(1+xyz[v])/2) for v in range(3)]\n",
    "                xi, yi = int((i+1)*tileX), int((q+0.5)*tileY)\n",
    "                xf, yf = int((i+2)*tileX), int(yi)\n",
    "                draw.line([(xi, yi), (xf, yf)], width=int(tileY*wireRatio), fill=(r, g, b))\n",
    "            paint_gates(image, layer, i, (tileX, tileY))\n",
    "        \n",
    "        if filename:\n",
    "            image.save(filename)\n",
    "        return image"
   ]
  },
  {
   "cell_type": "markdown",
   "metadata": {},
   "source": [
    "## Examples"
   ]
  },
  {
   "cell_type": "code",
   "execution_count": 55,
   "metadata": {},
   "outputs": [
    {
     "data": {
      "image/png": "[encoded data removed]",
      "text/plain": [
       "<PIL.Image.Image image mode=RGBA size=180x150 at 0x7FA79BD45580>"
      ]
     },
     "execution_count": 55,
     "metadata": {},
     "output_type": "execute_result"
    }
   ],
   "source": [
    "layers = [[('x', 0)], [('y', 1)], [('h', 1)], [('t', 1)]]\n",
    "circ = Circuit(3, layers)\n",
    "painter = Painter((30, 50))\n",
    "painter.paint(circ)"
   ]
  },
  {
   "cell_type": "code",
   "execution_count": 56,
   "metadata": {},
   "outputs": [
    {
     "data": {
      "image/png": "[encoded data removed]",
      "text/plain": [
       "<PIL.Image.Image image mode=RGBA size=300x60 at 0x7FA79BD45A00>"
      ]
     },
     "execution_count": 56,
     "metadata": {},
     "output_type": "execute_result"
    }
   ],
   "source": [
    "layers = [[('h', 0)], [('z', 0)], [('h', 0)], [ ('x', 1)]]\n",
    "circ = Circuit(2, layers)\n",
    "painter = Painter((50, 30))\n",
    "painter.paint(circ)"
   ]
  },
  {
   "cell_type": "code",
   "execution_count": 57,
   "metadata": {},
   "outputs": [
    {
     "data": {
      "image/png": "[encoded data removed]",
      "text/plain": [
       "<PIL.Image.Image image mode=RGBA size=300x100 at 0x7FA809FBBFA0>"
      ]
     },
     "execution_count": 57,
     "metadata": {},
     "output_type": "execute_result"
    }
   ],
   "source": [
    "layers = [[('cx', 0, 1)], [('z', 0)], [('h', 0)], [ ('x', 1)]]\n",
    "circ = Circuit(2, layers)\n",
    "painter = Painter()\n",
    "painter.paint(circ)"
   ]
  },
  {
   "cell_type": "code",
   "execution_count": 58,
   "metadata": {},
   "outputs": [
    {
     "data": {
      "image/png": "[encoded data removed]",
      "text/plain": [
       "<PIL.Image.Image image mode=RGBA size=250x150 at 0x7FA79BCD6790>"
      ]
     },
     "execution_count": 58,
     "metadata": {},
     "output_type": "execute_result"
    }
   ],
   "source": [
    "layers = [[('r', 0, np.pi/2)], [('r',1, np.pi)], [('r',2, 2*np.pi)]]\n",
    "circ = Circuit(3, layers)\n",
    "painter = Painter((50, 50))\n",
    "painter.paint(circ)"
   ]
  },
  {
   "cell_type": "code",
   "execution_count": 59,
   "metadata": {},
   "outputs": [
    {
     "data": {
      "image/png": "[encoded data removed]",
      "text/plain": [
       "<PIL.Image.Image image mode=RGBA size=200x100 at 0x7FA79BD45820>"
      ]
     },
     "execution_count": 59,
     "metadata": {},
     "output_type": "execute_result"
    }
   ],
   "source": [
    "layers = [[('r',0, np.pi/2, [1, 0, 0])], [('r',0, np.pi/2, [0, 0, 1])]]\n",
    "circ = Circuit(2, layers)\n",
    "painter = Painter((50, 50))\n",
    "painter.paint(circ)"
   ]
  },
  {
   "cell_type": "code",
   "execution_count": 60,
   "metadata": {},
   "outputs": [
    {
     "data": {
      "image/png": "[encoded data removed]",
      "text/plain": [
       "<PIL.Image.Image image mode=RGBA size=150x50 at 0x7FA79BD45A60>"
      ]
     },
     "execution_count": 60,
     "metadata": {},
     "output_type": "execute_result"
    }
   ],
   "source": [
    "layers = [[('r',0, np.pi/2, [0,1, 0])]]\n",
    "circ = Circuit(1, layers)\n",
    "painter = Painter((50, 50))\n",
    "painter.paint(circ)"
   ]
  },
  {
   "cell_type": "code",
   "execution_count": 61,
   "metadata": {},
   "outputs": [
    {
     "data": {
      "image/png": "[encoded data removed]",
      "text/plain": [
       "<PIL.Image.Image image mode=RGBA size=150x100 at 0x7FA79BD456A0>"
      ]
     },
     "execution_count": 61,
     "metadata": {},
     "output_type": "execute_result"
    }
   ],
   "source": [
    "# There's a bug in the channel ?!?\n",
    "layers = [ [('cy', 0, 1)]]\n",
    "circ = Circuit(2, layers)\n",
    "painter = Painter((50, 50))\n",
    "painter.paint(circ)"
   ]
  },
  {
   "cell_type": "code",
   "execution_count": 64,
   "metadata": {},
   "outputs": [
    {
     "data": {
      "image/png": "[encoded data removed]",
      "text/plain": [
       "<PIL.Image.Image image mode=RGBA size=200x150 at 0x7FA79BD45760>"
      ]
     },
     "execution_count": 64,
     "metadata": {},
     "output_type": "execute_result"
    }
   ],
   "source": [
    "# There's a bug in the channel -- fixed\n",
    "layers = [[('x', 0)], [('cy', 0, 1)]]\n",
    "circ = Circuit(3, layers)\n",
    "painter = Painter((50, 50))\n",
    "painter.paint(circ)"
   ]
  },
  {
   "cell_type": "code",
   "execution_count": 63,
   "metadata": {},
   "outputs": [
    {
     "data": {
      "image/png": "[encoded data removed]",
      "text/plain": [
       "<PIL.Image.Image image mode=RGBA size=250x150 at 0x7FA79BCD6C70>"
      ]
     },
     "execution_count": 63,
     "metadata": {},
     "output_type": "execute_result"
    }
   ],
   "source": [
    "## toffoli\n",
    "layers = [[('x', 0)], [('x', 1)], [('ccx', 0, 1, 2)]]\n",
    "circ = Circuit(3, layers)\n",
    "painter = Painter((50, 50))\n",
    "painter.paint(circ)"
   ]
  },
  {
   "cell_type": "markdown",
   "metadata": {},
   "source": [
    "## Entangled examples"
   ]
  },
  {
   "cell_type": "code",
   "execution_count": 176,
   "metadata": {},
   "outputs": [
    {
     "name": "stdout",
     "output_type": "stream",
     "text": [
      "(((1+0j), 0j, 0j, (1+0j)), (0j, 0j, 0j, 0j))\n",
      "(255, 0, 0) (0, 0, 0)\n",
      "('xdisp', 0, 1)\n",
      "('y', 0)\n",
      "((0j, 0j, 0j, 0j), ((-1+0j), 0j, 0j, (1+0j)))\n",
      "(0, 0, 0) (255, 0, 0)\n",
      "('xdisp', 0, 1)\n",
      "('h', 0)\n",
      "(((0.4999999999999999+0j), 0j, 0j, (0.4999999999999999+0j)), ((-0.4999999999999999+0j), 0j, 0j, (0.4999999999999999+0j)))\n",
      "(127, 0, 0) (127, 0, 0)\n",
      "('xdisp', 0, 1)\n",
      "('cx', 0, 1)\n",
      "(((5.551115123125783e-17+0j), 0j, (-0.9999999999999998+0j), (0.9999999999999998+0j)), (0j, 0j, 0j, 0j))\n",
      "(0, 0, 254) (0, 0, 0)\n",
      "('xdisp', 0, 1)\n",
      "('cx', 1, 0)\n",
      "(((0.5+0j), 0j, 0j, (0.5+0j)), ((0.4999999999999999+0j), 0j, 0j, (0.4999999999999999+0j)))\n",
      "(127, 0, 0) (127, 0, 0)\n",
      "('xdisp', 0, 1)\n"
     ]
    },
    {
     "data": {
      "image/png": "[encoded data removed]",
      "text/plain": [
       "<PIL.Image.Image image mode=RGBA size=550x100 at 0x7FA79BCCF490>"
      ]
     },
     "execution_count": 176,
     "metadata": {},
     "output_type": "execute_result"
    }
   ],
   "source": [
    "layers = [[('xdisp', 0, 1)], [('y', 0)], [('xdisp', 0, 1)], [('h', 0)],  [('xdisp', 0, 1)], [('cx', 0, 1)], [('xdisp', 0, 1)], [('cx', 1, 0)], [('xdisp', 0, 1)]]\n",
    "circ = Circuit(2, layers)\n",
    "painter = Painter((50, 50))\n",
    "painter.paint(circ)"
   ]
  },
  {
   "cell_type": "code",
   "execution_count": 180,
   "metadata": {},
   "outputs": [
    {
     "name": "stdout",
     "output_type": "stream",
     "text": [
      "(((1+0j), 0j, 0j, (1+0j)), (0j, 0j, 0j, 0j))\n",
      "(255, 0, 0) (0, 0, 0)\n",
      "('xdisp', 0, 1)\n",
      "('h', 0)\n",
      "(((0.5000000000000003+0j), 0j, 0j, (0.5000000000000003+0j)), ((-0.49999999999999944+0j), 0j, 0j, (0.49999999999999944+0j)))\n",
      "(127, 0, 0) (127, 0, 0)\n",
      "('xdisp', 0, 1)\n",
      "('cx', 0, 1)\n",
      "(((9.992007221626409e-16+0j), 0j, (0.9999999999999997+0j), (0.9999999999999999+0j)), (0j, 0j, 0j, 0j))\n",
      "(0, 0, 254) (0, 0, 0)\n",
      "('xdisp', 0, 1)\n",
      "('x', 0)\n",
      "((0j, 0j, 0j, 0j), ((-9.43689570931383e-16+0j), 0j, (0.9999999999999997+0j), (1+0j)))\n",
      "(0, 0, 0) (0, 0, 254)\n",
      "('xdisp', 0, 1)\n"
     ]
    },
    {
     "data": {
      "image/png": "[encoded data removed]",
      "text/plain": [
       "<PIL.Image.Image image mode=RGBA size=450x100 at 0x7FA79BC2DD90>"
      ]
     },
     "execution_count": 180,
     "metadata": {},
     "output_type": "execute_result"
    }
   ],
   "source": [
    "layers = [[('xdisp', 0, 1)], \n",
    "          [('h', 0)], \n",
    "          [('xdisp', 0, 1)],  \n",
    "          [('cx', 0, 1)], \n",
    "          [('xdisp', 0, 1)], \n",
    "          [('x', 0)], \n",
    "          [('xdisp', 0, 1)]\n",
    "         ]\n",
    "circ = Circuit(2, layers)\n",
    "painter = Painter((50, 50))\n",
    "painter.paint(circ)"
   ]
  },
  {
   "cell_type": "code",
   "execution_count": 187,
   "metadata": {},
   "outputs": [
    {
     "name": "stdout",
     "output_type": "stream",
     "text": [
      "(((1+0j), 0j, 0j, (1+0j)), (0j, 0j, 0j, 0j))\n",
      "(255, 0, 0) (0, 0, 0)\n",
      "('xdisp', 0, 1)\n",
      "('h', 0)\n",
      "(((0.5000000000000003+0j), 0j, 0j, (0.5000000000000003+0j)), ((-0.49999999999999944+0j), 0j, 0j, (0.49999999999999944+0j)))\n",
      "(127, 0, 0) (127, 0, 0)\n",
      "('xdisp', 0, 1)\n",
      "('z', 0)\n",
      "(((0.5000000000000004+0j), 0j, 0j, (0.5000000000000004+0j)), ((-0.49999999999999944+0j), 0j, 0j, (0.49999999999999944+0j)))\n",
      "(127, 0, 0) (127, 0, 0)\n",
      "('xdisp', 0, 1)\n",
      "('cx', 0, 1)\n",
      "(((1.1102230246251565e-15+0j), 0j, (-0.9999999999999997+0j), (1+0j)), (0j, 0j, 0j, 0j))\n",
      "(0, 0, 254) (0, 0, 0)\n",
      "('xdisp', 0, 1)\n",
      "('r', 0, 3.141592653589793, [0, 1, 0])\n",
      "(((1.6374235193353497e-33+0j), 0j, (-6.202411894818577e-33+0j), (8.088560590875876e-33+0j)), ((-8.881784197001252e-16+0j), 0j, (0.999999999999999+0j), (0.9999999999999993+0j)))\n",
      "(0, 0, 0) (0, 0, 254)\n",
      "('xdisp', 0, 1)\n"
     ]
    },
    {
     "data": {
      "image/png": "[encoded data removed]",
      "text/plain": [
       "<PIL.Image.Image image mode=RGBA size=550x100 at 0x7FA79BC19550>"
      ]
     },
     "execution_count": 187,
     "metadata": {},
     "output_type": "execute_result"
    }
   ],
   "source": [
    "layers = [[('xdisp', 0, 1)], \n",
    "          [('h', 0)], \n",
    "          [('xdisp', 0, 1)],  \n",
    "          [('z', 0)], \n",
    "          [('xdisp', 0, 1)],  \n",
    "          [('cx', 0, 1)], \n",
    "          [('xdisp', 0, 1)], \n",
    "          [('r',0, np.pi, [0,1, 0])],\n",
    "          [('xdisp', 0, 1)]\n",
    "         ]\n",
    "circ = Circuit(2, layers)\n",
    "painter = Painter((50, 50))\n",
    "painter.paint(circ)"
   ]
  },
  {
   "cell_type": "markdown",
   "metadata": {},
   "source": [
    "### Random Example"
   ]
  },
  {
   "cell_type": "code",
   "execution_count": 44,
   "metadata": {},
   "outputs": [],
   "source": [
    "def random_circuit_XYZHSTCnot_1D(depth, qubits):\n",
    "    layers = []\n",
    "    for l in range(depth):\n",
    "        i = random.randint(1, 7)\n",
    "        if i == 1: # X-type\n",
    "            j = random.randint(0, qubits-1)\n",
    "            layers.append([('x', j)])\n",
    "        elif i == 2: # Y-type\n",
    "            j = random.randint(0, qubits-1)\n",
    "            layers.append([('y', j)])\n",
    "        elif i == 3: # Z-type\n",
    "            j = random.randint(0, qubits-1)\n",
    "            layers.append([('z', j)])\n",
    "        elif i == 4: # H-type\n",
    "            j = random.randint(0, qubits-1)\n",
    "            layers.append([('h', j)])\n",
    "        elif i == 5: # S-type\n",
    "            j = random.randint(0, qubits-1)\n",
    "            layers.append([('s', j)])\n",
    "        elif i == 6: # T-type\n",
    "            j = random.randint(0, qubits-1)\n",
    "            layers.append([('t', j)])\n",
    "        elif i == 7: # Cnot-type (only neighbors)\n",
    "            j = random.randint(0, qubits-1)\n",
    "            k = random.randint(0, qubits-1)\n",
    "            while k == j:\n",
    "                k = random.randint(0, qubits-1)\n",
    "            layers.append([('cx', j, k)])\n",
    "                \n",
    "    return layers"
   ]
  },
  {
   "cell_type": "code",
   "execution_count": 48,
   "metadata": {},
   "outputs": [
    {
     "name": "stdout",
     "output_type": "stream",
     "text": [
      "[[('x', 1)], [('z', 3)], [('t', 1)], [('h', 1)], [('h', 0)], [('t', 0)], [('cx', 3, 2)]]\n"
     ]
    },
    {
     "data": {
      "image/png": "[encoded data removed]",
      "text/plain": [
       "<PIL.Image.Image image mode=RGBA size=450x250 at 0x7FA79BD47550>"
      ]
     },
     "execution_count": 48,
     "metadata": {},
     "output_type": "execute_result"
    }
   ],
   "source": [
    "layers = random_circuit_XYZHSTCnot_1D(7,4)\n",
    "print(layers)\n",
    "circ = Circuit(5, layers)\n",
    "painter = Painter()\n",
    "painter.paint(circ)"
   ]
  },
  {
   "cell_type": "markdown",
   "metadata": {},
   "source": [
    "### 5-bit ECC example"
   ]
  },
  {
   "cell_type": "code",
   "execution_count": 22,
   "metadata": {},
   "outputs": [
    {
     "data": {
      "image/png": "[encoded data removed]",
      "text/plain": [
       "<PIL.Image.Image image mode=RGBA size=1000x250 at 0x7F3D97395400>"
      ]
     },
     "execution_count": 22,
     "metadata": {},
     "output_type": "execute_result"
    }
   ],
   "source": [
    "C5bitCode = [\n",
    "    [('h', 0)], \n",
    "    [('s', 0)], \n",
    "    [('cz', 0, 1)],\n",
    "    [('cz', 0, 3)],\n",
    "    [('cy', 0, 4)],\n",
    "    [('h', 1)],\n",
    "    [('cz', 1, 2)],\n",
    "    [('cz', 1, 3)],\n",
    "    [('cx', 1, 4)], \n",
    "    [('h', 2)], \n",
    "    [('cz', 2, 0)], \n",
    "    [('cz', 2, 1)], \n",
    "    [('cx', 2, 4)],\n",
    "    [('h', 3)], \n",
    "    [('s', 3)],\n",
    "    [('cz', 3, 0)], \n",
    "    [('cz', 3, 2)], \n",
    "    [('cy', 3, 4)]\n",
    "]\n",
    "circ = Circuit(5, C5bitCode)\n",
    "painter = Painter()\n",
    "painter.paint(circ)"
   ]
  },
  {
   "cell_type": "markdown",
   "metadata": {},
   "source": [
    "## TODO\n",
    "\n",
    "- Labels for gates (DONE 2021-04-01)\n",
    "- Line for controlled gates (DONE 2021-04-02)\n",
    "- Rotations by $\\theta$ about a general axis (DONE 2021-04-02)\n",
    "- Toffoli gate (DONE 2021-04-02)\n",
    "- Debug why coloring becomes gray when using C-Y or R-Y.(DONE 2021-04-16)\n",
    "- measurement coloring \n",
    "- coloring the controlled bit on a CNOT (amount of control)\n",
    "- entanglement diagrams (latin square-type things in a measurement basis given by local 1-qubit states)"
   ]
  },
  {
   "cell_type": "markdown",
   "metadata": {},
   "source": [
    "## "
   ]
  },
  {
   "cell_type": "code",
   "execution_count": null,
   "metadata": {},
   "outputs": [],
   "source": []
  },
  {
   "cell_type": "code",
   "execution_count": null,
   "metadata": {},
   "outputs": [],
   "source": []
  }
 ],
 "metadata": {
  "kernelspec": {
   "display_name": "Python 3",
   "language": "python",
   "name": "python3"
  },
  "language_info": {
   "codemirror_mode": {
    "name": "ipython",
    "version": 3
   },
   "file_extension": ".py",
   "mimetype": "text/x-python",
   "name": "python",
   "nbconvert_exporter": "python",
   "pygments_lexer": "ipython3",
   "version": "3.9.5"
  }
 },
 "nbformat": 4,
 "nbformat_minor": 4
}
