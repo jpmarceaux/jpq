{
 "cells": [
  {
   "cell_type": "code",
   "execution_count": 1,
   "metadata": {},
   "outputs": [],
   "source": [
    "containing_folder = '/home/jpmarceaux/'\n",
    "import sys\n",
    "sys.path.insert(0, containing_folder)\n",
    "from jpq import *\n",
    "import numpy as np\n",
    "from PIL import Image, ImageDraw\n",
    "import random"
   ]
  },
  {
   "cell_type": "code",
   "execution_count": 2,
   "metadata": {},
   "outputs": [],
   "source": [
    "def embedded_1qubit(label, width):\n",
    "    \"\"\"channel of embedded 1-qubit gate in circuit of given width\"\"\"\n",
    "    tstr = label[0]\n",
    "    idx = label[1]\n",
    "    if tstr == 'x':\n",
    "        g = SigmaX()\n",
    "    elif tstr == 'y':\n",
    "        g = SigmaY()\n",
    "    elif tstr == 'z':\n",
    "        g = SigmaZ()\n",
    "    elif tstr == 'h':\n",
    "        g = (1/np.sqrt(2))*np.array([[1, 1], [1, -1]])\n",
    "    elif tstr == 's':\n",
    "        g = np.array([[1, 0], [0, 1j]])\n",
    "    elif tstr == 't':\n",
    "        g = np.array([[1, 0], [0, (1+1j)/np.sqrt(2)]])\n",
    "    else:\n",
    "        raise ValueError(f\"tchar {tstr} not in dictionary\")\n",
    "    unitary = 1\n",
    "    for w in range(width):\n",
    "        if w == idx:\n",
    "            unitary = np.kron(unitary, g)\n",
    "        else:\n",
    "            unitary = np.kron(unitary, np.eye(2, dtype=complex))\n",
    "    return unitary"
   ]
  },
  {
   "cell_type": "code",
   "execution_count": 3,
   "metadata": {},
   "outputs": [],
   "source": [
    "def embedded_controlledU(cbit, tbit, width, U):\n",
    "    \"\"\"\n",
    "    make unitary operation for C_U \n",
    "    [|0><0| o ... o 1] + [|1><1| o ... o U] \n",
    "    \"\"\"\n",
    "    assert U.shape[0] == 2 and U.shape[1] == 2, \\\n",
    "        \"makeCU: dimension mismatch\"\n",
    "    I = np.eye(2, dtype=complex)\n",
    "    \n",
    "    m0 = 1\n",
    "    m1 = 1\n",
    "    for i in range(width):\n",
    "        if i == cbit:\n",
    "            m0 = np.kron(m0, np.array([[1, 0], [0, 0]]))\n",
    "            m1 = np.kron(m1, np.array([[0, 0], [0, 1]]))\n",
    "        elif i == tbit:\n",
    "            m0 = np.kron(m0, I)\n",
    "            m1 = np.kron(m1, U)\n",
    "        else:\n",
    "            m0 = np.kron(m0, I)\n",
    "            m1 = np.kron(m1, I)\n",
    "    return m0 + m1"
   ]
  },
  {
   "cell_type": "code",
   "execution_count": 4,
   "metadata": {},
   "outputs": [],
   "source": [
    "def label2channel(label, width):\n",
    "    if(label[0][0] == 'c'):\n",
    "        # controlled operation\n",
    "        op = label[0]\n",
    "        if(op == 'cx'):\n",
    "            g = SigmaX()\n",
    "        elif(op == 'cy'):\n",
    "            g = SigmaY()\n",
    "        elif(op == 'cz'):\n",
    "            g = SigmaZ()\n",
    "        else:\n",
    "            raise ValueError(f\"tchar {op} not in dictionary\")\n",
    "        U = embedded_controlledU(label[1], label[2], width, g)\n",
    "    else:\n",
    "        # 1-qubit unitary assumed\n",
    "        U = embedded_1qubit(label, width)\n",
    "    return Channel([U], rep='kraus')"
   ]
  },
  {
   "cell_type": "code",
   "execution_count": 5,
   "metadata": {},
   "outputs": [],
   "source": [
    "def layer2channel(layer, width):\n",
    "    if len(layer) > 0: \n",
    "        chnl = label2channel(layer[0], width)\n",
    "        if(len(layer) > 1):\n",
    "            for c in layer[1:]:\n",
    "                chnl = compose(label2channel(c, width), chnl)\n",
    "        return chnl"
   ]
  },
  {
   "cell_type": "code",
   "execution_count": 6,
   "metadata": {},
   "outputs": [],
   "source": [
    "class Circuit():\n",
    "    def __init__(self, width, layers=None):\n",
    "        self._width = width\n",
    "        self._layers = layers\n",
    "    def get_layer_channel(self, i):\n",
    "        \"\"\"Get the ith layer channel class\"\"\"\n",
    "        if (i > len(self._layers) - 1):\n",
    "            raise ValueError(\"requested layer exceeds numbers of layers in circuit\")\n",
    "        return(layer2channel(self._layers[i], self._width))\n",
    "    def get_width(self):\n",
    "        return self._width\n",
    "    def get_depth(self):\n",
    "        return len(self._layers)\n",
    "    def get_layer(self, idx):\n",
    "        return self._layers[idx]"
   ]
  },
  {
   "cell_type": "code",
   "execution_count": 7,
   "metadata": {},
   "outputs": [],
   "source": [
    "def paint_X(image, bit, layer_idx, tileDims, gateRatio):\n",
    "    \"\"\"For now, let's just paint a black box\n",
    "    we'll specialize this function to paint specific gates\n",
    "    in our gate set\n",
    "    \"\"\"\n",
    "    draw = ImageDraw.Draw(image)\n",
    "    dimX = tileDims[0]\n",
    "    dimY = tileDims[1]\n",
    "    dims = [((layer_idx+1-gateRatio)*dimX, (bit+0.5-gateRatio)*dimY), \n",
    "            ((layer_idx+1+gateRatio)*dimX, (bit+0.5+gateRatio)*dimY)]\n",
    "    draw.rectangle(dims, fill='black')\n",
    "\n",
    "def paint_controlledU(image, cbit, tbit, layer_idx, tileDims, gateRatio):\n",
    "    \"\"\"\n",
    "    just paints a black box and circle for now\n",
    "    \"\"\"\n",
    "    draw = ImageDraw.Draw(image)\n",
    "    dimX = tileDims[0]\n",
    "    dimY = tileDims[1]\n",
    "    dims = [((layer_idx+1-gateRatio)*dimX, (tbit+0.5-gateRatio)*dimY), \n",
    "            ((layer_idx+1+gateRatio)*dimX, (tbit+0.5+gateRatio)*dimY)]\n",
    "    draw.rectangle(dims, fill='black')\n",
    "    dims = [((layer_idx+1-gateRatio)*dimX, (cbit+0.5-gateRatio)*dimY), \n",
    "            ((layer_idx+1+gateRatio)*dimX, (cbit+0.5+gateRatio)*dimY)]\n",
    "    draw.ellipse(dims, fill='black')\n",
    "    \n",
    "def paint_gates(image, layer, idx, tileDims, gateRatio=1/4):\n",
    "    \"\"\"Paint the gates\"\"\"\n",
    "    for lbl in layer:\n",
    "        # this will become a switch-type interface \n",
    "        if lbl[0][0] == 'c':\n",
    "            paint_controlledU(image, lbl[1], lbl[2], idx, tileDims, gateRatio)\n",
    "        else:\n",
    "            paint_X(image, lbl[1], idx, tileDims, gateRatio)"
   ]
  },
  {
   "cell_type": "code",
   "execution_count": 8,
   "metadata": {},
   "outputs": [],
   "source": [
    "def local_bloch(state, subsystem, qubits):\n",
    "    dims = [2 for _ in range(qubits)]\n",
    "    traced = [j for j in range(qubits) if j != subsystem]\n",
    "    rho = TrX(state, traced, dims)\n",
    "    return [np.trace(rho@SigmaX()), np.trace(rho@SigmaY()), np.trace(rho@SigmaZ())]\n",
    "\n",
    "class Painter():\n",
    "    def __init__(self, tileDims=(50,50), wireRatio=1/4):\n",
    "        self._tileDims = tileDims\n",
    "        self._wireRatio = wireRatio\n",
    "    def paint(self, circ, filename=\"image_out.png\"):\n",
    "        \"\"\"Paint the circuit\"\"\"\n",
    "        # imput params\n",
    "        qbits = circ.get_width()\n",
    "        depth = circ.get_depth()\n",
    "        tileX = self._tileDims[0]\n",
    "        tileY = self._tileDims[1]\n",
    "        wireRatio = self._wireRatio\n",
    "        rho = Register(qbits).mat()\n",
    "        \n",
    "        # [1] Allocate image \n",
    "        image = Image.new(\"RGBA\", (tileX*(depth+2), tileY*qbits), (0, 0, 0, 0))\n",
    "        draw = ImageDraw.Draw(image)\n",
    "        \n",
    "        # paint initial layer of tiles\n",
    "        for q in range(qbits):\n",
    "            xyz = local_bloch(rho, q, qbits)\n",
    "            \n",
    "            r = int(255*(1+xyz[0])/2)\n",
    "            g = int(255*(1+xyz[1])/2)\n",
    "            b = int(255*(1+xyz[2])/2)\n",
    "            xi = int(0)\n",
    "            yi = int((q+0.5)*tileY)\n",
    "            xf = int(tileX)\n",
    "            yf = int(yi)\n",
    "            points = [(xi, yi), (xf, yf)]\n",
    "            draw.line(points, width=int(tileY*wireRatio), fill=(r, g, b))\n",
    "        \n",
    "        # painter circuit layers\n",
    "        for i in range(depth):\n",
    "            channel = circ.get_layer_channel(i)\n",
    "            rho = channel.apply(rho)\n",
    "            for q in range(qbits):\n",
    "                xyz = local_bloch(rho, q, qbits)\n",
    "                r = int(255*(1+xyz[0])/2)\n",
    "                g = int(255*(1+xyz[1])/2)\n",
    "                b = int(255*(1+xyz[2])/2)\n",
    "                xi = int((i+1)*tileX)\n",
    "                yi = int((q+0.5)*tileY)\n",
    "                xf = int((i+2)*tileX)\n",
    "                yf = int(yi)\n",
    "                points = [(xi, yi), (xf, yf)]\n",
    "                draw.line(points, width=int(tileY*wireRatio), fill=(r, g, b))\n",
    "            layer = circ.get_layer(i)\n",
    "            paint_gates(image, layer, i, (tileX, tileY))\n",
    "        \n",
    "        # paint measurements\n",
    "        \n",
    "        image.save(filename)"
   ]
  },
  {
   "cell_type": "code",
   "execution_count": 9,
   "metadata": {},
   "outputs": [],
   "source": [
    "def random_circuit_XYZHSTCnot_1D(depth, qubits):\n",
    "    layers = []\n",
    "    for l in range(depth):\n",
    "        i = random.randint(1, 7)\n",
    "        if i == 1: # X-type\n",
    "            j = random.randint(0, qubits-1)\n",
    "            layers.append([('x', j)])\n",
    "        elif i == 2: # Y-type\n",
    "            j = random.randint(0, qubits-1)\n",
    "            layers.append([('y', j)])\n",
    "        elif i == 3: # Z-type\n",
    "            j = random.randint(0, qubits-1)\n",
    "            layers.append([('z', j)])\n",
    "        elif i == 4: # H-type\n",
    "            j = random.randint(0, qubits-1)\n",
    "            layers.append([('h', j)])\n",
    "        elif i == 5: # S-type\n",
    "            j = random.randint(0, qubits-1)\n",
    "            layers.append([('s', j)])\n",
    "        elif i == 6: # T-type\n",
    "            j = random.randint(0, qubits-1)\n",
    "            layers.append([('t', j)])\n",
    "        elif i == 7: # Cnot-type (only neighbors)\n",
    "            j = random.randint(0, qubits-1)\n",
    "            k = random.randint(0, qubits-1)\n",
    "            while k == j:\n",
    "                k = random.randint(0, qubits-1)\n",
    "            layers.append([('cx', i, j)])\n",
    "                \n",
    "    return layers"
   ]
  },
  {
   "cell_type": "code",
   "execution_count": 14,
   "metadata": {},
   "outputs": [
    {
     "name": "stdout",
     "output_type": "stream",
     "text": [
      "[[('cx', 7, 2)], [('t', 2)], [('h', 0)], [('x', 1)], [('cx', 7, 3)], [('x', 1)], [('s', 0)]]\n"
     ]
    },
    {
     "name": "stderr",
     "output_type": "stream",
     "text": [
      "<ipython-input-8-5219a8930990>:29: ComplexWarning: Casting complex values to real discards the imaginary part\n",
      "  r = int(255*(1+xyz[0])/2)\n",
      "<ipython-input-8-5219a8930990>:30: ComplexWarning: Casting complex values to real discards the imaginary part\n",
      "  g = int(255*(1+xyz[1])/2)\n",
      "<ipython-input-8-5219a8930990>:31: ComplexWarning: Casting complex values to real discards the imaginary part\n",
      "  b = int(255*(1+xyz[2])/2)\n",
      "<ipython-input-8-5219a8930990>:45: ComplexWarning: Casting complex values to real discards the imaginary part\n",
      "  r = int(255*(1+xyz[0])/2)\n",
      "<ipython-input-8-5219a8930990>:46: ComplexWarning: Casting complex values to real discards the imaginary part\n",
      "  g = int(255*(1+xyz[1])/2)\n",
      "<ipython-input-8-5219a8930990>:47: ComplexWarning: Casting complex values to real discards the imaginary part\n",
      "  b = int(255*(1+xyz[2])/2)\n"
     ]
    }
   ],
   "source": [
    "layers = random_circuit_XYZHSTCnot_1D(7,4)\n",
    "print(layers)\n",
    "circ = Circuit(5, layers)\n",
    "painter = Painter()\n",
    "painter.paint(circ)"
   ]
  },
  {
   "cell_type": "code",
   "execution_count": 21,
   "metadata": {},
   "outputs": [
    {
     "name": "stderr",
     "output_type": "stream",
     "text": [
      "<ipython-input-8-5219a8930990>:29: ComplexWarning: Casting complex values to real discards the imaginary part\n",
      "  r = int(255*(1+xyz[0])/2)\n",
      "<ipython-input-8-5219a8930990>:30: ComplexWarning: Casting complex values to real discards the imaginary part\n",
      "  g = int(255*(1+xyz[1])/2)\n",
      "<ipython-input-8-5219a8930990>:31: ComplexWarning: Casting complex values to real discards the imaginary part\n",
      "  b = int(255*(1+xyz[2])/2)\n",
      "<ipython-input-8-5219a8930990>:45: ComplexWarning: Casting complex values to real discards the imaginary part\n",
      "  r = int(255*(1+xyz[0])/2)\n",
      "<ipython-input-8-5219a8930990>:46: ComplexWarning: Casting complex values to real discards the imaginary part\n",
      "  g = int(255*(1+xyz[1])/2)\n",
      "<ipython-input-8-5219a8930990>:47: ComplexWarning: Casting complex values to real discards the imaginary part\n",
      "  b = int(255*(1+xyz[2])/2)\n"
     ]
    },
    {
     "ename": "IndexError",
     "evalue": "string index out of range",
     "output_type": "error",
     "traceback": [
      "\u001b[0;31m---------------------------------------------------------------------------\u001b[0m",
      "\u001b[0;31mIndexError\u001b[0m                                Traceback (most recent call last)",
      "\u001b[0;32m<ipython-input-21-02e69ad9cfa6>\u001b[0m in \u001b[0;36m<module>\u001b[0;34m\u001b[0m\n\u001b[1;32m      2\u001b[0m \u001b[0mcirc\u001b[0m \u001b[0;34m=\u001b[0m \u001b[0mCircuit\u001b[0m\u001b[0;34m(\u001b[0m\u001b[0;36m3\u001b[0m\u001b[0;34m,\u001b[0m \u001b[0mlayers\u001b[0m\u001b[0;34m)\u001b[0m\u001b[0;34m\u001b[0m\u001b[0;34m\u001b[0m\u001b[0m\n\u001b[1;32m      3\u001b[0m \u001b[0mpainter\u001b[0m \u001b[0;34m=\u001b[0m \u001b[0mPainter\u001b[0m\u001b[0;34m(\u001b[0m\u001b[0;34m)\u001b[0m\u001b[0;34m\u001b[0m\u001b[0;34m\u001b[0m\u001b[0m\n\u001b[0;32m----> 4\u001b[0;31m \u001b[0mpainter\u001b[0m\u001b[0;34m.\u001b[0m\u001b[0mpaint\u001b[0m\u001b[0;34m(\u001b[0m\u001b[0mcirc\u001b[0m\u001b[0;34m)\u001b[0m\u001b[0;34m\u001b[0m\u001b[0;34m\u001b[0m\u001b[0m\n\u001b[0m",
      "\u001b[0;32m<ipython-input-8-5219a8930990>\u001b[0m in \u001b[0;36mpaint\u001b[0;34m(self, circ, filename)\u001b[0m\n\u001b[1;32m     39\u001b[0m         \u001b[0;31m# painter circuit layers\u001b[0m\u001b[0;34m\u001b[0m\u001b[0;34m\u001b[0m\u001b[0;34m\u001b[0m\u001b[0m\n\u001b[1;32m     40\u001b[0m         \u001b[0;32mfor\u001b[0m \u001b[0mi\u001b[0m \u001b[0;32min\u001b[0m \u001b[0mrange\u001b[0m\u001b[0;34m(\u001b[0m\u001b[0mdepth\u001b[0m\u001b[0;34m)\u001b[0m\u001b[0;34m:\u001b[0m\u001b[0;34m\u001b[0m\u001b[0;34m\u001b[0m\u001b[0m\n\u001b[0;32m---> 41\u001b[0;31m             \u001b[0mchannel\u001b[0m \u001b[0;34m=\u001b[0m \u001b[0mcirc\u001b[0m\u001b[0;34m.\u001b[0m\u001b[0mget_layer_channel\u001b[0m\u001b[0;34m(\u001b[0m\u001b[0mi\u001b[0m\u001b[0;34m)\u001b[0m\u001b[0;34m\u001b[0m\u001b[0;34m\u001b[0m\u001b[0m\n\u001b[0m\u001b[1;32m     42\u001b[0m             \u001b[0mrho\u001b[0m \u001b[0;34m=\u001b[0m \u001b[0mchannel\u001b[0m\u001b[0;34m.\u001b[0m\u001b[0mapply\u001b[0m\u001b[0;34m(\u001b[0m\u001b[0mrho\u001b[0m\u001b[0;34m)\u001b[0m\u001b[0;34m\u001b[0m\u001b[0;34m\u001b[0m\u001b[0m\n\u001b[1;32m     43\u001b[0m             \u001b[0;32mfor\u001b[0m \u001b[0mq\u001b[0m \u001b[0;32min\u001b[0m \u001b[0mrange\u001b[0m\u001b[0;34m(\u001b[0m\u001b[0mqbits\u001b[0m\u001b[0;34m)\u001b[0m\u001b[0;34m:\u001b[0m\u001b[0;34m\u001b[0m\u001b[0;34m\u001b[0m\u001b[0m\n",
      "\u001b[0;32m<ipython-input-6-e2c9a05cb431>\u001b[0m in \u001b[0;36mget_layer_channel\u001b[0;34m(self, i)\u001b[0m\n\u001b[1;32m      7\u001b[0m         \u001b[0;32mif\u001b[0m \u001b[0;34m(\u001b[0m\u001b[0mi\u001b[0m \u001b[0;34m>\u001b[0m \u001b[0mlen\u001b[0m\u001b[0;34m(\u001b[0m\u001b[0mself\u001b[0m\u001b[0;34m.\u001b[0m\u001b[0m_layers\u001b[0m\u001b[0;34m)\u001b[0m \u001b[0;34m-\u001b[0m \u001b[0;36m1\u001b[0m\u001b[0;34m)\u001b[0m\u001b[0;34m:\u001b[0m\u001b[0;34m\u001b[0m\u001b[0;34m\u001b[0m\u001b[0m\n\u001b[1;32m      8\u001b[0m             \u001b[0;32mraise\u001b[0m \u001b[0mValueError\u001b[0m\u001b[0;34m(\u001b[0m\u001b[0;34m\"requested layer exceeds numbers of layers in circuit\"\u001b[0m\u001b[0;34m)\u001b[0m\u001b[0;34m\u001b[0m\u001b[0;34m\u001b[0m\u001b[0m\n\u001b[0;32m----> 9\u001b[0;31m         \u001b[0;32mreturn\u001b[0m\u001b[0;34m(\u001b[0m\u001b[0mlayer2channel\u001b[0m\u001b[0;34m(\u001b[0m\u001b[0mself\u001b[0m\u001b[0;34m.\u001b[0m\u001b[0m_layers\u001b[0m\u001b[0;34m[\u001b[0m\u001b[0mi\u001b[0m\u001b[0;34m]\u001b[0m\u001b[0;34m,\u001b[0m \u001b[0mself\u001b[0m\u001b[0;34m.\u001b[0m\u001b[0m_width\u001b[0m\u001b[0;34m)\u001b[0m\u001b[0;34m)\u001b[0m\u001b[0;34m\u001b[0m\u001b[0;34m\u001b[0m\u001b[0m\n\u001b[0m\u001b[1;32m     10\u001b[0m     \u001b[0;32mdef\u001b[0m \u001b[0mget_width\u001b[0m\u001b[0;34m(\u001b[0m\u001b[0mself\u001b[0m\u001b[0;34m)\u001b[0m\u001b[0;34m:\u001b[0m\u001b[0;34m\u001b[0m\u001b[0;34m\u001b[0m\u001b[0m\n\u001b[1;32m     11\u001b[0m         \u001b[0;32mreturn\u001b[0m \u001b[0mself\u001b[0m\u001b[0;34m.\u001b[0m\u001b[0m_width\u001b[0m\u001b[0;34m\u001b[0m\u001b[0;34m\u001b[0m\u001b[0m\n",
      "\u001b[0;32m<ipython-input-5-9fea138eb550>\u001b[0m in \u001b[0;36mlayer2channel\u001b[0;34m(layer, width)\u001b[0m\n\u001b[1;32m      1\u001b[0m \u001b[0;32mdef\u001b[0m \u001b[0mlayer2channel\u001b[0m\u001b[0;34m(\u001b[0m\u001b[0mlayer\u001b[0m\u001b[0;34m,\u001b[0m \u001b[0mwidth\u001b[0m\u001b[0;34m)\u001b[0m\u001b[0;34m:\u001b[0m\u001b[0;34m\u001b[0m\u001b[0;34m\u001b[0m\u001b[0m\n\u001b[1;32m      2\u001b[0m     \u001b[0;32mif\u001b[0m \u001b[0mlen\u001b[0m\u001b[0;34m(\u001b[0m\u001b[0mlayer\u001b[0m\u001b[0;34m)\u001b[0m \u001b[0;34m>\u001b[0m \u001b[0;36m0\u001b[0m\u001b[0;34m:\u001b[0m\u001b[0;34m\u001b[0m\u001b[0;34m\u001b[0m\u001b[0m\n\u001b[0;32m----> 3\u001b[0;31m         \u001b[0mchnl\u001b[0m \u001b[0;34m=\u001b[0m \u001b[0mlabel2channel\u001b[0m\u001b[0;34m(\u001b[0m\u001b[0mlayer\u001b[0m\u001b[0;34m[\u001b[0m\u001b[0;36m0\u001b[0m\u001b[0;34m]\u001b[0m\u001b[0;34m,\u001b[0m \u001b[0mwidth\u001b[0m\u001b[0;34m)\u001b[0m\u001b[0;34m\u001b[0m\u001b[0;34m\u001b[0m\u001b[0m\n\u001b[0m\u001b[1;32m      4\u001b[0m         \u001b[0;32mif\u001b[0m\u001b[0;34m(\u001b[0m\u001b[0mlen\u001b[0m\u001b[0;34m(\u001b[0m\u001b[0mlayer\u001b[0m\u001b[0;34m)\u001b[0m \u001b[0;34m>\u001b[0m \u001b[0;36m1\u001b[0m\u001b[0;34m)\u001b[0m\u001b[0;34m:\u001b[0m\u001b[0;34m\u001b[0m\u001b[0;34m\u001b[0m\u001b[0m\n\u001b[1;32m      5\u001b[0m             \u001b[0;32mfor\u001b[0m \u001b[0mc\u001b[0m \u001b[0;32min\u001b[0m \u001b[0mlayer\u001b[0m\u001b[0;34m[\u001b[0m\u001b[0;36m1\u001b[0m\u001b[0;34m:\u001b[0m\u001b[0;34m]\u001b[0m\u001b[0;34m:\u001b[0m\u001b[0;34m\u001b[0m\u001b[0;34m\u001b[0m\u001b[0m\n",
      "\u001b[0;32m<ipython-input-4-63b5a1bf6792>\u001b[0m in \u001b[0;36mlabel2channel\u001b[0;34m(label, width)\u001b[0m\n\u001b[1;32m     14\u001b[0m     \u001b[0;32melse\u001b[0m\u001b[0;34m:\u001b[0m\u001b[0;34m\u001b[0m\u001b[0;34m\u001b[0m\u001b[0m\n\u001b[1;32m     15\u001b[0m         \u001b[0;31m# 1-qubit unitary assumed\u001b[0m\u001b[0;34m\u001b[0m\u001b[0;34m\u001b[0m\u001b[0;34m\u001b[0m\u001b[0m\n\u001b[0;32m---> 16\u001b[0;31m         \u001b[0mU\u001b[0m \u001b[0;34m=\u001b[0m \u001b[0membedded_1qubit\u001b[0m\u001b[0;34m(\u001b[0m\u001b[0mlabel\u001b[0m\u001b[0;34m,\u001b[0m \u001b[0mwidth\u001b[0m\u001b[0;34m)\u001b[0m\u001b[0;34m\u001b[0m\u001b[0;34m\u001b[0m\u001b[0m\n\u001b[0m\u001b[1;32m     17\u001b[0m     \u001b[0;32mreturn\u001b[0m \u001b[0mChannel\u001b[0m\u001b[0;34m(\u001b[0m\u001b[0;34m[\u001b[0m\u001b[0mU\u001b[0m\u001b[0;34m]\u001b[0m\u001b[0;34m,\u001b[0m \u001b[0mrep\u001b[0m\u001b[0;34m=\u001b[0m\u001b[0;34m'kraus'\u001b[0m\u001b[0;34m)\u001b[0m\u001b[0;34m\u001b[0m\u001b[0;34m\u001b[0m\u001b[0m\n",
      "\u001b[0;32m<ipython-input-2-ab3a6b91729f>\u001b[0m in \u001b[0;36membedded_1qubit\u001b[0;34m(label, width)\u001b[0m\n\u001b[1;32m      2\u001b[0m     \u001b[0;34m\"\"\"channel of embedded 1-qubit gate in circuit of given width\"\"\"\u001b[0m\u001b[0;34m\u001b[0m\u001b[0;34m\u001b[0m\u001b[0m\n\u001b[1;32m      3\u001b[0m     \u001b[0mtstr\u001b[0m \u001b[0;34m=\u001b[0m \u001b[0mlabel\u001b[0m\u001b[0;34m[\u001b[0m\u001b[0;36m0\u001b[0m\u001b[0;34m]\u001b[0m\u001b[0;34m\u001b[0m\u001b[0;34m\u001b[0m\u001b[0m\n\u001b[0;32m----> 4\u001b[0;31m     \u001b[0midx\u001b[0m \u001b[0;34m=\u001b[0m \u001b[0mlabel\u001b[0m\u001b[0;34m[\u001b[0m\u001b[0;36m1\u001b[0m\u001b[0;34m]\u001b[0m\u001b[0;34m\u001b[0m\u001b[0;34m\u001b[0m\u001b[0m\n\u001b[0m\u001b[1;32m      5\u001b[0m     \u001b[0;32mif\u001b[0m \u001b[0mtstr\u001b[0m \u001b[0;34m==\u001b[0m \u001b[0;34m'x'\u001b[0m\u001b[0;34m:\u001b[0m\u001b[0;34m\u001b[0m\u001b[0;34m\u001b[0m\u001b[0m\n\u001b[1;32m      6\u001b[0m         \u001b[0mg\u001b[0m \u001b[0;34m=\u001b[0m \u001b[0mSigmaX\u001b[0m\u001b[0;34m(\u001b[0m\u001b[0;34m)\u001b[0m\u001b[0;34m\u001b[0m\u001b[0;34m\u001b[0m\u001b[0m\n",
      "\u001b[0;31mIndexError\u001b[0m: string index out of range"
     ]
    }
   ],
   "source": [
    "layers = [[('x', 0)], ('y', 1), ('h', 1), ('t', 1)]\n",
    "circ = Circuit(3, layers)\n",
    "painter = Painter()\n",
    "painter.paint(circ)"
   ]
  },
  {
   "cell_type": "code",
   "execution_count": 10,
   "metadata": {},
   "outputs": [],
   "source": []
  },
  {
   "cell_type": "code",
   "execution_count": 22,
   "metadata": {},
   "outputs": [
    {
     "name": "stderr",
     "output_type": "stream",
     "text": [
      "<ipython-input-8-5219a8930990>:29: ComplexWarning: Casting complex values to real discards the imaginary part\n",
      "  r = int(255*(1+xyz[0])/2)\n",
      "<ipython-input-8-5219a8930990>:30: ComplexWarning: Casting complex values to real discards the imaginary part\n",
      "  g = int(255*(1+xyz[1])/2)\n",
      "<ipython-input-8-5219a8930990>:31: ComplexWarning: Casting complex values to real discards the imaginary part\n",
      "  b = int(255*(1+xyz[2])/2)\n",
      "<ipython-input-8-5219a8930990>:45: ComplexWarning: Casting complex values to real discards the imaginary part\n",
      "  r = int(255*(1+xyz[0])/2)\n",
      "<ipython-input-8-5219a8930990>:46: ComplexWarning: Casting complex values to real discards the imaginary part\n",
      "  g = int(255*(1+xyz[1])/2)\n",
      "<ipython-input-8-5219a8930990>:47: ComplexWarning: Casting complex values to real discards the imaginary part\n",
      "  b = int(255*(1+xyz[2])/2)\n"
     ]
    }
   ],
   "source": [
    "C5bitCode = [\n",
    "    [('h', 0)], \n",
    "    [('s', 0)], \n",
    "    [('cz', 0, 1)],\n",
    "    [('cz', 0, 3)],\n",
    "    [('cy', 0, 4)],\n",
    "    [('h', 1)],\n",
    "    [('cz', 1, 2)],\n",
    "    [('cz', 1, 3)],\n",
    "    [('cx', 1, 4)], \n",
    "    [('h', 2)], \n",
    "    [('cz', 2, 0)], \n",
    "    [('cz', 2, 1)], \n",
    "    [('cx', 2, 4)],\n",
    "    [('h', 3)], \n",
    "    [('s', 3)],\n",
    "    [('cz', 3, 0)], \n",
    "    [('cz', 3, 2)], \n",
    "    [('cy', 3, 4)]\n",
    "]\n",
    "circ = Circuit(5, C5bitCode)\n",
    "painter = Painter()\n",
    "painter.paint(circ)"
   ]
  },
  {
   "cell_type": "markdown",
   "metadata": {},
   "source": [
    "## TODO\n",
    "\n",
    "- Labels for gates\n",
    "- Rotations by $\\theta$ about a general axis\n",
    "- Toffoli gate\n",
    "- measurement coloring \n",
    "- coloring the controlled bit on a CNOT (amount of control)\n",
    "- entanglement diagrams (latin square-type things in a measurement basis given by local 1-qubit states)"
   ]
  },
  {
   "cell_type": "markdown",
   "metadata": {},
   "source": [
    "## "
   ]
  }
 ],
 "metadata": {
  "kernelspec": {
   "display_name": "Python 3",
   "language": "python",
   "name": "python3"
  },
  "language_info": {
   "codemirror_mode": {
    "name": "ipython",
    "version": 3
   },
   "file_extension": ".py",
   "mimetype": "text/x-python",
   "name": "python",
   "nbconvert_exporter": "python",
   "pygments_lexer": "ipython3",
   "version": "3.9.2"
  }
 },
 "nbformat": 4,
 "nbformat_minor": 4
}
