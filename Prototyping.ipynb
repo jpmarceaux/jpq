{
 "cells": [
  {
   "cell_type": "markdown",
   "metadata": {},
   "source": [
    "Specify the folder where `jpq/` is installed, and import the library:"
   ]
  },
  {
   "cell_type": "code",
   "execution_count": 1,
   "metadata": {},
   "outputs": [],
   "source": [
    "containing_folder = '/home/kunal/Desktop/'\n",
    "import sys\n",
    "sys.path.insert(0, containing_folder)\n",
    "from jpq import *\n",
    "import numpy as np\n",
    "from PIL import Image, ImageDraw, ImageFont\n",
    "import random"
   ]
  },
  {
   "cell_type": "markdown",
   "metadata": {},
   "source": [
    "# Circuits in color"
   ]
  },
  {
   "cell_type": "markdown",
   "metadata": {},
   "source": [
    "## Embedded qubits"
   ]
  },
  {
   "cell_type": "code",
   "execution_count": 2,
   "metadata": {},
   "outputs": [],
   "source": [
    "KNOWN_GATES = {\n",
    "    'x': SigmaX,\n",
    "    'y': SigmaY,\n",
    "    'z': SigmaZ,\n",
    "    'h': lambda: (1/np.sqrt(2))*np.array([[1, 1], [1, -1]]),\n",
    "    's': lambda: np.array([[1, 0], [0, 1j]]),\n",
    "    't': lambda: np.array([[1, 0], [0, (1+1j)/np.sqrt(2)]])\n",
    "}\n",
    "\n",
    "\n",
    "def embedded_1qubit(label, width):\n",
    "    \"\"\"channel of embedded 1-qubit gate in circuit of given width\"\"\"\n",
    "    tstr = label[0]\n",
    "    idx = label[1]\n",
    "\n",
    "    try:\n",
    "        g = KNOWN_GATES[tstr]()\n",
    "    except KeyError as e:\n",
    "        raise ValueError(f\"tchar '{tstr}' not in dictionary\") from e\n",
    "    \n",
    "    unitary = 1\n",
    "    for w in range(width):\n",
    "        u_i = g if w == idx else np.eye(2, dtype=complex)\n",
    "        unitary = np.kron(unitary, u_i)\n",
    "    return unitary"
   ]
  },
  {
   "cell_type": "code",
   "execution_count": 3,
   "metadata": {},
   "outputs": [],
   "source": [
    "def embedded_controlledU(cbit, tbit, width, U):\n",
    "    \"\"\"\n",
    "    make unitary operation for C_U \n",
    "    [|0><0| o ... o 1] + [|1><1| o ... o U] \n",
    "    \"\"\"\n",
    "    assert U.shape[0] == 2 and U.shape[1] == 2, \\\n",
    "        \"makeCU: dimension mismatch\"\n",
    "    I = np.eye(2, dtype=complex)\n",
    "    \n",
    "    m0 = 1\n",
    "    m1 = 1\n",
    "    for i in range(width):\n",
    "        if i == cbit:\n",
    "            m0 = np.kron(m0, np.array([[1, 0], [0, 0]]))\n",
    "            m1 = np.kron(m1, np.array([[0, 0], [0, 1]]))\n",
    "        elif i == tbit:\n",
    "            m0 = np.kron(m0, I)\n",
    "            m1 = np.kron(m1, U)\n",
    "        else:\n",
    "            m0 = np.kron(m0, I)\n",
    "            m1 = np.kron(m1, I)\n",
    "    return m0 + m1"
   ]
  },
  {
   "cell_type": "markdown",
   "metadata": {},
   "source": [
    "## Converting layers to channels"
   ]
  },
  {
   "cell_type": "code",
   "execution_count": 4,
   "metadata": {},
   "outputs": [],
   "source": [
    "def label2channel(label, width):\n",
    "    if(label[0][0] == 'c'):\n",
    "        # controlled operation\n",
    "        op = label[0]\n",
    "        if(op == 'cx'):\n",
    "            g = SigmaX()\n",
    "        elif(op == 'cy'):\n",
    "            g = SigmaY()\n",
    "        elif(op == 'cz'):\n",
    "            g = SigmaZ()\n",
    "        else:\n",
    "            raise ValueError(f\"tchar {op} not in dictionary\")\n",
    "        U = embedded_controlledU(label[1], label[2], width, g)\n",
    "    else:\n",
    "        # otherwise, 1-qubit unitary assumed\n",
    "        U = embedded_1qubit(label, width)\n",
    "    return Channel([U], rep='kraus')"
   ]
  },
  {
   "cell_type": "code",
   "execution_count": 5,
   "metadata": {},
   "outputs": [],
   "source": [
    "def layer2channel(layer, width):\n",
    "    if len(layer) > 0: \n",
    "        chnl = label2channel(layer[0], width)\n",
    "        if(len(layer) > 1):\n",
    "            for c in layer[1:]:\n",
    "                # TODO i'm not sure this works\n",
    "                chnl = compose(label2channel(c, width), chnl)\n",
    "        return chnl"
   ]
  },
  {
   "cell_type": "markdown",
   "metadata": {},
   "source": [
    "## Circuit class"
   ]
  },
  {
   "cell_type": "code",
   "execution_count": 6,
   "metadata": {},
   "outputs": [],
   "source": [
    "class Circuit():\n",
    "    def __init__(self, width, layers=None):\n",
    "        self._width = width\n",
    "        self._layers = layers\n",
    "\n",
    "    def get_layer_channel(self, i):\n",
    "        \"\"\"Get the ith layer channel class\"\"\"\n",
    "        if (i > len(self._layers) - 1):\n",
    "            raise ValueError(\"requested layer exceeds numbers of layers in circuit\")\n",
    "        return(layer2channel(self._layers[i], self._width))\n",
    "\n",
    "    def get_width(self):\n",
    "        return self._width\n",
    "\n",
    "    def get_depth(self):\n",
    "        return len(self._layers)\n",
    "\n",
    "    def get_layer(self, idx):\n",
    "        return self._layers[idx]"
   ]
  },
  {
   "cell_type": "markdown",
   "metadata": {},
   "source": [
    "## Painting the circuit"
   ]
  },
  {
   "cell_type": "code",
   "execution_count": 7,
   "metadata": {},
   "outputs": [],
   "source": [
    "def paint_X(draw, bit, gate_name, layer_idx, tileDims, gateRatio):\n",
    "    \"\"\"For now, let's just paint a black box\n",
    "    we'll specialize this function to paint specific gates\n",
    "    in our gate set\n",
    "    \"\"\"\n",
    "    dimX = tileDims[0]\n",
    "    dimY = tileDims[1]\n",
    "    dims = [((layer_idx+1-gateRatio)*dimX, (bit+0.5-gateRatio)*dimY), \n",
    "            ((layer_idx+1+gateRatio)*dimX, (bit+0.5+gateRatio)*dimY)]\n",
    "    draw.rectangle(dims, fill='black')\n",
    "    fnt = ImageFont.truetype(\"Pillow/Tests/fonts/FreeMono.ttf\", int(gateRatio*2*dimY))\n",
    "    lenth = draw.textlength(gate_name.upper(), font=fnt) \n",
    "    draw.text(((layer_idx+1)*dimX - lenth/2, dims[0][1]), gate_name.upper(), font=fnt)\n",
    "\n",
    "def paint_controlledU(draw, cbit, tbit, gate_name, layer_idx, tileDims, gateRatio):\n",
    "    \"\"\"\n",
    "    just paints a black box and circle for now\n",
    "    \"\"\"\n",
    "    paint_X(draw, tbit, gate_name[1:], layer_idx, tileDims, gateRatio)\n",
    "    dimX = tileDims[0]\n",
    "    dimY = tileDims[1]\n",
    "    dims = [((layer_idx+1-gateRatio)*dimX, (cbit+0.5-gateRatio)*dimY), \n",
    "            ((layer_idx+1+gateRatio)*dimX, (cbit+0.5+gateRatio)*dimY)]\n",
    "    draw.ellipse(dims, fill='black')\n",
    "    # TODO draw a line connecting them\n",
    "    \n",
    "def paint_gates(image, layer, idx, tileDims, gateRatio=1/4):\n",
    "    \"\"\"Paint the gates\"\"\"\n",
    "    for lbl in layer:\n",
    "        # this will become a switch-type interface \n",
    "        draw = ImageDraw.Draw(image)\n",
    "        if lbl[0][0] == 'c':\n",
    "            paint_controlledU(draw, lbl[1], lbl[2], lbl[0], idx, tileDims, gateRatio)\n",
    "        else:\n",
    "            paint_X(draw, lbl[1], lbl[0], idx, tileDims, gateRatio)"
   ]
  },
  {
   "cell_type": "code",
   "execution_count": 8,
   "metadata": {},
   "outputs": [],
   "source": [
    "def local_bloch(state, subsystem, qubits):\n",
    "    dims = [2 for _ in range(qubits)]\n",
    "    traced = [j for j in range(qubits) if j != subsystem]\n",
    "    rho = TrX(state, traced, dims)\n",
    "    # the trace should be real\n",
    "    return [np.trace(rho@SigmaX()).real, np.trace(rho@SigmaY()).real, np.trace(rho@SigmaZ()).real]"
   ]
  },
  {
   "cell_type": "code",
   "execution_count": 9,
   "metadata": {},
   "outputs": [],
   "source": [
    "class Painter():\n",
    "    def __init__(self, tileDims=(50,50), wireRatio=1/4):\n",
    "        self._tileDims = tileDims\n",
    "        self._wireRatio = wireRatio\n",
    "\n",
    "    def paint(self, circ, filename=None):\n",
    "        \"\"\"Paint the circuit\"\"\"\n",
    "        # imput params\n",
    "        qbits = circ.get_width()\n",
    "        depth = circ.get_depth()\n",
    "        tileX = self._tileDims[0]\n",
    "        tileY = self._tileDims[1]\n",
    "        wireRatio = self._wireRatio\n",
    "        rho = Register(qbits).mat()\n",
    "        \n",
    "        # [1] Allocate image \n",
    "        image = Image.new(\"RGBA\", (tileX*(depth+2), tileY*qbits), (0, 0, 0, 0))\n",
    "        draw = ImageDraw.Draw(image)\n",
    "        \n",
    "        # paint initial layer of tiles\n",
    "        for q in range(qbits):\n",
    "            xyz = local_bloch(rho, q, qbits)\n",
    "            [r,g,b] =  [int(255*(1+xyz[v])/2) for v in range(3)]\n",
    "            xi, yi = int(0), int((q+0.5)*tileY)\n",
    "            xf, yf = int(tileX), int(yi)\n",
    "            draw.line([(xi, yi), (xf, yf)], width=int(tileY*wireRatio), fill=(r, g, b))\n",
    "        \n",
    "        # painter circuit layers\n",
    "        for i in range(depth):\n",
    "            channel = circ.get_layer_channel(i)\n",
    "            rho = channel.apply(rho)\n",
    "            for q in range(qbits):\n",
    "                xyz = local_bloch(rho, q, qbits)\n",
    "                [r,g,b] =  [int(255*(1+xyz[v])/2) for v in range(3)]\n",
    "                xi, yi = int((i+1)*tileX), int((q+0.5)*tileY)\n",
    "                xf, yf = int((i+2)*tileX), int(yi)\n",
    "                draw.line([(xi, yi), (xf, yf)], width=int(tileY*wireRatio), fill=(r, g, b))\n",
    "            layer = circ.get_layer(i)\n",
    "            paint_gates(image, layer, i, (tileX, tileY))\n",
    "        \n",
    "        if filename:\n",
    "            image.save(filename)\n",
    "        return image"
   ]
  },
  {
   "cell_type": "markdown",
   "metadata": {},
   "source": [
    "## Examples"
   ]
  },
  {
   "cell_type": "code",
   "execution_count": 10,
   "metadata": {},
   "outputs": [
    {
     "data": {
      "image/png": "[encoded data removed]",
      "text/plain": [
       "<PIL.Image.Image image mode=RGBA size=180x150 at 0x7F4EAE815E50>"
      ]
     },
     "execution_count": 10,
     "metadata": {},
     "output_type": "execute_result"
    }
   ],
   "source": [
    "layers = [[('x', 0)], [('y', 1)], [('h', 1)], [('t', 1)]]\n",
    "circ = Circuit(3, layers)\n",
    "painter = Painter((30, 50))\n",
    "painter.paint(circ)"
   ]
  },
  {
   "cell_type": "code",
   "execution_count": 11,
   "metadata": {},
   "outputs": [
    {
     "data": {
      "image/png": "[encoded data removed]",
      "text/plain": [
       "<PIL.Image.Image image mode=RGBA size=300x60 at 0x7F4EAE8157F0>"
      ]
     },
     "execution_count": 11,
     "metadata": {},
     "output_type": "execute_result"
    }
   ],
   "source": [
    "layers = [[('h', 0)], [('z', 0)], [('h', 0)], [ ('x', 1)]]\n",
    "circ = Circuit(2, layers)\n",
    "painter = Painter((50, 30))\n",
    "painter.paint(circ)"
   ]
  },
  {
   "cell_type": "code",
   "execution_count": 12,
   "metadata": {},
   "outputs": [
    {
     "data": {
      "image/png": "[encoded data removed]",
      "text/plain": [
       "<PIL.Image.Image image mode=RGBA size=300x100 at 0x7F4EA663F220>"
      ]
     },
     "execution_count": 12,
     "metadata": {},
     "output_type": "execute_result"
    }
   ],
   "source": [
    "layers = [[('cx', 0, 1)], [('z', 0)], [('h', 0)], [ ('x', 1)]]\n",
    "circ = Circuit(2, layers)\n",
    "painter = Painter()\n",
    "painter.paint(circ)"
   ]
  },
  {
   "cell_type": "markdown",
   "metadata": {},
   "source": [
    "### Random Example"
   ]
  },
  {
   "cell_type": "code",
   "execution_count": 13,
   "metadata": {},
   "outputs": [],
   "source": [
    "def random_circuit_XYZHSTCnot_1D(depth, qubits):\n",
    "    layers = []\n",
    "    for l in range(depth):\n",
    "        i = random.randint(1, 7)\n",
    "        if i == 1: # X-type\n",
    "            j = random.randint(0, qubits-1)\n",
    "            layers.append([('x', j)])\n",
    "        elif i == 2: # Y-type\n",
    "            j = random.randint(0, qubits-1)\n",
    "            layers.append([('y', j)])\n",
    "        elif i == 3: # Z-type\n",
    "            j = random.randint(0, qubits-1)\n",
    "            layers.append([('z', j)])\n",
    "        elif i == 4: # H-type\n",
    "            j = random.randint(0, qubits-1)\n",
    "            layers.append([('h', j)])\n",
    "        elif i == 5: # S-type\n",
    "            j = random.randint(0, qubits-1)\n",
    "            layers.append([('s', j)])\n",
    "        elif i == 6: # T-type\n",
    "            j = random.randint(0, qubits-1)\n",
    "            layers.append([('t', j)])\n",
    "        elif i == 7: # Cnot-type (only neighbors)\n",
    "            j = random.randint(0, qubits-1)\n",
    "            k = random.randint(0, qubits-1)\n",
    "            while k == j:\n",
    "                k = random.randint(0, qubits-1)\n",
    "            layers.append([('cx', i, j)])\n",
    "                \n",
    "    return layers"
   ]
  },
  {
   "cell_type": "code",
   "execution_count": 14,
   "metadata": {},
   "outputs": [
    {
     "name": "stdout",
     "output_type": "stream",
     "text": [
      "[[('z', 3)], [('h', 1)], [('h', 3)], [('h', 1)], [('y', 1)], [('t', 3)], [('h', 1)]]\n"
     ]
    },
    {
     "data": {
      "image/png": "[encoded data removed]",
      "text/plain": [
       "<PIL.Image.Image image mode=RGBA size=450x250 at 0x7F4EA663FF70>"
      ]
     },
     "execution_count": 14,
     "metadata": {},
     "output_type": "execute_result"
    }
   ],
   "source": [
    "layers = random_circuit_XYZHSTCnot_1D(7,4)\n",
    "print(layers)\n",
    "circ = Circuit(5, layers)\n",
    "painter = Painter()\n",
    "painter.paint(circ)"
   ]
  },
  {
   "cell_type": "markdown",
   "metadata": {},
   "source": [
    "### 5-bit ECC example"
   ]
  },
  {
   "cell_type": "code",
   "execution_count": 15,
   "metadata": {},
   "outputs": [
    {
     "data": {
      "image/png": "[encoded data removed]",
      "text/plain": [
       "<PIL.Image.Image image mode=RGBA size=1000x250 at 0x7F4EA663F970>"
      ]
     },
     "execution_count": 15,
     "metadata": {},
     "output_type": "execute_result"
    }
   ],
   "source": [
    "C5bitCode = [\n",
    "    [('h', 0)], \n",
    "    [('s', 0)], \n",
    "    [('cz', 0, 1)],\n",
    "    [('cz', 0, 3)],\n",
    "    [('cy', 0, 4)],\n",
    "    [('h', 1)],\n",
    "    [('cz', 1, 2)],\n",
    "    [('cz', 1, 3)],\n",
    "    [('cx', 1, 4)], \n",
    "    [('h', 2)], \n",
    "    [('cz', 2, 0)], \n",
    "    [('cz', 2, 1)], \n",
    "    [('cx', 2, 4)],\n",
    "    [('h', 3)], \n",
    "    [('s', 3)],\n",
    "    [('cz', 3, 0)], \n",
    "    [('cz', 3, 2)], \n",
    "    [('cy', 3, 4)]\n",
    "]\n",
    "circ = Circuit(5, C5bitCode)\n",
    "painter = Painter()\n",
    "painter.paint(circ)"
   ]
  },
  {
   "cell_type": "markdown",
   "metadata": {},
   "source": [
    "## TODO\n",
    "\n",
    "- Labels for gates (DONE 2021-04-01)\n",
    "- Rotations by $\\theta$ about a general axis\n",
    "- Toffoli gate\n",
    "- measurement coloring \n",
    "- coloring the controlled bit on a CNOT (amount of control)\n",
    "- entanglement diagrams (latin square-type things in a measurement basis given by local 1-qubit states)"
   ]
  },
  {
   "cell_type": "markdown",
   "metadata": {},
   "source": [
    "## "
   ]
  }
 ],
 "metadata": {
  "kernelspec": {
   "display_name": "Python 3",
   "language": "python",
   "name": "python3"
  },
  "language_info": {
   "codemirror_mode": {
    "name": "ipython",
    "version": 3
   },
   "file_extension": ".py",
   "mimetype": "text/x-python",
   "name": "python",
   "nbconvert_exporter": "python",
   "pygments_lexer": "ipython3",
   "version": "3.8.8"
  }
 },
 "nbformat": 4,
 "nbformat_minor": 4
}
