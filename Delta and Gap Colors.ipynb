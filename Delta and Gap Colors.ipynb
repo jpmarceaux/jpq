{
 "cells": [
  {
   "cell_type": "code",
   "execution_count": 1,
   "metadata": {},
   "outputs": [
    {
     "name": "stdout",
     "output_type": "stream",
     "text": [
      "Using matplotlib backend: Qt5Agg\n"
     ]
    }
   ],
   "source": [
    "import numpy as np\n",
    "import qutip as qt\n",
    "import matplotlib.pyplot as plt\n",
    "from mpl_toolkits.mplot3d import axes3d\n",
    "from colormath.color_objects import sRGBColor, XYZColor\n",
    "from colormath.color_conversions import convert_color\n",
    "%matplotlib"
   ]
  },
  {
   "cell_type": "code",
   "execution_count": 2,
   "metadata": {},
   "outputs": [
    {
     "name": "stdout",
     "output_type": "stream",
     "text": [
      "(89, 4)\n"
     ]
    }
   ],
   "source": [
    "MF = np.genfromtxt(\"CMF_5nm.csv\", delimiter=',') \n",
    "print(MF.shape)\n",
    "CMF = MF[:, 1:4]"
   ]
  },
  {
   "cell_type": "markdown",
   "metadata": {},
   "source": [
    "# Delta and Gap Colors\n",
    "\n",
    "We convert XYZ to RGB and display"
   ]
  },
  {
   "cell_type": "code",
   "execution_count": 3,
   "metadata": {},
   "outputs": [],
   "source": [
    "# display delta colors\n",
    "fig = plt.figure()\n",
    "ax = fig.gca(projection='3d')\n",
    "for i, O in enumerate(CMF):\n",
    "    C = XYZColor(O[0], O[1], O[2])\n",
    "    crgb = convert_color(C, sRGBColor)\n",
    "    r = crgb.rgb_r\n",
    "    g = crgb.rgb_g\n",
    "    b = crgb.rgb_b\n",
    "    r = r if r > 0 else 0\n",
    "    g = g if g > 0 else 0\n",
    "    b = b if b > 0 else 0\n",
    "    r = r if r < 1 else 1\n",
    "    g = g if g < 1 else 1\n",
    "    b = b if b < 1 else 1\n",
    "    rgb = [r, g, b]\n",
    "    ax.scatter(i, -5, s=400, color=rgb) \n",
    "for i, O in enumerate(CMF):\n",
    "    C = XYZColor(1-O[0], 1-O[1], 1-O[2])\n",
    "    crgb = convert_color(C, sRGBColor)\n",
    "    r = crgb.rgb_r\n",
    "    g = crgb.rgb_g\n",
    "    b = crgb.rgb_b\n",
    "    r = r if r > 0 else 0\n",
    "    g = g if g > 0 else 0\n",
    "    b = b if b > 0 else 0\n",
    "    r = r if r < 1 else 1\n",
    "    g = g if g < 1 else 1\n",
    "    b = b if b < 1 else 1\n",
    "    rgb = [r, g, b]\n",
    "    ax.scatter(i, 5, s=400, color=rgb) \n",
    "plt.show()"
   ]
  },
  {
   "cell_type": "markdown",
   "metadata": {},
   "source": [
    "# delta and gap colors on the color solid\n",
    "\n",
    "Plot the color solid and graph delta and gap colors"
   ]
  },
  {
   "cell_type": "code",
   "execution_count": 4,
   "metadata": {},
   "outputs": [],
   "source": [
    "def bump(I, x0, xf):\n",
    "    out = np.zeros(len(I))\n",
    "    if x0 < xf:\n",
    "        out[x0:xf] = 1\n",
    "    elif x0 > xf:\n",
    "        out[x0:] = 1\n",
    "        out[0:xf] = 1\n",
    "    return out\n",
    "\n",
    "def Optimal(wl1, wl2, cmf, normalized=False):\n",
    "    \"\"\"\n",
    "    Optimal windowing function with wrapping\n",
    "    \"\"\"\n",
    "    X =  np.dot(cmf[:,0], bump(cmf, wl1, wl2))\n",
    "    Y =  np.dot(cmf[:,1], bump(cmf, wl1, wl2))\n",
    "    Z =  np.dot(cmf[:,2], bump(cmf, wl1, wl2))\n",
    "    XYZ = [X, Y, Z]\n",
    "    if normalized:\n",
    "        Norm = sum(CMF)\n",
    "        return (XYZ[0]/Norm[0], XYZ[1]/Norm[1], XYZ[2]/Norm[2])\n",
    "    else:\n",
    "        return (XYZ[0], XYZ[1], XYZ[2])"
   ]
  },
  {
   "cell_type": "code",
   "execution_count": 5,
   "metadata": {},
   "outputs": [],
   "source": [
    "C0 = []\n",
    "C1 = []\n",
    "C2 = []\n",
    "RGB = []\n",
    "fig = plt.figure()\n",
    "ax = fig.gca(projection='3d')\n",
    "ax.set_xlim(sum(CMF[:,0]))\n",
    "ax.set_ylim(sum(CMF[:,1]))\n",
    "ax.set_zlim(sum(CMF[:,2]))\n",
    "L = CMF.shape[0]\n",
    "for i in range(0, L, 1):\n",
    "    for j in range(0, L, 1):\n",
    "        O = Optimal(i, (i+j)%L, CMF)\n",
    "        C0.append( O[0] )\n",
    "        C1.append( O[1] )\n",
    "        C2.append( O[2] )\n",
    "        C = XYZColor(O[0]/sum(CMF)[0], O[1]/sum(CMF)[1], O[2]/sum(CMF)[2])\n",
    "        crgb = convert_color(C, sRGBColor)\n",
    "        r = crgb.rgb_r\n",
    "        g = crgb.rgb_g\n",
    "        b = crgb.rgb_b\n",
    "        r = r if r > 0 else 0\n",
    "        g = g if g > 0 else 0\n",
    "        b = b if b > 0 else 0\n",
    "        r = r if r < 1 else 1\n",
    "        g = g if g < 1 else 1\n",
    "        b = b if b < 1 else 1\n",
    "        rgb = [r, g, b]\n",
    "        RGB.append(rgb)\n",
    "ax.scatter(C0, C1, C2, c=RGB)\n",
    "\n",
    "# line info\n",
    "xvec = np.linspace(0, sum(CMF[:,0]), 100)\n",
    "\n",
    "# plot delta colors and lines\n",
    "C0 = []\n",
    "C1 = []\n",
    "C2 = []\n",
    "RGB = []\n",
    "for O in CMF:\n",
    "    C = XYZColor(O[0], O[1], O[2])\n",
    "    crgb = convert_color(C, sRGBColor)\n",
    "    C0.append( O[0] )\n",
    "    C1.append( O[1] )\n",
    "    C2.append( O[2] )\n",
    "    r = crgb.rgb_r\n",
    "    g = crgb.rgb_g\n",
    "    b = crgb.rgb_b\n",
    "    r = r if r > 0 else 0\n",
    "    g = g if g > 0 else 0\n",
    "    b = b if b > 0 else 0\n",
    "    r = r if r < 1 else 1\n",
    "    g = g if g < 1 else 1\n",
    "    b = b if b < 1 else 1\n",
    "    rgb = [r, g, b]\n",
    "    RGB.append(rgb)\n",
    "    yvec = (O[1]/O[0])*(xvec-O[0]) + O[1]\n",
    "    zvec = (O[2]/O[0])*(xvec-O[0]) + O[2]\n",
    "    ax.plot(xvec, yvec, zvec, color=rgb)\n",
    "    \n",
    "ax.scatter(C0, C1, C2, s=400, c=RGB) \n",
    "# plot gap colors and lines\n",
    "C0 = []\n",
    "C1 = []\n",
    "C2 = []\n",
    "RGB = []\n",
    "for O in CMF:\n",
    "    C = XYZColor(1-O[0], 1-O[1], 1-O[2])\n",
    "    crgb = convert_color(C, sRGBColor)\n",
    "    r = crgb.rgb_r\n",
    "    g = crgb.rgb_g\n",
    "    b = crgb.rgb_b\n",
    "    r = r if r > 0 else 0\n",
    "    g = g if g > 0 else 0\n",
    "    b = b if b > 0 else 0\n",
    "    r = r if r < 1 else 1\n",
    "    g = g if g < 1 else 1\n",
    "    b = b if b < 1 else 1\n",
    "    rgb = [r, g, b]\n",
    "    RGB.append(rgb)\n",
    "    [w1, w2, w3] = sum(CMF)\n",
    "    yvec = (O[1]/O[0])*(xvec-w1) + w2\n",
    "    zvec = (O[2]/O[0])*(xvec-w1) + w3\n",
    "    ax.plot(xvec, yvec, zvec, color=rgb)\n",
    "    O = sum(CMF)-O\n",
    "    C0.append( O[0] )\n",
    "    C1.append( O[1] )\n",
    "    C2.append( O[2] )\n",
    "    \n",
    "ax.scatter(C0, C1, C2, s=400, c=RGB) \n",
    "plt.show()"
   ]
  },
  {
   "cell_type": "code",
   "execution_count": null,
   "metadata": {},
   "outputs": [],
   "source": []
  },
  {
   "cell_type": "code",
   "execution_count": null,
   "metadata": {},
   "outputs": [],
   "source": []
  }
 ],
 "metadata": {
  "kernelspec": {
   "display_name": "Python 3",
   "language": "python",
   "name": "python3"
  },
  "language_info": {
   "codemirror_mode": {
    "name": "ipython",
    "version": 3
   },
   "file_extension": ".py",
   "mimetype": "text/x-python",
   "name": "python",
   "nbconvert_exporter": "python",
   "pygments_lexer": "ipython3",
   "version": "3.9.3"
  }
 },
 "nbformat": 4,
 "nbformat_minor": 4
}
